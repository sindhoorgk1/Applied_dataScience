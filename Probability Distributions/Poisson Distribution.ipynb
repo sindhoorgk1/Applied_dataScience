{
 "cells": [
  {
   "cell_type": "markdown",
   "id": "ed49ea97",
   "metadata": {},
   "source": [
    "The number of calls arriving at a call center follows a Poisson distribution at 10 calls per hour.\n",
    "1. Calculate the probability that the number of calls will be maximum 5.\n",
    "2. Calculate the probability that the number of calls over a 3-hour period will exceed 30."
   ]
  },
  {
   "cell_type": "markdown",
   "id": "5b2a663d",
   "metadata": {},
   "source": [
    "1. Calculate the probability that a maximum of 5 calls will arrive at the call center"
   ]
  },
  {
   "cell_type": "code",
   "execution_count": 2,
   "id": "ab31c4d7",
   "metadata": {},
   "outputs": [
    {
     "data": {
      "text/plain": [
       "0.06708596287903189"
      ]
     },
     "execution_count": 2,
     "metadata": {},
     "output_type": "execute_result"
    }
   ],
   "source": [
    "from scipy import stats\n",
    "stats.poisson.cdf(5, 10)"
   ]
  },
  {
   "cell_type": "markdown",
   "id": "f75772b5",
   "metadata": {},
   "source": [
    "2. Calculate the probability that the number of calls over a 3-hour period will exceed 30"
   ]
  },
  {
   "cell_type": "code",
   "execution_count": 3,
   "id": "38363c66",
   "metadata": {},
   "outputs": [
    {
     "data": {
      "text/plain": [
       "0.45164848742208863"
      ]
     },
     "execution_count": 3,
     "metadata": {},
     "output_type": "execute_result"
    }
   ],
   "source": [
    "1 - stats.poisson.cdf(30, 30)"
   ]
  },
  {
   "cell_type": "code",
   "execution_count": 11,
   "id": "306891a6",
   "metadata": {},
   "outputs": [
    {
     "data": {
      "text/plain": [
       "Text(0.5, 0, 'Number of Calls Received')"
      ]
     },
     "execution_count": 11,
     "metadata": {},
     "output_type": "execute_result"
    },
    {
     "data": {
      "image/png": "[encoded data removed]",
      "text/plain": [
       "<Figure size 432x288 with 1 Axes>"
      ]
     },
     "metadata": {
      "needs_background": "light"
     },
     "output_type": "display_data"
    }
   ],
   "source": [
    "import pandas as pd\n",
    "import seaborn as sns\n",
    "import matplotlib.pyplot as plt\n",
    "# Range(0,30) returns all values from 0 to 30 (excluding 30)\n",
    "pmf_df = pd.DataFrame({'success': range(0,30), 'pmf': list(stats.\n",
    "poisson.pmf(range(0,30), 10))})\n",
    "# Creating a barplot with number of calls as x and pmf as y\n",
    "sns.barplot(x = pmf_df.success, y = pmf_df.pmf)\n",
    "plt.xlabel('Number of Calls Received')"
   ]
  },
  {
   "cell_type": "code",
   "execution_count": null,
   "id": "4e0f674b",
   "metadata": {},
   "outputs": [],
   "source": []
  }
 ],
 "metadata": {
  "kernelspec": {
   "display_name": "Python 3",
   "language": "python",
   "name": "python3"
  },
  "language_info": {
   "codemirror_mode": {
    "name": "ipython",
    "version": 3
   },
   "file_extension": ".py",
   "mimetype": "text/x-python",
   "name": "python",
   "nbconvert_exporter": "python",
   "pygments_lexer": "ipython3",
   "version": "3.8.8"
  }
 },
 "nbformat": 4,
 "nbformat_minor": 5
}
