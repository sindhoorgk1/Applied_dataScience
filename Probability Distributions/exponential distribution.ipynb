{
 "cells": [
  {
   "cell_type": "markdown",
   "id": "83cafe0d",
   "metadata": {},
   "source": [
    "# Exponential Distribution"
   ]
  },
  {
   "cell_type": "markdown",
   "id": "53749dd9",
   "metadata": {},
   "source": [
    "Exponential distribution is a single parameter continuous distribution that is traditionally used for\n",
    "modeling time-to-failure of electronic components."
   ]
  },
  {
   "attachments": {
    "image.png": {
     "image/png": "[encoded data removed]"
    }
   },
   "cell_type": "markdown",
   "id": "53b160c2",
   "metadata": {},
   "source": [
    "![image.png](attachment:image.png)"
   ]
  },
  {
   "cell_type": "markdown",
   "id": "e32c0305",
   "metadata": {},
   "source": [
    "1. The parameter lambda is the scale parameter and represents the rate of occurrence of the event.\n",
    "2. Mean of exponential distribution is given by 1/lambda."
   ]
  },
  {
   "cell_type": "markdown",
   "id": "fa394143",
   "metadata": {},
   "source": [
    "The time-to-failure of an avionic system follows an exponential distribution with a mean time between\n",
    "failures (MTBF) of 1000 hours. Calculate\n",
    "1. The probability that the system will fail before 1000 hours.\n",
    "2. The probability that it will not fail up to 2000 hours.\n",
    "3. The time by which 10% of the system will fail (i.e., calculate P10 life)"
   ]
  },
  {
   "cell_type": "markdown",
   "id": "170c6d21",
   "metadata": {},
   "source": [
    "1. Calculate the probability that the system will fail before 1000 hours."
   ]
  },
  {
   "cell_type": "code",
   "execution_count": 2,
   "id": "3d866eeb",
   "metadata": {},
   "outputs": [
    {
     "data": {
      "text/plain": [
       "0.6321201909489326"
      ]
     },
     "execution_count": 2,
     "metadata": {},
     "output_type": "execute_result"
    }
   ],
   "source": [
    "from scipy import stats\n",
    "stats.expon.cdf(1000,loc = 1/1000,scale = 1000)"
   ]
  },
  {
   "cell_type": "markdown",
   "id": "97282e72",
   "metadata": {},
   "source": [
    "2. Calculate the probability that it will not fail up to 2000 hours."
   ]
  },
  {
   "cell_type": "code",
   "execution_count": 3,
   "id": "b34495f8",
   "metadata": {},
   "outputs": [
    {
     "data": {
      "text/plain": [
       "0.13533541857196352"
      ]
     },
     "execution_count": 3,
     "metadata": {},
     "output_type": "execute_result"
    }
   ],
   "source": [
    "1 - stats.expon.cdf(2000, loc = 1/1000, scale = 1000)"
   ]
  },
  {
   "cell_type": "markdown",
   "id": "7e0d74b6",
   "metadata": {},
   "source": [
    "3. Calculate the time by which 10% of the system will fail (i.e., calculate P10 life)."
   ]
  },
  {
   "cell_type": "code",
   "execution_count": 4,
   "id": "f1cf5d58",
   "metadata": {},
   "outputs": [
    {
     "data": {
      "text/plain": [
       "105.36151565782632"
      ]
     },
     "execution_count": 4,
     "metadata": {},
     "output_type": "execute_result"
    }
   ],
   "source": [
    "stats.expon.ppf(.1,loc = 1/1000,scale = 1000)"
   ]
  },
  {
   "cell_type": "code",
   "execution_count": 7,
   "id": "f4c94945",
   "metadata": {},
   "outputs": [
    {
     "data": {
      "image/png": "[encoded data removed]",
      "text/plain": [
       "<Figure size 720x288 with 1 Axes>"
      ]
     },
     "metadata": {
      "needs_background": "light"
     },
     "output_type": "display_data"
    }
   ],
   "source": [
    "import pandas as pd\n",
    "import seaborn as sns\n",
    "import matplotlib.pyplot as plt\n",
    "pdf_df = pd.DataFrame({'success': range(0,5000, 100),'pdf':list(stats.expon.pdf(range(0, 5000, 100),\n",
    "loc = 1/1000,\n",
    "scale = 1000))})\n",
    "plt.figure(figsize=(10,4))\n",
    "sns.barplot(x = pdf_df.success, y = pdf_df.pdf)\n",
    "plt.xticks(rotation=90);\n",
    "plt.xlabel('Time to failure');"
   ]
  },
  {
   "cell_type": "code",
   "execution_count": null,
   "id": "4fbf4676",
   "metadata": {},
   "outputs": [],
   "source": []
  }
 ],
 "metadata": {
  "kernelspec": {
   "display_name": "Python 3",
   "language": "python",
   "name": "python3"
  },
  "language_info": {
   "codemirror_mode": {
    "name": "ipython",
    "version": 3
   },
   "file_extension": ".py",
   "mimetype": "text/x-python",
   "name": "python",
   "nbconvert_exporter": "python",
   "pygments_lexer": "ipython3",
   "version": "3.8.8"
  }
 },
 "nbformat": 4,
 "nbformat_minor": 5
}
