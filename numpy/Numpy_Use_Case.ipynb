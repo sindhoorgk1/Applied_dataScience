{
 "cells": [
  {
   "cell_type": "code",
   "execution_count": 3,
   "metadata": {},
   "outputs": [],
   "source": [
    "import warnings\n",
    "import numpy as np\n",
    "warnings.filterwarnings('ignore')"
   ]
  },
  {
   "cell_type": "code",
   "execution_count": 4,
   "metadata": {},
   "outputs": [],
   "source": [
    "np.set_printoptions(threshold = 100)"
   ]
  },
  {
   "cell_type": "code",
   "execution_count": 6,
   "metadata": {},
   "outputs": [
    {
     "data": {
      "text/plain": [
       "'1.19.2'"
      ]
     },
     "execution_count": 6,
     "metadata": {},
     "output_type": "execute_result"
    }
   ],
   "source": [
    "# 0. Numpy version\n",
    "\n",
    "np.__version__\n"
   ]
  },
  {
   "cell_type": "code",
   "execution_count": 7,
   "metadata": {},
   "outputs": [
    {
     "name": "stdout",
     "output_type": "stream",
     "text": [
      "[[  701945038  1314907155]\n",
      " [ 1380416951 -2004713262]]\n",
      "(2, 2)\n",
      "4\n"
     ]
    }
   ],
   "source": [
    "# 1. Create an empty array\n",
    "\n",
    "empty_array = np.empty([2, 2], int)\n",
    "\n",
    "print(empty_array)\n",
    "\n",
    "print(empty_array.shape)\n",
    "\n",
    "print(empty_array.size)"
   ]
  },
  {
   "cell_type": "code",
   "execution_count": 8,
   "metadata": {},
   "outputs": [
    {
     "name": "stdout",
     "output_type": "stream",
     "text": [
      "[]  : Empty\n",
      "[1 2]  : Non Empty\n"
     ]
    }
   ],
   "source": [
    "# 2. Check whether the array is empty\n",
    "\n",
    "a = np.array([])\n",
    "b = np.array([1, 2])\n",
    "\n",
    "def check_empty(a):\n",
    "    if a.size == 0:\n",
    "        print(a, ' : Empty')\n",
    "    else:\n",
    "        print(b, ' : Non Empty')\n",
    "        \n",
    "check_empty(a)\n",
    "check_empty(b)"
   ]
  },
  {
   "cell_type": "code",
   "execution_count": 9,
   "metadata": {},
   "outputs": [
    {
     "name": "stdout",
     "output_type": "stream",
     "text": [
      "[] , elements_count :  0\n",
      "[1 2] , elements_count :  2\n"
     ]
    }
   ],
   "source": [
    "# 3. Check elements count\n",
    "\n",
    "c = np.array([])\n",
    "d = np.array([1, 2])\n",
    "\n",
    "def get_elements(c_array):\n",
    "    return c_array.ndim and c_array.size\n",
    "        \n",
    "print(c, ', elements_count : ', get_elements(c))\n",
    "print(d, ', elements_count : ', get_elements(d))"
   ]
  },
  {
   "cell_type": "code",
   "execution_count": 10,
   "metadata": {},
   "outputs": [
    {
     "name": "stdout",
     "output_type": "stream",
     "text": [
      "[ 4  5  6  7  8  9 10 11]\n",
      "[ 4  5  6  7  8  9 10 11] .shape :  (8,)\n"
     ]
    }
   ],
   "source": [
    "# 4. Arrange numpy between numbers\n",
    "\n",
    "a = np.arange(4, 12)\n",
    "\n",
    "print(a)\n",
    "print(a, '.shape : ', a.shape)"
   ]
  },
  {
   "cell_type": "code",
   "execution_count": 11,
   "metadata": {},
   "outputs": [
    {
     "name": "stdout",
     "output_type": "stream",
     "text": [
      "[12 15 18 21 24 27]\n",
      "[12 15 18 21 24 27] .shape :  (6,)\n"
     ]
    }
   ],
   "source": [
    "# 5. Arrange numpy between numbers with intervals\n",
    "\n",
    "c = np.arange(12, 30, 3)\n",
    "\n",
    "print(c)\n",
    "print(c, '.shape : ', c.shape)"
   ]
  },
  {
   "cell_type": "code",
   "execution_count": 12,
   "metadata": {},
   "outputs": [
    {
     "name": "stdout",
     "output_type": "stream",
     "text": [
      "[12 15 18 21 24 27]\n",
      "[12 15 18 21 24 27] .shape :  (6,)\n",
      "\n",
      "After reshaping : \n",
      "[[12 15 18]\n",
      " [21 24 27]]\n",
      "[[12 15 18]\n",
      " [21 24 27]] .shape :  (2, 3)\n"
     ]
    }
   ],
   "source": [
    "# 6. Array reshape\n",
    "\n",
    "c = np.arange(12, 30, 3)\n",
    "d = c.reshape(2, 3)\n",
    "\n",
    "print(c)\n",
    "print(c, '.shape : ', c.shape)\n",
    "print('\\nAfter reshaping : ')\n",
    "print(d)\n",
    "print(d, '.shape : ', d.shape)"
   ]
  },
  {
   "cell_type": "code",
   "execution_count": 13,
   "metadata": {},
   "outputs": [
    {
     "name": "stdout",
     "output_type": "stream",
     "text": [
      "[9 4 7 9 2]\n"
     ]
    }
   ],
   "source": [
    "# 7. Create a numpy with random integers\n",
    "\n",
    "a = np.random.randint(10, size = 5)\n",
    "\n",
    "print(a)"
   ]
  },
  {
   "cell_type": "code",
   "execution_count": 14,
   "metadata": {},
   "outputs": [
    {
     "name": "stdout",
     "output_type": "stream",
     "text": [
      "[[5 0 7]\n",
      " [5 8 0]]\n",
      "[[5 0 7]\n",
      " [5 8 0]] .shape :  (2, 3)\n",
      "datatype :  int32\n"
     ]
    }
   ],
   "source": [
    "# 8. Create a numpy with random integers and size\n",
    "\n",
    "a = np.random.randint(10, size = (2, 3))\n",
    "\n",
    "print(a)\n",
    "print(a, '.shape : ', a.shape)\n",
    "print('datatype : ', a.dtype)"
   ]
  },
  {
   "cell_type": "code",
   "execution_count": 15,
   "metadata": {},
   "outputs": [
    {
     "name": "stdout",
     "output_type": "stream",
     "text": [
      "['Toronto' 'Montreal' 'New York']\n",
      "<U8\n"
     ]
    }
   ],
   "source": [
    "# 9. Array of strings\n",
    "\n",
    "a = np.array(('Toronto','Montreal','New York'))\n",
    "print(a)\n",
    "print(a.dtype)"
   ]
  },
  {
   "cell_type": "code",
   "execution_count": 16,
   "metadata": {},
   "outputs": [
    {
     "name": "stdout",
     "output_type": "stream",
     "text": [
      "['Toronto' 'Montreal']\n",
      "<U8\n"
     ]
    }
   ],
   "source": [
    "# 10. Numpy array with strings and explicit dtype\n",
    "\n",
    "x = np.array(['Toronto', 'Montreal'], dtype=str)\n",
    "\n",
    "print(x)\n",
    "print(x.dtype)"
   ]
  },
  {
   "cell_type": "code",
   "execution_count": 17,
   "metadata": {},
   "outputs": [
    {
     "name": "stdout",
     "output_type": "stream",
     "text": [
      "Before setting print options : \n",
      "[   0    1    2 ... 9997 9998 9999]\n"
     ]
    }
   ],
   "source": [
    "# 11. Print without truncation\n",
    "\n",
    "x = np.arange(10000)\n",
    "\n",
    "print('Before setting print options : ')\n",
    "print(x) # this will print with the truncation\n",
    "\n",
    "# set\n",
    "import sys\n",
    "# np.set_printoptions(threshold = sys.maxsize)\n",
    "\n",
    "# print('\\nAfter setting print options : ')\n",
    "# print(a) # this will print everything without truncation"
   ]
  },
  {
   "cell_type": "code",
   "execution_count": 19,
   "metadata": {},
   "outputs": [
    {
     "name": "stdout",
     "output_type": "stream",
     "text": [
      "[[1 2 3]\n",
      " [4 5 6]]\n"
     ]
    }
   ],
   "source": [
    "a = np.asarray([ [1,2,3], [4,5,6]])\n",
    "print(a)\n",
    "np.savetxt(\"abc.csv\", a, delimiter=\",\") # this will save the numpy to csv file"
   ]
  },
  {
   "cell_type": "code",
   "execution_count": 20,
   "metadata": {},
   "outputs": [
    {
     "name": "stdout",
     "output_type": "stream",
     "text": [
      "Numpy array:\n",
      "[[1 2]\n",
      " [3 4]\n",
      " [5 6]]\n",
      "\n",
      "x[:,0]:\n",
      "[1 3 5]\n",
      "\n",
      "x[:, 1]:\n",
      "[2 4 6]\n",
      "\n",
      "x[1,:]:\n",
      "[3 4]\n"
     ]
    }
   ],
   "source": [
    "# 13. Get the nth column of an array\n",
    "\n",
    "x = np.array([[1, 2], [3, 4], [5, 6]])\n",
    "\n",
    "print('Numpy array:')\n",
    "print(x)\n",
    "\n",
    "y = x[:,0]\n",
    "print('\\nx[:,0]:')\n",
    "print(y)\n",
    "\n",
    "z = x[:, 1]\n",
    "print('\\nx[:, 1]:')\n",
    "print(z)\n",
    "\n",
    "a = x[1,:]\n",
    "print('\\nx[1,:]:')\n",
    "print(a)"
   ]
  },
  {
   "cell_type": "code",
   "execution_count": 22,
   "metadata": {},
   "outputs": [
    {
     "name": "stdout",
     "output_type": "stream",
     "text": [
      "Original Numpy Array:\n",
      "[[ 1  2  3  4]\n",
      " [ 5  6  7  8]\n",
      " [10 11 12 21]]\n",
      "original shape:  (3, 4)\n",
      "\n",
      "np.reshape(a, -1):\n",
      "[[ 1  2  3  4  5  6  7  8 10 11 12 21]]\n",
      "new shape:  (1, 12)\n",
      "\n",
      "np.reshape(a, (1, -1)):\n",
      "[[ 1  2  3  4  5  6  7  8 10 11 12 21]]\n",
      "new shape:  (1, 12)\n",
      "\n",
      "np.reshape(a, (2, -1)):\n",
      "[[ 1  2  3  4  5  6]\n",
      " [ 7  8 10 11 12 21]]\n",
      "new shape:  (2, 6)\n",
      "\n",
      "np.reshape(a, (3, -1)):\n",
      "[[ 1  2  3  4]\n",
      " [ 5  6  7  8]\n",
      " [10 11 12 21]]\n",
      "new shape:  (3, 4)\n",
      "\n",
      "np.reshape(a, (4, -1)):\n",
      "[[ 1  2  3]\n",
      " [ 4  5  6]\n",
      " [ 7  8 10]\n",
      " [11 12 21]]\n",
      "new shape:  (4, 3)\n"
     ]
    }
   ],
   "source": [
    "#  Reshape with -1 (lazy option)\n",
    "\n",
    "a = np.matrix([[1, 2, 3, 4], [5, 6, 7, 8], [10, 11, 12, 21]])\n",
    "print('Original Numpy Array:')\n",
    "print(a)\n",
    "print('original shape: ', a.shape)\n",
    "\n",
    "c = np.reshape(a, -1)\n",
    "print('\\nnp.reshape(a, -1):')\n",
    "print(c)\n",
    "print('new shape: ', c.shape)\n",
    "\n",
    "d = np.reshape(a, (1, -1))\n",
    "print('\\nnp.reshape(a, (1, -1)):')\n",
    "print(d)\n",
    "print('new shape: ', d.shape)\n",
    "\n",
    "e = np.reshape(a, (2, -1))\n",
    "print('\\nnp.reshape(a, (2, -1)):')\n",
    "print(e)\n",
    "print('new shape: ', e.shape)\n",
    "\n",
    "f = np.reshape(a, (3, -1))\n",
    "print('\\nnp.reshape(a, (3, -1)):')\n",
    "print(f)\n",
    "print('new shape: ', f.shape)\n",
    "\n",
    "g = np.reshape(a, (4, -1))\n",
    "print('\\nnp.reshape(a, (4, -1)):')\n",
    "print(g)\n",
    "print('new shape: ', g.shape)"
   ]
  },
  {
   "cell_type": "code",
   "execution_count": 23,
   "metadata": {},
   "outputs": [
    {
     "name": "stdout",
     "output_type": "stream",
     "text": [
      "Original Array:\n",
      "[0.63347121 0.29655315 0.03073352 0.42947041 0.96138896 0.68553294\n",
      " 0.20799756 0.24593038 0.96198513 0.58234347]\n",
      "\n",
      "After setting presicion:\n",
      "[0.63 0.3  0.03 0.43 0.96 0.69 0.21 0.25 0.96 0.58]\n"
     ]
    }
   ],
   "source": [
    "#  Numpy with precision\n",
    "\n",
    "x = np.random.random(10)\n",
    "\n",
    "print('Original Array:')\n",
    "print(x)\n",
    "\n",
    "print('\\nAfter setting presicion:')\n",
    "np.set_printoptions(precision = 2)\n",
    "print(x)\n",
    "\n",
    "# resetting precision to default (8)\n",
    "np.set_printoptions(precision = 8)"
   ]
  },
  {
   "cell_type": "code",
   "execution_count": 25,
   "metadata": {},
   "outputs": [
    {
     "name": "stdout",
     "output_type": "stream",
     "text": [
      "randint  : \n",
      "[[4 7 6]\n",
      " [1 6 7]\n",
      " [0 6 6]]\n"
     ]
    }
   ],
   "source": [
    "#randint\n",
    "a = np.random.randint(0, 10, (3,3))\n",
    "print('randint  : ')\n",
    "print(a)\n",
    "\n"
   ]
  },
  {
   "cell_type": "code",
   "execution_count": 26,
   "metadata": {},
   "outputs": [
    {
     "name": "stdout",
     "output_type": "stream",
     "text": [
      "Before Inverse : \n",
      "[[2 3]\n",
      " [4 5]]\n",
      "After Inverse : \n",
      "[[-2.5  1.5]\n",
      " [ 2.  -1. ]]\n"
     ]
    }
   ],
   "source": [
    "#inverse\n",
    "b = np.array([[2,3],[4,5]])\n",
    "print('Before Inverse : ')\n",
    "print(b)\n",
    "\n",
    "c = np.linalg.inv(b)\n",
    "print('After Inverse : ')\n",
    "print(c)"
   ]
  },
  {
   "cell_type": "code",
   "execution_count": 27,
   "metadata": {},
   "outputs": [
    {
     "name": "stdout",
     "output_type": "stream",
     "text": [
      "[[ 0  1  2  3]\n",
      " [ 4  5  6  7]\n",
      " [ 8  9 10 11]]\n",
      "[[ True  True  True  True]\n",
      " [ True  True False False]\n",
      " [False False False False]]\n"
     ]
    }
   ],
   "source": [
    "#Numpy compare\n",
    "\n",
    "a = np.arange(12).reshape((3, 4))\n",
    "print(a)\n",
    "\n",
    "a_bool = a < 6\n",
    "print(a_bool)\n"
   ]
  },
  {
   "cell_type": "code",
   "execution_count": 28,
   "metadata": {},
   "outputs": [
    {
     "name": "stdout",
     "output_type": "stream",
     "text": [
      "Before : \n",
      "[[0 1]\n",
      " [2 3]]\n",
      "\n",
      "After : \n",
      "[[2 3]\n",
      " [0 1]]\n"
     ]
    }
   ],
   "source": [
    "# flipup = flip ud = up / down\n",
    "\n",
    "a = np.arange(4).reshape(2, 2)\n",
    "print('Before : ')\n",
    "print(a)\n",
    "\n",
    "print('\\nAfter : ')\n",
    "b = np.flipud(a)\n",
    "print(b)"
   ]
  },
  {
   "cell_type": "code",
   "execution_count": 29,
   "metadata": {},
   "outputs": [
    {
     "name": "stdout",
     "output_type": "stream",
     "text": [
      "Before : \n",
      "[[0 1 2 3 4]\n",
      " [5 6 7 8 9]]\n",
      "\n",
      "After : \n",
      "[[4 3 2 1 0]\n",
      " [9 8 7 6 5]]\n"
     ]
    }
   ],
   "source": [
    "#Flip a numpy array by using fliplr (horizontally)\n",
    "\n",
    "a = np.arange(10).reshape(2, 5)\n",
    "print('Before : ')\n",
    "print(a)\n",
    "\n",
    "print('\\nAfter : ')\n",
    "b = np.fliplr(a)\n",
    "print(b)"
   ]
  },
  {
   "cell_type": "code",
   "execution_count": 30,
   "metadata": {},
   "outputs": [
    {
     "name": "stdout",
     "output_type": "stream",
     "text": [
      "Before : \n",
      "[[0 1 2 3 4]\n",
      " [5 6 7 8 9]]\n",
      "\n",
      "After : \n",
      "[[9 8 7 6 5]\n",
      " [4 3 2 1 0]]\n"
     ]
    }
   ],
   "source": [
    "a = np.arange(10).reshape(2, 5)\n",
    "print('Before : ')\n",
    "print(a)\n",
    "\n",
    "print('\\nAfter : ')\n",
    "b = np.flip(a)\n",
    "print(b)"
   ]
  },
  {
   "cell_type": "code",
   "execution_count": 31,
   "metadata": {},
   "outputs": [
    {
     "name": "stdout",
     "output_type": "stream",
     "text": [
      "Before : \n",
      "[[0 1 2 3 4]\n",
      " [5 6 7 8 9]]\n",
      "<class 'numpy.ndarray'>\n",
      "<class 'numpy.ndarray'>\n",
      "<class 'numpy.int32'>\n",
      "\n",
      "After : \n",
      "[[0, 1, 2, 3, 4], [5, 6, 7, 8, 9]]\n",
      "<class 'list'>\n",
      "<class 'list'>\n",
      "<class 'int'>\n"
     ]
    }
   ],
   "source": [
    " #Convert numpy array to list\n",
    "\n",
    "a = np.arange(10).reshape(2, 5)\n",
    "print('Before : ')\n",
    "print(a)\n",
    "# print(d.dtype)\n",
    "print(type(a))\n",
    "print(type(a[0]))\n",
    "print(type(a[0][0]))\n",
    "\n",
    "b = a.tolist()\n",
    "print('\\nAfter : ')\n",
    "print(b)\n",
    "print(type(b))\n",
    "print(type(b[0]))\n",
    "print(type(b[0][0]))"
   ]
  },
  {
   "cell_type": "code",
   "execution_count": 32,
   "metadata": {},
   "outputs": [
    {
     "name": "stdout",
     "output_type": "stream",
     "text": [
      "Before : \n",
      "[[0 1 2 3]\n",
      " [4 5 6 7]]\n",
      "\n",
      "After : \n",
      "[[ 0  0  0  0]\n",
      " [20 20 20 20]]\n"
     ]
    }
   ],
   "source": [
    "# numpy where\n",
    "\n",
    "a = np.arange(8).reshape((2, 4))\n",
    "print('Before : ')\n",
    "print(a)\n",
    "\n",
    "print('\\nAfter : ')\n",
    "b = np.where(a < 4, 0, 20)\n",
    "print(b)\n",
    "\n",
    "# Note: it matches, replace with 0, if not replace with 20"
   ]
  },
  {
   "cell_type": "code",
   "execution_count": 33,
   "metadata": {},
   "outputs": [
    {
     "name": "stdout",
     "output_type": "stream",
     "text": [
      "Before : \n",
      "[[0 1 2 3]\n",
      " [4 5 6 7]]\n",
      "\n",
      "After : \n",
      "[[20 20 20 20]\n",
      " [ 0  0  0 20]]\n"
     ]
    }
   ],
   "source": [
    "#Numpy where with multiple conditions\n",
    "\n",
    "a = np.arange(8).reshape((2, 4))\n",
    "print('Before : ')\n",
    "print(a)\n",
    "\n",
    "print('\\nAfter : ')\n",
    "b = np.where((a > 3) & (a < 7), 0, 20)\n",
    "print(b)"
   ]
  },
  {
   "cell_type": "code",
   "execution_count": 34,
   "metadata": {},
   "outputs": [
    {
     "name": "stdout",
     "output_type": "stream",
     "text": [
      "Before : \n",
      "[0, 1, 2]\n",
      "\n",
      "After : \n",
      "[0 1 2]\n",
      "int32\n"
     ]
    }
   ],
   "source": [
    "#List to numpy array\n",
    "\n",
    "a = [0, 1, 2]\n",
    "print('Before : ')\n",
    "print(a)\n",
    "\n",
    "print('\\nAfter : ')\n",
    "b = np.array(a)\n",
    "print(b)\n",
    "print(b.dtype)"
   ]
  },
  {
   "cell_type": "code",
   "execution_count": 35,
   "metadata": {},
   "outputs": [
    {
     "name": "stdout",
     "output_type": "stream",
     "text": [
      "Before : \n",
      "[0, 1, 2]\n",
      "\n",
      "After : \n",
      "[0. 1. 2.]\n",
      "float64\n"
     ]
    }
   ],
   "source": [
    " #List to numpy array with explicit dtype\n",
    "\n",
    "a = [0, 1, 2]\n",
    "print('Before : ')\n",
    "print(a)\n",
    "\n",
    "print('\\nAfter : ')\n",
    "b = np.array(a, dtype = float)\n",
    "print(b)\n",
    "print(b.dtype)"
   ]
  },
  {
   "cell_type": "code",
   "execution_count": 36,
   "metadata": {},
   "outputs": [
    {
     "name": "stdout",
     "output_type": "stream",
     "text": [
      "[9 9 7 2 2 2 3 6 4 8]\n",
      "[6 5 0 2 2 5 3 9 6 5]\n",
      "common values between a and b :  [2 3 6 9]\n"
     ]
    }
   ],
   "source": [
    "a = np.random.randint(0, 10, 10)\n",
    "b = np.random.randint(0, 10, 10)\n",
    "print(a)\n",
    "print(b)\n",
    "print('common values between a and b : ', np.intersect1d(a,b))"
   ]
  },
  {
   "cell_type": "code",
   "execution_count": 37,
   "metadata": {},
   "outputs": [
    {
     "name": "stdout",
     "output_type": "stream",
     "text": [
      "today          :  2021-03-13\n",
      "after 2 days   :  2021-03-15\n",
      "before 3 days  :  2021-03-10\n",
      "after 1 week   :  2021-03-20\n",
      "after 10 weeks :  2021-05-22\n"
     ]
    }
   ],
   "source": [
    "# 41. Get today in numpy and deltas\n",
    "\n",
    "today = np.datetime64('today', 'D')\n",
    "print('today          : ', today)\n",
    "\n",
    "after2days = np.datetime64('today', 'D') + np.timedelta64(2, 'D')\n",
    "print('after 2 days   : ', after2days)\n",
    "\n",
    "before3days = np.datetime64('today', 'D') - np.timedelta64(3, 'D')\n",
    "print('before 3 days  : ', before3days)\n",
    "\n",
    "after1week = np.datetime64('today', 'D') + np.timedelta64(1, 'W')\n",
    "print('after 1 week   : ', after1week)\n",
    "\n",
    "after10weeks = np.datetime64('today', 'D') + np.timedelta64(10, 'W')\n",
    "print('after 10 weeks : ', after10weeks)"
   ]
  },
  {
   "cell_type": "code",
   "execution_count": 38,
   "metadata": {},
   "outputs": [
    {
     "name": "stdout",
     "output_type": "stream",
     "text": [
      "Between two dates : 2020-09-15 and 2020-09-25\n",
      "['2020-09-15' '2020-09-16' '2020-09-17' '2020-09-18' '2020-09-19'\n",
      " '2020-09-20' '2020-09-21' '2020-09-22' '2020-09-23' '2020-09-24']\n",
      "\n",
      "Between 2 months : 2020-09 and 2020-10\n",
      "['2020-09-01' '2020-09-02' '2020-09-03' '2020-09-04' '2020-09-05'\n",
      " '2020-09-06' '2020-09-07' '2020-09-08' '2020-09-09' '2020-09-10'\n",
      " '2020-09-11' '2020-09-12' '2020-09-13' '2020-09-14' '2020-09-15'\n",
      " '2020-09-16' '2020-09-17' '2020-09-18' '2020-09-19' '2020-09-20'\n",
      " '2020-09-21' '2020-09-22' '2020-09-23' '2020-09-24' '2020-09-25'\n",
      " '2020-09-26' '2020-09-27' '2020-09-28' '2020-09-29' '2020-09-30']\n"
     ]
    }
   ],
   "source": [
    "#Between two Dates\n",
    "\n",
    "a = np.arange('2020-09-15', '2020-09-25', dtype='datetime64[D]')\n",
    "print('Between two dates : 2020-09-15 and 2020-09-25')\n",
    "print(a)\n",
    "\n",
    "a = np.arange('2020-09', '2020-10', dtype='datetime64[D]')\n",
    "print('\\nBetween 2 months : 2020-09 and 2020-10')\n",
    "print(a)"
   ]
  },
  {
   "cell_type": "code",
   "execution_count": 40,
   "metadata": {},
   "outputs": [
    {
     "name": "stdout",
     "output_type": "stream",
     "text": [
      "Before : \n",
      "[0.14079638 0.39642563 0.28766697 0.83654587 0.28458214]\n",
      "\n",
      "After : \n",
      "[0.14079638 0.28458214 0.28766697 0.39642563 0.83654587]\n"
     ]
    }
   ],
   "source": [
    "#Random array and sorting\n",
    "\n",
    "a = np.random.random(5)\n",
    "\n",
    "print('Before : ')\n",
    "print(a)\n",
    "\n",
    "a.sort()\n",
    "print('\\nAfter : ')\n",
    "print(a)"
   ]
  },
  {
   "cell_type": "code",
   "execution_count": 41,
   "metadata": {},
   "outputs": [
    {
     "name": "stdout",
     "output_type": "stream",
     "text": [
      "Before : \n",
      "[94 61 72 67 61]\n",
      "\n",
      "After : \n",
      "[61 61 67 72 94]\n"
     ]
    }
   ],
   "source": [
    "a = np.random.randint(50, 100, 5)\n",
    "\n",
    "print('Before : ')\n",
    "print(a)\n",
    "\n",
    "a.sort()\n",
    "print('\\nAfter : ')\n",
    "print(a)"
   ]
  },
  {
   "cell_type": "code",
   "execution_count": 44,
   "metadata": {},
   "outputs": [
    {
     "name": "stdout",
     "output_type": "stream",
     "text": [
      "[10 17 24 31 38 45 52 59]\n",
      "Elemenet near by 23 : 24\n"
     ]
    }
   ],
   "source": [
    "#Find the nearest element in the array\n",
    "\n",
    "a = np.arange(10, 60, 7)\n",
    "print(a)\n",
    "\n",
    "b = 23\n",
    "#flat is iterable object\n",
    "c = a.flat[np.abs(a - b).argmin()]\n",
    "\n",
    "print(f'Elemenet near by {b} : {c}')"
   ]
  },
  {
   "cell_type": "code",
   "execution_count": 45,
   "metadata": {},
   "outputs": [
    {
     "name": "stdout",
     "output_type": "stream",
     "text": [
      "Before : \n",
      "[ 0  1  2  3  4  5  6  7  8  9 10 11 12 13 14 15 16 17 18 19]\n",
      "\n",
      "After : \n",
      "[12 14  7 10  3  1 16 11  8 19 17  4  6 13  9 18 15  0  5  2]\n"
     ]
    }
   ],
   "source": [
    "#Shuffle\n",
    "\n",
    "a = np.arange(20)\n",
    "print('Before : ')\n",
    "print(a)\n",
    "\n",
    "np.random.shuffle(a)\n",
    "\n",
    "print('\\nAfter : ')\n",
    "print(a)"
   ]
  },
  {
   "cell_type": "code",
   "execution_count": 46,
   "metadata": {},
   "outputs": [
    {
     "name": "stdout",
     "output_type": "stream",
     "text": [
      "x:\n",
      "[[0 1 2 3 4]\n",
      " [5 6 7 8 9]]\n",
      "\n",
      "np.amin(x, 1) : \n",
      "[0 5]\n"
     ]
    }
   ],
   "source": [
    "#Using amin function\n",
    "\n",
    "x = np.arange(10).reshape((2, 5))\n",
    "print('x:')\n",
    "print(x)\n",
    "\n",
    "print('\\nnp.amin(x, 1) : ')\n",
    "print(np.amin(x, 1))"
   ]
  },
  {
   "cell_type": "code",
   "execution_count": 47,
   "metadata": {},
   "outputs": [
    {
     "name": "stdout",
     "output_type": "stream",
     "text": [
      "x:\n",
      "[[0 1 2]\n",
      " [3 4 5]]\n",
      "\n",
      "x.min(axis = 0) : \n",
      "[0 1 2]\n"
     ]
    }
   ],
   "source": [
    "x = np.arange(6).reshape((2, 3))\n",
    "print('x:')\n",
    "print(x)\n",
    "\n",
    "print('\\nx.min(axis = 0) : ')\n",
    "print(x.min(axis = 0))"
   ]
  },
  {
   "cell_type": "code",
   "execution_count": 48,
   "metadata": {},
   "outputs": [
    {
     "name": "stdout",
     "output_type": "stream",
     "text": [
      "x:\n",
      "[[0 1 2]\n",
      " [3 4 5]]\n",
      "\n",
      "np.percentile(x, 90, 0): \n",
      "[2.7 3.7 4.7]\n"
     ]
    }
   ],
   "source": [
    "# column percentile\n",
    "x = np.arange(6).reshape((2, 3))\n",
    "print('x:')\n",
    "print(x)\n",
    "\n",
    "print('\\nnp.percentile(x, 90, 0): ')\n",
    "print(np.percentile(x, 90, 0))"
   ]
  },
  {
   "cell_type": "code",
   "execution_count": 49,
   "metadata": {},
   "outputs": [
    {
     "name": "stdout",
     "output_type": "stream",
     "text": [
      "x:\n",
      "[[0 1 2]\n",
      " [3 4 5]]\n",
      "\n",
      "np.percentile(x, 90, 0): \n",
      "[1.8 4.8]\n"
     ]
    }
   ],
   "source": [
    "# row percentile\n",
    "x = np.arange(6).reshape((2, 3))\n",
    "print('x:')\n",
    "print(x)\n",
    "\n",
    "print('\\nnp.percentile(x, 90, 0): ')\n",
    "print(np.percentile(x, 90, 1))"
   ]
  },
  {
   "cell_type": "code",
   "execution_count": 50,
   "metadata": {},
   "outputs": [
    {
     "name": "stdout",
     "output_type": "stream",
     "text": [
      "x:\n",
      "[[0 1 2]\n",
      " [3 4 5]]\n",
      "\n",
      "np.median(x): \n",
      "2.5\n"
     ]
    }
   ],
   "source": [
    " #Find median\n",
    "\n",
    "x = np.arange(6).reshape((2, 3))\n",
    "print('x:')\n",
    "print(x)\n",
    "\n",
    "print('\\nnp.median(x): ')\n",
    "print(np.median(x))"
   ]
  },
  {
   "cell_type": "code",
   "execution_count": 52,
   "metadata": {},
   "outputs": [
    {
     "name": "stdout",
     "output_type": "stream",
     "text": [
      "x:\n",
      "[0 1 2]\n",
      "\n",
      "y:\n",
      "[7 8 9]\n",
      "\n",
      "np.cov(x, y): \n",
      "[[1. 1.]\n",
      " [1. 1.]]\n"
     ]
    }
   ],
   "source": [
    "#Covariance matrix\n",
    "\n",
    "x = np.array([0, 1, 2])\n",
    "y = np.array([7, 8, 9])\n",
    "\n",
    "print('x:')\n",
    "print(x)\n",
    "print('\\ny:')\n",
    "print(y)\n",
    "\n",
    "print('\\nnp.cov(x, y): ')\n",
    "print(np.cov(x, y))\n",
    "\n"
   ]
  },
  {
   "cell_type": "code",
   "execution_count": 53,
   "metadata": {},
   "outputs": [
    {
     "name": "stdout",
     "output_type": "stream",
     "text": [
      "x:\n",
      "[1 2 2 1 1 1 5 5]\n",
      "\n",
      "np.bincount(x): \n",
      "[0 4 2 0 0 2]\n"
     ]
    }
   ],
   "source": [
    "x = np.array([1, 2, 2, 1, 1, 1, 5, 5])\n",
    "\n",
    "print('x:')\n",
    "print(x)\n",
    "\n",
    "print('\\nnp.bincount(x): ')\n",
    "print(np.bincount(x))\n",
    "\n",
    "# how to interpret\n",
    "\n",
    "#    starts from 0\n",
    "#    ends with 5\n",
    "    \n",
    "#    0 appears 0 times\n",
    "#    1 appears 4 times"
   ]
  },
  {
   "cell_type": "code",
   "execution_count": 54,
   "metadata": {},
   "outputs": [
    {
     "name": "stdout",
     "output_type": "stream",
     "text": [
      "x Before shuffling:\n",
      "[0 1 2 3 4 5 6 7 8 9]\n",
      "\n",
      "x After shuffling:\n",
      "[3 0 2 9 1 7 8 6 4 5]\n"
     ]
    }
   ],
   "source": [
    "#Shuffle\n",
    "\n",
    "x = np.arange(10)\n",
    "\n",
    "print('x Before shuffling:')\n",
    "print(x)\n",
    "\n",
    "print('\\nx After shuffling:')\n",
    "np.random.shuffle(x)\n",
    "print(x)"
   ]
  },
  {
   "cell_type": "code",
   "execution_count": 56,
   "metadata": {},
   "outputs": [
    {
     "name": "stdout",
     "output_type": "stream",
     "text": [
      "Random array after first seed:\n",
      "[0.15416284 0.7400497  0.26331502 0.53373939]\n",
      "\n",
      "Random array after second seed:\n",
      "[0.15416284 0.7400497  0.26331502 0.53373939]\n",
      "\n",
      "Random array after no seed:\n",
      "[0.01457496 0.91874701 0.90071485 0.03342143]\n"
     ]
    }
   ],
   "source": [
    "#Seed for random\n",
    "np.random.seed(12)\n",
    "\n",
    "a = np.random.rand(4)\n",
    "print('Random array after first seed:')\n",
    "print(a)\n",
    "\n",
    "np.random.seed(12)\n",
    "b = np.random.rand(4)\n",
    "print('\\nRandom array after second seed:')\n",
    "print(b)\n",
    "\n",
    "c = np.random.rand(4)\n",
    "print('\\nRandom array after no seed:')\n",
    "print(c)\n"
   ]
  },
  {
   "cell_type": "code",
   "execution_count": 57,
   "metadata": {},
   "outputs": [
    {
     "name": "stdout",
     "output_type": "stream",
     "text": [
      "x:\n",
      "[0 1 2 5 0]\n",
      "\n",
      "y:\n",
      "[0 1 4]\n",
      "\n",
      "np.setdiff1d(x, y):\n",
      "[2 5]\n"
     ]
    }
   ],
   "source": [
    "#Find the diff\n",
    "\n",
    "x = np.array([0, 1, 2, 5, 0])\n",
    "y = np.array([0, 1, 4])\n",
    "\n",
    "print('x:')\n",
    "print(x)\n",
    "\n",
    "print('\\ny:')\n",
    "print(y)\n",
    "\n",
    "print('\\nnp.setdiff1d(x, y):')\n",
    "print(np.setdiff1d(x, y))"
   ]
  },
  {
   "cell_type": "code",
   "execution_count": 58,
   "metadata": {},
   "outputs": [
    {
     "name": "stdout",
     "output_type": "stream",
     "text": [
      "Before:\n",
      "[1.2e-10 2.1e+00 2.3e+01]\n",
      "\n",
      "After suppressing the scientific notation:\n",
      "[ 0.   2.1 23. ]\n"
     ]
    }
   ],
   "source": [
    "#Pretty print - suppress the scientific notation\n",
    "\n",
    "x = np.array([1.2e-10, 2.1, 23])\n",
    "print('Before:')\n",
    "print(x)\n",
    "\n",
    "np.set_printoptions(suppress = True)\n",
    "print('\\nAfter suppressing the scientific notation:')\n",
    "print(x)\n",
    "\n",
    "# reset\n",
    "np.set_printoptions(suppress = False)"
   ]
  },
  {
   "cell_type": "code",
   "execution_count": 59,
   "metadata": {},
   "outputs": [
    {
     "name": "stdout",
     "output_type": "stream",
     "text": [
      "Before:\n",
      "[[2.  8.8]\n",
      " [2.3 1.9]]\n",
      "\n",
      "After changing the datatype:\n",
      "[[2 8]\n",
      " [2 1]]\n",
      "\n",
      "After changing the datatype by using int_:\n",
      "[[2 8]\n",
      " [2 1]]\n"
     ]
    }
   ],
   "source": [
    "#Convert flot array to int array\n",
    "\n",
    "x = np.array([[2.0, 8.8], [2.3, 1.9]])\n",
    "print('Before:')\n",
    "print(x)\n",
    "\n",
    "y = x.astype(int)\n",
    "print('\\nAfter changing the datatype:')\n",
    "print(y)\n",
    "\n",
    "z = np.int_(x)\n",
    "print('\\nAfter changing the datatype by using int_:')\n",
    "print(z)"
   ]
  },
  {
   "cell_type": "code",
   "execution_count": 60,
   "metadata": {},
   "outputs": [
    {
     "name": "stdout",
     "output_type": "stream",
     "text": [
      "np.datetime64('2020') == np.datetime64('2020-01-01'):\n",
      "True\n",
      "\n",
      "np.datetime64('2020-01') == np.datetime64('2020-01-02'):\n",
      "False\n"
     ]
    }
   ],
   "source": [
    "# Compare Numpy datetime\n",
    "\n",
    "print(\"np.datetime64('2020') == np.datetime64('2020-01-01'):\")\n",
    "print(np.datetime64('2020') == np.datetime64('2020-01-01'))\n",
    "\n",
    "print(\"\\nnp.datetime64('2020-01') == np.datetime64('2020-01-02'):\")\n",
    "print(np.datetime64('2020-01') == np.datetime64('2020-01-02'))"
   ]
  },
  {
   "cell_type": "code",
   "execution_count": 61,
   "metadata": {},
   "outputs": [
    {
     "name": "stdout",
     "output_type": "stream",
     "text": [
      "Before:\n",
      "[0 1 2 3]\n",
      "\n",
      "After reversing:\n",
      "[3 2 1 0]\n"
     ]
    }
   ],
   "source": [
    "#Reverse 1D array\n",
    "\n",
    "x = np.arange(4)\n",
    "print('Before:')\n",
    "print(x)\n",
    "\n",
    "y = x[::-1]\n",
    "print('\\nAfter reversing:')\n",
    "print(y)"
   ]
  },
  {
   "cell_type": "code",
   "execution_count": 62,
   "metadata": {},
   "outputs": [
    {
     "name": "stdout",
     "output_type": "stream",
     "text": [
      "Before:\n",
      "[[0 1 2 3]\n",
      " [4 5 6 7]]\n",
      "\n",
      "After reversing:\n",
      "[[4 5 6 7]\n",
      " [0 1 2 3]]\n"
     ]
    }
   ],
   "source": [
    "# 2d arary reverse\n",
    "x = np.arange(8).reshape(2, -1)\n",
    "print('Before:')\n",
    "print(x)\n",
    "\n",
    "y = x[::-1]\n",
    "print('\\nAfter reversing:')\n",
    "print(y)"
   ]
  },
  {
   "cell_type": "code",
   "execution_count": 63,
   "metadata": {},
   "outputs": [
    {
     "name": "stdout",
     "output_type": "stream",
     "text": [
      "Before:\n",
      "[[0 1 2 3]\n",
      " [4 5 6 7]]\n",
      "\n",
      "After reversing with flip:\n",
      "[[7 6 5 4]\n",
      " [3 2 1 0]]\n",
      "\n",
      "After reversing with flipud:\n",
      "[[4 5 6 7]\n",
      " [0 1 2 3]]\n",
      "\n",
      "After reversing with fliplr:\n",
      "[[3 2 1 0]\n",
      " [7 6 5 4]]\n"
     ]
    }
   ],
   "source": [
    "#Reverse 2D array with elements\n",
    "\n",
    "x = np.arange(8).reshape(2, -1)\n",
    "print('Before:')\n",
    "print(x)\n",
    "\n",
    "y = np.flip(x)\n",
    "print('\\nAfter reversing with flip:')\n",
    "print(y)\n",
    "\n",
    "y = np.flipud(x)\n",
    "print('\\nAfter reversing with flipud:')\n",
    "print(y)\n",
    "\n",
    "y = np.fliplr(x)\n",
    "print('\\nAfter reversing with fliplr:')\n",
    "print(y)"
   ]
  },
  {
   "cell_type": "code",
   "execution_count": 64,
   "metadata": {},
   "outputs": [
    {
     "name": "stdout",
     "output_type": "stream",
     "text": [
      "Before:\n",
      "[1 3 5 4 7]\n",
      "\n",
      "After Deleting specific indices:\n",
      "[1 3 7]\n"
     ]
    }
   ],
   "source": [
    "#Delete specific indices\n",
    "\n",
    "a = np.array([1, 3, 5, 4, 7])\n",
    "print('Before:')\n",
    "print(a)\n",
    "\n",
    "indices = [2, 3]\n",
    "b = np.delete(a, indices)\n",
    "\n",
    "print('\\nAfter Deleting specific indices:')\n",
    "print(b)"
   ]
  },
  {
   "cell_type": "code",
   "execution_count": 65,
   "metadata": {},
   "outputs": [
    {
     "name": "stdout",
     "output_type": "stream",
     "text": [
      "Before:\n",
      "[1 4 5 4]\n",
      "\n",
      "After Deleting specific elements:\n",
      "[1 5]\n"
     ]
    }
   ],
   "source": [
    "#Deleting specific elements\n",
    "\n",
    "a = np.array([1, 4, 5, 4])\n",
    "print('Before:')\n",
    "print(a)\n",
    "\n",
    "b = np.array([3, 4])\n",
    "c = np.setdiff1d(a, b)\n",
    "\n",
    "print('\\nAfter Deleting specific elements:')\n",
    "print(c)"
   ]
  },
  {
   "cell_type": "code",
   "execution_count": 67,
   "metadata": {},
   "outputs": [
    {
     "name": "stdout",
     "output_type": "stream",
     "text": [
      "nan using empty:\n",
      "[[nan nan]\n",
      " [nan nan]\n",
      " [nan nan]]\n"
     ]
    }
   ],
   "source": [
    "a = np.empty((3, 2,))\n",
    "a[:] = np.nan\n",
    "print('nan using empty:')\n",
    "print(a)\n"
   ]
  },
  {
   "cell_type": "code",
   "execution_count": 68,
   "metadata": {},
   "outputs": [
    {
     "name": "stdout",
     "output_type": "stream",
     "text": [
      "Before:\n",
      "[[0.95694934 0.13720932 0.28382835 0.60608318]\n",
      " [0.94422514 0.85273554 0.00225923 0.52122603]]\n",
      "\n",
      "After updating a[a > 0.5] = 0.5:\n",
      "[[0.5        0.13720932 0.28382835 0.5       ]\n",
      " [0.5        0.5        0.00225923 0.5       ]]\n"
     ]
    }
   ],
   "source": [
    "#Replace values with specific condition\n",
    "\n",
    "import numpy as np\n",
    "a = np.random.rand(2, 4)\n",
    "print('Before:')\n",
    "print(a)\n",
    "\n",
    "a[a > 0.5] = 0.5\n",
    "print('\\nAfter updating a[a > 0.5] = 0.5:')\n",
    "print(a)"
   ]
  },
  {
   "cell_type": "code",
   "execution_count": 69,
   "metadata": {},
   "outputs": [
    {
     "name": "stdout",
     "output_type": "stream",
     "text": [
      "[[1 2 3]\n",
      " [4 5 6]]\n",
      "\n",
      "After:\n",
      "[[3 1 2]\n",
      " [6 4 5]]\n"
     ]
    }
   ],
   "source": [
    "#Numpy Roll\n",
    "\n",
    "import numpy as np\n",
    "\n",
    "x = np.arange(1, 7).reshape(2, 3)\n",
    "\n",
    "print(x)\n",
    "\n",
    "y = np.roll(x, 1, axis = 1)\n",
    "\n",
    "print('\\nAfter:')\n",
    "print(y)"
   ]
  },
  {
   "cell_type": "code",
   "execution_count": 70,
   "metadata": {},
   "outputs": [
    {
     "name": "stdout",
     "output_type": "stream",
     "text": [
      "[[1 2 3]\n",
      " [4 5 6]]\n",
      "\n",
      "After:\n",
      "[[4 5 6]\n",
      " [1 2 3]]\n"
     ]
    }
   ],
   "source": [
    "#Numpy Roll\n",
    "\n",
    "import numpy as np\n",
    "\n",
    "x = np.arange(1, 7).reshape(2, 3)\n",
    "\n",
    "print(x)\n",
    "\n",
    "y = np.roll(x, 1, axis = 0)\n",
    "\n",
    "print('\\nAfter:')\n",
    "print(y)"
   ]
  },
  {
   "cell_type": "code",
   "execution_count": 73,
   "metadata": {},
   "outputs": [
    {
     "name": "stdout",
     "output_type": "stream",
     "text": [
      "[0 1 2 3 4 5 6 7 8 9]\n",
      "[7 8 9 0 1 2 3 4 5 6]\n"
     ]
    }
   ],
   "source": [
    "#Roll elements\n",
    "\n",
    "x = np.arange(10)\n",
    "y = np.roll(x, 3)\n",
    "\n",
    "print(x)\n",
    "\n",
    "print(y)"
   ]
  },
  {
   "cell_type": "code",
   "execution_count": 74,
   "metadata": {},
   "outputs": [
    {
     "name": "stdout",
     "output_type": "stream",
     "text": [
      "Before:\n",
      "[11 22 33 44 55]\n",
      "\n",
      "After:\n",
      "[55 33 11 22 44]\n"
     ]
    }
   ],
   "source": [
    "#Rearrange array with specified index\n",
    "\n",
    "a = np.array([11, 22, 33, 44, 55])\n",
    "print('Before:')\n",
    "print(a)\n",
    "\n",
    "idx = [4, 2, 0, 1, 3]\n",
    "\n",
    "b = a[idx]\n",
    "\n",
    "print('\\nAfter:')\n",
    "print(b)"
   ]
  },
  {
   "cell_type": "code",
   "execution_count": 75,
   "metadata": {},
   "outputs": [
    {
     "name": "stdout",
     "output_type": "stream",
     "text": [
      "Before:\n",
      "[10 20]\n",
      "\n",
      "Serialized Numpy Array:\n",
      "b'\\x80\\x04\\x95\\x90\\x00\\x00\\x00\\x00\\x00\\x00\\x00\\x8c\\x15numpy.core.multiarray\\x94\\x8c\\x0c_reconstruct\\x94\\x93\\x94\\x8c\\x05numpy\\x94\\x8c\\x07ndarray\\x94\\x93\\x94K\\x00\\x85\\x94C\\x01b\\x94\\x87\\x94R\\x94(K\\x01K\\x02\\x85\\x94h\\x03\\x8c\\x05dtype\\x94\\x93\\x94\\x8c\\x02i4\\x94\\x89\\x88\\x87\\x94R\\x94(K\\x03\\x8c\\x01<\\x94NNNJ\\xff\\xff\\xff\\xffJ\\xff\\xff\\xff\\xffK\\x00t\\x94b\\x89C\\x08\\n\\x00\\x00\\x00\\x14\\x00\\x00\\x00\\x94t\\x94b.'\n",
      "\n",
      "De-serialized Numpy Array:\n",
      "[10 20]\n"
     ]
    }
   ],
   "source": [
    "#Serialize array with pickle\n",
    "\n",
    "a = np.array([10, 20])\n",
    "print('Before:')\n",
    "print(a)\n",
    "\n",
    "import pickle\n",
    "\n",
    "b = pickle.dumps(a, protocol = 4)\n",
    "\n",
    "print('\\nSerialized Numpy Array:')\n",
    "print(b)\n",
    "\n",
    "c = pickle.loads(b)\n",
    "\n",
    "print('\\nDe-serialized Numpy Array:')\n",
    "print(c)\n"
   ]
  },
  {
   "cell_type": "code",
   "execution_count": 76,
   "metadata": {},
   "outputs": [
    {
     "name": "stdout",
     "output_type": "stream",
     "text": [
      "Before:\n",
      "[[0 1 2]\n",
      " [3 4 5]]\n",
      "\n",
      "After:\n",
      "[[0 3]\n",
      " [1 4]\n",
      " [2 5]]\n"
     ]
    }
   ],
   "source": [
    "#Transpose\n",
    "\n",
    "a = np.arange(6).reshape(2, -1) \n",
    "\n",
    "print('Before:')\n",
    "print(a)\n",
    "\n",
    "b = np.transpose(a)\n",
    "print('\\nAfter:')\n",
    "print(b)"
   ]
  },
  {
   "cell_type": "code",
   "execution_count": 77,
   "metadata": {},
   "outputs": [
    {
     "name": "stdout",
     "output_type": "stream",
     "text": [
      "0.0\n",
      "0.1\n",
      "0.2\n",
      "0.30000000000000004\n",
      "0.4\n",
      "0.5\n",
      "0.6000000000000001\n",
      "0.7000000000000001\n",
      "0.8\n",
      "0.9\n",
      "1.0\n",
      "1.1\n",
      "1.2000000000000002\n",
      "1.3\n",
      "1.4000000000000001\n",
      "1.5\n",
      "1.6\n",
      "1.7000000000000002\n",
      "1.8\n",
      "1.9000000000000001\n",
      "2.0\n"
     ]
    }
   ],
   "source": [
    "#Float anomalies in Numpy Arange\n",
    "\n",
    "for i in np.arange(0.0, 2.1, 0.1):\n",
    "    print(i)"
   ]
  },
  {
   "cell_type": "code",
   "execution_count": 78,
   "metadata": {},
   "outputs": [
    {
     "name": "stdout",
     "output_type": "stream",
     "text": [
      "[10 20 30 10 20 30 10 20 30 10 20 30]\n"
     ]
    }
   ],
   "source": [
    "#Resize a list with rounds\n",
    "\n",
    "a_list = [10, 20, 30]\n",
    "result = np.resize(a_list, 12)\n",
    "\n",
    "print(result)"
   ]
  },
  {
   "cell_type": "code",
   "execution_count": 80,
   "metadata": {},
   "outputs": [
    {
     "name": "stdout",
     "output_type": "stream",
     "text": [
      "262\n",
      "What not possible with array :) :-)\n"
     ]
    }
   ],
   "source": [
    "# Business Day Count\n",
    "\n",
    "a = np.busday_count('2020-01', '2021-01')\n",
    "\n",
    "print(a)\n",
    "\n",
    "print('What not possible with array :) :-)')"
   ]
  },
  {
   "cell_type": "code",
   "execution_count": null,
   "metadata": {},
   "outputs": [],
   "source": []
  },
  {
   "cell_type": "code",
   "execution_count": null,
   "metadata": {},
   "outputs": [],
   "source": []
  }
 ],
 "metadata": {
  "kernelspec": {
   "display_name": "Python 3",
   "language": "python",
   "name": "python3"
  },
  "language_info": {
   "codemirror_mode": {
    "name": "ipython",
    "version": 3
   },
   "file_extension": ".py",
   "mimetype": "text/x-python",
   "name": "python",
   "nbconvert_exporter": "python",
   "pygments_lexer": "ipython3",
   "version": "3.8.5"
  }
 },
 "nbformat": 4,
 "nbformat_minor": 4
}
