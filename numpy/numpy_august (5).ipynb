{
 "cells": [
  {
   "cell_type": "code",
   "execution_count": 1,
   "id": "171d1020",
   "metadata": {},
   "outputs": [
    {
     "data": {
      "text/plain": [
       "[1, 2, 3]"
      ]
     },
     "execution_count": 1,
     "metadata": {},
     "output_type": "execute_result"
    }
   ],
   "source": [
    "list1=[1,2,3]\n",
    "list1"
   ]
  },
  {
   "cell_type": "code",
   "execution_count": null,
   "id": "c1a668b7",
   "metadata": {},
   "outputs": [],
   "source": [
    "#pip install numpy"
   ]
  },
  {
   "cell_type": "code",
   "execution_count": 1,
   "id": "6ee00b8b",
   "metadata": {},
   "outputs": [],
   "source": [
    "import numpy as np"
   ]
  },
  {
   "cell_type": "code",
   "execution_count": 2,
   "id": "6e3d2152",
   "metadata": {},
   "outputs": [
    {
     "data": {
      "text/plain": [
       "'1.26.4'"
      ]
     },
     "execution_count": 2,
     "metadata": {},
     "output_type": "execute_result"
    }
   ],
   "source": [
    "np.__version__"
   ]
  },
  {
   "cell_type": "code",
   "execution_count": 3,
   "id": "932d0d7f",
   "metadata": {},
   "outputs": [
    {
     "data": {
      "text/plain": [
       "module"
      ]
     },
     "execution_count": 3,
     "metadata": {},
     "output_type": "execute_result"
    }
   ],
   "source": [
    "type(np)"
   ]
  },
  {
   "cell_type": "code",
   "execution_count": 5,
   "id": "6edcc98a",
   "metadata": {},
   "outputs": [
    {
     "data": {
      "text/plain": [
       "array([ 1.,  2.,  3.,  3.,  4.,  4.,  5.,  7., 10.])"
      ]
     },
     "execution_count": 5,
     "metadata": {},
     "output_type": "execute_result"
    }
   ],
   "source": [
    "arr=np.array([1,2,3,3,4,4,5,7,10.0])\n",
    "arr"
   ]
  },
  {
   "cell_type": "code",
   "execution_count": 6,
   "id": "d430e0ee",
   "metadata": {},
   "outputs": [
    {
     "data": {
      "text/plain": [
       "numpy.ndarray"
      ]
     },
     "execution_count": 6,
     "metadata": {},
     "output_type": "execute_result"
    }
   ],
   "source": [
    "type(arr)"
   ]
  },
  {
   "cell_type": "code",
   "execution_count": 7,
   "id": "0aa43a2a",
   "metadata": {},
   "outputs": [
    {
     "data": {
      "text/plain": [
       "{1: 1, 2: 5, 8: 2}"
      ]
     },
     "execution_count": 7,
     "metadata": {},
     "output_type": "execute_result"
    }
   ],
   "source": [
    "list1={1:1,2:5,8:2}\n",
    "list1"
   ]
  },
  {
   "cell_type": "code",
   "execution_count": 8,
   "id": "22b3996b",
   "metadata": {},
   "outputs": [
    {
     "data": {
      "text/plain": [
       "array({1: 1, 2: 5, 8: 2}, dtype=object)"
      ]
     },
     "execution_count": 8,
     "metadata": {},
     "output_type": "execute_result"
    }
   ],
   "source": [
    "h=np.array(list1)\n",
    "h"
   ]
  },
  {
   "cell_type": "code",
   "execution_count": 9,
   "id": "16241824",
   "metadata": {},
   "outputs": [
    {
     "ename": "SyntaxError",
     "evalue": "invalid syntax (603412036.py, line 2)",
     "output_type": "error",
     "traceback": [
      "\u001b[1;36m  Cell \u001b[1;32mIn[9], line 2\u001b[1;36m\u001b[0m\n\u001b[1;33m    shape-gets the shape of an array\u001b[0m\n\u001b[1;37m               ^\u001b[0m\n\u001b[1;31mSyntaxError\u001b[0m\u001b[1;31m:\u001b[0m invalid syntax\n"
     ]
    }
   ],
   "source": [
    "# attributes numpy array\n",
    "shape-gets the shape of an array\n",
    "size-no of elements present array\n",
    "ndim=dimension of an array\n",
    "dtype=type of elements present the array\n",
    "itemsize-memory aquried elements of array"
   ]
  },
  {
   "cell_type": "code",
   "execution_count": 10,
   "id": "7b1c1583",
   "metadata": {},
   "outputs": [
    {
     "data": {
      "text/plain": [
       "(9,)"
      ]
     },
     "execution_count": 10,
     "metadata": {},
     "output_type": "execute_result"
    }
   ],
   "source": [
    "arr.shape"
   ]
  },
  {
   "cell_type": "code",
   "execution_count": 11,
   "id": "15d1e3c1",
   "metadata": {},
   "outputs": [
    {
     "data": {
      "text/plain": [
       "9"
      ]
     },
     "execution_count": 11,
     "metadata": {},
     "output_type": "execute_result"
    }
   ],
   "source": [
    "arr.size"
   ]
  },
  {
   "cell_type": "code",
   "execution_count": 12,
   "id": "a8102cdf",
   "metadata": {},
   "outputs": [
    {
     "data": {
      "text/plain": [
       "1"
      ]
     },
     "execution_count": 12,
     "metadata": {},
     "output_type": "execute_result"
    }
   ],
   "source": [
    "arr.ndim"
   ]
  },
  {
   "cell_type": "code",
   "execution_count": 13,
   "id": "3ca0bf14",
   "metadata": {},
   "outputs": [
    {
     "data": {
      "text/plain": [
       "dtype('float64')"
      ]
     },
     "execution_count": 13,
     "metadata": {},
     "output_type": "execute_result"
    }
   ],
   "source": [
    "arr.dtype"
   ]
  },
  {
   "cell_type": "code",
   "execution_count": 14,
   "id": "8018cc85",
   "metadata": {},
   "outputs": [
    {
     "data": {
      "text/plain": [
       "8"
      ]
     },
     "execution_count": 14,
     "metadata": {},
     "output_type": "execute_result"
    }
   ],
   "source": [
    "arr.itemsize"
   ]
  },
  {
   "cell_type": "code",
   "execution_count": 15,
   "id": "4837443c",
   "metadata": {},
   "outputs": [
    {
     "data": {
      "text/plain": [
       "array([[1, 2, 3, 6],\n",
       "       [4, 5, 6, 9]])"
      ]
     },
     "execution_count": 15,
     "metadata": {},
     "output_type": "execute_result"
    }
   ],
   "source": [
    "arr2=np.array([[1,2,3,6],[4,5,6,9]])\n",
    "arr2"
   ]
  },
  {
   "cell_type": "code",
   "execution_count": 17,
   "id": "35f88fbb",
   "metadata": {},
   "outputs": [
    {
     "data": {
      "text/plain": [
       "(2, 4)"
      ]
     },
     "execution_count": 17,
     "metadata": {},
     "output_type": "execute_result"
    }
   ],
   "source": [
    "arr2.shape"
   ]
  },
  {
   "cell_type": "code",
   "execution_count": 18,
   "id": "4bf9e01e",
   "metadata": {},
   "outputs": [
    {
     "data": {
      "text/plain": [
       "8"
      ]
     },
     "execution_count": 18,
     "metadata": {},
     "output_type": "execute_result"
    }
   ],
   "source": [
    "arr2.size"
   ]
  },
  {
   "cell_type": "code",
   "execution_count": 33,
   "id": "8bada05b",
   "metadata": {},
   "outputs": [
    {
     "data": {
      "text/plain": [
       "2"
      ]
     },
     "execution_count": 33,
     "metadata": {},
     "output_type": "execute_result"
    }
   ],
   "source": [
    "arr2.ndim"
   ]
  },
  {
   "cell_type": "code",
   "execution_count": 19,
   "id": "d3409472",
   "metadata": {},
   "outputs": [
    {
     "data": {
      "text/plain": [
       "dtype('int32')"
      ]
     },
     "execution_count": 19,
     "metadata": {},
     "output_type": "execute_result"
    }
   ],
   "source": [
    "arr2.dtype"
   ]
  },
  {
   "cell_type": "code",
   "execution_count": 20,
   "id": "3b575d9e",
   "metadata": {},
   "outputs": [
    {
     "data": {
      "text/plain": [
       "4"
      ]
     },
     "execution_count": 20,
     "metadata": {},
     "output_type": "execute_result"
    }
   ],
   "source": [
    "arr2.itemsize"
   ]
  },
  {
   "cell_type": "code",
   "execution_count": 22,
   "id": "184e18f9",
   "metadata": {},
   "outputs": [
    {
     "data": {
      "text/plain": [
       "array([[[ 1,  2],\n",
       "        [ 6,  7]],\n",
       "\n",
       "       [[ 5,  6],\n",
       "        [ 7,  8]],\n",
       "\n",
       "       [[12, 13],\n",
       "        [14, 15]]])"
      ]
     },
     "execution_count": 22,
     "metadata": {},
     "output_type": "execute_result"
    }
   ],
   "source": [
    "arr3=np.array([[[1,2],[6,7]],[[5,6],[7,8]],[[12,13],[14,15]]])\n",
    "arr3"
   ]
  },
  {
   "cell_type": "code",
   "execution_count": 24,
   "id": "71664cc3",
   "metadata": {},
   "outputs": [
    {
     "data": {
      "text/plain": [
       "(3, 2, 2)"
      ]
     },
     "execution_count": 24,
     "metadata": {},
     "output_type": "execute_result"
    }
   ],
   "source": [
    "arr3.shape"
   ]
  },
  {
   "cell_type": "code",
   "execution_count": 42,
   "id": "31578267",
   "metadata": {},
   "outputs": [
    {
     "data": {
      "text/plain": [
       "12"
      ]
     },
     "execution_count": 42,
     "metadata": {},
     "output_type": "execute_result"
    }
   ],
   "source": [
    "arr3.size"
   ]
  },
  {
   "cell_type": "code",
   "execution_count": 43,
   "id": "6d79866d",
   "metadata": {},
   "outputs": [
    {
     "data": {
      "text/plain": [
       "dtype('int32')"
      ]
     },
     "execution_count": 43,
     "metadata": {},
     "output_type": "execute_result"
    }
   ],
   "source": [
    "arr3.dtype"
   ]
  },
  {
   "cell_type": "code",
   "execution_count": 44,
   "id": "de2f01a4",
   "metadata": {},
   "outputs": [
    {
     "data": {
      "text/plain": [
       "3"
      ]
     },
     "execution_count": 44,
     "metadata": {},
     "output_type": "execute_result"
    }
   ],
   "source": [
    "arr3.ndim"
   ]
  },
  {
   "cell_type": "code",
   "execution_count": 45,
   "id": "888c39f0",
   "metadata": {},
   "outputs": [
    {
     "data": {
      "text/plain": [
       "4"
      ]
     },
     "execution_count": 45,
     "metadata": {},
     "output_type": "execute_result"
    }
   ],
   "source": [
    "arr3.itemsize"
   ]
  },
  {
   "cell_type": "code",
   "execution_count": 25,
   "id": "93993e6a",
   "metadata": {},
   "outputs": [
    {
     "data": {
      "text/plain": [
       "array(16)"
      ]
     },
     "execution_count": 25,
     "metadata": {},
     "output_type": "execute_result"
    }
   ],
   "source": [
    "d=np.array(16)\n",
    "d"
   ]
  },
  {
   "cell_type": "code",
   "execution_count": 52,
   "id": "cb76c46a",
   "metadata": {},
   "outputs": [
    {
     "data": {
      "text/plain": [
       "array([16])"
      ]
     },
     "execution_count": 52,
     "metadata": {},
     "output_type": "execute_result"
    }
   ],
   "source": [
    "d1=np.array([16])\n",
    "d1"
   ]
  },
  {
   "cell_type": "code",
   "execution_count": 48,
   "id": "72960d71",
   "metadata": {},
   "outputs": [
    {
     "data": {
      "text/plain": [
       "(0, 1)"
      ]
     },
     "execution_count": 48,
     "metadata": {},
     "output_type": "execute_result"
    }
   ],
   "source": [
    "d.ndim,d1.ndim"
   ]
  },
  {
   "cell_type": "code",
   "execution_count": 53,
   "id": "d69ce3e6",
   "metadata": {},
   "outputs": [
    {
     "data": {
      "text/plain": [
       "((), (1,))"
      ]
     },
     "execution_count": 53,
     "metadata": {},
     "output_type": "execute_result"
    }
   ],
   "source": [
    "d.shape,d1.shape"
   ]
  },
  {
   "cell_type": "code",
   "execution_count": 54,
   "id": "158a2f2d",
   "metadata": {},
   "outputs": [
    {
     "data": {
      "text/plain": [
       "(1, 1)"
      ]
     },
     "execution_count": 54,
     "metadata": {},
     "output_type": "execute_result"
    }
   ],
   "source": [
    "d.size,d1.size"
   ]
  },
  {
   "cell_type": "code",
   "execution_count": 55,
   "id": "790ed7da",
   "metadata": {},
   "outputs": [
    {
     "data": {
      "text/plain": [
       "(dtype('int32'), dtype('int32'))"
      ]
     },
     "execution_count": 55,
     "metadata": {},
     "output_type": "execute_result"
    }
   ],
   "source": [
    "d.dtype,d1.dtype"
   ]
  },
  {
   "cell_type": "code",
   "execution_count": 56,
   "id": "50cc4ee6",
   "metadata": {},
   "outputs": [
    {
     "data": {
      "text/plain": [
       "(4, 4)"
      ]
     },
     "execution_count": 56,
     "metadata": {},
     "output_type": "execute_result"
    }
   ],
   "source": [
    "d.itemsize,d1.itemsize"
   ]
  },
  {
   "cell_type": "code",
   "execution_count": 59,
   "id": "43cd8544",
   "metadata": {},
   "outputs": [
    {
     "data": {
      "text/plain": [
       "array([[['qasdfg', 'asdfb', 'c'],\n",
       "        ['t', 'gasdf', 'h']],\n",
       "\n",
       "       [['d', 'h', 'j'],\n",
       "        ['u', 'y', 'h']]], dtype='<U6')"
      ]
     },
     "execution_count": 59,
     "metadata": {},
     "output_type": "execute_result"
    }
   ],
   "source": [
    "arr5=np.array([[[\"qasdfg\",\"asdfb\",\"c\"],[\"t\",\"gasdf\",\"h\"]],[[\"d\",\"h\",\"j\"],[\"u\",\"y\",\"h\"]]])\n",
    "arr5"
   ]
  },
  {
   "cell_type": "code",
   "execution_count": 60,
   "id": "14708ff0",
   "metadata": {},
   "outputs": [
    {
     "data": {
      "text/plain": [
       "((2, 2, 3), 12, 3, dtype('<U6'), 24)"
      ]
     },
     "execution_count": 60,
     "metadata": {},
     "output_type": "execute_result"
    }
   ],
   "source": [
    "arr5.shape,arr5.size,arr5.ndim,arr5.dtype,arr5.itemsize"
   ]
  },
  {
   "cell_type": "code",
   "execution_count": 61,
   "id": "ea2cbca6",
   "metadata": {},
   "outputs": [
    {
     "data": {
      "text/plain": [
       "numpy.ndarray"
      ]
     },
     "execution_count": 61,
     "metadata": {},
     "output_type": "execute_result"
    }
   ],
   "source": [
    "type(arr5)"
   ]
  },
  {
   "cell_type": "code",
   "execution_count": 66,
   "id": "2a201d4a",
   "metadata": {},
   "outputs": [
    {
     "data": {
      "text/plain": [
       "array([[[[[12, 78],\n",
       "          [ 5,  8]],\n",
       "\n",
       "         [[ 1,  2],\n",
       "          [ 4,  5]]]]])"
      ]
     },
     "execution_count": 66,
     "metadata": {},
     "output_type": "execute_result"
    }
   ],
   "source": [
    "a=np.array([[[12,78],[5,8]],[[1,2],[4,5]]],ndmin=5)\n",
    "a"
   ]
  },
  {
   "cell_type": "code",
   "execution_count": 26,
   "id": "5e493fd5",
   "metadata": {},
   "outputs": [
    {
     "data": {
      "text/plain": [
       "((1, 2, 3), (4, 5, 6), (7, 8, 9))"
      ]
     },
     "execution_count": 26,
     "metadata": {},
     "output_type": "execute_result"
    }
   ],
   "source": [
    "list2=((1,2,3),(4,5,6),(7,8,9))\n",
    "list2"
   ]
  },
  {
   "cell_type": "code",
   "execution_count": 27,
   "id": "b90642e6",
   "metadata": {},
   "outputs": [
    {
     "data": {
      "text/plain": [
       "array([[1, 2, 3],\n",
       "       [4, 5, 6],\n",
       "       [7, 8, 9]])"
      ]
     },
     "execution_count": 27,
     "metadata": {},
     "output_type": "execute_result"
    }
   ],
   "source": [
    "f=np.array(list2)\n",
    "f"
   ]
  },
  {
   "cell_type": "code",
   "execution_count": 28,
   "id": "eb79a866",
   "metadata": {},
   "outputs": [
    {
     "data": {
      "text/plain": [
       "array([ 1.,  2.,  3.,  3.,  4.,  4.,  5.,  7., 10.])"
      ]
     },
     "execution_count": 28,
     "metadata": {},
     "output_type": "execute_result"
    }
   ],
   "source": [
    "arr"
   ]
  },
  {
   "cell_type": "code",
   "execution_count": 29,
   "id": "bf2803a9",
   "metadata": {},
   "outputs": [
    {
     "data": {
      "text/plain": [
       "[1.0, 2.0, 3.0, 3.0, 4.0, 4.0, 5.0, 7.0, 10.0]"
      ]
     },
     "execution_count": 29,
     "metadata": {},
     "output_type": "execute_result"
    }
   ],
   "source": [
    "list7=list(arr)\n",
    "list7"
   ]
  },
  {
   "cell_type": "code",
   "execution_count": 77,
   "id": "00f4c834",
   "metadata": {},
   "outputs": [
    {
     "data": {
      "text/plain": [
       "list"
      ]
     },
     "execution_count": 77,
     "metadata": {},
     "output_type": "execute_result"
    }
   ],
   "source": [
    "type(list7)"
   ]
  },
  {
   "cell_type": "code",
   "execution_count": 80,
   "id": "f356624d",
   "metadata": {},
   "outputs": [],
   "source": [
    "tup=tuple(f)"
   ]
  },
  {
   "cell_type": "code",
   "execution_count": 81,
   "id": "0bcd850a",
   "metadata": {},
   "outputs": [
    {
     "data": {
      "text/plain": [
       "(array([1, 2, 3]), array([4, 5, 6]), array([7, 8, 9]))"
      ]
     },
     "execution_count": 81,
     "metadata": {},
     "output_type": "execute_result"
    }
   ],
   "source": [
    "tup"
   ]
  },
  {
   "cell_type": "code",
   "execution_count": 82,
   "id": "0f0838cb",
   "metadata": {},
   "outputs": [
    {
     "data": {
      "text/plain": [
       "array([ 1.,  2.,  3.,  3.,  4.,  4.,  5.,  7., 10.])"
      ]
     },
     "execution_count": 82,
     "metadata": {},
     "output_type": "execute_result"
    }
   ],
   "source": [
    "arr"
   ]
  },
  {
   "cell_type": "code",
   "execution_count": 83,
   "id": "499c81c2",
   "metadata": {},
   "outputs": [],
   "source": [
    "s=set(arr)"
   ]
  },
  {
   "cell_type": "code",
   "execution_count": 84,
   "id": "45c093ec",
   "metadata": {},
   "outputs": [
    {
     "data": {
      "text/plain": [
       "{1.0, 2.0, 3.0, 4.0, 5.0, 7.0, 10.0}"
      ]
     },
     "execution_count": 84,
     "metadata": {},
     "output_type": "execute_result"
    }
   ],
   "source": [
    "s"
   ]
  },
  {
   "cell_type": "code",
   "execution_count": 86,
   "id": "86d91f03",
   "metadata": {},
   "outputs": [
    {
     "ename": "ValueError",
     "evalue": "dictionary update sequence element #0 has length 3; 2 is required",
     "output_type": "error",
     "traceback": [
      "\u001b[1;31m---------------------------------------------------------------------------\u001b[0m",
      "\u001b[1;31mValueError\u001b[0m                                Traceback (most recent call last)",
      "Cell \u001b[1;32mIn[86], line 1\u001b[0m\n\u001b[1;32m----> 1\u001b[0m dict1\u001b[38;5;241m=\u001b[39m\u001b[38;5;28mdict\u001b[39m(f)\n\u001b[0;32m      2\u001b[0m dict1\n",
      "\u001b[1;31mValueError\u001b[0m: dictionary update sequence element #0 has length 3; 2 is required"
     ]
    }
   ],
   "source": [
    "dict1=dict(f)\n",
    "dict1"
   ]
  },
  {
   "cell_type": "code",
   "execution_count": null,
   "id": "fd488f97",
   "metadata": {},
   "outputs": [],
   "source": [
    "#built in function\n",
    "zeros=will generate array of zeros"
   ]
  },
  {
   "cell_type": "code",
   "execution_count": 87,
   "id": "18157832",
   "metadata": {},
   "outputs": [
    {
     "data": {
      "text/plain": [
       "array([[0., 0., 0.],\n",
       "       [0., 0., 0.]])"
      ]
     },
     "execution_count": 87,
     "metadata": {},
     "output_type": "execute_result"
    }
   ],
   "source": [
    "a=np.zeros((2,3))\n",
    "a"
   ]
  },
  {
   "cell_type": "code",
   "execution_count": 90,
   "id": "2e49779a",
   "metadata": {},
   "outputs": [
    {
     "data": {
      "text/plain": [
       "array([[[0, 0, 0],\n",
       "        [0, 0, 0]],\n",
       "\n",
       "       [[0, 0, 0],\n",
       "        [0, 0, 0]]])"
      ]
     },
     "execution_count": 90,
     "metadata": {},
     "output_type": "execute_result"
    }
   ],
   "source": [
    "a=np.zeros((2,2,3),dtype=int)\n",
    "a"
   ]
  },
  {
   "cell_type": "code",
   "execution_count": 94,
   "id": "67a9f404",
   "metadata": {},
   "outputs": [
    {
     "data": {
      "text/plain": [
       "array([[[0., 0.],\n",
       "        [0., 0.],\n",
       "        [0., 0.],\n",
       "        [0., 0.]],\n",
       "\n",
       "       [[0., 0.],\n",
       "        [0., 0.],\n",
       "        [0., 0.],\n",
       "        [0., 0.]],\n",
       "\n",
       "       [[0., 0.],\n",
       "        [0., 0.],\n",
       "        [0., 0.],\n",
       "        [0., 0.]]])"
      ]
     },
     "execution_count": 94,
     "metadata": {},
     "output_type": "execute_result"
    }
   ],
   "source": [
    "np.zeros(shape=[3,4,2])"
   ]
  },
  {
   "cell_type": "code",
   "execution_count": null,
   "id": "ae78b1a3",
   "metadata": {},
   "outputs": [],
   "source": [
    "#ones = generating an array of ones"
   ]
  },
  {
   "cell_type": "code",
   "execution_count": 30,
   "id": "b5ca2296",
   "metadata": {},
   "outputs": [
    {
     "data": {
      "text/plain": [
       "array([1, 1, 1, 1])"
      ]
     },
     "execution_count": 30,
     "metadata": {},
     "output_type": "execute_result"
    }
   ],
   "source": [
    "a=np.ones((4,),dtype=int)\n",
    "a"
   ]
  },
  {
   "cell_type": "code",
   "execution_count": null,
   "id": "3df44ac1",
   "metadata": {},
   "outputs": [],
   "source": [
    "# empty "
   ]
  },
  {
   "cell_type": "code",
   "execution_count": 31,
   "id": "fea310b9",
   "metadata": {},
   "outputs": [
    {
     "data": {
      "text/plain": [
       "array([[4.67296746e-307, 1.69121096e-306, 3.11522054e-307,\n",
       "        1.42413555e-306],\n",
       "       [1.78019082e-306, 1.37959740e-306, 6.23057349e-307,\n",
       "        1.42419530e-306]])"
      ]
     },
     "execution_count": 31,
     "metadata": {},
     "output_type": "execute_result"
    }
   ],
   "source": [
    "np.empty((2,4))"
   ]
  },
  {
   "cell_type": "code",
   "execution_count": 32,
   "id": "2223900a",
   "metadata": {},
   "outputs": [
    {
     "data": {
      "text/plain": [
       "array([[ True, False],\n",
       "       [ True, False]])"
      ]
     },
     "execution_count": 32,
     "metadata": {},
     "output_type": "execute_result"
    }
   ],
   "source": [
    "np.full((2,2),[True,False])"
   ]
  },
  {
   "cell_type": "code",
   "execution_count": null,
   "id": "4ae22564",
   "metadata": {},
   "outputs": [],
   "source": [
    "#arange\n",
    "returns evenly spaced values within a given a range\n",
    "arange(start,stop(ex),step)\n"
   ]
  },
  {
   "cell_type": "code",
   "execution_count": 33,
   "id": "38fe8ba5",
   "metadata": {},
   "outputs": [
    {
     "data": {
      "text/plain": [
       "array([ 1,  3,  5,  7,  9, 11, 13, 15, 17, 19])"
      ]
     },
     "execution_count": 33,
     "metadata": {},
     "output_type": "execute_result"
    }
   ],
   "source": [
    "a=np.arange(1,21,2)\n",
    "a"
   ]
  },
  {
   "cell_type": "code",
   "execution_count": null,
   "id": "0fcc946f",
   "metadata": {},
   "outputs": [],
   "source": [
    "#linspace\n",
    "returns evenly spaced numbers within the given range\n",
    "linspace(start,stop,number)"
   ]
  },
  {
   "cell_type": "code",
   "execution_count": 36,
   "id": "3e64c892",
   "metadata": {},
   "outputs": [
    {
     "data": {
      "text/plain": [
       "array([  1., 101., 201.])"
      ]
     },
     "execution_count": 36,
     "metadata": {},
     "output_type": "execute_result"
    }
   ],
   "source": [
    "a=np.linspace(1,201,3)\n",
    "a"
   ]
  },
  {
   "cell_type": "code",
   "execution_count": 37,
   "id": "608360ef",
   "metadata": {},
   "outputs": [
    {
     "data": {
      "text/plain": [
       "array([ 0.,  5., 10.])"
      ]
     },
     "execution_count": 37,
     "metadata": {},
     "output_type": "execute_result"
    }
   ],
   "source": [
    "b=np.arange(0,10.5,5)\n",
    "b"
   ]
  },
  {
   "cell_type": "code",
   "execution_count": 120,
   "id": "b4ba96f2",
   "metadata": {},
   "outputs": [
    {
     "data": {
      "text/plain": [
       "array([ 0.   ,  2.625,  5.25 ,  7.875, 10.5  ])"
      ]
     },
     "execution_count": 120,
     "metadata": {},
     "output_type": "execute_result"
    }
   ],
   "source": [
    "b=np.linspace(0,10.5,5)\n",
    "b"
   ]
  },
  {
   "cell_type": "code",
   "execution_count": 121,
   "id": "38de7435",
   "metadata": {},
   "outputs": [
    {
     "data": {
      "text/plain": [
       "array([ 0, 11, 22, 33, 44, 55, 66, 77, 88, 99])"
      ]
     },
     "execution_count": 121,
     "metadata": {},
     "output_type": "execute_result"
    }
   ],
   "source": [
    "c=np.arange(0,100,11)\n",
    "c"
   ]
  },
  {
   "cell_type": "code",
   "execution_count": 10,
   "id": "58f09eed",
   "metadata": {},
   "outputs": [
    {
     "data": {
      "text/plain": [
       "array([  0.        ,   4.16666667,   8.33333333,  12.5       ,\n",
       "        16.66666667,  20.83333333,  25.        ,  29.16666667,\n",
       "        33.33333333,  37.5       ,  41.66666667,  45.83333333,\n",
       "        50.        ,  54.16666667,  58.33333333,  62.5       ,\n",
       "        66.66666667,  70.83333333,  75.        ,  79.16666667,\n",
       "        83.33333333,  87.5       ,  91.66666667,  95.83333333,\n",
       "       100.        ])"
      ]
     },
     "execution_count": 10,
     "metadata": {},
     "output_type": "execute_result"
    }
   ],
   "source": [
    "c=np.linspace(0,100,25)\n",
    "c"
   ]
  },
  {
   "cell_type": "code",
   "execution_count": 38,
   "id": "a0a3eb47",
   "metadata": {},
   "outputs": [
    {
     "data": {
      "text/plain": [
       "array([10, 13, 16, 19])"
      ]
     },
     "execution_count": 38,
     "metadata": {},
     "output_type": "execute_result"
    }
   ],
   "source": [
    "e=np.arange(10,20,3)\n",
    "e"
   ]
  },
  {
   "cell_type": "code",
   "execution_count": 124,
   "id": "a217b1d2",
   "metadata": {},
   "outputs": [
    {
     "data": {
      "text/plain": [
       "array([10., 15., 20.])"
      ]
     },
     "execution_count": 124,
     "metadata": {},
     "output_type": "execute_result"
    }
   ],
   "source": [
    "e=np.linspace(10,20,3)\n",
    "e"
   ]
  },
  {
   "cell_type": "code",
   "execution_count": 13,
   "id": "ba213a25",
   "metadata": {},
   "outputs": [
    {
     "data": {
      "text/plain": [
       "array([0.20540163, 0.09107654, 0.39097975, 0.06946185, 0.4823832 ,\n",
       "       0.28085372, 0.6256082 , 0.88422331, 0.29856493, 0.90619334])"
      ]
     },
     "execution_count": 13,
     "metadata": {},
     "output_type": "execute_result"
    }
   ],
   "source": [
    "a=np.random.rand(10)\n",
    "a"
   ]
  },
  {
   "cell_type": "code",
   "execution_count": 137,
   "id": "c4a63b11",
   "metadata": {},
   "outputs": [],
   "source": [
    "#array([0.51157562, 0.17881898, 0.92487571, 0.5854005 ,0.9207735 ,0.6085032 , 0.07108224, 0.98883636, 0.89867808, 0.97084618])"
   ]
  },
  {
   "cell_type": "code",
   "execution_count": 39,
   "id": "cffba7d1",
   "metadata": {},
   "outputs": [
    {
     "data": {
      "text/plain": [
       "array([  1., 101., 201.])"
      ]
     },
     "execution_count": 39,
     "metadata": {},
     "output_type": "execute_result"
    }
   ],
   "source": [
    "a"
   ]
  },
  {
   "cell_type": "code",
   "execution_count": 86,
   "id": "7d1a3acb",
   "metadata": {},
   "outputs": [],
   "source": [
    "x=np.random.rand(2,2,3)"
   ]
  },
  {
   "cell_type": "code",
   "execution_count": 89,
   "id": "d06676e4-6d39-4a8b-a367-4d9ba48069fe",
   "metadata": {},
   "outputs": [
    {
     "data": {
      "text/plain": [
       "array([[[0.13521817, 0.32414101, 0.14967487],\n",
       "        [0.22232139, 0.38648898, 0.90259848]],\n",
       "\n",
       "       [[0.44994999, 0.61306346, 0.90234858],\n",
       "        [0.09928035, 0.96980907, 0.65314004]]])"
      ]
     },
     "execution_count": 89,
     "metadata": {},
     "output_type": "execute_result"
    }
   ],
   "source": [
    "x"
   ]
  },
  {
   "cell_type": "code",
   "execution_count": 91,
   "id": "4a6415c8-ca50-471f-b348-a378df17e7ef",
   "metadata": {},
   "outputs": [
    {
     "data": {
      "text/plain": [
       "0.13521817340545206"
      ]
     },
     "execution_count": 91,
     "metadata": {},
     "output_type": "execute_result"
    }
   ],
   "source": [
    "x[0,0,0]"
   ]
  },
  {
   "cell_type": "code",
   "execution_count": 19,
   "id": "54adc2df",
   "metadata": {},
   "outputs": [],
   "source": [
    "import random"
   ]
  },
  {
   "cell_type": "code",
   "execution_count": 32,
   "id": "43fbf786",
   "metadata": {},
   "outputs": [
    {
     "data": {
      "text/plain": [
       "0.922324996665417"
      ]
     },
     "execution_count": 32,
     "metadata": {},
     "output_type": "execute_result"
    }
   ],
   "source": [
    "#random.seed(5)\n",
    "random.random()"
   ]
  },
  {
   "cell_type": "code",
   "execution_count": 28,
   "id": "6f6dac8c",
   "metadata": {},
   "outputs": [
    {
     "data": {
      "text/plain": [
       "0.4745706786885481"
      ]
     },
     "execution_count": 28,
     "metadata": {},
     "output_type": "execute_result"
    }
   ],
   "source": [
    "0.4745706786885481"
   ]
  },
  {
   "cell_type": "code",
   "execution_count": 33,
   "id": "287f496c",
   "metadata": {},
   "outputs": [
    {
     "data": {
      "text/plain": [
       "array([[[0.5488135 , 0.71518937, 0.60276338],\n",
       "        [0.54488318, 0.4236548 , 0.64589411]],\n",
       "\n",
       "       [[0.43758721, 0.891773  , 0.96366276],\n",
       "        [0.38344152, 0.79172504, 0.52889492]]])"
      ]
     },
     "execution_count": 33,
     "metadata": {},
     "output_type": "execute_result"
    }
   ],
   "source": [
    "np.random.seed(0)\n",
    "np.random.rand(2,2,3)"
   ]
  },
  {
   "cell_type": "code",
   "execution_count": 198,
   "id": "b5ac8060",
   "metadata": {},
   "outputs": [
    {
     "ename": "NameError",
     "evalue": "name 'low' is not defined",
     "output_type": "error",
     "traceback": [
      "\u001b[1;31m---------------------------------------------------------------------------\u001b[0m",
      "\u001b[1;31mNameError\u001b[0m                                 Traceback (most recent call last)",
      "Cell \u001b[1;32mIn[198], line 1\u001b[0m\n\u001b[1;32m----> 1\u001b[0m low(included),high(exculded)\n",
      "\u001b[1;31mNameError\u001b[0m: name 'low' is not defined"
     ]
    }
   ],
   "source": [
    "low(included),high(exculded)"
   ]
  },
  {
   "cell_type": "code",
   "execution_count": 37,
   "id": "f417b14d",
   "metadata": {},
   "outputs": [
    {
     "data": {
      "text/plain": [
       "array([30, 20, 20, 15, 40])"
      ]
     },
     "execution_count": 37,
     "metadata": {},
     "output_type": "execute_result"
    }
   ],
   "source": [
    "np.random.randint(1,43,5)"
   ]
  },
  {
   "cell_type": "code",
   "execution_count": 38,
   "id": "1e5762d3",
   "metadata": {},
   "outputs": [
    {
     "data": {
      "text/plain": [
       "array([0, 1, 9, 9, 0, 4])"
      ]
     },
     "execution_count": 38,
     "metadata": {},
     "output_type": "execute_result"
    }
   ],
   "source": [
    "np.random.randint(10,size=6)"
   ]
  },
  {
   "cell_type": "code",
   "execution_count": 39,
   "id": "c388b570",
   "metadata": {},
   "outputs": [
    {
     "data": {
      "text/plain": [
       "array([[152, 164, 371],\n",
       "       [184,  29, 291]])"
      ]
     },
     "execution_count": 39,
     "metadata": {},
     "output_type": "execute_result"
    }
   ],
   "source": [
    "np.random.randint(1,400,size=(2,3))"
   ]
  },
  {
   "cell_type": "code",
   "execution_count": 42,
   "id": "b79991e9",
   "metadata": {},
   "outputs": [
    {
     "data": {
      "text/plain": [
       "array([[1, 0, 0, 0, 0],\n",
       "       [0, 1, 0, 0, 0],\n",
       "       [0, 0, 1, 0, 0],\n",
       "       [0, 0, 0, 1, 0],\n",
       "       [0, 0, 0, 0, 1]])"
      ]
     },
     "execution_count": 42,
     "metadata": {},
     "output_type": "execute_result"
    }
   ],
   "source": [
    "np.eye(5,dtype=int)"
   ]
  },
  {
   "cell_type": "code",
   "execution_count": 43,
   "id": "9515f901",
   "metadata": {},
   "outputs": [
    {
     "data": {
      "text/plain": [
       "array([[1, 0, 0, 0, 0, 0],\n",
       "       [0, 1, 0, 0, 0, 0],\n",
       "       [0, 0, 1, 0, 0, 0],\n",
       "       [0, 0, 0, 1, 0, 0],\n",
       "       [0, 0, 0, 0, 1, 0],\n",
       "       [0, 0, 0, 0, 0, 1]])"
      ]
     },
     "execution_count": 43,
     "metadata": {},
     "output_type": "execute_result"
    }
   ],
   "source": [
    "np.identity(6,dtype=int)"
   ]
  },
  {
   "cell_type": "code",
   "execution_count": null,
   "id": "e8ada21a",
   "metadata": {},
   "outputs": [],
   "source": [
    "#slicing and dicing in an array"
   ]
  },
  {
   "cell_type": "code",
   "execution_count": 49,
   "id": "b812746a",
   "metadata": {},
   "outputs": [],
   "source": [
    "a=np.arange(20).reshape(2,10)"
   ]
  },
  {
   "cell_type": "code",
   "execution_count": 50,
   "id": "7a997a03",
   "metadata": {},
   "outputs": [
    {
     "data": {
      "text/plain": [
       "array([[ 0,  1,  2,  3,  4,  5,  6,  7,  8,  9],\n",
       "       [10, 11, 12, 13, 14, 15, 16, 17, 18, 19]])"
      ]
     },
     "execution_count": 50,
     "metadata": {},
     "output_type": "execute_result"
    }
   ],
   "source": [
    "a"
   ]
  },
  {
   "cell_type": "code",
   "execution_count": 2,
   "id": "e89b67d3",
   "metadata": {},
   "outputs": [
    {
     "data": {
      "text/plain": [
       "array([ 10.,  29.,  48.,  67.,  86., 105., 124., 143., 162., 181., 200.])"
      ]
     },
     "execution_count": 2,
     "metadata": {},
     "output_type": "execute_result"
    }
   ],
   "source": [
    "import numpy as np\n",
    "arr=np.linspace(10,200,11)\n",
    "arr"
   ]
  },
  {
   "cell_type": "code",
   "execution_count": 3,
   "id": "7c90c8dd",
   "metadata": {},
   "outputs": [
    {
     "data": {
      "text/plain": [
       "86.0"
      ]
     },
     "execution_count": 3,
     "metadata": {},
     "output_type": "execute_result"
    }
   ],
   "source": [
    "arr[4]"
   ]
  },
  {
   "cell_type": "code",
   "execution_count": 57,
   "id": "b88c24a1",
   "metadata": {},
   "outputs": [
    {
     "data": {
      "text/plain": [
       "array([ 86., 105., 124.])"
      ]
     },
     "execution_count": 57,
     "metadata": {},
     "output_type": "execute_result"
    }
   ],
   "source": [
    "arr[-7:-4]"
   ]
  },
  {
   "cell_type": "code",
   "execution_count": null,
   "id": "aaffe550-33ca-4557-883b-a8ee4e7b14a3",
   "metadata": {},
   "outputs": [],
   "source": [
    "-7 , -6 ,-5\n"
   ]
  },
  {
   "cell_type": "code",
   "execution_count": null,
   "id": "933c58d2-b711-4bfb-80f1-52b23a3b147e",
   "metadata": {},
   "outputs": [],
   "source": [
    "2:5 -> 2,3,4 stops"
   ]
  },
  {
   "cell_type": "code",
   "execution_count": 4,
   "id": "3192403c",
   "metadata": {},
   "outputs": [
    {
     "data": {
      "text/plain": [
       "array([], dtype=float64)"
      ]
     },
     "execution_count": 4,
     "metadata": {},
     "output_type": "execute_result"
    }
   ],
   "source": [
    "arr[-7:2:1]\n"
   ]
  },
  {
   "cell_type": "code",
   "execution_count": 222,
   "id": "e5de22a9",
   "metadata": {},
   "outputs": [
    {
     "data": {
      "text/plain": [
       "array([143., 124., 105.])"
      ]
     },
     "execution_count": 222,
     "metadata": {},
     "output_type": "execute_result"
    }
   ],
   "source": [
    "arr[-4:-7:-1]"
   ]
  },
  {
   "cell_type": "code",
   "execution_count": 5,
   "id": "dcf105a3",
   "metadata": {},
   "outputs": [
    {
     "data": {
      "text/plain": [
       "array([[1, 2, 3],\n",
       "       [4, 5, 6],\n",
       "       [7, 8, 9]])"
      ]
     },
     "execution_count": 5,
     "metadata": {},
     "output_type": "execute_result"
    }
   ],
   "source": [
    "arr2=np.array([[1,2,3],[4,5,6],[7,8,9]])\n",
    "arr2"
   ]
  },
  {
   "cell_type": "markdown",
   "id": "05c5f839-463e-4744-80ab-30cb3b523ee9",
   "metadata": {},
   "source": [
    "indexinging[row][column]or[row,column]"
   ]
  },
  {
   "cell_type": "code",
   "execution_count": 6,
   "id": "0f802f69",
   "metadata": {},
   "outputs": [
    {
     "data": {
      "text/plain": [
       "2"
      ]
     },
     "execution_count": 6,
     "metadata": {},
     "output_type": "execute_result"
    }
   ],
   "source": [
    "arr2[0][1]"
   ]
  },
  {
   "cell_type": "markdown",
   "id": "375d19ab-cc72-4fcd-9388-52f16db39338",
   "metadata": {},
   "source": [
    "slicing=[startr:stopr,startc:stopc]"
   ]
  },
  {
   "cell_type": "code",
   "execution_count": 7,
   "id": "5ff7f0dc",
   "metadata": {},
   "outputs": [
    {
     "data": {
      "text/plain": [
       "array([[1, 2, 3],\n",
       "       [4, 5, 6],\n",
       "       [7, 8, 9]])"
      ]
     },
     "execution_count": 7,
     "metadata": {},
     "output_type": "execute_result"
    }
   ],
   "source": [
    "arr2"
   ]
  },
  {
   "cell_type": "code",
   "execution_count": 8,
   "id": "8e7fd8eb-9395-4826-9ee0-c345340c01b4",
   "metadata": {},
   "outputs": [
    {
     "data": {
      "text/plain": [
       "array([[4, 5, 6]])"
      ]
     },
     "execution_count": 8,
     "metadata": {},
     "output_type": "execute_result"
    }
   ],
   "source": [
    "arr2[1:2,:3]"
   ]
  },
  {
   "cell_type": "code",
   "execution_count": 84,
   "id": "7406985b",
   "metadata": {},
   "outputs": [
    {
     "data": {
      "text/plain": [
       "array([[4, 5],\n",
       "       [7, 8]])"
      ]
     },
     "execution_count": 84,
     "metadata": {},
     "output_type": "execute_result"
    }
   ],
   "source": [
    "arr2[1:,0:2]"
   ]
  },
  {
   "cell_type": "code",
   "execution_count": 234,
   "id": "6eab97d5",
   "metadata": {},
   "outputs": [
    {
     "data": {
      "text/plain": [
       "array([[2, 3],\n",
       "       [5, 6]])"
      ]
     },
     "execution_count": 234,
     "metadata": {},
     "output_type": "execute_result"
    }
   ],
   "source": [
    "arr2[0:2,1:]"
   ]
  },
  {
   "cell_type": "code",
   "execution_count": 10,
   "id": "bf37dbf8",
   "metadata": {},
   "outputs": [
    {
     "data": {
      "text/plain": [
       "array([[78, 97, 24],\n",
       "       [25,  1,  3],\n",
       "       [ 9,  4,  2]])"
      ]
     },
     "execution_count": 10,
     "metadata": {},
     "output_type": "execute_result"
    }
   ],
   "source": [
    "arr_2d=np.array([[78,97,24],[25,1,3],[9,4,2]])\n",
    "arr_2d"
   ]
  },
  {
   "cell_type": "code",
   "execution_count": 11,
   "id": "a0a9d808",
   "metadata": {},
   "outputs": [
    {
     "data": {
      "text/plain": [
       "array([[4, 2]])"
      ]
     },
     "execution_count": 11,
     "metadata": {},
     "output_type": "execute_result"
    }
   ],
   "source": [
    "arr_2d[2:,1:3]"
   ]
  },
  {
   "cell_type": "code",
   "execution_count": 237,
   "id": "a3f27de2",
   "metadata": {},
   "outputs": [
    {
     "data": {
      "text/plain": [
       "array([[1],\n",
       "       [4]])"
      ]
     },
     "execution_count": 237,
     "metadata": {},
     "output_type": "execute_result"
    }
   ],
   "source": [
    "arr_2d[1:,1:2]"
   ]
  },
  {
   "cell_type": "code",
   "execution_count": 240,
   "id": "2776a719",
   "metadata": {},
   "outputs": [
    {
     "data": {
      "text/plain": [
       "array([[24],\n",
       "       [ 3]])"
      ]
     },
     "execution_count": 240,
     "metadata": {},
     "output_type": "execute_result"
    }
   ],
   "source": [
    "arr_2d[:2,2:]"
   ]
  },
  {
   "cell_type": "code",
   "execution_count": 241,
   "id": "f1b5d8e4",
   "metadata": {},
   "outputs": [
    {
     "data": {
      "text/plain": [
       "array([[97, 24],\n",
       "       [ 1,  3]])"
      ]
     },
     "execution_count": 241,
     "metadata": {},
     "output_type": "execute_result"
    }
   ],
   "source": [
    "arr_2d[:2,1:3]"
   ]
  },
  {
   "cell_type": "code",
   "execution_count": 242,
   "id": "8ec4dc53",
   "metadata": {},
   "outputs": [
    {
     "data": {
      "text/plain": [
       "array([[78, 97, 24],\n",
       "       [25,  1,  3],\n",
       "       [ 9,  4,  2]])"
      ]
     },
     "execution_count": 242,
     "metadata": {},
     "output_type": "execute_result"
    }
   ],
   "source": [
    "arr_2d"
   ]
  },
  {
   "cell_type": "code",
   "execution_count": 244,
   "id": "d3e2dee3",
   "metadata": {},
   "outputs": [
    {
     "data": {
      "text/plain": [
       "array([[78],\n",
       "       [25]])"
      ]
     },
     "execution_count": 244,
     "metadata": {},
     "output_type": "execute_result"
    }
   ],
   "source": [
    "arr_2d[0:2,0:1]"
   ]
  },
  {
   "cell_type": "code",
   "execution_count": 245,
   "id": "c3eca0b4",
   "metadata": {},
   "outputs": [
    {
     "data": {
      "text/plain": [
       "array([[ 0,  1,  2,  3,  4],\n",
       "       [ 5,  6,  7,  8,  9],\n",
       "       [10, 11, 12, 13, 14],\n",
       "       [15, 16, 17, 18, 19]])"
      ]
     },
     "execution_count": 245,
     "metadata": {},
     "output_type": "execute_result"
    }
   ],
   "source": [
    "a"
   ]
  },
  {
   "cell_type": "code",
   "execution_count": 246,
   "id": "a4b5f164",
   "metadata": {},
   "outputs": [
    {
     "data": {
      "text/plain": [
       "12"
      ]
     },
     "execution_count": 246,
     "metadata": {},
     "output_type": "execute_result"
    }
   ],
   "source": [
    "a[2,2]"
   ]
  },
  {
   "cell_type": "code",
   "execution_count": 247,
   "id": "490f3a28",
   "metadata": {},
   "outputs": [
    {
     "data": {
      "text/plain": [
       "array([[11, 12, 13],\n",
       "       [16, 17, 18]])"
      ]
     },
     "execution_count": 247,
     "metadata": {},
     "output_type": "execute_result"
    }
   ],
   "source": [
    "a[2:,1:4]"
   ]
  },
  {
   "cell_type": "code",
   "execution_count": 250,
   "id": "b25d3cee",
   "metadata": {},
   "outputs": [
    {
     "data": {
      "text/plain": [
       "array([[ 2],\n",
       "       [ 7],\n",
       "       [12],\n",
       "       [17]])"
      ]
     },
     "execution_count": 250,
     "metadata": {},
     "output_type": "execute_result"
    }
   ],
   "source": [
    "a[:,-3:-2]"
   ]
  },
  {
   "cell_type": "code",
   "execution_count": 251,
   "id": "d02d9ff3",
   "metadata": {},
   "outputs": [
    {
     "data": {
      "text/plain": [
       "array([[ 2],\n",
       "       [ 7],\n",
       "       [12],\n",
       "       [17]])"
      ]
     },
     "execution_count": 251,
     "metadata": {},
     "output_type": "execute_result"
    }
   ],
   "source": [
    "a[:,2:3]"
   ]
  },
  {
   "cell_type": "code",
   "execution_count": 252,
   "id": "e0bcd7ed",
   "metadata": {},
   "outputs": [
    {
     "data": {
      "text/plain": [
       "array([[ 0,  1,  2,  3,  4],\n",
       "       [ 5,  6,  7,  8,  9],\n",
       "       [10, 11, 12, 13, 14],\n",
       "       [15, 16, 17, 18, 19]])"
      ]
     },
     "execution_count": 252,
     "metadata": {},
     "output_type": "execute_result"
    }
   ],
   "source": [
    "a"
   ]
  },
  {
   "cell_type": "code",
   "execution_count": 254,
   "id": "0cbfda95",
   "metadata": {},
   "outputs": [
    {
     "data": {
      "text/plain": [
       "array([[2],\n",
       "       [7]])"
      ]
     },
     "execution_count": 254,
     "metadata": {},
     "output_type": "execute_result"
    }
   ],
   "source": [
    "a[:2,2:3]"
   ]
  },
  {
   "cell_type": "code",
   "execution_count": 257,
   "id": "08e26ad1",
   "metadata": {},
   "outputs": [
    {
     "data": {
      "text/plain": [
       "array([[ 1],\n",
       "       [ 6],\n",
       "       [11]])"
      ]
     },
     "execution_count": 257,
     "metadata": {},
     "output_type": "execute_result"
    }
   ],
   "source": [
    "a[:3,1:2]"
   ]
  },
  {
   "cell_type": "code",
   "execution_count": 258,
   "id": "f4c5bedc",
   "metadata": {},
   "outputs": [
    {
     "data": {
      "text/plain": [
       "array([[ 6,  7],\n",
       "       [11, 12]])"
      ]
     },
     "execution_count": 258,
     "metadata": {},
     "output_type": "execute_result"
    }
   ],
   "source": [
    "a[1:3,1:3]"
   ]
  },
  {
   "cell_type": "code",
   "execution_count": 259,
   "id": "c809d654",
   "metadata": {},
   "outputs": [],
   "source": [
    "arrr=np.array([[\"a\",\"b\",\"c\",\"d\"],[\"b\",\"c\",\"e\",\"g\"],[\"t\",\"i\",\"j\",\"k\"],[\"u\",\"j\",\"o\",\"k\"]])"
   ]
  },
  {
   "cell_type": "code",
   "execution_count": 260,
   "id": "422351ac",
   "metadata": {},
   "outputs": [
    {
     "data": {
      "text/plain": [
       "array([['a', 'b', 'c', 'd'],\n",
       "       ['b', 'c', 'e', 'g'],\n",
       "       ['t', 'i', 'j', 'k'],\n",
       "       ['u', 'j', 'o', 'k']], dtype='<U1')"
      ]
     },
     "execution_count": 260,
     "metadata": {},
     "output_type": "execute_result"
    }
   ],
   "source": [
    "arrr"
   ]
  },
  {
   "cell_type": "code",
   "execution_count": 261,
   "id": "3c6dac21",
   "metadata": {},
   "outputs": [
    {
     "data": {
      "text/plain": [
       "array([['c', 'e'],\n",
       "       ['i', 'j'],\n",
       "       ['j', 'o']], dtype='<U1')"
      ]
     },
     "execution_count": 261,
     "metadata": {},
     "output_type": "execute_result"
    }
   ],
   "source": [
    "arrr[1:4,1:3]"
   ]
  },
  {
   "cell_type": "code",
   "execution_count": 262,
   "id": "84a25daf",
   "metadata": {},
   "outputs": [
    {
     "data": {
      "text/plain": [
       "array([['b', 'c'],\n",
       "       ['t', 'i']], dtype='<U1')"
      ]
     },
     "execution_count": 262,
     "metadata": {},
     "output_type": "execute_result"
    }
   ],
   "source": [
    "arrr[1:3,0:2]"
   ]
  },
  {
   "cell_type": "code",
   "execution_count": 263,
   "id": "2d1879cc",
   "metadata": {},
   "outputs": [
    {
     "data": {
      "text/plain": [
       "array([['c', 'd'],\n",
       "       ['e', 'g']], dtype='<U1')"
      ]
     },
     "execution_count": 263,
     "metadata": {},
     "output_type": "execute_result"
    }
   ],
   "source": [
    "arrr[0:2,2:]"
   ]
  },
  {
   "cell_type": "code",
   "execution_count": 264,
   "id": "ab176272",
   "metadata": {},
   "outputs": [
    {
     "data": {
      "text/plain": [
       "array([['i', 'j', 'k'],\n",
       "       ['j', 'o', 'k']], dtype='<U1')"
      ]
     },
     "execution_count": 264,
     "metadata": {},
     "output_type": "execute_result"
    }
   ],
   "source": [
    "arrr[2:4,1:]"
   ]
  },
  {
   "cell_type": "code",
   "execution_count": 265,
   "id": "857fb469",
   "metadata": {},
   "outputs": [
    {
     "data": {
      "text/plain": [
       "array([[[1, 2],\n",
       "        [3, 4]],\n",
       "\n",
       "       [[5, 6],\n",
       "        [7, 8]]])"
      ]
     },
     "execution_count": 265,
     "metadata": {},
     "output_type": "execute_result"
    }
   ],
   "source": [
    "arr_3d=np.array([[[1,2],[3,4]],[[5,6],[7,8]]])\n",
    "arr_3d"
   ]
  },
  {
   "cell_type": "code",
   "execution_count": null,
   "id": "53bf9c67",
   "metadata": {},
   "outputs": [],
   "source": [
    "indexing[set][rows][columns]"
   ]
  },
  {
   "cell_type": "code",
   "execution_count": 266,
   "id": "17d035bb",
   "metadata": {},
   "outputs": [
    {
     "data": {
      "text/plain": [
       "6"
      ]
     },
     "execution_count": 266,
     "metadata": {},
     "output_type": "execute_result"
    }
   ],
   "source": [
    "arr_3d[1][0][1]"
   ]
  },
  {
   "cell_type": "code",
   "execution_count": 267,
   "id": "b8fb2bd5",
   "metadata": {},
   "outputs": [
    {
     "data": {
      "text/plain": [
       "1"
      ]
     },
     "execution_count": 267,
     "metadata": {},
     "output_type": "execute_result"
    }
   ],
   "source": [
    "arr_3d[0,0,0]"
   ]
  },
  {
   "cell_type": "code",
   "execution_count": 268,
   "id": "90396012",
   "metadata": {},
   "outputs": [
    {
     "data": {
      "text/plain": [
       "4"
      ]
     },
     "execution_count": 268,
     "metadata": {},
     "output_type": "execute_result"
    }
   ],
   "source": [
    "arr_3d[0,1,1]"
   ]
  },
  {
   "cell_type": "code",
   "execution_count": 269,
   "id": "6f313349",
   "metadata": {},
   "outputs": [
    {
     "data": {
      "text/plain": [
       "8"
      ]
     },
     "execution_count": 269,
     "metadata": {},
     "output_type": "execute_result"
    }
   ],
   "source": [
    "arr_3d[1,1,1]"
   ]
  },
  {
   "cell_type": "code",
   "execution_count": 270,
   "id": "dd792f7c",
   "metadata": {},
   "outputs": [
    {
     "data": {
      "text/plain": [
       "7"
      ]
     },
     "execution_count": 270,
     "metadata": {},
     "output_type": "execute_result"
    }
   ],
   "source": [
    "arr_3d[1,1,0]"
   ]
  },
  {
   "cell_type": "code",
   "execution_count": 271,
   "id": "c5aa793e",
   "metadata": {},
   "outputs": [
    {
     "data": {
      "text/plain": [
       "array([[[1, 2],\n",
       "        [3, 4]],\n",
       "\n",
       "       [[5, 6],\n",
       "        [7, 8]]])"
      ]
     },
     "execution_count": 271,
     "metadata": {},
     "output_type": "execute_result"
    }
   ],
   "source": [
    "arr_3d"
   ]
  },
  {
   "cell_type": "code",
   "execution_count": null,
   "id": "c66d91aa",
   "metadata": {},
   "outputs": [],
   "source": [
    "slicing[ss:sts,sr:str,sc:stc]"
   ]
  },
  {
   "cell_type": "code",
   "execution_count": 272,
   "id": "161ad8d1",
   "metadata": {},
   "outputs": [
    {
     "data": {
      "text/plain": [
       "array([[[1, 2]],\n",
       "\n",
       "       [[5, 6]]])"
      ]
     },
     "execution_count": 272,
     "metadata": {},
     "output_type": "execute_result"
    }
   ],
   "source": [
    "arr_3d[0:2,0:1,0:]"
   ]
  },
  {
   "cell_type": "code",
   "execution_count": 273,
   "id": "925fb683",
   "metadata": {},
   "outputs": [
    {
     "data": {
      "text/plain": [
       "array([[[3, 4]],\n",
       "\n",
       "       [[7, 8]]])"
      ]
     },
     "execution_count": 273,
     "metadata": {},
     "output_type": "execute_result"
    }
   ],
   "source": [
    "arr_3d[0:2,1:,0:]"
   ]
  },
  {
   "cell_type": "code",
   "execution_count": 274,
   "id": "6119857f",
   "metadata": {},
   "outputs": [
    {
     "data": {
      "text/plain": [
       "array([[[1, 2],\n",
       "        [3, 4]],\n",
       "\n",
       "       [[5, 6],\n",
       "        [7, 8]]])"
      ]
     },
     "execution_count": 274,
     "metadata": {},
     "output_type": "execute_result"
    }
   ],
   "source": [
    "arr_3d"
   ]
  },
  {
   "cell_type": "code",
   "execution_count": 276,
   "id": "5403623e",
   "metadata": {},
   "outputs": [
    {
     "data": {
      "text/plain": [
       "array([[[1, 2],\n",
       "        [3, 4]]])"
      ]
     },
     "execution_count": 276,
     "metadata": {},
     "output_type": "execute_result"
    }
   ],
   "source": [
    "arr_3d[0:1,:,:]"
   ]
  },
  {
   "cell_type": "code",
   "execution_count": 277,
   "id": "a0886863",
   "metadata": {},
   "outputs": [
    {
     "data": {
      "text/plain": [
       "array([[[ 0,  1,  2,  3,  4],\n",
       "        [ 5,  6,  7,  8,  9]],\n",
       "\n",
       "       [[10, 11, 12, 13, 14],\n",
       "        [15, 16, 17, 18, 19]],\n",
       "\n",
       "       [[20, 21, 22, 23, 24],\n",
       "        [25, 26, 27, 28, 29]]])"
      ]
     },
     "execution_count": 277,
     "metadata": {},
     "output_type": "execute_result"
    }
   ],
   "source": [
    "arr3d=np.arange(30).reshape(3,2,5)\n",
    "arr3d"
   ]
  },
  {
   "cell_type": "code",
   "execution_count": 278,
   "id": "b461dc0e",
   "metadata": {},
   "outputs": [
    {
     "data": {
      "text/plain": [
       "array([[[ 6]],\n",
       "\n",
       "       [[16]],\n",
       "\n",
       "       [[26]]])"
      ]
     },
     "execution_count": 278,
     "metadata": {},
     "output_type": "execute_result"
    }
   ],
   "source": [
    "arr3d[0:,1:,1:2]"
   ]
  },
  {
   "cell_type": "code",
   "execution_count": 279,
   "id": "c90eb546",
   "metadata": {},
   "outputs": [
    {
     "data": {
      "text/plain": [
       "array([[[ 2,  3]],\n",
       "\n",
       "       [[12, 13]],\n",
       "\n",
       "       [[22, 23]]])"
      ]
     },
     "execution_count": 279,
     "metadata": {},
     "output_type": "execute_result"
    }
   ],
   "source": [
    "arr3d[0:,0:1,2:4]"
   ]
  },
  {
   "cell_type": "code",
   "execution_count": null,
   "id": "ae3e496c",
   "metadata": {},
   "outputs": [],
   "source": [
    "#Arithematic operation"
   ]
  },
  {
   "cell_type": "code",
   "execution_count": 95,
   "id": "2614c6b1",
   "metadata": {},
   "outputs": [
    {
     "data": {
      "text/plain": [
       "array([[ 0,  1,  2,  3,  4,  5,  6,  7,  8,  9],\n",
       "       [10, 11, 12, 13, 14, 15, 16, 17, 18, 19]])"
      ]
     },
     "execution_count": 95,
     "metadata": {},
     "output_type": "execute_result"
    }
   ],
   "source": [
    "a"
   ]
  },
  {
   "cell_type": "code",
   "execution_count": 93,
   "id": "d9137401",
   "metadata": {},
   "outputs": [
    {
     "data": {
      "text/plain": [
       "array([[  0,  10,  20,  30,  40,  50,  60,  70,  80,  90],\n",
       "       [100, 110, 120, 130, 140, 150, 160, 170, 180, 190]])"
      ]
     },
     "execution_count": 93,
     "metadata": {},
     "output_type": "execute_result"
    }
   ],
   "source": [
    "a*10"
   ]
  },
  {
   "cell_type": "code",
   "execution_count": 94,
   "id": "c23075a1",
   "metadata": {},
   "outputs": [
    {
     "data": {
      "text/plain": [
       "array([[ 0,  2,  4,  6,  8, 10, 12, 14, 16, 18],\n",
       "       [20, 22, 24, 26, 28, 30, 32, 34, 36, 38]])"
      ]
     },
     "execution_count": 94,
     "metadata": {},
     "output_type": "execute_result"
    }
   ],
   "source": [
    "a+a"
   ]
  },
  {
   "cell_type": "code",
   "execution_count": 96,
   "id": "55a98c99",
   "metadata": {},
   "outputs": [],
   "source": [
    "a=np.array([1,2,3,9])\n",
    "b=np.array([1,2,3,4])"
   ]
  },
  {
   "cell_type": "code",
   "execution_count": 98,
   "id": "e1b32bd5",
   "metadata": {},
   "outputs": [
    {
     "data": {
      "text/plain": [
       "array([0, 0, 0, 1])"
      ]
     },
     "execution_count": 98,
     "metadata": {},
     "output_type": "execute_result"
    }
   ],
   "source": [
    "a%b"
   ]
  },
  {
   "cell_type": "code",
   "execution_count": 99,
   "id": "0d75bd77",
   "metadata": {},
   "outputs": [
    {
     "data": {
      "text/plain": [
       "False"
      ]
     },
     "execution_count": 99,
     "metadata": {},
     "output_type": "execute_result"
    }
   ],
   "source": [
    "a is b"
   ]
  },
  {
   "cell_type": "code",
   "execution_count": 100,
   "id": "204c5f9b",
   "metadata": {},
   "outputs": [],
   "source": [
    "x=a"
   ]
  },
  {
   "cell_type": "code",
   "execution_count": 101,
   "id": "1f864c07",
   "metadata": {},
   "outputs": [
    {
     "data": {
      "text/plain": [
       "True"
      ]
     },
     "execution_count": 101,
     "metadata": {},
     "output_type": "execute_result"
    }
   ],
   "source": [
    "a is x"
   ]
  },
  {
   "cell_type": "code",
   "execution_count": 298,
   "id": "f57df534",
   "metadata": {},
   "outputs": [
    {
     "data": {
      "text/plain": [
       "True"
      ]
     },
     "execution_count": 298,
     "metadata": {},
     "output_type": "execute_result"
    }
   ],
   "source": [
    "9 in a"
   ]
  },
  {
   "cell_type": "code",
   "execution_count": 103,
   "id": "80718d8e",
   "metadata": {},
   "outputs": [
    {
     "data": {
      "text/plain": [
       "False"
      ]
     },
     "execution_count": 103,
     "metadata": {},
     "output_type": "execute_result"
    }
   ],
   "source": [
    "10 in a"
   ]
  },
  {
   "cell_type": "code",
   "execution_count": 104,
   "id": "b5a3dadc",
   "metadata": {},
   "outputs": [
    {
     "data": {
      "text/plain": [
       "(array([1, 2, 3, 9]), array([1, 2, 3, 4]))"
      ]
     },
     "execution_count": 104,
     "metadata": {},
     "output_type": "execute_result"
    }
   ],
   "source": [
    "a,b"
   ]
  },
  {
   "cell_type": "code",
   "execution_count": 105,
   "id": "8de56b08",
   "metadata": {},
   "outputs": [
    {
     "data": {
      "text/plain": [
       "array([False, False, False, False])"
      ]
     },
     "execution_count": 105,
     "metadata": {},
     "output_type": "execute_result"
    }
   ],
   "source": [
    "a<b"
   ]
  },
  {
   "cell_type": "code",
   "execution_count": 303,
   "id": "ade858a8",
   "metadata": {},
   "outputs": [
    {
     "data": {
      "text/plain": [
       "array([1, 2, 3, 9])"
      ]
     },
     "execution_count": 303,
     "metadata": {},
     "output_type": "execute_result"
    }
   ],
   "source": [
    "a"
   ]
  },
  {
   "cell_type": "code",
   "execution_count": 106,
   "id": "b1a5b2e4",
   "metadata": {},
   "outputs": [],
   "source": [
    "a=np.arange(20).reshape(4,5)"
   ]
  },
  {
   "cell_type": "code",
   "execution_count": 107,
   "id": "5e3a3527",
   "metadata": {},
   "outputs": [
    {
     "data": {
      "text/plain": [
       "array([[ 0,  1,  2,  3,  4],\n",
       "       [ 5,  6,  7,  8,  9],\n",
       "       [10, 11, 12, 13, 14],\n",
       "       [15, 16, 17, 18, 19]])"
      ]
     },
     "execution_count": 107,
     "metadata": {},
     "output_type": "execute_result"
    }
   ],
   "source": [
    "a"
   ]
  },
  {
   "cell_type": "code",
   "execution_count": 307,
   "id": "6967b6c2",
   "metadata": {},
   "outputs": [
    {
     "data": {
      "text/plain": [
       "array([ 6,  7,  8,  9, 10, 11, 12, 13, 14, 15, 16, 17, 18, 19])"
      ]
     },
     "execution_count": 307,
     "metadata": {},
     "output_type": "execute_result"
    }
   ],
   "source": [
    "a[a>5]"
   ]
  },
  {
   "cell_type": "code",
   "execution_count": 108,
   "id": "82afc2b3",
   "metadata": {},
   "outputs": [
    {
     "data": {
      "text/plain": [
       "array([ 0,  2,  4,  6,  8, 10, 12, 14, 16, 18])"
      ]
     },
     "execution_count": 108,
     "metadata": {},
     "output_type": "execute_result"
    }
   ],
   "source": [
    "a[a%2==0]"
   ]
  },
  {
   "cell_type": "code",
   "execution_count": 109,
   "id": "9ddc822b",
   "metadata": {},
   "outputs": [
    {
     "data": {
      "text/plain": [
       "array([ 0,  5, 10, 15])"
      ]
     },
     "execution_count": 109,
     "metadata": {},
     "output_type": "execute_result"
    }
   ],
   "source": [
    "a[a%5==0]"
   ]
  },
  {
   "cell_type": "code",
   "execution_count": 110,
   "id": "39ee248a",
   "metadata": {},
   "outputs": [],
   "source": [
    "a1=np.array([1,2,3,9])\n",
    "b1=np.array([1,2,3,4])"
   ]
  },
  {
   "cell_type": "code",
   "execution_count": 111,
   "id": "3aa07b16",
   "metadata": {},
   "outputs": [
    {
     "data": {
      "text/plain": [
       "array([1, 2, 3, 0])"
      ]
     },
     "execution_count": 111,
     "metadata": {},
     "output_type": "execute_result"
    }
   ],
   "source": [
    "a1&b1"
   ]
  },
  {
   "cell_type": "code",
   "execution_count": 312,
   "id": "5fddf1b8",
   "metadata": {},
   "outputs": [
    {
     "data": {
      "text/plain": [
       "'0b1001'"
      ]
     },
     "execution_count": 312,
     "metadata": {},
     "output_type": "execute_result"
    }
   ],
   "source": [
    "bin(9)"
   ]
  },
  {
   "cell_type": "code",
   "execution_count": 313,
   "id": "f395328d",
   "metadata": {},
   "outputs": [
    {
     "data": {
      "text/plain": [
       "'0b100'"
      ]
     },
     "execution_count": 313,
     "metadata": {},
     "output_type": "execute_result"
    }
   ],
   "source": [
    "bin(4)"
   ]
  },
  {
   "cell_type": "code",
   "execution_count": 112,
   "id": "22fdfaae",
   "metadata": {},
   "outputs": [
    {
     "data": {
      "text/plain": [
       "array([[1, 2],\n",
       "       [3, 4]])"
      ]
     },
     "execution_count": 112,
     "metadata": {},
     "output_type": "execute_result"
    }
   ],
   "source": [
    "a=np.array([[1,2],[3,4]])\n",
    "a"
   ]
  },
  {
   "cell_type": "code",
   "execution_count": 113,
   "id": "0ccb63fb",
   "metadata": {},
   "outputs": [
    {
     "data": {
      "text/plain": [
       "array([[ 1,  4],\n",
       "       [ 9, 16]])"
      ]
     },
     "execution_count": 113,
     "metadata": {},
     "output_type": "execute_result"
    }
   ],
   "source": [
    "np.multiply(a,a)"
   ]
  },
  {
   "cell_type": "code",
   "execution_count": 115,
   "id": "4db1167e",
   "metadata": {},
   "outputs": [
    {
     "data": {
      "text/plain": [
       "array([[ 7, 10],\n",
       "       [15, 22]])"
      ]
     },
     "execution_count": 115,
     "metadata": {},
     "output_type": "execute_result"
    }
   ],
   "source": [
    "np.matmul(a,a)"
   ]
  },
  {
   "cell_type": "code",
   "execution_count": 116,
   "id": "54ad85cb",
   "metadata": {},
   "outputs": [
    {
     "data": {
      "text/plain": [
       "array([1, 2, 3, 9])"
      ]
     },
     "execution_count": 116,
     "metadata": {},
     "output_type": "execute_result"
    }
   ],
   "source": [
    "a1"
   ]
  },
  {
   "cell_type": "code",
   "execution_count": 117,
   "id": "cb0c8488",
   "metadata": {},
   "outputs": [
    {
     "data": {
      "text/plain": [
       "array([ 0.54030231, -0.41614684, -0.9899925 , -0.91113026])"
      ]
     },
     "execution_count": 117,
     "metadata": {},
     "output_type": "execute_result"
    }
   ],
   "source": [
    "np.cos(a1)"
   ]
  },
  {
   "cell_type": "code",
   "execution_count": 118,
   "id": "92a31812",
   "metadata": {},
   "outputs": [
    {
     "data": {
      "text/plain": [
       "array([0.84147098, 0.90929743, 0.14112001, 0.41211849])"
      ]
     },
     "execution_count": 118,
     "metadata": {},
     "output_type": "execute_result"
    }
   ],
   "source": [
    "np.sin(a1)"
   ]
  },
  {
   "cell_type": "code",
   "execution_count": 119,
   "id": "31ab877c",
   "metadata": {},
   "outputs": [
    {
     "data": {
      "text/plain": [
       "array([ 1.55740772, -2.18503986, -0.14254654, -0.45231566])"
      ]
     },
     "execution_count": 119,
     "metadata": {},
     "output_type": "execute_result"
    }
   ],
   "source": [
    "np.tan(a1)"
   ]
  },
  {
   "cell_type": "code",
   "execution_count": 120,
   "id": "7f4b643e",
   "metadata": {},
   "outputs": [
    {
     "data": {
      "text/plain": [
       "array([0.        , 0.69314718, 1.09861229, 2.19722458])"
      ]
     },
     "execution_count": 120,
     "metadata": {},
     "output_type": "execute_result"
    }
   ],
   "source": [
    "np.log(a1)"
   ]
  },
  {
   "cell_type": "code",
   "execution_count": 121,
   "id": "5deea2ed",
   "metadata": {},
   "outputs": [
    {
     "data": {
      "text/plain": [
       "array([1.        , 1.41421356, 1.73205081, 3.        ])"
      ]
     },
     "execution_count": 121,
     "metadata": {},
     "output_type": "execute_result"
    }
   ],
   "source": [
    "np.sqrt(a1)"
   ]
  },
  {
   "cell_type": "code",
   "execution_count": 122,
   "id": "6b5401db",
   "metadata": {},
   "outputs": [],
   "source": [
    "#truncate ,fix"
   ]
  },
  {
   "cell_type": "code",
   "execution_count": 123,
   "id": "3f171f6a",
   "metadata": {},
   "outputs": [
    {
     "data": {
      "text/plain": [
       "array([3., 6., 9.])"
      ]
     },
     "execution_count": 123,
     "metadata": {},
     "output_type": "execute_result"
    }
   ],
   "source": [
    "a=np.trunc([3.667,6.9,9.8])\n",
    "a"
   ]
  },
  {
   "cell_type": "code",
   "execution_count": 124,
   "id": "9bd2f7c4",
   "metadata": {},
   "outputs": [
    {
     "data": {
      "text/plain": [
       "array([3., 6., 9.])"
      ]
     },
     "execution_count": 124,
     "metadata": {},
     "output_type": "execute_result"
    }
   ],
   "source": [
    "a=np.fix([3.667,6.9,9.8])\n",
    "a"
   ]
  },
  {
   "cell_type": "code",
   "execution_count": 12,
   "id": "70894efa",
   "metadata": {},
   "outputs": [
    {
     "data": {
      "text/plain": [
       "3"
      ]
     },
     "execution_count": 12,
     "metadata": {},
     "output_type": "execute_result"
    }
   ],
   "source": [
    "round(3.4)"
   ]
  },
  {
   "cell_type": "code",
   "execution_count": 131,
   "id": "daf48312",
   "metadata": {},
   "outputs": [
    {
     "data": {
      "text/plain": [
       "3.657"
      ]
     },
     "execution_count": 131,
     "metadata": {},
     "output_type": "execute_result"
    }
   ],
   "source": [
    "a=np.around(3.6567345345,3)\n",
    "a"
   ]
  },
  {
   "cell_type": "code",
   "execution_count": 132,
   "id": "821a3497",
   "metadata": {},
   "outputs": [
    {
     "data": {
      "text/plain": [
       "3.77"
      ]
     },
     "execution_count": 132,
     "metadata": {},
     "output_type": "execute_result"
    }
   ],
   "source": [
    "round(3.765,2)"
   ]
  },
  {
   "cell_type": "code",
   "execution_count": null,
   "id": "f085abd0",
   "metadata": {},
   "outputs": [],
   "source": [
    "#floor and ceil"
   ]
  },
  {
   "cell_type": "code",
   "execution_count": 332,
   "id": "77b67c2e",
   "metadata": {},
   "outputs": [
    {
     "data": {
      "text/plain": [
       "array([ 3., -2.,  7., -4.,  4., -5.])"
      ]
     },
     "execution_count": 332,
     "metadata": {},
     "output_type": "execute_result"
    }
   ],
   "source": [
    "np.floor([3.678,-1.89,7.89,-3.7,4.5,-4.1])"
   ]
  },
  {
   "cell_type": "code",
   "execution_count": 333,
   "id": "e3e19d30",
   "metadata": {},
   "outputs": [
    {
     "data": {
      "text/plain": [
       "array([ 4., -1.,  8., -3.,  5., -4.])"
      ]
     },
     "execution_count": 333,
     "metadata": {},
     "output_type": "execute_result"
    }
   ],
   "source": [
    "np.ceil([3.678,-1.89,7.89,-3.7,4.5,-4.1])"
   ]
  },
  {
   "cell_type": "code",
   "execution_count": 133,
   "id": "2d242844",
   "metadata": {},
   "outputs": [
    {
     "data": {
      "text/plain": [
       "12"
      ]
     },
     "execution_count": 133,
     "metadata": {},
     "output_type": "execute_result"
    }
   ],
   "source": [
    "a=4\n",
    "b=3\n",
    "np.lcm(a,b)"
   ]
  },
  {
   "cell_type": "code",
   "execution_count": 336,
   "id": "0e2af466",
   "metadata": {},
   "outputs": [
    {
     "data": {
      "text/plain": [
       "10"
      ]
     },
     "execution_count": 336,
     "metadata": {},
     "output_type": "execute_result"
    }
   ],
   "source": [
    "a=10\n",
    "b=20\n",
    "np.gcd(a,b)"
   ]
  },
  {
   "cell_type": "code",
   "execution_count": 134,
   "id": "f71fbde7",
   "metadata": {},
   "outputs": [
    {
     "data": {
      "text/plain": [
       "array([1, 2, 3, 4, 5, 6])"
      ]
     },
     "execution_count": 134,
     "metadata": {},
     "output_type": "execute_result"
    }
   ],
   "source": [
    "a=np.array([1,2,3,1,2,3,1,4,5,6,4])\n",
    "np.unique(a)"
   ]
  },
  {
   "cell_type": "code",
   "execution_count": 135,
   "id": "774284d8",
   "metadata": {},
   "outputs": [],
   "source": [
    "a=np.array([1,2,3,4,5])\n",
    "b=np.array([1,3,4,5,6])"
   ]
  },
  {
   "cell_type": "code",
   "execution_count": 136,
   "id": "259eac87",
   "metadata": {},
   "outputs": [
    {
     "data": {
      "text/plain": [
       "array([1, 3, 4, 5])"
      ]
     },
     "execution_count": 136,
     "metadata": {},
     "output_type": "execute_result"
    }
   ],
   "source": [
    "np.intersect1d(a,b)"
   ]
  },
  {
   "cell_type": "code",
   "execution_count": 137,
   "id": "9e91ea76",
   "metadata": {},
   "outputs": [
    {
     "data": {
      "text/plain": [
       "array([1, 2, 3, 4, 5, 6])"
      ]
     },
     "execution_count": 137,
     "metadata": {},
     "output_type": "execute_result"
    }
   ],
   "source": [
    "np.union1d(a,b)"
   ]
  },
  {
   "cell_type": "code",
   "execution_count": 138,
   "id": "2c5840a8",
   "metadata": {},
   "outputs": [
    {
     "data": {
      "text/plain": [
       "array([6])"
      ]
     },
     "execution_count": 138,
     "metadata": {},
     "output_type": "execute_result"
    }
   ],
   "source": [
    "np.setdiff1d(b,a)"
   ]
  },
  {
   "cell_type": "code",
   "execution_count": 139,
   "id": "c50e0fed-6481-4ed4-ab74-edf90bf36e71",
   "metadata": {},
   "outputs": [
    {
     "data": {
      "text/plain": [
       "array([1, 2, 3, 4, 5])"
      ]
     },
     "execution_count": 139,
     "metadata": {},
     "output_type": "execute_result"
    }
   ],
   "source": [
    "a"
   ]
  },
  {
   "cell_type": "code",
   "execution_count": 140,
   "id": "1f12c860-5faa-4286-871e-87c9ad6eb246",
   "metadata": {},
   "outputs": [
    {
     "data": {
      "text/plain": [
       "array([1, 3, 4, 5, 6])"
      ]
     },
     "execution_count": 140,
     "metadata": {},
     "output_type": "execute_result"
    }
   ],
   "source": [
    "b"
   ]
  },
  {
   "cell_type": "code",
   "execution_count": 344,
   "id": "87a8aa3f",
   "metadata": {},
   "outputs": [
    {
     "data": {
      "text/plain": [
       "array([ 1,  3,  4,  1,  7, 89,  3,  5,  6])"
      ]
     },
     "execution_count": 344,
     "metadata": {},
     "output_type": "execute_result"
    }
   ],
   "source": [
    "a1=np.array([1,3,4,1,7,89,3,5,6])\n",
    "a1"
   ]
  },
  {
   "cell_type": "code",
   "execution_count": 141,
   "id": "c986a45f",
   "metadata": {},
   "outputs": [
    {
     "data": {
      "text/plain": [
       "9"
      ]
     },
     "execution_count": 141,
     "metadata": {},
     "output_type": "execute_result"
    }
   ],
   "source": [
    "a1.max()"
   ]
  },
  {
   "cell_type": "code",
   "execution_count": 145,
   "id": "34dcf6f2",
   "metadata": {},
   "outputs": [
    {
     "data": {
      "text/plain": [
       "9"
      ]
     },
     "execution_count": 145,
     "metadata": {},
     "output_type": "execute_result"
    }
   ],
   "source": [
    "max(a1)"
   ]
  },
  {
   "cell_type": "code",
   "execution_count": 146,
   "id": "321728be-1f71-42f3-a914-ffa2fb3d429f",
   "metadata": {},
   "outputs": [
    {
     "data": {
      "text/plain": [
       "array([1, 2, 3, 9])"
      ]
     },
     "execution_count": 146,
     "metadata": {},
     "output_type": "execute_result"
    }
   ],
   "source": [
    "a1"
   ]
  },
  {
   "cell_type": "code",
   "execution_count": 147,
   "id": "53c59112",
   "metadata": {},
   "outputs": [
    {
     "data": {
      "text/plain": [
       "3"
      ]
     },
     "execution_count": 147,
     "metadata": {},
     "output_type": "execute_result"
    }
   ],
   "source": [
    "a1.argmax()"
   ]
  },
  {
   "cell_type": "code",
   "execution_count": 148,
   "id": "322dbf97",
   "metadata": {},
   "outputs": [
    {
     "data": {
      "text/plain": [
       "1"
      ]
     },
     "execution_count": 148,
     "metadata": {},
     "output_type": "execute_result"
    }
   ],
   "source": [
    "a1.min()"
   ]
  },
  {
   "cell_type": "code",
   "execution_count": 149,
   "id": "9308fba5",
   "metadata": {},
   "outputs": [
    {
     "data": {
      "text/plain": [
       "0"
      ]
     },
     "execution_count": 149,
     "metadata": {},
     "output_type": "execute_result"
    }
   ],
   "source": [
    "a1.argmin()"
   ]
  },
  {
   "cell_type": "code",
   "execution_count": 350,
   "id": "992f0175",
   "metadata": {},
   "outputs": [
    {
     "data": {
      "text/plain": [
       "array([[ 0,  1,  2,  3],\n",
       "       [ 4,  5,  6,  7],\n",
       "       [ 8,  9, 10, 11],\n",
       "       [12, 13, 14, 15]])"
      ]
     },
     "execution_count": 350,
     "metadata": {},
     "output_type": "execute_result"
    }
   ],
   "source": [
    "a=np.arange(16).reshape(4,4)\n",
    "a"
   ]
  },
  {
   "cell_type": "code",
   "execution_count": 351,
   "id": "8d62e7b4",
   "metadata": {},
   "outputs": [
    {
     "data": {
      "text/plain": [
       "30"
      ]
     },
     "execution_count": 351,
     "metadata": {},
     "output_type": "execute_result"
    }
   ],
   "source": [
    "np.trace(a)"
   ]
  },
  {
   "cell_type": "code",
   "execution_count": 352,
   "id": "3ae07d8a",
   "metadata": {},
   "outputs": [
    {
     "data": {
      "text/plain": [
       "array([4, 3, 5, 7])"
      ]
     },
     "execution_count": 352,
     "metadata": {},
     "output_type": "execute_result"
    }
   ],
   "source": [
    "arr1=np.array([4,3,5,7])\n",
    "arr1"
   ]
  },
  {
   "cell_type": "code",
   "execution_count": 353,
   "id": "798d34a0",
   "metadata": {},
   "outputs": [
    {
     "data": {
      "text/plain": [
       "19"
      ]
     },
     "execution_count": 353,
     "metadata": {},
     "output_type": "execute_result"
    }
   ],
   "source": [
    "arr1.sum()"
   ]
  },
  {
   "cell_type": "code",
   "execution_count": 358,
   "id": "2194167f",
   "metadata": {},
   "outputs": [
    {
     "data": {
      "text/plain": [
       "4.75"
      ]
     },
     "execution_count": 358,
     "metadata": {},
     "output_type": "execute_result"
    }
   ],
   "source": [
    "arr1.mean()"
   ]
  },
  {
   "cell_type": "code",
   "execution_count": 359,
   "id": "81706401",
   "metadata": {},
   "outputs": [
    {
     "data": {
      "text/plain": [
       "4.75"
      ]
     },
     "execution_count": 359,
     "metadata": {},
     "output_type": "execute_result"
    }
   ],
   "source": [
    "np.average(arr1)"
   ]
  },
  {
   "cell_type": "code",
   "execution_count": 360,
   "id": "e0c4169f",
   "metadata": {},
   "outputs": [
    {
     "data": {
      "text/plain": [
       "4.5"
      ]
     },
     "execution_count": 360,
     "metadata": {},
     "output_type": "execute_result"
    }
   ],
   "source": [
    "np.median(arr1)"
   ]
  },
  {
   "cell_type": "code",
   "execution_count": 366,
   "id": "4d76acac",
   "metadata": {},
   "outputs": [
    {
     "data": {
      "text/plain": [
       "array([3, 4, 5, 7])"
      ]
     },
     "execution_count": 366,
     "metadata": {},
     "output_type": "execute_result"
    }
   ],
   "source": [
    "ass=np.sort(arr1)\n",
    "ass"
   ]
  },
  {
   "cell_type": "code",
   "execution_count": 365,
   "id": "2dc1bff6",
   "metadata": {},
   "outputs": [
    {
     "data": {
      "text/plain": [
       "4.5"
      ]
     },
     "execution_count": 365,
     "metadata": {},
     "output_type": "execute_result"
    }
   ],
   "source": [
    "np.median(ass)"
   ]
  },
  {
   "cell_type": "code",
   "execution_count": 367,
   "id": "a40a5d29",
   "metadata": {},
   "outputs": [
    {
     "data": {
      "text/plain": [
       "array([ 7, 13, 15,  9, 11])"
      ]
     },
     "execution_count": 367,
     "metadata": {},
     "output_type": "execute_result"
    }
   ],
   "source": [
    "a3=np.array([7,13,15,9,11])\n",
    "a3"
   ]
  },
  {
   "cell_type": "code",
   "execution_count": 368,
   "id": "25cbcc3a",
   "metadata": {},
   "outputs": [
    {
     "data": {
      "text/plain": [
       "11.0"
      ]
     },
     "execution_count": 368,
     "metadata": {},
     "output_type": "execute_result"
    }
   ],
   "source": [
    "np.median(a3)"
   ]
  },
  {
   "cell_type": "code",
   "execution_count": 369,
   "id": "3643b1aa",
   "metadata": {},
   "outputs": [
    {
     "data": {
      "text/plain": [
       "array([1, 2, 3, 4, 5])"
      ]
     },
     "execution_count": 369,
     "metadata": {},
     "output_type": "execute_result"
    }
   ],
   "source": [
    "a=np.array([1,2,3,4,5])\n",
    "a"
   ]
  },
  {
   "cell_type": "code",
   "execution_count": 370,
   "id": "59d83d50",
   "metadata": {},
   "outputs": [
    {
     "data": {
      "text/plain": [
       "3.0"
      ]
     },
     "execution_count": 370,
     "metadata": {},
     "output_type": "execute_result"
    }
   ],
   "source": [
    "np.median(a)"
   ]
  },
  {
   "cell_type": "code",
   "execution_count": 371,
   "id": "53141889",
   "metadata": {},
   "outputs": [
    {
     "data": {
      "text/plain": [
       "3.0"
      ]
     },
     "execution_count": 371,
     "metadata": {},
     "output_type": "execute_result"
    }
   ],
   "source": [
    "a.mean()"
   ]
  },
  {
   "cell_type": "code",
   "execution_count": 373,
   "id": "64cd1dbe",
   "metadata": {},
   "outputs": [
    {
     "data": {
      "text/plain": [
       "1.4142135623730951"
      ]
     },
     "execution_count": 373,
     "metadata": {},
     "output_type": "execute_result"
    }
   ],
   "source": [
    "np.std(a)"
   ]
  },
  {
   "cell_type": "code",
   "execution_count": 374,
   "id": "4fe48151",
   "metadata": {},
   "outputs": [
    {
     "data": {
      "text/plain": [
       "1.5811388300841898"
      ]
     },
     "execution_count": 374,
     "metadata": {},
     "output_type": "execute_result"
    }
   ],
   "source": [
    "np.std(a,ddof=1)"
   ]
  },
  {
   "cell_type": "code",
   "execution_count": 376,
   "id": "4e75552a",
   "metadata": {},
   "outputs": [
    {
     "data": {
      "text/plain": [
       "2.0"
      ]
     },
     "execution_count": 376,
     "metadata": {},
     "output_type": "execute_result"
    }
   ],
   "source": [
    "np.var(a)"
   ]
  },
  {
   "cell_type": "code",
   "execution_count": 372,
   "id": "980d8cc5",
   "metadata": {},
   "outputs": [
    {
     "data": {
      "text/plain": [
       "1.4142135623730951"
      ]
     },
     "execution_count": 372,
     "metadata": {},
     "output_type": "execute_result"
    }
   ],
   "source": [
    "np.sqrt(2)"
   ]
  },
  {
   "cell_type": "code",
   "execution_count": null,
   "id": "ffff205b",
   "metadata": {},
   "outputs": [],
   "source": [
    "#linear algebra(linalg)"
   ]
  },
  {
   "cell_type": "code",
   "execution_count": 377,
   "id": "9b0a1496",
   "metadata": {},
   "outputs": [
    {
     "data": {
      "text/plain": [
       "array([[1, 2, 3],\n",
       "       [4, 5, 6],\n",
       "       [7, 8, 9]])"
      ]
     },
     "execution_count": 377,
     "metadata": {},
     "output_type": "execute_result"
    }
   ],
   "source": [
    "a=np.array([[1,2,3],[4,5,6],[7,8,9]])\n",
    "a"
   ]
  },
  {
   "cell_type": "code",
   "execution_count": 378,
   "id": "d1ac014c",
   "metadata": {},
   "outputs": [
    {
     "data": {
      "text/plain": [
       "2"
      ]
     },
     "execution_count": 378,
     "metadata": {},
     "output_type": "execute_result"
    }
   ],
   "source": [
    "np.linalg.matrix_rank(a)"
   ]
  },
  {
   "cell_type": "code",
   "execution_count": 379,
   "id": "3d32daa5",
   "metadata": {},
   "outputs": [
    {
     "data": {
      "text/plain": [
       "array([[1, 2, 3],\n",
       "       [2, 1, 4],\n",
       "       [3, 0, 5]])"
      ]
     },
     "execution_count": 379,
     "metadata": {},
     "output_type": "execute_result"
    }
   ],
   "source": [
    "a1=np.array([[1,2,3],[2,1,4],[3,0,5]])\n",
    "a1"
   ]
  },
  {
   "cell_type": "code",
   "execution_count": 380,
   "id": "964fe717",
   "metadata": {},
   "outputs": [
    {
     "data": {
      "text/plain": [
       "2"
      ]
     },
     "execution_count": 380,
     "metadata": {},
     "output_type": "execute_result"
    }
   ],
   "source": [
    "np.linalg.matrix_rank(a1)"
   ]
  },
  {
   "cell_type": "code",
   "execution_count": 381,
   "id": "b1ddd553",
   "metadata": {},
   "outputs": [
    {
     "data": {
      "text/plain": [
       "array([[1, 2, 3],\n",
       "       [2, 3, 4],\n",
       "       [3, 5, 7]])"
      ]
     },
     "execution_count": 381,
     "metadata": {},
     "output_type": "execute_result"
    }
   ],
   "source": [
    "b=np.array([[1,2,3],[2,3,4],[3,5,7]])\n",
    "b"
   ]
  },
  {
   "cell_type": "code",
   "execution_count": 382,
   "id": "0ac8df10",
   "metadata": {},
   "outputs": [
    {
     "data": {
      "text/plain": [
       "2"
      ]
     },
     "execution_count": 382,
     "metadata": {},
     "output_type": "execute_result"
    }
   ],
   "source": [
    "np.linalg.matrix_rank(b)"
   ]
  },
  {
   "cell_type": "code",
   "execution_count": 383,
   "id": "b9b85cd5",
   "metadata": {},
   "outputs": [
    {
     "data": {
      "text/plain": [
       "array([[4, 7],\n",
       "       [2, 6]])"
      ]
     },
     "execution_count": 383,
     "metadata": {},
     "output_type": "execute_result"
    }
   ],
   "source": [
    "d=np.array([[4,7],[2,6]])\n",
    "d"
   ]
  },
  {
   "cell_type": "code",
   "execution_count": 384,
   "id": "7664c759",
   "metadata": {},
   "outputs": [
    {
     "data": {
      "text/plain": [
       "10.000000000000002"
      ]
     },
     "execution_count": 384,
     "metadata": {},
     "output_type": "execute_result"
    }
   ],
   "source": [
    "np.linalg.det(d)"
   ]
  },
  {
   "cell_type": "code",
   "execution_count": 385,
   "id": "dce6d66f",
   "metadata": {},
   "outputs": [
    {
     "data": {
      "text/plain": [
       "array([[1, 2],\n",
       "       [3, 4]])"
      ]
     },
     "execution_count": 385,
     "metadata": {},
     "output_type": "execute_result"
    }
   ],
   "source": [
    "d=np.array([[1,2],[3,4]])\n",
    "d"
   ]
  },
  {
   "cell_type": "code",
   "execution_count": 386,
   "id": "886b3b10",
   "metadata": {},
   "outputs": [
    {
     "data": {
      "text/plain": [
       "-2.0000000000000004"
      ]
     },
     "execution_count": 386,
     "metadata": {},
     "output_type": "execute_result"
    }
   ],
   "source": [
    "np.linalg.det(d)"
   ]
  },
  {
   "cell_type": "code",
   "execution_count": 387,
   "id": "b0cc07cf",
   "metadata": {},
   "outputs": [
    {
     "data": {
      "text/plain": [
       "array([[1, 2, 3],\n",
       "       [4, 5, 6],\n",
       "       [7, 8, 9]])"
      ]
     },
     "execution_count": 387,
     "metadata": {},
     "output_type": "execute_result"
    }
   ],
   "source": [
    "a=np.array([[1,2,3],[4,5,6],[7,8,9]])\n",
    "a"
   ]
  },
  {
   "cell_type": "code",
   "execution_count": 388,
   "id": "66fe36d1",
   "metadata": {},
   "outputs": [
    {
     "data": {
      "text/plain": [
       "-9.51619735392994e-16"
      ]
     },
     "execution_count": 388,
     "metadata": {},
     "output_type": "execute_result"
    }
   ],
   "source": [
    "np.linalg.det(a)"
   ]
  },
  {
   "cell_type": "code",
   "execution_count": 391,
   "id": "4fa89423",
   "metadata": {},
   "outputs": [
    {
     "data": {
      "text/plain": [
       "array([[2, 1],\n",
       "       [7, 4]])"
      ]
     },
     "execution_count": 391,
     "metadata": {},
     "output_type": "execute_result"
    }
   ],
   "source": [
    "s=np.array([[2,1],[7,4]])\n",
    "s"
   ]
  },
  {
   "cell_type": "code",
   "execution_count": 392,
   "id": "375fc3b9",
   "metadata": {},
   "outputs": [
    {
     "data": {
      "text/plain": [
       "0.9999999999999996"
      ]
     },
     "execution_count": 392,
     "metadata": {},
     "output_type": "execute_result"
    }
   ],
   "source": [
    "np.linalg.det(s)"
   ]
  },
  {
   "cell_type": "code",
   "execution_count": 393,
   "id": "1ea96cd2",
   "metadata": {},
   "outputs": [
    {
     "data": {
      "text/plain": [
       "array([[ 4., -1.],\n",
       "       [-7.,  2.]])"
      ]
     },
     "execution_count": 393,
     "metadata": {},
     "output_type": "execute_result"
    }
   ],
   "source": [
    "np.linalg.inv(s)"
   ]
  },
  {
   "cell_type": "code",
   "execution_count": 394,
   "id": "8f37e9da",
   "metadata": {},
   "outputs": [
    {
     "data": {
      "text/plain": [
       "array([[1, 2],\n",
       "       [3, 4]])"
      ]
     },
     "execution_count": 394,
     "metadata": {},
     "output_type": "execute_result"
    }
   ],
   "source": [
    "d=np.array([[1,2],[3,4]])\n",
    "d"
   ]
  },
  {
   "cell_type": "code",
   "execution_count": 395,
   "id": "d5632030",
   "metadata": {},
   "outputs": [
    {
     "data": {
      "text/plain": [
       "array([[-2. ,  1. ],\n",
       "       [ 1.5, -0.5]])"
      ]
     },
     "execution_count": 395,
     "metadata": {},
     "output_type": "execute_result"
    }
   ],
   "source": [
    "np.linalg.inv(d)"
   ]
  },
  {
   "cell_type": "code",
   "execution_count": 396,
   "id": "7af25e36",
   "metadata": {},
   "outputs": [
    {
     "data": {
      "text/plain": [
       "array([[1, 2, 3],\n",
       "       [4, 5, 6],\n",
       "       [7, 8, 9]])"
      ]
     },
     "execution_count": 396,
     "metadata": {},
     "output_type": "execute_result"
    }
   ],
   "source": [
    "a=np.array([[1,2,3],[4,5,6],[7,8,9]])\n",
    "a"
   ]
  },
  {
   "cell_type": "code",
   "execution_count": 397,
   "id": "ddc2fdf2",
   "metadata": {},
   "outputs": [
    {
     "data": {
      "text/plain": [
       "array([[ 3.15251974e+15, -6.30503948e+15,  3.15251974e+15],\n",
       "       [-6.30503948e+15,  1.26100790e+16, -6.30503948e+15],\n",
       "       [ 3.15251974e+15, -6.30503948e+15,  3.15251974e+15]])"
      ]
     },
     "execution_count": 397,
     "metadata": {},
     "output_type": "execute_result"
    }
   ],
   "source": [
    "np.linalg.inv(a)"
   ]
  },
  {
   "cell_type": "code",
   "execution_count": 398,
   "id": "c48cec4e",
   "metadata": {},
   "outputs": [
    {
     "data": {
      "text/plain": [
       "array([[1, 2],\n",
       "       [3, 4]])"
      ]
     },
     "execution_count": 398,
     "metadata": {},
     "output_type": "execute_result"
    }
   ],
   "source": [
    "d=np.array([[1,2],[3,4]])\n",
    "d"
   ]
  },
  {
   "cell_type": "code",
   "execution_count": 400,
   "id": "a8d56dfd",
   "metadata": {},
   "outputs": [],
   "source": [
    "a=np.array([[3,4],[6,7]])"
   ]
  },
  {
   "cell_type": "code",
   "execution_count": 401,
   "id": "f4bcee74",
   "metadata": {},
   "outputs": [
    {
     "data": {
      "text/plain": [
       "array([[ 81,  98],\n",
       "       [177, 214]])"
      ]
     },
     "execution_count": 401,
     "metadata": {},
     "output_type": "execute_result"
    }
   ],
   "source": [
    "np.matmul(d,a,d)"
   ]
  },
  {
   "cell_type": "code",
   "execution_count": 402,
   "id": "d736750d",
   "metadata": {},
   "outputs": [
    {
     "data": {
      "text/plain": [
       "array([[ 81,  98],\n",
       "       [177, 214]])"
      ]
     },
     "execution_count": 402,
     "metadata": {},
     "output_type": "execute_result"
    }
   ],
   "source": [
    "d"
   ]
  },
  {
   "cell_type": "code",
   "execution_count": 405,
   "id": "60752183",
   "metadata": {},
   "outputs": [
    {
     "data": {
      "text/plain": [
       "array([[3, 4],\n",
       "       [6, 7]])"
      ]
     },
     "execution_count": 405,
     "metadata": {},
     "output_type": "execute_result"
    }
   ],
   "source": [
    "a"
   ]
  },
  {
   "cell_type": "code",
   "execution_count": 415,
   "id": "422915a0",
   "metadata": {},
   "outputs": [
    {
     "data": {
      "text/plain": [
       "array([[3, 4],\n",
       "       [6, 7]])"
      ]
     },
     "execution_count": 415,
     "metadata": {},
     "output_type": "execute_result"
    }
   ],
   "source": [
    "np.linalg.matrix_power(a,1)"
   ]
  },
  {
   "cell_type": "code",
   "execution_count": 417,
   "id": "8c0b5e94",
   "metadata": {},
   "outputs": [
    {
     "data": {
      "text/plain": [
       "1.3333333333333333"
      ]
     },
     "execution_count": 417,
     "metadata": {},
     "output_type": "execute_result"
    }
   ],
   "source": [
    "4/3"
   ]
  },
  {
   "cell_type": "code",
   "execution_count": null,
   "id": "c4f70e87",
   "metadata": {},
   "outputs": [],
   "source": [
    "-3x+4y=5\n",
    "2x-y=-10"
   ]
  },
  {
   "cell_type": "code",
   "execution_count": 13,
   "id": "570f04ec",
   "metadata": {},
   "outputs": [
    {
     "data": {
      "text/plain": [
       "array([  5, -10])"
      ]
     },
     "execution_count": 13,
     "metadata": {},
     "output_type": "execute_result"
    }
   ],
   "source": [
    "a7=np.array([[-3,4],[2,-1]])\n",
    "a7\n",
    "b=np.array([5,-10])\n",
    "b"
   ]
  },
  {
   "cell_type": "code",
   "execution_count": 14,
   "id": "23a2cb20",
   "metadata": {},
   "outputs": [
    {
     "data": {
      "text/plain": [
       "-5.000000000000001"
      ]
     },
     "execution_count": 14,
     "metadata": {},
     "output_type": "execute_result"
    }
   ],
   "source": [
    "np.linalg.det(a7)"
   ]
  },
  {
   "cell_type": "code",
   "execution_count": 15,
   "id": "d79b23b9",
   "metadata": {},
   "outputs": [
    {
     "data": {
      "text/plain": [
       "array([[0.2, 0.8],\n",
       "       [0.4, 0.6]])"
      ]
     },
     "execution_count": 15,
     "metadata": {},
     "output_type": "execute_result"
    }
   ],
   "source": [
    "np.linalg.inv(a7)"
   ]
  },
  {
   "cell_type": "code",
   "execution_count": 428,
   "id": "9bd5e52c",
   "metadata": {},
   "outputs": [
    {
     "data": {
      "text/plain": [
       "array([-7., -4.])"
      ]
     },
     "execution_count": 428,
     "metadata": {},
     "output_type": "execute_result"
    }
   ],
   "source": [
    "np.linalg.solve(a7,b)"
   ]
  },
  {
   "cell_type": "code",
   "execution_count": 429,
   "id": "440296ee",
   "metadata": {},
   "outputs": [
    {
     "data": {
      "text/plain": [
       "7"
      ]
     },
     "execution_count": 429,
     "metadata": {},
     "output_type": "execute_result"
    }
   ],
   "source": [
    "-1+8"
   ]
  },
  {
   "cell_type": "code",
   "execution_count": 430,
   "id": "60a73354",
   "metadata": {},
   "outputs": [
    {
     "data": {
      "text/plain": [
       "array([[-3,  4],\n",
       "       [ 2, -1]])"
      ]
     },
     "execution_count": 430,
     "metadata": {},
     "output_type": "execute_result"
    }
   ],
   "source": [
    "a7"
   ]
  },
  {
   "cell_type": "markdown",
   "id": "2f0ff8c9",
   "metadata": {},
   "source": [
    "# 07/10/2024"
   ]
  },
  {
   "cell_type": "code",
   "execution_count": null,
   "id": "662e75b3",
   "metadata": {},
   "outputs": [],
   "source": [
    "x-y=12\n",
    "2x+y=22"
   ]
  },
  {
   "cell_type": "code",
   "execution_count": 431,
   "id": "f2506211",
   "metadata": {},
   "outputs": [
    {
     "data": {
      "text/plain": [
       "array([[ 1, -1],\n",
       "       [ 2,  1]])"
      ]
     },
     "execution_count": 431,
     "metadata": {},
     "output_type": "execute_result"
    }
   ],
   "source": [
    "a=np.array([[1,-1],[2,1]])\n",
    "a"
   ]
  },
  {
   "cell_type": "code",
   "execution_count": 433,
   "id": "7fe20b69",
   "metadata": {},
   "outputs": [
    {
     "data": {
      "text/plain": [
       "2.9999999999999996"
      ]
     },
     "execution_count": 433,
     "metadata": {},
     "output_type": "execute_result"
    }
   ],
   "source": [
    "np.linalg.det(a)"
   ]
  },
  {
   "cell_type": "code",
   "execution_count": 434,
   "id": "06a4c3e3",
   "metadata": {},
   "outputs": [
    {
     "data": {
      "text/plain": [
       "array([11.33333333, -0.66666667])"
      ]
     },
     "execution_count": 434,
     "metadata": {},
     "output_type": "execute_result"
    }
   ],
   "source": [
    "np.linalg.solve(a,b)"
   ]
  },
  {
   "cell_type": "code",
   "execution_count": 432,
   "id": "f0db4123",
   "metadata": {},
   "outputs": [
    {
     "data": {
      "text/plain": [
       "array([12, 22])"
      ]
     },
     "execution_count": 432,
     "metadata": {},
     "output_type": "execute_result"
    }
   ],
   "source": [
    "b=np.array([12,22])\n",
    "b"
   ]
  },
  {
   "cell_type": "code",
   "execution_count": 437,
   "id": "7873069f",
   "metadata": {},
   "outputs": [
    {
     "data": {
      "text/plain": [
       "array([[ 2, -1],\n",
       "       [-1,  2]])"
      ]
     },
     "execution_count": 437,
     "metadata": {},
     "output_type": "execute_result"
    }
   ],
   "source": [
    "x=np.array([[2,-1],[-1,2]])\n",
    "x"
   ]
  },
  {
   "cell_type": "code",
   "execution_count": 440,
   "id": "8ab84c3c",
   "metadata": {},
   "outputs": [
    {
     "data": {
      "text/plain": [
       "(array([3., 1.]),\n",
       " array([[ 0.70710678,  0.70710678],\n",
       "        [-0.70710678,  0.70710678]]))"
      ]
     },
     "execution_count": 440,
     "metadata": {},
     "output_type": "execute_result"
    }
   ],
   "source": [
    "np.linalg.eig(x)"
   ]
  },
  {
   "cell_type": "code",
   "execution_count": null,
   "id": "8b089b8e",
   "metadata": {},
   "outputs": [],
   "source": [
    "# copy view:\n"
   ]
  },
  {
   "cell_type": "code",
   "execution_count": 441,
   "id": "7a70becb",
   "metadata": {},
   "outputs": [
    {
     "data": {
      "text/plain": [
       "array([1, 2, 3, 4, 5, 6])"
      ]
     },
     "execution_count": 441,
     "metadata": {},
     "output_type": "execute_result"
    }
   ],
   "source": [
    "arr1=np.array([1,2,3,4,5,6])\n",
    "arr1"
   ]
  },
  {
   "cell_type": "code",
   "execution_count": 442,
   "id": "6604b720",
   "metadata": {},
   "outputs": [
    {
     "data": {
      "text/plain": [
       "array([1, 2, 3, 4, 5, 6])"
      ]
     },
     "execution_count": 442,
     "metadata": {},
     "output_type": "execute_result"
    }
   ],
   "source": [
    "ar2=arr1.copy()\n",
    "ar2"
   ]
  },
  {
   "cell_type": "code",
   "execution_count": 443,
   "id": "555955ad",
   "metadata": {},
   "outputs": [
    {
     "data": {
      "text/plain": [
       "array([1, 2, 3, 4, 5, 6])"
      ]
     },
     "execution_count": 443,
     "metadata": {},
     "output_type": "execute_result"
    }
   ],
   "source": [
    "ar3=arr1.view()\n",
    "ar3"
   ]
  },
  {
   "cell_type": "code",
   "execution_count": 444,
   "id": "70b5c961",
   "metadata": {},
   "outputs": [],
   "source": [
    "arr1[0]=1000"
   ]
  },
  {
   "cell_type": "code",
   "execution_count": 445,
   "id": "0b4036c0",
   "metadata": {},
   "outputs": [
    {
     "data": {
      "text/plain": [
       "array([1, 2, 3, 4, 5, 6])"
      ]
     },
     "execution_count": 445,
     "metadata": {},
     "output_type": "execute_result"
    }
   ],
   "source": [
    "ar2"
   ]
  },
  {
   "cell_type": "code",
   "execution_count": 446,
   "id": "96e90f27",
   "metadata": {},
   "outputs": [
    {
     "data": {
      "text/plain": [
       "array([1000,    2,    3,    4,    5,    6])"
      ]
     },
     "execution_count": 446,
     "metadata": {},
     "output_type": "execute_result"
    }
   ],
   "source": [
    "ar3"
   ]
  },
  {
   "cell_type": "code",
   "execution_count": 447,
   "id": "095d7e6a",
   "metadata": {},
   "outputs": [],
   "source": [
    "ar3[4]=90"
   ]
  },
  {
   "cell_type": "code",
   "execution_count": 448,
   "id": "de65918d",
   "metadata": {},
   "outputs": [
    {
     "data": {
      "text/plain": [
       "array([1000,    2,    3,    4,   90,    6])"
      ]
     },
     "execution_count": 448,
     "metadata": {},
     "output_type": "execute_result"
    }
   ],
   "source": [
    "arr1\n"
   ]
  },
  {
   "cell_type": "code",
   "execution_count": 449,
   "id": "5a51268c",
   "metadata": {},
   "outputs": [
    {
     "data": {
      "text/plain": [
       "array([1, 2, 3, 4, 5, 6])"
      ]
     },
     "execution_count": 449,
     "metadata": {},
     "output_type": "execute_result"
    }
   ],
   "source": [
    "ar2"
   ]
  },
  {
   "cell_type": "code",
   "execution_count": 451,
   "id": "dcd70b2c",
   "metadata": {},
   "outputs": [
    {
     "data": {
      "text/plain": [
       "(1674273341488, 1674273110704, 1674272456496)"
      ]
     },
     "execution_count": 451,
     "metadata": {},
     "output_type": "execute_result"
    }
   ],
   "source": [
    "id(arr1),id(ar2),id(ar3)"
   ]
  },
  {
   "cell_type": "code",
   "execution_count": 452,
   "id": "1cd551da",
   "metadata": {},
   "outputs": [
    {
     "data": {
      "text/plain": [
       "array([1000,    2,    3,    4,   90,    6])"
      ]
     },
     "execution_count": 452,
     "metadata": {},
     "output_type": "execute_result"
    }
   ],
   "source": [
    "arr1"
   ]
  },
  {
   "cell_type": "code",
   "execution_count": 453,
   "id": "5a9a8904",
   "metadata": {},
   "outputs": [],
   "source": [
    "arr4=arr1"
   ]
  },
  {
   "cell_type": "code",
   "execution_count": 454,
   "id": "304827d1",
   "metadata": {},
   "outputs": [
    {
     "data": {
      "text/plain": [
       "array([1000,    2,    3,    4,   90,    6])"
      ]
     },
     "execution_count": 454,
     "metadata": {},
     "output_type": "execute_result"
    }
   ],
   "source": [
    "arr4"
   ]
  },
  {
   "cell_type": "code",
   "execution_count": 455,
   "id": "07808c73",
   "metadata": {},
   "outputs": [
    {
     "data": {
      "text/plain": [
       "1674273341488"
      ]
     },
     "execution_count": 455,
     "metadata": {},
     "output_type": "execute_result"
    }
   ],
   "source": [
    "id(arr4)"
   ]
  },
  {
   "cell_type": "code",
   "execution_count": 16,
   "id": "3fb93bae",
   "metadata": {},
   "outputs": [
    {
     "data": {
      "text/plain": [
       "array([ 1,  2,  3,  4,  5,  6,  7,  8,  9, 10, 11, 12, 13, 14, 15, 16])"
      ]
     },
     "execution_count": 16,
     "metadata": {},
     "output_type": "execute_result"
    }
   ],
   "source": [
    "a=np.arange(1,17)\n",
    "a"
   ]
  },
  {
   "cell_type": "code",
   "execution_count": 17,
   "id": "db699032",
   "metadata": {},
   "outputs": [
    {
     "data": {
      "text/plain": [
       "array([[ 1,  2,  3,  4],\n",
       "       [ 5,  6,  7,  8],\n",
       "       [ 9, 10, 11, 12],\n",
       "       [13, 14, 15, 16]])"
      ]
     },
     "execution_count": 17,
     "metadata": {},
     "output_type": "execute_result"
    }
   ],
   "source": [
    "a.reshape(4,4)"
   ]
  },
  {
   "cell_type": "code",
   "execution_count": 20,
   "id": "0b217c06",
   "metadata": {},
   "outputs": [
    {
     "data": {
      "text/plain": [
       "array([[ 1,  2,  3,  4],\n",
       "       [ 5,  6,  7,  8],\n",
       "       [ 9, 10, 11, 12],\n",
       "       [13, 14, 15, 16]])"
      ]
     },
     "execution_count": 20,
     "metadata": {},
     "output_type": "execute_result"
    }
   ],
   "source": [
    "a"
   ]
  },
  {
   "cell_type": "code",
   "execution_count": 23,
   "id": "f51ad9a0",
   "metadata": {},
   "outputs": [],
   "source": [
    "a.resize(1,16)"
   ]
  },
  {
   "cell_type": "code",
   "execution_count": 24,
   "id": "d4170d97",
   "metadata": {},
   "outputs": [
    {
     "data": {
      "text/plain": [
       "array([[ 1,  2,  3,  4,  5,  6,  7,  8,  9, 10, 11, 12, 13, 14, 15, 16]])"
      ]
     },
     "execution_count": 24,
     "metadata": {},
     "output_type": "execute_result"
    }
   ],
   "source": [
    "a"
   ]
  },
  {
   "cell_type": "code",
   "execution_count": 31,
   "id": "797bc3ef",
   "metadata": {},
   "outputs": [
    {
     "data": {
      "text/plain": [
       "array([ 0,  1,  2,  3,  4,  5,  6,  7,  8,  9, 10, 11, 12, 13, 14, 15, 16,\n",
       "       17, 18, 19, 20, 21, 22, 23, 24, 25, 26, 27, 28, 29])"
      ]
     },
     "execution_count": 31,
     "metadata": {},
     "output_type": "execute_result"
    }
   ],
   "source": [
    "v=np.arange(30)\n",
    "v"
   ]
  },
  {
   "cell_type": "code",
   "execution_count": 32,
   "id": "bd120438",
   "metadata": {},
   "outputs": [
    {
     "data": {
      "text/plain": [
       "array([[ 0,  1,  2,  3,  4,  5],\n",
       "       [ 6,  7,  8,  9, 10, 11],\n",
       "       [12, 13, 14, 15, 16, 17],\n",
       "       [18, 19, 20, 21, 22, 23],\n",
       "       [24, 25, 26, 27, 28, 29]])"
      ]
     },
     "execution_count": 32,
     "metadata": {},
     "output_type": "execute_result"
    }
   ],
   "source": [
    "copy1=v.reshape(5,6)\n",
    "copy1"
   ]
  },
  {
   "cell_type": "code",
   "execution_count": 33,
   "id": "63037ae2",
   "metadata": {},
   "outputs": [
    {
     "data": {
      "text/plain": [
       "array([[ 0,  1],\n",
       "       [ 2,  3],\n",
       "       [ 4,  5],\n",
       "       [ 6,  7],\n",
       "       [ 8,  9],\n",
       "       [10, 11],\n",
       "       [12, 13],\n",
       "       [14, 15],\n",
       "       [16, 17],\n",
       "       [18, 19],\n",
       "       [20, 21],\n",
       "       [22, 23],\n",
       "       [24, 25],\n",
       "       [26, 27],\n",
       "       [28, 29]])"
      ]
     },
     "execution_count": 33,
     "metadata": {},
     "output_type": "execute_result"
    }
   ],
   "source": [
    "v.reshape(15,2)"
   ]
  },
  {
   "cell_type": "code",
   "execution_count": 34,
   "id": "dc6a86df",
   "metadata": {},
   "outputs": [
    {
     "data": {
      "text/plain": [
       "array([ 0,  1,  2,  3,  4,  5,  6,  7,  8,  9, 10, 11, 12, 13, 14, 15, 16,\n",
       "       17, 18, 19, 20, 21, 22, 23, 24, 25, 26, 27, 28, 29])"
      ]
     },
     "execution_count": 34,
     "metadata": {},
     "output_type": "execute_result"
    }
   ],
   "source": [
    "v"
   ]
  },
  {
   "cell_type": "code",
   "execution_count": 35,
   "id": "87f9335f",
   "metadata": {},
   "outputs": [],
   "source": [
    "copy2=v.resize(6,5)\n",
    "copy2"
   ]
  },
  {
   "cell_type": "code",
   "execution_count": 36,
   "id": "c71b949f",
   "metadata": {},
   "outputs": [],
   "source": [
    "copy2"
   ]
  },
  {
   "cell_type": "code",
   "execution_count": 37,
   "id": "4e56ca47",
   "metadata": {},
   "outputs": [
    {
     "data": {
      "text/plain": [
       "array([[ 0,  1,  2,  3,  4],\n",
       "       [ 5,  6,  7,  8,  9],\n",
       "       [10, 11, 12, 13, 14],\n",
       "       [15, 16, 17, 18, 19],\n",
       "       [20, 21, 22, 23, 24],\n",
       "       [25, 26, 27, 28, 29]])"
      ]
     },
     "execution_count": 37,
     "metadata": {},
     "output_type": "execute_result"
    }
   ],
   "source": [
    "v"
   ]
  },
  {
   "cell_type": "code",
   "execution_count": 38,
   "id": "cec5ff2f",
   "metadata": {},
   "outputs": [
    {
     "data": {
      "text/plain": [
       "array([[[ 0,  1,  2,  3,  4],\n",
       "        [ 5,  6,  7,  8,  9],\n",
       "        [10, 11, 12, 13, 14],\n",
       "        [15, 16, 17, 18, 19]],\n",
       "\n",
       "       [[20, 21, 22, 23, 24],\n",
       "        [25, 26, 27, 28, 29],\n",
       "        [30, 31, 32, 33, 34],\n",
       "        [35, 36, 37, 38, 39]]])"
      ]
     },
     "execution_count": 38,
     "metadata": {},
     "output_type": "execute_result"
    }
   ],
   "source": [
    "g=np.arange(40).reshape(2,4,5)\n",
    "g"
   ]
  },
  {
   "cell_type": "code",
   "execution_count": 39,
   "id": "dd8632f3",
   "metadata": {},
   "outputs": [
    {
     "data": {
      "text/plain": [
       "array([[ 0,  1,  2,  3,  4],\n",
       "       [ 5,  6,  7,  8,  9],\n",
       "       [10, 11, 12, 13, 14],\n",
       "       [15, 16, 17, 18, 19],\n",
       "       [20, 21, 22, 23, 24],\n",
       "       [25, 26, 27, 28, 29]])"
      ]
     },
     "execution_count": 39,
     "metadata": {},
     "output_type": "execute_result"
    }
   ],
   "source": [
    "v"
   ]
  },
  {
   "cell_type": "code",
   "execution_count": 40,
   "id": "e76ee696",
   "metadata": {},
   "outputs": [],
   "source": [
    "#flatten and ravel"
   ]
  },
  {
   "cell_type": "code",
   "execution_count": 41,
   "id": "fcb6d5cd",
   "metadata": {},
   "outputs": [
    {
     "data": {
      "text/plain": [
       "array([ 0,  1,  2,  3,  4,  5,  6,  7,  8,  9, 10, 11, 12, 13, 14, 15, 16,\n",
       "       17, 18, 19, 20, 21, 22, 23, 24, 25, 26, 27, 28, 29])"
      ]
     },
     "execution_count": 41,
     "metadata": {},
     "output_type": "execute_result"
    }
   ],
   "source": [
    "fc=v.flatten()\n",
    "fc"
   ]
  },
  {
   "cell_type": "code",
   "execution_count": 474,
   "id": "bfbeb26f",
   "metadata": {},
   "outputs": [
    {
     "data": {
      "text/plain": [
       "array([ 0,  1,  2,  3,  4,  5,  6,  7,  8,  9, 10, 11, 12, 13, 14, 15, 16,\n",
       "       17, 18, 19, 20, 21, 22, 23, 24, 25, 26, 27, 28, 29])"
      ]
     },
     "execution_count": 474,
     "metadata": {},
     "output_type": "execute_result"
    }
   ],
   "source": [
    "rv=v.ravel()\n",
    "rv"
   ]
  },
  {
   "cell_type": "code",
   "execution_count": 475,
   "id": "b61cd91d",
   "metadata": {},
   "outputs": [
    {
     "data": {
      "text/plain": [
       "array([[ 0,  1,  2,  3,  4],\n",
       "       [ 5,  6,  7,  8,  9],\n",
       "       [10, 11, 12, 13, 14],\n",
       "       [15, 16, 17, 18, 19],\n",
       "       [20, 21, 22, 23, 24],\n",
       "       [25, 26, 27, 28, 29]])"
      ]
     },
     "execution_count": 475,
     "metadata": {},
     "output_type": "execute_result"
    }
   ],
   "source": [
    "v"
   ]
  },
  {
   "cell_type": "code",
   "execution_count": 476,
   "id": "22c52f05",
   "metadata": {},
   "outputs": [],
   "source": [
    "v[0,1]=200"
   ]
  },
  {
   "cell_type": "code",
   "execution_count": 477,
   "id": "e65c0b13",
   "metadata": {},
   "outputs": [
    {
     "data": {
      "text/plain": [
       "array([[  0, 200,   2,   3,   4],\n",
       "       [  5,   6,   7,   8,   9],\n",
       "       [ 10,  11,  12,  13,  14],\n",
       "       [ 15,  16,  17,  18,  19],\n",
       "       [ 20,  21,  22,  23,  24],\n",
       "       [ 25,  26,  27,  28,  29]])"
      ]
     },
     "execution_count": 477,
     "metadata": {},
     "output_type": "execute_result"
    }
   ],
   "source": [
    "v"
   ]
  },
  {
   "cell_type": "code",
   "execution_count": 478,
   "id": "fdfd853d",
   "metadata": {},
   "outputs": [
    {
     "data": {
      "text/plain": [
       "array([ 0,  1,  2,  3,  4,  5,  6,  7,  8,  9, 10, 11, 12, 13, 14, 15, 16,\n",
       "       17, 18, 19, 20, 21, 22, 23, 24, 25, 26, 27, 28, 29])"
      ]
     },
     "execution_count": 478,
     "metadata": {},
     "output_type": "execute_result"
    }
   ],
   "source": [
    "fc"
   ]
  },
  {
   "cell_type": "code",
   "execution_count": 479,
   "id": "24d48ff7",
   "metadata": {},
   "outputs": [
    {
     "data": {
      "text/plain": [
       "array([  0, 200,   2,   3,   4,   5,   6,   7,   8,   9,  10,  11,  12,\n",
       "        13,  14,  15,  16,  17,  18,  19,  20,  21,  22,  23,  24,  25,\n",
       "        26,  27,  28,  29])"
      ]
     },
     "execution_count": 479,
     "metadata": {},
     "output_type": "execute_result"
    }
   ],
   "source": [
    "rv"
   ]
  },
  {
   "cell_type": "code",
   "execution_count": 481,
   "id": "88069153",
   "metadata": {},
   "outputs": [
    {
     "data": {
      "text/plain": [
       "array([ 0,  1,  2,  3,  4,  5,  6,  7,  8,  9, 10, 11, 12, 13, 14, 15, 16,\n",
       "       17, 18, 19, 20, 21, 22, 23, 24, 25, 26, 27, 28, 29, 30, 31, 32, 33,\n",
       "       34, 35, 36, 37, 38, 39])"
      ]
     },
     "execution_count": 481,
     "metadata": {},
     "output_type": "execute_result"
    }
   ],
   "source": [
    "g.flatten()"
   ]
  },
  {
   "cell_type": "code",
   "execution_count": 482,
   "id": "aaaa7f48",
   "metadata": {},
   "outputs": [
    {
     "data": {
      "text/plain": [
       "array([ 0,  1,  2,  3,  4,  5,  6,  7,  8,  9, 10, 11, 12, 13, 14, 15, 16,\n",
       "       17, 18, 19, 20, 21, 22, 23, 24, 25, 26, 27, 28, 29, 30, 31, 32, 33,\n",
       "       34, 35, 36, 37, 38, 39])"
      ]
     },
     "execution_count": 482,
     "metadata": {},
     "output_type": "execute_result"
    }
   ],
   "source": [
    "g.ravel()"
   ]
  },
  {
   "cell_type": "code",
   "execution_count": 483,
   "id": "3a869f44",
   "metadata": {},
   "outputs": [
    {
     "data": {
      "text/plain": [
       "array([[[ 0,  1,  2,  3,  4],\n",
       "        [ 5,  6,  7,  8,  9],\n",
       "        [10, 11, 12, 13, 14],\n",
       "        [15, 16, 17, 18, 19]],\n",
       "\n",
       "       [[20, 21, 22, 23, 24],\n",
       "        [25, 26, 27, 28, 29],\n",
       "        [30, 31, 32, 33, 34],\n",
       "        [35, 36, 37, 38, 39]]])"
      ]
     },
     "execution_count": 483,
     "metadata": {},
     "output_type": "execute_result"
    }
   ],
   "source": [
    "g"
   ]
  },
  {
   "cell_type": "code",
   "execution_count": 484,
   "id": "c3569198",
   "metadata": {},
   "outputs": [],
   "source": [
    "# iterating an array"
   ]
  },
  {
   "cell_type": "code",
   "execution_count": 1,
   "id": "65ed1047",
   "metadata": {},
   "outputs": [
    {
     "data": {
      "text/plain": [
       "array([ 1,  2,  3,  4,  5,  6,  7,  8,  9, 10, 11, 12, 13, 14, 15, 16])"
      ]
     },
     "execution_count": 1,
     "metadata": {},
     "output_type": "execute_result"
    }
   ],
   "source": [
    "import numpy as np\n",
    "a=np.arange(1,17)\n",
    "a"
   ]
  },
  {
   "cell_type": "code",
   "execution_count": 2,
   "id": "47c52840",
   "metadata": {},
   "outputs": [
    {
     "name": "stdout",
     "output_type": "stream",
     "text": [
      "1\n",
      "2\n",
      "3\n",
      "4\n",
      "5\n",
      "6\n",
      "7\n",
      "8\n",
      "9\n",
      "10\n",
      "11\n",
      "12\n",
      "13\n",
      "14\n",
      "15\n",
      "16\n"
     ]
    }
   ],
   "source": [
    "for i in a:\n",
    "    print(i)"
   ]
  },
  {
   "cell_type": "code",
   "execution_count": 3,
   "id": "de7354f8",
   "metadata": {},
   "outputs": [
    {
     "ename": "NameError",
     "evalue": "name 'v' is not defined",
     "output_type": "error",
     "traceback": [
      "\u001b[1;31m---------------------------------------------------------------------------\u001b[0m",
      "\u001b[1;31mNameError\u001b[0m                                 Traceback (most recent call last)",
      "Cell \u001b[1;32mIn[3], line 1\u001b[0m\n\u001b[1;32m----> 1\u001b[0m v\n",
      "\u001b[1;31mNameError\u001b[0m: name 'v' is not defined"
     ]
    }
   ],
   "source": [
    "v"
   ]
  },
  {
   "cell_type": "code",
   "execution_count": 489,
   "id": "bc89ea8f",
   "metadata": {},
   "outputs": [
    {
     "name": "stdout",
     "output_type": "stream",
     "text": [
      "[  0 200   2   3   4]\n",
      "0\n",
      "200\n",
      "2\n",
      "3\n",
      "4\n",
      "[5 6 7 8 9]\n",
      "5\n",
      "6\n",
      "7\n",
      "8\n",
      "9\n",
      "[10 11 12 13 14]\n",
      "10\n",
      "11\n",
      "12\n",
      "13\n",
      "14\n",
      "[15 16 17 18 19]\n",
      "15\n",
      "16\n",
      "17\n",
      "18\n",
      "19\n",
      "[20 21 22 23 24]\n",
      "20\n",
      "21\n",
      "22\n",
      "23\n",
      "24\n",
      "[25 26 27 28 29]\n",
      "25\n",
      "26\n",
      "27\n",
      "28\n",
      "29\n"
     ]
    }
   ],
   "source": [
    "for i in v:\n",
    "    print(i)\n",
    "    for j in i:\n",
    "        print(j)"
   ]
  },
  {
   "cell_type": "code",
   "execution_count": 490,
   "id": "6ad046c1",
   "metadata": {},
   "outputs": [
    {
     "data": {
      "text/plain": [
       "array([[[ 0,  1,  2,  3,  4],\n",
       "        [ 5,  6,  7,  8,  9],\n",
       "        [10, 11, 12, 13, 14],\n",
       "        [15, 16, 17, 18, 19]],\n",
       "\n",
       "       [[20, 21, 22, 23, 24],\n",
       "        [25, 26, 27, 28, 29],\n",
       "        [30, 31, 32, 33, 34],\n",
       "        [35, 36, 37, 38, 39]]])"
      ]
     },
     "execution_count": 490,
     "metadata": {},
     "output_type": "execute_result"
    }
   ],
   "source": [
    "g"
   ]
  },
  {
   "cell_type": "code",
   "execution_count": 492,
   "id": "2436f450",
   "metadata": {},
   "outputs": [
    {
     "name": "stdout",
     "output_type": "stream",
     "text": [
      "[[ 0  1  2  3  4]\n",
      " [ 5  6  7  8  9]\n",
      " [10 11 12 13 14]\n",
      " [15 16 17 18 19]]\n",
      "[0 1 2 3 4]\n",
      "0\n",
      "1\n",
      "2\n",
      "3\n",
      "4\n",
      "[5 6 7 8 9]\n",
      "5\n",
      "6\n",
      "7\n",
      "8\n",
      "9\n",
      "[10 11 12 13 14]\n",
      "10\n",
      "11\n",
      "12\n",
      "13\n",
      "14\n",
      "[15 16 17 18 19]\n",
      "15\n",
      "16\n",
      "17\n",
      "18\n",
      "19\n",
      "[[20 21 22 23 24]\n",
      " [25 26 27 28 29]\n",
      " [30 31 32 33 34]\n",
      " [35 36 37 38 39]]\n",
      "[20 21 22 23 24]\n",
      "20\n",
      "21\n",
      "22\n",
      "23\n",
      "24\n",
      "[25 26 27 28 29]\n",
      "25\n",
      "26\n",
      "27\n",
      "28\n",
      "29\n",
      "[30 31 32 33 34]\n",
      "30\n",
      "31\n",
      "32\n",
      "33\n",
      "34\n",
      "[35 36 37 38 39]\n",
      "35\n",
      "36\n",
      "37\n",
      "38\n",
      "39\n"
     ]
    }
   ],
   "source": [
    "for i in g:\n",
    "    print(i)\n",
    "    for j in i:\n",
    "        print(j)\n",
    "        for k in j:\n",
    "            print(k)"
   ]
  },
  {
   "cell_type": "code",
   "execution_count": null,
   "id": "c8d14a2c",
   "metadata": {},
   "outputs": [],
   "source": [
    "#nditer"
   ]
  },
  {
   "cell_type": "code",
   "execution_count": 4,
   "id": "e38e336c",
   "metadata": {},
   "outputs": [
    {
     "name": "stdout",
     "output_type": "stream",
     "text": [
      "1\n",
      "2\n",
      "3\n",
      "4\n",
      "5\n",
      "6\n",
      "7\n",
      "8\n",
      "9\n",
      "10\n",
      "11\n",
      "12\n",
      "13\n",
      "14\n",
      "15\n",
      "16\n"
     ]
    }
   ],
   "source": [
    "for i in np.nditer(a):\n",
    "    print(i)"
   ]
  },
  {
   "cell_type": "code",
   "execution_count": 5,
   "id": "c7b806f6",
   "metadata": {},
   "outputs": [
    {
     "name": "stdout",
     "output_type": "stream",
     "text": [
      "((0,), 1)\n",
      "((1,), 2)\n",
      "((2,), 3)\n",
      "((3,), 4)\n",
      "((4,), 5)\n",
      "((5,), 6)\n",
      "((6,), 7)\n",
      "((7,), 8)\n",
      "((8,), 9)\n",
      "((9,), 10)\n",
      "((10,), 11)\n",
      "((11,), 12)\n",
      "((12,), 13)\n",
      "((13,), 14)\n",
      "((14,), 15)\n",
      "((15,), 16)\n"
     ]
    }
   ],
   "source": [
    "for i in np.ndenumerate(a):\n",
    "    print(i)"
   ]
  },
  {
   "cell_type": "code",
   "execution_count": 497,
   "id": "5de4be7d",
   "metadata": {},
   "outputs": [
    {
     "data": {
      "text/plain": [
       "array([[  0, 200,   2,   3,   4],\n",
       "       [  5,   6,   7,   8,   9],\n",
       "       [ 10,  11,  12,  13,  14],\n",
       "       [ 15,  16,  17,  18,  19],\n",
       "       [ 20,  21,  22,  23,  24],\n",
       "       [ 25,  26,  27,  28,  29]])"
      ]
     },
     "execution_count": 497,
     "metadata": {},
     "output_type": "execute_result"
    }
   ],
   "source": [
    "v"
   ]
  },
  {
   "cell_type": "code",
   "execution_count": 498,
   "id": "f94e6476",
   "metadata": {},
   "outputs": [
    {
     "name": "stdout",
     "output_type": "stream",
     "text": [
      "((0, 0), 0)\n",
      "((0, 1), 200)\n",
      "((0, 2), 2)\n",
      "((0, 3), 3)\n",
      "((0, 4), 4)\n",
      "((1, 0), 5)\n",
      "((1, 1), 6)\n",
      "((1, 2), 7)\n",
      "((1, 3), 8)\n",
      "((1, 4), 9)\n",
      "((2, 0), 10)\n",
      "((2, 1), 11)\n",
      "((2, 2), 12)\n",
      "((2, 3), 13)\n",
      "((2, 4), 14)\n",
      "((3, 0), 15)\n",
      "((3, 1), 16)\n",
      "((3, 2), 17)\n",
      "((3, 3), 18)\n",
      "((3, 4), 19)\n",
      "((4, 0), 20)\n",
      "((4, 1), 21)\n",
      "((4, 2), 22)\n",
      "((4, 3), 23)\n",
      "((4, 4), 24)\n",
      "((5, 0), 25)\n",
      "((5, 1), 26)\n",
      "((5, 2), 27)\n",
      "((5, 3), 28)\n",
      "((5, 4), 29)\n"
     ]
    }
   ],
   "source": [
    "for i in np.ndenumerate(v):\n",
    "    print(i)"
   ]
  },
  {
   "cell_type": "code",
   "execution_count": 501,
   "id": "e8f3804d",
   "metadata": {},
   "outputs": [
    {
     "data": {
      "text/plain": [
       "array([[[ 0,  1,  2,  3,  4],\n",
       "        [ 5,  6,  7,  8,  9],\n",
       "        [10, 11, 12, 13, 14],\n",
       "        [15, 16, 17, 18, 19]],\n",
       "\n",
       "       [[20, 21, 22, 23, 24],\n",
       "        [25, 26, 27, 28, 29],\n",
       "        [30, 31, 32, 33, 34],\n",
       "        [35, 36, 37, 38, 39]]])"
      ]
     },
     "execution_count": 501,
     "metadata": {},
     "output_type": "execute_result"
    }
   ],
   "source": [
    "g"
   ]
  },
  {
   "cell_type": "code",
   "execution_count": 502,
   "id": "b5da367b",
   "metadata": {},
   "outputs": [
    {
     "name": "stdout",
     "output_type": "stream",
     "text": [
      "((0, 0, 0), 0)\n",
      "((0, 0, 1), 1)\n",
      "((0, 0, 2), 2)\n",
      "((0, 0, 3), 3)\n",
      "((0, 0, 4), 4)\n",
      "((0, 1, 0), 5)\n",
      "((0, 1, 1), 6)\n",
      "((0, 1, 2), 7)\n",
      "((0, 1, 3), 8)\n",
      "((0, 1, 4), 9)\n",
      "((0, 2, 0), 10)\n",
      "((0, 2, 1), 11)\n",
      "((0, 2, 2), 12)\n",
      "((0, 2, 3), 13)\n",
      "((0, 2, 4), 14)\n",
      "((0, 3, 0), 15)\n",
      "((0, 3, 1), 16)\n",
      "((0, 3, 2), 17)\n",
      "((0, 3, 3), 18)\n",
      "((0, 3, 4), 19)\n",
      "((1, 0, 0), 20)\n",
      "((1, 0, 1), 21)\n",
      "((1, 0, 2), 22)\n",
      "((1, 0, 3), 23)\n",
      "((1, 0, 4), 24)\n",
      "((1, 1, 0), 25)\n",
      "((1, 1, 1), 26)\n",
      "((1, 1, 2), 27)\n",
      "((1, 1, 3), 28)\n",
      "((1, 1, 4), 29)\n",
      "((1, 2, 0), 30)\n",
      "((1, 2, 1), 31)\n",
      "((1, 2, 2), 32)\n",
      "((1, 2, 3), 33)\n",
      "((1, 2, 4), 34)\n",
      "((1, 3, 0), 35)\n",
      "((1, 3, 1), 36)\n",
      "((1, 3, 2), 37)\n",
      "((1, 3, 3), 38)\n",
      "((1, 3, 4), 39)\n"
     ]
    }
   ],
   "source": [
    "for i in np.ndenumerate(g):\n",
    "    print(i)"
   ]
  },
  {
   "cell_type": "code",
   "execution_count": 503,
   "id": "545cf479",
   "metadata": {},
   "outputs": [
    {
     "data": {
      "text/plain": [
       "array([[  0, 200,   2,   3,   4],\n",
       "       [  5,   6,   7,   8,   9],\n",
       "       [ 10,  11,  12,  13,  14],\n",
       "       [ 15,  16,  17,  18,  19],\n",
       "       [ 20,  21,  22,  23,  24],\n",
       "       [ 25,  26,  27,  28,  29]])"
      ]
     },
     "execution_count": 503,
     "metadata": {},
     "output_type": "execute_result"
    }
   ],
   "source": [
    "v"
   ]
  },
  {
   "cell_type": "code",
   "execution_count": 504,
   "id": "e332f502",
   "metadata": {},
   "outputs": [
    {
     "data": {
      "text/plain": [
       "array([[  0,   5,  10,  15,  20,  25],\n",
       "       [200,   6,  11,  16,  21,  26],\n",
       "       [  2,   7,  12,  17,  22,  27],\n",
       "       [  3,   8,  13,  18,  23,  28],\n",
       "       [  4,   9,  14,  19,  24,  29]])"
      ]
     },
     "execution_count": 504,
     "metadata": {},
     "output_type": "execute_result"
    }
   ],
   "source": [
    "v.transpose()"
   ]
  },
  {
   "cell_type": "code",
   "execution_count": 505,
   "id": "5a546aca",
   "metadata": {},
   "outputs": [
    {
     "data": {
      "text/plain": [
       "array([[  0,   5,  10,  15,  20,  25],\n",
       "       [200,   6,  11,  16,  21,  26],\n",
       "       [  2,   7,  12,  17,  22,  27],\n",
       "       [  3,   8,  13,  18,  23,  28],\n",
       "       [  4,   9,  14,  19,  24,  29]])"
      ]
     },
     "execution_count": 505,
     "metadata": {},
     "output_type": "execute_result"
    }
   ],
   "source": [
    "v.T"
   ]
  },
  {
   "cell_type": "code",
   "execution_count": 510,
   "id": "b35e43f0",
   "metadata": {},
   "outputs": [
    {
     "data": {
      "text/plain": [
       "array([[[ 0,  1,  2,  3,  4],\n",
       "        [ 5,  6,  7,  8,  9],\n",
       "        [10, 11, 12, 13, 14],\n",
       "        [15, 16, 17, 18, 19]],\n",
       "\n",
       "       [[20, 21, 22, 23, 24],\n",
       "        [25, 26, 27, 28, 29],\n",
       "        [30, 31, 32, 33, 34],\n",
       "        [35, 36, 37, 38, 39]]])"
      ]
     },
     "execution_count": 510,
     "metadata": {},
     "output_type": "execute_result"
    }
   ],
   "source": [
    "g"
   ]
  },
  {
   "cell_type": "code",
   "execution_count": 509,
   "id": "6c83d532",
   "metadata": {},
   "outputs": [
    {
     "data": {
      "text/plain": [
       "array([[[ 0, 20],\n",
       "        [ 5, 25],\n",
       "        [10, 30],\n",
       "        [15, 35]],\n",
       "\n",
       "       [[ 1, 21],\n",
       "        [ 6, 26],\n",
       "        [11, 31],\n",
       "        [16, 36]],\n",
       "\n",
       "       [[ 2, 22],\n",
       "        [ 7, 27],\n",
       "        [12, 32],\n",
       "        [17, 37]],\n",
       "\n",
       "       [[ 3, 23],\n",
       "        [ 8, 28],\n",
       "        [13, 33],\n",
       "        [18, 38]],\n",
       "\n",
       "       [[ 4, 24],\n",
       "        [ 9, 29],\n",
       "        [14, 34],\n",
       "        [19, 39]]])"
      ]
     },
     "execution_count": 509,
     "metadata": {},
     "output_type": "execute_result"
    }
   ],
   "source": [
    "g.transpose()"
   ]
  },
  {
   "cell_type": "code",
   "execution_count": 6,
   "id": "de532371",
   "metadata": {},
   "outputs": [
    {
     "data": {
      "text/plain": [
       "array([[[ 0,  1,  2,  3,  4],\n",
       "        [ 5,  6,  7,  8,  9]],\n",
       "\n",
       "       [[10, 11, 12, 13, 14],\n",
       "        [15, 16, 17, 18, 19]],\n",
       "\n",
       "       [[20, 21, 22, 23, 24],\n",
       "        [25, 26, 27, 28, 29]]])"
      ]
     },
     "execution_count": 6,
     "metadata": {},
     "output_type": "execute_result"
    }
   ],
   "source": [
    "h=np.arange(30).reshape(3,2,5)\n",
    "h"
   ]
  },
  {
   "cell_type": "code",
   "execution_count": null,
   "id": "e4b734d0",
   "metadata": {},
   "outputs": [],
   "source": []
  },
  {
   "cell_type": "code",
   "execution_count": 7,
   "id": "1707a48f",
   "metadata": {},
   "outputs": [
    {
     "data": {
      "text/plain": [
       "array([[[ 0, 10, 20],\n",
       "        [ 5, 15, 25]],\n",
       "\n",
       "       [[ 1, 11, 21],\n",
       "        [ 6, 16, 26]],\n",
       "\n",
       "       [[ 2, 12, 22],\n",
       "        [ 7, 17, 27]],\n",
       "\n",
       "       [[ 3, 13, 23],\n",
       "        [ 8, 18, 28]],\n",
       "\n",
       "       [[ 4, 14, 24],\n",
       "        [ 9, 19, 29]]])"
      ]
     },
     "execution_count": 7,
     "metadata": {},
     "output_type": "execute_result"
    }
   ],
   "source": [
    "h.T"
   ]
  },
  {
   "cell_type": "code",
   "execution_count": 513,
   "id": "8393e403",
   "metadata": {},
   "outputs": [
    {
     "data": {
      "text/plain": [
       "array([[[ 0,  1,  2,  3,  4],\n",
       "        [ 5,  6,  7,  8,  9],\n",
       "        [10, 11, 12, 13, 14],\n",
       "        [15, 16, 17, 18, 19]],\n",
       "\n",
       "       [[20, 21, 22, 23, 24],\n",
       "        [25, 26, 27, 28, 29],\n",
       "        [30, 31, 32, 33, 34],\n",
       "        [35, 36, 37, 38, 39]]])"
      ]
     },
     "execution_count": 513,
     "metadata": {},
     "output_type": "execute_result"
    }
   ],
   "source": [
    "g"
   ]
  },
  {
   "cell_type": "code",
   "execution_count": 522,
   "id": "13ec0692",
   "metadata": {},
   "outputs": [
    {
     "data": {
      "text/plain": [
       "array([[[ 0.,  1.,  2.,  3.,  4.],\n",
       "        [ 5.,  6.,  7.,  8.,  9.],\n",
       "        [10., 11., 12., 13., 14.],\n",
       "        [15., 16., 17., 18., 19.]],\n",
       "\n",
       "       [[20., 21., 22., 23., 24.],\n",
       "        [25., 26., 27., 28., 29.],\n",
       "        [30., 31., 32., 33., 34.],\n",
       "        [35., 36., 37., 38., 39.]]])"
      ]
     },
     "execution_count": 522,
     "metadata": {},
     "output_type": "execute_result"
    }
   ],
   "source": [
    "g.astype('float')"
   ]
  },
  {
   "cell_type": "code",
   "execution_count": null,
   "id": "f58ebc37",
   "metadata": {},
   "outputs": [],
   "source": [
    "#concatenation"
   ]
  },
  {
   "cell_type": "code",
   "execution_count": 523,
   "id": "f2597c92",
   "metadata": {},
   "outputs": [],
   "source": [
    "arr=np.array([1,2,3])\n",
    "arr1=np.array([4,5,6])"
   ]
  },
  {
   "cell_type": "code",
   "execution_count": 526,
   "id": "cc23d5e3",
   "metadata": {},
   "outputs": [
    {
     "data": {
      "text/plain": [
       "array([5, 7, 9])"
      ]
     },
     "execution_count": 526,
     "metadata": {},
     "output_type": "execute_result"
    }
   ],
   "source": [
    "arr+arr1"
   ]
  },
  {
   "cell_type": "code",
   "execution_count": 525,
   "id": "9a2807b7",
   "metadata": {},
   "outputs": [
    {
     "data": {
      "text/plain": [
       "array([1, 2, 3, 4, 5, 6])"
      ]
     },
     "execution_count": 525,
     "metadata": {},
     "output_type": "execute_result"
    }
   ],
   "source": [
    "np.concatenate((arr,arr1))"
   ]
  },
  {
   "cell_type": "code",
   "execution_count": 9,
   "id": "eaf5602b",
   "metadata": {},
   "outputs": [],
   "source": [
    "array1 = np.array([[1, 2, 3], [4, 5, 6]])\n",
    "array2 = np.array([[7, 8, 9], [10, 11, 12]])"
   ]
  },
  {
   "cell_type": "code",
   "execution_count": 12,
   "id": "a3be18e9",
   "metadata": {},
   "outputs": [
    {
     "data": {
      "text/plain": [
       "array([[ 1,  2,  3],\n",
       "       [ 4,  5,  6],\n",
       "       [ 7,  8,  9],\n",
       "       [10, 11, 12]])"
      ]
     },
     "execution_count": 12,
     "metadata": {},
     "output_type": "execute_result"
    }
   ],
   "source": [
    "np.concatenate((array1,array2),axis=0)"
   ]
  },
  {
   "cell_type": "code",
   "execution_count": 13,
   "id": "af432be9-a176-4f32-86f8-ee632d370814",
   "metadata": {},
   "outputs": [
    {
     "data": {
      "text/plain": [
       "array([[ 1,  2,  3,  7,  8,  9],\n",
       "       [ 4,  5,  6, 10, 11, 12]])"
      ]
     },
     "execution_count": 13,
     "metadata": {},
     "output_type": "execute_result"
    }
   ],
   "source": [
    "np.concatenate((array1,array2),axis=1)"
   ]
  },
  {
   "cell_type": "code",
   "execution_count": 42,
   "id": "1b08fc87",
   "metadata": {},
   "outputs": [
    {
     "data": {
      "text/plain": [
       "array([[1, 2],\n",
       "       [3, 4],\n",
       "       [5, 6],\n",
       "       [7, 8]])"
      ]
     },
     "execution_count": 42,
     "metadata": {},
     "output_type": "execute_result"
    }
   ],
   "source": [
    "g=np.array([[1,2],[3,4],[5,6],[7,8]])\n",
    "g"
   ]
  },
  {
   "cell_type": "code",
   "execution_count": 533,
   "id": "deaa20b5",
   "metadata": {},
   "outputs": [
    {
     "data": {
      "text/plain": [
       "array([[1, 2, 1, 2],\n",
       "       [3, 4, 3, 4],\n",
       "       [5, 6, 5, 6],\n",
       "       [7, 8, 7, 8]])"
      ]
     },
     "execution_count": 533,
     "metadata": {},
     "output_type": "execute_result"
    }
   ],
   "source": [
    "np.concatenate((g,g),axis=1)"
   ]
  },
  {
   "cell_type": "code",
   "execution_count": 534,
   "id": "d22a04f5",
   "metadata": {},
   "outputs": [],
   "source": [
    "array1 = np.array([[[1, 2], [3, 4]], [[5, 6], [7, 8]]])\n",
    "array2 = np.array([[[9, 10], [11, 12]], [[13, 14], [15, 16]]])"
   ]
  },
  {
   "cell_type": "code",
   "execution_count": 536,
   "id": "b054a234",
   "metadata": {},
   "outputs": [
    {
     "data": {
      "text/plain": [
       "array([[[ 1,  2],\n",
       "        [ 3,  4]],\n",
       "\n",
       "       [[ 5,  6],\n",
       "        [ 7,  8]],\n",
       "\n",
       "       [[ 9, 10],\n",
       "        [11, 12]],\n",
       "\n",
       "       [[13, 14],\n",
       "        [15, 16]]])"
      ]
     },
     "execution_count": 536,
     "metadata": {},
     "output_type": "execute_result"
    }
   ],
   "source": [
    "np.concatenate((array1,array2),axis=0)"
   ]
  },
  {
   "cell_type": "code",
   "execution_count": 15,
   "id": "2a5364d7",
   "metadata": {},
   "outputs": [
    {
     "data": {
      "text/plain": [
       "array([[ 1,  2,  3,  7,  8,  9],\n",
       "       [ 4,  5,  6, 10, 11, 12]])"
      ]
     },
     "execution_count": 15,
     "metadata": {},
     "output_type": "execute_result"
    }
   ],
   "source": [
    "np.concatenate((array1,array2),axis=1)"
   ]
  },
  {
   "cell_type": "code",
   "execution_count": 538,
   "id": "d2152b21",
   "metadata": {},
   "outputs": [
    {
     "data": {
      "text/plain": [
       "array([[[ 1,  2,  9, 10],\n",
       "        [ 3,  4, 11, 12]],\n",
       "\n",
       "       [[ 5,  6, 13, 14],\n",
       "        [ 7,  8, 15, 16]]])"
      ]
     },
     "execution_count": 538,
     "metadata": {},
     "output_type": "execute_result"
    }
   ],
   "source": [
    "np.concatenate((array1,array2),axis=2)"
   ]
  },
  {
   "cell_type": "code",
   "execution_count": 539,
   "id": "4901d404",
   "metadata": {},
   "outputs": [],
   "source": [
    "array1 = np.array([[[1, 2], [3, 4]], [[5, 6], [7, 8]]])\n",
    "array2 = np.array([[[9, 10], [11, 12],[23,24]], [[13, 14], [15, 16],[17,18]]])"
   ]
  },
  {
   "cell_type": "code",
   "execution_count": 540,
   "id": "344e5a03",
   "metadata": {},
   "outputs": [
    {
     "ename": "ValueError",
     "evalue": "all the input array dimensions except for the concatenation axis must match exactly, but along dimension 1, the array at index 0 has size 2 and the array at index 1 has size 3",
     "output_type": "error",
     "traceback": [
      "\u001b[1;31m---------------------------------------------------------------------------\u001b[0m",
      "\u001b[1;31mValueError\u001b[0m                                Traceback (most recent call last)",
      "Cell \u001b[1;32mIn[540], line 1\u001b[0m\n\u001b[1;32m----> 1\u001b[0m np\u001b[38;5;241m.\u001b[39mconcatenate((array1,array2))\n",
      "File \u001b[1;32m<__array_function__ internals>:200\u001b[0m, in \u001b[0;36mconcatenate\u001b[1;34m(*args, **kwargs)\u001b[0m\n",
      "\u001b[1;31mValueError\u001b[0m: all the input array dimensions except for the concatenation axis must match exactly, but along dimension 1, the array at index 0 has size 2 and the array at index 1 has size 3"
     ]
    }
   ],
   "source": [
    "np.concatenate((array1,array2))"
   ]
  },
  {
   "cell_type": "code",
   "execution_count": 541,
   "id": "fb2526dd",
   "metadata": {},
   "outputs": [],
   "source": [
    "array1 = np.array([1, 2, 3])\n",
    "array2 = np.array([4, 5, 6])"
   ]
  },
  {
   "cell_type": "code",
   "execution_count": 543,
   "id": "9d14b304",
   "metadata": {},
   "outputs": [
    {
     "data": {
      "text/plain": [
       "array([1, 2, 3, 4, 5, 6])"
      ]
     },
     "execution_count": 543,
     "metadata": {},
     "output_type": "execute_result"
    }
   ],
   "source": [
    "np.concatenate((array1,array2))"
   ]
  },
  {
   "cell_type": "code",
   "execution_count": 16,
   "id": "d1eab6e6-7a0b-448f-87dc-a7934eb2b0d1",
   "metadata": {},
   "outputs": [
    {
     "data": {
      "text/plain": [
       "array([[1, 2, 3],\n",
       "       [4, 5, 6]])"
      ]
     },
     "execution_count": 16,
     "metadata": {},
     "output_type": "execute_result"
    }
   ],
   "source": [
    "array1"
   ]
  },
  {
   "cell_type": "code",
   "execution_count": 17,
   "id": "c005a7e8-eda2-48f1-ae74-ef2396d068e6",
   "metadata": {},
   "outputs": [
    {
     "data": {
      "text/plain": [
       "array([[ 7,  8,  9],\n",
       "       [10, 11, 12]])"
      ]
     },
     "execution_count": 17,
     "metadata": {},
     "output_type": "execute_result"
    }
   ],
   "source": [
    "array2"
   ]
  },
  {
   "cell_type": "code",
   "execution_count": 18,
   "id": "5a6a778b",
   "metadata": {},
   "outputs": [
    {
     "data": {
      "text/plain": [
       "array([[[ 1,  2,  3],\n",
       "        [ 4,  5,  6]],\n",
       "\n",
       "       [[ 7,  8,  9],\n",
       "        [10, 11, 12]]])"
      ]
     },
     "execution_count": 18,
     "metadata": {},
     "output_type": "execute_result"
    }
   ],
   "source": [
    "np.stack((array1,array2))"
   ]
  },
  {
   "cell_type": "code",
   "execution_count": 19,
   "id": "cdc6a233",
   "metadata": {},
   "outputs": [],
   "source": [
    "g=np.array([[1,2],[3,4],[5,6],[7,8]])\n",
    "j=np.array([[5,6],[7,8],[9,10],[11,12]])"
   ]
  },
  {
   "cell_type": "code",
   "execution_count": 20,
   "id": "1f739ac2",
   "metadata": {},
   "outputs": [
    {
     "data": {
      "text/plain": [
       "array([[ 1,  2,  5,  6],\n",
       "       [ 3,  4,  7,  8],\n",
       "       [ 5,  6,  9, 10],\n",
       "       [ 7,  8, 11, 12]])"
      ]
     },
     "execution_count": 20,
     "metadata": {},
     "output_type": "execute_result"
    }
   ],
   "source": [
    "np.concatenate((g,j),axis=1)"
   ]
  },
  {
   "cell_type": "code",
   "execution_count": 21,
   "id": "210f4eb0",
   "metadata": {},
   "outputs": [
    {
     "data": {
      "text/plain": [
       "array([[[ 1,  2],\n",
       "        [ 5,  6]],\n",
       "\n",
       "       [[ 3,  4],\n",
       "        [ 7,  8]],\n",
       "\n",
       "       [[ 5,  6],\n",
       "        [ 9, 10]],\n",
       "\n",
       "       [[ 7,  8],\n",
       "        [11, 12]]])"
      ]
     },
     "execution_count": 21,
     "metadata": {},
     "output_type": "execute_result"
    }
   ],
   "source": [
    "np.stack((g,j),axis=1)"
   ]
  },
  {
   "cell_type": "code",
   "execution_count": 551,
   "id": "d4f477dd",
   "metadata": {},
   "outputs": [],
   "source": [
    "array1 = np.array([[[1, 2], [3, 4]], [[5, 6], [7, 8]]])\n",
    "array2 = np.array([[[9, 10], [11, 12]], [[13, 14], [15, 16]]])"
   ]
  },
  {
   "cell_type": "code",
   "execution_count": 552,
   "id": "62804dfa",
   "metadata": {},
   "outputs": [
    {
     "data": {
      "text/plain": [
       "array([[[[ 1,  2],\n",
       "         [ 3,  4]],\n",
       "\n",
       "        [[ 5,  6],\n",
       "         [ 7,  8]]],\n",
       "\n",
       "\n",
       "       [[[ 9, 10],\n",
       "         [11, 12]],\n",
       "\n",
       "        [[13, 14],\n",
       "         [15, 16]]]])"
      ]
     },
     "execution_count": 552,
     "metadata": {},
     "output_type": "execute_result"
    }
   ],
   "source": [
    "np.stack((array1,array2))"
   ]
  },
  {
   "cell_type": "code",
   "execution_count": 553,
   "id": "4c836420",
   "metadata": {},
   "outputs": [
    {
     "data": {
      "text/plain": [
       "array([[[[ 1,  2],\n",
       "         [ 3,  4]],\n",
       "\n",
       "        [[ 9, 10],\n",
       "         [11, 12]]],\n",
       "\n",
       "\n",
       "       [[[ 5,  6],\n",
       "         [ 7,  8]],\n",
       "\n",
       "        [[13, 14],\n",
       "         [15, 16]]]])"
      ]
     },
     "execution_count": 553,
     "metadata": {},
     "output_type": "execute_result"
    }
   ],
   "source": [
    "np.stack((array1,array2),axis=1)"
   ]
  },
  {
   "cell_type": "code",
   "execution_count": 554,
   "id": "95783c08",
   "metadata": {},
   "outputs": [
    {
     "data": {
      "text/plain": [
       "array([[[[ 1,  2],\n",
       "         [ 9, 10]],\n",
       "\n",
       "        [[ 3,  4],\n",
       "         [11, 12]]],\n",
       "\n",
       "\n",
       "       [[[ 5,  6],\n",
       "         [13, 14]],\n",
       "\n",
       "        [[ 7,  8],\n",
       "         [15, 16]]]])"
      ]
     },
     "execution_count": 554,
     "metadata": {},
     "output_type": "execute_result"
    }
   ],
   "source": [
    "np.stack((array1,array2),axis=2)"
   ]
  },
  {
   "cell_type": "markdown",
   "id": "33036b9f",
   "metadata": {},
   "source": [
    "# 08/10/2024"
   ]
  },
  {
   "cell_type": "code",
   "execution_count": null,
   "id": "476cf3ad",
   "metadata": {},
   "outputs": [],
   "source": [
    "# ----1d---\n",
    "hstack concatenates 1D arrays along the only axis available (axis 0).\n",
    "vstack with 1D arrays first converts them into 2D row vectors and then stacks them vertically (along axis 0).\n",
    "hstack: For 1D arrays, it concatenates them into a single 1D array.\n",
    "dstack: For 1D arrays, it stacks them as rows of a 2D array.\n"
   ]
  },
  {
   "cell_type": "code",
   "execution_count": 22,
   "id": "02939a0e",
   "metadata": {},
   "outputs": [],
   "source": [
    "array1 = np.array([1, 2, 3])\n",
    "array2 = np.array([4, 5, 6])"
   ]
  },
  {
   "cell_type": "code",
   "execution_count": 23,
   "id": "f2ed3ade",
   "metadata": {},
   "outputs": [
    {
     "data": {
      "text/plain": [
       "array([[1, 2, 3],\n",
       "       [4, 5, 6]])"
      ]
     },
     "execution_count": 23,
     "metadata": {},
     "output_type": "execute_result"
    }
   ],
   "source": [
    "np.stack((array1,array2))"
   ]
  },
  {
   "cell_type": "code",
   "execution_count": 24,
   "id": "1a2fa2fc",
   "metadata": {},
   "outputs": [
    {
     "data": {
      "text/plain": [
       "array([1, 2, 3, 4, 5, 6])"
      ]
     },
     "execution_count": 24,
     "metadata": {},
     "output_type": "execute_result"
    }
   ],
   "source": [
    "np.hstack((array1,array2))"
   ]
  },
  {
   "cell_type": "code",
   "execution_count": 25,
   "id": "f6195ffd",
   "metadata": {},
   "outputs": [
    {
     "data": {
      "text/plain": [
       "array([[1, 2, 3],\n",
       "       [4, 5, 6]])"
      ]
     },
     "execution_count": 25,
     "metadata": {},
     "output_type": "execute_result"
    }
   ],
   "source": [
    "np.vstack((array1,array2))"
   ]
  },
  {
   "cell_type": "code",
   "execution_count": 26,
   "id": "fd989b0f",
   "metadata": {},
   "outputs": [
    {
     "data": {
      "text/plain": [
       "array([[[1, 4],\n",
       "        [2, 5],\n",
       "        [3, 6]]])"
      ]
     },
     "execution_count": 26,
     "metadata": {},
     "output_type": "execute_result"
    }
   ],
   "source": [
    "np.dstack((array1,array2))"
   ]
  },
  {
   "cell_type": "code",
   "execution_count": null,
   "id": "ae51edfd",
   "metadata": {},
   "outputs": [],
   "source": [
    "---2d---\n",
    "hstack stacks arrays horizontally (column-wise). It concatenates arrays along the second axis (axis=1).\n",
    "vstack stacks arrays vertically (row-wise). It concatenates arrays along the first axis (axis=0).\n",
    "hstack: Combines arrays side by side (along columns).\n",
    "vstack: Combines arrays on top of each other (along rows).\n"
   ]
  },
  {
   "cell_type": "code",
   "execution_count": 563,
   "id": "f9c698e1",
   "metadata": {},
   "outputs": [],
   "source": [
    "array1 = np.array([[1, 2, 3], [4, 5, 6]])\n",
    "array2 = np.array([[7, 8, 9], [10, 11, 12]])"
   ]
  },
  {
   "cell_type": "code",
   "execution_count": 564,
   "id": "d67948ee",
   "metadata": {},
   "outputs": [
    {
     "data": {
      "text/plain": [
       "array([[[ 1,  2,  3],\n",
       "        [ 4,  5,  6]],\n",
       "\n",
       "       [[ 7,  8,  9],\n",
       "        [10, 11, 12]]])"
      ]
     },
     "execution_count": 564,
     "metadata": {},
     "output_type": "execute_result"
    }
   ],
   "source": [
    "np.stack((array1,array2))"
   ]
  },
  {
   "cell_type": "code",
   "execution_count": 566,
   "id": "0417b54d",
   "metadata": {},
   "outputs": [
    {
     "data": {
      "text/plain": [
       "array([[ 1,  2,  3,  7,  8,  9],\n",
       "       [ 4,  5,  6, 10, 11, 12]])"
      ]
     },
     "execution_count": 566,
     "metadata": {},
     "output_type": "execute_result"
    }
   ],
   "source": [
    "np.hstack((array1,array2))"
   ]
  },
  {
   "cell_type": "code",
   "execution_count": 567,
   "id": "567b8450",
   "metadata": {},
   "outputs": [
    {
     "data": {
      "text/plain": [
       "array([[ 1,  2,  3],\n",
       "       [ 4,  5,  6],\n",
       "       [ 7,  8,  9],\n",
       "       [10, 11, 12]])"
      ]
     },
     "execution_count": 567,
     "metadata": {},
     "output_type": "execute_result"
    }
   ],
   "source": [
    "np.vstack((array1,array2))"
   ]
  },
  {
   "cell_type": "code",
   "execution_count": 568,
   "id": "32c077f3",
   "metadata": {},
   "outputs": [
    {
     "data": {
      "text/plain": [
       "array([[[ 1,  7],\n",
       "        [ 2,  8],\n",
       "        [ 3,  9]],\n",
       "\n",
       "       [[ 4, 10],\n",
       "        [ 5, 11],\n",
       "        [ 6, 12]]])"
      ]
     },
     "execution_count": 568,
     "metadata": {},
     "output_type": "execute_result"
    }
   ],
   "source": [
    "np.dstack((array1,array2))"
   ]
  },
  {
   "cell_type": "code",
   "execution_count": 569,
   "id": "7b2af770",
   "metadata": {},
   "outputs": [],
   "source": [
    "a=np.array([[1,2],[3,4],[5,6]])\n",
    "b=np.array([[7,8],[9,10],[11,12]])"
   ]
  },
  {
   "cell_type": "code",
   "execution_count": 570,
   "id": "f3fdbac1",
   "metadata": {},
   "outputs": [
    {
     "data": {
      "text/plain": [
       "array([[[ 1,  2],\n",
       "        [ 3,  4],\n",
       "        [ 5,  6]],\n",
       "\n",
       "       [[ 7,  8],\n",
       "        [ 9, 10],\n",
       "        [11, 12]]])"
      ]
     },
     "execution_count": 570,
     "metadata": {},
     "output_type": "execute_result"
    }
   ],
   "source": [
    "np.stack((a,b))"
   ]
  },
  {
   "cell_type": "code",
   "execution_count": 571,
   "id": "dd3be0e8",
   "metadata": {},
   "outputs": [
    {
     "data": {
      "text/plain": [
       "array([[ 1,  2,  7,  8],\n",
       "       [ 3,  4,  9, 10],\n",
       "       [ 5,  6, 11, 12]])"
      ]
     },
     "execution_count": 571,
     "metadata": {},
     "output_type": "execute_result"
    }
   ],
   "source": [
    "np.hstack((a,b))"
   ]
  },
  {
   "cell_type": "code",
   "execution_count": 572,
   "id": "8162a7ce",
   "metadata": {},
   "outputs": [
    {
     "data": {
      "text/plain": [
       "array([[ 1,  2],\n",
       "       [ 3,  4],\n",
       "       [ 5,  6],\n",
       "       [ 7,  8],\n",
       "       [ 9, 10],\n",
       "       [11, 12]])"
      ]
     },
     "execution_count": 572,
     "metadata": {},
     "output_type": "execute_result"
    }
   ],
   "source": [
    "np.vstack((a,b))"
   ]
  },
  {
   "cell_type": "code",
   "execution_count": 573,
   "id": "7cf90de9",
   "metadata": {},
   "outputs": [
    {
     "data": {
      "text/plain": [
       "array([[[ 1,  7],\n",
       "        [ 2,  8]],\n",
       "\n",
       "       [[ 3,  9],\n",
       "        [ 4, 10]],\n",
       "\n",
       "       [[ 5, 11],\n",
       "        [ 6, 12]]])"
      ]
     },
     "execution_count": 573,
     "metadata": {},
     "output_type": "execute_result"
    }
   ],
   "source": [
    "np.dstack((a,b))"
   ]
  },
  {
   "cell_type": "code",
   "execution_count": null,
   "id": "d5048634",
   "metadata": {},
   "outputs": [],
   "source": [
    "#----3d---\n",
    "hstack will concatenate along the second axis (columns) for each \"layer\" (2D slice) in the 3D array.\n",
    "vstack will concatenate along the first axis (rows) for each \"layer\" (2D slice) in the 3D array.\n",
    "hstack: Horizontally stacks 3D arrays, concatenating the columns in each \"layer\" (2D slice).\n",
    "vstack: Vertically stacks 3D arrays, concatenating the rows in each \"layer\" (2D slice).\n"
   ]
  },
  {
   "cell_type": "code",
   "execution_count": 574,
   "id": "df7c81b6",
   "metadata": {},
   "outputs": [],
   "source": [
    "array1 = np.array([[[1, 2], [3, 4]], [[5, 6], [7, 8]]])\n",
    "array2 = np.array([[[9, 10], [11, 12]], [[13, 14], [15, 16]]])"
   ]
  },
  {
   "cell_type": "code",
   "execution_count": 578,
   "id": "828293e0",
   "metadata": {},
   "outputs": [
    {
     "data": {
      "text/plain": [
       "(array([[[1, 2],\n",
       "         [3, 4]],\n",
       " \n",
       "        [[5, 6],\n",
       "         [7, 8]]]),\n",
       " array([[[ 9, 10],\n",
       "         [11, 12]],\n",
       " \n",
       "        [[13, 14],\n",
       "         [15, 16]]]))"
      ]
     },
     "execution_count": 578,
     "metadata": {},
     "output_type": "execute_result"
    }
   ],
   "source": [
    "array1,array2"
   ]
  },
  {
   "cell_type": "code",
   "execution_count": 575,
   "id": "ac50f70c",
   "metadata": {},
   "outputs": [
    {
     "data": {
      "text/plain": [
       "array([[[[ 1,  2],\n",
       "         [ 3,  4]],\n",
       "\n",
       "        [[ 5,  6],\n",
       "         [ 7,  8]]],\n",
       "\n",
       "\n",
       "       [[[ 9, 10],\n",
       "         [11, 12]],\n",
       "\n",
       "        [[13, 14],\n",
       "         [15, 16]]]])"
      ]
     },
     "execution_count": 575,
     "metadata": {},
     "output_type": "execute_result"
    }
   ],
   "source": [
    "np.stack((array1,array2))"
   ]
  },
  {
   "cell_type": "code",
   "execution_count": 576,
   "id": "5e39ebee",
   "metadata": {},
   "outputs": [
    {
     "data": {
      "text/plain": [
       "array([[[ 1,  2],\n",
       "        [ 3,  4],\n",
       "        [ 9, 10],\n",
       "        [11, 12]],\n",
       "\n",
       "       [[ 5,  6],\n",
       "        [ 7,  8],\n",
       "        [13, 14],\n",
       "        [15, 16]]])"
      ]
     },
     "execution_count": 576,
     "metadata": {},
     "output_type": "execute_result"
    }
   ],
   "source": [
    "np.hstack((array1,array2))"
   ]
  },
  {
   "cell_type": "code",
   "execution_count": 577,
   "id": "40cdcc8a",
   "metadata": {},
   "outputs": [
    {
     "data": {
      "text/plain": [
       "array([[[ 1,  2],\n",
       "        [ 3,  4]],\n",
       "\n",
       "       [[ 5,  6],\n",
       "        [ 7,  8]],\n",
       "\n",
       "       [[ 9, 10],\n",
       "        [11, 12]],\n",
       "\n",
       "       [[13, 14],\n",
       "        [15, 16]]])"
      ]
     },
     "execution_count": 577,
     "metadata": {},
     "output_type": "execute_result"
    }
   ],
   "source": [
    "np.vstack((array1,array2))"
   ]
  },
  {
   "cell_type": "code",
   "execution_count": 579,
   "id": "c0a60649",
   "metadata": {},
   "outputs": [
    {
     "data": {
      "text/plain": [
       "array([[[ 1,  2,  9, 10],\n",
       "        [ 3,  4, 11, 12]],\n",
       "\n",
       "       [[ 5,  6, 13, 14],\n",
       "        [ 7,  8, 15, 16]]])"
      ]
     },
     "execution_count": 579,
     "metadata": {},
     "output_type": "execute_result"
    }
   ],
   "source": [
    "np.dstack((array1,array2))"
   ]
  },
  {
   "cell_type": "code",
   "execution_count": 580,
   "id": "01144f72",
   "metadata": {},
   "outputs": [],
   "source": [
    "j=np.array([\"a\",\"b\",\"c\"])\n",
    "h=np.array([\"v\",\"n\",\"m\"])"
   ]
  },
  {
   "cell_type": "code",
   "execution_count": 581,
   "id": "456a9627",
   "metadata": {},
   "outputs": [
    {
     "data": {
      "text/plain": [
       "array(['a', 'b', 'c', 'v', 'n', 'm'], dtype='<U1')"
      ]
     },
     "execution_count": 581,
     "metadata": {},
     "output_type": "execute_result"
    }
   ],
   "source": [
    "np.hstack((j,h))"
   ]
  },
  {
   "cell_type": "code",
   "execution_count": 582,
   "id": "2f619b06",
   "metadata": {},
   "outputs": [
    {
     "data": {
      "text/plain": [
       "array([['a', 'b', 'c'],\n",
       "       ['v', 'n', 'm']], dtype='<U1')"
      ]
     },
     "execution_count": 582,
     "metadata": {},
     "output_type": "execute_result"
    }
   ],
   "source": [
    "np.vstack((j,h))"
   ]
  },
  {
   "cell_type": "code",
   "execution_count": 583,
   "id": "c2da99b0",
   "metadata": {},
   "outputs": [
    {
     "data": {
      "text/plain": [
       "array([[['a', 'v'],\n",
       "        ['b', 'n'],\n",
       "        ['c', 'm']]], dtype='<U1')"
      ]
     },
     "execution_count": 583,
     "metadata": {},
     "output_type": "execute_result"
    }
   ],
   "source": [
    "np.dstack((j,h))"
   ]
  },
  {
   "cell_type": "code",
   "execution_count": 584,
   "id": "6ec86d06",
   "metadata": {},
   "outputs": [],
   "source": [
    "p=np.array([[\"a\",\"b\"],[\"g\",\"j\"]])\n",
    "k=np.array([[\"v\",\"n\"],[\"f\",\"d\"]])\n"
   ]
  },
  {
   "cell_type": "code",
   "execution_count": 585,
   "id": "e80cc89a",
   "metadata": {},
   "outputs": [
    {
     "data": {
      "text/plain": [
       "array([['a', 'b', 'v', 'n'],\n",
       "       ['g', 'j', 'f', 'd']], dtype='<U1')"
      ]
     },
     "execution_count": 585,
     "metadata": {},
     "output_type": "execute_result"
    }
   ],
   "source": [
    "np.hstack((p,k))"
   ]
  },
  {
   "cell_type": "code",
   "execution_count": 586,
   "id": "e8980236",
   "metadata": {},
   "outputs": [
    {
     "data": {
      "text/plain": [
       "array([['a', 'b'],\n",
       "       ['g', 'j'],\n",
       "       ['v', 'n'],\n",
       "       ['f', 'd']], dtype='<U1')"
      ]
     },
     "execution_count": 586,
     "metadata": {},
     "output_type": "execute_result"
    }
   ],
   "source": [
    "np.vstack((p,k))"
   ]
  },
  {
   "cell_type": "code",
   "execution_count": 587,
   "id": "148297f7",
   "metadata": {},
   "outputs": [
    {
     "data": {
      "text/plain": [
       "array([[['a', 'v'],\n",
       "        ['b', 'n']],\n",
       "\n",
       "       [['g', 'f'],\n",
       "        ['j', 'd']]], dtype='<U1')"
      ]
     },
     "execution_count": 587,
     "metadata": {},
     "output_type": "execute_result"
    }
   ],
   "source": [
    "np.dstack((p,k))"
   ]
  },
  {
   "cell_type": "code",
   "execution_count": 588,
   "id": "ffc8f38f",
   "metadata": {},
   "outputs": [],
   "source": [
    "p=np.array([[[\"a\",\"b\"],[\"g\",\"j\"]],[[\"a\",\"s\"],[\"o\",\"p\"]]])\n",
    "k=np.array([[[\"v\",\"n\"],[\"f\",\"d\"]],[[\"w\",\"r\"],[\"e\",\"u\"]]])\n"
   ]
  },
  {
   "cell_type": "code",
   "execution_count": 589,
   "id": "7fc0ae1b",
   "metadata": {},
   "outputs": [
    {
     "data": {
      "text/plain": [
       "array([[['a', 'b'],\n",
       "        ['g', 'j'],\n",
       "        ['v', 'n'],\n",
       "        ['f', 'd']],\n",
       "\n",
       "       [['a', 's'],\n",
       "        ['o', 'p'],\n",
       "        ['w', 'r'],\n",
       "        ['e', 'u']]], dtype='<U1')"
      ]
     },
     "execution_count": 589,
     "metadata": {},
     "output_type": "execute_result"
    }
   ],
   "source": [
    "np.hstack((p,k))"
   ]
  },
  {
   "cell_type": "code",
   "execution_count": 590,
   "id": "305022ff",
   "metadata": {},
   "outputs": [
    {
     "data": {
      "text/plain": [
       "array([[['a', 'b'],\n",
       "        ['g', 'j']],\n",
       "\n",
       "       [['a', 's'],\n",
       "        ['o', 'p']],\n",
       "\n",
       "       [['v', 'n'],\n",
       "        ['f', 'd']],\n",
       "\n",
       "       [['w', 'r'],\n",
       "        ['e', 'u']]], dtype='<U1')"
      ]
     },
     "execution_count": 590,
     "metadata": {},
     "output_type": "execute_result"
    }
   ],
   "source": [
    "np.vstack((p,k))"
   ]
  },
  {
   "cell_type": "code",
   "execution_count": 591,
   "id": "9bbf9398",
   "metadata": {},
   "outputs": [
    {
     "data": {
      "text/plain": [
       "array([[['a', 'b', 'v', 'n'],\n",
       "        ['g', 'j', 'f', 'd']],\n",
       "\n",
       "       [['a', 's', 'w', 'r'],\n",
       "        ['o', 'p', 'e', 'u']]], dtype='<U1')"
      ]
     },
     "execution_count": 591,
     "metadata": {},
     "output_type": "execute_result"
    }
   ],
   "source": [
    "np.dstack((p,k))"
   ]
  },
  {
   "cell_type": "code",
   "execution_count": 45,
   "id": "868f27bd",
   "metadata": {},
   "outputs": [
    {
     "data": {
      "text/plain": [
       "array([1, 2, 3, 4, 5, 6, 7, 8, 9])"
      ]
     },
     "execution_count": 45,
     "metadata": {},
     "output_type": "execute_result"
    }
   ],
   "source": [
    "t=np.array([1,2,3,4,5,6,7,8,9])\n",
    "t"
   ]
  },
  {
   "cell_type": "code",
   "execution_count": 46,
   "id": "5e2da014",
   "metadata": {},
   "outputs": [
    {
     "data": {
      "text/plain": [
       "[array([1, 2, 3]), array([4, 5]), array([6, 7]), array([8, 9])]"
      ]
     },
     "execution_count": 46,
     "metadata": {},
     "output_type": "execute_result"
    }
   ],
   "source": [
    "np.array_split(t,4)"
   ]
  },
  {
   "cell_type": "code",
   "execution_count": 603,
   "id": "7f59d2e0",
   "metadata": {},
   "outputs": [
    {
     "data": {
      "text/plain": [
       "array([['a', 'b'],\n",
       "       ['g', 'j'],\n",
       "       ['h', 'i'],\n",
       "       ['i', 'o']], dtype='<U1')"
      ]
     },
     "execution_count": 603,
     "metadata": {},
     "output_type": "execute_result"
    }
   ],
   "source": [
    "p=np.array([[\"a\",\"b\"],[\"g\",\"j\"],[\"h\",\"i\"],[\"i\",\"o\"]])\n",
    "p"
   ]
  },
  {
   "cell_type": "code",
   "execution_count": 604,
   "id": "bd6d76ec",
   "metadata": {},
   "outputs": [
    {
     "data": {
      "text/plain": [
       "[array([['a', 'b'],\n",
       "        ['g', 'j']], dtype='<U1'),\n",
       " array([['h', 'i']], dtype='<U1'),\n",
       " array([['i', 'o']], dtype='<U1')]"
      ]
     },
     "execution_count": 604,
     "metadata": {},
     "output_type": "execute_result"
    }
   ],
   "source": [
    "np.array_split(p,3)"
   ]
  },
  {
   "cell_type": "code",
   "execution_count": 612,
   "id": "aa188d0b",
   "metadata": {},
   "outputs": [
    {
     "data": {
      "text/plain": [
       "array([[['v', 'n'],\n",
       "        ['f', 'd']],\n",
       "\n",
       "       [['w', 'r'],\n",
       "        ['e', 'u']],\n",
       "\n",
       "       [['g', 'j'],\n",
       "        ['h', 'i']]], dtype='<U1')"
      ]
     },
     "execution_count": 612,
     "metadata": {},
     "output_type": "execute_result"
    }
   ],
   "source": [
    "k=np.array([[[\"v\",\"n\"],[\"f\",\"d\"]],[[\"w\",\"r\"],[\"e\",\"u\"]],[[\"g\",\"j\"],[\"h\",\"i\"]]])\n",
    "k"
   ]
  },
  {
   "cell_type": "code",
   "execution_count": 613,
   "id": "d82eb67a",
   "metadata": {},
   "outputs": [
    {
     "data": {
      "text/plain": [
       "[array([[['v', 'n'],\n",
       "         ['f', 'd']]], dtype='<U1'),\n",
       " array([[['w', 'r'],\n",
       "         ['e', 'u']]], dtype='<U1'),\n",
       " array([[['g', 'j'],\n",
       "         ['h', 'i']]], dtype='<U1')]"
      ]
     },
     "execution_count": 613,
     "metadata": {},
     "output_type": "execute_result"
    }
   ],
   "source": [
    "np.array_split(k,3)"
   ]
  },
  {
   "cell_type": "code",
   "execution_count": 47,
   "id": "91c03ac3",
   "metadata": {},
   "outputs": [
    {
     "data": {
      "text/plain": [
       "array([[[ 1,  2,  4],\n",
       "        [ 3,  4,  8],\n",
       "        [ 9,  8,  7]],\n",
       "\n",
       "       [[ 5,  6,  9],\n",
       "        [ 7,  8, 10],\n",
       "        [ 6,  5,  4]]])"
      ]
     },
     "execution_count": 47,
     "metadata": {},
     "output_type": "execute_result"
    }
   ],
   "source": [
    "arr3=np.array([[[1,2,4],[3,4,8],[9,8,7]],[[5,6,9],[7,8,10],[6,5,4]]])\n",
    "arr3"
   ]
  },
  {
   "cell_type": "code",
   "execution_count": 630,
   "id": "8ad6fac2",
   "metadata": {},
   "outputs": [
    {
     "data": {
      "text/plain": [
       "[array([[[1, 2, 4]],\n",
       " \n",
       "        [[5, 6, 9]]]),\n",
       " array([[[ 3,  4,  8]],\n",
       " \n",
       "        [[ 7,  8, 10]]]),\n",
       " array([[[9, 8, 7]],\n",
       " \n",
       "        [[6, 5, 4]]])]"
      ]
     },
     "execution_count": 630,
     "metadata": {},
     "output_type": "execute_result"
    }
   ],
   "source": [
    "np.hsplit(arr3,3)"
   ]
  },
  {
   "cell_type": "code",
   "execution_count": 632,
   "id": "ca6124aa",
   "metadata": {},
   "outputs": [
    {
     "data": {
      "text/plain": [
       "[array([[[1, 2, 4],\n",
       "         [3, 4, 8],\n",
       "         [9, 8, 7]]]),\n",
       " array([[[ 5,  6,  9],\n",
       "         [ 7,  8, 10],\n",
       "         [ 6,  5,  4]]])]"
      ]
     },
     "execution_count": 632,
     "metadata": {},
     "output_type": "execute_result"
    }
   ],
   "source": [
    "np.vsplit(arr3,2)"
   ]
  },
  {
   "cell_type": "code",
   "execution_count": 634,
   "id": "0e863ab4",
   "metadata": {},
   "outputs": [
    {
     "data": {
      "text/plain": [
       "[array([[[1],\n",
       "         [3],\n",
       "         [9]],\n",
       " \n",
       "        [[5],\n",
       "         [7],\n",
       "         [6]]]),\n",
       " array([[[2],\n",
       "         [4],\n",
       "         [8]],\n",
       " \n",
       "        [[6],\n",
       "         [8],\n",
       "         [5]]]),\n",
       " array([[[ 4],\n",
       "         [ 8],\n",
       "         [ 7]],\n",
       " \n",
       "        [[ 9],\n",
       "         [10],\n",
       "         [ 4]]])]"
      ]
     },
     "execution_count": 634,
     "metadata": {},
     "output_type": "execute_result"
    }
   ],
   "source": [
    "np.dsplit(arr3,3)"
   ]
  },
  {
   "cell_type": "code",
   "execution_count": 635,
   "id": "6b180f37",
   "metadata": {},
   "outputs": [
    {
     "data": {
      "text/plain": [
       "array([['a', 'b'],\n",
       "       ['g', 'j'],\n",
       "       ['h', 'i'],\n",
       "       ['i', 'o']], dtype='<U1')"
      ]
     },
     "execution_count": 635,
     "metadata": {},
     "output_type": "execute_result"
    }
   ],
   "source": [
    "p=np.array([[\"a\",\"b\"],[\"g\",\"j\"],[\"h\",\"i\"],[\"i\",\"o\"]])\n",
    "p"
   ]
  },
  {
   "cell_type": "code",
   "execution_count": 637,
   "id": "3f7bd6e0",
   "metadata": {},
   "outputs": [
    {
     "data": {
      "text/plain": [
       "[array([['a'],\n",
       "        ['g'],\n",
       "        ['h'],\n",
       "        ['i']], dtype='<U1'),\n",
       " array([['b'],\n",
       "        ['j'],\n",
       "        ['i'],\n",
       "        ['o']], dtype='<U1')]"
      ]
     },
     "execution_count": 637,
     "metadata": {},
     "output_type": "execute_result"
    }
   ],
   "source": [
    "np.hsplit(p,2)"
   ]
  },
  {
   "cell_type": "code",
   "execution_count": 639,
   "id": "109e5ec5",
   "metadata": {},
   "outputs": [
    {
     "data": {
      "text/plain": [
       "[array([['a', 'b']], dtype='<U1'),\n",
       " array([['g', 'j']], dtype='<U1'),\n",
       " array([['h', 'i']], dtype='<U1'),\n",
       " array([['i', 'o']], dtype='<U1')]"
      ]
     },
     "execution_count": 639,
     "metadata": {},
     "output_type": "execute_result"
    }
   ],
   "source": [
    "np.vsplit(p,4)"
   ]
  },
  {
   "cell_type": "code",
   "execution_count": 640,
   "id": "5e7fc0cd",
   "metadata": {},
   "outputs": [
    {
     "ename": "ValueError",
     "evalue": "dsplit only works on arrays of 3 or more dimensions",
     "output_type": "error",
     "traceback": [
      "\u001b[1;31m---------------------------------------------------------------------------\u001b[0m",
      "\u001b[1;31mValueError\u001b[0m                                Traceback (most recent call last)",
      "Cell \u001b[1;32mIn[640], line 1\u001b[0m\n\u001b[1;32m----> 1\u001b[0m np\u001b[38;5;241m.\u001b[39mdsplit(p,\u001b[38;5;241m2\u001b[39m)\n",
      "File \u001b[1;32m<__array_function__ internals>:200\u001b[0m, in \u001b[0;36mdsplit\u001b[1;34m(*args, **kwargs)\u001b[0m\n",
      "File \u001b[1;32mC:\\anaconda\\Lib\\site-packages\\numpy\\lib\\shape_base.py:1041\u001b[0m, in \u001b[0;36mdsplit\u001b[1;34m(ary, indices_or_sections)\u001b[0m\n\u001b[0;32m   1002\u001b[0m \u001b[38;5;250m\u001b[39m\u001b[38;5;124;03m\"\"\"\u001b[39;00m\n\u001b[0;32m   1003\u001b[0m \u001b[38;5;124;03mSplit array into multiple sub-arrays along the 3rd axis (depth).\u001b[39;00m\n\u001b[0;32m   1004\u001b[0m \n\u001b[1;32m   (...)\u001b[0m\n\u001b[0;32m   1038\u001b[0m \u001b[38;5;124;03marray([], shape=(2, 2, 0), dtype=float64)]\u001b[39;00m\n\u001b[0;32m   1039\u001b[0m \u001b[38;5;124;03m\"\"\"\u001b[39;00m\n\u001b[0;32m   1040\u001b[0m \u001b[38;5;28;01mif\u001b[39;00m _nx\u001b[38;5;241m.\u001b[39mndim(ary) \u001b[38;5;241m<\u001b[39m \u001b[38;5;241m3\u001b[39m:\n\u001b[1;32m-> 1041\u001b[0m     \u001b[38;5;28;01mraise\u001b[39;00m \u001b[38;5;167;01mValueError\u001b[39;00m(\u001b[38;5;124m'\u001b[39m\u001b[38;5;124mdsplit only works on arrays of 3 or more dimensions\u001b[39m\u001b[38;5;124m'\u001b[39m)\n\u001b[0;32m   1042\u001b[0m \u001b[38;5;28;01mreturn\u001b[39;00m split(ary, indices_or_sections, \u001b[38;5;241m2\u001b[39m)\n",
      "\u001b[1;31mValueError\u001b[0m: dsplit only works on arrays of 3 or more dimensions"
     ]
    }
   ],
   "source": [
    "np.dsplit(p,2)"
   ]
  },
  {
   "cell_type": "code",
   "execution_count": 641,
   "id": "795bb9f0",
   "metadata": {},
   "outputs": [
    {
     "data": {
      "text/plain": [
       "array([1, 2, 3, 4, 5])"
      ]
     },
     "execution_count": 641,
     "metadata": {},
     "output_type": "execute_result"
    }
   ],
   "source": [
    "a=np.array([1,2,3,4,5])\n",
    "a"
   ]
  },
  {
   "cell_type": "code",
   "execution_count": 643,
   "id": "558643d8",
   "metadata": {},
   "outputs": [
    {
     "data": {
      "text/plain": [
       "[array([1, 2, 3, 4, 5])]"
      ]
     },
     "execution_count": 643,
     "metadata": {},
     "output_type": "execute_result"
    }
   ],
   "source": [
    "np.hsplit(a,1)"
   ]
  },
  {
   "cell_type": "code",
   "execution_count": 646,
   "id": "82edba36",
   "metadata": {},
   "outputs": [
    {
     "ename": "ValueError",
     "evalue": "vsplit only works on arrays of 2 or more dimensions",
     "output_type": "error",
     "traceback": [
      "\u001b[1;31m---------------------------------------------------------------------------\u001b[0m",
      "\u001b[1;31mValueError\u001b[0m                                Traceback (most recent call last)",
      "Cell \u001b[1;32mIn[646], line 1\u001b[0m\n\u001b[1;32m----> 1\u001b[0m np\u001b[38;5;241m.\u001b[39mvsplit(a,\u001b[38;5;241m1\u001b[39m)\n",
      "File \u001b[1;32m<__array_function__ internals>:200\u001b[0m, in \u001b[0;36mvsplit\u001b[1;34m(*args, **kwargs)\u001b[0m\n",
      "File \u001b[1;32mC:\\anaconda\\Lib\\site-packages\\numpy\\lib\\shape_base.py:996\u001b[0m, in \u001b[0;36mvsplit\u001b[1;34m(ary, indices_or_sections)\u001b[0m\n\u001b[0;32m    953\u001b[0m \u001b[38;5;250m\u001b[39m\u001b[38;5;124;03m\"\"\"\u001b[39;00m\n\u001b[0;32m    954\u001b[0m \u001b[38;5;124;03mSplit an array into multiple sub-arrays vertically (row-wise).\u001b[39;00m\n\u001b[0;32m    955\u001b[0m \n\u001b[1;32m   (...)\u001b[0m\n\u001b[0;32m    993\u001b[0m \n\u001b[0;32m    994\u001b[0m \u001b[38;5;124;03m\"\"\"\u001b[39;00m\n\u001b[0;32m    995\u001b[0m \u001b[38;5;28;01mif\u001b[39;00m _nx\u001b[38;5;241m.\u001b[39mndim(ary) \u001b[38;5;241m<\u001b[39m \u001b[38;5;241m2\u001b[39m:\n\u001b[1;32m--> 996\u001b[0m     \u001b[38;5;28;01mraise\u001b[39;00m \u001b[38;5;167;01mValueError\u001b[39;00m(\u001b[38;5;124m'\u001b[39m\u001b[38;5;124mvsplit only works on arrays of 2 or more dimensions\u001b[39m\u001b[38;5;124m'\u001b[39m)\n\u001b[0;32m    997\u001b[0m \u001b[38;5;28;01mreturn\u001b[39;00m split(ary, indices_or_sections, \u001b[38;5;241m0\u001b[39m)\n",
      "\u001b[1;31mValueError\u001b[0m: vsplit only works on arrays of 2 or more dimensions"
     ]
    }
   ],
   "source": [
    "np.vsplit(a,1)"
   ]
  },
  {
   "cell_type": "code",
   "execution_count": 49,
   "id": "6f79f5c0",
   "metadata": {},
   "outputs": [
    {
     "data": {
      "text/plain": [
       "array([1, 2, 3, 4, 5, 6, 7, 4, 2, 3, 4, 1, 2, 9, 4])"
      ]
     },
     "execution_count": 49,
     "metadata": {},
     "output_type": "execute_result"
    }
   ],
   "source": [
    "u=np.array([1,2,3,4,5,6,7,4,2,3,4,1,2,9,4])\n",
    "u"
   ]
  },
  {
   "cell_type": "code",
   "execution_count": 50,
   "id": "b163ff60",
   "metadata": {},
   "outputs": [],
   "source": [
    "#where (index)"
   ]
  },
  {
   "cell_type": "code",
   "execution_count": 51,
   "id": "8cd5b1da",
   "metadata": {},
   "outputs": [
    {
     "data": {
      "text/plain": [
       "(array([ 3,  7, 10, 14], dtype=int64),)"
      ]
     },
     "execution_count": 51,
     "metadata": {},
     "output_type": "execute_result"
    }
   ],
   "source": [
    "np.where(u==4)"
   ]
  },
  {
   "cell_type": "code",
   "execution_count": 52,
   "id": "d69fedb5",
   "metadata": {},
   "outputs": [
    {
     "data": {
      "text/plain": [
       "(array([ 1,  3,  5,  7,  8, 10, 12, 14], dtype=int64),)"
      ]
     },
     "execution_count": 52,
     "metadata": {},
     "output_type": "execute_result"
    }
   ],
   "source": [
    "np.where(u%2==0)"
   ]
  },
  {
   "cell_type": "code",
   "execution_count": 53,
   "id": "9f058241",
   "metadata": {},
   "outputs": [
    {
     "data": {
      "text/plain": [
       "array([  0,   0,   0,   0, 100, 100, 100,   0,   0,   0,   0,   0,   0,\n",
       "       100,   0])"
      ]
     },
     "execution_count": 53,
     "metadata": {},
     "output_type": "execute_result"
    }
   ],
   "source": [
    "np.where(u>4,100,0)"
   ]
  },
  {
   "cell_type": "code",
   "execution_count": 653,
   "id": "9556b1a3",
   "metadata": {},
   "outputs": [
    {
     "data": {
      "text/plain": [
       "array([['a', 'i'],\n",
       "       ['g', 'j'],\n",
       "       ['h', 'i'],\n",
       "       ['i', 'o']], dtype='<U1')"
      ]
     },
     "execution_count": 653,
     "metadata": {},
     "output_type": "execute_result"
    }
   ],
   "source": [
    "p=np.array([[\"a\",\"i\"],[\"g\",\"j\"],[\"h\",\"i\"],[\"i\",\"o\"]])\n",
    "p"
   ]
  },
  {
   "cell_type": "code",
   "execution_count": 658,
   "id": "9479b57c",
   "metadata": {},
   "outputs": [
    {
     "data": {
      "text/plain": [
       "(array([0, 2, 3], dtype=int64), array([1, 1, 0], dtype=int64))"
      ]
     },
     "execution_count": 658,
     "metadata": {},
     "output_type": "execute_result"
    }
   ],
   "source": [
    "np.where(p==\"i\")"
   ]
  },
  {
   "cell_type": "code",
   "execution_count": 659,
   "id": "82dce3d9",
   "metadata": {},
   "outputs": [
    {
     "data": {
      "text/plain": [
       "array([[ 7,  8],\n",
       "       [ 9, 10],\n",
       "       [11, 12]])"
      ]
     },
     "execution_count": 659,
     "metadata": {},
     "output_type": "execute_result"
    }
   ],
   "source": [
    "b=np.array([[7,8],[9,10],[11,12]])\n",
    "b"
   ]
  },
  {
   "cell_type": "code",
   "execution_count": 660,
   "id": "162d0729",
   "metadata": {},
   "outputs": [
    {
     "data": {
      "text/plain": [
       "(array([0, 1, 2], dtype=int64), array([1, 1, 1], dtype=int64))"
      ]
     },
     "execution_count": 660,
     "metadata": {},
     "output_type": "execute_result"
    }
   ],
   "source": [
    "np.where(b%2==0)"
   ]
  },
  {
   "cell_type": "code",
   "execution_count": 663,
   "id": "b667912c",
   "metadata": {},
   "outputs": [
    {
     "data": {
      "text/plain": [
       "(array([0, 0, 1, 1, 2, 2], dtype=int64),\n",
       " array([0, 1, 0, 1, 0, 1], dtype=int64))"
      ]
     },
     "execution_count": 663,
     "metadata": {},
     "output_type": "execute_result"
    }
   ],
   "source": [
    "np.where(b>=0)"
   ]
  },
  {
   "cell_type": "code",
   "execution_count": 664,
   "id": "4c4888e2",
   "metadata": {},
   "outputs": [
    {
     "data": {
      "text/plain": [
       "(array([1, 2, 2], dtype=int64), array([1, 0, 1], dtype=int64))"
      ]
     },
     "execution_count": 664,
     "metadata": {},
     "output_type": "execute_result"
    }
   ],
   "source": [
    "np.where(b>=10)"
   ]
  },
  {
   "cell_type": "code",
   "execution_count": 666,
   "id": "adf51690",
   "metadata": {},
   "outputs": [
    {
     "data": {
      "text/plain": [
       "array([[['i', 'j'],\n",
       "        ['k', 'l']],\n",
       "\n",
       "       [['m', 'n'],\n",
       "        ['o', 'p']],\n",
       "\n",
       "       [['m', 'k'],\n",
       "        ['k', 'p']],\n",
       "\n",
       "       [['m', 'n'],\n",
       "        ['o', 'p']]], dtype='<U1')"
      ]
     },
     "execution_count": 666,
     "metadata": {},
     "output_type": "execute_result"
    }
   ],
   "source": [
    "g=np.array([[[\"i\",\"j\"],[\"k\",\"l\"]],[[\"m\",\"n\"],[\"o\",\"p\"]],[[\"m\",\"k\"],[\"k\",\"p\"]],[[\"m\",\"n\"],[\"o\",\"p\"]]])\n",
    "g"
   ]
  },
  {
   "cell_type": "code",
   "execution_count": 667,
   "id": "25df7601",
   "metadata": {},
   "outputs": [
    {
     "data": {
      "text/plain": [
       "(array([0, 2, 2], dtype=int64),\n",
       " array([1, 0, 1], dtype=int64),\n",
       " array([0, 1, 0], dtype=int64))"
      ]
     },
     "execution_count": 667,
     "metadata": {},
     "output_type": "execute_result"
    }
   ],
   "source": [
    "np.where(g==\"k\")"
   ]
  },
  {
   "cell_type": "code",
   "execution_count": 56,
   "id": "943b1b0b",
   "metadata": {},
   "outputs": [
    {
     "data": {
      "text/plain": [
       "array([ 7,  9,  8, 10])"
      ]
     },
     "execution_count": 56,
     "metadata": {},
     "output_type": "execute_result"
    }
   ],
   "source": [
    "#search sorted\n",
    "ar=np.array([7,9,8,10])\n",
    "ar"
   ]
  },
  {
   "cell_type": "code",
   "execution_count": 57,
   "id": "90cf6cff",
   "metadata": {},
   "outputs": [
    {
     "data": {
      "text/plain": [
       "0"
      ]
     },
     "execution_count": 57,
     "metadata": {},
     "output_type": "execute_result"
    }
   ],
   "source": [
    "np.searchsorted(ar,6)"
   ]
  },
  {
   "cell_type": "code",
   "execution_count": 58,
   "id": "a8a53783",
   "metadata": {},
   "outputs": [
    {
     "data": {
      "text/plain": [
       "3"
      ]
     },
     "execution_count": 58,
     "metadata": {},
     "output_type": "execute_result"
    }
   ],
   "source": [
    "np.searchsorted(ar,9)"
   ]
  },
  {
   "cell_type": "code",
   "execution_count": 676,
   "id": "94e16030",
   "metadata": {},
   "outputs": [
    {
     "data": {
      "text/plain": [
       "array([ 7,  9,  8, 10])"
      ]
     },
     "execution_count": 676,
     "metadata": {},
     "output_type": "execute_result"
    }
   ],
   "source": [
    "ar"
   ]
  },
  {
   "cell_type": "code",
   "execution_count": 677,
   "id": "9566b672",
   "metadata": {},
   "outputs": [
    {
     "data": {
      "text/plain": [
       "array([18,  9, 21, 99])"
      ]
     },
     "execution_count": 677,
     "metadata": {},
     "output_type": "execute_result"
    }
   ],
   "source": [
    "j=np.array([18,9,21,99])\n",
    "j"
   ]
  },
  {
   "cell_type": "code",
   "execution_count": 678,
   "id": "8950785c",
   "metadata": {},
   "outputs": [
    {
     "data": {
      "text/plain": [
       "2"
      ]
     },
     "execution_count": 678,
     "metadata": {},
     "output_type": "execute_result"
    }
   ],
   "source": [
    "np.searchsorted(j,10)"
   ]
  },
  {
   "cell_type": "code",
   "execution_count": 682,
   "id": "5a8d64c2",
   "metadata": {},
   "outputs": [
    {
     "data": {
      "text/plain": [
       "4"
      ]
     },
     "execution_count": 682,
     "metadata": {},
     "output_type": "execute_result"
    }
   ],
   "source": [
    "np.searchsorted(j,100)"
   ]
  },
  {
   "cell_type": "code",
   "execution_count": 683,
   "id": "2805e8ca",
   "metadata": {},
   "outputs": [
    {
     "data": {
      "text/plain": [
       "array(['banana', 'cherry', 'apple', 'apricot'], dtype='<U7')"
      ]
     },
     "execution_count": 683,
     "metadata": {},
     "output_type": "execute_result"
    }
   ],
   "source": [
    "a=np.array([\"banana\",\"cherry\",\"apple\",\"apricot\"])\n",
    "a"
   ]
  },
  {
   "cell_type": "code",
   "execution_count": 684,
   "id": "1dfcb0c0",
   "metadata": {},
   "outputs": [
    {
     "data": {
      "text/plain": [
       "array(['apple', 'apricot', 'banana', 'cherry'], dtype='<U7')"
      ]
     },
     "execution_count": 684,
     "metadata": {},
     "output_type": "execute_result"
    }
   ],
   "source": [
    "np.sort(a)"
   ]
  },
  {
   "cell_type": "code",
   "execution_count": 686,
   "id": "9e9af4c4",
   "metadata": {},
   "outputs": [],
   "source": [
    "a=np.array([1,2,3,4,5,6,7,8])\n",
    "x=[True,False,True,True,True,False,True,True]"
   ]
  },
  {
   "cell_type": "code",
   "execution_count": 688,
   "id": "e635bcb7",
   "metadata": {},
   "outputs": [
    {
     "data": {
      "text/plain": [
       "array([1, 3, 4, 5, 7, 8])"
      ]
     },
     "execution_count": 688,
     "metadata": {},
     "output_type": "execute_result"
    }
   ],
   "source": [
    "a[x]"
   ]
  },
  {
   "cell_type": "code",
   "execution_count": 2,
   "id": "79b80ff0",
   "metadata": {},
   "outputs": [],
   "source": [
    "import numpy as np\n",
    "a=np.array([1,2,3,4,5,6,7,8])"
   ]
  },
  {
   "cell_type": "code",
   "execution_count": 3,
   "id": "9e92add2",
   "metadata": {},
   "outputs": [
    {
     "data": {
      "text/plain": [
       "array([1, 3, 5, 7])"
      ]
     },
     "execution_count": 3,
     "metadata": {},
     "output_type": "execute_result"
    }
   ],
   "source": [
    "a[a%2!=0]"
   ]
  },
  {
   "cell_type": "code",
   "execution_count": 4,
   "id": "53552489",
   "metadata": {},
   "outputs": [],
   "source": [
    "filtered_array=[]\n",
    "for i in a:\n",
    "    if i>5:\n",
    "        filtered_array.append(True)\n",
    "    else:\n",
    "        filtered_array.append(False)"
   ]
  },
  {
   "cell_type": "code",
   "execution_count": 5,
   "id": "37966e1e",
   "metadata": {},
   "outputs": [
    {
     "data": {
      "text/plain": [
       "array([6, 7, 8])"
      ]
     },
     "execution_count": 5,
     "metadata": {},
     "output_type": "execute_result"
    }
   ],
   "source": [
    "a[filtered_array]"
   ]
  },
  {
   "cell_type": "code",
   "execution_count": 6,
   "id": "2163ff2c",
   "metadata": {},
   "outputs": [],
   "source": [
    "#insert,delete"
   ]
  },
  {
   "cell_type": "code",
   "execution_count": 7,
   "id": "e65a6db2",
   "metadata": {},
   "outputs": [
    {
     "data": {
      "text/plain": [
       "array([1, 2, 3, 4, 5, 6, 7, 8])"
      ]
     },
     "execution_count": 7,
     "metadata": {},
     "output_type": "execute_result"
    }
   ],
   "source": [
    "a"
   ]
  },
  {
   "cell_type": "code",
   "execution_count": null,
   "id": "066b0c56",
   "metadata": {},
   "outputs": [],
   "source": [
    "insert(array,position,element)"
   ]
  },
  {
   "cell_type": "code",
   "execution_count": 8,
   "id": "ec389b3b",
   "metadata": {},
   "outputs": [
    {
     "data": {
      "text/plain": [
       "array([1, 2, 3, 5, 4, 5, 6, 7, 8])"
      ]
     },
     "execution_count": 8,
     "metadata": {},
     "output_type": "execute_result"
    }
   ],
   "source": [
    "np.insert(a,3,5)"
   ]
  },
  {
   "cell_type": "code",
   "execution_count": 9,
   "id": "58f239a4",
   "metadata": {},
   "outputs": [
    {
     "data": {
      "text/plain": [
       "array([ 1,  2,  3,  4,  5,  6,  7,  8, 10])"
      ]
     },
     "execution_count": 9,
     "metadata": {},
     "output_type": "execute_result"
    }
   ],
   "source": [
    "np.append(a,10)"
   ]
  },
  {
   "cell_type": "code",
   "execution_count": 10,
   "id": "2d883684",
   "metadata": {},
   "outputs": [
    {
     "data": {
      "text/plain": [
       "array([[ 7,  8],\n",
       "       [ 9, 10],\n",
       "       [11, 12]])"
      ]
     },
     "execution_count": 10,
     "metadata": {},
     "output_type": "execute_result"
    }
   ],
   "source": [
    "b=np.array([[7,8],[9,10],[11,12]])\n",
    "b"
   ]
  },
  {
   "cell_type": "code",
   "execution_count": 11,
   "id": "c353a39c",
   "metadata": {},
   "outputs": [
    {
     "data": {
      "text/plain": [
       "array([[ 7,  8],\n",
       "       [ 9, 10],\n",
       "       [ 4,  6],\n",
       "       [11, 12]])"
      ]
     },
     "execution_count": 11,
     "metadata": {},
     "output_type": "execute_result"
    }
   ],
   "source": [
    "np.insert(b,2,[4,6],axis=0)"
   ]
  },
  {
   "cell_type": "code",
   "execution_count": 12,
   "id": "c00dc4b3",
   "metadata": {},
   "outputs": [
    {
     "data": {
      "text/plain": [
       "array([[ 4,  7,  8],\n",
       "       [ 6,  9, 10],\n",
       "       [ 8, 11, 12]])"
      ]
     },
     "execution_count": 12,
     "metadata": {},
     "output_type": "execute_result"
    }
   ],
   "source": [
    "np.insert(b,0,[4,6,8],axis=1)"
   ]
  },
  {
   "cell_type": "code",
   "execution_count": 13,
   "id": "806320c5",
   "metadata": {},
   "outputs": [
    {
     "data": {
      "text/plain": [
       "array([[ 7,  8],\n",
       "       [ 9, 10],\n",
       "       [11, 12]])"
      ]
     },
     "execution_count": 13,
     "metadata": {},
     "output_type": "execute_result"
    }
   ],
   "source": [
    "b"
   ]
  },
  {
   "cell_type": "code",
   "execution_count": 40,
   "id": "dcbdbfa8",
   "metadata": {},
   "outputs": [
    {
     "data": {
      "text/plain": [
       "array([4, 5, 6])"
      ]
     },
     "execution_count": 40,
     "metadata": {},
     "output_type": "execute_result"
    }
   ],
   "source": [
    "array2"
   ]
  },
  {
   "cell_type": "code",
   "execution_count": 14,
   "id": "d97436ca",
   "metadata": {},
   "outputs": [
    {
     "ename": "NameError",
     "evalue": "name 'array2' is not defined",
     "output_type": "error",
     "traceback": [
      "\u001b[1;31m---------------------------------------------------------------------------\u001b[0m",
      "\u001b[1;31mNameError\u001b[0m                                 Traceback (most recent call last)",
      "Cell \u001b[1;32mIn[14], line 1\u001b[0m\n\u001b[1;32m----> 1\u001b[0m np\u001b[38;5;241m.\u001b[39minsert(array2,\u001b[38;5;241m2\u001b[39m,[[\u001b[38;5;241m10\u001b[39m,\u001b[38;5;241m20\u001b[39m,\u001b[38;5;241m30\u001b[39m]],axis\u001b[38;5;241m=\u001b[39m\u001b[38;5;241m0\u001b[39m)\n",
      "\u001b[1;31mNameError\u001b[0m: name 'array2' is not defined"
     ]
    }
   ],
   "source": [
    "np.insert(array2,2,[[10,20,30]],axis=0)"
   ]
  },
  {
   "cell_type": "code",
   "execution_count": 714,
   "id": "e35ee006",
   "metadata": {},
   "outputs": [
    {
     "data": {
      "text/plain": [
       "array([[[ 9, 10],\n",
       "        [ 1,  7],\n",
       "        [11, 12]],\n",
       "\n",
       "       [[13, 14],\n",
       "        [ 1,  7],\n",
       "        [15, 16]]])"
      ]
     },
     "execution_count": 714,
     "metadata": {},
     "output_type": "execute_result"
    }
   ],
   "source": [
    "np.insert(array2,1,[1,7],axis=1)"
   ]
  },
  {
   "cell_type": "code",
   "execution_count": 715,
   "id": "a5e27941",
   "metadata": {},
   "outputs": [
    {
     "data": {
      "text/plain": [
       "array([[[ 9,  1, 10],\n",
       "        [11,  7, 12]],\n",
       "\n",
       "       [[13,  1, 14],\n",
       "        [15,  7, 16]]])"
      ]
     },
     "execution_count": 715,
     "metadata": {},
     "output_type": "execute_result"
    }
   ],
   "source": [
    "np.insert(array2,1,[1,7],axis=2)"
   ]
  },
  {
   "cell_type": "markdown",
   "id": "8c0cc76d",
   "metadata": {},
   "source": [
    "# 09/10/2024"
   ]
  },
  {
   "cell_type": "code",
   "execution_count": 23,
   "id": "26d92f98",
   "metadata": {},
   "outputs": [
    {
     "data": {
      "text/plain": [
       "array([1, 2, 3, 4, 5, 6, 7, 8])"
      ]
     },
     "execution_count": 23,
     "metadata": {},
     "output_type": "execute_result"
    }
   ],
   "source": [
    "a"
   ]
  },
  {
   "cell_type": "code",
   "execution_count": 30,
   "id": "89776f0d",
   "metadata": {},
   "outputs": [],
   "source": [
    "a=np.delete(a,3)"
   ]
  },
  {
   "cell_type": "code",
   "execution_count": 31,
   "id": "a246bfdb-65ba-4981-b21d-af0ce0a05572",
   "metadata": {},
   "outputs": [
    {
     "data": {
      "text/plain": [
       "array([1, 2, 3, 5, 6, 7, 8])"
      ]
     },
     "execution_count": 31,
     "metadata": {},
     "output_type": "execute_result"
    }
   ],
   "source": [
    "a"
   ]
  },
  {
   "cell_type": "code",
   "execution_count": 32,
   "id": "7eddac0b",
   "metadata": {},
   "outputs": [],
   "source": [
    "a=np.delete(a,[3,4,5])"
   ]
  },
  {
   "cell_type": "code",
   "execution_count": 33,
   "id": "b2ee7daf-426e-4a26-aa1a-733b6a814fd8",
   "metadata": {},
   "outputs": [
    {
     "data": {
      "text/plain": [
       "array([1, 2, 3, 8])"
      ]
     },
     "execution_count": 33,
     "metadata": {},
     "output_type": "execute_result"
    }
   ],
   "source": [
    "a"
   ]
  },
  {
   "cell_type": "code",
   "execution_count": 36,
   "id": "14630964",
   "metadata": {},
   "outputs": [
    {
     "data": {
      "text/plain": [
       "array([[ 1,  2,  3],\n",
       "       [ 4,  5,  6],\n",
       "       [ 7,  8,  9],\n",
       "       [10, 11, 12],\n",
       "       [13, 14, 15],\n",
       "       [16, 17, 18]])"
      ]
     },
     "execution_count": 36,
     "metadata": {},
     "output_type": "execute_result"
    }
   ],
   "source": [
    "v=np.array([[1,2,3],[4,5,6],[7,8,9],[10,11,12],[13,14,15],[16,17,18]])\n",
    "v"
   ]
  },
  {
   "cell_type": "code",
   "execution_count": 37,
   "id": "d82b0ab6",
   "metadata": {},
   "outputs": [
    {
     "data": {
      "text/plain": [
       "array([[ 1,  2,  3],\n",
       "       [10, 11, 12],\n",
       "       [13, 14, 15],\n",
       "       [16, 17, 18]])"
      ]
     },
     "execution_count": 37,
     "metadata": {},
     "output_type": "execute_result"
    }
   ],
   "source": [
    "np.delete(v,[1,2],axis=0)"
   ]
  },
  {
   "cell_type": "code",
   "execution_count": 38,
   "id": "39690ad8-140f-43ae-85a6-f7c0a32b33e5",
   "metadata": {},
   "outputs": [
    {
     "data": {
      "text/plain": [
       "array([[ 1,  2,  3],\n",
       "       [ 4,  5,  6],\n",
       "       [ 7,  8,  9],\n",
       "       [10, 11, 12],\n",
       "       [13, 14, 15],\n",
       "       [16, 17, 18]])"
      ]
     },
     "execution_count": 38,
     "metadata": {},
     "output_type": "execute_result"
    }
   ],
   "source": [
    "v"
   ]
  },
  {
   "cell_type": "code",
   "execution_count": 39,
   "id": "2f8224ee-6b13-487e-a7ea-b0126dce7a2e",
   "metadata": {},
   "outputs": [
    {
     "data": {
      "text/plain": [
       "array([[ 1],\n",
       "       [ 4],\n",
       "       [ 7],\n",
       "       [10],\n",
       "       [13],\n",
       "       [16]])"
      ]
     },
     "execution_count": 39,
     "metadata": {},
     "output_type": "execute_result"
    }
   ],
   "source": [
    "np.delete(v,[1,2],axis=1)"
   ]
  },
  {
   "cell_type": "code",
   "execution_count": 51,
   "id": "d41fa879",
   "metadata": {},
   "outputs": [
    {
     "data": {
      "text/plain": [
       "array([4, 5, 6])"
      ]
     },
     "execution_count": 51,
     "metadata": {},
     "output_type": "execute_result"
    }
   ],
   "source": [
    "array2"
   ]
  },
  {
   "cell_type": "code",
   "execution_count": 52,
   "id": "ca6beee9",
   "metadata": {},
   "outputs": [
    {
     "data": {
      "text/plain": [
       "array([5, 6])"
      ]
     },
     "execution_count": 52,
     "metadata": {},
     "output_type": "execute_result"
    }
   ],
   "source": [
    "np.delete(array2,0,axis=0)"
   ]
  },
  {
   "cell_type": "code",
   "execution_count": null,
   "id": "e41fb944",
   "metadata": {},
   "outputs": [],
   "source": [
    "dot:\n"
   ]
  },
  {
   "cell_type": "code",
   "execution_count": 40,
   "id": "c93f919e",
   "metadata": {},
   "outputs": [
    {
     "data": {
      "text/plain": [
       "(array([1, 2, 3]), array([5, 6, 7]))"
      ]
     },
     "execution_count": 40,
     "metadata": {},
     "output_type": "execute_result"
    }
   ],
   "source": [
    "a=np.array([1,2,3])\n",
    "b=np.array([5,6,7])\n",
    "a,b"
   ]
  },
  {
   "cell_type": "code",
   "execution_count": 41,
   "id": "d19ff13c",
   "metadata": {},
   "outputs": [
    {
     "data": {
      "text/plain": [
       "38"
      ]
     },
     "execution_count": 41,
     "metadata": {},
     "output_type": "execute_result"
    }
   ],
   "source": [
    "np.dot(a,b)"
   ]
  },
  {
   "cell_type": "code",
   "execution_count": 55,
   "id": "732f8017",
   "metadata": {},
   "outputs": [
    {
     "data": {
      "text/plain": [
       "(array([[1, 2],\n",
       "        [3, 4]]),\n",
       " array([[5, 6],\n",
       "        [7, 8]]))"
      ]
     },
     "execution_count": 55,
     "metadata": {},
     "output_type": "execute_result"
    }
   ],
   "source": [
    "a=np.array([[1,2],[3,4]])\n",
    "b=np.array([[5,6],[7,8]])\n",
    "a,b"
   ]
  },
  {
   "cell_type": "code",
   "execution_count": 56,
   "id": "72092b85",
   "metadata": {},
   "outputs": [
    {
     "data": {
      "text/plain": [
       "array([[19, 22],\n",
       "       [43, 50]])"
      ]
     },
     "execution_count": 56,
     "metadata": {},
     "output_type": "execute_result"
    }
   ],
   "source": [
    "np.dot(a,b)"
   ]
  },
  {
   "cell_type": "code",
   "execution_count": 57,
   "id": "da3f2a95",
   "metadata": {},
   "outputs": [
    {
     "data": {
      "text/plain": [
       "array([[19, 22],\n",
       "       [43, 50]])"
      ]
     },
     "execution_count": 57,
     "metadata": {},
     "output_type": "execute_result"
    }
   ],
   "source": [
    "np.matmul(a,b)"
   ]
  },
  {
   "cell_type": "code",
   "execution_count": 42,
   "id": "15b40186",
   "metadata": {},
   "outputs": [
    {
     "data": {
      "text/plain": [
       "array([[ 0,  1,  2,  3],\n",
       "       [ 4,  5,  6,  7],\n",
       "       [ 8,  9, 10, 11],\n",
       "       [12, 13, 14, 15]])"
      ]
     },
     "execution_count": 42,
     "metadata": {},
     "output_type": "execute_result"
    }
   ],
   "source": [
    "d=np.arange(16).reshape(4,4)\n",
    "d"
   ]
  },
  {
   "cell_type": "code",
   "execution_count": 735,
   "id": "acdac73f",
   "metadata": {},
   "outputs": [
    {
     "data": {
      "text/plain": [
       "array([[ 3,  2,  1,  0],\n",
       "       [ 7,  6,  5,  4],\n",
       "       [11, 10,  9,  8],\n",
       "       [15, 14, 13, 12]])"
      ]
     },
     "execution_count": 735,
     "metadata": {},
     "output_type": "execute_result"
    }
   ],
   "source": [
    "np.fliplr(d)"
   ]
  },
  {
   "cell_type": "code",
   "execution_count": 736,
   "id": "87d5b5fc",
   "metadata": {},
   "outputs": [
    {
     "data": {
      "text/plain": [
       "array([[12, 13, 14, 15],\n",
       "       [ 8,  9, 10, 11],\n",
       "       [ 4,  5,  6,  7],\n",
       "       [ 0,  1,  2,  3]])"
      ]
     },
     "execution_count": 736,
     "metadata": {},
     "output_type": "execute_result"
    }
   ],
   "source": [
    "np.flipud(d)"
   ]
  },
  {
   "cell_type": "code",
   "execution_count": 59,
   "id": "b811f391",
   "metadata": {},
   "outputs": [
    {
     "data": {
      "text/plain": [
       "array([[15, 14, 13, 12],\n",
       "       [11, 10,  9,  8],\n",
       "       [ 7,  6,  5,  4],\n",
       "       [ 3,  2,  1,  0]])"
      ]
     },
     "execution_count": 59,
     "metadata": {},
     "output_type": "execute_result"
    }
   ],
   "source": [
    "np.flip(d)"
   ]
  },
  {
   "cell_type": "code",
   "execution_count": 738,
   "id": "53fe4a84",
   "metadata": {},
   "outputs": [
    {
     "data": {
      "text/plain": [
       "array([[ 0,  1,  2,  3],\n",
       "       [ 4,  5,  6,  7],\n",
       "       [ 8,  9, 10, 11],\n",
       "       [12, 13, 14, 15]])"
      ]
     },
     "execution_count": 738,
     "metadata": {},
     "output_type": "execute_result"
    }
   ],
   "source": [
    "d"
   ]
  },
  {
   "cell_type": "code",
   "execution_count": 740,
   "id": "cf3fe8fd",
   "metadata": {},
   "outputs": [
    {
     "data": {
      "text/plain": [
       "array([1, 2, 3])"
      ]
     },
     "execution_count": 740,
     "metadata": {},
     "output_type": "execute_result"
    }
   ],
   "source": [
    "a=np.array([1,2,3])\n",
    "a"
   ]
  },
  {
   "cell_type": "code",
   "execution_count": 743,
   "id": "a24dff5d",
   "metadata": {},
   "outputs": [
    {
     "data": {
      "text/plain": [
       "array([[[ 9, 10],\n",
       "        [11, 12]],\n",
       "\n",
       "       [[13, 14],\n",
       "        [15, 16]]])"
      ]
     },
     "execution_count": 743,
     "metadata": {},
     "output_type": "execute_result"
    }
   ],
   "source": [
    "array2"
   ]
  },
  {
   "cell_type": "code",
   "execution_count": 742,
   "id": "3a747b1a",
   "metadata": {},
   "outputs": [
    {
     "data": {
      "text/plain": [
       "array([[[11, 12],\n",
       "        [ 9, 10]],\n",
       "\n",
       "       [[15, 16],\n",
       "        [13, 14]]])"
      ]
     },
     "execution_count": 742,
     "metadata": {},
     "output_type": "execute_result"
    }
   ],
   "source": [
    "np.fliplr(array2)"
   ]
  },
  {
   "cell_type": "code",
   "execution_count": 744,
   "id": "c043de2a",
   "metadata": {},
   "outputs": [
    {
     "data": {
      "text/plain": [
       "array([[[13, 14],\n",
       "        [15, 16]],\n",
       "\n",
       "       [[ 9, 10],\n",
       "        [11, 12]]])"
      ]
     },
     "execution_count": 744,
     "metadata": {},
     "output_type": "execute_result"
    }
   ],
   "source": [
    "np.flipud(array2)"
   ]
  },
  {
   "cell_type": "code",
   "execution_count": 745,
   "id": "3a79f3f3",
   "metadata": {},
   "outputs": [
    {
     "data": {
      "text/plain": [
       "array([[[16, 15],\n",
       "        [14, 13]],\n",
       "\n",
       "       [[12, 11],\n",
       "        [10,  9]]])"
      ]
     },
     "execution_count": 745,
     "metadata": {},
     "output_type": "execute_result"
    }
   ],
   "source": [
    "np.flip(array2)"
   ]
  },
  {
   "cell_type": "code",
   "execution_count": 746,
   "id": "16436bf5",
   "metadata": {},
   "outputs": [
    {
     "data": {
      "text/plain": [
       "array([[ 0,  1,  2,  3],\n",
       "       [ 4,  5,  6,  7],\n",
       "       [ 8,  9, 10, 11],\n",
       "       [12, 13, 14, 15]])"
      ]
     },
     "execution_count": 746,
     "metadata": {},
     "output_type": "execute_result"
    }
   ],
   "source": [
    "d"
   ]
  },
  {
   "cell_type": "code",
   "execution_count": 46,
   "id": "175fc10d",
   "metadata": {},
   "outputs": [
    {
     "data": {
      "text/plain": [
       "array([[ 3,  7, 11, 15],\n",
       "       [ 2,  6, 10, 14],\n",
       "       [ 1,  5,  9, 13],\n",
       "       [ 0,  4,  8, 12]])"
      ]
     },
     "execution_count": 46,
     "metadata": {},
     "output_type": "execute_result"
    }
   ],
   "source": [
    "np.rot90(d,k=1)"
   ]
  },
  {
   "cell_type": "code",
   "execution_count": 44,
   "id": "856b0ea5",
   "metadata": {},
   "outputs": [
    {
     "ename": "NameError",
     "evalue": "name 'array2' is not defined",
     "output_type": "error",
     "traceback": [
      "\u001b[1;31m---------------------------------------------------------------------------\u001b[0m",
      "\u001b[1;31mNameError\u001b[0m                                 Traceback (most recent call last)",
      "Cell \u001b[1;32mIn[44], line 1\u001b[0m\n\u001b[1;32m----> 1\u001b[0m array2\n",
      "\u001b[1;31mNameError\u001b[0m: name 'array2' is not defined"
     ]
    }
   ],
   "source": [
    "array2"
   ]
  },
  {
   "cell_type": "code",
   "execution_count": 753,
   "id": "6eec9f34",
   "metadata": {},
   "outputs": [
    {
     "data": {
      "text/plain": [
       "array([[[15, 16],\n",
       "        [13, 14]],\n",
       "\n",
       "       [[11, 12],\n",
       "        [ 9, 10]]])"
      ]
     },
     "execution_count": 753,
     "metadata": {},
     "output_type": "execute_result"
    }
   ],
   "source": [
    "np.rot90(array2,k=2)"
   ]
  },
  {
   "cell_type": "code",
   "execution_count": 754,
   "id": "322baf65",
   "metadata": {},
   "outputs": [
    {
     "data": {
      "text/plain": [
       "array([[ 0,  1,  2,  3],\n",
       "       [ 4,  5,  6,  7],\n",
       "       [ 8,  9, 10, 11],\n",
       "       [12, 13, 14, 15]])"
      ]
     },
     "execution_count": 754,
     "metadata": {},
     "output_type": "execute_result"
    }
   ],
   "source": [
    "d"
   ]
  },
  {
   "cell_type": "code",
   "execution_count": 49,
   "id": "9cc45ac9",
   "metadata": {},
   "outputs": [
    {
     "data": {
      "text/plain": [
       "array([[ 4,  5,  6,  7],\n",
       "       [ 8,  9, 10, 11],\n",
       "       [12, 13, 14, 15],\n",
       "       [ 0,  1,  2,  3]])"
      ]
     },
     "execution_count": 49,
     "metadata": {},
     "output_type": "execute_result"
    }
   ],
   "source": [
    "np.roll(d,shift=3,axis=0)"
   ]
  },
  {
   "cell_type": "code",
   "execution_count": 758,
   "id": "947d864a",
   "metadata": {},
   "outputs": [
    {
     "data": {
      "text/plain": [
       "array([[ 1,  2,  3,  0],\n",
       "       [ 5,  6,  7,  4],\n",
       "       [ 9, 10, 11,  8],\n",
       "       [13, 14, 15, 12]])"
      ]
     },
     "execution_count": 758,
     "metadata": {},
     "output_type": "execute_result"
    }
   ],
   "source": [
    "np.roll(d,shift=3,axis=1)"
   ]
  },
  {
   "cell_type": "code",
   "execution_count": 759,
   "id": "b41dcf3c",
   "metadata": {},
   "outputs": [
    {
     "data": {
      "text/plain": [
       "array([0.56804456, 0.92559664, 0.07103606, 0.0871293 , 0.0202184 ,\n",
       "       0.83261985, 0.77815675, 0.87001215, 0.97861834, 0.79915856])"
      ]
     },
     "execution_count": 759,
     "metadata": {},
     "output_type": "execute_result"
    }
   ],
   "source": [
    "a=np.random.rand(10)\n",
    "a"
   ]
  },
  {
   "cell_type": "code",
   "execution_count": 760,
   "id": "14fc3b69",
   "metadata": {},
   "outputs": [],
   "source": [
    "np.set_printoptions(precision=2)"
   ]
  },
  {
   "cell_type": "code",
   "execution_count": 761,
   "id": "a93365e7",
   "metadata": {},
   "outputs": [
    {
     "data": {
      "text/plain": [
       "array([0.57, 0.93, 0.07, 0.09, 0.02, 0.83, 0.78, 0.87, 0.98, 0.8 ])"
      ]
     },
     "execution_count": 761,
     "metadata": {},
     "output_type": "execute_result"
    }
   ],
   "source": [
    "a"
   ]
  },
  {
   "cell_type": "code",
   "execution_count": 765,
   "id": "9a9070f6",
   "metadata": {},
   "outputs": [
    {
     "data": {
      "text/plain": [
       "array([[0.12, 0.64, 0.14],\n",
       "       [0.94, 0.52, 0.41]])"
      ]
     },
     "execution_count": 765,
     "metadata": {},
     "output_type": "execute_result"
    }
   ],
   "source": [
    "np.random.rand(2,3)"
   ]
  },
  {
   "cell_type": "code",
   "execution_count": 772,
   "id": "f07660cc",
   "metadata": {},
   "outputs": [
    {
     "data": {
      "text/plain": [
       "array([    0,     1,     2,     3,     4,     5,     6,     7,     8,\n",
       "           9,    10,    11,    12,    13,    14,    15,    16,    17,\n",
       "          18,    19,    20,    21,    22,    23,    24,    25,    26,\n",
       "          27,    28,    29,    30,    31,    32,    33,    34,    35,\n",
       "          36,    37,    38,    39,    40,    41,    42,    43,    44,\n",
       "          45,    46,    47,    48,    49,    50,    51,    52,    53,\n",
       "          54,    55,    56,    57,    58,    59,    60,    61,    62,\n",
       "          63,    64,    65,    66,    67,    68,    69,    70,    71,\n",
       "          72,    73,    74,    75,    76,    77,    78,    79,    80,\n",
       "          81,    82,    83,    84,    85,    86,    87,    88,    89,\n",
       "          90,    91,    92,    93,    94,    95,    96,    97,    98,\n",
       "          99,   100,   101,   102,   103,   104,   105,   106,   107,\n",
       "         108,   109,   110,   111,   112,   113,   114,   115,   116,\n",
       "         117,   118,   119,   120,   121,   122,   123,   124,   125,\n",
       "         126,   127,   128,   129,   130,   131,   132,   133,   134,\n",
       "         135,   136,   137,   138,   139,   140,   141,   142,   143,\n",
       "         144,   145,   146,   147,   148,   149,   150,   151,   152,\n",
       "         153,   154,   155,   156,   157,   158,   159,   160,   161,\n",
       "         162,   163,   164,   165,   166,   167,   168,   169,   170,\n",
       "         171,   172,   173,   174,   175,   176,   177,   178,   179,\n",
       "         180,   181,   182,   183,   184,   185,   186,   187,   188,\n",
       "         189,   190,   191,   192,   193,   194,   195,   196,   197,\n",
       "         198,   199,   200,   201,   202,   203,   204,   205,   206,\n",
       "         207,   208,   209,   210,   211,   212,   213,   214,   215,\n",
       "         216,   217,   218,   219,   220,   221,   222,   223,   224,\n",
       "         225,   226,   227,   228,   229,   230,   231,   232,   233,\n",
       "         234,   235,   236,   237,   238,   239,   240,   241,   242,\n",
       "         243,   244,   245,   246,   247,   248,   249,   250,   251,\n",
       "         252,   253,   254,   255,   256,   257,   258,   259,   260,\n",
       "         261,   262,   263,   264,   265,   266,   267,   268,   269,\n",
       "         270,   271,   272,   273,   274,   275,   276,   277,   278,\n",
       "         279,   280,   281,   282,   283,   284,   285,   286,   287,\n",
       "         288,   289,   290,   291,   292,   293,   294,   295,   296,\n",
       "         297,   298,   299,   300,   301,   302,   303,   304,   305,\n",
       "         306,   307,   308,   309,   310,   311,   312,   313,   314,\n",
       "         315,   316,   317,   318,   319,   320,   321,   322,   323,\n",
       "         324,   325,   326,   327,   328,   329,   330,   331,   332,\n",
       "         333,   334,   335,   336,   337,   338,   339,   340,   341,\n",
       "         342,   343,   344,   345,   346,   347,   348,   349,   350,\n",
       "         351,   352,   353,   354,   355,   356,   357,   358,   359,\n",
       "         360,   361,   362,   363,   364,   365,   366,   367,   368,\n",
       "         369,   370,   371,   372,   373,   374,   375,   376,   377,\n",
       "         378,   379,   380,   381,   382,   383,   384,   385,   386,\n",
       "         387,   388,   389,   390,   391,   392,   393,   394,   395,\n",
       "         396,   397,   398,   399,   400,   401,   402,   403,   404,\n",
       "         405,   406,   407,   408,   409,   410,   411,   412,   413,\n",
       "         414,   415,   416,   417,   418,   419,   420,   421,   422,\n",
       "         423,   424,   425,   426,   427,   428,   429,   430,   431,\n",
       "         432,   433,   434,   435,   436,   437,   438,   439,   440,\n",
       "         441,   442,   443,   444,   445,   446,   447,   448,   449,\n",
       "         450,   451,   452,   453,   454,   455,   456,   457,   458,\n",
       "         459,   460,   461,   462,   463,   464,   465,   466,   467,\n",
       "         468,   469,   470,   471,   472,   473,   474,   475,   476,\n",
       "         477,   478,   479,   480,   481,   482,   483,   484,   485,\n",
       "         486,   487,   488,   489,   490,   491,   492,   493,   494,\n",
       "         495,   496,   497,   498,   499,   500,   501,   502,   503,\n",
       "         504,   505,   506,   507,   508,   509,   510,   511,   512,\n",
       "         513,   514,   515,   516,   517,   518,   519,   520,   521,\n",
       "         522,   523,   524,   525,   526,   527,   528,   529,   530,\n",
       "         531,   532,   533,   534,   535,   536,   537,   538,   539,\n",
       "         540,   541,   542,   543,   544,   545,   546,   547,   548,\n",
       "         549,   550,   551,   552,   553,   554,   555,   556,   557,\n",
       "         558,   559,   560,   561,   562,   563,   564,   565,   566,\n",
       "         567,   568,   569,   570,   571,   572,   573,   574,   575,\n",
       "         576,   577,   578,   579,   580,   581,   582,   583,   584,\n",
       "         585,   586,   587,   588,   589,   590,   591,   592,   593,\n",
       "         594,   595,   596,   597,   598,   599,   600,   601,   602,\n",
       "         603,   604,   605,   606,   607,   608,   609,   610,   611,\n",
       "         612,   613,   614,   615,   616,   617,   618,   619,   620,\n",
       "         621,   622,   623,   624,   625,   626,   627,   628,   629,\n",
       "         630,   631,   632,   633,   634,   635,   636,   637,   638,\n",
       "         639,   640,   641,   642,   643,   644,   645,   646,   647,\n",
       "         648,   649,   650,   651,   652,   653,   654,   655,   656,\n",
       "         657,   658,   659,   660,   661,   662,   663,   664,   665,\n",
       "         666,   667,   668,   669,   670,   671,   672,   673,   674,\n",
       "         675,   676,   677,   678,   679,   680,   681,   682,   683,\n",
       "         684,   685,   686,   687,   688,   689,   690,   691,   692,\n",
       "         693,   694,   695,   696,   697,   698,   699,   700,   701,\n",
       "         702,   703,   704,   705,   706,   707,   708,   709,   710,\n",
       "         711,   712,   713,   714,   715,   716,   717,   718,   719,\n",
       "         720,   721,   722,   723,   724,   725,   726,   727,   728,\n",
       "         729,   730,   731,   732,   733,   734,   735,   736,   737,\n",
       "         738,   739,   740,   741,   742,   743,   744,   745,   746,\n",
       "         747,   748,   749,   750,   751,   752,   753,   754,   755,\n",
       "         756,   757,   758,   759,   760,   761,   762,   763,   764,\n",
       "         765,   766,   767,   768,   769,   770,   771,   772,   773,\n",
       "         774,   775,   776,   777,   778,   779,   780,   781,   782,\n",
       "         783,   784,   785,   786,   787,   788,   789,   790,   791,\n",
       "         792,   793,   794,   795,   796,   797,   798,   799,   800,\n",
       "         801,   802,   803,   804,   805,   806,   807,   808,   809,\n",
       "         810,   811,   812,   813,   814,   815,   816,   817,   818,\n",
       "         819,   820,   821,   822,   823,   824,   825,   826,   827,\n",
       "         828,   829,   830,   831,   832,   833,   834,   835,   836,\n",
       "         837,   838,   839,   840,   841,   842,   843,   844,   845,\n",
       "         846,   847,   848,   849,   850,   851,   852,   853,   854,\n",
       "         855,   856,   857,   858,   859,   860,   861,   862,   863,\n",
       "         864,   865,   866,   867,   868,   869,   870,   871,   872,\n",
       "         873,   874,   875,   876,   877,   878,   879,   880,   881,\n",
       "         882,   883,   884,   885,   886,   887,   888,   889,   890,\n",
       "         891,   892,   893,   894,   895,   896,   897,   898,   899,\n",
       "         900,   901,   902,   903,   904,   905,   906,   907,   908,\n",
       "         909,   910,   911,   912,   913,   914,   915,   916,   917,\n",
       "         918,   919,   920,   921,   922,   923,   924,   925,   926,\n",
       "         927,   928,   929,   930,   931,   932,   933,   934,   935,\n",
       "         936,   937,   938,   939,   940,   941,   942,   943,   944,\n",
       "         945,   946,   947,   948,   949,   950,   951,   952,   953,\n",
       "         954,   955,   956,   957,   958,   959,   960,   961,   962,\n",
       "         963,   964,   965,   966,   967,   968,   969,   970,   971,\n",
       "         972,   973,   974,   975,   976,   977,   978,   979,   980,\n",
       "         981,   982,   983,   984,   985,   986,   987,   988,   989,\n",
       "         990,   991,   992,   993,   994,   995,   996,   997,   998,\n",
       "         999,  1000,  1001,  1002,  1003,  1004,  1005,  1006,  1007,\n",
       "        1008,  1009,  1010,  1011,  1012,  1013,  1014,  1015,  1016,\n",
       "        1017,  1018,  1019,  1020,  1021,  1022,  1023,  1024,  1025,\n",
       "        1026,  1027,  1028,  1029,  1030,  1031,  1032,  1033,  1034,\n",
       "        1035,  1036,  1037,  1038,  1039,  1040,  1041,  1042,  1043,\n",
       "        1044,  1045,  1046,  1047,  1048,  1049,  1050,  1051,  1052,\n",
       "        1053,  1054,  1055,  1056,  1057,  1058,  1059,  1060,  1061,\n",
       "        1062,  1063,  1064,  1065,  1066,  1067,  1068,  1069,  1070,\n",
       "        1071,  1072,  1073,  1074,  1075,  1076,  1077,  1078,  1079,\n",
       "        1080,  1081,  1082,  1083,  1084,  1085,  1086,  1087,  1088,\n",
       "        1089,  1090,  1091,  1092,  1093,  1094,  1095,  1096,  1097,\n",
       "        1098,  1099,  1100,  1101,  1102,  1103,  1104,  1105,  1106,\n",
       "        1107,  1108,  1109,  1110,  1111,  1112,  1113,  1114,  1115,\n",
       "        1116,  1117,  1118,  1119,  1120,  1121,  1122,  1123,  1124,\n",
       "        1125,  1126,  1127,  1128,  1129,  1130,  1131,  1132,  1133,\n",
       "        1134,  1135,  1136,  1137,  1138,  1139,  1140,  1141,  1142,\n",
       "        1143,  1144,  1145,  1146,  1147,  1148,  1149,  1150,  1151,\n",
       "        1152,  1153,  1154,  1155,  1156,  1157,  1158,  1159,  1160,\n",
       "        1161,  1162,  1163,  1164,  1165,  1166,  1167,  1168,  1169,\n",
       "        1170,  1171,  1172,  1173,  1174,  1175,  1176,  1177,  1178,\n",
       "        1179,  1180,  1181,  1182,  1183,  1184,  1185,  1186,  1187,\n",
       "        1188,  1189,  1190,  1191,  1192,  1193,  1194,  1195,  1196,\n",
       "        1197,  1198,  1199,  1200,  1201,  1202,  1203,  1204,  1205,\n",
       "        1206,  1207,  1208,  1209,  1210,  1211,  1212,  1213,  1214,\n",
       "        1215,  1216,  1217,  1218,  1219,  1220,  1221,  1222,  1223,\n",
       "        1224,  1225,  1226,  1227,  1228,  1229,  1230,  1231,  1232,\n",
       "        1233,  1234,  1235,  1236,  1237,  1238,  1239,  1240,  1241,\n",
       "        1242,  1243,  1244,  1245,  1246,  1247,  1248,  1249,  1250,\n",
       "        1251,  1252,  1253,  1254,  1255,  1256,  1257,  1258,  1259,\n",
       "        1260,  1261,  1262,  1263,  1264,  1265,  1266,  1267,  1268,\n",
       "        1269,  1270,  1271,  1272,  1273,  1274,  1275,  1276,  1277,\n",
       "        1278,  1279,  1280,  1281,  1282,  1283,  1284,  1285,  1286,\n",
       "        1287,  1288,  1289,  1290,  1291,  1292,  1293,  1294,  1295,\n",
       "        1296,  1297,  1298,  1299,  1300,  1301,  1302,  1303,  1304,\n",
       "        1305,  1306,  1307,  1308,  1309,  1310,  1311,  1312,  1313,\n",
       "        1314,  1315,  1316,  1317,  1318,  1319,  1320,  1321,  1322,\n",
       "        1323,  1324,  1325,  1326,  1327,  1328,  1329,  1330,  1331,\n",
       "        1332,  1333,  1334,  1335,  1336,  1337,  1338,  1339,  1340,\n",
       "        1341,  1342,  1343,  1344,  1345,  1346,  1347,  1348,  1349,\n",
       "        1350,  1351,  1352,  1353,  1354,  1355,  1356,  1357,  1358,\n",
       "        1359,  1360,  1361,  1362,  1363,  1364,  1365,  1366,  1367,\n",
       "        1368,  1369,  1370,  1371,  1372,  1373,  1374,  1375,  1376,\n",
       "        1377,  1378,  1379,  1380,  1381,  1382,  1383,  1384,  1385,\n",
       "        1386,  1387,  1388,  1389,  1390,  1391,  1392,  1393,  1394,\n",
       "        1395,  1396,  1397,  1398,  1399,  1400,  1401,  1402,  1403,\n",
       "        1404,  1405,  1406,  1407,  1408,  1409,  1410,  1411,  1412,\n",
       "        1413,  1414,  1415,  1416,  1417,  1418,  1419,  1420,  1421,\n",
       "        1422,  1423,  1424,  1425,  1426,  1427,  1428,  1429,  1430,\n",
       "        1431,  1432,  1433,  1434,  1435,  1436,  1437,  1438,  1439,\n",
       "        1440,  1441,  1442,  1443,  1444,  1445,  1446,  1447,  1448,\n",
       "        1449,  1450,  1451,  1452,  1453,  1454,  1455,  1456,  1457,\n",
       "        1458,  1459,  1460,  1461,  1462,  1463,  1464,  1465,  1466,\n",
       "        1467,  1468,  1469,  1470,  1471,  1472,  1473,  1474,  1475,\n",
       "        1476,  1477,  1478,  1479,  1480,  1481,  1482,  1483,  1484,\n",
       "        1485,  1486,  1487,  1488,  1489,  1490,  1491,  1492,  1493,\n",
       "        1494,  1495,  1496,  1497,  1498,  1499,  1500,  1501,  1502,\n",
       "        1503,  1504,  1505,  1506,  1507,  1508,  1509,  1510,  1511,\n",
       "        1512,  1513,  1514,  1515,  1516,  1517,  1518,  1519,  1520,\n",
       "        1521,  1522,  1523,  1524,  1525,  1526,  1527,  1528,  1529,\n",
       "        1530,  1531,  1532,  1533,  1534,  1535,  1536,  1537,  1538,\n",
       "        1539,  1540,  1541,  1542,  1543,  1544,  1545,  1546,  1547,\n",
       "        1548,  1549,  1550,  1551,  1552,  1553,  1554,  1555,  1556,\n",
       "        1557,  1558,  1559,  1560,  1561,  1562,  1563,  1564,  1565,\n",
       "        1566,  1567,  1568,  1569,  1570,  1571,  1572,  1573,  1574,\n",
       "        1575,  1576,  1577,  1578,  1579,  1580,  1581,  1582,  1583,\n",
       "        1584,  1585,  1586,  1587,  1588,  1589,  1590,  1591,  1592,\n",
       "        1593,  1594,  1595,  1596,  1597,  1598,  1599,  1600,  1601,\n",
       "        1602,  1603,  1604,  1605,  1606,  1607,  1608,  1609,  1610,\n",
       "        1611,  1612,  1613,  1614,  1615,  1616,  1617,  1618,  1619,\n",
       "        1620,  1621,  1622,  1623,  1624,  1625,  1626,  1627,  1628,\n",
       "        1629,  1630,  1631,  1632,  1633,  1634,  1635,  1636,  1637,\n",
       "        1638,  1639,  1640,  1641,  1642,  1643,  1644,  1645,  1646,\n",
       "        1647,  1648,  1649,  1650,  1651,  1652,  1653,  1654,  1655,\n",
       "        1656,  1657,  1658,  1659,  1660,  1661,  1662,  1663,  1664,\n",
       "        1665,  1666,  1667,  1668,  1669,  1670,  1671,  1672,  1673,\n",
       "        1674,  1675,  1676,  1677,  1678,  1679,  1680,  1681,  1682,\n",
       "        1683,  1684,  1685,  1686,  1687,  1688,  1689,  1690,  1691,\n",
       "        1692,  1693,  1694,  1695,  1696,  1697,  1698,  1699,  1700,\n",
       "        1701,  1702,  1703,  1704,  1705,  1706,  1707,  1708,  1709,\n",
       "        1710,  1711,  1712,  1713,  1714,  1715,  1716,  1717,  1718,\n",
       "        1719,  1720,  1721,  1722,  1723,  1724,  1725,  1726,  1727,\n",
       "        1728,  1729,  1730,  1731,  1732,  1733,  1734,  1735,  1736,\n",
       "        1737,  1738,  1739,  1740,  1741,  1742,  1743,  1744,  1745,\n",
       "        1746,  1747,  1748,  1749,  1750,  1751,  1752,  1753,  1754,\n",
       "        1755,  1756,  1757,  1758,  1759,  1760,  1761,  1762,  1763,\n",
       "        1764,  1765,  1766,  1767,  1768,  1769,  1770,  1771,  1772,\n",
       "        1773,  1774,  1775,  1776,  1777,  1778,  1779,  1780,  1781,\n",
       "        1782,  1783,  1784,  1785,  1786,  1787,  1788,  1789,  1790,\n",
       "        1791,  1792,  1793,  1794,  1795,  1796,  1797,  1798,  1799,\n",
       "        1800,  1801,  1802,  1803,  1804,  1805,  1806,  1807,  1808,\n",
       "        1809,  1810,  1811,  1812,  1813,  1814,  1815,  1816,  1817,\n",
       "        1818,  1819,  1820,  1821,  1822,  1823,  1824,  1825,  1826,\n",
       "        1827,  1828,  1829,  1830,  1831,  1832,  1833,  1834,  1835,\n",
       "        1836,  1837,  1838,  1839,  1840,  1841,  1842,  1843,  1844,\n",
       "        1845,  1846,  1847,  1848,  1849,  1850,  1851,  1852,  1853,\n",
       "        1854,  1855,  1856,  1857,  1858,  1859,  1860,  1861,  1862,\n",
       "        1863,  1864,  1865,  1866,  1867,  1868,  1869,  1870,  1871,\n",
       "        1872,  1873,  1874,  1875,  1876,  1877,  1878,  1879,  1880,\n",
       "        1881,  1882,  1883,  1884,  1885,  1886,  1887,  1888,  1889,\n",
       "        1890,  1891,  1892,  1893,  1894,  1895,  1896,  1897,  1898,\n",
       "        1899,  1900,  1901,  1902,  1903,  1904,  1905,  1906,  1907,\n",
       "        1908,  1909,  1910,  1911,  1912,  1913,  1914,  1915,  1916,\n",
       "        1917,  1918,  1919,  1920,  1921,  1922,  1923,  1924,  1925,\n",
       "        1926,  1927,  1928,  1929,  1930,  1931,  1932,  1933,  1934,\n",
       "        1935,  1936,  1937,  1938,  1939,  1940,  1941,  1942,  1943,\n",
       "        1944,  1945,  1946,  1947,  1948,  1949,  1950,  1951,  1952,\n",
       "        1953,  1954,  1955,  1956,  1957,  1958,  1959,  1960,  1961,\n",
       "        1962,  1963,  1964,  1965,  1966,  1967,  1968,  1969,  1970,\n",
       "        1971,  1972,  1973,  1974,  1975,  1976,  1977,  1978,  1979,\n",
       "        1980,  1981,  1982,  1983,  1984,  1985,  1986,  1987,  1988,\n",
       "        1989,  1990,  1991,  1992,  1993,  1994,  1995,  1996,  1997,\n",
       "        1998,  1999,  2000,  2001,  2002,  2003,  2004,  2005,  2006,\n",
       "        2007,  2008,  2009,  2010,  2011,  2012,  2013,  2014,  2015,\n",
       "        2016,  2017,  2018,  2019,  2020,  2021,  2022,  2023,  2024,\n",
       "        2025,  2026,  2027,  2028,  2029,  2030,  2031,  2032,  2033,\n",
       "        2034,  2035,  2036,  2037,  2038,  2039,  2040,  2041,  2042,\n",
       "        2043,  2044,  2045,  2046,  2047,  2048,  2049,  2050,  2051,\n",
       "        2052,  2053,  2054,  2055,  2056,  2057,  2058,  2059,  2060,\n",
       "        2061,  2062,  2063,  2064,  2065,  2066,  2067,  2068,  2069,\n",
       "        2070,  2071,  2072,  2073,  2074,  2075,  2076,  2077,  2078,\n",
       "        2079,  2080,  2081,  2082,  2083,  2084,  2085,  2086,  2087,\n",
       "        2088,  2089,  2090,  2091,  2092,  2093,  2094,  2095,  2096,\n",
       "        2097,  2098,  2099,  2100,  2101,  2102,  2103,  2104,  2105,\n",
       "        2106,  2107,  2108,  2109,  2110,  2111,  2112,  2113,  2114,\n",
       "        2115,  2116,  2117,  2118,  2119,  2120,  2121,  2122,  2123,\n",
       "        2124,  2125,  2126,  2127,  2128,  2129,  2130,  2131,  2132,\n",
       "        2133,  2134,  2135,  2136,  2137,  2138,  2139,  2140,  2141,\n",
       "        2142,  2143,  2144,  2145,  2146,  2147,  2148,  2149,  2150,\n",
       "        2151,  2152,  2153,  2154,  2155,  2156,  2157,  2158,  2159,\n",
       "        2160,  2161,  2162,  2163,  2164,  2165,  2166,  2167,  2168,\n",
       "        2169,  2170,  2171,  2172,  2173,  2174,  2175,  2176,  2177,\n",
       "        2178,  2179,  2180,  2181,  2182,  2183,  2184,  2185,  2186,\n",
       "        2187,  2188,  2189,  2190,  2191,  2192,  2193,  2194,  2195,\n",
       "        2196,  2197,  2198,  2199,  2200,  2201,  2202,  2203,  2204,\n",
       "        2205,  2206,  2207,  2208,  2209,  2210,  2211,  2212,  2213,\n",
       "        2214,  2215,  2216,  2217,  2218,  2219,  2220,  2221,  2222,\n",
       "        2223,  2224,  2225,  2226,  2227,  2228,  2229,  2230,  2231,\n",
       "        2232,  2233,  2234,  2235,  2236,  2237,  2238,  2239,  2240,\n",
       "        2241,  2242,  2243,  2244,  2245,  2246,  2247,  2248,  2249,\n",
       "        2250,  2251,  2252,  2253,  2254,  2255,  2256,  2257,  2258,\n",
       "        2259,  2260,  2261,  2262,  2263,  2264,  2265,  2266,  2267,\n",
       "        2268,  2269,  2270,  2271,  2272,  2273,  2274,  2275,  2276,\n",
       "        2277,  2278,  2279,  2280,  2281,  2282,  2283,  2284,  2285,\n",
       "        2286,  2287,  2288,  2289,  2290,  2291,  2292,  2293,  2294,\n",
       "        2295,  2296,  2297,  2298,  2299,  2300,  2301,  2302,  2303,\n",
       "        2304,  2305,  2306,  2307,  2308,  2309,  2310,  2311,  2312,\n",
       "        2313,  2314,  2315,  2316,  2317,  2318,  2319,  2320,  2321,\n",
       "        2322,  2323,  2324,  2325,  2326,  2327,  2328,  2329,  2330,\n",
       "        2331,  2332,  2333,  2334,  2335,  2336,  2337,  2338,  2339,\n",
       "        2340,  2341,  2342,  2343,  2344,  2345,  2346,  2347,  2348,\n",
       "        2349,  2350,  2351,  2352,  2353,  2354,  2355,  2356,  2357,\n",
       "        2358,  2359,  2360,  2361,  2362,  2363,  2364,  2365,  2366,\n",
       "        2367,  2368,  2369,  2370,  2371,  2372,  2373,  2374,  2375,\n",
       "        2376,  2377,  2378,  2379,  2380,  2381,  2382,  2383,  2384,\n",
       "        2385,  2386,  2387,  2388,  2389,  2390,  2391,  2392,  2393,\n",
       "        2394,  2395,  2396,  2397,  2398,  2399,  2400,  2401,  2402,\n",
       "        2403,  2404,  2405,  2406,  2407,  2408,  2409,  2410,  2411,\n",
       "        2412,  2413,  2414,  2415,  2416,  2417,  2418,  2419,  2420,\n",
       "        2421,  2422,  2423,  2424,  2425,  2426,  2427,  2428,  2429,\n",
       "        2430,  2431,  2432,  2433,  2434,  2435,  2436,  2437,  2438,\n",
       "        2439,  2440,  2441,  2442,  2443,  2444,  2445,  2446,  2447,\n",
       "        2448,  2449,  2450,  2451,  2452,  2453,  2454,  2455,  2456,\n",
       "        2457,  2458,  2459,  2460,  2461,  2462,  2463,  2464,  2465,\n",
       "        2466,  2467,  2468,  2469,  2470,  2471,  2472,  2473,  2474,\n",
       "        2475,  2476,  2477,  2478,  2479,  2480,  2481,  2482,  2483,\n",
       "        2484,  2485,  2486,  2487,  2488,  2489,  2490,  2491,  2492,\n",
       "        2493,  2494,  2495,  2496,  2497,  2498,  2499,  2500,  2501,\n",
       "        2502,  2503,  2504,  2505,  2506,  2507,  2508,  2509,  2510,\n",
       "        2511,  2512,  2513,  2514,  2515,  2516,  2517,  2518,  2519,\n",
       "        2520,  2521,  2522,  2523,  2524,  2525,  2526,  2527,  2528,\n",
       "        2529,  2530,  2531,  2532,  2533,  2534,  2535,  2536,  2537,\n",
       "        2538,  2539,  2540,  2541,  2542,  2543,  2544,  2545,  2546,\n",
       "        2547,  2548,  2549,  2550,  2551,  2552,  2553,  2554,  2555,\n",
       "        2556,  2557,  2558,  2559,  2560,  2561,  2562,  2563,  2564,\n",
       "        2565,  2566,  2567,  2568,  2569,  2570,  2571,  2572,  2573,\n",
       "        2574,  2575,  2576,  2577,  2578,  2579,  2580,  2581,  2582,\n",
       "        2583,  2584,  2585,  2586,  2587,  2588,  2589,  2590,  2591,\n",
       "        2592,  2593,  2594,  2595,  2596,  2597,  2598,  2599,  2600,\n",
       "        2601,  2602,  2603,  2604,  2605,  2606,  2607,  2608,  2609,\n",
       "        2610,  2611,  2612,  2613,  2614,  2615,  2616,  2617,  2618,\n",
       "        2619,  2620,  2621,  2622,  2623,  2624,  2625,  2626,  2627,\n",
       "        2628,  2629,  2630,  2631,  2632,  2633,  2634,  2635,  2636,\n",
       "        2637,  2638,  2639,  2640,  2641,  2642,  2643,  2644,  2645,\n",
       "        2646,  2647,  2648,  2649,  2650,  2651,  2652,  2653,  2654,\n",
       "        2655,  2656,  2657,  2658,  2659,  2660,  2661,  2662,  2663,\n",
       "        2664,  2665,  2666,  2667,  2668,  2669,  2670,  2671,  2672,\n",
       "        2673,  2674,  2675,  2676,  2677,  2678,  2679,  2680,  2681,\n",
       "        2682,  2683,  2684,  2685,  2686,  2687,  2688,  2689,  2690,\n",
       "        2691,  2692,  2693,  2694,  2695,  2696,  2697,  2698,  2699,\n",
       "        2700,  2701,  2702,  2703,  2704,  2705,  2706,  2707,  2708,\n",
       "        2709,  2710,  2711,  2712,  2713,  2714,  2715,  2716,  2717,\n",
       "        2718,  2719,  2720,  2721,  2722,  2723,  2724,  2725,  2726,\n",
       "        2727,  2728,  2729,  2730,  2731,  2732,  2733,  2734,  2735,\n",
       "        2736,  2737,  2738,  2739,  2740,  2741,  2742,  2743,  2744,\n",
       "        2745,  2746,  2747,  2748,  2749,  2750,  2751,  2752,  2753,\n",
       "        2754,  2755,  2756,  2757,  2758,  2759,  2760,  2761,  2762,\n",
       "        2763,  2764,  2765,  2766,  2767,  2768,  2769,  2770,  2771,\n",
       "        2772,  2773,  2774,  2775,  2776,  2777,  2778,  2779,  2780,\n",
       "        2781,  2782,  2783,  2784,  2785,  2786,  2787,  2788,  2789,\n",
       "        2790,  2791,  2792,  2793,  2794,  2795,  2796,  2797,  2798,\n",
       "        2799,  2800,  2801,  2802,  2803,  2804,  2805,  2806,  2807,\n",
       "        2808,  2809,  2810,  2811,  2812,  2813,  2814,  2815,  2816,\n",
       "        2817,  2818,  2819,  2820,  2821,  2822,  2823,  2824,  2825,\n",
       "        2826,  2827,  2828,  2829,  2830,  2831,  2832,  2833,  2834,\n",
       "        2835,  2836,  2837,  2838,  2839,  2840,  2841,  2842,  2843,\n",
       "        2844,  2845,  2846,  2847,  2848,  2849,  2850,  2851,  2852,\n",
       "        2853,  2854,  2855,  2856,  2857,  2858,  2859,  2860,  2861,\n",
       "        2862,  2863,  2864,  2865,  2866,  2867,  2868,  2869,  2870,\n",
       "        2871,  2872,  2873,  2874,  2875,  2876,  2877,  2878,  2879,\n",
       "        2880,  2881,  2882,  2883,  2884,  2885,  2886,  2887,  2888,\n",
       "        2889,  2890,  2891,  2892,  2893,  2894,  2895,  2896,  2897,\n",
       "        2898,  2899,  2900,  2901,  2902,  2903,  2904,  2905,  2906,\n",
       "        2907,  2908,  2909,  2910,  2911,  2912,  2913,  2914,  2915,\n",
       "        2916,  2917,  2918,  2919,  2920,  2921,  2922,  2923,  2924,\n",
       "        2925,  2926,  2927,  2928,  2929,  2930,  2931,  2932,  2933,\n",
       "        2934,  2935,  2936,  2937,  2938,  2939,  2940,  2941,  2942,\n",
       "        2943,  2944,  2945,  2946,  2947,  2948,  2949,  2950,  2951,\n",
       "        2952,  2953,  2954,  2955,  2956,  2957,  2958,  2959,  2960,\n",
       "        2961,  2962,  2963,  2964,  2965,  2966,  2967,  2968,  2969,\n",
       "        2970,  2971,  2972,  2973,  2974,  2975,  2976,  2977,  2978,\n",
       "        2979,  2980,  2981,  2982,  2983,  2984,  2985,  2986,  2987,\n",
       "        2988,  2989,  2990,  2991,  2992,  2993,  2994,  2995,  2996,\n",
       "        2997,  2998,  2999,  3000,  3001,  3002,  3003,  3004,  3005,\n",
       "        3006,  3007,  3008,  3009,  3010,  3011,  3012,  3013,  3014,\n",
       "        3015,  3016,  3017,  3018,  3019,  3020,  3021,  3022,  3023,\n",
       "        3024,  3025,  3026,  3027,  3028,  3029,  3030,  3031,  3032,\n",
       "        3033,  3034,  3035,  3036,  3037,  3038,  3039,  3040,  3041,\n",
       "        3042,  3043,  3044,  3045,  3046,  3047,  3048,  3049,  3050,\n",
       "        3051,  3052,  3053,  3054,  3055,  3056,  3057,  3058,  3059,\n",
       "        3060,  3061,  3062,  3063,  3064,  3065,  3066,  3067,  3068,\n",
       "        3069,  3070,  3071,  3072,  3073,  3074,  3075,  3076,  3077,\n",
       "        3078,  3079,  3080,  3081,  3082,  3083,  3084,  3085,  3086,\n",
       "        3087,  3088,  3089,  3090,  3091,  3092,  3093,  3094,  3095,\n",
       "        3096,  3097,  3098,  3099,  3100,  3101,  3102,  3103,  3104,\n",
       "        3105,  3106,  3107,  3108,  3109,  3110,  3111,  3112,  3113,\n",
       "        3114,  3115,  3116,  3117,  3118,  3119,  3120,  3121,  3122,\n",
       "        3123,  3124,  3125,  3126,  3127,  3128,  3129,  3130,  3131,\n",
       "        3132,  3133,  3134,  3135,  3136,  3137,  3138,  3139,  3140,\n",
       "        3141,  3142,  3143,  3144,  3145,  3146,  3147,  3148,  3149,\n",
       "        3150,  3151,  3152,  3153,  3154,  3155,  3156,  3157,  3158,\n",
       "        3159,  3160,  3161,  3162,  3163,  3164,  3165,  3166,  3167,\n",
       "        3168,  3169,  3170,  3171,  3172,  3173,  3174,  3175,  3176,\n",
       "        3177,  3178,  3179,  3180,  3181,  3182,  3183,  3184,  3185,\n",
       "        3186,  3187,  3188,  3189,  3190,  3191,  3192,  3193,  3194,\n",
       "        3195,  3196,  3197,  3198,  3199,  3200,  3201,  3202,  3203,\n",
       "        3204,  3205,  3206,  3207,  3208,  3209,  3210,  3211,  3212,\n",
       "        3213,  3214,  3215,  3216,  3217,  3218,  3219,  3220,  3221,\n",
       "        3222,  3223,  3224,  3225,  3226,  3227,  3228,  3229,  3230,\n",
       "        3231,  3232,  3233,  3234,  3235,  3236,  3237,  3238,  3239,\n",
       "        3240,  3241,  3242,  3243,  3244,  3245,  3246,  3247,  3248,\n",
       "        3249,  3250,  3251,  3252,  3253,  3254,  3255,  3256,  3257,\n",
       "        3258,  3259,  3260,  3261,  3262,  3263,  3264,  3265,  3266,\n",
       "        3267,  3268,  3269,  3270,  3271,  3272,  3273,  3274,  3275,\n",
       "        3276,  3277,  3278,  3279,  3280,  3281,  3282,  3283,  3284,\n",
       "        3285,  3286,  3287,  3288,  3289,  3290,  3291,  3292,  3293,\n",
       "        3294,  3295,  3296,  3297,  3298,  3299,  3300,  3301,  3302,\n",
       "        3303,  3304,  3305,  3306,  3307,  3308,  3309,  3310,  3311,\n",
       "        3312,  3313,  3314,  3315,  3316,  3317,  3318,  3319,  3320,\n",
       "        3321,  3322,  3323,  3324,  3325,  3326,  3327,  3328,  3329,\n",
       "        3330,  3331,  3332,  3333,  3334,  3335,  3336,  3337,  3338,\n",
       "        3339,  3340,  3341,  3342,  3343,  3344,  3345,  3346,  3347,\n",
       "        3348,  3349,  3350,  3351,  3352,  3353,  3354,  3355,  3356,\n",
       "        3357,  3358,  3359,  3360,  3361,  3362,  3363,  3364,  3365,\n",
       "        3366,  3367,  3368,  3369,  3370,  3371,  3372,  3373,  3374,\n",
       "        3375,  3376,  3377,  3378,  3379,  3380,  3381,  3382,  3383,\n",
       "        3384,  3385,  3386,  3387,  3388,  3389,  3390,  3391,  3392,\n",
       "        3393,  3394,  3395,  3396,  3397,  3398,  3399,  3400,  3401,\n",
       "        3402,  3403,  3404,  3405,  3406,  3407,  3408,  3409,  3410,\n",
       "        3411,  3412,  3413,  3414,  3415,  3416,  3417,  3418,  3419,\n",
       "        3420,  3421,  3422,  3423,  3424,  3425,  3426,  3427,  3428,\n",
       "        3429,  3430,  3431,  3432,  3433,  3434,  3435,  3436,  3437,\n",
       "        3438,  3439,  3440,  3441,  3442,  3443,  3444,  3445,  3446,\n",
       "        3447,  3448,  3449,  3450,  3451,  3452,  3453,  3454,  3455,\n",
       "        3456,  3457,  3458,  3459,  3460,  3461,  3462,  3463,  3464,\n",
       "        3465,  3466,  3467,  3468,  3469,  3470,  3471,  3472,  3473,\n",
       "        3474,  3475,  3476,  3477,  3478,  3479,  3480,  3481,  3482,\n",
       "        3483,  3484,  3485,  3486,  3487,  3488,  3489,  3490,  3491,\n",
       "        3492,  3493,  3494,  3495,  3496,  3497,  3498,  3499,  3500,\n",
       "        3501,  3502,  3503,  3504,  3505,  3506,  3507,  3508,  3509,\n",
       "        3510,  3511,  3512,  3513,  3514,  3515,  3516,  3517,  3518,\n",
       "        3519,  3520,  3521,  3522,  3523,  3524,  3525,  3526,  3527,\n",
       "        3528,  3529,  3530,  3531,  3532,  3533,  3534,  3535,  3536,\n",
       "        3537,  3538,  3539,  3540,  3541,  3542,  3543,  3544,  3545,\n",
       "        3546,  3547,  3548,  3549,  3550,  3551,  3552,  3553,  3554,\n",
       "        3555,  3556,  3557,  3558,  3559,  3560,  3561,  3562,  3563,\n",
       "        3564,  3565,  3566,  3567,  3568,  3569,  3570,  3571,  3572,\n",
       "        3573,  3574,  3575,  3576,  3577,  3578,  3579,  3580,  3581,\n",
       "        3582,  3583,  3584,  3585,  3586,  3587,  3588,  3589,  3590,\n",
       "        3591,  3592,  3593,  3594,  3595,  3596,  3597,  3598,  3599,\n",
       "        3600,  3601,  3602,  3603,  3604,  3605,  3606,  3607,  3608,\n",
       "        3609,  3610,  3611,  3612,  3613,  3614,  3615,  3616,  3617,\n",
       "        3618,  3619,  3620,  3621,  3622,  3623,  3624,  3625,  3626,\n",
       "        3627,  3628,  3629,  3630,  3631,  3632,  3633,  3634,  3635,\n",
       "        3636,  3637,  3638,  3639,  3640,  3641,  3642,  3643,  3644,\n",
       "        3645,  3646,  3647,  3648,  3649,  3650,  3651,  3652,  3653,\n",
       "        3654,  3655,  3656,  3657,  3658,  3659,  3660,  3661,  3662,\n",
       "        3663,  3664,  3665,  3666,  3667,  3668,  3669,  3670,  3671,\n",
       "        3672,  3673,  3674,  3675,  3676,  3677,  3678,  3679,  3680,\n",
       "        3681,  3682,  3683,  3684,  3685,  3686,  3687,  3688,  3689,\n",
       "        3690,  3691,  3692,  3693,  3694,  3695,  3696,  3697,  3698,\n",
       "        3699,  3700,  3701,  3702,  3703,  3704,  3705,  3706,  3707,\n",
       "        3708,  3709,  3710,  3711,  3712,  3713,  3714,  3715,  3716,\n",
       "        3717,  3718,  3719,  3720,  3721,  3722,  3723,  3724,  3725,\n",
       "        3726,  3727,  3728,  3729,  3730,  3731,  3732,  3733,  3734,\n",
       "        3735,  3736,  3737,  3738,  3739,  3740,  3741,  3742,  3743,\n",
       "        3744,  3745,  3746,  3747,  3748,  3749,  3750,  3751,  3752,\n",
       "        3753,  3754,  3755,  3756,  3757,  3758,  3759,  3760,  3761,\n",
       "        3762,  3763,  3764,  3765,  3766,  3767,  3768,  3769,  3770,\n",
       "        3771,  3772,  3773,  3774,  3775,  3776,  3777,  3778,  3779,\n",
       "        3780,  3781,  3782,  3783,  3784,  3785,  3786,  3787,  3788,\n",
       "        3789,  3790,  3791,  3792,  3793,  3794,  3795,  3796,  3797,\n",
       "        3798,  3799,  3800,  3801,  3802,  3803,  3804,  3805,  3806,\n",
       "        3807,  3808,  3809,  3810,  3811,  3812,  3813,  3814,  3815,\n",
       "        3816,  3817,  3818,  3819,  3820,  3821,  3822,  3823,  3824,\n",
       "        3825,  3826,  3827,  3828,  3829,  3830,  3831,  3832,  3833,\n",
       "        3834,  3835,  3836,  3837,  3838,  3839,  3840,  3841,  3842,\n",
       "        3843,  3844,  3845,  3846,  3847,  3848,  3849,  3850,  3851,\n",
       "        3852,  3853,  3854,  3855,  3856,  3857,  3858,  3859,  3860,\n",
       "        3861,  3862,  3863,  3864,  3865,  3866,  3867,  3868,  3869,\n",
       "        3870,  3871,  3872,  3873,  3874,  3875,  3876,  3877,  3878,\n",
       "        3879,  3880,  3881,  3882,  3883,  3884,  3885,  3886,  3887,\n",
       "        3888,  3889,  3890,  3891,  3892,  3893,  3894,  3895,  3896,\n",
       "        3897,  3898,  3899,  3900,  3901,  3902,  3903,  3904,  3905,\n",
       "        3906,  3907,  3908,  3909,  3910,  3911,  3912,  3913,  3914,\n",
       "        3915,  3916,  3917,  3918,  3919,  3920,  3921,  3922,  3923,\n",
       "        3924,  3925,  3926,  3927,  3928,  3929,  3930,  3931,  3932,\n",
       "        3933,  3934,  3935,  3936,  3937,  3938,  3939,  3940,  3941,\n",
       "        3942,  3943,  3944,  3945,  3946,  3947,  3948,  3949,  3950,\n",
       "        3951,  3952,  3953,  3954,  3955,  3956,  3957,  3958,  3959,\n",
       "        3960,  3961,  3962,  3963,  3964,  3965,  3966,  3967,  3968,\n",
       "        3969,  3970,  3971,  3972,  3973,  3974,  3975,  3976,  3977,\n",
       "        3978,  3979,  3980,  3981,  3982,  3983,  3984,  3985,  3986,\n",
       "        3987,  3988,  3989,  3990,  3991,  3992,  3993,  3994,  3995,\n",
       "        3996,  3997,  3998,  3999,  4000,  4001,  4002,  4003,  4004,\n",
       "        4005,  4006,  4007,  4008,  4009,  4010,  4011,  4012,  4013,\n",
       "        4014,  4015,  4016,  4017,  4018,  4019,  4020,  4021,  4022,\n",
       "        4023,  4024,  4025,  4026,  4027,  4028,  4029,  4030,  4031,\n",
       "        4032,  4033,  4034,  4035,  4036,  4037,  4038,  4039,  4040,\n",
       "        4041,  4042,  4043,  4044,  4045,  4046,  4047,  4048,  4049,\n",
       "        4050,  4051,  4052,  4053,  4054,  4055,  4056,  4057,  4058,\n",
       "        4059,  4060,  4061,  4062,  4063,  4064,  4065,  4066,  4067,\n",
       "        4068,  4069,  4070,  4071,  4072,  4073,  4074,  4075,  4076,\n",
       "        4077,  4078,  4079,  4080,  4081,  4082,  4083,  4084,  4085,\n",
       "        4086,  4087,  4088,  4089,  4090,  4091,  4092,  4093,  4094,\n",
       "        4095,  4096,  4097,  4098,  4099,  4100,  4101,  4102,  4103,\n",
       "        4104,  4105,  4106,  4107,  4108,  4109,  4110,  4111,  4112,\n",
       "        4113,  4114,  4115,  4116,  4117,  4118,  4119,  4120,  4121,\n",
       "        4122,  4123,  4124,  4125,  4126,  4127,  4128,  4129,  4130,\n",
       "        4131,  4132,  4133,  4134,  4135,  4136,  4137,  4138,  4139,\n",
       "        4140,  4141,  4142,  4143,  4144,  4145,  4146,  4147,  4148,\n",
       "        4149,  4150,  4151,  4152,  4153,  4154,  4155,  4156,  4157,\n",
       "        4158,  4159,  4160,  4161,  4162,  4163,  4164,  4165,  4166,\n",
       "        4167,  4168,  4169,  4170,  4171,  4172,  4173,  4174,  4175,\n",
       "        4176,  4177,  4178,  4179,  4180,  4181,  4182,  4183,  4184,\n",
       "        4185,  4186,  4187,  4188,  4189,  4190,  4191,  4192,  4193,\n",
       "        4194,  4195,  4196,  4197,  4198,  4199,  4200,  4201,  4202,\n",
       "        4203,  4204,  4205,  4206,  4207,  4208,  4209,  4210,  4211,\n",
       "        4212,  4213,  4214,  4215,  4216,  4217,  4218,  4219,  4220,\n",
       "        4221,  4222,  4223,  4224,  4225,  4226,  4227,  4228,  4229,\n",
       "        4230,  4231,  4232,  4233,  4234,  4235,  4236,  4237,  4238,\n",
       "        4239,  4240,  4241,  4242,  4243,  4244,  4245,  4246,  4247,\n",
       "        4248,  4249,  4250,  4251,  4252,  4253,  4254,  4255,  4256,\n",
       "        4257,  4258,  4259,  4260,  4261,  4262,  4263,  4264,  4265,\n",
       "        4266,  4267,  4268,  4269,  4270,  4271,  4272,  4273,  4274,\n",
       "        4275,  4276,  4277,  4278,  4279,  4280,  4281,  4282,  4283,\n",
       "        4284,  4285,  4286,  4287,  4288,  4289,  4290,  4291,  4292,\n",
       "        4293,  4294,  4295,  4296,  4297,  4298,  4299,  4300,  4301,\n",
       "        4302,  4303,  4304,  4305,  4306,  4307,  4308,  4309,  4310,\n",
       "        4311,  4312,  4313,  4314,  4315,  4316,  4317,  4318,  4319,\n",
       "        4320,  4321,  4322,  4323,  4324,  4325,  4326,  4327,  4328,\n",
       "        4329,  4330,  4331,  4332,  4333,  4334,  4335,  4336,  4337,\n",
       "        4338,  4339,  4340,  4341,  4342,  4343,  4344,  4345,  4346,\n",
       "        4347,  4348,  4349,  4350,  4351,  4352,  4353,  4354,  4355,\n",
       "        4356,  4357,  4358,  4359,  4360,  4361,  4362,  4363,  4364,\n",
       "        4365,  4366,  4367,  4368,  4369,  4370,  4371,  4372,  4373,\n",
       "        4374,  4375,  4376,  4377,  4378,  4379,  4380,  4381,  4382,\n",
       "        4383,  4384,  4385,  4386,  4387,  4388,  4389,  4390,  4391,\n",
       "        4392,  4393,  4394,  4395,  4396,  4397,  4398,  4399,  4400,\n",
       "        4401,  4402,  4403,  4404,  4405,  4406,  4407,  4408,  4409,\n",
       "        4410,  4411,  4412,  4413,  4414,  4415,  4416,  4417,  4418,\n",
       "        4419,  4420,  4421,  4422,  4423,  4424,  4425,  4426,  4427,\n",
       "        4428,  4429,  4430,  4431,  4432,  4433,  4434,  4435,  4436,\n",
       "        4437,  4438,  4439,  4440,  4441,  4442,  4443,  4444,  4445,\n",
       "        4446,  4447,  4448,  4449,  4450,  4451,  4452,  4453,  4454,\n",
       "        4455,  4456,  4457,  4458,  4459,  4460,  4461,  4462,  4463,\n",
       "        4464,  4465,  4466,  4467,  4468,  4469,  4470,  4471,  4472,\n",
       "        4473,  4474,  4475,  4476,  4477,  4478,  4479,  4480,  4481,\n",
       "        4482,  4483,  4484,  4485,  4486,  4487,  4488,  4489,  4490,\n",
       "        4491,  4492,  4493,  4494,  4495,  4496,  4497,  4498,  4499,\n",
       "        4500,  4501,  4502,  4503,  4504,  4505,  4506,  4507,  4508,\n",
       "        4509,  4510,  4511,  4512,  4513,  4514,  4515,  4516,  4517,\n",
       "        4518,  4519,  4520,  4521,  4522,  4523,  4524,  4525,  4526,\n",
       "        4527,  4528,  4529,  4530,  4531,  4532,  4533,  4534,  4535,\n",
       "        4536,  4537,  4538,  4539,  4540,  4541,  4542,  4543,  4544,\n",
       "        4545,  4546,  4547,  4548,  4549,  4550,  4551,  4552,  4553,\n",
       "        4554,  4555,  4556,  4557,  4558,  4559,  4560,  4561,  4562,\n",
       "        4563,  4564,  4565,  4566,  4567,  4568,  4569,  4570,  4571,\n",
       "        4572,  4573,  4574,  4575,  4576,  4577,  4578,  4579,  4580,\n",
       "        4581,  4582,  4583,  4584,  4585,  4586,  4587,  4588,  4589,\n",
       "        4590,  4591,  4592,  4593,  4594,  4595,  4596,  4597,  4598,\n",
       "        4599,  4600,  4601,  4602,  4603,  4604,  4605,  4606,  4607,\n",
       "        4608,  4609,  4610,  4611,  4612,  4613,  4614,  4615,  4616,\n",
       "        4617,  4618,  4619,  4620,  4621,  4622,  4623,  4624,  4625,\n",
       "        4626,  4627,  4628,  4629,  4630,  4631,  4632,  4633,  4634,\n",
       "        4635,  4636,  4637,  4638,  4639,  4640,  4641,  4642,  4643,\n",
       "        4644,  4645,  4646,  4647,  4648,  4649,  4650,  4651,  4652,\n",
       "        4653,  4654,  4655,  4656,  4657,  4658,  4659,  4660,  4661,\n",
       "        4662,  4663,  4664,  4665,  4666,  4667,  4668,  4669,  4670,\n",
       "        4671,  4672,  4673,  4674,  4675,  4676,  4677,  4678,  4679,\n",
       "        4680,  4681,  4682,  4683,  4684,  4685,  4686,  4687,  4688,\n",
       "        4689,  4690,  4691,  4692,  4693,  4694,  4695,  4696,  4697,\n",
       "        4698,  4699,  4700,  4701,  4702,  4703,  4704,  4705,  4706,\n",
       "        4707,  4708,  4709,  4710,  4711,  4712,  4713,  4714,  4715,\n",
       "        4716,  4717,  4718,  4719,  4720,  4721,  4722,  4723,  4724,\n",
       "        4725,  4726,  4727,  4728,  4729,  4730,  4731,  4732,  4733,\n",
       "        4734,  4735,  4736,  4737,  4738,  4739,  4740,  4741,  4742,\n",
       "        4743,  4744,  4745,  4746,  4747,  4748,  4749,  4750,  4751,\n",
       "        4752,  4753,  4754,  4755,  4756,  4757,  4758,  4759,  4760,\n",
       "        4761,  4762,  4763,  4764,  4765,  4766,  4767,  4768,  4769,\n",
       "        4770,  4771,  4772,  4773,  4774,  4775,  4776,  4777,  4778,\n",
       "        4779,  4780,  4781,  4782,  4783,  4784,  4785,  4786,  4787,\n",
       "        4788,  4789,  4790,  4791,  4792,  4793,  4794,  4795,  4796,\n",
       "        4797,  4798,  4799,  4800,  4801,  4802,  4803,  4804,  4805,\n",
       "        4806,  4807,  4808,  4809,  4810,  4811,  4812,  4813,  4814,\n",
       "        4815,  4816,  4817,  4818,  4819,  4820,  4821,  4822,  4823,\n",
       "        4824,  4825,  4826,  4827,  4828,  4829,  4830,  4831,  4832,\n",
       "        4833,  4834,  4835,  4836,  4837,  4838,  4839,  4840,  4841,\n",
       "        4842,  4843,  4844,  4845,  4846,  4847,  4848,  4849,  4850,\n",
       "        4851,  4852,  4853,  4854,  4855,  4856,  4857,  4858,  4859,\n",
       "        4860,  4861,  4862,  4863,  4864,  4865,  4866,  4867,  4868,\n",
       "        4869,  4870,  4871,  4872,  4873,  4874,  4875,  4876,  4877,\n",
       "        4878,  4879,  4880,  4881,  4882,  4883,  4884,  4885,  4886,\n",
       "        4887,  4888,  4889,  4890,  4891,  4892,  4893,  4894,  4895,\n",
       "        4896,  4897,  4898,  4899,  4900,  4901,  4902,  4903,  4904,\n",
       "        4905,  4906,  4907,  4908,  4909,  4910,  4911,  4912,  4913,\n",
       "        4914,  4915,  4916,  4917,  4918,  4919,  4920,  4921,  4922,\n",
       "        4923,  4924,  4925,  4926,  4927,  4928,  4929,  4930,  4931,\n",
       "        4932,  4933,  4934,  4935,  4936,  4937,  4938,  4939,  4940,\n",
       "        4941,  4942,  4943,  4944,  4945,  4946,  4947,  4948,  4949,\n",
       "        4950,  4951,  4952,  4953,  4954,  4955,  4956,  4957,  4958,\n",
       "        4959,  4960,  4961,  4962,  4963,  4964,  4965,  4966,  4967,\n",
       "        4968,  4969,  4970,  4971,  4972,  4973,  4974,  4975,  4976,\n",
       "        4977,  4978,  4979,  4980,  4981,  4982,  4983,  4984,  4985,\n",
       "        4986,  4987,  4988,  4989,  4990,  4991,  4992,  4993,  4994,\n",
       "        4995,  4996,  4997,  4998,  4999,  5000,  5001,  5002,  5003,\n",
       "        5004,  5005,  5006,  5007,  5008,  5009,  5010,  5011,  5012,\n",
       "        5013,  5014,  5015,  5016,  5017,  5018,  5019,  5020,  5021,\n",
       "        5022,  5023,  5024,  5025,  5026,  5027,  5028,  5029,  5030,\n",
       "        5031,  5032,  5033,  5034,  5035,  5036,  5037,  5038,  5039,\n",
       "        5040,  5041,  5042,  5043,  5044,  5045,  5046,  5047,  5048,\n",
       "        5049,  5050,  5051,  5052,  5053,  5054,  5055,  5056,  5057,\n",
       "        5058,  5059,  5060,  5061,  5062,  5063,  5064,  5065,  5066,\n",
       "        5067,  5068,  5069,  5070,  5071,  5072,  5073,  5074,  5075,\n",
       "        5076,  5077,  5078,  5079,  5080,  5081,  5082,  5083,  5084,\n",
       "        5085,  5086,  5087,  5088,  5089,  5090,  5091,  5092,  5093,\n",
       "        5094,  5095,  5096,  5097,  5098,  5099,  5100,  5101,  5102,\n",
       "        5103,  5104,  5105,  5106,  5107,  5108,  5109,  5110,  5111,\n",
       "        5112,  5113,  5114,  5115,  5116,  5117,  5118,  5119,  5120,\n",
       "        5121,  5122,  5123,  5124,  5125,  5126,  5127,  5128,  5129,\n",
       "        5130,  5131,  5132,  5133,  5134,  5135,  5136,  5137,  5138,\n",
       "        5139,  5140,  5141,  5142,  5143,  5144,  5145,  5146,  5147,\n",
       "        5148,  5149,  5150,  5151,  5152,  5153,  5154,  5155,  5156,\n",
       "        5157,  5158,  5159,  5160,  5161,  5162,  5163,  5164,  5165,\n",
       "        5166,  5167,  5168,  5169,  5170,  5171,  5172,  5173,  5174,\n",
       "        5175,  5176,  5177,  5178,  5179,  5180,  5181,  5182,  5183,\n",
       "        5184,  5185,  5186,  5187,  5188,  5189,  5190,  5191,  5192,\n",
       "        5193,  5194,  5195,  5196,  5197,  5198,  5199,  5200,  5201,\n",
       "        5202,  5203,  5204,  5205,  5206,  5207,  5208,  5209,  5210,\n",
       "        5211,  5212,  5213,  5214,  5215,  5216,  5217,  5218,  5219,\n",
       "        5220,  5221,  5222,  5223,  5224,  5225,  5226,  5227,  5228,\n",
       "        5229,  5230,  5231,  5232,  5233,  5234,  5235,  5236,  5237,\n",
       "        5238,  5239,  5240,  5241,  5242,  5243,  5244,  5245,  5246,\n",
       "        5247,  5248,  5249,  5250,  5251,  5252,  5253,  5254,  5255,\n",
       "        5256,  5257,  5258,  5259,  5260,  5261,  5262,  5263,  5264,\n",
       "        5265,  5266,  5267,  5268,  5269,  5270,  5271,  5272,  5273,\n",
       "        5274,  5275,  5276,  5277,  5278,  5279,  5280,  5281,  5282,\n",
       "        5283,  5284,  5285,  5286,  5287,  5288,  5289,  5290,  5291,\n",
       "        5292,  5293,  5294,  5295,  5296,  5297,  5298,  5299,  5300,\n",
       "        5301,  5302,  5303,  5304,  5305,  5306,  5307,  5308,  5309,\n",
       "        5310,  5311,  5312,  5313,  5314,  5315,  5316,  5317,  5318,\n",
       "        5319,  5320,  5321,  5322,  5323,  5324,  5325,  5326,  5327,\n",
       "        5328,  5329,  5330,  5331,  5332,  5333,  5334,  5335,  5336,\n",
       "        5337,  5338,  5339,  5340,  5341,  5342,  5343,  5344,  5345,\n",
       "        5346,  5347,  5348,  5349,  5350,  5351,  5352,  5353,  5354,\n",
       "        5355,  5356,  5357,  5358,  5359,  5360,  5361,  5362,  5363,\n",
       "        5364,  5365,  5366,  5367,  5368,  5369,  5370,  5371,  5372,\n",
       "        5373,  5374,  5375,  5376,  5377,  5378,  5379,  5380,  5381,\n",
       "        5382,  5383,  5384,  5385,  5386,  5387,  5388,  5389,  5390,\n",
       "        5391,  5392,  5393,  5394,  5395,  5396,  5397,  5398,  5399,\n",
       "        5400,  5401,  5402,  5403,  5404,  5405,  5406,  5407,  5408,\n",
       "        5409,  5410,  5411,  5412,  5413,  5414,  5415,  5416,  5417,\n",
       "        5418,  5419,  5420,  5421,  5422,  5423,  5424,  5425,  5426,\n",
       "        5427,  5428,  5429,  5430,  5431,  5432,  5433,  5434,  5435,\n",
       "        5436,  5437,  5438,  5439,  5440,  5441,  5442,  5443,  5444,\n",
       "        5445,  5446,  5447,  5448,  5449,  5450,  5451,  5452,  5453,\n",
       "        5454,  5455,  5456,  5457,  5458,  5459,  5460,  5461,  5462,\n",
       "        5463,  5464,  5465,  5466,  5467,  5468,  5469,  5470,  5471,\n",
       "        5472,  5473,  5474,  5475,  5476,  5477,  5478,  5479,  5480,\n",
       "        5481,  5482,  5483,  5484,  5485,  5486,  5487,  5488,  5489,\n",
       "        5490,  5491,  5492,  5493,  5494,  5495,  5496,  5497,  5498,\n",
       "        5499,  5500,  5501,  5502,  5503,  5504,  5505,  5506,  5507,\n",
       "        5508,  5509,  5510,  5511,  5512,  5513,  5514,  5515,  5516,\n",
       "        5517,  5518,  5519,  5520,  5521,  5522,  5523,  5524,  5525,\n",
       "        5526,  5527,  5528,  5529,  5530,  5531,  5532,  5533,  5534,\n",
       "        5535,  5536,  5537,  5538,  5539,  5540,  5541,  5542,  5543,\n",
       "        5544,  5545,  5546,  5547,  5548,  5549,  5550,  5551,  5552,\n",
       "        5553,  5554,  5555,  5556,  5557,  5558,  5559,  5560,  5561,\n",
       "        5562,  5563,  5564,  5565,  5566,  5567,  5568,  5569,  5570,\n",
       "        5571,  5572,  5573,  5574,  5575,  5576,  5577,  5578,  5579,\n",
       "        5580,  5581,  5582,  5583,  5584,  5585,  5586,  5587,  5588,\n",
       "        5589,  5590,  5591,  5592,  5593,  5594,  5595,  5596,  5597,\n",
       "        5598,  5599,  5600,  5601,  5602,  5603,  5604,  5605,  5606,\n",
       "        5607,  5608,  5609,  5610,  5611,  5612,  5613,  5614,  5615,\n",
       "        5616,  5617,  5618,  5619,  5620,  5621,  5622,  5623,  5624,\n",
       "        5625,  5626,  5627,  5628,  5629,  5630,  5631,  5632,  5633,\n",
       "        5634,  5635,  5636,  5637,  5638,  5639,  5640,  5641,  5642,\n",
       "        5643,  5644,  5645,  5646,  5647,  5648,  5649,  5650,  5651,\n",
       "        5652,  5653,  5654,  5655,  5656,  5657,  5658,  5659,  5660,\n",
       "        5661,  5662,  5663,  5664,  5665,  5666,  5667,  5668,  5669,\n",
       "        5670,  5671,  5672,  5673,  5674,  5675,  5676,  5677,  5678,\n",
       "        5679,  5680,  5681,  5682,  5683,  5684,  5685,  5686,  5687,\n",
       "        5688,  5689,  5690,  5691,  5692,  5693,  5694,  5695,  5696,\n",
       "        5697,  5698,  5699,  5700,  5701,  5702,  5703,  5704,  5705,\n",
       "        5706,  5707,  5708,  5709,  5710,  5711,  5712,  5713,  5714,\n",
       "        5715,  5716,  5717,  5718,  5719,  5720,  5721,  5722,  5723,\n",
       "        5724,  5725,  5726,  5727,  5728,  5729,  5730,  5731,  5732,\n",
       "        5733,  5734,  5735,  5736,  5737,  5738,  5739,  5740,  5741,\n",
       "        5742,  5743,  5744,  5745,  5746,  5747,  5748,  5749,  5750,\n",
       "        5751,  5752,  5753,  5754,  5755,  5756,  5757,  5758,  5759,\n",
       "        5760,  5761,  5762,  5763,  5764,  5765,  5766,  5767,  5768,\n",
       "        5769,  5770,  5771,  5772,  5773,  5774,  5775,  5776,  5777,\n",
       "        5778,  5779,  5780,  5781,  5782,  5783,  5784,  5785,  5786,\n",
       "        5787,  5788,  5789,  5790,  5791,  5792,  5793,  5794,  5795,\n",
       "        5796,  5797,  5798,  5799,  5800,  5801,  5802,  5803,  5804,\n",
       "        5805,  5806,  5807,  5808,  5809,  5810,  5811,  5812,  5813,\n",
       "        5814,  5815,  5816,  5817,  5818,  5819,  5820,  5821,  5822,\n",
       "        5823,  5824,  5825,  5826,  5827,  5828,  5829,  5830,  5831,\n",
       "        5832,  5833,  5834,  5835,  5836,  5837,  5838,  5839,  5840,\n",
       "        5841,  5842,  5843,  5844,  5845,  5846,  5847,  5848,  5849,\n",
       "        5850,  5851,  5852,  5853,  5854,  5855,  5856,  5857,  5858,\n",
       "        5859,  5860,  5861,  5862,  5863,  5864,  5865,  5866,  5867,\n",
       "        5868,  5869,  5870,  5871,  5872,  5873,  5874,  5875,  5876,\n",
       "        5877,  5878,  5879,  5880,  5881,  5882,  5883,  5884,  5885,\n",
       "        5886,  5887,  5888,  5889,  5890,  5891,  5892,  5893,  5894,\n",
       "        5895,  5896,  5897,  5898,  5899,  5900,  5901,  5902,  5903,\n",
       "        5904,  5905,  5906,  5907,  5908,  5909,  5910,  5911,  5912,\n",
       "        5913,  5914,  5915,  5916,  5917,  5918,  5919,  5920,  5921,\n",
       "        5922,  5923,  5924,  5925,  5926,  5927,  5928,  5929,  5930,\n",
       "        5931,  5932,  5933,  5934,  5935,  5936,  5937,  5938,  5939,\n",
       "        5940,  5941,  5942,  5943,  5944,  5945,  5946,  5947,  5948,\n",
       "        5949,  5950,  5951,  5952,  5953,  5954,  5955,  5956,  5957,\n",
       "        5958,  5959,  5960,  5961,  5962,  5963,  5964,  5965,  5966,\n",
       "        5967,  5968,  5969,  5970,  5971,  5972,  5973,  5974,  5975,\n",
       "        5976,  5977,  5978,  5979,  5980,  5981,  5982,  5983,  5984,\n",
       "        5985,  5986,  5987,  5988,  5989,  5990,  5991,  5992,  5993,\n",
       "        5994,  5995,  5996,  5997,  5998,  5999,  6000,  6001,  6002,\n",
       "        6003,  6004,  6005,  6006,  6007,  6008,  6009,  6010,  6011,\n",
       "        6012,  6013,  6014,  6015,  6016,  6017,  6018,  6019,  6020,\n",
       "        6021,  6022,  6023,  6024,  6025,  6026,  6027,  6028,  6029,\n",
       "        6030,  6031,  6032,  6033,  6034,  6035,  6036,  6037,  6038,\n",
       "        6039,  6040,  6041,  6042,  6043,  6044,  6045,  6046,  6047,\n",
       "        6048,  6049,  6050,  6051,  6052,  6053,  6054,  6055,  6056,\n",
       "        6057,  6058,  6059,  6060,  6061,  6062,  6063,  6064,  6065,\n",
       "        6066,  6067,  6068,  6069,  6070,  6071,  6072,  6073,  6074,\n",
       "        6075,  6076,  6077,  6078,  6079,  6080,  6081,  6082,  6083,\n",
       "        6084,  6085,  6086,  6087,  6088,  6089,  6090,  6091,  6092,\n",
       "        6093,  6094,  6095,  6096,  6097,  6098,  6099,  6100,  6101,\n",
       "        6102,  6103,  6104,  6105,  6106,  6107,  6108,  6109,  6110,\n",
       "        6111,  6112,  6113,  6114,  6115,  6116,  6117,  6118,  6119,\n",
       "        6120,  6121,  6122,  6123,  6124,  6125,  6126,  6127,  6128,\n",
       "        6129,  6130,  6131,  6132,  6133,  6134,  6135,  6136,  6137,\n",
       "        6138,  6139,  6140,  6141,  6142,  6143,  6144,  6145,  6146,\n",
       "        6147,  6148,  6149,  6150,  6151,  6152,  6153,  6154,  6155,\n",
       "        6156,  6157,  6158,  6159,  6160,  6161,  6162,  6163,  6164,\n",
       "        6165,  6166,  6167,  6168,  6169,  6170,  6171,  6172,  6173,\n",
       "        6174,  6175,  6176,  6177,  6178,  6179,  6180,  6181,  6182,\n",
       "        6183,  6184,  6185,  6186,  6187,  6188,  6189,  6190,  6191,\n",
       "        6192,  6193,  6194,  6195,  6196,  6197,  6198,  6199,  6200,\n",
       "        6201,  6202,  6203,  6204,  6205,  6206,  6207,  6208,  6209,\n",
       "        6210,  6211,  6212,  6213,  6214,  6215,  6216,  6217,  6218,\n",
       "        6219,  6220,  6221,  6222,  6223,  6224,  6225,  6226,  6227,\n",
       "        6228,  6229,  6230,  6231,  6232,  6233,  6234,  6235,  6236,\n",
       "        6237,  6238,  6239,  6240,  6241,  6242,  6243,  6244,  6245,\n",
       "        6246,  6247,  6248,  6249,  6250,  6251,  6252,  6253,  6254,\n",
       "        6255,  6256,  6257,  6258,  6259,  6260,  6261,  6262,  6263,\n",
       "        6264,  6265,  6266,  6267,  6268,  6269,  6270,  6271,  6272,\n",
       "        6273,  6274,  6275,  6276,  6277,  6278,  6279,  6280,  6281,\n",
       "        6282,  6283,  6284,  6285,  6286,  6287,  6288,  6289,  6290,\n",
       "        6291,  6292,  6293,  6294,  6295,  6296,  6297,  6298,  6299,\n",
       "        6300,  6301,  6302,  6303,  6304,  6305,  6306,  6307,  6308,\n",
       "        6309,  6310,  6311,  6312,  6313,  6314,  6315,  6316,  6317,\n",
       "        6318,  6319,  6320,  6321,  6322,  6323,  6324,  6325,  6326,\n",
       "        6327,  6328,  6329,  6330,  6331,  6332,  6333,  6334,  6335,\n",
       "        6336,  6337,  6338,  6339,  6340,  6341,  6342,  6343,  6344,\n",
       "        6345,  6346,  6347,  6348,  6349,  6350,  6351,  6352,  6353,\n",
       "        6354,  6355,  6356,  6357,  6358,  6359,  6360,  6361,  6362,\n",
       "        6363,  6364,  6365,  6366,  6367,  6368,  6369,  6370,  6371,\n",
       "        6372,  6373,  6374,  6375,  6376,  6377,  6378,  6379,  6380,\n",
       "        6381,  6382,  6383,  6384,  6385,  6386,  6387,  6388,  6389,\n",
       "        6390,  6391,  6392,  6393,  6394,  6395,  6396,  6397,  6398,\n",
       "        6399,  6400,  6401,  6402,  6403,  6404,  6405,  6406,  6407,\n",
       "        6408,  6409,  6410,  6411,  6412,  6413,  6414,  6415,  6416,\n",
       "        6417,  6418,  6419,  6420,  6421,  6422,  6423,  6424,  6425,\n",
       "        6426,  6427,  6428,  6429,  6430,  6431,  6432,  6433,  6434,\n",
       "        6435,  6436,  6437,  6438,  6439,  6440,  6441,  6442,  6443,\n",
       "        6444,  6445,  6446,  6447,  6448,  6449,  6450,  6451,  6452,\n",
       "        6453,  6454,  6455,  6456,  6457,  6458,  6459,  6460,  6461,\n",
       "        6462,  6463,  6464,  6465,  6466,  6467,  6468,  6469,  6470,\n",
       "        6471,  6472,  6473,  6474,  6475,  6476,  6477,  6478,  6479,\n",
       "        6480,  6481,  6482,  6483,  6484,  6485,  6486,  6487,  6488,\n",
       "        6489,  6490,  6491,  6492,  6493,  6494,  6495,  6496,  6497,\n",
       "        6498,  6499,  6500,  6501,  6502,  6503,  6504,  6505,  6506,\n",
       "        6507,  6508,  6509,  6510,  6511,  6512,  6513,  6514,  6515,\n",
       "        6516,  6517,  6518,  6519,  6520,  6521,  6522,  6523,  6524,\n",
       "        6525,  6526,  6527,  6528,  6529,  6530,  6531,  6532,  6533,\n",
       "        6534,  6535,  6536,  6537,  6538,  6539,  6540,  6541,  6542,\n",
       "        6543,  6544,  6545,  6546,  6547,  6548,  6549,  6550,  6551,\n",
       "        6552,  6553,  6554,  6555,  6556,  6557,  6558,  6559,  6560,\n",
       "        6561,  6562,  6563,  6564,  6565,  6566,  6567,  6568,  6569,\n",
       "        6570,  6571,  6572,  6573,  6574,  6575,  6576,  6577,  6578,\n",
       "        6579,  6580,  6581,  6582,  6583,  6584,  6585,  6586,  6587,\n",
       "        6588,  6589,  6590,  6591,  6592,  6593,  6594,  6595,  6596,\n",
       "        6597,  6598,  6599,  6600,  6601,  6602,  6603,  6604,  6605,\n",
       "        6606,  6607,  6608,  6609,  6610,  6611,  6612,  6613,  6614,\n",
       "        6615,  6616,  6617,  6618,  6619,  6620,  6621,  6622,  6623,\n",
       "        6624,  6625,  6626,  6627,  6628,  6629,  6630,  6631,  6632,\n",
       "        6633,  6634,  6635,  6636,  6637,  6638,  6639,  6640,  6641,\n",
       "        6642,  6643,  6644,  6645,  6646,  6647,  6648,  6649,  6650,\n",
       "        6651,  6652,  6653,  6654,  6655,  6656,  6657,  6658,  6659,\n",
       "        6660,  6661,  6662,  6663,  6664,  6665,  6666,  6667,  6668,\n",
       "        6669,  6670,  6671,  6672,  6673,  6674,  6675,  6676,  6677,\n",
       "        6678,  6679,  6680,  6681,  6682,  6683,  6684,  6685,  6686,\n",
       "        6687,  6688,  6689,  6690,  6691,  6692,  6693,  6694,  6695,\n",
       "        6696,  6697,  6698,  6699,  6700,  6701,  6702,  6703,  6704,\n",
       "        6705,  6706,  6707,  6708,  6709,  6710,  6711,  6712,  6713,\n",
       "        6714,  6715,  6716,  6717,  6718,  6719,  6720,  6721,  6722,\n",
       "        6723,  6724,  6725,  6726,  6727,  6728,  6729,  6730,  6731,\n",
       "        6732,  6733,  6734,  6735,  6736,  6737,  6738,  6739,  6740,\n",
       "        6741,  6742,  6743,  6744,  6745,  6746,  6747,  6748,  6749,\n",
       "        6750,  6751,  6752,  6753,  6754,  6755,  6756,  6757,  6758,\n",
       "        6759,  6760,  6761,  6762,  6763,  6764,  6765,  6766,  6767,\n",
       "        6768,  6769,  6770,  6771,  6772,  6773,  6774,  6775,  6776,\n",
       "        6777,  6778,  6779,  6780,  6781,  6782,  6783,  6784,  6785,\n",
       "        6786,  6787,  6788,  6789,  6790,  6791,  6792,  6793,  6794,\n",
       "        6795,  6796,  6797,  6798,  6799,  6800,  6801,  6802,  6803,\n",
       "        6804,  6805,  6806,  6807,  6808,  6809,  6810,  6811,  6812,\n",
       "        6813,  6814,  6815,  6816,  6817,  6818,  6819,  6820,  6821,\n",
       "        6822,  6823,  6824,  6825,  6826,  6827,  6828,  6829,  6830,\n",
       "        6831,  6832,  6833,  6834,  6835,  6836,  6837,  6838,  6839,\n",
       "        6840,  6841,  6842,  6843,  6844,  6845,  6846,  6847,  6848,\n",
       "        6849,  6850,  6851,  6852,  6853,  6854,  6855,  6856,  6857,\n",
       "        6858,  6859,  6860,  6861,  6862,  6863,  6864,  6865,  6866,\n",
       "        6867,  6868,  6869,  6870,  6871,  6872,  6873,  6874,  6875,\n",
       "        6876,  6877,  6878,  6879,  6880,  6881,  6882,  6883,  6884,\n",
       "        6885,  6886,  6887,  6888,  6889,  6890,  6891,  6892,  6893,\n",
       "        6894,  6895,  6896,  6897,  6898,  6899,  6900,  6901,  6902,\n",
       "        6903,  6904,  6905,  6906,  6907,  6908,  6909,  6910,  6911,\n",
       "        6912,  6913,  6914,  6915,  6916,  6917,  6918,  6919,  6920,\n",
       "        6921,  6922,  6923,  6924,  6925,  6926,  6927,  6928,  6929,\n",
       "        6930,  6931,  6932,  6933,  6934,  6935,  6936,  6937,  6938,\n",
       "        6939,  6940,  6941,  6942,  6943,  6944,  6945,  6946,  6947,\n",
       "        6948,  6949,  6950,  6951,  6952,  6953,  6954,  6955,  6956,\n",
       "        6957,  6958,  6959,  6960,  6961,  6962,  6963,  6964,  6965,\n",
       "        6966,  6967,  6968,  6969,  6970,  6971,  6972,  6973,  6974,\n",
       "        6975,  6976,  6977,  6978,  6979,  6980,  6981,  6982,  6983,\n",
       "        6984,  6985,  6986,  6987,  6988,  6989,  6990,  6991,  6992,\n",
       "        6993,  6994,  6995,  6996,  6997,  6998,  6999,  7000,  7001,\n",
       "        7002,  7003,  7004,  7005,  7006,  7007,  7008,  7009,  7010,\n",
       "        7011,  7012,  7013,  7014,  7015,  7016,  7017,  7018,  7019,\n",
       "        7020,  7021,  7022,  7023,  7024,  7025,  7026,  7027,  7028,\n",
       "        7029,  7030,  7031,  7032,  7033,  7034,  7035,  7036,  7037,\n",
       "        7038,  7039,  7040,  7041,  7042,  7043,  7044,  7045,  7046,\n",
       "        7047,  7048,  7049,  7050,  7051,  7052,  7053,  7054,  7055,\n",
       "        7056,  7057,  7058,  7059,  7060,  7061,  7062,  7063,  7064,\n",
       "        7065,  7066,  7067,  7068,  7069,  7070,  7071,  7072,  7073,\n",
       "        7074,  7075,  7076,  7077,  7078,  7079,  7080,  7081,  7082,\n",
       "        7083,  7084,  7085,  7086,  7087,  7088,  7089,  7090,  7091,\n",
       "        7092,  7093,  7094,  7095,  7096,  7097,  7098,  7099,  7100,\n",
       "        7101,  7102,  7103,  7104,  7105,  7106,  7107,  7108,  7109,\n",
       "        7110,  7111,  7112,  7113,  7114,  7115,  7116,  7117,  7118,\n",
       "        7119,  7120,  7121,  7122,  7123,  7124,  7125,  7126,  7127,\n",
       "        7128,  7129,  7130,  7131,  7132,  7133,  7134,  7135,  7136,\n",
       "        7137,  7138,  7139,  7140,  7141,  7142,  7143,  7144,  7145,\n",
       "        7146,  7147,  7148,  7149,  7150,  7151,  7152,  7153,  7154,\n",
       "        7155,  7156,  7157,  7158,  7159,  7160,  7161,  7162,  7163,\n",
       "        7164,  7165,  7166,  7167,  7168,  7169,  7170,  7171,  7172,\n",
       "        7173,  7174,  7175,  7176,  7177,  7178,  7179,  7180,  7181,\n",
       "        7182,  7183,  7184,  7185,  7186,  7187,  7188,  7189,  7190,\n",
       "        7191,  7192,  7193,  7194,  7195,  7196,  7197,  7198,  7199,\n",
       "        7200,  7201,  7202,  7203,  7204,  7205,  7206,  7207,  7208,\n",
       "        7209,  7210,  7211,  7212,  7213,  7214,  7215,  7216,  7217,\n",
       "        7218,  7219,  7220,  7221,  7222,  7223,  7224,  7225,  7226,\n",
       "        7227,  7228,  7229,  7230,  7231,  7232,  7233,  7234,  7235,\n",
       "        7236,  7237,  7238,  7239,  7240,  7241,  7242,  7243,  7244,\n",
       "        7245,  7246,  7247,  7248,  7249,  7250,  7251,  7252,  7253,\n",
       "        7254,  7255,  7256,  7257,  7258,  7259,  7260,  7261,  7262,\n",
       "        7263,  7264,  7265,  7266,  7267,  7268,  7269,  7270,  7271,\n",
       "        7272,  7273,  7274,  7275,  7276,  7277,  7278,  7279,  7280,\n",
       "        7281,  7282,  7283,  7284,  7285,  7286,  7287,  7288,  7289,\n",
       "        7290,  7291,  7292,  7293,  7294,  7295,  7296,  7297,  7298,\n",
       "        7299,  7300,  7301,  7302,  7303,  7304,  7305,  7306,  7307,\n",
       "        7308,  7309,  7310,  7311,  7312,  7313,  7314,  7315,  7316,\n",
       "        7317,  7318,  7319,  7320,  7321,  7322,  7323,  7324,  7325,\n",
       "        7326,  7327,  7328,  7329,  7330,  7331,  7332,  7333,  7334,\n",
       "        7335,  7336,  7337,  7338,  7339,  7340,  7341,  7342,  7343,\n",
       "        7344,  7345,  7346,  7347,  7348,  7349,  7350,  7351,  7352,\n",
       "        7353,  7354,  7355,  7356,  7357,  7358,  7359,  7360,  7361,\n",
       "        7362,  7363,  7364,  7365,  7366,  7367,  7368,  7369,  7370,\n",
       "        7371,  7372,  7373,  7374,  7375,  7376,  7377,  7378,  7379,\n",
       "        7380,  7381,  7382,  7383,  7384,  7385,  7386,  7387,  7388,\n",
       "        7389,  7390,  7391,  7392,  7393,  7394,  7395,  7396,  7397,\n",
       "        7398,  7399,  7400,  7401,  7402,  7403,  7404,  7405,  7406,\n",
       "        7407,  7408,  7409,  7410,  7411,  7412,  7413,  7414,  7415,\n",
       "        7416,  7417,  7418,  7419,  7420,  7421,  7422,  7423,  7424,\n",
       "        7425,  7426,  7427,  7428,  7429,  7430,  7431,  7432,  7433,\n",
       "        7434,  7435,  7436,  7437,  7438,  7439,  7440,  7441,  7442,\n",
       "        7443,  7444,  7445,  7446,  7447,  7448,  7449,  7450,  7451,\n",
       "        7452,  7453,  7454,  7455,  7456,  7457,  7458,  7459,  7460,\n",
       "        7461,  7462,  7463,  7464,  7465,  7466,  7467,  7468,  7469,\n",
       "        7470,  7471,  7472,  7473,  7474,  7475,  7476,  7477,  7478,\n",
       "        7479,  7480,  7481,  7482,  7483,  7484,  7485,  7486,  7487,\n",
       "        7488,  7489,  7490,  7491,  7492,  7493,  7494,  7495,  7496,\n",
       "        7497,  7498,  7499,  7500,  7501,  7502,  7503,  7504,  7505,\n",
       "        7506,  7507,  7508,  7509,  7510,  7511,  7512,  7513,  7514,\n",
       "        7515,  7516,  7517,  7518,  7519,  7520,  7521,  7522,  7523,\n",
       "        7524,  7525,  7526,  7527,  7528,  7529,  7530,  7531,  7532,\n",
       "        7533,  7534,  7535,  7536,  7537,  7538,  7539,  7540,  7541,\n",
       "        7542,  7543,  7544,  7545,  7546,  7547,  7548,  7549,  7550,\n",
       "        7551,  7552,  7553,  7554,  7555,  7556,  7557,  7558,  7559,\n",
       "        7560,  7561,  7562,  7563,  7564,  7565,  7566,  7567,  7568,\n",
       "        7569,  7570,  7571,  7572,  7573,  7574,  7575,  7576,  7577,\n",
       "        7578,  7579,  7580,  7581,  7582,  7583,  7584,  7585,  7586,\n",
       "        7587,  7588,  7589,  7590,  7591,  7592,  7593,  7594,  7595,\n",
       "        7596,  7597,  7598,  7599,  7600,  7601,  7602,  7603,  7604,\n",
       "        7605,  7606,  7607,  7608,  7609,  7610,  7611,  7612,  7613,\n",
       "        7614,  7615,  7616,  7617,  7618,  7619,  7620,  7621,  7622,\n",
       "        7623,  7624,  7625,  7626,  7627,  7628,  7629,  7630,  7631,\n",
       "        7632,  7633,  7634,  7635,  7636,  7637,  7638,  7639,  7640,\n",
       "        7641,  7642,  7643,  7644,  7645,  7646,  7647,  7648,  7649,\n",
       "        7650,  7651,  7652,  7653,  7654,  7655,  7656,  7657,  7658,\n",
       "        7659,  7660,  7661,  7662,  7663,  7664,  7665,  7666,  7667,\n",
       "        7668,  7669,  7670,  7671,  7672,  7673,  7674,  7675,  7676,\n",
       "        7677,  7678,  7679,  7680,  7681,  7682,  7683,  7684,  7685,\n",
       "        7686,  7687,  7688,  7689,  7690,  7691,  7692,  7693,  7694,\n",
       "        7695,  7696,  7697,  7698,  7699,  7700,  7701,  7702,  7703,\n",
       "        7704,  7705,  7706,  7707,  7708,  7709,  7710,  7711,  7712,\n",
       "        7713,  7714,  7715,  7716,  7717,  7718,  7719,  7720,  7721,\n",
       "        7722,  7723,  7724,  7725,  7726,  7727,  7728,  7729,  7730,\n",
       "        7731,  7732,  7733,  7734,  7735,  7736,  7737,  7738,  7739,\n",
       "        7740,  7741,  7742,  7743,  7744,  7745,  7746,  7747,  7748,\n",
       "        7749,  7750,  7751,  7752,  7753,  7754,  7755,  7756,  7757,\n",
       "        7758,  7759,  7760,  7761,  7762,  7763,  7764,  7765,  7766,\n",
       "        7767,  7768,  7769,  7770,  7771,  7772,  7773,  7774,  7775,\n",
       "        7776,  7777,  7778,  7779,  7780,  7781,  7782,  7783,  7784,\n",
       "        7785,  7786,  7787,  7788,  7789,  7790,  7791,  7792,  7793,\n",
       "        7794,  7795,  7796,  7797,  7798,  7799,  7800,  7801,  7802,\n",
       "        7803,  7804,  7805,  7806,  7807,  7808,  7809,  7810,  7811,\n",
       "        7812,  7813,  7814,  7815,  7816,  7817,  7818,  7819,  7820,\n",
       "        7821,  7822,  7823,  7824,  7825,  7826,  7827,  7828,  7829,\n",
       "        7830,  7831,  7832,  7833,  7834,  7835,  7836,  7837,  7838,\n",
       "        7839,  7840,  7841,  7842,  7843,  7844,  7845,  7846,  7847,\n",
       "        7848,  7849,  7850,  7851,  7852,  7853,  7854,  7855,  7856,\n",
       "        7857,  7858,  7859,  7860,  7861,  7862,  7863,  7864,  7865,\n",
       "        7866,  7867,  7868,  7869,  7870,  7871,  7872,  7873,  7874,\n",
       "        7875,  7876,  7877,  7878,  7879,  7880,  7881,  7882,  7883,\n",
       "        7884,  7885,  7886,  7887,  7888,  7889,  7890,  7891,  7892,\n",
       "        7893,  7894,  7895,  7896,  7897,  7898,  7899,  7900,  7901,\n",
       "        7902,  7903,  7904,  7905,  7906,  7907,  7908,  7909,  7910,\n",
       "        7911,  7912,  7913,  7914,  7915,  7916,  7917,  7918,  7919,\n",
       "        7920,  7921,  7922,  7923,  7924,  7925,  7926,  7927,  7928,\n",
       "        7929,  7930,  7931,  7932,  7933,  7934,  7935,  7936,  7937,\n",
       "        7938,  7939,  7940,  7941,  7942,  7943,  7944,  7945,  7946,\n",
       "        7947,  7948,  7949,  7950,  7951,  7952,  7953,  7954,  7955,\n",
       "        7956,  7957,  7958,  7959,  7960,  7961,  7962,  7963,  7964,\n",
       "        7965,  7966,  7967,  7968,  7969,  7970,  7971,  7972,  7973,\n",
       "        7974,  7975,  7976,  7977,  7978,  7979,  7980,  7981,  7982,\n",
       "        7983,  7984,  7985,  7986,  7987,  7988,  7989,  7990,  7991,\n",
       "        7992,  7993,  7994,  7995,  7996,  7997,  7998,  7999,  8000,\n",
       "        8001,  8002,  8003,  8004,  8005,  8006,  8007,  8008,  8009,\n",
       "        8010,  8011,  8012,  8013,  8014,  8015,  8016,  8017,  8018,\n",
       "        8019,  8020,  8021,  8022,  8023,  8024,  8025,  8026,  8027,\n",
       "        8028,  8029,  8030,  8031,  8032,  8033,  8034,  8035,  8036,\n",
       "        8037,  8038,  8039,  8040,  8041,  8042,  8043,  8044,  8045,\n",
       "        8046,  8047,  8048,  8049,  8050,  8051,  8052,  8053,  8054,\n",
       "        8055,  8056,  8057,  8058,  8059,  8060,  8061,  8062,  8063,\n",
       "        8064,  8065,  8066,  8067,  8068,  8069,  8070,  8071,  8072,\n",
       "        8073,  8074,  8075,  8076,  8077,  8078,  8079,  8080,  8081,\n",
       "        8082,  8083,  8084,  8085,  8086,  8087,  8088,  8089,  8090,\n",
       "        8091,  8092,  8093,  8094,  8095,  8096,  8097,  8098,  8099,\n",
       "        8100,  8101,  8102,  8103,  8104,  8105,  8106,  8107,  8108,\n",
       "        8109,  8110,  8111,  8112,  8113,  8114,  8115,  8116,  8117,\n",
       "        8118,  8119,  8120,  8121,  8122,  8123,  8124,  8125,  8126,\n",
       "        8127,  8128,  8129,  8130,  8131,  8132,  8133,  8134,  8135,\n",
       "        8136,  8137,  8138,  8139,  8140,  8141,  8142,  8143,  8144,\n",
       "        8145,  8146,  8147,  8148,  8149,  8150,  8151,  8152,  8153,\n",
       "        8154,  8155,  8156,  8157,  8158,  8159,  8160,  8161,  8162,\n",
       "        8163,  8164,  8165,  8166,  8167,  8168,  8169,  8170,  8171,\n",
       "        8172,  8173,  8174,  8175,  8176,  8177,  8178,  8179,  8180,\n",
       "        8181,  8182,  8183,  8184,  8185,  8186,  8187,  8188,  8189,\n",
       "        8190,  8191,  8192,  8193,  8194,  8195,  8196,  8197,  8198,\n",
       "        8199,  8200,  8201,  8202,  8203,  8204,  8205,  8206,  8207,\n",
       "        8208,  8209,  8210,  8211,  8212,  8213,  8214,  8215,  8216,\n",
       "        8217,  8218,  8219,  8220,  8221,  8222,  8223,  8224,  8225,\n",
       "        8226,  8227,  8228,  8229,  8230,  8231,  8232,  8233,  8234,\n",
       "        8235,  8236,  8237,  8238,  8239,  8240,  8241,  8242,  8243,\n",
       "        8244,  8245,  8246,  8247,  8248,  8249,  8250,  8251,  8252,\n",
       "        8253,  8254,  8255,  8256,  8257,  8258,  8259,  8260,  8261,\n",
       "        8262,  8263,  8264,  8265,  8266,  8267,  8268,  8269,  8270,\n",
       "        8271,  8272,  8273,  8274,  8275,  8276,  8277,  8278,  8279,\n",
       "        8280,  8281,  8282,  8283,  8284,  8285,  8286,  8287,  8288,\n",
       "        8289,  8290,  8291,  8292,  8293,  8294,  8295,  8296,  8297,\n",
       "        8298,  8299,  8300,  8301,  8302,  8303,  8304,  8305,  8306,\n",
       "        8307,  8308,  8309,  8310,  8311,  8312,  8313,  8314,  8315,\n",
       "        8316,  8317,  8318,  8319,  8320,  8321,  8322,  8323,  8324,\n",
       "        8325,  8326,  8327,  8328,  8329,  8330,  8331,  8332,  8333,\n",
       "        8334,  8335,  8336,  8337,  8338,  8339,  8340,  8341,  8342,\n",
       "        8343,  8344,  8345,  8346,  8347,  8348,  8349,  8350,  8351,\n",
       "        8352,  8353,  8354,  8355,  8356,  8357,  8358,  8359,  8360,\n",
       "        8361,  8362,  8363,  8364,  8365,  8366,  8367,  8368,  8369,\n",
       "        8370,  8371,  8372,  8373,  8374,  8375,  8376,  8377,  8378,\n",
       "        8379,  8380,  8381,  8382,  8383,  8384,  8385,  8386,  8387,\n",
       "        8388,  8389,  8390,  8391,  8392,  8393,  8394,  8395,  8396,\n",
       "        8397,  8398,  8399,  8400,  8401,  8402,  8403,  8404,  8405,\n",
       "        8406,  8407,  8408,  8409,  8410,  8411,  8412,  8413,  8414,\n",
       "        8415,  8416,  8417,  8418,  8419,  8420,  8421,  8422,  8423,\n",
       "        8424,  8425,  8426,  8427,  8428,  8429,  8430,  8431,  8432,\n",
       "        8433,  8434,  8435,  8436,  8437,  8438,  8439,  8440,  8441,\n",
       "        8442,  8443,  8444,  8445,  8446,  8447,  8448,  8449,  8450,\n",
       "        8451,  8452,  8453,  8454,  8455,  8456,  8457,  8458,  8459,\n",
       "        8460,  8461,  8462,  8463,  8464,  8465,  8466,  8467,  8468,\n",
       "        8469,  8470,  8471,  8472,  8473,  8474,  8475,  8476,  8477,\n",
       "        8478,  8479,  8480,  8481,  8482,  8483,  8484,  8485,  8486,\n",
       "        8487,  8488,  8489,  8490,  8491,  8492,  8493,  8494,  8495,\n",
       "        8496,  8497,  8498,  8499,  8500,  8501,  8502,  8503,  8504,\n",
       "        8505,  8506,  8507,  8508,  8509,  8510,  8511,  8512,  8513,\n",
       "        8514,  8515,  8516,  8517,  8518,  8519,  8520,  8521,  8522,\n",
       "        8523,  8524,  8525,  8526,  8527,  8528,  8529,  8530,  8531,\n",
       "        8532,  8533,  8534,  8535,  8536,  8537,  8538,  8539,  8540,\n",
       "        8541,  8542,  8543,  8544,  8545,  8546,  8547,  8548,  8549,\n",
       "        8550,  8551,  8552,  8553,  8554,  8555,  8556,  8557,  8558,\n",
       "        8559,  8560,  8561,  8562,  8563,  8564,  8565,  8566,  8567,\n",
       "        8568,  8569,  8570,  8571,  8572,  8573,  8574,  8575,  8576,\n",
       "        8577,  8578,  8579,  8580,  8581,  8582,  8583,  8584,  8585,\n",
       "        8586,  8587,  8588,  8589,  8590,  8591,  8592,  8593,  8594,\n",
       "        8595,  8596,  8597,  8598,  8599,  8600,  8601,  8602,  8603,\n",
       "        8604,  8605,  8606,  8607,  8608,  8609,  8610,  8611,  8612,\n",
       "        8613,  8614,  8615,  8616,  8617,  8618,  8619,  8620,  8621,\n",
       "        8622,  8623,  8624,  8625,  8626,  8627,  8628,  8629,  8630,\n",
       "        8631,  8632,  8633,  8634,  8635,  8636,  8637,  8638,  8639,\n",
       "        8640,  8641,  8642,  8643,  8644,  8645,  8646,  8647,  8648,\n",
       "        8649,  8650,  8651,  8652,  8653,  8654,  8655,  8656,  8657,\n",
       "        8658,  8659,  8660,  8661,  8662,  8663,  8664,  8665,  8666,\n",
       "        8667,  8668,  8669,  8670,  8671,  8672,  8673,  8674,  8675,\n",
       "        8676,  8677,  8678,  8679,  8680,  8681,  8682,  8683,  8684,\n",
       "        8685,  8686,  8687,  8688,  8689,  8690,  8691,  8692,  8693,\n",
       "        8694,  8695,  8696,  8697,  8698,  8699,  8700,  8701,  8702,\n",
       "        8703,  8704,  8705,  8706,  8707,  8708,  8709,  8710,  8711,\n",
       "        8712,  8713,  8714,  8715,  8716,  8717,  8718,  8719,  8720,\n",
       "        8721,  8722,  8723,  8724,  8725,  8726,  8727,  8728,  8729,\n",
       "        8730,  8731,  8732,  8733,  8734,  8735,  8736,  8737,  8738,\n",
       "        8739,  8740,  8741,  8742,  8743,  8744,  8745,  8746,  8747,\n",
       "        8748,  8749,  8750,  8751,  8752,  8753,  8754,  8755,  8756,\n",
       "        8757,  8758,  8759,  8760,  8761,  8762,  8763,  8764,  8765,\n",
       "        8766,  8767,  8768,  8769,  8770,  8771,  8772,  8773,  8774,\n",
       "        8775,  8776,  8777,  8778,  8779,  8780,  8781,  8782,  8783,\n",
       "        8784,  8785,  8786,  8787,  8788,  8789,  8790,  8791,  8792,\n",
       "        8793,  8794,  8795,  8796,  8797,  8798,  8799,  8800,  8801,\n",
       "        8802,  8803,  8804,  8805,  8806,  8807,  8808,  8809,  8810,\n",
       "        8811,  8812,  8813,  8814,  8815,  8816,  8817,  8818,  8819,\n",
       "        8820,  8821,  8822,  8823,  8824,  8825,  8826,  8827,  8828,\n",
       "        8829,  8830,  8831,  8832,  8833,  8834,  8835,  8836,  8837,\n",
       "        8838,  8839,  8840,  8841,  8842,  8843,  8844,  8845,  8846,\n",
       "        8847,  8848,  8849,  8850,  8851,  8852,  8853,  8854,  8855,\n",
       "        8856,  8857,  8858,  8859,  8860,  8861,  8862,  8863,  8864,\n",
       "        8865,  8866,  8867,  8868,  8869,  8870,  8871,  8872,  8873,\n",
       "        8874,  8875,  8876,  8877,  8878,  8879,  8880,  8881,  8882,\n",
       "        8883,  8884,  8885,  8886,  8887,  8888,  8889,  8890,  8891,\n",
       "        8892,  8893,  8894,  8895,  8896,  8897,  8898,  8899,  8900,\n",
       "        8901,  8902,  8903,  8904,  8905,  8906,  8907,  8908,  8909,\n",
       "        8910,  8911,  8912,  8913,  8914,  8915,  8916,  8917,  8918,\n",
       "        8919,  8920,  8921,  8922,  8923,  8924,  8925,  8926,  8927,\n",
       "        8928,  8929,  8930,  8931,  8932,  8933,  8934,  8935,  8936,\n",
       "        8937,  8938,  8939,  8940,  8941,  8942,  8943,  8944,  8945,\n",
       "        8946,  8947,  8948,  8949,  8950,  8951,  8952,  8953,  8954,\n",
       "        8955,  8956,  8957,  8958,  8959,  8960,  8961,  8962,  8963,\n",
       "        8964,  8965,  8966,  8967,  8968,  8969,  8970,  8971,  8972,\n",
       "        8973,  8974,  8975,  8976,  8977,  8978,  8979,  8980,  8981,\n",
       "        8982,  8983,  8984,  8985,  8986,  8987,  8988,  8989,  8990,\n",
       "        8991,  8992,  8993,  8994,  8995,  8996,  8997,  8998,  8999,\n",
       "        9000,  9001,  9002,  9003,  9004,  9005,  9006,  9007,  9008,\n",
       "        9009,  9010,  9011,  9012,  9013,  9014,  9015,  9016,  9017,\n",
       "        9018,  9019,  9020,  9021,  9022,  9023,  9024,  9025,  9026,\n",
       "        9027,  9028,  9029,  9030,  9031,  9032,  9033,  9034,  9035,\n",
       "        9036,  9037,  9038,  9039,  9040,  9041,  9042,  9043,  9044,\n",
       "        9045,  9046,  9047,  9048,  9049,  9050,  9051,  9052,  9053,\n",
       "        9054,  9055,  9056,  9057,  9058,  9059,  9060,  9061,  9062,\n",
       "        9063,  9064,  9065,  9066,  9067,  9068,  9069,  9070,  9071,\n",
       "        9072,  9073,  9074,  9075,  9076,  9077,  9078,  9079,  9080,\n",
       "        9081,  9082,  9083,  9084,  9085,  9086,  9087,  9088,  9089,\n",
       "        9090,  9091,  9092,  9093,  9094,  9095,  9096,  9097,  9098,\n",
       "        9099,  9100,  9101,  9102,  9103,  9104,  9105,  9106,  9107,\n",
       "        9108,  9109,  9110,  9111,  9112,  9113,  9114,  9115,  9116,\n",
       "        9117,  9118,  9119,  9120,  9121,  9122,  9123,  9124,  9125,\n",
       "        9126,  9127,  9128,  9129,  9130,  9131,  9132,  9133,  9134,\n",
       "        9135,  9136,  9137,  9138,  9139,  9140,  9141,  9142,  9143,\n",
       "        9144,  9145,  9146,  9147,  9148,  9149,  9150,  9151,  9152,\n",
       "        9153,  9154,  9155,  9156,  9157,  9158,  9159,  9160,  9161,\n",
       "        9162,  9163,  9164,  9165,  9166,  9167,  9168,  9169,  9170,\n",
       "        9171,  9172,  9173,  9174,  9175,  9176,  9177,  9178,  9179,\n",
       "        9180,  9181,  9182,  9183,  9184,  9185,  9186,  9187,  9188,\n",
       "        9189,  9190,  9191,  9192,  9193,  9194,  9195,  9196,  9197,\n",
       "        9198,  9199,  9200,  9201,  9202,  9203,  9204,  9205,  9206,\n",
       "        9207,  9208,  9209,  9210,  9211,  9212,  9213,  9214,  9215,\n",
       "        9216,  9217,  9218,  9219,  9220,  9221,  9222,  9223,  9224,\n",
       "        9225,  9226,  9227,  9228,  9229,  9230,  9231,  9232,  9233,\n",
       "        9234,  9235,  9236,  9237,  9238,  9239,  9240,  9241,  9242,\n",
       "        9243,  9244,  9245,  9246,  9247,  9248,  9249,  9250,  9251,\n",
       "        9252,  9253,  9254,  9255,  9256,  9257,  9258,  9259,  9260,\n",
       "        9261,  9262,  9263,  9264,  9265,  9266,  9267,  9268,  9269,\n",
       "        9270,  9271,  9272,  9273,  9274,  9275,  9276,  9277,  9278,\n",
       "        9279,  9280,  9281,  9282,  9283,  9284,  9285,  9286,  9287,\n",
       "        9288,  9289,  9290,  9291,  9292,  9293,  9294,  9295,  9296,\n",
       "        9297,  9298,  9299,  9300,  9301,  9302,  9303,  9304,  9305,\n",
       "        9306,  9307,  9308,  9309,  9310,  9311,  9312,  9313,  9314,\n",
       "        9315,  9316,  9317,  9318,  9319,  9320,  9321,  9322,  9323,\n",
       "        9324,  9325,  9326,  9327,  9328,  9329,  9330,  9331,  9332,\n",
       "        9333,  9334,  9335,  9336,  9337,  9338,  9339,  9340,  9341,\n",
       "        9342,  9343,  9344,  9345,  9346,  9347,  9348,  9349,  9350,\n",
       "        9351,  9352,  9353,  9354,  9355,  9356,  9357,  9358,  9359,\n",
       "        9360,  9361,  9362,  9363,  9364,  9365,  9366,  9367,  9368,\n",
       "        9369,  9370,  9371,  9372,  9373,  9374,  9375,  9376,  9377,\n",
       "        9378,  9379,  9380,  9381,  9382,  9383,  9384,  9385,  9386,\n",
       "        9387,  9388,  9389,  9390,  9391,  9392,  9393,  9394,  9395,\n",
       "        9396,  9397,  9398,  9399,  9400,  9401,  9402,  9403,  9404,\n",
       "        9405,  9406,  9407,  9408,  9409,  9410,  9411,  9412,  9413,\n",
       "        9414,  9415,  9416,  9417,  9418,  9419,  9420,  9421,  9422,\n",
       "        9423,  9424,  9425,  9426,  9427,  9428,  9429,  9430,  9431,\n",
       "        9432,  9433,  9434,  9435,  9436,  9437,  9438,  9439,  9440,\n",
       "        9441,  9442,  9443,  9444,  9445,  9446,  9447,  9448,  9449,\n",
       "        9450,  9451,  9452,  9453,  9454,  9455,  9456,  9457,  9458,\n",
       "        9459,  9460,  9461,  9462,  9463,  9464,  9465,  9466,  9467,\n",
       "        9468,  9469,  9470,  9471,  9472,  9473,  9474,  9475,  9476,\n",
       "        9477,  9478,  9479,  9480,  9481,  9482,  9483,  9484,  9485,\n",
       "        9486,  9487,  9488,  9489,  9490,  9491,  9492,  9493,  9494,\n",
       "        9495,  9496,  9497,  9498,  9499,  9500,  9501,  9502,  9503,\n",
       "        9504,  9505,  9506,  9507,  9508,  9509,  9510,  9511,  9512,\n",
       "        9513,  9514,  9515,  9516,  9517,  9518,  9519,  9520,  9521,\n",
       "        9522,  9523,  9524,  9525,  9526,  9527,  9528,  9529,  9530,\n",
       "        9531,  9532,  9533,  9534,  9535,  9536,  9537,  9538,  9539,\n",
       "        9540,  9541,  9542,  9543,  9544,  9545,  9546,  9547,  9548,\n",
       "        9549,  9550,  9551,  9552,  9553,  9554,  9555,  9556,  9557,\n",
       "        9558,  9559,  9560,  9561,  9562,  9563,  9564,  9565,  9566,\n",
       "        9567,  9568,  9569,  9570,  9571,  9572,  9573,  9574,  9575,\n",
       "        9576,  9577,  9578,  9579,  9580,  9581,  9582,  9583,  9584,\n",
       "        9585,  9586,  9587,  9588,  9589,  9590,  9591,  9592,  9593,\n",
       "        9594,  9595,  9596,  9597,  9598,  9599,  9600,  9601,  9602,\n",
       "        9603,  9604,  9605,  9606,  9607,  9608,  9609,  9610,  9611,\n",
       "        9612,  9613,  9614,  9615,  9616,  9617,  9618,  9619,  9620,\n",
       "        9621,  9622,  9623,  9624,  9625,  9626,  9627,  9628,  9629,\n",
       "        9630,  9631,  9632,  9633,  9634,  9635,  9636,  9637,  9638,\n",
       "        9639,  9640,  9641,  9642,  9643,  9644,  9645,  9646,  9647,\n",
       "        9648,  9649,  9650,  9651,  9652,  9653,  9654,  9655,  9656,\n",
       "        9657,  9658,  9659,  9660,  9661,  9662,  9663,  9664,  9665,\n",
       "        9666,  9667,  9668,  9669,  9670,  9671,  9672,  9673,  9674,\n",
       "        9675,  9676,  9677,  9678,  9679,  9680,  9681,  9682,  9683,\n",
       "        9684,  9685,  9686,  9687,  9688,  9689,  9690,  9691,  9692,\n",
       "        9693,  9694,  9695,  9696,  9697,  9698,  9699,  9700,  9701,\n",
       "        9702,  9703,  9704,  9705,  9706,  9707,  9708,  9709,  9710,\n",
       "        9711,  9712,  9713,  9714,  9715,  9716,  9717,  9718,  9719,\n",
       "        9720,  9721,  9722,  9723,  9724,  9725,  9726,  9727,  9728,\n",
       "        9729,  9730,  9731,  9732,  9733,  9734,  9735,  9736,  9737,\n",
       "        9738,  9739,  9740,  9741,  9742,  9743,  9744,  9745,  9746,\n",
       "        9747,  9748,  9749,  9750,  9751,  9752,  9753,  9754,  9755,\n",
       "        9756,  9757,  9758,  9759,  9760,  9761,  9762,  9763,  9764,\n",
       "        9765,  9766,  9767,  9768,  9769,  9770,  9771,  9772,  9773,\n",
       "        9774,  9775,  9776,  9777,  9778,  9779,  9780,  9781,  9782,\n",
       "        9783,  9784,  9785,  9786,  9787,  9788,  9789,  9790,  9791,\n",
       "        9792,  9793,  9794,  9795,  9796,  9797,  9798,  9799,  9800,\n",
       "        9801,  9802,  9803,  9804,  9805,  9806,  9807,  9808,  9809,\n",
       "        9810,  9811,  9812,  9813,  9814,  9815,  9816,  9817,  9818,\n",
       "        9819,  9820,  9821,  9822,  9823,  9824,  9825,  9826,  9827,\n",
       "        9828,  9829,  9830,  9831,  9832,  9833,  9834,  9835,  9836,\n",
       "        9837,  9838,  9839,  9840,  9841,  9842,  9843,  9844,  9845,\n",
       "        9846,  9847,  9848,  9849,  9850,  9851,  9852,  9853,  9854,\n",
       "        9855,  9856,  9857,  9858,  9859,  9860,  9861,  9862,  9863,\n",
       "        9864,  9865,  9866,  9867,  9868,  9869,  9870,  9871,  9872,\n",
       "        9873,  9874,  9875,  9876,  9877,  9878,  9879,  9880,  9881,\n",
       "        9882,  9883,  9884,  9885,  9886,  9887,  9888,  9889,  9890,\n",
       "        9891,  9892,  9893,  9894,  9895,  9896,  9897,  9898,  9899,\n",
       "        9900,  9901,  9902,  9903,  9904,  9905,  9906,  9907,  9908,\n",
       "        9909,  9910,  9911,  9912,  9913,  9914,  9915,  9916,  9917,\n",
       "        9918,  9919,  9920,  9921,  9922,  9923,  9924,  9925,  9926,\n",
       "        9927,  9928,  9929,  9930,  9931,  9932,  9933,  9934,  9935,\n",
       "        9936,  9937,  9938,  9939,  9940,  9941,  9942,  9943,  9944,\n",
       "        9945,  9946,  9947,  9948,  9949,  9950,  9951,  9952,  9953,\n",
       "        9954,  9955,  9956,  9957,  9958,  9959,  9960,  9961,  9962,\n",
       "        9963,  9964,  9965,  9966,  9967,  9968,  9969,  9970,  9971,\n",
       "        9972,  9973,  9974,  9975,  9976,  9977,  9978,  9979,  9980,\n",
       "        9981,  9982,  9983,  9984,  9985,  9986,  9987,  9988,  9989,\n",
       "        9990,  9991,  9992,  9993,  9994,  9995,  9996,  9997,  9998,\n",
       "        9999, 10000, 10001, 10002, 10003, 10004, 10005, 10006, 10007,\n",
       "       10008, 10009, 10010, 10011, 10012, 10013, 10014, 10015, 10016,\n",
       "       10017, 10018, 10019, 10020, 10021, 10022, 10023, 10024, 10025,\n",
       "       10026, 10027, 10028, 10029, 10030, 10031, 10032, 10033, 10034,\n",
       "       10035, 10036, 10037, 10038, 10039, 10040, 10041, 10042, 10043,\n",
       "       10044, 10045, 10046, 10047, 10048, 10049, 10050, 10051, 10052,\n",
       "       10053, 10054, 10055, 10056, 10057, 10058, 10059, 10060, 10061,\n",
       "       10062, 10063, 10064, 10065, 10066, 10067, 10068, 10069, 10070,\n",
       "       10071, 10072, 10073, 10074, 10075, 10076, 10077, 10078, 10079,\n",
       "       10080, 10081, 10082, 10083, 10084, 10085, 10086, 10087, 10088,\n",
       "       10089, 10090, 10091, 10092, 10093, 10094, 10095, 10096, 10097,\n",
       "       10098, 10099, 10100, 10101, 10102, 10103, 10104, 10105, 10106,\n",
       "       10107, 10108, 10109, 10110, 10111, 10112, 10113, 10114, 10115,\n",
       "       10116, 10117, 10118, 10119, 10120, 10121, 10122, 10123, 10124,\n",
       "       10125, 10126, 10127, 10128, 10129, 10130, 10131, 10132, 10133,\n",
       "       10134, 10135, 10136, 10137, 10138, 10139, 10140, 10141, 10142,\n",
       "       10143, 10144, 10145, 10146, 10147, 10148, 10149, 10150, 10151,\n",
       "       10152, 10153, 10154, 10155, 10156, 10157, 10158, 10159, 10160,\n",
       "       10161, 10162, 10163, 10164, 10165, 10166, 10167, 10168, 10169,\n",
       "       10170, 10171, 10172, 10173, 10174, 10175, 10176, 10177, 10178,\n",
       "       10179, 10180, 10181, 10182, 10183, 10184, 10185, 10186, 10187,\n",
       "       10188, 10189, 10190, 10191, 10192, 10193, 10194, 10195, 10196,\n",
       "       10197, 10198, 10199, 10200, 10201, 10202, 10203, 10204, 10205,\n",
       "       10206, 10207, 10208, 10209, 10210, 10211, 10212, 10213, 10214,\n",
       "       10215, 10216, 10217, 10218, 10219, 10220, 10221, 10222, 10223,\n",
       "       10224, 10225, 10226, 10227, 10228, 10229, 10230, 10231, 10232,\n",
       "       10233, 10234, 10235, 10236, 10237, 10238, 10239, 10240, 10241,\n",
       "       10242, 10243, 10244, 10245, 10246, 10247, 10248, 10249, 10250,\n",
       "       10251, 10252, 10253, 10254, 10255, 10256, 10257, 10258, 10259,\n",
       "       10260, 10261, 10262, 10263, 10264, 10265, 10266, 10267, 10268,\n",
       "       10269, 10270, 10271, 10272, 10273, 10274, 10275, 10276, 10277,\n",
       "       10278, 10279, 10280, 10281, 10282, 10283, 10284, 10285, 10286,\n",
       "       10287, 10288, 10289, 10290, 10291, 10292, 10293, 10294, 10295,\n",
       "       10296, 10297, 10298, 10299, 10300, 10301, 10302, 10303, 10304,\n",
       "       10305, 10306, 10307, 10308, 10309, 10310, 10311, 10312, 10313,\n",
       "       10314, 10315, 10316, 10317, 10318, 10319, 10320, 10321, 10322,\n",
       "       10323, 10324, 10325, 10326, 10327, 10328, 10329, 10330, 10331,\n",
       "       10332, 10333, 10334, 10335, 10336, 10337, 10338, 10339, 10340,\n",
       "       10341, 10342, 10343, 10344, 10345, 10346, 10347, 10348, 10349,\n",
       "       10350, 10351, 10352, 10353, 10354, 10355, 10356, 10357, 10358,\n",
       "       10359, 10360, 10361, 10362, 10363, 10364, 10365, 10366, 10367,\n",
       "       10368, 10369, 10370, 10371, 10372, 10373, 10374, 10375, 10376,\n",
       "       10377, 10378, 10379, 10380, 10381, 10382, 10383, 10384, 10385,\n",
       "       10386, 10387, 10388, 10389, 10390, 10391, 10392, 10393, 10394,\n",
       "       10395, 10396, 10397, 10398, 10399, 10400, 10401, 10402, 10403,\n",
       "       10404, 10405, 10406, 10407, 10408, 10409, 10410, 10411, 10412,\n",
       "       10413, 10414, 10415, 10416, 10417, 10418, 10419, 10420, 10421,\n",
       "       10422, 10423, 10424, 10425, 10426, 10427, 10428, 10429, 10430,\n",
       "       10431, 10432, 10433, 10434, 10435, 10436, 10437, 10438, 10439,\n",
       "       10440, 10441, 10442, 10443, 10444, 10445, 10446, 10447, 10448,\n",
       "       10449, 10450, 10451, 10452, 10453, 10454, 10455, 10456, 10457,\n",
       "       10458, 10459, 10460, 10461, 10462, 10463, 10464, 10465, 10466,\n",
       "       10467, 10468, 10469, 10470, 10471, 10472, 10473, 10474, 10475,\n",
       "       10476, 10477, 10478, 10479, 10480, 10481, 10482, 10483, 10484,\n",
       "       10485, 10486, 10487, 10488, 10489, 10490, 10491, 10492, 10493,\n",
       "       10494, 10495, 10496, 10497, 10498, 10499, 10500, 10501, 10502,\n",
       "       10503, 10504, 10505, 10506, 10507, 10508, 10509, 10510, 10511,\n",
       "       10512, 10513, 10514, 10515, 10516, 10517, 10518, 10519, 10520,\n",
       "       10521, 10522, 10523, 10524, 10525, 10526, 10527, 10528, 10529,\n",
       "       10530, 10531, 10532, 10533, 10534, 10535, 10536, 10537, 10538,\n",
       "       10539, 10540, 10541, 10542, 10543, 10544, 10545, 10546, 10547,\n",
       "       10548, 10549, 10550, 10551, 10552, 10553, 10554, 10555, 10556,\n",
       "       10557, 10558, 10559, 10560, 10561, 10562, 10563, 10564, 10565,\n",
       "       10566, 10567, 10568, 10569, 10570, 10571, 10572, 10573, 10574,\n",
       "       10575, 10576, 10577, 10578, 10579, 10580, 10581, 10582, 10583,\n",
       "       10584, 10585, 10586, 10587, 10588, 10589, 10590, 10591, 10592,\n",
       "       10593, 10594, 10595, 10596, 10597, 10598, 10599, 10600, 10601,\n",
       "       10602, 10603, 10604, 10605, 10606, 10607, 10608, 10609, 10610,\n",
       "       10611, 10612, 10613, 10614, 10615, 10616, 10617, 10618, 10619,\n",
       "       10620, 10621, 10622, 10623, 10624, 10625, 10626, 10627, 10628,\n",
       "       10629, 10630, 10631, 10632, 10633, 10634, 10635, 10636, 10637,\n",
       "       10638, 10639, 10640, 10641, 10642, 10643, 10644, 10645, 10646,\n",
       "       10647, 10648, 10649, 10650, 10651, 10652, 10653, 10654, 10655,\n",
       "       10656, 10657, 10658, 10659, 10660, 10661, 10662, 10663, 10664,\n",
       "       10665, 10666, 10667, 10668, 10669, 10670, 10671, 10672, 10673,\n",
       "       10674, 10675, 10676, 10677, 10678, 10679, 10680, 10681, 10682,\n",
       "       10683, 10684, 10685, 10686, 10687, 10688, 10689, 10690, 10691,\n",
       "       10692, 10693, 10694, 10695, 10696, 10697, 10698, 10699, 10700,\n",
       "       10701, 10702, 10703, 10704, 10705, 10706, 10707, 10708, 10709,\n",
       "       10710, 10711, 10712, 10713, 10714, 10715, 10716, 10717, 10718,\n",
       "       10719, 10720, 10721, 10722, 10723, 10724, 10725, 10726, 10727,\n",
       "       10728, 10729, 10730, 10731, 10732, 10733, 10734, 10735, 10736,\n",
       "       10737, 10738, 10739, 10740, 10741, 10742, 10743, 10744, 10745,\n",
       "       10746, 10747, 10748, 10749, 10750, 10751, 10752, 10753, 10754,\n",
       "       10755, 10756, 10757, 10758, 10759, 10760, 10761, 10762, 10763,\n",
       "       10764, 10765, 10766, 10767, 10768, 10769, 10770, 10771, 10772,\n",
       "       10773, 10774, 10775, 10776, 10777, 10778, 10779, 10780, 10781,\n",
       "       10782, 10783, 10784, 10785, 10786, 10787, 10788, 10789, 10790,\n",
       "       10791, 10792, 10793, 10794, 10795, 10796, 10797, 10798, 10799,\n",
       "       10800, 10801, 10802, 10803, 10804, 10805, 10806, 10807, 10808,\n",
       "       10809, 10810, 10811, 10812, 10813, 10814, 10815, 10816, 10817,\n",
       "       10818, 10819, 10820, 10821, 10822, 10823, 10824, 10825, 10826,\n",
       "       10827, 10828, 10829, 10830, 10831, 10832, 10833, 10834, 10835,\n",
       "       10836, 10837, 10838, 10839, 10840, 10841, 10842, 10843, 10844,\n",
       "       10845, 10846, 10847, 10848, 10849, 10850, 10851, 10852, 10853,\n",
       "       10854, 10855, 10856, 10857, 10858, 10859, 10860, 10861, 10862,\n",
       "       10863, 10864, 10865, 10866, 10867, 10868, 10869, 10870, 10871,\n",
       "       10872, 10873, 10874, 10875, 10876, 10877, 10878, 10879, 10880,\n",
       "       10881, 10882, 10883, 10884, 10885, 10886, 10887, 10888, 10889,\n",
       "       10890, 10891, 10892, 10893, 10894, 10895, 10896, 10897, 10898,\n",
       "       10899, 10900, 10901, 10902, 10903, 10904, 10905, 10906, 10907,\n",
       "       10908, 10909, 10910, 10911, 10912, 10913, 10914, 10915, 10916,\n",
       "       10917, 10918, 10919, 10920, 10921, 10922, 10923, 10924, 10925,\n",
       "       10926, 10927, 10928, 10929, 10930, 10931, 10932, 10933, 10934,\n",
       "       10935, 10936, 10937, 10938, 10939, 10940, 10941, 10942, 10943,\n",
       "       10944, 10945, 10946, 10947, 10948, 10949, 10950, 10951, 10952,\n",
       "       10953, 10954, 10955, 10956, 10957, 10958, 10959, 10960, 10961,\n",
       "       10962, 10963, 10964, 10965, 10966, 10967, 10968, 10969, 10970,\n",
       "       10971, 10972, 10973, 10974, 10975, 10976, 10977, 10978, 10979,\n",
       "       10980, 10981, 10982, 10983, 10984, 10985, 10986, 10987, 10988,\n",
       "       10989, 10990, 10991, 10992, 10993, 10994, 10995, 10996, 10997,\n",
       "       10998, 10999, 11000, 11001, 11002, 11003, 11004, 11005, 11006,\n",
       "       11007, 11008, 11009, 11010, 11011, 11012, 11013, 11014, 11015,\n",
       "       11016, 11017, 11018, 11019, 11020, 11021, 11022, 11023, 11024,\n",
       "       11025, 11026, 11027, 11028, 11029, 11030, 11031, 11032, 11033,\n",
       "       11034, 11035, 11036, 11037, 11038, 11039, 11040, 11041, 11042,\n",
       "       11043, 11044, 11045, 11046, 11047, 11048, 11049, 11050, 11051,\n",
       "       11052, 11053, 11054, 11055, 11056, 11057, 11058, 11059, 11060,\n",
       "       11061, 11062, 11063, 11064, 11065, 11066, 11067, 11068, 11069,\n",
       "       11070, 11071, 11072, 11073, 11074, 11075, 11076, 11077, 11078,\n",
       "       11079, 11080, 11081, 11082, 11083, 11084, 11085, 11086, 11087,\n",
       "       11088, 11089, 11090, 11091, 11092, 11093, 11094, 11095, 11096,\n",
       "       11097, 11098, 11099, 11100, 11101, 11102, 11103, 11104, 11105,\n",
       "       11106, 11107, 11108, 11109, 11110, 11111, 11112, 11113, 11114,\n",
       "       11115, 11116, 11117, 11118, 11119, 11120, 11121, 11122, 11123,\n",
       "       11124, 11125, 11126, 11127, 11128, 11129, 11130, 11131, 11132,\n",
       "       11133, 11134, 11135, 11136, 11137, 11138, 11139, 11140, 11141,\n",
       "       11142, 11143, 11144, 11145, 11146, 11147, 11148, 11149, 11150,\n",
       "       11151, 11152, 11153, 11154, 11155, 11156, 11157, 11158, 11159,\n",
       "       11160, 11161, 11162, 11163, 11164, 11165, 11166, 11167, 11168,\n",
       "       11169, 11170, 11171, 11172, 11173, 11174, 11175, 11176, 11177,\n",
       "       11178, 11179, 11180, 11181, 11182, 11183, 11184, 11185, 11186,\n",
       "       11187, 11188, 11189, 11190, 11191, 11192, 11193, 11194, 11195,\n",
       "       11196, 11197, 11198, 11199, 11200, 11201, 11202, 11203, 11204,\n",
       "       11205, 11206, 11207, 11208, 11209, 11210, 11211, 11212, 11213,\n",
       "       11214, 11215, 11216, 11217, 11218, 11219, 11220, 11221, 11222,\n",
       "       11223, 11224, 11225, 11226, 11227, 11228, 11229, 11230, 11231,\n",
       "       11232, 11233, 11234, 11235, 11236, 11237, 11238, 11239, 11240,\n",
       "       11241, 11242, 11243, 11244, 11245, 11246, 11247, 11248, 11249,\n",
       "       11250, 11251, 11252, 11253, 11254, 11255, 11256, 11257, 11258,\n",
       "       11259, 11260, 11261, 11262, 11263, 11264, 11265, 11266, 11267,\n",
       "       11268, 11269, 11270, 11271, 11272, 11273, 11274, 11275, 11276,\n",
       "       11277, 11278, 11279, 11280, 11281, 11282, 11283, 11284, 11285,\n",
       "       11286, 11287, 11288, 11289, 11290, 11291, 11292, 11293, 11294,\n",
       "       11295, 11296, 11297, 11298, 11299, 11300, 11301, 11302, 11303,\n",
       "       11304, 11305, 11306, 11307, 11308, 11309, 11310, 11311, 11312,\n",
       "       11313, 11314, 11315, 11316, 11317, 11318, 11319, 11320, 11321,\n",
       "       11322, 11323, 11324, 11325, 11326, 11327, 11328, 11329, 11330,\n",
       "       11331, 11332, 11333, 11334, 11335, 11336, 11337, 11338, 11339,\n",
       "       11340, 11341, 11342, 11343, 11344, 11345, 11346, 11347, 11348,\n",
       "       11349, 11350, 11351, 11352, 11353, 11354, 11355, 11356, 11357,\n",
       "       11358, 11359, 11360, 11361, 11362, 11363, 11364, 11365, 11366,\n",
       "       11367, 11368, 11369, 11370, 11371, 11372, 11373, 11374, 11375,\n",
       "       11376, 11377, 11378, 11379, 11380, 11381, 11382, 11383, 11384,\n",
       "       11385, 11386, 11387, 11388, 11389, 11390, 11391, 11392, 11393,\n",
       "       11394, 11395, 11396, 11397, 11398, 11399, 11400, 11401, 11402,\n",
       "       11403, 11404, 11405, 11406, 11407, 11408, 11409, 11410, 11411,\n",
       "       11412, 11413, 11414, 11415, 11416, 11417, 11418, 11419, 11420,\n",
       "       11421, 11422, 11423, 11424, 11425, 11426, 11427, 11428, 11429,\n",
       "       11430, 11431, 11432, 11433, 11434, 11435, 11436, 11437, 11438,\n",
       "       11439, 11440, 11441, 11442, 11443, 11444, 11445, 11446, 11447,\n",
       "       11448, 11449, 11450, 11451, 11452, 11453, 11454, 11455, 11456,\n",
       "       11457, 11458, 11459, 11460, 11461, 11462, 11463, 11464, 11465,\n",
       "       11466, 11467, 11468, 11469, 11470, 11471, 11472, 11473, 11474,\n",
       "       11475, 11476, 11477, 11478, 11479, 11480, 11481, 11482, 11483,\n",
       "       11484, 11485, 11486, 11487, 11488, 11489, 11490, 11491, 11492,\n",
       "       11493, 11494, 11495, 11496, 11497, 11498, 11499, 11500, 11501,\n",
       "       11502, 11503, 11504, 11505, 11506, 11507, 11508, 11509, 11510,\n",
       "       11511, 11512, 11513, 11514, 11515, 11516, 11517, 11518, 11519,\n",
       "       11520, 11521, 11522, 11523, 11524, 11525, 11526, 11527, 11528,\n",
       "       11529, 11530, 11531, 11532, 11533, 11534, 11535, 11536, 11537,\n",
       "       11538, 11539, 11540, 11541, 11542, 11543, 11544, 11545, 11546,\n",
       "       11547, 11548, 11549, 11550, 11551, 11552, 11553, 11554, 11555,\n",
       "       11556, 11557, 11558, 11559, 11560, 11561, 11562, 11563, 11564,\n",
       "       11565, 11566, 11567, 11568, 11569, 11570, 11571, 11572, 11573,\n",
       "       11574, 11575, 11576, 11577, 11578, 11579, 11580, 11581, 11582,\n",
       "       11583, 11584, 11585, 11586, 11587, 11588, 11589, 11590, 11591,\n",
       "       11592, 11593, 11594, 11595, 11596, 11597, 11598, 11599, 11600,\n",
       "       11601, 11602, 11603, 11604, 11605, 11606, 11607, 11608, 11609,\n",
       "       11610, 11611, 11612, 11613, 11614, 11615, 11616, 11617, 11618,\n",
       "       11619, 11620, 11621, 11622, 11623, 11624, 11625, 11626, 11627,\n",
       "       11628, 11629, 11630, 11631, 11632, 11633, 11634, 11635, 11636,\n",
       "       11637, 11638, 11639, 11640, 11641, 11642, 11643, 11644, 11645,\n",
       "       11646, 11647, 11648, 11649, 11650, 11651, 11652, 11653, 11654,\n",
       "       11655, 11656, 11657, 11658, 11659, 11660, 11661, 11662, 11663,\n",
       "       11664, 11665, 11666, 11667, 11668, 11669, 11670, 11671, 11672,\n",
       "       11673, 11674, 11675, 11676, 11677, 11678, 11679, 11680, 11681,\n",
       "       11682, 11683, 11684, 11685, 11686, 11687, 11688, 11689, 11690,\n",
       "       11691, 11692, 11693, 11694, 11695, 11696, 11697, 11698, 11699,\n",
       "       11700, 11701, 11702, 11703, 11704, 11705, 11706, 11707, 11708,\n",
       "       11709, 11710, 11711, 11712, 11713, 11714, 11715, 11716, 11717,\n",
       "       11718, 11719, 11720, 11721, 11722, 11723, 11724, 11725, 11726,\n",
       "       11727, 11728, 11729, 11730, 11731, 11732, 11733, 11734, 11735,\n",
       "       11736, 11737, 11738, 11739, 11740, 11741, 11742, 11743, 11744,\n",
       "       11745, 11746, 11747, 11748, 11749, 11750, 11751, 11752, 11753,\n",
       "       11754, 11755, 11756, 11757, 11758, 11759, 11760, 11761, 11762,\n",
       "       11763, 11764, 11765, 11766, 11767, 11768, 11769, 11770, 11771,\n",
       "       11772, 11773, 11774, 11775, 11776, 11777, 11778, 11779, 11780,\n",
       "       11781, 11782, 11783, 11784, 11785, 11786, 11787, 11788, 11789,\n",
       "       11790, 11791, 11792, 11793, 11794, 11795, 11796, 11797, 11798,\n",
       "       11799, 11800, 11801, 11802, 11803, 11804, 11805, 11806, 11807,\n",
       "       11808, 11809, 11810, 11811, 11812, 11813, 11814, 11815, 11816,\n",
       "       11817, 11818, 11819, 11820, 11821, 11822, 11823, 11824, 11825,\n",
       "       11826, 11827, 11828, 11829, 11830, 11831, 11832, 11833, 11834,\n",
       "       11835, 11836, 11837, 11838, 11839, 11840, 11841, 11842, 11843,\n",
       "       11844, 11845, 11846, 11847, 11848, 11849, 11850, 11851, 11852,\n",
       "       11853, 11854, 11855, 11856, 11857, 11858, 11859, 11860, 11861,\n",
       "       11862, 11863, 11864, 11865, 11866, 11867, 11868, 11869, 11870,\n",
       "       11871, 11872, 11873, 11874, 11875, 11876, 11877, 11878, 11879,\n",
       "       11880, 11881, 11882, 11883, 11884, 11885, 11886, 11887, 11888,\n",
       "       11889, 11890, 11891, 11892, 11893, 11894, 11895, 11896, 11897,\n",
       "       11898, 11899, 11900, 11901, 11902, 11903, 11904, 11905, 11906,\n",
       "       11907, 11908, 11909, 11910, 11911, 11912, 11913, 11914, 11915,\n",
       "       11916, 11917, 11918, 11919, 11920, 11921, 11922, 11923, 11924,\n",
       "       11925, 11926, 11927, 11928, 11929, 11930, 11931, 11932, 11933,\n",
       "       11934, 11935, 11936, 11937, 11938, 11939, 11940, 11941, 11942,\n",
       "       11943, 11944, 11945, 11946, 11947, 11948, 11949, 11950, 11951,\n",
       "       11952, 11953, 11954, 11955, 11956, 11957, 11958, 11959, 11960,\n",
       "       11961, 11962, 11963, 11964, 11965, 11966, 11967, 11968, 11969,\n",
       "       11970, 11971, 11972, 11973, 11974, 11975, 11976, 11977, 11978,\n",
       "       11979, 11980, 11981, 11982, 11983, 11984, 11985, 11986, 11987,\n",
       "       11988, 11989, 11990, 11991, 11992, 11993, 11994, 11995, 11996,\n",
       "       11997, 11998, 11999, 12000, 12001, 12002, 12003, 12004, 12005,\n",
       "       12006, 12007, 12008, 12009, 12010, 12011, 12012, 12013, 12014,\n",
       "       12015, 12016, 12017, 12018, 12019, 12020, 12021, 12022, 12023,\n",
       "       12024, 12025, 12026, 12027, 12028, 12029, 12030, 12031, 12032,\n",
       "       12033, 12034, 12035, 12036, 12037, 12038, 12039, 12040, 12041,\n",
       "       12042, 12043, 12044, 12045, 12046, 12047, 12048, 12049, 12050,\n",
       "       12051, 12052, 12053, 12054, 12055, 12056, 12057, 12058, 12059,\n",
       "       12060, 12061, 12062, 12063, 12064, 12065, 12066, 12067, 12068,\n",
       "       12069, 12070, 12071, 12072, 12073, 12074, 12075, 12076, 12077,\n",
       "       12078, 12079, 12080, 12081, 12082, 12083, 12084, 12085, 12086,\n",
       "       12087, 12088, 12089, 12090, 12091, 12092, 12093, 12094, 12095,\n",
       "       12096, 12097, 12098, 12099, 12100, 12101, 12102, 12103, 12104,\n",
       "       12105, 12106, 12107, 12108, 12109, 12110, 12111, 12112, 12113,\n",
       "       12114, 12115, 12116, 12117, 12118, 12119, 12120, 12121, 12122,\n",
       "       12123, 12124, 12125, 12126, 12127, 12128, 12129, 12130, 12131,\n",
       "       12132, 12133, 12134, 12135, 12136, 12137, 12138, 12139, 12140,\n",
       "       12141, 12142, 12143, 12144, 12145, 12146, 12147, 12148, 12149,\n",
       "       12150, 12151, 12152, 12153, 12154, 12155, 12156, 12157, 12158,\n",
       "       12159, 12160, 12161, 12162, 12163, 12164, 12165, 12166, 12167,\n",
       "       12168, 12169, 12170, 12171, 12172, 12173, 12174, 12175, 12176,\n",
       "       12177, 12178, 12179, 12180, 12181, 12182, 12183, 12184, 12185,\n",
       "       12186, 12187, 12188, 12189, 12190, 12191, 12192, 12193, 12194,\n",
       "       12195, 12196, 12197, 12198, 12199, 12200, 12201, 12202, 12203,\n",
       "       12204, 12205, 12206, 12207, 12208, 12209, 12210, 12211, 12212,\n",
       "       12213, 12214, 12215, 12216, 12217, 12218, 12219, 12220, 12221,\n",
       "       12222, 12223, 12224, 12225, 12226, 12227, 12228, 12229, 12230,\n",
       "       12231, 12232, 12233, 12234, 12235, 12236, 12237, 12238, 12239,\n",
       "       12240, 12241, 12242, 12243, 12244, 12245, 12246, 12247, 12248,\n",
       "       12249, 12250, 12251, 12252, 12253, 12254, 12255, 12256, 12257,\n",
       "       12258, 12259, 12260, 12261, 12262, 12263, 12264, 12265, 12266,\n",
       "       12267, 12268, 12269, 12270, 12271, 12272, 12273, 12274, 12275,\n",
       "       12276, 12277, 12278, 12279, 12280, 12281, 12282, 12283, 12284,\n",
       "       12285, 12286, 12287, 12288, 12289, 12290, 12291, 12292, 12293,\n",
       "       12294, 12295, 12296, 12297, 12298, 12299, 12300, 12301, 12302,\n",
       "       12303, 12304, 12305, 12306, 12307, 12308, 12309, 12310, 12311,\n",
       "       12312, 12313, 12314, 12315, 12316, 12317, 12318, 12319, 12320,\n",
       "       12321, 12322, 12323, 12324, 12325, 12326, 12327, 12328, 12329,\n",
       "       12330, 12331, 12332, 12333, 12334, 12335, 12336, 12337, 12338,\n",
       "       12339, 12340, 12341, 12342, 12343, 12344, 12345, 12346, 12347,\n",
       "       12348, 12349, 12350, 12351, 12352, 12353, 12354, 12355, 12356,\n",
       "       12357, 12358, 12359, 12360, 12361, 12362, 12363, 12364, 12365,\n",
       "       12366, 12367, 12368, 12369, 12370, 12371, 12372, 12373, 12374,\n",
       "       12375, 12376, 12377, 12378, 12379, 12380, 12381, 12382, 12383,\n",
       "       12384, 12385, 12386, 12387, 12388, 12389, 12390, 12391, 12392,\n",
       "       12393, 12394, 12395, 12396, 12397, 12398, 12399, 12400, 12401,\n",
       "       12402, 12403, 12404, 12405, 12406, 12407, 12408, 12409, 12410,\n",
       "       12411, 12412, 12413, 12414, 12415, 12416, 12417, 12418, 12419,\n",
       "       12420, 12421, 12422, 12423, 12424, 12425, 12426, 12427, 12428,\n",
       "       12429, 12430, 12431, 12432, 12433, 12434, 12435, 12436, 12437,\n",
       "       12438, 12439, 12440, 12441, 12442, 12443, 12444, 12445, 12446,\n",
       "       12447, 12448, 12449, 12450, 12451, 12452, 12453, 12454, 12455,\n",
       "       12456, 12457, 12458, 12459, 12460, 12461, 12462, 12463, 12464,\n",
       "       12465, 12466, 12467, 12468, 12469, 12470, 12471, 12472, 12473,\n",
       "       12474, 12475, 12476, 12477, 12478, 12479, 12480, 12481, 12482,\n",
       "       12483, 12484, 12485, 12486, 12487, 12488, 12489, 12490, 12491,\n",
       "       12492, 12493, 12494, 12495, 12496, 12497, 12498, 12499, 12500,\n",
       "       12501, 12502, 12503, 12504, 12505, 12506, 12507, 12508, 12509,\n",
       "       12510, 12511, 12512, 12513, 12514, 12515, 12516, 12517, 12518,\n",
       "       12519, 12520, 12521, 12522, 12523, 12524, 12525, 12526, 12527,\n",
       "       12528, 12529, 12530, 12531, 12532, 12533, 12534, 12535, 12536,\n",
       "       12537, 12538, 12539, 12540, 12541, 12542, 12543, 12544, 12545,\n",
       "       12546, 12547, 12548, 12549, 12550, 12551, 12552, 12553, 12554,\n",
       "       12555, 12556, 12557, 12558, 12559, 12560, 12561, 12562, 12563,\n",
       "       12564, 12565, 12566, 12567, 12568, 12569, 12570, 12571, 12572,\n",
       "       12573, 12574, 12575, 12576, 12577, 12578, 12579, 12580, 12581,\n",
       "       12582, 12583, 12584, 12585, 12586, 12587, 12588, 12589, 12590,\n",
       "       12591, 12592, 12593, 12594, 12595, 12596, 12597, 12598, 12599,\n",
       "       12600, 12601, 12602, 12603, 12604, 12605, 12606, 12607, 12608,\n",
       "       12609, 12610, 12611, 12612, 12613, 12614, 12615, 12616, 12617,\n",
       "       12618, 12619, 12620, 12621, 12622, 12623, 12624, 12625, 12626,\n",
       "       12627, 12628, 12629, 12630, 12631, 12632, 12633, 12634, 12635,\n",
       "       12636, 12637, 12638, 12639, 12640, 12641, 12642, 12643, 12644,\n",
       "       12645, 12646, 12647, 12648, 12649, 12650, 12651, 12652, 12653,\n",
       "       12654, 12655, 12656, 12657, 12658, 12659, 12660, 12661, 12662,\n",
       "       12663, 12664, 12665, 12666, 12667, 12668, 12669, 12670, 12671,\n",
       "       12672, 12673, 12674, 12675, 12676, 12677, 12678, 12679, 12680,\n",
       "       12681, 12682, 12683, 12684, 12685, 12686, 12687, 12688, 12689,\n",
       "       12690, 12691, 12692, 12693, 12694, 12695, 12696, 12697, 12698,\n",
       "       12699, 12700, 12701, 12702, 12703, 12704, 12705, 12706, 12707,\n",
       "       12708, 12709, 12710, 12711, 12712, 12713, 12714, 12715, 12716,\n",
       "       12717, 12718, 12719, 12720, 12721, 12722, 12723, 12724, 12725,\n",
       "       12726, 12727, 12728, 12729, 12730, 12731, 12732, 12733, 12734,\n",
       "       12735, 12736, 12737, 12738, 12739, 12740, 12741, 12742, 12743,\n",
       "       12744, 12745, 12746, 12747, 12748, 12749, 12750, 12751, 12752,\n",
       "       12753, 12754, 12755, 12756, 12757, 12758, 12759, 12760, 12761,\n",
       "       12762, 12763, 12764, 12765, 12766, 12767, 12768, 12769, 12770,\n",
       "       12771, 12772, 12773, 12774, 12775, 12776, 12777, 12778, 12779,\n",
       "       12780, 12781, 12782, 12783, 12784, 12785, 12786, 12787, 12788,\n",
       "       12789, 12790, 12791, 12792, 12793, 12794, 12795, 12796, 12797,\n",
       "       12798, 12799, 12800, 12801, 12802, 12803, 12804, 12805, 12806,\n",
       "       12807, 12808, 12809, 12810, 12811, 12812, 12813, 12814, 12815,\n",
       "       12816, 12817, 12818, 12819, 12820, 12821, 12822, 12823, 12824,\n",
       "       12825, 12826, 12827, 12828, 12829, 12830, 12831, 12832, 12833,\n",
       "       12834, 12835, 12836, 12837, 12838, 12839, 12840, 12841, 12842,\n",
       "       12843, 12844, 12845, 12846, 12847, 12848, 12849, 12850, 12851,\n",
       "       12852, 12853, 12854, 12855, 12856, 12857, 12858, 12859, 12860,\n",
       "       12861, 12862, 12863, 12864, 12865, 12866, 12867, 12868, 12869,\n",
       "       12870, 12871, 12872, 12873, 12874, 12875, 12876, 12877, 12878,\n",
       "       12879, 12880, 12881, 12882, 12883, 12884, 12885, 12886, 12887,\n",
       "       12888, 12889, 12890, 12891, 12892, 12893, 12894, 12895, 12896,\n",
       "       12897, 12898, 12899, 12900, 12901, 12902, 12903, 12904, 12905,\n",
       "       12906, 12907, 12908, 12909, 12910, 12911, 12912, 12913, 12914,\n",
       "       12915, 12916, 12917, 12918, 12919, 12920, 12921, 12922, 12923,\n",
       "       12924, 12925, 12926, 12927, 12928, 12929, 12930, 12931, 12932,\n",
       "       12933, 12934, 12935, 12936, 12937, 12938, 12939, 12940, 12941,\n",
       "       12942, 12943, 12944, 12945, 12946, 12947, 12948, 12949, 12950,\n",
       "       12951, 12952, 12953, 12954, 12955, 12956, 12957, 12958, 12959,\n",
       "       12960, 12961, 12962, 12963, 12964, 12965, 12966, 12967, 12968,\n",
       "       12969, 12970, 12971, 12972, 12973, 12974, 12975, 12976, 12977,\n",
       "       12978, 12979, 12980, 12981, 12982, 12983, 12984, 12985, 12986,\n",
       "       12987, 12988, 12989, 12990, 12991, 12992, 12993, 12994, 12995,\n",
       "       12996, 12997, 12998, 12999, 13000, 13001, 13002, 13003, 13004,\n",
       "       13005, 13006, 13007, 13008, 13009, 13010, 13011, 13012, 13013,\n",
       "       13014, 13015, 13016, 13017, 13018, 13019, 13020, 13021, 13022,\n",
       "       13023, 13024, 13025, 13026, 13027, 13028, 13029, 13030, 13031,\n",
       "       13032, 13033, 13034, 13035, 13036, 13037, 13038, 13039, 13040,\n",
       "       13041, 13042, 13043, 13044, 13045, 13046, 13047, 13048, 13049,\n",
       "       13050, 13051, 13052, 13053, 13054, 13055, 13056, 13057, 13058,\n",
       "       13059, 13060, 13061, 13062, 13063, 13064, 13065, 13066, 13067,\n",
       "       13068, 13069, 13070, 13071, 13072, 13073, 13074, 13075, 13076,\n",
       "       13077, 13078, 13079, 13080, 13081, 13082, 13083, 13084, 13085,\n",
       "       13086, 13087, 13088, 13089, 13090, 13091, 13092, 13093, 13094,\n",
       "       13095, 13096, 13097, 13098, 13099, 13100, 13101, 13102, 13103,\n",
       "       13104, 13105, 13106, 13107, 13108, 13109, 13110, 13111, 13112,\n",
       "       13113, 13114, 13115, 13116, 13117, 13118, 13119, 13120, 13121,\n",
       "       13122, 13123, 13124, 13125, 13126, 13127, 13128, 13129, 13130,\n",
       "       13131, 13132, 13133, 13134, 13135, 13136, 13137, 13138, 13139,\n",
       "       13140, 13141, 13142, 13143, 13144, 13145, 13146, 13147, 13148,\n",
       "       13149, 13150, 13151, 13152, 13153, 13154, 13155, 13156, 13157,\n",
       "       13158, 13159, 13160, 13161, 13162, 13163, 13164, 13165, 13166,\n",
       "       13167, 13168, 13169, 13170, 13171, 13172, 13173, 13174, 13175,\n",
       "       13176, 13177, 13178, 13179, 13180, 13181, 13182, 13183, 13184,\n",
       "       13185, 13186, 13187, 13188, 13189, 13190, 13191, 13192, 13193,\n",
       "       13194, 13195, 13196, 13197, 13198, 13199, 13200, 13201, 13202,\n",
       "       13203, 13204, 13205, 13206, 13207, 13208, 13209, 13210, 13211,\n",
       "       13212, 13213, 13214, 13215, 13216, 13217, 13218, 13219, 13220,\n",
       "       13221, 13222, 13223, 13224, 13225, 13226, 13227, 13228, 13229,\n",
       "       13230, 13231, 13232, 13233, 13234, 13235, 13236, 13237, 13238,\n",
       "       13239, 13240, 13241, 13242, 13243, 13244, 13245, 13246, 13247,\n",
       "       13248, 13249, 13250, 13251, 13252, 13253, 13254, 13255, 13256,\n",
       "       13257, 13258, 13259, 13260, 13261, 13262, 13263, 13264, 13265,\n",
       "       13266, 13267, 13268, 13269, 13270, 13271, 13272, 13273, 13274,\n",
       "       13275, 13276, 13277, 13278, 13279, 13280, 13281, 13282, 13283,\n",
       "       13284, 13285, 13286, 13287, 13288, 13289, 13290, 13291, 13292,\n",
       "       13293, 13294, 13295, 13296, 13297, 13298, 13299, 13300, 13301,\n",
       "       13302, 13303, 13304, 13305, 13306, 13307, 13308, 13309, 13310,\n",
       "       13311, 13312, 13313, 13314, 13315, 13316, 13317, 13318, 13319,\n",
       "       13320, 13321, 13322, 13323, 13324, 13325, 13326, 13327, 13328,\n",
       "       13329, 13330, 13331, 13332, 13333, 13334, 13335, 13336, 13337,\n",
       "       13338, 13339, 13340, 13341, 13342, 13343, 13344, 13345, 13346,\n",
       "       13347, 13348, 13349, 13350, 13351, 13352, 13353, 13354, 13355,\n",
       "       13356, 13357, 13358, 13359, 13360, 13361, 13362, 13363, 13364,\n",
       "       13365, 13366, 13367, 13368, 13369, 13370, 13371, 13372, 13373,\n",
       "       13374, 13375, 13376, 13377, 13378, 13379, 13380, 13381, 13382,\n",
       "       13383, 13384, 13385, 13386, 13387, 13388, 13389, 13390, 13391,\n",
       "       13392, 13393, 13394, 13395, 13396, 13397, 13398, 13399, 13400,\n",
       "       13401, 13402, 13403, 13404, 13405, 13406, 13407, 13408, 13409,\n",
       "       13410, 13411, 13412, 13413, 13414, 13415, 13416, 13417, 13418,\n",
       "       13419, 13420, 13421, 13422, 13423, 13424, 13425, 13426, 13427,\n",
       "       13428, 13429, 13430, 13431, 13432, 13433, 13434, 13435, 13436,\n",
       "       13437, 13438, 13439, 13440, 13441, 13442, 13443, 13444, 13445,\n",
       "       13446, 13447, 13448, 13449, 13450, 13451, 13452, 13453, 13454,\n",
       "       13455, 13456, 13457, 13458, 13459, 13460, 13461, 13462, 13463,\n",
       "       13464, 13465, 13466, 13467, 13468, 13469, 13470, 13471, 13472,\n",
       "       13473, 13474, 13475, 13476, 13477, 13478, 13479, 13480, 13481,\n",
       "       13482, 13483, 13484, 13485, 13486, 13487, 13488, 13489, 13490,\n",
       "       13491, 13492, 13493, 13494, 13495, 13496, 13497, 13498, 13499,\n",
       "       13500, 13501, 13502, 13503, 13504, 13505, 13506, 13507, 13508,\n",
       "       13509, 13510, 13511, 13512, 13513, 13514, 13515, 13516, 13517,\n",
       "       13518, 13519, 13520, 13521, 13522, 13523, 13524, 13525, 13526,\n",
       "       13527, 13528, 13529, 13530, 13531, 13532, 13533, 13534, 13535,\n",
       "       13536, 13537, 13538, 13539, 13540, 13541, 13542, 13543, 13544,\n",
       "       13545, 13546, 13547, 13548, 13549, 13550, 13551, 13552, 13553,\n",
       "       13554, 13555, 13556, 13557, 13558, 13559, 13560, 13561, 13562,\n",
       "       13563, 13564, 13565, 13566, 13567, 13568, 13569, 13570, 13571,\n",
       "       13572, 13573, 13574, 13575, 13576, 13577, 13578, 13579, 13580,\n",
       "       13581, 13582, 13583, 13584, 13585, 13586, 13587, 13588, 13589,\n",
       "       13590, 13591, 13592, 13593, 13594, 13595, 13596, 13597, 13598,\n",
       "       13599, 13600, 13601, 13602, 13603, 13604, 13605, 13606, 13607,\n",
       "       13608, 13609, 13610, 13611, 13612, 13613, 13614, 13615, 13616,\n",
       "       13617, 13618, 13619, 13620, 13621, 13622, 13623, 13624, 13625,\n",
       "       13626, 13627, 13628, 13629, 13630, 13631, 13632, 13633, 13634,\n",
       "       13635, 13636, 13637, 13638, 13639, 13640, 13641, 13642, 13643,\n",
       "       13644, 13645, 13646, 13647, 13648, 13649, 13650, 13651, 13652,\n",
       "       13653, 13654, 13655, 13656, 13657, 13658, 13659, 13660, 13661,\n",
       "       13662, 13663, 13664, 13665, 13666, 13667, 13668, 13669, 13670,\n",
       "       13671, 13672, 13673, 13674, 13675, 13676, 13677, 13678, 13679,\n",
       "       13680, 13681, 13682, 13683, 13684, 13685, 13686, 13687, 13688,\n",
       "       13689, 13690, 13691, 13692, 13693, 13694, 13695, 13696, 13697,\n",
       "       13698, 13699, 13700, 13701, 13702, 13703, 13704, 13705, 13706,\n",
       "       13707, 13708, 13709, 13710, 13711, 13712, 13713, 13714, 13715,\n",
       "       13716, 13717, 13718, 13719, 13720, 13721, 13722, 13723, 13724,\n",
       "       13725, 13726, 13727, 13728, 13729, 13730, 13731, 13732, 13733,\n",
       "       13734, 13735, 13736, 13737, 13738, 13739, 13740, 13741, 13742,\n",
       "       13743, 13744, 13745, 13746, 13747, 13748, 13749, 13750, 13751,\n",
       "       13752, 13753, 13754, 13755, 13756, 13757, 13758, 13759, 13760,\n",
       "       13761, 13762, 13763, 13764, 13765, 13766, 13767, 13768, 13769,\n",
       "       13770, 13771, 13772, 13773, 13774, 13775, 13776, 13777, 13778,\n",
       "       13779, 13780, 13781, 13782, 13783, 13784, 13785, 13786, 13787,\n",
       "       13788, 13789, 13790, 13791, 13792, 13793, 13794, 13795, 13796,\n",
       "       13797, 13798, 13799, 13800, 13801, 13802, 13803, 13804, 13805,\n",
       "       13806, 13807, 13808, 13809, 13810, 13811, 13812, 13813, 13814,\n",
       "       13815, 13816, 13817, 13818, 13819, 13820, 13821, 13822, 13823,\n",
       "       13824, 13825, 13826, 13827, 13828, 13829, 13830, 13831, 13832,\n",
       "       13833, 13834, 13835, 13836, 13837, 13838, 13839, 13840, 13841,\n",
       "       13842, 13843, 13844, 13845, 13846, 13847, 13848, 13849, 13850,\n",
       "       13851, 13852, 13853, 13854, 13855, 13856, 13857, 13858, 13859,\n",
       "       13860, 13861, 13862, 13863, 13864, 13865, 13866, 13867, 13868,\n",
       "       13869, 13870, 13871, 13872, 13873, 13874, 13875, 13876, 13877,\n",
       "       13878, 13879, 13880, 13881, 13882, 13883, 13884, 13885, 13886,\n",
       "       13887, 13888, 13889, 13890, 13891, 13892, 13893, 13894, 13895,\n",
       "       13896, 13897, 13898, 13899, 13900, 13901, 13902, 13903, 13904,\n",
       "       13905, 13906, 13907, 13908, 13909, 13910, 13911, 13912, 13913,\n",
       "       13914, 13915, 13916, 13917, 13918, 13919, 13920, 13921, 13922,\n",
       "       13923, 13924, 13925, 13926, 13927, 13928, 13929, 13930, 13931,\n",
       "       13932, 13933, 13934, 13935, 13936, 13937, 13938, 13939, 13940,\n",
       "       13941, 13942, 13943, 13944, 13945, 13946, 13947, 13948, 13949,\n",
       "       13950, 13951, 13952, 13953, 13954, 13955, 13956, 13957, 13958,\n",
       "       13959, 13960, 13961, 13962, 13963, 13964, 13965, 13966, 13967,\n",
       "       13968, 13969, 13970, 13971, 13972, 13973, 13974, 13975, 13976,\n",
       "       13977, 13978, 13979, 13980, 13981, 13982, 13983, 13984, 13985,\n",
       "       13986, 13987, 13988, 13989, 13990, 13991, 13992, 13993, 13994,\n",
       "       13995, 13996, 13997, 13998, 13999, 14000, 14001, 14002, 14003,\n",
       "       14004, 14005, 14006, 14007, 14008, 14009, 14010, 14011, 14012,\n",
       "       14013, 14014, 14015, 14016, 14017, 14018, 14019, 14020, 14021,\n",
       "       14022, 14023, 14024, 14025, 14026, 14027, 14028, 14029, 14030,\n",
       "       14031, 14032, 14033, 14034, 14035, 14036, 14037, 14038, 14039,\n",
       "       14040, 14041, 14042, 14043, 14044, 14045, 14046, 14047, 14048,\n",
       "       14049, 14050, 14051, 14052, 14053, 14054, 14055, 14056, 14057,\n",
       "       14058, 14059, 14060, 14061, 14062, 14063, 14064, 14065, 14066,\n",
       "       14067, 14068, 14069, 14070, 14071, 14072, 14073, 14074, 14075,\n",
       "       14076, 14077, 14078, 14079, 14080, 14081, 14082, 14083, 14084,\n",
       "       14085, 14086, 14087, 14088, 14089, 14090, 14091, 14092, 14093,\n",
       "       14094, 14095, 14096, 14097, 14098, 14099, 14100, 14101, 14102,\n",
       "       14103, 14104, 14105, 14106, 14107, 14108, 14109, 14110, 14111,\n",
       "       14112, 14113, 14114, 14115, 14116, 14117, 14118, 14119, 14120,\n",
       "       14121, 14122, 14123, 14124, 14125, 14126, 14127, 14128, 14129,\n",
       "       14130, 14131, 14132, 14133, 14134, 14135, 14136, 14137, 14138,\n",
       "       14139, 14140, 14141, 14142, 14143, 14144, 14145, 14146, 14147,\n",
       "       14148, 14149, 14150, 14151, 14152, 14153, 14154, 14155, 14156,\n",
       "       14157, 14158, 14159, 14160, 14161, 14162, 14163, 14164, 14165,\n",
       "       14166, 14167, 14168, 14169, 14170, 14171, 14172, 14173, 14174,\n",
       "       14175, 14176, 14177, 14178, 14179, 14180, 14181, 14182, 14183,\n",
       "       14184, 14185, 14186, 14187, 14188, 14189, 14190, 14191, 14192,\n",
       "       14193, 14194, 14195, 14196, 14197, 14198, 14199, 14200, 14201,\n",
       "       14202, 14203, 14204, 14205, 14206, 14207, 14208, 14209, 14210,\n",
       "       14211, 14212, 14213, 14214, 14215, 14216, 14217, 14218, 14219,\n",
       "       14220, 14221, 14222, 14223, 14224, 14225, 14226, 14227, 14228,\n",
       "       14229, 14230, 14231, 14232, 14233, 14234, 14235, 14236, 14237,\n",
       "       14238, 14239, 14240, 14241, 14242, 14243, 14244, 14245, 14246,\n",
       "       14247, 14248, 14249, 14250, 14251, 14252, 14253, 14254, 14255,\n",
       "       14256, 14257, 14258, 14259, 14260, 14261, 14262, 14263, 14264,\n",
       "       14265, 14266, 14267, 14268, 14269, 14270, 14271, 14272, 14273,\n",
       "       14274, 14275, 14276, 14277, 14278, 14279, 14280, 14281, 14282,\n",
       "       14283, 14284, 14285, 14286, 14287, 14288, 14289, 14290, 14291,\n",
       "       14292, 14293, 14294, 14295, 14296, 14297, 14298, 14299, 14300,\n",
       "       14301, 14302, 14303, 14304, 14305, 14306, 14307, 14308, 14309,\n",
       "       14310, 14311, 14312, 14313, 14314, 14315, 14316, 14317, 14318,\n",
       "       14319, 14320, 14321, 14322, 14323, 14324, 14325, 14326, 14327,\n",
       "       14328, 14329, 14330, 14331, 14332, 14333, 14334, 14335, 14336,\n",
       "       14337, 14338, 14339, 14340, 14341, 14342, 14343, 14344, 14345,\n",
       "       14346, 14347, 14348, 14349, 14350, 14351, 14352, 14353, 14354,\n",
       "       14355, 14356, 14357, 14358, 14359, 14360, 14361, 14362, 14363,\n",
       "       14364, 14365, 14366, 14367, 14368, 14369, 14370, 14371, 14372,\n",
       "       14373, 14374, 14375, 14376, 14377, 14378, 14379, 14380, 14381,\n",
       "       14382, 14383, 14384, 14385, 14386, 14387, 14388, 14389, 14390,\n",
       "       14391, 14392, 14393, 14394, 14395, 14396, 14397, 14398, 14399,\n",
       "       14400, 14401, 14402, 14403, 14404, 14405, 14406, 14407, 14408,\n",
       "       14409, 14410, 14411, 14412, 14413, 14414, 14415, 14416, 14417,\n",
       "       14418, 14419, 14420, 14421, 14422, 14423, 14424, 14425, 14426,\n",
       "       14427, 14428, 14429, 14430, 14431, 14432, 14433, 14434, 14435,\n",
       "       14436, 14437, 14438, 14439, 14440, 14441, 14442, 14443, 14444,\n",
       "       14445, 14446, 14447, 14448, 14449, 14450, 14451, 14452, 14453,\n",
       "       14454, 14455, 14456, 14457, 14458, 14459, 14460, 14461, 14462,\n",
       "       14463, 14464, 14465, 14466, 14467, 14468, 14469, 14470, 14471,\n",
       "       14472, 14473, 14474, 14475, 14476, 14477, 14478, 14479, 14480,\n",
       "       14481, 14482, 14483, 14484, 14485, 14486, 14487, 14488, 14489,\n",
       "       14490, 14491, 14492, 14493, 14494, 14495, 14496, 14497, 14498,\n",
       "       14499, 14500, 14501, 14502, 14503, 14504, 14505, 14506, 14507,\n",
       "       14508, 14509, 14510, 14511, 14512, 14513, 14514, 14515, 14516,\n",
       "       14517, 14518, 14519, 14520, 14521, 14522, 14523, 14524, 14525,\n",
       "       14526, 14527, 14528, 14529, 14530, 14531, 14532, 14533, 14534,\n",
       "       14535, 14536, 14537, 14538, 14539, 14540, 14541, 14542, 14543,\n",
       "       14544, 14545, 14546, 14547, 14548, 14549, 14550, 14551, 14552,\n",
       "       14553, 14554, 14555, 14556, 14557, 14558, 14559, 14560, 14561,\n",
       "       14562, 14563, 14564, 14565, 14566, 14567, 14568, 14569, 14570,\n",
       "       14571, 14572, 14573, 14574, 14575, 14576, 14577, 14578, 14579,\n",
       "       14580, 14581, 14582, 14583, 14584, 14585, 14586, 14587, 14588,\n",
       "       14589, 14590, 14591, 14592, 14593, 14594, 14595, 14596, 14597,\n",
       "       14598, 14599, 14600, 14601, 14602, 14603, 14604, 14605, 14606,\n",
       "       14607, 14608, 14609, 14610, 14611, 14612, 14613, 14614, 14615,\n",
       "       14616, 14617, 14618, 14619, 14620, 14621, 14622, 14623, 14624,\n",
       "       14625, 14626, 14627, 14628, 14629, 14630, 14631, 14632, 14633,\n",
       "       14634, 14635, 14636, 14637, 14638, 14639, 14640, 14641, 14642,\n",
       "       14643, 14644, 14645, 14646, 14647, 14648, 14649, 14650, 14651,\n",
       "       14652, 14653, 14654, 14655, 14656, 14657, 14658, 14659, 14660,\n",
       "       14661, 14662, 14663, 14664, 14665, 14666, 14667, 14668, 14669,\n",
       "       14670, 14671, 14672, 14673, 14674, 14675, 14676, 14677, 14678,\n",
       "       14679, 14680, 14681, 14682, 14683, 14684, 14685, 14686, 14687,\n",
       "       14688, 14689, 14690, 14691, 14692, 14693, 14694, 14695, 14696,\n",
       "       14697, 14698, 14699, 14700, 14701, 14702, 14703, 14704, 14705,\n",
       "       14706, 14707, 14708, 14709, 14710, 14711, 14712, 14713, 14714,\n",
       "       14715, 14716, 14717, 14718, 14719, 14720, 14721, 14722, 14723,\n",
       "       14724, 14725, 14726, 14727, 14728, 14729, 14730, 14731, 14732,\n",
       "       14733, 14734, 14735, 14736, 14737, 14738, 14739, 14740, 14741,\n",
       "       14742, 14743, 14744, 14745, 14746, 14747, 14748, 14749, 14750,\n",
       "       14751, 14752, 14753, 14754, 14755, 14756, 14757, 14758, 14759,\n",
       "       14760, 14761, 14762, 14763, 14764, 14765, 14766, 14767, 14768,\n",
       "       14769, 14770, 14771, 14772, 14773, 14774, 14775, 14776, 14777,\n",
       "       14778, 14779, 14780, 14781, 14782, 14783, 14784, 14785, 14786,\n",
       "       14787, 14788, 14789, 14790, 14791, 14792, 14793, 14794, 14795,\n",
       "       14796, 14797, 14798, 14799, 14800, 14801, 14802, 14803, 14804,\n",
       "       14805, 14806, 14807, 14808, 14809, 14810, 14811, 14812, 14813,\n",
       "       14814, 14815, 14816, 14817, 14818, 14819, 14820, 14821, 14822,\n",
       "       14823, 14824, 14825, 14826, 14827, 14828, 14829, 14830, 14831,\n",
       "       14832, 14833, 14834, 14835, 14836, 14837, 14838, 14839, 14840,\n",
       "       14841, 14842, 14843, 14844, 14845, 14846, 14847, 14848, 14849,\n",
       "       14850, 14851, 14852, 14853, 14854, 14855, 14856, 14857, 14858,\n",
       "       14859, 14860, 14861, 14862, 14863, 14864, 14865, 14866, 14867,\n",
       "       14868, 14869, 14870, 14871, 14872, 14873, 14874, 14875, 14876,\n",
       "       14877, 14878, 14879, 14880, 14881, 14882, 14883, 14884, 14885,\n",
       "       14886, 14887, 14888, 14889, 14890, 14891, 14892, 14893, 14894,\n",
       "       14895, 14896, 14897, 14898, 14899, 14900, 14901, 14902, 14903,\n",
       "       14904, 14905, 14906, 14907, 14908, 14909, 14910, 14911, 14912,\n",
       "       14913, 14914, 14915, 14916, 14917, 14918, 14919, 14920, 14921,\n",
       "       14922, 14923, 14924, 14925, 14926, 14927, 14928, 14929, 14930,\n",
       "       14931, 14932, 14933, 14934, 14935, 14936, 14937, 14938, 14939,\n",
       "       14940, 14941, 14942, 14943, 14944, 14945, 14946, 14947, 14948,\n",
       "       14949, 14950, 14951, 14952, 14953, 14954, 14955, 14956, 14957,\n",
       "       14958, 14959, 14960, 14961, 14962, 14963, 14964, 14965, 14966,\n",
       "       14967, 14968, 14969, 14970, 14971, 14972, 14973, 14974, 14975,\n",
       "       14976, 14977, 14978, 14979, 14980, 14981, 14982, 14983, 14984,\n",
       "       14985, 14986, 14987, 14988, 14989, 14990, 14991, 14992, 14993,\n",
       "       14994, 14995, 14996, 14997, 14998, 14999, 15000, 15001, 15002,\n",
       "       15003, 15004, 15005, 15006, 15007, 15008, 15009, 15010, 15011,\n",
       "       15012, 15013, 15014, 15015, 15016, 15017, 15018, 15019, 15020,\n",
       "       15021, 15022, 15023, 15024, 15025, 15026, 15027, 15028, 15029,\n",
       "       15030, 15031, 15032, 15033, 15034, 15035, 15036, 15037, 15038,\n",
       "       15039, 15040, 15041, 15042, 15043, 15044, 15045, 15046, 15047,\n",
       "       15048, 15049, 15050, 15051, 15052, 15053, 15054, 15055, 15056,\n",
       "       15057, 15058, 15059, 15060, 15061, 15062, 15063, 15064, 15065,\n",
       "       15066, 15067, 15068, 15069, 15070, 15071, 15072, 15073, 15074,\n",
       "       15075, 15076, 15077, 15078, 15079, 15080, 15081, 15082, 15083,\n",
       "       15084, 15085, 15086, 15087, 15088, 15089, 15090, 15091, 15092,\n",
       "       15093, 15094, 15095, 15096, 15097, 15098, 15099, 15100, 15101,\n",
       "       15102, 15103, 15104, 15105, 15106, 15107, 15108, 15109, 15110,\n",
       "       15111, 15112, 15113, 15114, 15115, 15116, 15117, 15118, 15119,\n",
       "       15120, 15121, 15122, 15123, 15124, 15125, 15126, 15127, 15128,\n",
       "       15129, 15130, 15131, 15132, 15133, 15134, 15135, 15136, 15137,\n",
       "       15138, 15139, 15140, 15141, 15142, 15143, 15144, 15145, 15146,\n",
       "       15147, 15148, 15149, 15150, 15151, 15152, 15153, 15154, 15155,\n",
       "       15156, 15157, 15158, 15159, 15160, 15161, 15162, 15163, 15164,\n",
       "       15165, 15166, 15167, 15168, 15169, 15170, 15171, 15172, 15173,\n",
       "       15174, 15175, 15176, 15177, 15178, 15179, 15180, 15181, 15182,\n",
       "       15183, 15184, 15185, 15186, 15187, 15188, 15189, 15190, 15191,\n",
       "       15192, 15193, 15194, 15195, 15196, 15197, 15198, 15199, 15200,\n",
       "       15201, 15202, 15203, 15204, 15205, 15206, 15207, 15208, 15209,\n",
       "       15210, 15211, 15212, 15213, 15214, 15215, 15216, 15217, 15218,\n",
       "       15219, 15220, 15221, 15222, 15223, 15224, 15225, 15226, 15227,\n",
       "       15228, 15229, 15230, 15231, 15232, 15233, 15234, 15235, 15236,\n",
       "       15237, 15238, 15239, 15240, 15241, 15242, 15243, 15244, 15245,\n",
       "       15246, 15247, 15248, 15249, 15250, 15251, 15252, 15253, 15254,\n",
       "       15255, 15256, 15257, 15258, 15259, 15260, 15261, 15262, 15263,\n",
       "       15264, 15265, 15266, 15267, 15268, 15269, 15270, 15271, 15272,\n",
       "       15273, 15274, 15275, 15276, 15277, 15278, 15279, 15280, 15281,\n",
       "       15282, 15283, 15284, 15285, 15286, 15287, 15288, 15289, 15290,\n",
       "       15291, 15292, 15293, 15294, 15295, 15296, 15297, 15298, 15299,\n",
       "       15300, 15301, 15302, 15303, 15304, 15305, 15306, 15307, 15308,\n",
       "       15309, 15310, 15311, 15312, 15313, 15314, 15315, 15316, 15317,\n",
       "       15318, 15319, 15320, 15321, 15322, 15323, 15324, 15325, 15326,\n",
       "       15327, 15328, 15329, 15330, 15331, 15332, 15333, 15334, 15335,\n",
       "       15336, 15337, 15338, 15339, 15340, 15341, 15342, 15343, 15344,\n",
       "       15345, 15346, 15347, 15348, 15349, 15350, 15351, 15352, 15353,\n",
       "       15354, 15355, 15356, 15357, 15358, 15359, 15360, 15361, 15362,\n",
       "       15363, 15364, 15365, 15366, 15367, 15368, 15369, 15370, 15371,\n",
       "       15372, 15373, 15374, 15375, 15376, 15377, 15378, 15379, 15380,\n",
       "       15381, 15382, 15383, 15384, 15385, 15386, 15387, 15388, 15389,\n",
       "       15390, 15391, 15392, 15393, 15394, 15395, 15396, 15397, 15398,\n",
       "       15399, 15400, 15401, 15402, 15403, 15404, 15405, 15406, 15407,\n",
       "       15408, 15409, 15410, 15411, 15412, 15413, 15414, 15415, 15416,\n",
       "       15417, 15418, 15419, 15420, 15421, 15422, 15423, 15424, 15425,\n",
       "       15426, 15427, 15428, 15429, 15430, 15431, 15432, 15433, 15434,\n",
       "       15435, 15436, 15437, 15438, 15439, 15440, 15441, 15442, 15443,\n",
       "       15444, 15445, 15446, 15447, 15448, 15449, 15450, 15451, 15452,\n",
       "       15453, 15454, 15455, 15456, 15457, 15458, 15459, 15460, 15461,\n",
       "       15462, 15463, 15464, 15465, 15466, 15467, 15468, 15469, 15470,\n",
       "       15471, 15472, 15473, 15474, 15475, 15476, 15477, 15478, 15479,\n",
       "       15480, 15481, 15482, 15483, 15484, 15485, 15486, 15487, 15488,\n",
       "       15489, 15490, 15491, 15492, 15493, 15494, 15495, 15496, 15497,\n",
       "       15498, 15499, 15500, 15501, 15502, 15503, 15504, 15505, 15506,\n",
       "       15507, 15508, 15509, 15510, 15511, 15512, 15513, 15514, 15515,\n",
       "       15516, 15517, 15518, 15519, 15520, 15521, 15522, 15523, 15524,\n",
       "       15525, 15526, 15527, 15528, 15529, 15530, 15531, 15532, 15533,\n",
       "       15534, 15535, 15536, 15537, 15538, 15539, 15540, 15541, 15542,\n",
       "       15543, 15544, 15545, 15546, 15547, 15548, 15549, 15550, 15551,\n",
       "       15552, 15553, 15554, 15555, 15556, 15557, 15558, 15559, 15560,\n",
       "       15561, 15562, 15563, 15564, 15565, 15566, 15567, 15568, 15569,\n",
       "       15570, 15571, 15572, 15573, 15574, 15575, 15576, 15577, 15578,\n",
       "       15579, 15580, 15581, 15582, 15583, 15584, 15585, 15586, 15587,\n",
       "       15588, 15589, 15590, 15591, 15592, 15593, 15594, 15595, 15596,\n",
       "       15597, 15598, 15599, 15600, 15601, 15602, 15603, 15604, 15605,\n",
       "       15606, 15607, 15608, 15609, 15610, 15611, 15612, 15613, 15614,\n",
       "       15615, 15616, 15617, 15618, 15619, 15620, 15621, 15622, 15623,\n",
       "       15624, 15625, 15626, 15627, 15628, 15629, 15630, 15631, 15632,\n",
       "       15633, 15634, 15635, 15636, 15637, 15638, 15639, 15640, 15641,\n",
       "       15642, 15643, 15644, 15645, 15646, 15647, 15648, 15649, 15650,\n",
       "       15651, 15652, 15653, 15654, 15655, 15656, 15657, 15658, 15659,\n",
       "       15660, 15661, 15662, 15663, 15664, 15665, 15666, 15667, 15668,\n",
       "       15669, 15670, 15671, 15672, 15673, 15674, 15675, 15676, 15677,\n",
       "       15678, 15679, 15680, 15681, 15682, 15683, 15684, 15685, 15686,\n",
       "       15687, 15688, 15689, 15690, 15691, 15692, 15693, 15694, 15695,\n",
       "       15696, 15697, 15698, 15699, 15700, 15701, 15702, 15703, 15704,\n",
       "       15705, 15706, 15707, 15708, 15709, 15710, 15711, 15712, 15713,\n",
       "       15714, 15715, 15716, 15717, 15718, 15719, 15720, 15721, 15722,\n",
       "       15723, 15724, 15725, 15726, 15727, 15728, 15729, 15730, 15731,\n",
       "       15732, 15733, 15734, 15735, 15736, 15737, 15738, 15739, 15740,\n",
       "       15741, 15742, 15743, 15744, 15745, 15746, 15747, 15748, 15749,\n",
       "       15750, 15751, 15752, 15753, 15754, 15755, 15756, 15757, 15758,\n",
       "       15759, 15760, 15761, 15762, 15763, 15764, 15765, 15766, 15767,\n",
       "       15768, 15769, 15770, 15771, 15772, 15773, 15774, 15775, 15776,\n",
       "       15777, 15778, 15779, 15780, 15781, 15782, 15783, 15784, 15785,\n",
       "       15786, 15787, 15788, 15789, 15790, 15791, 15792, 15793, 15794,\n",
       "       15795, 15796, 15797, 15798, 15799, 15800, 15801, 15802, 15803,\n",
       "       15804, 15805, 15806, 15807, 15808, 15809, 15810, 15811, 15812,\n",
       "       15813, 15814, 15815, 15816, 15817, 15818, 15819, 15820, 15821,\n",
       "       15822, 15823, 15824, 15825, 15826, 15827, 15828, 15829, 15830,\n",
       "       15831, 15832, 15833, 15834, 15835, 15836, 15837, 15838, 15839,\n",
       "       15840, 15841, 15842, 15843, 15844, 15845, 15846, 15847, 15848,\n",
       "       15849, 15850, 15851, 15852, 15853, 15854, 15855, 15856, 15857,\n",
       "       15858, 15859, 15860, 15861, 15862, 15863, 15864, 15865, 15866,\n",
       "       15867, 15868, 15869, 15870, 15871, 15872, 15873, 15874, 15875,\n",
       "       15876, 15877, 15878, 15879, 15880, 15881, 15882, 15883, 15884,\n",
       "       15885, 15886, 15887, 15888, 15889, 15890, 15891, 15892, 15893,\n",
       "       15894, 15895, 15896, 15897, 15898, 15899, 15900, 15901, 15902,\n",
       "       15903, 15904, 15905, 15906, 15907, 15908, 15909, 15910, 15911,\n",
       "       15912, 15913, 15914, 15915, 15916, 15917, 15918, 15919, 15920,\n",
       "       15921, 15922, 15923, 15924, 15925, 15926, 15927, 15928, 15929,\n",
       "       15930, 15931, 15932, 15933, 15934, 15935, 15936, 15937, 15938,\n",
       "       15939, 15940, 15941, 15942, 15943, 15944, 15945, 15946, 15947,\n",
       "       15948, 15949, 15950, 15951, 15952, 15953, 15954, 15955, 15956,\n",
       "       15957, 15958, 15959, 15960, 15961, 15962, 15963, 15964, 15965,\n",
       "       15966, 15967, 15968, 15969, 15970, 15971, 15972, 15973, 15974,\n",
       "       15975, 15976, 15977, 15978, 15979, 15980, 15981, 15982, 15983,\n",
       "       15984, 15985, 15986, 15987, 15988, 15989, 15990, 15991, 15992,\n",
       "       15993, 15994, 15995, 15996, 15997, 15998, 15999, 16000, 16001,\n",
       "       16002, 16003, 16004, 16005, 16006, 16007, 16008, 16009, 16010,\n",
       "       16011, 16012, 16013, 16014, 16015, 16016, 16017, 16018, 16019,\n",
       "       16020, 16021, 16022, 16023, 16024, 16025, 16026, 16027, 16028,\n",
       "       16029, 16030, 16031, 16032, 16033, 16034, 16035, 16036, 16037,\n",
       "       16038, 16039, 16040, 16041, 16042, 16043, 16044, 16045, 16046,\n",
       "       16047, 16048, 16049, 16050, 16051, 16052, 16053, 16054, 16055,\n",
       "       16056, 16057, 16058, 16059, 16060, 16061, 16062, 16063, 16064,\n",
       "       16065, 16066, 16067, 16068, 16069, 16070, 16071, 16072, 16073,\n",
       "       16074, 16075, 16076, 16077, 16078, 16079, 16080, 16081, 16082,\n",
       "       16083, 16084, 16085, 16086, 16087, 16088, 16089, 16090, 16091,\n",
       "       16092, 16093, 16094, 16095, 16096, 16097, 16098, 16099, 16100,\n",
       "       16101, 16102, 16103, 16104, 16105, 16106, 16107, 16108, 16109,\n",
       "       16110, 16111, 16112, 16113, 16114, 16115, 16116, 16117, 16118,\n",
       "       16119, 16120, 16121, 16122, 16123, 16124, 16125, 16126, 16127,\n",
       "       16128, 16129, 16130, 16131, 16132, 16133, 16134, 16135, 16136,\n",
       "       16137, 16138, 16139, 16140, 16141, 16142, 16143, 16144, 16145,\n",
       "       16146, 16147, 16148, 16149, 16150, 16151, 16152, 16153, 16154,\n",
       "       16155, 16156, 16157, 16158, 16159, 16160, 16161, 16162, 16163,\n",
       "       16164, 16165, 16166, 16167, 16168, 16169, 16170, 16171, 16172,\n",
       "       16173, 16174, 16175, 16176, 16177, 16178, 16179, 16180, 16181,\n",
       "       16182, 16183, 16184, 16185, 16186, 16187, 16188, 16189, 16190,\n",
       "       16191, 16192, 16193, 16194, 16195, 16196, 16197, 16198, 16199,\n",
       "       16200, 16201, 16202, 16203, 16204, 16205, 16206, 16207, 16208,\n",
       "       16209, 16210, 16211, 16212, 16213, 16214, 16215, 16216, 16217,\n",
       "       16218, 16219, 16220, 16221, 16222, 16223, 16224, 16225, 16226,\n",
       "       16227, 16228, 16229, 16230, 16231, 16232, 16233, 16234, 16235,\n",
       "       16236, 16237, 16238, 16239, 16240, 16241, 16242, 16243, 16244,\n",
       "       16245, 16246, 16247, 16248, 16249, 16250, 16251, 16252, 16253,\n",
       "       16254, 16255, 16256, 16257, 16258, 16259, 16260, 16261, 16262,\n",
       "       16263, 16264, 16265, 16266, 16267, 16268, 16269, 16270, 16271,\n",
       "       16272, 16273, 16274, 16275, 16276, 16277, 16278, 16279, 16280,\n",
       "       16281, 16282, 16283, 16284, 16285, 16286, 16287, 16288, 16289,\n",
       "       16290, 16291, 16292, 16293, 16294, 16295, 16296, 16297, 16298,\n",
       "       16299, 16300, 16301, 16302, 16303, 16304, 16305, 16306, 16307,\n",
       "       16308, 16309, 16310, 16311, 16312, 16313, 16314, 16315, 16316,\n",
       "       16317, 16318, 16319, 16320, 16321, 16322, 16323, 16324, 16325,\n",
       "       16326, 16327, 16328, 16329, 16330, 16331, 16332, 16333, 16334,\n",
       "       16335, 16336, 16337, 16338, 16339, 16340, 16341, 16342, 16343,\n",
       "       16344, 16345, 16346, 16347, 16348, 16349, 16350, 16351, 16352,\n",
       "       16353, 16354, 16355, 16356, 16357, 16358, 16359, 16360, 16361,\n",
       "       16362, 16363, 16364, 16365, 16366, 16367, 16368, 16369, 16370,\n",
       "       16371, 16372, 16373, 16374, 16375, 16376, 16377, 16378, 16379,\n",
       "       16380, 16381, 16382, 16383, 16384, 16385, 16386, 16387, 16388,\n",
       "       16389, 16390, 16391, 16392, 16393, 16394, 16395, 16396, 16397,\n",
       "       16398, 16399, 16400, 16401, 16402, 16403, 16404, 16405, 16406,\n",
       "       16407, 16408, 16409, 16410, 16411, 16412, 16413, 16414, 16415,\n",
       "       16416, 16417, 16418, 16419, 16420, 16421, 16422, 16423, 16424,\n",
       "       16425, 16426, 16427, 16428, 16429, 16430, 16431, 16432, 16433,\n",
       "       16434, 16435, 16436, 16437, 16438, 16439, 16440, 16441, 16442,\n",
       "       16443, 16444, 16445, 16446, 16447, 16448, 16449, 16450, 16451,\n",
       "       16452, 16453, 16454, 16455, 16456, 16457, 16458, 16459, 16460,\n",
       "       16461, 16462, 16463, 16464, 16465, 16466, 16467, 16468, 16469,\n",
       "       16470, 16471, 16472, 16473, 16474, 16475, 16476, 16477, 16478,\n",
       "       16479, 16480, 16481, 16482, 16483, 16484, 16485, 16486, 16487,\n",
       "       16488, 16489, 16490, 16491, 16492, 16493, 16494, 16495, 16496,\n",
       "       16497, 16498, 16499, 16500, 16501, 16502, 16503, 16504, 16505,\n",
       "       16506, 16507, 16508, 16509, 16510, 16511, 16512, 16513, 16514,\n",
       "       16515, 16516, 16517, 16518, 16519, 16520, 16521, 16522, 16523,\n",
       "       16524, 16525, 16526, 16527, 16528, 16529, 16530, 16531, 16532,\n",
       "       16533, 16534, 16535, 16536, 16537, 16538, 16539, 16540, 16541,\n",
       "       16542, 16543, 16544, 16545, 16546, 16547, 16548, 16549, 16550,\n",
       "       16551, 16552, 16553, 16554, 16555, 16556, 16557, 16558, 16559,\n",
       "       16560, 16561, 16562, 16563, 16564, 16565, 16566, 16567, 16568,\n",
       "       16569, 16570, 16571, 16572, 16573, 16574, 16575, 16576, 16577,\n",
       "       16578, 16579, 16580, 16581, 16582, 16583, 16584, 16585, 16586,\n",
       "       16587, 16588, 16589, 16590, 16591, 16592, 16593, 16594, 16595,\n",
       "       16596, 16597, 16598, 16599, 16600, 16601, 16602, 16603, 16604,\n",
       "       16605, 16606, 16607, 16608, 16609, 16610, 16611, 16612, 16613,\n",
       "       16614, 16615, 16616, 16617, 16618, 16619, 16620, 16621, 16622,\n",
       "       16623, 16624, 16625, 16626, 16627, 16628, 16629, 16630, 16631,\n",
       "       16632, 16633, 16634, 16635, 16636, 16637, 16638, 16639, 16640,\n",
       "       16641, 16642, 16643, 16644, 16645, 16646, 16647, 16648, 16649,\n",
       "       16650, 16651, 16652, 16653, 16654, 16655, 16656, 16657, 16658,\n",
       "       16659, 16660, 16661, 16662, 16663, 16664, 16665, 16666, 16667,\n",
       "       16668, 16669, 16670, 16671, 16672, 16673, 16674, 16675, 16676,\n",
       "       16677, 16678, 16679, 16680, 16681, 16682, 16683, 16684, 16685,\n",
       "       16686, 16687, 16688, 16689, 16690, 16691, 16692, 16693, 16694,\n",
       "       16695, 16696, 16697, 16698, 16699, 16700, 16701, 16702, 16703,\n",
       "       16704, 16705, 16706, 16707, 16708, 16709, 16710, 16711, 16712,\n",
       "       16713, 16714, 16715, 16716, 16717, 16718, 16719, 16720, 16721,\n",
       "       16722, 16723, 16724, 16725, 16726, 16727, 16728, 16729, 16730,\n",
       "       16731, 16732, 16733, 16734, 16735, 16736, 16737, 16738, 16739,\n",
       "       16740, 16741, 16742, 16743, 16744, 16745, 16746, 16747, 16748,\n",
       "       16749, 16750, 16751, 16752, 16753, 16754, 16755, 16756, 16757,\n",
       "       16758, 16759, 16760, 16761, 16762, 16763, 16764, 16765, 16766,\n",
       "       16767, 16768, 16769, 16770, 16771, 16772, 16773, 16774, 16775,\n",
       "       16776, 16777, 16778, 16779, 16780, 16781, 16782, 16783, 16784,\n",
       "       16785, 16786, 16787, 16788, 16789, 16790, 16791, 16792, 16793,\n",
       "       16794, 16795, 16796, 16797, 16798, 16799, 16800, 16801, 16802,\n",
       "       16803, 16804, 16805, 16806, 16807, 16808, 16809, 16810, 16811,\n",
       "       16812, 16813, 16814, 16815, 16816, 16817, 16818, 16819, 16820,\n",
       "       16821, 16822, 16823, 16824, 16825, 16826, 16827, 16828, 16829,\n",
       "       16830, 16831, 16832, 16833, 16834, 16835, 16836, 16837, 16838,\n",
       "       16839, 16840, 16841, 16842, 16843, 16844, 16845, 16846, 16847,\n",
       "       16848, 16849, 16850, 16851, 16852, 16853, 16854, 16855, 16856,\n",
       "       16857, 16858, 16859, 16860, 16861, 16862, 16863, 16864, 16865,\n",
       "       16866, 16867, 16868, 16869, 16870, 16871, 16872, 16873, 16874,\n",
       "       16875, 16876, 16877, 16878, 16879, 16880, 16881, 16882, 16883,\n",
       "       16884, 16885, 16886, 16887, 16888, 16889, 16890, 16891, 16892,\n",
       "       16893, 16894, 16895, 16896, 16897, 16898, 16899, 16900, 16901,\n",
       "       16902, 16903, 16904, 16905, 16906, 16907, 16908, 16909, 16910,\n",
       "       16911, 16912, 16913, 16914, 16915, 16916, 16917, 16918, 16919,\n",
       "       16920, 16921, 16922, 16923, 16924, 16925, 16926, 16927, 16928,\n",
       "       16929, 16930, 16931, 16932, 16933, 16934, 16935, 16936, 16937,\n",
       "       16938, 16939, 16940, 16941, 16942, 16943, 16944, 16945, 16946,\n",
       "       16947, 16948, 16949, 16950, 16951, 16952, 16953, 16954, 16955,\n",
       "       16956, 16957, 16958, 16959, 16960, 16961, 16962, 16963, 16964,\n",
       "       16965, 16966, 16967, 16968, 16969, 16970, 16971, 16972, 16973,\n",
       "       16974, 16975, 16976, 16977, 16978, 16979, 16980, 16981, 16982,\n",
       "       16983, 16984, 16985, 16986, 16987, 16988, 16989, 16990, 16991,\n",
       "       16992, 16993, 16994, 16995, 16996, 16997, 16998, 16999, 17000,\n",
       "       17001, 17002, 17003, 17004, 17005, 17006, 17007, 17008, 17009,\n",
       "       17010, 17011, 17012, 17013, 17014, 17015, 17016, 17017, 17018,\n",
       "       17019, 17020, 17021, 17022, 17023, 17024, 17025, 17026, 17027,\n",
       "       17028, 17029, 17030, 17031, 17032, 17033, 17034, 17035, 17036,\n",
       "       17037, 17038, 17039, 17040, 17041, 17042, 17043, 17044, 17045,\n",
       "       17046, 17047, 17048, 17049, 17050, 17051, 17052, 17053, 17054,\n",
       "       17055, 17056, 17057, 17058, 17059, 17060, 17061, 17062, 17063,\n",
       "       17064, 17065, 17066, 17067, 17068, 17069, 17070, 17071, 17072,\n",
       "       17073, 17074, 17075, 17076, 17077, 17078, 17079, 17080, 17081,\n",
       "       17082, 17083, 17084, 17085, 17086, 17087, 17088, 17089, 17090,\n",
       "       17091, 17092, 17093, 17094, 17095, 17096, 17097, 17098, 17099,\n",
       "       17100, 17101, 17102, 17103, 17104, 17105, 17106, 17107, 17108,\n",
       "       17109, 17110, 17111, 17112, 17113, 17114, 17115, 17116, 17117,\n",
       "       17118, 17119, 17120, 17121, 17122, 17123, 17124, 17125, 17126,\n",
       "       17127, 17128, 17129, 17130, 17131, 17132, 17133, 17134, 17135,\n",
       "       17136, 17137, 17138, 17139, 17140, 17141, 17142, 17143, 17144,\n",
       "       17145, 17146, 17147, 17148, 17149, 17150, 17151, 17152, 17153,\n",
       "       17154, 17155, 17156, 17157, 17158, 17159, 17160, 17161, 17162,\n",
       "       17163, 17164, 17165, 17166, 17167, 17168, 17169, 17170, 17171,\n",
       "       17172, 17173, 17174, 17175, 17176, 17177, 17178, 17179, 17180,\n",
       "       17181, 17182, 17183, 17184, 17185, 17186, 17187, 17188, 17189,\n",
       "       17190, 17191, 17192, 17193, 17194, 17195, 17196, 17197, 17198,\n",
       "       17199, 17200, 17201, 17202, 17203, 17204, 17205, 17206, 17207,\n",
       "       17208, 17209, 17210, 17211, 17212, 17213, 17214, 17215, 17216,\n",
       "       17217, 17218, 17219, 17220, 17221, 17222, 17223, 17224, 17225,\n",
       "       17226, 17227, 17228, 17229, 17230, 17231, 17232, 17233, 17234,\n",
       "       17235, 17236, 17237, 17238, 17239, 17240, 17241, 17242, 17243,\n",
       "       17244, 17245, 17246, 17247, 17248, 17249, 17250, 17251, 17252,\n",
       "       17253, 17254, 17255, 17256, 17257, 17258, 17259, 17260, 17261,\n",
       "       17262, 17263, 17264, 17265, 17266, 17267, 17268, 17269, 17270,\n",
       "       17271, 17272, 17273, 17274, 17275, 17276, 17277, 17278, 17279,\n",
       "       17280, 17281, 17282, 17283, 17284, 17285, 17286, 17287, 17288,\n",
       "       17289, 17290, 17291, 17292, 17293, 17294, 17295, 17296, 17297,\n",
       "       17298, 17299, 17300, 17301, 17302, 17303, 17304, 17305, 17306,\n",
       "       17307, 17308, 17309, 17310, 17311, 17312, 17313, 17314, 17315,\n",
       "       17316, 17317, 17318, 17319, 17320, 17321, 17322, 17323, 17324,\n",
       "       17325, 17326, 17327, 17328, 17329, 17330, 17331, 17332, 17333,\n",
       "       17334, 17335, 17336, 17337, 17338, 17339, 17340, 17341, 17342,\n",
       "       17343, 17344, 17345, 17346, 17347, 17348, 17349, 17350, 17351,\n",
       "       17352, 17353, 17354, 17355, 17356, 17357, 17358, 17359, 17360,\n",
       "       17361, 17362, 17363, 17364, 17365, 17366, 17367, 17368, 17369,\n",
       "       17370, 17371, 17372, 17373, 17374, 17375, 17376, 17377, 17378,\n",
       "       17379, 17380, 17381, 17382, 17383, 17384, 17385, 17386, 17387,\n",
       "       17388, 17389, 17390, 17391, 17392, 17393, 17394, 17395, 17396,\n",
       "       17397, 17398, 17399, 17400, 17401, 17402, 17403, 17404, 17405,\n",
       "       17406, 17407, 17408, 17409, 17410, 17411, 17412, 17413, 17414,\n",
       "       17415, 17416, 17417, 17418, 17419, 17420, 17421, 17422, 17423,\n",
       "       17424, 17425, 17426, 17427, 17428, 17429, 17430, 17431, 17432,\n",
       "       17433, 17434, 17435, 17436, 17437, 17438, 17439, 17440, 17441,\n",
       "       17442, 17443, 17444, 17445, 17446, 17447, 17448, 17449, 17450,\n",
       "       17451, 17452, 17453, 17454, 17455, 17456, 17457, 17458, 17459,\n",
       "       17460, 17461, 17462, 17463, 17464, 17465, 17466, 17467, 17468,\n",
       "       17469, 17470, 17471, 17472, 17473, 17474, 17475, 17476, 17477,\n",
       "       17478, 17479, 17480, 17481, 17482, 17483, 17484, 17485, 17486,\n",
       "       17487, 17488, 17489, 17490, 17491, 17492, 17493, 17494, 17495,\n",
       "       17496, 17497, 17498, 17499, 17500, 17501, 17502, 17503, 17504,\n",
       "       17505, 17506, 17507, 17508, 17509, 17510, 17511, 17512, 17513,\n",
       "       17514, 17515, 17516, 17517, 17518, 17519, 17520, 17521, 17522,\n",
       "       17523, 17524, 17525, 17526, 17527, 17528, 17529, 17530, 17531,\n",
       "       17532, 17533, 17534, 17535, 17536, 17537, 17538, 17539, 17540,\n",
       "       17541, 17542, 17543, 17544, 17545, 17546, 17547, 17548, 17549,\n",
       "       17550, 17551, 17552, 17553, 17554, 17555, 17556, 17557, 17558,\n",
       "       17559, 17560, 17561, 17562, 17563, 17564, 17565, 17566, 17567,\n",
       "       17568, 17569, 17570, 17571, 17572, 17573, 17574, 17575, 17576,\n",
       "       17577, 17578, 17579, 17580, 17581, 17582, 17583, 17584, 17585,\n",
       "       17586, 17587, 17588, 17589, 17590, 17591, 17592, 17593, 17594,\n",
       "       17595, 17596, 17597, 17598, 17599, 17600, 17601, 17602, 17603,\n",
       "       17604, 17605, 17606, 17607, 17608, 17609, 17610, 17611, 17612,\n",
       "       17613, 17614, 17615, 17616, 17617, 17618, 17619, 17620, 17621,\n",
       "       17622, 17623, 17624, 17625, 17626, 17627, 17628, 17629, 17630,\n",
       "       17631, 17632, 17633, 17634, 17635, 17636, 17637, 17638, 17639,\n",
       "       17640, 17641, 17642, 17643, 17644, 17645, 17646, 17647, 17648,\n",
       "       17649, 17650, 17651, 17652, 17653, 17654, 17655, 17656, 17657,\n",
       "       17658, 17659, 17660, 17661, 17662, 17663, 17664, 17665, 17666,\n",
       "       17667, 17668, 17669, 17670, 17671, 17672, 17673, 17674, 17675,\n",
       "       17676, 17677, 17678, 17679, 17680, 17681, 17682, 17683, 17684,\n",
       "       17685, 17686, 17687, 17688, 17689, 17690, 17691, 17692, 17693,\n",
       "       17694, 17695, 17696, 17697, 17698, 17699, 17700, 17701, 17702,\n",
       "       17703, 17704, 17705, 17706, 17707, 17708, 17709, 17710, 17711,\n",
       "       17712, 17713, 17714, 17715, 17716, 17717, 17718, 17719, 17720,\n",
       "       17721, 17722, 17723, 17724, 17725, 17726, 17727, 17728, 17729,\n",
       "       17730, 17731, 17732, 17733, 17734, 17735, 17736, 17737, 17738,\n",
       "       17739, 17740, 17741, 17742, 17743, 17744, 17745, 17746, 17747,\n",
       "       17748, 17749, 17750, 17751, 17752, 17753, 17754, 17755, 17756,\n",
       "       17757, 17758, 17759, 17760, 17761, 17762, 17763, 17764, 17765,\n",
       "       17766, 17767, 17768, 17769, 17770, 17771, 17772, 17773, 17774,\n",
       "       17775, 17776, 17777, 17778, 17779, 17780, 17781, 17782, 17783,\n",
       "       17784, 17785, 17786, 17787, 17788, 17789, 17790, 17791, 17792,\n",
       "       17793, 17794, 17795, 17796, 17797, 17798, 17799, 17800, 17801,\n",
       "       17802, 17803, 17804, 17805, 17806, 17807, 17808, 17809, 17810,\n",
       "       17811, 17812, 17813, 17814, 17815, 17816, 17817, 17818, 17819,\n",
       "       17820, 17821, 17822, 17823, 17824, 17825, 17826, 17827, 17828,\n",
       "       17829, 17830, 17831, 17832, 17833, 17834, 17835, 17836, 17837,\n",
       "       17838, 17839, 17840, 17841, 17842, 17843, 17844, 17845, 17846,\n",
       "       17847, 17848, 17849, 17850, 17851, 17852, 17853, 17854, 17855,\n",
       "       17856, 17857, 17858, 17859, 17860, 17861, 17862, 17863, 17864,\n",
       "       17865, 17866, 17867, 17868, 17869, 17870, 17871, 17872, 17873,\n",
       "       17874, 17875, 17876, 17877, 17878, 17879, 17880, 17881, 17882,\n",
       "       17883, 17884, 17885, 17886, 17887, 17888, 17889, 17890, 17891,\n",
       "       17892, 17893, 17894, 17895, 17896, 17897, 17898, 17899, 17900,\n",
       "       17901, 17902, 17903, 17904, 17905, 17906, 17907, 17908, 17909,\n",
       "       17910, 17911, 17912, 17913, 17914, 17915, 17916, 17917, 17918,\n",
       "       17919, 17920, 17921, 17922, 17923, 17924, 17925, 17926, 17927,\n",
       "       17928, 17929, 17930, 17931, 17932, 17933, 17934, 17935, 17936,\n",
       "       17937, 17938, 17939, 17940, 17941, 17942, 17943, 17944, 17945,\n",
       "       17946, 17947, 17948, 17949, 17950, 17951, 17952, 17953, 17954,\n",
       "       17955, 17956, 17957, 17958, 17959, 17960, 17961, 17962, 17963,\n",
       "       17964, 17965, 17966, 17967, 17968, 17969, 17970, 17971, 17972,\n",
       "       17973, 17974, 17975, 17976, 17977, 17978, 17979, 17980, 17981,\n",
       "       17982, 17983, 17984, 17985, 17986, 17987, 17988, 17989, 17990,\n",
       "       17991, 17992, 17993, 17994, 17995, 17996, 17997, 17998, 17999,\n",
       "       18000, 18001, 18002, 18003, 18004, 18005, 18006, 18007, 18008,\n",
       "       18009, 18010, 18011, 18012, 18013, 18014, 18015, 18016, 18017,\n",
       "       18018, 18019, 18020, 18021, 18022, 18023, 18024, 18025, 18026,\n",
       "       18027, 18028, 18029, 18030, 18031, 18032, 18033, 18034, 18035,\n",
       "       18036, 18037, 18038, 18039, 18040, 18041, 18042, 18043, 18044,\n",
       "       18045, 18046, 18047, 18048, 18049, 18050, 18051, 18052, 18053,\n",
       "       18054, 18055, 18056, 18057, 18058, 18059, 18060, 18061, 18062,\n",
       "       18063, 18064, 18065, 18066, 18067, 18068, 18069, 18070, 18071,\n",
       "       18072, 18073, 18074, 18075, 18076, 18077, 18078, 18079, 18080,\n",
       "       18081, 18082, 18083, 18084, 18085, 18086, 18087, 18088, 18089,\n",
       "       18090, 18091, 18092, 18093, 18094, 18095, 18096, 18097, 18098,\n",
       "       18099, 18100, 18101, 18102, 18103, 18104, 18105, 18106, 18107,\n",
       "       18108, 18109, 18110, 18111, 18112, 18113, 18114, 18115, 18116,\n",
       "       18117, 18118, 18119, 18120, 18121, 18122, 18123, 18124, 18125,\n",
       "       18126, 18127, 18128, 18129, 18130, 18131, 18132, 18133, 18134,\n",
       "       18135, 18136, 18137, 18138, 18139, 18140, 18141, 18142, 18143,\n",
       "       18144, 18145, 18146, 18147, 18148, 18149, 18150, 18151, 18152,\n",
       "       18153, 18154, 18155, 18156, 18157, 18158, 18159, 18160, 18161,\n",
       "       18162, 18163, 18164, 18165, 18166, 18167, 18168, 18169, 18170,\n",
       "       18171, 18172, 18173, 18174, 18175, 18176, 18177, 18178, 18179,\n",
       "       18180, 18181, 18182, 18183, 18184, 18185, 18186, 18187, 18188,\n",
       "       18189, 18190, 18191, 18192, 18193, 18194, 18195, 18196, 18197,\n",
       "       18198, 18199, 18200, 18201, 18202, 18203, 18204, 18205, 18206,\n",
       "       18207, 18208, 18209, 18210, 18211, 18212, 18213, 18214, 18215,\n",
       "       18216, 18217, 18218, 18219, 18220, 18221, 18222, 18223, 18224,\n",
       "       18225, 18226, 18227, 18228, 18229, 18230, 18231, 18232, 18233,\n",
       "       18234, 18235, 18236, 18237, 18238, 18239, 18240, 18241, 18242,\n",
       "       18243, 18244, 18245, 18246, 18247, 18248, 18249, 18250, 18251,\n",
       "       18252, 18253, 18254, 18255, 18256, 18257, 18258, 18259, 18260,\n",
       "       18261, 18262, 18263, 18264, 18265, 18266, 18267, 18268, 18269,\n",
       "       18270, 18271, 18272, 18273, 18274, 18275, 18276, 18277, 18278,\n",
       "       18279, 18280, 18281, 18282, 18283, 18284, 18285, 18286, 18287,\n",
       "       18288, 18289, 18290, 18291, 18292, 18293, 18294, 18295, 18296,\n",
       "       18297, 18298, 18299, 18300, 18301, 18302, 18303, 18304, 18305,\n",
       "       18306, 18307, 18308, 18309, 18310, 18311, 18312, 18313, 18314,\n",
       "       18315, 18316, 18317, 18318, 18319, 18320, 18321, 18322, 18323,\n",
       "       18324, 18325, 18326, 18327, 18328, 18329, 18330, 18331, 18332,\n",
       "       18333, 18334, 18335, 18336, 18337, 18338, 18339, 18340, 18341,\n",
       "       18342, 18343, 18344, 18345, 18346, 18347, 18348, 18349, 18350,\n",
       "       18351, 18352, 18353, 18354, 18355, 18356, 18357, 18358, 18359,\n",
       "       18360, 18361, 18362, 18363, 18364, 18365, 18366, 18367, 18368,\n",
       "       18369, 18370, 18371, 18372, 18373, 18374, 18375, 18376, 18377,\n",
       "       18378, 18379, 18380, 18381, 18382, 18383, 18384, 18385, 18386,\n",
       "       18387, 18388, 18389, 18390, 18391, 18392, 18393, 18394, 18395,\n",
       "       18396, 18397, 18398, 18399, 18400, 18401, 18402, 18403, 18404,\n",
       "       18405, 18406, 18407, 18408, 18409, 18410, 18411, 18412, 18413,\n",
       "       18414, 18415, 18416, 18417, 18418, 18419, 18420, 18421, 18422,\n",
       "       18423, 18424, 18425, 18426, 18427, 18428, 18429, 18430, 18431,\n",
       "       18432, 18433, 18434, 18435, 18436, 18437, 18438, 18439, 18440,\n",
       "       18441, 18442, 18443, 18444, 18445, 18446, 18447, 18448, 18449,\n",
       "       18450, 18451, 18452, 18453, 18454, 18455, 18456, 18457, 18458,\n",
       "       18459, 18460, 18461, 18462, 18463, 18464, 18465, 18466, 18467,\n",
       "       18468, 18469, 18470, 18471, 18472, 18473, 18474, 18475, 18476,\n",
       "       18477, 18478, 18479, 18480, 18481, 18482, 18483, 18484, 18485,\n",
       "       18486, 18487, 18488, 18489, 18490, 18491, 18492, 18493, 18494,\n",
       "       18495, 18496, 18497, 18498, 18499, 18500, 18501, 18502, 18503,\n",
       "       18504, 18505, 18506, 18507, 18508, 18509, 18510, 18511, 18512,\n",
       "       18513, 18514, 18515, 18516, 18517, 18518, 18519, 18520, 18521,\n",
       "       18522, 18523, 18524, 18525, 18526, 18527, 18528, 18529, 18530,\n",
       "       18531, 18532, 18533, 18534, 18535, 18536, 18537, 18538, 18539,\n",
       "       18540, 18541, 18542, 18543, 18544, 18545, 18546, 18547, 18548,\n",
       "       18549, 18550, 18551, 18552, 18553, 18554, 18555, 18556, 18557,\n",
       "       18558, 18559, 18560, 18561, 18562, 18563, 18564, 18565, 18566,\n",
       "       18567, 18568, 18569, 18570, 18571, 18572, 18573, 18574, 18575,\n",
       "       18576, 18577, 18578, 18579, 18580, 18581, 18582, 18583, 18584,\n",
       "       18585, 18586, 18587, 18588, 18589, 18590, 18591, 18592, 18593,\n",
       "       18594, 18595, 18596, 18597, 18598, 18599, 18600, 18601, 18602,\n",
       "       18603, 18604, 18605, 18606, 18607, 18608, 18609, 18610, 18611,\n",
       "       18612, 18613, 18614, 18615, 18616, 18617, 18618, 18619, 18620,\n",
       "       18621, 18622, 18623, 18624, 18625, 18626, 18627, 18628, 18629,\n",
       "       18630, 18631, 18632, 18633, 18634, 18635, 18636, 18637, 18638,\n",
       "       18639, 18640, 18641, 18642, 18643, 18644, 18645, 18646, 18647,\n",
       "       18648, 18649, 18650, 18651, 18652, 18653, 18654, 18655, 18656,\n",
       "       18657, 18658, 18659, 18660, 18661, 18662, 18663, 18664, 18665,\n",
       "       18666, 18667, 18668, 18669, 18670, 18671, 18672, 18673, 18674,\n",
       "       18675, 18676, 18677, 18678, 18679, 18680, 18681, 18682, 18683,\n",
       "       18684, 18685, 18686, 18687, 18688, 18689, 18690, 18691, 18692,\n",
       "       18693, 18694, 18695, 18696, 18697, 18698, 18699, 18700, 18701,\n",
       "       18702, 18703, 18704, 18705, 18706, 18707, 18708, 18709, 18710,\n",
       "       18711, 18712, 18713, 18714, 18715, 18716, 18717, 18718, 18719,\n",
       "       18720, 18721, 18722, 18723, 18724, 18725, 18726, 18727, 18728,\n",
       "       18729, 18730, 18731, 18732, 18733, 18734, 18735, 18736, 18737,\n",
       "       18738, 18739, 18740, 18741, 18742, 18743, 18744, 18745, 18746,\n",
       "       18747, 18748, 18749, 18750, 18751, 18752, 18753, 18754, 18755,\n",
       "       18756, 18757, 18758, 18759, 18760, 18761, 18762, 18763, 18764,\n",
       "       18765, 18766, 18767, 18768, 18769, 18770, 18771, 18772, 18773,\n",
       "       18774, 18775, 18776, 18777, 18778, 18779, 18780, 18781, 18782,\n",
       "       18783, 18784, 18785, 18786, 18787, 18788, 18789, 18790, 18791,\n",
       "       18792, 18793, 18794, 18795, 18796, 18797, 18798, 18799, 18800,\n",
       "       18801, 18802, 18803, 18804, 18805, 18806, 18807, 18808, 18809,\n",
       "       18810, 18811, 18812, 18813, 18814, 18815, 18816, 18817, 18818,\n",
       "       18819, 18820, 18821, 18822, 18823, 18824, 18825, 18826, 18827,\n",
       "       18828, 18829, 18830, 18831, 18832, 18833, 18834, 18835, 18836,\n",
       "       18837, 18838, 18839, 18840, 18841, 18842, 18843, 18844, 18845,\n",
       "       18846, 18847, 18848, 18849, 18850, 18851, 18852, 18853, 18854,\n",
       "       18855, 18856, 18857, 18858, 18859, 18860, 18861, 18862, 18863,\n",
       "       18864, 18865, 18866, 18867, 18868, 18869, 18870, 18871, 18872,\n",
       "       18873, 18874, 18875, 18876, 18877, 18878, 18879, 18880, 18881,\n",
       "       18882, 18883, 18884, 18885, 18886, 18887, 18888, 18889, 18890,\n",
       "       18891, 18892, 18893, 18894, 18895, 18896, 18897, 18898, 18899,\n",
       "       18900, 18901, 18902, 18903, 18904, 18905, 18906, 18907, 18908,\n",
       "       18909, 18910, 18911, 18912, 18913, 18914, 18915, 18916, 18917,\n",
       "       18918, 18919, 18920, 18921, 18922, 18923, 18924, 18925, 18926,\n",
       "       18927, 18928, 18929, 18930, 18931, 18932, 18933, 18934, 18935,\n",
       "       18936, 18937, 18938, 18939, 18940, 18941, 18942, 18943, 18944,\n",
       "       18945, 18946, 18947, 18948, 18949, 18950, 18951, 18952, 18953,\n",
       "       18954, 18955, 18956, 18957, 18958, 18959, 18960, 18961, 18962,\n",
       "       18963, 18964, 18965, 18966, 18967, 18968, 18969, 18970, 18971,\n",
       "       18972, 18973, 18974, 18975, 18976, 18977, 18978, 18979, 18980,\n",
       "       18981, 18982, 18983, 18984, 18985, 18986, 18987, 18988, 18989,\n",
       "       18990, 18991, 18992, 18993, 18994, 18995, 18996, 18997, 18998,\n",
       "       18999, 19000, 19001, 19002, 19003, 19004, 19005, 19006, 19007,\n",
       "       19008, 19009, 19010, 19011, 19012, 19013, 19014, 19015, 19016,\n",
       "       19017, 19018, 19019, 19020, 19021, 19022, 19023, 19024, 19025,\n",
       "       19026, 19027, 19028, 19029, 19030, 19031, 19032, 19033, 19034,\n",
       "       19035, 19036, 19037, 19038, 19039, 19040, 19041, 19042, 19043,\n",
       "       19044, 19045, 19046, 19047, 19048, 19049, 19050, 19051, 19052,\n",
       "       19053, 19054, 19055, 19056, 19057, 19058, 19059, 19060, 19061,\n",
       "       19062, 19063, 19064, 19065, 19066, 19067, 19068, 19069, 19070,\n",
       "       19071, 19072, 19073, 19074, 19075, 19076, 19077, 19078, 19079,\n",
       "       19080, 19081, 19082, 19083, 19084, 19085, 19086, 19087, 19088,\n",
       "       19089, 19090, 19091, 19092, 19093, 19094, 19095, 19096, 19097,\n",
       "       19098, 19099, 19100, 19101, 19102, 19103, 19104, 19105, 19106,\n",
       "       19107, 19108, 19109, 19110, 19111, 19112, 19113, 19114, 19115,\n",
       "       19116, 19117, 19118, 19119, 19120, 19121, 19122, 19123, 19124,\n",
       "       19125, 19126, 19127, 19128, 19129, 19130, 19131, 19132, 19133,\n",
       "       19134, 19135, 19136, 19137, 19138, 19139, 19140, 19141, 19142,\n",
       "       19143, 19144, 19145, 19146, 19147, 19148, 19149, 19150, 19151,\n",
       "       19152, 19153, 19154, 19155, 19156, 19157, 19158, 19159, 19160,\n",
       "       19161, 19162, 19163, 19164, 19165, 19166, 19167, 19168, 19169,\n",
       "       19170, 19171, 19172, 19173, 19174, 19175, 19176, 19177, 19178,\n",
       "       19179, 19180, 19181, 19182, 19183, 19184, 19185, 19186, 19187,\n",
       "       19188, 19189, 19190, 19191, 19192, 19193, 19194, 19195, 19196,\n",
       "       19197, 19198, 19199, 19200, 19201, 19202, 19203, 19204, 19205,\n",
       "       19206, 19207, 19208, 19209, 19210, 19211, 19212, 19213, 19214,\n",
       "       19215, 19216, 19217, 19218, 19219, 19220, 19221, 19222, 19223,\n",
       "       19224, 19225, 19226, 19227, 19228, 19229, 19230, 19231, 19232,\n",
       "       19233, 19234, 19235, 19236, 19237, 19238, 19239, 19240, 19241,\n",
       "       19242, 19243, 19244, 19245, 19246, 19247, 19248, 19249, 19250,\n",
       "       19251, 19252, 19253, 19254, 19255, 19256, 19257, 19258, 19259,\n",
       "       19260, 19261, 19262, 19263, 19264, 19265, 19266, 19267, 19268,\n",
       "       19269, 19270, 19271, 19272, 19273, 19274, 19275, 19276, 19277,\n",
       "       19278, 19279, 19280, 19281, 19282, 19283, 19284, 19285, 19286,\n",
       "       19287, 19288, 19289, 19290, 19291, 19292, 19293, 19294, 19295,\n",
       "       19296, 19297, 19298, 19299, 19300, 19301, 19302, 19303, 19304,\n",
       "       19305, 19306, 19307, 19308, 19309, 19310, 19311, 19312, 19313,\n",
       "       19314, 19315, 19316, 19317, 19318, 19319, 19320, 19321, 19322,\n",
       "       19323, 19324, 19325, 19326, 19327, 19328, 19329, 19330, 19331,\n",
       "       19332, 19333, 19334, 19335, 19336, 19337, 19338, 19339, 19340,\n",
       "       19341, 19342, 19343, 19344, 19345, 19346, 19347, 19348, 19349,\n",
       "       19350, 19351, 19352, 19353, 19354, 19355, 19356, 19357, 19358,\n",
       "       19359, 19360, 19361, 19362, 19363, 19364, 19365, 19366, 19367,\n",
       "       19368, 19369, 19370, 19371, 19372, 19373, 19374, 19375, 19376,\n",
       "       19377, 19378, 19379, 19380, 19381, 19382, 19383, 19384, 19385,\n",
       "       19386, 19387, 19388, 19389, 19390, 19391, 19392, 19393, 19394,\n",
       "       19395, 19396, 19397, 19398, 19399, 19400, 19401, 19402, 19403,\n",
       "       19404, 19405, 19406, 19407, 19408, 19409, 19410, 19411, 19412,\n",
       "       19413, 19414, 19415, 19416, 19417, 19418, 19419, 19420, 19421,\n",
       "       19422, 19423, 19424, 19425, 19426, 19427, 19428, 19429, 19430,\n",
       "       19431, 19432, 19433, 19434, 19435, 19436, 19437, 19438, 19439,\n",
       "       19440, 19441, 19442, 19443, 19444, 19445, 19446, 19447, 19448,\n",
       "       19449, 19450, 19451, 19452, 19453, 19454, 19455, 19456, 19457,\n",
       "       19458, 19459, 19460, 19461, 19462, 19463, 19464, 19465, 19466,\n",
       "       19467, 19468, 19469, 19470, 19471, 19472, 19473, 19474, 19475,\n",
       "       19476, 19477, 19478, 19479, 19480, 19481, 19482, 19483, 19484,\n",
       "       19485, 19486, 19487, 19488, 19489, 19490, 19491, 19492, 19493,\n",
       "       19494, 19495, 19496, 19497, 19498, 19499, 19500, 19501, 19502,\n",
       "       19503, 19504, 19505, 19506, 19507, 19508, 19509, 19510, 19511,\n",
       "       19512, 19513, 19514, 19515, 19516, 19517, 19518, 19519, 19520,\n",
       "       19521, 19522, 19523, 19524, 19525, 19526, 19527, 19528, 19529,\n",
       "       19530, 19531, 19532, 19533, 19534, 19535, 19536, 19537, 19538,\n",
       "       19539, 19540, 19541, 19542, 19543, 19544, 19545, 19546, 19547,\n",
       "       19548, 19549, 19550, 19551, 19552, 19553, 19554, 19555, 19556,\n",
       "       19557, 19558, 19559, 19560, 19561, 19562, 19563, 19564, 19565,\n",
       "       19566, 19567, 19568, 19569, 19570, 19571, 19572, 19573, 19574,\n",
       "       19575, 19576, 19577, 19578, 19579, 19580, 19581, 19582, 19583,\n",
       "       19584, 19585, 19586, 19587, 19588, 19589, 19590, 19591, 19592,\n",
       "       19593, 19594, 19595, 19596, 19597, 19598, 19599, 19600, 19601,\n",
       "       19602, 19603, 19604, 19605, 19606, 19607, 19608, 19609, 19610,\n",
       "       19611, 19612, 19613, 19614, 19615, 19616, 19617, 19618, 19619,\n",
       "       19620, 19621, 19622, 19623, 19624, 19625, 19626, 19627, 19628,\n",
       "       19629, 19630, 19631, 19632, 19633, 19634, 19635, 19636, 19637,\n",
       "       19638, 19639, 19640, 19641, 19642, 19643, 19644, 19645, 19646,\n",
       "       19647, 19648, 19649, 19650, 19651, 19652, 19653, 19654, 19655,\n",
       "       19656, 19657, 19658, 19659, 19660, 19661, 19662, 19663, 19664,\n",
       "       19665, 19666, 19667, 19668, 19669, 19670, 19671, 19672, 19673,\n",
       "       19674, 19675, 19676, 19677, 19678, 19679, 19680, 19681, 19682,\n",
       "       19683, 19684, 19685, 19686, 19687, 19688, 19689, 19690, 19691,\n",
       "       19692, 19693, 19694, 19695, 19696, 19697, 19698, 19699, 19700,\n",
       "       19701, 19702, 19703, 19704, 19705, 19706, 19707, 19708, 19709,\n",
       "       19710, 19711, 19712, 19713, 19714, 19715, 19716, 19717, 19718,\n",
       "       19719, 19720, 19721, 19722, 19723, 19724, 19725, 19726, 19727,\n",
       "       19728, 19729, 19730, 19731, 19732, 19733, 19734, 19735, 19736,\n",
       "       19737, 19738, 19739, 19740, 19741, 19742, 19743, 19744, 19745,\n",
       "       19746, 19747, 19748, 19749, 19750, 19751, 19752, 19753, 19754,\n",
       "       19755, 19756, 19757, 19758, 19759, 19760, 19761, 19762, 19763,\n",
       "       19764, 19765, 19766, 19767, 19768, 19769, 19770, 19771, 19772,\n",
       "       19773, 19774, 19775, 19776, 19777, 19778, 19779, 19780, 19781,\n",
       "       19782, 19783, 19784, 19785, 19786, 19787, 19788, 19789, 19790,\n",
       "       19791, 19792, 19793, 19794, 19795, 19796, 19797, 19798, 19799,\n",
       "       19800, 19801, 19802, 19803, 19804, 19805, 19806, 19807, 19808,\n",
       "       19809, 19810, 19811, 19812, 19813, 19814, 19815, 19816, 19817,\n",
       "       19818, 19819, 19820, 19821, 19822, 19823, 19824, 19825, 19826,\n",
       "       19827, 19828, 19829, 19830, 19831, 19832, 19833, 19834, 19835,\n",
       "       19836, 19837, 19838, 19839, 19840, 19841, 19842, 19843, 19844,\n",
       "       19845, 19846, 19847, 19848, 19849, 19850, 19851, 19852, 19853,\n",
       "       19854, 19855, 19856, 19857, 19858, 19859, 19860, 19861, 19862,\n",
       "       19863, 19864, 19865, 19866, 19867, 19868, 19869, 19870, 19871,\n",
       "       19872, 19873, 19874, 19875, 19876, 19877, 19878, 19879, 19880,\n",
       "       19881, 19882, 19883, 19884, 19885, 19886, 19887, 19888, 19889,\n",
       "       19890, 19891, 19892, 19893, 19894, 19895, 19896, 19897, 19898,\n",
       "       19899, 19900, 19901, 19902, 19903, 19904, 19905, 19906, 19907,\n",
       "       19908, 19909, 19910, 19911, 19912, 19913, 19914, 19915, 19916,\n",
       "       19917, 19918, 19919, 19920, 19921, 19922, 19923, 19924, 19925,\n",
       "       19926, 19927, 19928, 19929, 19930, 19931, 19932, 19933, 19934,\n",
       "       19935, 19936, 19937, 19938, 19939, 19940, 19941, 19942, 19943,\n",
       "       19944, 19945, 19946, 19947, 19948, 19949, 19950, 19951, 19952,\n",
       "       19953, 19954, 19955, 19956, 19957, 19958, 19959, 19960, 19961,\n",
       "       19962, 19963, 19964, 19965, 19966, 19967, 19968, 19969, 19970,\n",
       "       19971, 19972, 19973, 19974, 19975, 19976, 19977, 19978, 19979,\n",
       "       19980, 19981, 19982, 19983, 19984, 19985, 19986, 19987, 19988,\n",
       "       19989, 19990, 19991, 19992, 19993, 19994, 19995, 19996, 19997,\n",
       "       19998, 19999, 20000, 20001, 20002, 20003, 20004, 20005, 20006,\n",
       "       20007, 20008, 20009, 20010, 20011, 20012, 20013, 20014, 20015,\n",
       "       20016, 20017, 20018, 20019, 20020, 20021, 20022, 20023, 20024,\n",
       "       20025, 20026, 20027, 20028, 20029, 20030, 20031, 20032, 20033,\n",
       "       20034, 20035, 20036, 20037, 20038, 20039, 20040, 20041, 20042,\n",
       "       20043, 20044, 20045, 20046, 20047, 20048, 20049, 20050, 20051,\n",
       "       20052, 20053, 20054, 20055, 20056, 20057, 20058, 20059, 20060,\n",
       "       20061, 20062, 20063, 20064, 20065, 20066, 20067, 20068, 20069,\n",
       "       20070, 20071, 20072, 20073, 20074, 20075, 20076, 20077, 20078,\n",
       "       20079, 20080, 20081, 20082, 20083, 20084, 20085, 20086, 20087,\n",
       "       20088, 20089, 20090, 20091, 20092, 20093, 20094, 20095, 20096,\n",
       "       20097, 20098, 20099, 20100, 20101, 20102, 20103, 20104, 20105,\n",
       "       20106, 20107, 20108, 20109, 20110, 20111, 20112, 20113, 20114,\n",
       "       20115, 20116, 20117, 20118, 20119, 20120, 20121, 20122, 20123,\n",
       "       20124, 20125, 20126, 20127, 20128, 20129, 20130, 20131, 20132,\n",
       "       20133, 20134, 20135, 20136, 20137, 20138, 20139, 20140, 20141,\n",
       "       20142, 20143, 20144, 20145, 20146, 20147, 20148, 20149, 20150,\n",
       "       20151, 20152, 20153, 20154, 20155, 20156, 20157, 20158, 20159,\n",
       "       20160, 20161, 20162, 20163, 20164, 20165, 20166, 20167, 20168,\n",
       "       20169, 20170, 20171, 20172, 20173, 20174, 20175, 20176, 20177,\n",
       "       20178, 20179, 20180, 20181, 20182, 20183, 20184, 20185, 20186,\n",
       "       20187, 20188, 20189, 20190, 20191, 20192, 20193, 20194, 20195,\n",
       "       20196, 20197, 20198, 20199, 20200, 20201, 20202, 20203, 20204,\n",
       "       20205, 20206, 20207, 20208, 20209, 20210, 20211, 20212, 20213,\n",
       "       20214, 20215, 20216, 20217, 20218, 20219, 20220, 20221, 20222,\n",
       "       20223, 20224, 20225, 20226, 20227, 20228, 20229, 20230, 20231,\n",
       "       20232, 20233, 20234, 20235, 20236, 20237, 20238, 20239, 20240,\n",
       "       20241, 20242, 20243, 20244, 20245, 20246, 20247, 20248, 20249,\n",
       "       20250, 20251, 20252, 20253, 20254, 20255, 20256, 20257, 20258,\n",
       "       20259, 20260, 20261, 20262, 20263, 20264, 20265, 20266, 20267,\n",
       "       20268, 20269, 20270, 20271, 20272, 20273, 20274, 20275, 20276,\n",
       "       20277, 20278, 20279, 20280, 20281, 20282, 20283, 20284, 20285,\n",
       "       20286, 20287, 20288, 20289, 20290, 20291, 20292, 20293, 20294,\n",
       "       20295, 20296, 20297, 20298, 20299, 20300, 20301, 20302, 20303,\n",
       "       20304, 20305, 20306, 20307, 20308, 20309, 20310, 20311, 20312,\n",
       "       20313, 20314, 20315, 20316, 20317, 20318, 20319, 20320, 20321,\n",
       "       20322, 20323, 20324, 20325, 20326, 20327, 20328, 20329, 20330,\n",
       "       20331, 20332, 20333, 20334, 20335, 20336, 20337, 20338, 20339,\n",
       "       20340, 20341, 20342, 20343, 20344, 20345, 20346, 20347, 20348,\n",
       "       20349, 20350, 20351, 20352, 20353, 20354, 20355, 20356, 20357,\n",
       "       20358, 20359, 20360, 20361, 20362, 20363, 20364, 20365, 20366,\n",
       "       20367, 20368, 20369, 20370, 20371, 20372, 20373, 20374, 20375,\n",
       "       20376, 20377, 20378, 20379, 20380, 20381, 20382, 20383, 20384,\n",
       "       20385, 20386, 20387, 20388, 20389, 20390, 20391, 20392, 20393,\n",
       "       20394, 20395, 20396, 20397, 20398, 20399, 20400, 20401, 20402,\n",
       "       20403, 20404, 20405, 20406, 20407, 20408, 20409, 20410, 20411,\n",
       "       20412, 20413, 20414, 20415, 20416, 20417, 20418, 20419, 20420,\n",
       "       20421, 20422, 20423, 20424, 20425, 20426, 20427, 20428, 20429,\n",
       "       20430, 20431, 20432, 20433, 20434, 20435, 20436, 20437, 20438,\n",
       "       20439, 20440, 20441, 20442, 20443, 20444, 20445, 20446, 20447,\n",
       "       20448, 20449, 20450, 20451, 20452, 20453, 20454, 20455, 20456,\n",
       "       20457, 20458, 20459, 20460, 20461, 20462, 20463, 20464, 20465,\n",
       "       20466, 20467, 20468, 20469, 20470, 20471, 20472, 20473, 20474,\n",
       "       20475, 20476, 20477, 20478, 20479, 20480, 20481, 20482, 20483,\n",
       "       20484, 20485, 20486, 20487, 20488, 20489, 20490, 20491, 20492,\n",
       "       20493, 20494, 20495, 20496, 20497, 20498, 20499, 20500, 20501,\n",
       "       20502, 20503, 20504, 20505, 20506, 20507, 20508, 20509, 20510,\n",
       "       20511, 20512, 20513, 20514, 20515, 20516, 20517, 20518, 20519,\n",
       "       20520, 20521, 20522, 20523, 20524, 20525, 20526, 20527, 20528,\n",
       "       20529, 20530, 20531, 20532, 20533, 20534, 20535, 20536, 20537,\n",
       "       20538, 20539, 20540, 20541, 20542, 20543, 20544, 20545, 20546,\n",
       "       20547, 20548, 20549, 20550, 20551, 20552, 20553, 20554, 20555,\n",
       "       20556, 20557, 20558, 20559, 20560, 20561, 20562, 20563, 20564,\n",
       "       20565, 20566, 20567, 20568, 20569, 20570, 20571, 20572, 20573,\n",
       "       20574, 20575, 20576, 20577, 20578, 20579, 20580, 20581, 20582,\n",
       "       20583, 20584, 20585, 20586, 20587, 20588, 20589, 20590, 20591,\n",
       "       20592, 20593, 20594, 20595, 20596, 20597, 20598, 20599, 20600,\n",
       "       20601, 20602, 20603, 20604, 20605, 20606, 20607, 20608, 20609,\n",
       "       20610, 20611, 20612, 20613, 20614, 20615, 20616, 20617, 20618,\n",
       "       20619, 20620, 20621, 20622, 20623, 20624, 20625, 20626, 20627,\n",
       "       20628, 20629, 20630, 20631, 20632, 20633, 20634, 20635, 20636,\n",
       "       20637, 20638, 20639, 20640, 20641, 20642, 20643, 20644, 20645,\n",
       "       20646, 20647, 20648, 20649, 20650, 20651, 20652, 20653, 20654,\n",
       "       20655, 20656, 20657, 20658, 20659, 20660, 20661, 20662, 20663,\n",
       "       20664, 20665, 20666, 20667, 20668, 20669, 20670, 20671, 20672,\n",
       "       20673, 20674, 20675, 20676, 20677, 20678, 20679, 20680, 20681,\n",
       "       20682, 20683, 20684, 20685, 20686, 20687, 20688, 20689, 20690,\n",
       "       20691, 20692, 20693, 20694, 20695, 20696, 20697, 20698, 20699,\n",
       "       20700, 20701, 20702, 20703, 20704, 20705, 20706, 20707, 20708,\n",
       "       20709, 20710, 20711, 20712, 20713, 20714, 20715, 20716, 20717,\n",
       "       20718, 20719, 20720, 20721, 20722, 20723, 20724, 20725, 20726,\n",
       "       20727, 20728, 20729, 20730, 20731, 20732, 20733, 20734, 20735,\n",
       "       20736, 20737, 20738, 20739, 20740, 20741, 20742, 20743, 20744,\n",
       "       20745, 20746, 20747, 20748, 20749, 20750, 20751, 20752, 20753,\n",
       "       20754, 20755, 20756, 20757, 20758, 20759, 20760, 20761, 20762,\n",
       "       20763, 20764, 20765, 20766, 20767, 20768, 20769, 20770, 20771,\n",
       "       20772, 20773, 20774, 20775, 20776, 20777, 20778, 20779, 20780,\n",
       "       20781, 20782, 20783, 20784, 20785, 20786, 20787, 20788, 20789,\n",
       "       20790, 20791, 20792, 20793, 20794, 20795, 20796, 20797, 20798,\n",
       "       20799, 20800, 20801, 20802, 20803, 20804, 20805, 20806, 20807,\n",
       "       20808, 20809, 20810, 20811, 20812, 20813, 20814, 20815, 20816,\n",
       "       20817, 20818, 20819, 20820, 20821, 20822, 20823, 20824, 20825,\n",
       "       20826, 20827, 20828, 20829, 20830, 20831, 20832, 20833, 20834,\n",
       "       20835, 20836, 20837, 20838, 20839, 20840, 20841, 20842, 20843,\n",
       "       20844, 20845, 20846, 20847, 20848, 20849, 20850, 20851, 20852,\n",
       "       20853, 20854, 20855, 20856, 20857, 20858, 20859, 20860, 20861,\n",
       "       20862, 20863, 20864, 20865, 20866, 20867, 20868, 20869, 20870,\n",
       "       20871, 20872, 20873, 20874, 20875, 20876, 20877, 20878, 20879,\n",
       "       20880, 20881, 20882, 20883, 20884, 20885, 20886, 20887, 20888,\n",
       "       20889, 20890, 20891, 20892, 20893, 20894, 20895, 20896, 20897,\n",
       "       20898, 20899, 20900, 20901, 20902, 20903, 20904, 20905, 20906,\n",
       "       20907, 20908, 20909, 20910, 20911, 20912, 20913, 20914, 20915,\n",
       "       20916, 20917, 20918, 20919, 20920, 20921, 20922, 20923, 20924,\n",
       "       20925, 20926, 20927, 20928, 20929, 20930, 20931, 20932, 20933,\n",
       "       20934, 20935, 20936, 20937, 20938, 20939, 20940, 20941, 20942,\n",
       "       20943, 20944, 20945, 20946, 20947, 20948, 20949, 20950, 20951,\n",
       "       20952, 20953, 20954, 20955, 20956, 20957, 20958, 20959, 20960,\n",
       "       20961, 20962, 20963, 20964, 20965, 20966, 20967, 20968, 20969,\n",
       "       20970, 20971, 20972, 20973, 20974, 20975, 20976, 20977, 20978,\n",
       "       20979, 20980, 20981, 20982, 20983, 20984, 20985, 20986, 20987,\n",
       "       20988, 20989, 20990, 20991, 20992, 20993, 20994, 20995, 20996,\n",
       "       20997, 20998, 20999, 21000, 21001, 21002, 21003, 21004, 21005,\n",
       "       21006, 21007, 21008, 21009, 21010, 21011, 21012, 21013, 21014,\n",
       "       21015, 21016, 21017, 21018, 21019, 21020, 21021, 21022, 21023,\n",
       "       21024, 21025, 21026, 21027, 21028, 21029, 21030, 21031, 21032,\n",
       "       21033, 21034, 21035, 21036, 21037, 21038, 21039, 21040, 21041,\n",
       "       21042, 21043, 21044, 21045, 21046, 21047, 21048, 21049, 21050,\n",
       "       21051, 21052, 21053, 21054, 21055, 21056, 21057, 21058, 21059,\n",
       "       21060, 21061, 21062, 21063, 21064, 21065, 21066, 21067, 21068,\n",
       "       21069, 21070, 21071, 21072, 21073, 21074, 21075, 21076, 21077,\n",
       "       21078, 21079, 21080, 21081, 21082, 21083, 21084, 21085, 21086,\n",
       "       21087, 21088, 21089, 21090, 21091, 21092, 21093, 21094, 21095,\n",
       "       21096, 21097, 21098, 21099, 21100, 21101, 21102, 21103, 21104,\n",
       "       21105, 21106, 21107, 21108, 21109, 21110, 21111, 21112, 21113,\n",
       "       21114, 21115, 21116, 21117, 21118, 21119, 21120, 21121, 21122,\n",
       "       21123, 21124, 21125, 21126, 21127, 21128, 21129, 21130, 21131,\n",
       "       21132, 21133, 21134, 21135, 21136, 21137, 21138, 21139, 21140,\n",
       "       21141, 21142, 21143, 21144, 21145, 21146, 21147, 21148, 21149,\n",
       "       21150, 21151, 21152, 21153, 21154, 21155, 21156, 21157, 21158,\n",
       "       21159, 21160, 21161, 21162, 21163, 21164, 21165, 21166, 21167,\n",
       "       21168, 21169, 21170, 21171, 21172, 21173, 21174, 21175, 21176,\n",
       "       21177, 21178, 21179, 21180, 21181, 21182, 21183, 21184, 21185,\n",
       "       21186, 21187, 21188, 21189, 21190, 21191, 21192, 21193, 21194,\n",
       "       21195, 21196, 21197, 21198, 21199, 21200, 21201, 21202, 21203,\n",
       "       21204, 21205, 21206, 21207, 21208, 21209, 21210, 21211, 21212,\n",
       "       21213, 21214, 21215, 21216, 21217, 21218, 21219, 21220, 21221,\n",
       "       21222, 21223, 21224, 21225, 21226, 21227, 21228, 21229, 21230,\n",
       "       21231, 21232, 21233, 21234, 21235, 21236, 21237, 21238, 21239,\n",
       "       21240, 21241, 21242, 21243, 21244, 21245, 21246, 21247, 21248,\n",
       "       21249, 21250, 21251, 21252, 21253, 21254, 21255, 21256, 21257,\n",
       "       21258, 21259, 21260, 21261, 21262, 21263, 21264, 21265, 21266,\n",
       "       21267, 21268, 21269, 21270, 21271, 21272, 21273, 21274, 21275,\n",
       "       21276, 21277, 21278, 21279, 21280, 21281, 21282, 21283, 21284,\n",
       "       21285, 21286, 21287, 21288, 21289, 21290, 21291, 21292, 21293,\n",
       "       21294, 21295, 21296, 21297, 21298, 21299, 21300, 21301, 21302,\n",
       "       21303, 21304, 21305, 21306, 21307, 21308, 21309, 21310, 21311,\n",
       "       21312, 21313, 21314, 21315, 21316, 21317, 21318, 21319, 21320,\n",
       "       21321, 21322, 21323, 21324, 21325, 21326, 21327, 21328, 21329,\n",
       "       21330, 21331, 21332, 21333, 21334, 21335, 21336, 21337, 21338,\n",
       "       21339, 21340, 21341, 21342, 21343, 21344, 21345, 21346, 21347,\n",
       "       21348, 21349, 21350, 21351, 21352, 21353, 21354, 21355, 21356,\n",
       "       21357, 21358, 21359, 21360, 21361, 21362, 21363, 21364, 21365,\n",
       "       21366, 21367, 21368, 21369, 21370, 21371, 21372, 21373, 21374,\n",
       "       21375, 21376, 21377, 21378, 21379, 21380, 21381, 21382, 21383,\n",
       "       21384, 21385, 21386, 21387, 21388, 21389, 21390, 21391, 21392,\n",
       "       21393, 21394, 21395, 21396, 21397, 21398, 21399, 21400, 21401,\n",
       "       21402, 21403, 21404, 21405, 21406, 21407, 21408, 21409, 21410,\n",
       "       21411, 21412, 21413, 21414, 21415, 21416, 21417, 21418, 21419,\n",
       "       21420, 21421, 21422, 21423, 21424, 21425, 21426, 21427, 21428,\n",
       "       21429, 21430, 21431, 21432, 21433, 21434, 21435, 21436, 21437,\n",
       "       21438, 21439, 21440, 21441, 21442, 21443, 21444, 21445, 21446,\n",
       "       21447, 21448, 21449, 21450, 21451, 21452, 21453, 21454, 21455,\n",
       "       21456, 21457, 21458, 21459, 21460, 21461, 21462, 21463, 21464,\n",
       "       21465, 21466, 21467, 21468, 21469, 21470, 21471, 21472, 21473,\n",
       "       21474, 21475, 21476, 21477, 21478, 21479, 21480, 21481, 21482,\n",
       "       21483, 21484, 21485, 21486, 21487, 21488, 21489, 21490, 21491,\n",
       "       21492, 21493, 21494, 21495, 21496, 21497, 21498, 21499, 21500,\n",
       "       21501, 21502, 21503, 21504, 21505, 21506, 21507, 21508, 21509,\n",
       "       21510, 21511, 21512, 21513, 21514, 21515, 21516, 21517, 21518,\n",
       "       21519, 21520, 21521, 21522, 21523, 21524, 21525, 21526, 21527,\n",
       "       21528, 21529, 21530, 21531, 21532, 21533, 21534, 21535, 21536,\n",
       "       21537, 21538, 21539, 21540, 21541, 21542, 21543, 21544, 21545,\n",
       "       21546, 21547, 21548, 21549, 21550, 21551, 21552, 21553, 21554,\n",
       "       21555, 21556, 21557, 21558, 21559, 21560, 21561, 21562, 21563,\n",
       "       21564, 21565, 21566, 21567, 21568, 21569, 21570, 21571, 21572,\n",
       "       21573, 21574, 21575, 21576, 21577, 21578, 21579, 21580, 21581,\n",
       "       21582, 21583, 21584, 21585, 21586, 21587, 21588, 21589, 21590,\n",
       "       21591, 21592, 21593, 21594, 21595, 21596, 21597, 21598, 21599,\n",
       "       21600, 21601, 21602, 21603, 21604, 21605, 21606, 21607, 21608,\n",
       "       21609, 21610, 21611, 21612, 21613, 21614, 21615, 21616, 21617,\n",
       "       21618, 21619, 21620, 21621, 21622, 21623, 21624, 21625, 21626,\n",
       "       21627, 21628, 21629, 21630, 21631, 21632, 21633, 21634, 21635,\n",
       "       21636, 21637, 21638, 21639, 21640, 21641, 21642, 21643, 21644,\n",
       "       21645, 21646, 21647, 21648, 21649, 21650, 21651, 21652, 21653,\n",
       "       21654, 21655, 21656, 21657, 21658, 21659, 21660, 21661, 21662,\n",
       "       21663, 21664, 21665, 21666, 21667, 21668, 21669, 21670, 21671,\n",
       "       21672, 21673, 21674, 21675, 21676, 21677, 21678, 21679, 21680,\n",
       "       21681, 21682, 21683, 21684, 21685, 21686, 21687, 21688, 21689,\n",
       "       21690, 21691, 21692, 21693, 21694, 21695, 21696, 21697, 21698,\n",
       "       21699, 21700, 21701, 21702, 21703, 21704, 21705, 21706, 21707,\n",
       "       21708, 21709, 21710, 21711, 21712, 21713, 21714, 21715, 21716,\n",
       "       21717, 21718, 21719, 21720, 21721, 21722, 21723, 21724, 21725,\n",
       "       21726, 21727, 21728, 21729, 21730, 21731, 21732, 21733, 21734,\n",
       "       21735, 21736, 21737, 21738, 21739, 21740, 21741, 21742, 21743,\n",
       "       21744, 21745, 21746, 21747, 21748, 21749, 21750, 21751, 21752,\n",
       "       21753, 21754, 21755, 21756, 21757, 21758, 21759, 21760, 21761,\n",
       "       21762, 21763, 21764, 21765, 21766, 21767, 21768, 21769, 21770,\n",
       "       21771, 21772, 21773, 21774, 21775, 21776, 21777, 21778, 21779,\n",
       "       21780, 21781, 21782, 21783, 21784, 21785, 21786, 21787, 21788,\n",
       "       21789, 21790, 21791, 21792, 21793, 21794, 21795, 21796, 21797,\n",
       "       21798, 21799, 21800, 21801, 21802, 21803, 21804, 21805, 21806,\n",
       "       21807, 21808, 21809, 21810, 21811, 21812, 21813, 21814, 21815,\n",
       "       21816, 21817, 21818, 21819, 21820, 21821, 21822, 21823, 21824,\n",
       "       21825, 21826, 21827, 21828, 21829, 21830, 21831, 21832, 21833,\n",
       "       21834, 21835, 21836, 21837, 21838, 21839, 21840, 21841, 21842,\n",
       "       21843, 21844, 21845, 21846, 21847, 21848, 21849, 21850, 21851,\n",
       "       21852, 21853, 21854, 21855, 21856, 21857, 21858, 21859, 21860,\n",
       "       21861, 21862, 21863, 21864, 21865, 21866, 21867, 21868, 21869,\n",
       "       21870, 21871, 21872, 21873, 21874, 21875, 21876, 21877, 21878,\n",
       "       21879, 21880, 21881, 21882, 21883, 21884, 21885, 21886, 21887,\n",
       "       21888, 21889, 21890, 21891, 21892, 21893, 21894, 21895, 21896,\n",
       "       21897, 21898, 21899, 21900, 21901, 21902, 21903, 21904, 21905,\n",
       "       21906, 21907, 21908, 21909, 21910, 21911, 21912, 21913, 21914,\n",
       "       21915, 21916, 21917, 21918, 21919, 21920, 21921, 21922, 21923,\n",
       "       21924, 21925, 21926, 21927, 21928, 21929, 21930, 21931, 21932,\n",
       "       21933, 21934, 21935, 21936, 21937, 21938, 21939, 21940, 21941,\n",
       "       21942, 21943, 21944, 21945, 21946, 21947, 21948, 21949, 21950,\n",
       "       21951, 21952, 21953, 21954, 21955, 21956, 21957, 21958, 21959,\n",
       "       21960, 21961, 21962, 21963, 21964, 21965, 21966, 21967, 21968,\n",
       "       21969, 21970, 21971, 21972, 21973, 21974, 21975, 21976, 21977,\n",
       "       21978, 21979, 21980, 21981, 21982, 21983, 21984, 21985, 21986,\n",
       "       21987, 21988, 21989, 21990, 21991, 21992, 21993, 21994, 21995,\n",
       "       21996, 21997, 21998, 21999, 22000, 22001, 22002, 22003, 22004,\n",
       "       22005, 22006, 22007, 22008, 22009, 22010, 22011, 22012, 22013,\n",
       "       22014, 22015, 22016, 22017, 22018, 22019, 22020, 22021, 22022,\n",
       "       22023, 22024, 22025, 22026, 22027, 22028, 22029, 22030, 22031,\n",
       "       22032, 22033, 22034, 22035, 22036, 22037, 22038, 22039, 22040,\n",
       "       22041, 22042, 22043, 22044, 22045, 22046, 22047, 22048, 22049,\n",
       "       22050, 22051, 22052, 22053, 22054, 22055, 22056, 22057, 22058,\n",
       "       22059, 22060, 22061, 22062, 22063, 22064, 22065, 22066, 22067,\n",
       "       22068, 22069, 22070, 22071, 22072, 22073, 22074, 22075, 22076,\n",
       "       22077, 22078, 22079, 22080, 22081, 22082, 22083, 22084, 22085,\n",
       "       22086, 22087, 22088, 22089, 22090, 22091, 22092, 22093, 22094,\n",
       "       22095, 22096, 22097, 22098, 22099, 22100, 22101, 22102, 22103,\n",
       "       22104, 22105, 22106, 22107, 22108, 22109, 22110, 22111, 22112,\n",
       "       22113, 22114, 22115, 22116, 22117, 22118, 22119, 22120, 22121,\n",
       "       22122, 22123, 22124, 22125, 22126, 22127, 22128, 22129, 22130,\n",
       "       22131, 22132, 22133, 22134, 22135, 22136, 22137, 22138, 22139,\n",
       "       22140, 22141, 22142, 22143, 22144, 22145, 22146, 22147, 22148,\n",
       "       22149, 22150, 22151, 22152, 22153, 22154, 22155, 22156, 22157,\n",
       "       22158, 22159, 22160, 22161, 22162, 22163, 22164, 22165, 22166,\n",
       "       22167, 22168, 22169, 22170, 22171, 22172, 22173, 22174, 22175,\n",
       "       22176, 22177, 22178, 22179, 22180, 22181, 22182, 22183, 22184,\n",
       "       22185, 22186, 22187, 22188, 22189, 22190, 22191, 22192, 22193,\n",
       "       22194, 22195, 22196, 22197, 22198, 22199, 22200, 22201, 22202,\n",
       "       22203, 22204, 22205, 22206, 22207, 22208, 22209, 22210, 22211,\n",
       "       22212, 22213, 22214, 22215, 22216, 22217, 22218, 22219, 22220,\n",
       "       22221, 22222, 22223, 22224, 22225, 22226, 22227, 22228, 22229,\n",
       "       22230, 22231, 22232, 22233, 22234, 22235, 22236, 22237, 22238,\n",
       "       22239, 22240, 22241, 22242, 22243, 22244, 22245, 22246, 22247,\n",
       "       22248, 22249, 22250, 22251, 22252, 22253, 22254, 22255, 22256,\n",
       "       22257, 22258, 22259, 22260, 22261, 22262, 22263, 22264, 22265,\n",
       "       22266, 22267, 22268, 22269, 22270, 22271, 22272, 22273, 22274,\n",
       "       22275, 22276, 22277, 22278, 22279, 22280, 22281, 22282, 22283,\n",
       "       22284, 22285, 22286, 22287, 22288, 22289, 22290, 22291, 22292,\n",
       "       22293, 22294, 22295, 22296, 22297, 22298, 22299, 22300, 22301,\n",
       "       22302, 22303, 22304, 22305, 22306, 22307, 22308, 22309, 22310,\n",
       "       22311, 22312, 22313, 22314, 22315, 22316, 22317, 22318, 22319,\n",
       "       22320, 22321, 22322, 22323, 22324, 22325, 22326, 22327, 22328,\n",
       "       22329, 22330, 22331, 22332, 22333, 22334, 22335, 22336, 22337,\n",
       "       22338, 22339, 22340, 22341, 22342, 22343, 22344, 22345, 22346,\n",
       "       22347, 22348, 22349, 22350, 22351, 22352, 22353, 22354, 22355,\n",
       "       22356, 22357, 22358, 22359, 22360, 22361, 22362, 22363, 22364,\n",
       "       22365, 22366, 22367, 22368, 22369, 22370, 22371, 22372, 22373,\n",
       "       22374, 22375, 22376, 22377, 22378, 22379, 22380, 22381, 22382,\n",
       "       22383, 22384, 22385, 22386, 22387, 22388, 22389, 22390, 22391,\n",
       "       22392, 22393, 22394, 22395, 22396, 22397, 22398, 22399, 22400,\n",
       "       22401, 22402, 22403, 22404, 22405, 22406, 22407, 22408, 22409,\n",
       "       22410, 22411, 22412, 22413, 22414, 22415, 22416, 22417, 22418,\n",
       "       22419, 22420, 22421, 22422, 22423, 22424, 22425, 22426, 22427,\n",
       "       22428, 22429, 22430, 22431, 22432, 22433, 22434, 22435, 22436,\n",
       "       22437, 22438, 22439, 22440, 22441, 22442, 22443, 22444, 22445,\n",
       "       22446, 22447, 22448, 22449, 22450, 22451, 22452, 22453, 22454,\n",
       "       22455, 22456, 22457, 22458, 22459, 22460, 22461, 22462, 22463,\n",
       "       22464, 22465, 22466, 22467, 22468, 22469, 22470, 22471, 22472,\n",
       "       22473, 22474, 22475, 22476, 22477, 22478, 22479, 22480, 22481,\n",
       "       22482, 22483, 22484, 22485, 22486, 22487, 22488, 22489, 22490,\n",
       "       22491, 22492, 22493, 22494, 22495, 22496, 22497, 22498, 22499,\n",
       "       22500, 22501, 22502, 22503, 22504, 22505, 22506, 22507, 22508,\n",
       "       22509, 22510, 22511, 22512, 22513, 22514, 22515, 22516, 22517,\n",
       "       22518, 22519, 22520, 22521, 22522, 22523, 22524, 22525, 22526,\n",
       "       22527, 22528, 22529, 22530, 22531, 22532, 22533, 22534, 22535,\n",
       "       22536, 22537, 22538, 22539, 22540, 22541, 22542, 22543, 22544,\n",
       "       22545, 22546, 22547, 22548, 22549, 22550, 22551, 22552, 22553,\n",
       "       22554, 22555, 22556, 22557, 22558, 22559, 22560, 22561, 22562,\n",
       "       22563, 22564, 22565, 22566, 22567, 22568, 22569, 22570, 22571,\n",
       "       22572, 22573, 22574, 22575, 22576, 22577, 22578, 22579, 22580,\n",
       "       22581, 22582, 22583, 22584, 22585, 22586, 22587, 22588, 22589,\n",
       "       22590, 22591, 22592, 22593, 22594, 22595, 22596, 22597, 22598,\n",
       "       22599, 22600, 22601, 22602, 22603, 22604, 22605, 22606, 22607,\n",
       "       22608, 22609, 22610, 22611, 22612, 22613, 22614, 22615, 22616,\n",
       "       22617, 22618, 22619, 22620, 22621, 22622, 22623, 22624, 22625,\n",
       "       22626, 22627, 22628, 22629, 22630, 22631, 22632, 22633, 22634,\n",
       "       22635, 22636, 22637, 22638, 22639, 22640, 22641, 22642, 22643,\n",
       "       22644, 22645, 22646, 22647, 22648, 22649, 22650, 22651, 22652,\n",
       "       22653, 22654, 22655, 22656, 22657, 22658, 22659, 22660, 22661,\n",
       "       22662, 22663, 22664, 22665, 22666, 22667, 22668, 22669, 22670,\n",
       "       22671, 22672, 22673, 22674, 22675, 22676, 22677, 22678, 22679,\n",
       "       22680, 22681, 22682, 22683, 22684, 22685, 22686, 22687, 22688,\n",
       "       22689, 22690, 22691, 22692, 22693, 22694, 22695, 22696, 22697,\n",
       "       22698, 22699, 22700, 22701, 22702, 22703, 22704, 22705, 22706,\n",
       "       22707, 22708, 22709, 22710, 22711, 22712, 22713, 22714, 22715,\n",
       "       22716, 22717, 22718, 22719, 22720, 22721, 22722, 22723, 22724,\n",
       "       22725, 22726, 22727, 22728, 22729, 22730, 22731, 22732, 22733,\n",
       "       22734, 22735, 22736, 22737, 22738, 22739, 22740, 22741, 22742,\n",
       "       22743, 22744, 22745, 22746, 22747, 22748, 22749, 22750, 22751,\n",
       "       22752, 22753, 22754, 22755, 22756, 22757, 22758, 22759, 22760,\n",
       "       22761, 22762, 22763, 22764, 22765, 22766, 22767, 22768, 22769,\n",
       "       22770, 22771, 22772, 22773, 22774, 22775, 22776, 22777, 22778,\n",
       "       22779, 22780, 22781, 22782, 22783, 22784, 22785, 22786, 22787,\n",
       "       22788, 22789, 22790, 22791, 22792, 22793, 22794, 22795, 22796,\n",
       "       22797, 22798, 22799, 22800, 22801, 22802, 22803, 22804, 22805,\n",
       "       22806, 22807, 22808, 22809, 22810, 22811, 22812, 22813, 22814,\n",
       "       22815, 22816, 22817, 22818, 22819, 22820, 22821, 22822, 22823,\n",
       "       22824, 22825, 22826, 22827, 22828, 22829, 22830, 22831, 22832,\n",
       "       22833, 22834, 22835, 22836, 22837, 22838, 22839, 22840, 22841,\n",
       "       22842, 22843, 22844, 22845, 22846, 22847, 22848, 22849, 22850,\n",
       "       22851, 22852, 22853, 22854, 22855, 22856, 22857, 22858, 22859,\n",
       "       22860, 22861, 22862, 22863, 22864, 22865, 22866, 22867, 22868,\n",
       "       22869, 22870, 22871, 22872, 22873, 22874, 22875, 22876, 22877,\n",
       "       22878, 22879, 22880, 22881, 22882, 22883, 22884, 22885, 22886,\n",
       "       22887, 22888, 22889, 22890, 22891, 22892, 22893, 22894, 22895,\n",
       "       22896, 22897, 22898, 22899, 22900, 22901, 22902, 22903, 22904,\n",
       "       22905, 22906, 22907, 22908, 22909, 22910, 22911, 22912, 22913,\n",
       "       22914, 22915, 22916, 22917, 22918, 22919, 22920, 22921, 22922,\n",
       "       22923, 22924, 22925, 22926, 22927, 22928, 22929, 22930, 22931,\n",
       "       22932, 22933, 22934, 22935, 22936, 22937, 22938, 22939, 22940,\n",
       "       22941, 22942, 22943, 22944, 22945, 22946, 22947, 22948, 22949,\n",
       "       22950, 22951, 22952, 22953, 22954, 22955, 22956, 22957, 22958,\n",
       "       22959, 22960, 22961, 22962, 22963, 22964, 22965, 22966, 22967,\n",
       "       22968, 22969, 22970, 22971, 22972, 22973, 22974, 22975, 22976,\n",
       "       22977, 22978, 22979, 22980, 22981, 22982, 22983, 22984, 22985,\n",
       "       22986, 22987, 22988, 22989, 22990, 22991, 22992, 22993, 22994,\n",
       "       22995, 22996, 22997, 22998, 22999, 23000, 23001, 23002, 23003,\n",
       "       23004, 23005, 23006, 23007, 23008, 23009, 23010, 23011, 23012,\n",
       "       23013, 23014, 23015, 23016, 23017, 23018, 23019, 23020, 23021,\n",
       "       23022, 23023, 23024, 23025, 23026, 23027, 23028, 23029, 23030,\n",
       "       23031, 23032, 23033, 23034, 23035, 23036, 23037, 23038, 23039,\n",
       "       23040, 23041, 23042, 23043, 23044, 23045, 23046, 23047, 23048,\n",
       "       23049, 23050, 23051, 23052, 23053, 23054, 23055, 23056, 23057,\n",
       "       23058, 23059, 23060, 23061, 23062, 23063, 23064, 23065, 23066,\n",
       "       23067, 23068, 23069, 23070, 23071, 23072, 23073, 23074, 23075,\n",
       "       23076, 23077, 23078, 23079, 23080, 23081, 23082, 23083, 23084,\n",
       "       23085, 23086, 23087, 23088, 23089, 23090, 23091, 23092, 23093,\n",
       "       23094, 23095, 23096, 23097, 23098, 23099, 23100, 23101, 23102,\n",
       "       23103, 23104, 23105, 23106, 23107, 23108, 23109, 23110, 23111,\n",
       "       23112, 23113, 23114, 23115, 23116, 23117, 23118, 23119, 23120,\n",
       "       23121, 23122, 23123, 23124, 23125, 23126, 23127, 23128, 23129,\n",
       "       23130, 23131, 23132, 23133, 23134, 23135, 23136, 23137, 23138,\n",
       "       23139, 23140, 23141, 23142, 23143, 23144, 23145, 23146, 23147,\n",
       "       23148, 23149, 23150, 23151, 23152, 23153, 23154, 23155, 23156,\n",
       "       23157, 23158, 23159, 23160, 23161, 23162, 23163, 23164, 23165,\n",
       "       23166, 23167, 23168, 23169, 23170, 23171, 23172, 23173, 23174,\n",
       "       23175, 23176, 23177, 23178, 23179, 23180, 23181, 23182, 23183,\n",
       "       23184, 23185, 23186, 23187, 23188, 23189, 23190, 23191, 23192,\n",
       "       23193, 23194, 23195, 23196, 23197, 23198, 23199, 23200, 23201,\n",
       "       23202, 23203, 23204, 23205, 23206, 23207, 23208, 23209, 23210,\n",
       "       23211, 23212, 23213, 23214, 23215, 23216, 23217, 23218, 23219,\n",
       "       23220, 23221, 23222, 23223, 23224, 23225, 23226, 23227, 23228,\n",
       "       23229, 23230, 23231, 23232, 23233, 23234, 23235, 23236, 23237,\n",
       "       23238, 23239, 23240, 23241, 23242, 23243, 23244, 23245, 23246,\n",
       "       23247, 23248, 23249, 23250, 23251, 23252, 23253, 23254, 23255,\n",
       "       23256, 23257, 23258, 23259, 23260, 23261, 23262, 23263, 23264,\n",
       "       23265, 23266, 23267, 23268, 23269, 23270, 23271, 23272, 23273,\n",
       "       23274, 23275, 23276, 23277, 23278, 23279, 23280, 23281, 23282,\n",
       "       23283, 23284, 23285, 23286, 23287, 23288, 23289, 23290, 23291,\n",
       "       23292, 23293, 23294, 23295, 23296, 23297, 23298, 23299, 23300,\n",
       "       23301, 23302, 23303, 23304, 23305, 23306, 23307, 23308, 23309,\n",
       "       23310, 23311, 23312, 23313, 23314, 23315, 23316, 23317, 23318,\n",
       "       23319, 23320, 23321, 23322, 23323, 23324, 23325, 23326, 23327,\n",
       "       23328, 23329, 23330, 23331, 23332, 23333, 23334, 23335, 23336,\n",
       "       23337, 23338, 23339, 23340, 23341, 23342, 23343, 23344, 23345,\n",
       "       23346, 23347, 23348, 23349, 23350, 23351, 23352, 23353, 23354,\n",
       "       23355, 23356, 23357, 23358, 23359, 23360, 23361, 23362, 23363,\n",
       "       23364, 23365, 23366, 23367, 23368, 23369, 23370, 23371, 23372,\n",
       "       23373, 23374, 23375, 23376, 23377, 23378, 23379, 23380, 23381,\n",
       "       23382, 23383, 23384, 23385, 23386, 23387, 23388, 23389, 23390,\n",
       "       23391, 23392, 23393, 23394, 23395, 23396, 23397, 23398, 23399,\n",
       "       23400, 23401, 23402, 23403, 23404, 23405, 23406, 23407, 23408,\n",
       "       23409, 23410, 23411, 23412, 23413, 23414, 23415, 23416, 23417,\n",
       "       23418, 23419, 23420, 23421, 23422, 23423, 23424, 23425, 23426,\n",
       "       23427, 23428, 23429, 23430, 23431, 23432, 23433, 23434, 23435,\n",
       "       23436, 23437, 23438, 23439, 23440, 23441, 23442, 23443, 23444,\n",
       "       23445, 23446, 23447, 23448, 23449, 23450, 23451, 23452, 23453,\n",
       "       23454, 23455, 23456, 23457, 23458, 23459, 23460, 23461, 23462,\n",
       "       23463, 23464, 23465, 23466, 23467, 23468, 23469, 23470, 23471,\n",
       "       23472, 23473, 23474, 23475, 23476, 23477, 23478, 23479, 23480,\n",
       "       23481, 23482, 23483, 23484, 23485, 23486, 23487, 23488, 23489,\n",
       "       23490, 23491, 23492, 23493, 23494, 23495, 23496, 23497, 23498,\n",
       "       23499, 23500, 23501, 23502, 23503, 23504, 23505, 23506, 23507,\n",
       "       23508, 23509, 23510, 23511, 23512, 23513, 23514, 23515, 23516,\n",
       "       23517, 23518, 23519, 23520, 23521, 23522, 23523, 23524, 23525,\n",
       "       23526, 23527, 23528, 23529, 23530, 23531, 23532, 23533, 23534,\n",
       "       23535, 23536, 23537, 23538, 23539, 23540, 23541, 23542, 23543,\n",
       "       23544, 23545, 23546, 23547, 23548, 23549, 23550, 23551, 23552,\n",
       "       23553, 23554, 23555, 23556, 23557, 23558, 23559, 23560, 23561,\n",
       "       23562, 23563, 23564, 23565, 23566, 23567, 23568, 23569, 23570,\n",
       "       23571, 23572, 23573, 23574, 23575, 23576, 23577, 23578, 23579,\n",
       "       23580, 23581, 23582, 23583, 23584, 23585, 23586, 23587, 23588,\n",
       "       23589, 23590, 23591, 23592, 23593, 23594, 23595, 23596, 23597,\n",
       "       23598, 23599, 23600, 23601, 23602, 23603, 23604, 23605, 23606,\n",
       "       23607, 23608, 23609, 23610, 23611, 23612, 23613, 23614, 23615,\n",
       "       23616, 23617, 23618, 23619, 23620, 23621, 23622, 23623, 23624,\n",
       "       23625, 23626, 23627, 23628, 23629, 23630, 23631, 23632, 23633,\n",
       "       23634, 23635, 23636, 23637, 23638, 23639, 23640, 23641, 23642,\n",
       "       23643, 23644, 23645, 23646, 23647, 23648, 23649, 23650, 23651,\n",
       "       23652, 23653, 23654, 23655, 23656, 23657, 23658, 23659, 23660,\n",
       "       23661, 23662, 23663, 23664, 23665, 23666, 23667, 23668, 23669,\n",
       "       23670, 23671, 23672, 23673, 23674, 23675, 23676, 23677, 23678,\n",
       "       23679, 23680, 23681, 23682, 23683, 23684, 23685, 23686, 23687,\n",
       "       23688, 23689, 23690, 23691, 23692, 23693, 23694, 23695, 23696,\n",
       "       23697, 23698, 23699, 23700, 23701, 23702, 23703, 23704, 23705,\n",
       "       23706, 23707, 23708, 23709, 23710, 23711, 23712, 23713, 23714,\n",
       "       23715, 23716, 23717, 23718, 23719, 23720, 23721, 23722, 23723,\n",
       "       23724, 23725, 23726, 23727, 23728, 23729, 23730, 23731, 23732,\n",
       "       23733, 23734, 23735, 23736, 23737, 23738, 23739, 23740, 23741,\n",
       "       23742, 23743, 23744, 23745, 23746, 23747, 23748, 23749, 23750,\n",
       "       23751, 23752, 23753, 23754, 23755, 23756, 23757, 23758, 23759,\n",
       "       23760, 23761, 23762, 23763, 23764, 23765, 23766, 23767, 23768,\n",
       "       23769, 23770, 23771, 23772, 23773, 23774, 23775, 23776, 23777,\n",
       "       23778, 23779, 23780, 23781, 23782, 23783, 23784, 23785, 23786,\n",
       "       23787, 23788, 23789, 23790, 23791, 23792, 23793, 23794, 23795,\n",
       "       23796, 23797, 23798, 23799, 23800, 23801, 23802, 23803, 23804,\n",
       "       23805, 23806, 23807, 23808, 23809, 23810, 23811, 23812, 23813,\n",
       "       23814, 23815, 23816, 23817, 23818, 23819, 23820, 23821, 23822,\n",
       "       23823, 23824, 23825, 23826, 23827, 23828, 23829, 23830, 23831,\n",
       "       23832, 23833, 23834, 23835, 23836, 23837, 23838, 23839, 23840,\n",
       "       23841, 23842, 23843, 23844, 23845, 23846, 23847, 23848, 23849,\n",
       "       23850, 23851, 23852, 23853, 23854, 23855, 23856, 23857, 23858,\n",
       "       23859, 23860, 23861, 23862, 23863, 23864, 23865, 23866, 23867,\n",
       "       23868, 23869, 23870, 23871, 23872, 23873, 23874, 23875, 23876,\n",
       "       23877, 23878, 23879, 23880, 23881, 23882, 23883, 23884, 23885,\n",
       "       23886, 23887, 23888, 23889, 23890, 23891, 23892, 23893, 23894,\n",
       "       23895, 23896, 23897, 23898, 23899, 23900, 23901, 23902, 23903,\n",
       "       23904, 23905, 23906, 23907, 23908, 23909, 23910, 23911, 23912,\n",
       "       23913, 23914, 23915, 23916, 23917, 23918, 23919, 23920, 23921,\n",
       "       23922, 23923, 23924, 23925, 23926, 23927, 23928, 23929, 23930,\n",
       "       23931, 23932, 23933, 23934, 23935, 23936, 23937, 23938, 23939,\n",
       "       23940, 23941, 23942, 23943, 23944, 23945, 23946, 23947, 23948,\n",
       "       23949, 23950, 23951, 23952, 23953, 23954, 23955, 23956, 23957,\n",
       "       23958, 23959, 23960, 23961, 23962, 23963, 23964, 23965, 23966,\n",
       "       23967, 23968, 23969, 23970, 23971, 23972, 23973, 23974, 23975,\n",
       "       23976, 23977, 23978, 23979, 23980, 23981, 23982, 23983, 23984,\n",
       "       23985, 23986, 23987, 23988, 23989, 23990, 23991, 23992, 23993,\n",
       "       23994, 23995, 23996, 23997, 23998, 23999, 24000, 24001, 24002,\n",
       "       24003, 24004, 24005, 24006, 24007, 24008, 24009, 24010, 24011,\n",
       "       24012, 24013, 24014, 24015, 24016, 24017, 24018, 24019, 24020,\n",
       "       24021, 24022, 24023, 24024, 24025, 24026, 24027, 24028, 24029,\n",
       "       24030, 24031, 24032, 24033, 24034, 24035, 24036, 24037, 24038,\n",
       "       24039, 24040, 24041, 24042, 24043, 24044, 24045, 24046, 24047,\n",
       "       24048, 24049, 24050, 24051, 24052, 24053, 24054, 24055, 24056,\n",
       "       24057, 24058, 24059, 24060, 24061, 24062, 24063, 24064, 24065,\n",
       "       24066, 24067, 24068, 24069, 24070, 24071, 24072, 24073, 24074,\n",
       "       24075, 24076, 24077, 24078, 24079, 24080, 24081, 24082, 24083,\n",
       "       24084, 24085, 24086, 24087, 24088, 24089, 24090, 24091, 24092,\n",
       "       24093, 24094, 24095, 24096, 24097, 24098, 24099, 24100, 24101,\n",
       "       24102, 24103, 24104, 24105, 24106, 24107, 24108, 24109, 24110,\n",
       "       24111, 24112, 24113, 24114, 24115, 24116, 24117, 24118, 24119,\n",
       "       24120, 24121, 24122, 24123, 24124, 24125, 24126, 24127, 24128,\n",
       "       24129, 24130, 24131, 24132, 24133, 24134, 24135, 24136, 24137,\n",
       "       24138, 24139, 24140, 24141, 24142, 24143, 24144, 24145, 24146,\n",
       "       24147, 24148, 24149, 24150, 24151, 24152, 24153, 24154, 24155,\n",
       "       24156, 24157, 24158, 24159, 24160, 24161, 24162, 24163, 24164,\n",
       "       24165, 24166, 24167, 24168, 24169, 24170, 24171, 24172, 24173,\n",
       "       24174, 24175, 24176, 24177, 24178, 24179, 24180, 24181, 24182,\n",
       "       24183, 24184, 24185, 24186, 24187, 24188, 24189, 24190, 24191,\n",
       "       24192, 24193, 24194, 24195, 24196, 24197, 24198, 24199, 24200,\n",
       "       24201, 24202, 24203, 24204, 24205, 24206, 24207, 24208, 24209,\n",
       "       24210, 24211, 24212, 24213, 24214, 24215, 24216, 24217, 24218,\n",
       "       24219, 24220, 24221, 24222, 24223, 24224, 24225, 24226, 24227,\n",
       "       24228, 24229, 24230, 24231, 24232, 24233, 24234, 24235, 24236,\n",
       "       24237, 24238, 24239, 24240, 24241, 24242, 24243, 24244, 24245,\n",
       "       24246, 24247, 24248, 24249, 24250, 24251, 24252, 24253, 24254,\n",
       "       24255, 24256, 24257, 24258, 24259, 24260, 24261, 24262, 24263,\n",
       "       24264, 24265, 24266, 24267, 24268, 24269, 24270, 24271, 24272,\n",
       "       24273, 24274, 24275, 24276, 24277, 24278, 24279, 24280, 24281,\n",
       "       24282, 24283, 24284, 24285, 24286, 24287, 24288, 24289, 24290,\n",
       "       24291, 24292, 24293, 24294, 24295, 24296, 24297, 24298, 24299,\n",
       "       24300, 24301, 24302, 24303, 24304, 24305, 24306, 24307, 24308,\n",
       "       24309, 24310, 24311, 24312, 24313, 24314, 24315, 24316, 24317,\n",
       "       24318, 24319, 24320, 24321, 24322, 24323, 24324, 24325, 24326,\n",
       "       24327, 24328, 24329, 24330, 24331, 24332, 24333, 24334, 24335,\n",
       "       24336, 24337, 24338, 24339, 24340, 24341, 24342, 24343, 24344,\n",
       "       24345, 24346, 24347, 24348, 24349, 24350, 24351, 24352, 24353,\n",
       "       24354, 24355, 24356, 24357, 24358, 24359, 24360, 24361, 24362,\n",
       "       24363, 24364, 24365, 24366, 24367, 24368, 24369, 24370, 24371,\n",
       "       24372, 24373, 24374, 24375, 24376, 24377, 24378, 24379, 24380,\n",
       "       24381, 24382, 24383, 24384, 24385, 24386, 24387, 24388, 24389,\n",
       "       24390, 24391, 24392, 24393, 24394, 24395, 24396, 24397, 24398,\n",
       "       24399, 24400, 24401, 24402, 24403, 24404, 24405, 24406, 24407,\n",
       "       24408, 24409, 24410, 24411, 24412, 24413, 24414, 24415, 24416,\n",
       "       24417, 24418, 24419, 24420, 24421, 24422, 24423, 24424, 24425,\n",
       "       24426, 24427, 24428, 24429, 24430, 24431, 24432, 24433, 24434,\n",
       "       24435, 24436, 24437, 24438, 24439, 24440, 24441, 24442, 24443,\n",
       "       24444, 24445, 24446, 24447, 24448, 24449, 24450, 24451, 24452,\n",
       "       24453, 24454, 24455, 24456, 24457, 24458, 24459, 24460, 24461,\n",
       "       24462, 24463, 24464, 24465, 24466, 24467, 24468, 24469, 24470,\n",
       "       24471, 24472, 24473, 24474, 24475, 24476, 24477, 24478, 24479,\n",
       "       24480, 24481, 24482, 24483, 24484, 24485, 24486, 24487, 24488,\n",
       "       24489, 24490, 24491, 24492, 24493, 24494, 24495, 24496, 24497,\n",
       "       24498, 24499, 24500, 24501, 24502, 24503, 24504, 24505, 24506,\n",
       "       24507, 24508, 24509, 24510, 24511, 24512, 24513, 24514, 24515,\n",
       "       24516, 24517, 24518, 24519, 24520, 24521, 24522, 24523, 24524,\n",
       "       24525, 24526, 24527, 24528, 24529, 24530, 24531, 24532, 24533,\n",
       "       24534, 24535, 24536, 24537, 24538, 24539, 24540, 24541, 24542,\n",
       "       24543, 24544, 24545, 24546, 24547, 24548, 24549, 24550, 24551,\n",
       "       24552, 24553, 24554, 24555, 24556, 24557, 24558, 24559, 24560,\n",
       "       24561, 24562, 24563, 24564, 24565, 24566, 24567, 24568, 24569,\n",
       "       24570, 24571, 24572, 24573, 24574, 24575, 24576, 24577, 24578,\n",
       "       24579, 24580, 24581, 24582, 24583, 24584, 24585, 24586, 24587,\n",
       "       24588, 24589, 24590, 24591, 24592, 24593, 24594, 24595, 24596,\n",
       "       24597, 24598, 24599, 24600, 24601, 24602, 24603, 24604, 24605,\n",
       "       24606, 24607, 24608, 24609, 24610, 24611, 24612, 24613, 24614,\n",
       "       24615, 24616, 24617, 24618, 24619, 24620, 24621, 24622, 24623,\n",
       "       24624, 24625, 24626, 24627, 24628, 24629, 24630, 24631, 24632,\n",
       "       24633, 24634, 24635, 24636, 24637, 24638, 24639, 24640, 24641,\n",
       "       24642, 24643, 24644, 24645, 24646, 24647, 24648, 24649, 24650,\n",
       "       24651, 24652, 24653, 24654, 24655, 24656, 24657, 24658, 24659,\n",
       "       24660, 24661, 24662, 24663, 24664, 24665, 24666, 24667, 24668,\n",
       "       24669, 24670, 24671, 24672, 24673, 24674, 24675, 24676, 24677,\n",
       "       24678, 24679, 24680, 24681, 24682, 24683, 24684, 24685, 24686,\n",
       "       24687, 24688, 24689, 24690, 24691, 24692, 24693, 24694, 24695,\n",
       "       24696, 24697, 24698, 24699, 24700, 24701, 24702, 24703, 24704,\n",
       "       24705, 24706, 24707, 24708, 24709, 24710, 24711, 24712, 24713,\n",
       "       24714, 24715, 24716, 24717, 24718, 24719, 24720, 24721, 24722,\n",
       "       24723, 24724, 24725, 24726, 24727, 24728, 24729, 24730, 24731,\n",
       "       24732, 24733, 24734, 24735, 24736, 24737, 24738, 24739, 24740,\n",
       "       24741, 24742, 24743, 24744, 24745, 24746, 24747, 24748, 24749,\n",
       "       24750, 24751, 24752, 24753, 24754, 24755, 24756, 24757, 24758,\n",
       "       24759, 24760, 24761, 24762, 24763, 24764, 24765, 24766, 24767,\n",
       "       24768, 24769, 24770, 24771, 24772, 24773, 24774, 24775, 24776,\n",
       "       24777, 24778, 24779, 24780, 24781, 24782, 24783, 24784, 24785,\n",
       "       24786, 24787, 24788, 24789, 24790, 24791, 24792, 24793, 24794,\n",
       "       24795, 24796, 24797, 24798, 24799, 24800, 24801, 24802, 24803,\n",
       "       24804, 24805, 24806, 24807, 24808, 24809, 24810, 24811, 24812,\n",
       "       24813, 24814, 24815, 24816, 24817, 24818, 24819, 24820, 24821,\n",
       "       24822, 24823, 24824, 24825, 24826, 24827, 24828, 24829, 24830,\n",
       "       24831, 24832, 24833, 24834, 24835, 24836, 24837, 24838, 24839,\n",
       "       24840, 24841, 24842, 24843, 24844, 24845, 24846, 24847, 24848,\n",
       "       24849, 24850, 24851, 24852, 24853, 24854, 24855, 24856, 24857,\n",
       "       24858, 24859, 24860, 24861, 24862, 24863, 24864, 24865, 24866,\n",
       "       24867, 24868, 24869, 24870, 24871, 24872, 24873, 24874, 24875,\n",
       "       24876, 24877, 24878, 24879, 24880, 24881, 24882, 24883, 24884,\n",
       "       24885, 24886, 24887, 24888, 24889, 24890, 24891, 24892, 24893,\n",
       "       24894, 24895, 24896, 24897, 24898, 24899, 24900, 24901, 24902,\n",
       "       24903, 24904, 24905, 24906, 24907, 24908, 24909, 24910, 24911,\n",
       "       24912, 24913, 24914, 24915, 24916, 24917, 24918, 24919, 24920,\n",
       "       24921, 24922, 24923, 24924, 24925, 24926, 24927, 24928, 24929,\n",
       "       24930, 24931, 24932, 24933, 24934, 24935, 24936, 24937, 24938,\n",
       "       24939, 24940, 24941, 24942, 24943, 24944, 24945, 24946, 24947,\n",
       "       24948, 24949, 24950, 24951, 24952, 24953, 24954, 24955, 24956,\n",
       "       24957, 24958, 24959, 24960, 24961, 24962, 24963, 24964, 24965,\n",
       "       24966, 24967, 24968, 24969, 24970, 24971, 24972, 24973, 24974,\n",
       "       24975, 24976, 24977, 24978, 24979, 24980, 24981, 24982, 24983,\n",
       "       24984, 24985, 24986, 24987, 24988, 24989, 24990, 24991, 24992,\n",
       "       24993, 24994, 24995, 24996, 24997, 24998, 24999, 25000, 25001,\n",
       "       25002, 25003, 25004, 25005, 25006, 25007, 25008, 25009, 25010,\n",
       "       25011, 25012, 25013, 25014, 25015, 25016, 25017, 25018, 25019,\n",
       "       25020, 25021, 25022, 25023, 25024, 25025, 25026, 25027, 25028,\n",
       "       25029, 25030, 25031, 25032, 25033, 25034, 25035, 25036, 25037,\n",
       "       25038, 25039, 25040, 25041, 25042, 25043, 25044, 25045, 25046,\n",
       "       25047, 25048, 25049, 25050, 25051, 25052, 25053, 25054, 25055,\n",
       "       25056, 25057, 25058, 25059, 25060, 25061, 25062, 25063, 25064,\n",
       "       25065, 25066, 25067, 25068, 25069, 25070, 25071, 25072, 25073,\n",
       "       25074, 25075, 25076, 25077, 25078, 25079, 25080, 25081, 25082,\n",
       "       25083, 25084, 25085, 25086, 25087, 25088, 25089, 25090, 25091,\n",
       "       25092, 25093, 25094, 25095, 25096, 25097, 25098, 25099, 25100,\n",
       "       25101, 25102, 25103, 25104, 25105, 25106, 25107, 25108, 25109,\n",
       "       25110, 25111, 25112, 25113, 25114, 25115, 25116, 25117, 25118,\n",
       "       25119, 25120, 25121, 25122, 25123, 25124, 25125, 25126, 25127,\n",
       "       25128, 25129, 25130, 25131, 25132, 25133, 25134, 25135, 25136,\n",
       "       25137, 25138, 25139, 25140, 25141, 25142, 25143, 25144, 25145,\n",
       "       25146, 25147, 25148, 25149, 25150, 25151, 25152, 25153, 25154,\n",
       "       25155, 25156, 25157, 25158, 25159, 25160, 25161, 25162, 25163,\n",
       "       25164, 25165, 25166, 25167, 25168, 25169, 25170, 25171, 25172,\n",
       "       25173, 25174, 25175, 25176, 25177, 25178, 25179, 25180, 25181,\n",
       "       25182, 25183, 25184, 25185, 25186, 25187, 25188, 25189, 25190,\n",
       "       25191, 25192, 25193, 25194, 25195, 25196, 25197, 25198, 25199,\n",
       "       25200, 25201, 25202, 25203, 25204, 25205, 25206, 25207, 25208,\n",
       "       25209, 25210, 25211, 25212, 25213, 25214, 25215, 25216, 25217,\n",
       "       25218, 25219, 25220, 25221, 25222, 25223, 25224, 25225, 25226,\n",
       "       25227, 25228, 25229, 25230, 25231, 25232, 25233, 25234, 25235,\n",
       "       25236, 25237, 25238, 25239, 25240, 25241, 25242, 25243, 25244,\n",
       "       25245, 25246, 25247, 25248, 25249, 25250, 25251, 25252, 25253,\n",
       "       25254, 25255, 25256, 25257, 25258, 25259, 25260, 25261, 25262,\n",
       "       25263, 25264, 25265, 25266, 25267, 25268, 25269, 25270, 25271,\n",
       "       25272, 25273, 25274, 25275, 25276, 25277, 25278, 25279, 25280,\n",
       "       25281, 25282, 25283, 25284, 25285, 25286, 25287, 25288, 25289,\n",
       "       25290, 25291, 25292, 25293, 25294, 25295, 25296, 25297, 25298,\n",
       "       25299, 25300, 25301, 25302, 25303, 25304, 25305, 25306, 25307,\n",
       "       25308, 25309, 25310, 25311, 25312, 25313, 25314, 25315, 25316,\n",
       "       25317, 25318, 25319, 25320, 25321, 25322, 25323, 25324, 25325,\n",
       "       25326, 25327, 25328, 25329, 25330, 25331, 25332, 25333, 25334,\n",
       "       25335, 25336, 25337, 25338, 25339, 25340, 25341, 25342, 25343,\n",
       "       25344, 25345, 25346, 25347, 25348, 25349, 25350, 25351, 25352,\n",
       "       25353, 25354, 25355, 25356, 25357, 25358, 25359, 25360, 25361,\n",
       "       25362, 25363, 25364, 25365, 25366, 25367, 25368, 25369, 25370,\n",
       "       25371, 25372, 25373, 25374, 25375, 25376, 25377, 25378, 25379,\n",
       "       25380, 25381, 25382, 25383, 25384, 25385, 25386, 25387, 25388,\n",
       "       25389, 25390, 25391, 25392, 25393, 25394, 25395, 25396, 25397,\n",
       "       25398, 25399, 25400, 25401, 25402, 25403, 25404, 25405, 25406,\n",
       "       25407, 25408, 25409, 25410, 25411, 25412, 25413, 25414, 25415,\n",
       "       25416, 25417, 25418, 25419, 25420, 25421, 25422, 25423, 25424,\n",
       "       25425, 25426, 25427, 25428, 25429, 25430, 25431, 25432, 25433,\n",
       "       25434, 25435, 25436, 25437, 25438, 25439, 25440, 25441, 25442,\n",
       "       25443, 25444, 25445, 25446, 25447, 25448, 25449, 25450, 25451,\n",
       "       25452, 25453, 25454, 25455, 25456, 25457, 25458, 25459, 25460,\n",
       "       25461, 25462, 25463, 25464, 25465, 25466, 25467, 25468, 25469,\n",
       "       25470, 25471, 25472, 25473, 25474, 25475, 25476, 25477, 25478,\n",
       "       25479, 25480, 25481, 25482, 25483, 25484, 25485, 25486, 25487,\n",
       "       25488, 25489, 25490, 25491, 25492, 25493, 25494, 25495, 25496,\n",
       "       25497, 25498, 25499, 25500, 25501, 25502, 25503, 25504, 25505,\n",
       "       25506, 25507, 25508, 25509, 25510, 25511, 25512, 25513, 25514,\n",
       "       25515, 25516, 25517, 25518, 25519, 25520, 25521, 25522, 25523,\n",
       "       25524, 25525, 25526, 25527, 25528, 25529, 25530, 25531, 25532,\n",
       "       25533, 25534, 25535, 25536, 25537, 25538, 25539, 25540, 25541,\n",
       "       25542, 25543, 25544, 25545, 25546, 25547, 25548, 25549, 25550,\n",
       "       25551, 25552, 25553, 25554, 25555, 25556, 25557, 25558, 25559,\n",
       "       25560, 25561, 25562, 25563, 25564, 25565, 25566, 25567, 25568,\n",
       "       25569, 25570, 25571, 25572, 25573, 25574, 25575, 25576, 25577,\n",
       "       25578, 25579, 25580, 25581, 25582, 25583, 25584, 25585, 25586,\n",
       "       25587, 25588, 25589, 25590, 25591, 25592, 25593, 25594, 25595,\n",
       "       25596, 25597, 25598, 25599, 25600, 25601, 25602, 25603, 25604,\n",
       "       25605, 25606, 25607, 25608, 25609, 25610, 25611, 25612, 25613,\n",
       "       25614, 25615, 25616, 25617, 25618, 25619, 25620, 25621, 25622,\n",
       "       25623, 25624, 25625, 25626, 25627, 25628, 25629, 25630, 25631,\n",
       "       25632, 25633, 25634, 25635, 25636, 25637, 25638, 25639, 25640,\n",
       "       25641, 25642, 25643, 25644, 25645, 25646, 25647, 25648, 25649,\n",
       "       25650, 25651, 25652, 25653, 25654, 25655, 25656, 25657, 25658,\n",
       "       25659, 25660, 25661, 25662, 25663, 25664, 25665, 25666, 25667,\n",
       "       25668, 25669, 25670, 25671, 25672, 25673, 25674, 25675, 25676,\n",
       "       25677, 25678, 25679, 25680, 25681, 25682, 25683, 25684, 25685,\n",
       "       25686, 25687, 25688, 25689, 25690, 25691, 25692, 25693, 25694,\n",
       "       25695, 25696, 25697, 25698, 25699, 25700, 25701, 25702, 25703,\n",
       "       25704, 25705, 25706, 25707, 25708, 25709, 25710, 25711, 25712,\n",
       "       25713, 25714, 25715, 25716, 25717, 25718, 25719, 25720, 25721,\n",
       "       25722, 25723, 25724, 25725, 25726, 25727, 25728, 25729, 25730,\n",
       "       25731, 25732, 25733, 25734, 25735, 25736, 25737, 25738, 25739,\n",
       "       25740, 25741, 25742, 25743, 25744, 25745, 25746, 25747, 25748,\n",
       "       25749, 25750, 25751, 25752, 25753, 25754, 25755, 25756, 25757,\n",
       "       25758, 25759, 25760, 25761, 25762, 25763, 25764, 25765, 25766,\n",
       "       25767, 25768, 25769, 25770, 25771, 25772, 25773, 25774, 25775,\n",
       "       25776, 25777, 25778, 25779, 25780, 25781, 25782, 25783, 25784,\n",
       "       25785, 25786, 25787, 25788, 25789, 25790, 25791, 25792, 25793,\n",
       "       25794, 25795, 25796, 25797, 25798, 25799, 25800, 25801, 25802,\n",
       "       25803, 25804, 25805, 25806, 25807, 25808, 25809, 25810, 25811,\n",
       "       25812, 25813, 25814, 25815, 25816, 25817, 25818, 25819, 25820,\n",
       "       25821, 25822, 25823, 25824, 25825, 25826, 25827, 25828, 25829,\n",
       "       25830, 25831, 25832, 25833, 25834, 25835, 25836, 25837, 25838,\n",
       "       25839, 25840, 25841, 25842, 25843, 25844, 25845, 25846, 25847,\n",
       "       25848, 25849, 25850, 25851, 25852, 25853, 25854, 25855, 25856,\n",
       "       25857, 25858, 25859, 25860, 25861, 25862, 25863, 25864, 25865,\n",
       "       25866, 25867, 25868, 25869, 25870, 25871, 25872, 25873, 25874,\n",
       "       25875, 25876, 25877, 25878, 25879, 25880, 25881, 25882, 25883,\n",
       "       25884, 25885, 25886, 25887, 25888, 25889, 25890, 25891, 25892,\n",
       "       25893, 25894, 25895, 25896, 25897, 25898, 25899, 25900, 25901,\n",
       "       25902, 25903, 25904, 25905, 25906, 25907, 25908, 25909, 25910,\n",
       "       25911, 25912, 25913, 25914, 25915, 25916, 25917, 25918, 25919,\n",
       "       25920, 25921, 25922, 25923, 25924, 25925, 25926, 25927, 25928,\n",
       "       25929, 25930, 25931, 25932, 25933, 25934, 25935, 25936, 25937,\n",
       "       25938, 25939, 25940, 25941, 25942, 25943, 25944, 25945, 25946,\n",
       "       25947, 25948, 25949, 25950, 25951, 25952, 25953, 25954, 25955,\n",
       "       25956, 25957, 25958, 25959, 25960, 25961, 25962, 25963, 25964,\n",
       "       25965, 25966, 25967, 25968, 25969, 25970, 25971, 25972, 25973,\n",
       "       25974, 25975, 25976, 25977, 25978, 25979, 25980, 25981, 25982,\n",
       "       25983, 25984, 25985, 25986, 25987, 25988, 25989, 25990, 25991,\n",
       "       25992, 25993, 25994, 25995, 25996, 25997, 25998, 25999, 26000,\n",
       "       26001, 26002, 26003, 26004, 26005, 26006, 26007, 26008, 26009,\n",
       "       26010, 26011, 26012, 26013, 26014, 26015, 26016, 26017, 26018,\n",
       "       26019, 26020, 26021, 26022, 26023, 26024, 26025, 26026, 26027,\n",
       "       26028, 26029, 26030, 26031, 26032, 26033, 26034, 26035, 26036,\n",
       "       26037, 26038, 26039, 26040, 26041, 26042, 26043, 26044, 26045,\n",
       "       26046, 26047, 26048, 26049, 26050, 26051, 26052, 26053, 26054,\n",
       "       26055, 26056, 26057, 26058, 26059, 26060, 26061, 26062, 26063,\n",
       "       26064, 26065, 26066, 26067, 26068, 26069, 26070, 26071, 26072,\n",
       "       26073, 26074, 26075, 26076, 26077, 26078, 26079, 26080, 26081,\n",
       "       26082, 26083, 26084, 26085, 26086, 26087, 26088, 26089, 26090,\n",
       "       26091, 26092, 26093, 26094, 26095, 26096, 26097, 26098, 26099,\n",
       "       26100, 26101, 26102, 26103, 26104, 26105, 26106, 26107, 26108,\n",
       "       26109, 26110, 26111, 26112, 26113, 26114, 26115, 26116, 26117,\n",
       "       26118, 26119, 26120, 26121, 26122, 26123, 26124, 26125, 26126,\n",
       "       26127, 26128, 26129, 26130, 26131, 26132, 26133, 26134, 26135,\n",
       "       26136, 26137, 26138, 26139, 26140, 26141, 26142, 26143, 26144,\n",
       "       26145, 26146, 26147, 26148, 26149, 26150, 26151, 26152, 26153,\n",
       "       26154, 26155, 26156, 26157, 26158, 26159, 26160, 26161, 26162,\n",
       "       26163, 26164, 26165, 26166, 26167, 26168, 26169, 26170, 26171,\n",
       "       26172, 26173, 26174, 26175, 26176, 26177, 26178, 26179, 26180,\n",
       "       26181, 26182, 26183, 26184, 26185, 26186, 26187, 26188, 26189,\n",
       "       26190, 26191, 26192, 26193, 26194, 26195, 26196, 26197, 26198,\n",
       "       26199, 26200, 26201, 26202, 26203, 26204, 26205, 26206, 26207,\n",
       "       26208, 26209, 26210, 26211, 26212, 26213, 26214, 26215, 26216,\n",
       "       26217, 26218, 26219, 26220, 26221, 26222, 26223, 26224, 26225,\n",
       "       26226, 26227, 26228, 26229, 26230, 26231, 26232, 26233, 26234,\n",
       "       26235, 26236, 26237, 26238, 26239, 26240, 26241, 26242, 26243,\n",
       "       26244, 26245, 26246, 26247, 26248, 26249, 26250, 26251, 26252,\n",
       "       26253, 26254, 26255, 26256, 26257, 26258, 26259, 26260, 26261,\n",
       "       26262, 26263, 26264, 26265, 26266, 26267, 26268, 26269, 26270,\n",
       "       26271, 26272, 26273, 26274, 26275, 26276, 26277, 26278, 26279,\n",
       "       26280, 26281, 26282, 26283, 26284, 26285, 26286, 26287, 26288,\n",
       "       26289, 26290, 26291, 26292, 26293, 26294, 26295, 26296, 26297,\n",
       "       26298, 26299, 26300, 26301, 26302, 26303, 26304, 26305, 26306,\n",
       "       26307, 26308, 26309, 26310, 26311, 26312, 26313, 26314, 26315,\n",
       "       26316, 26317, 26318, 26319, 26320, 26321, 26322, 26323, 26324,\n",
       "       26325, 26326, 26327, 26328, 26329, 26330, 26331, 26332, 26333,\n",
       "       26334, 26335, 26336, 26337, 26338, 26339, 26340, 26341, 26342,\n",
       "       26343, 26344, 26345, 26346, 26347, 26348, 26349, 26350, 26351,\n",
       "       26352, 26353, 26354, 26355, 26356, 26357, 26358, 26359, 26360,\n",
       "       26361, 26362, 26363, 26364, 26365, 26366, 26367, 26368, 26369,\n",
       "       26370, 26371, 26372, 26373, 26374, 26375, 26376, 26377, 26378,\n",
       "       26379, 26380, 26381, 26382, 26383, 26384, 26385, 26386, 26387,\n",
       "       26388, 26389, 26390, 26391, 26392, 26393, 26394, 26395, 26396,\n",
       "       26397, 26398, 26399, 26400, 26401, 26402, 26403, 26404, 26405,\n",
       "       26406, 26407, 26408, 26409, 26410, 26411, 26412, 26413, 26414,\n",
       "       26415, 26416, 26417, 26418, 26419, 26420, 26421, 26422, 26423,\n",
       "       26424, 26425, 26426, 26427, 26428, 26429, 26430, 26431, 26432,\n",
       "       26433, 26434, 26435, 26436, 26437, 26438, 26439, 26440, 26441,\n",
       "       26442, 26443, 26444, 26445, 26446, 26447, 26448, 26449, 26450,\n",
       "       26451, 26452, 26453, 26454, 26455, 26456, 26457, 26458, 26459,\n",
       "       26460, 26461, 26462, 26463, 26464, 26465, 26466, 26467, 26468,\n",
       "       26469, 26470, 26471, 26472, 26473, 26474, 26475, 26476, 26477,\n",
       "       26478, 26479, 26480, 26481, 26482, 26483, 26484, 26485, 26486,\n",
       "       26487, 26488, 26489, 26490, 26491, 26492, 26493, 26494, 26495,\n",
       "       26496, 26497, 26498, 26499, 26500, 26501, 26502, 26503, 26504,\n",
       "       26505, 26506, 26507, 26508, 26509, 26510, 26511, 26512, 26513,\n",
       "       26514, 26515, 26516, 26517, 26518, 26519, 26520, 26521, 26522,\n",
       "       26523, 26524, 26525, 26526, 26527, 26528, 26529, 26530, 26531,\n",
       "       26532, 26533, 26534, 26535, 26536, 26537, 26538, 26539, 26540,\n",
       "       26541, 26542, 26543, 26544, 26545, 26546, 26547, 26548, 26549,\n",
       "       26550, 26551, 26552, 26553, 26554, 26555, 26556, 26557, 26558,\n",
       "       26559, 26560, 26561, 26562, 26563, 26564, 26565, 26566, 26567,\n",
       "       26568, 26569, 26570, 26571, 26572, 26573, 26574, 26575, 26576,\n",
       "       26577, 26578, 26579, 26580, 26581, 26582, 26583, 26584, 26585,\n",
       "       26586, 26587, 26588, 26589, 26590, 26591, 26592, 26593, 26594,\n",
       "       26595, 26596, 26597, 26598, 26599, 26600, 26601, 26602, 26603,\n",
       "       26604, 26605, 26606, 26607, 26608, 26609, 26610, 26611, 26612,\n",
       "       26613, 26614, 26615, 26616, 26617, 26618, 26619, 26620, 26621,\n",
       "       26622, 26623, 26624, 26625, 26626, 26627, 26628, 26629, 26630,\n",
       "       26631, 26632, 26633, 26634, 26635, 26636, 26637, 26638, 26639,\n",
       "       26640, 26641, 26642, 26643, 26644, 26645, 26646, 26647, 26648,\n",
       "       26649, 26650, 26651, 26652, 26653, 26654, 26655, 26656, 26657,\n",
       "       26658, 26659, 26660, 26661, 26662, 26663, 26664, 26665, 26666,\n",
       "       26667, 26668, 26669, 26670, 26671, 26672, 26673, 26674, 26675,\n",
       "       26676, 26677, 26678, 26679, 26680, 26681, 26682, 26683, 26684,\n",
       "       26685, 26686, 26687, 26688, 26689, 26690, 26691, 26692, 26693,\n",
       "       26694, 26695, 26696, 26697, 26698, 26699, 26700, 26701, 26702,\n",
       "       26703, 26704, 26705, 26706, 26707, 26708, 26709, 26710, 26711,\n",
       "       26712, 26713, 26714, 26715, 26716, 26717, 26718, 26719, 26720,\n",
       "       26721, 26722, 26723, 26724, 26725, 26726, 26727, 26728, 26729,\n",
       "       26730, 26731, 26732, 26733, 26734, 26735, 26736, 26737, 26738,\n",
       "       26739, 26740, 26741, 26742, 26743, 26744, 26745, 26746, 26747,\n",
       "       26748, 26749, 26750, 26751, 26752, 26753, 26754, 26755, 26756,\n",
       "       26757, 26758, 26759, 26760, 26761, 26762, 26763, 26764, 26765,\n",
       "       26766, 26767, 26768, 26769, 26770, 26771, 26772, 26773, 26774,\n",
       "       26775, 26776, 26777, 26778, 26779, 26780, 26781, 26782, 26783,\n",
       "       26784, 26785, 26786, 26787, 26788, 26789, 26790, 26791, 26792,\n",
       "       26793, 26794, 26795, 26796, 26797, 26798, 26799, 26800, 26801,\n",
       "       26802, 26803, 26804, 26805, 26806, 26807, 26808, 26809, 26810,\n",
       "       26811, 26812, 26813, 26814, 26815, 26816, 26817, 26818, 26819,\n",
       "       26820, 26821, 26822, 26823, 26824, 26825, 26826, 26827, 26828,\n",
       "       26829, 26830, 26831, 26832, 26833, 26834, 26835, 26836, 26837,\n",
       "       26838, 26839, 26840, 26841, 26842, 26843, 26844, 26845, 26846,\n",
       "       26847, 26848, 26849, 26850, 26851, 26852, 26853, 26854, 26855,\n",
       "       26856, 26857, 26858, 26859, 26860, 26861, 26862, 26863, 26864,\n",
       "       26865, 26866, 26867, 26868, 26869, 26870, 26871, 26872, 26873,\n",
       "       26874, 26875, 26876, 26877, 26878, 26879, 26880, 26881, 26882,\n",
       "       26883, 26884, 26885, 26886, 26887, 26888, 26889, 26890, 26891,\n",
       "       26892, 26893, 26894, 26895, 26896, 26897, 26898, 26899, 26900,\n",
       "       26901, 26902, 26903, 26904, 26905, 26906, 26907, 26908, 26909,\n",
       "       26910, 26911, 26912, 26913, 26914, 26915, 26916, 26917, 26918,\n",
       "       26919, 26920, 26921, 26922, 26923, 26924, 26925, 26926, 26927,\n",
       "       26928, 26929, 26930, 26931, 26932, 26933, 26934, 26935, 26936,\n",
       "       26937, 26938, 26939, 26940, 26941, 26942, 26943, 26944, 26945,\n",
       "       26946, 26947, 26948, 26949, 26950, 26951, 26952, 26953, 26954,\n",
       "       26955, 26956, 26957, 26958, 26959, 26960, 26961, 26962, 26963,\n",
       "       26964, 26965, 26966, 26967, 26968, 26969, 26970, 26971, 26972,\n",
       "       26973, 26974, 26975, 26976, 26977, 26978, 26979, 26980, 26981,\n",
       "       26982, 26983, 26984, 26985, 26986, 26987, 26988, 26989, 26990,\n",
       "       26991, 26992, 26993, 26994, 26995, 26996, 26997, 26998, 26999,\n",
       "       27000, 27001, 27002, 27003, 27004, 27005, 27006, 27007, 27008,\n",
       "       27009, 27010, 27011, 27012, 27013, 27014, 27015, 27016, 27017,\n",
       "       27018, 27019, 27020, 27021, 27022, 27023, 27024, 27025, 27026,\n",
       "       27027, 27028, 27029, 27030, 27031, 27032, 27033, 27034, 27035,\n",
       "       27036, 27037, 27038, 27039, 27040, 27041, 27042, 27043, 27044,\n",
       "       27045, 27046, 27047, 27048, 27049, 27050, 27051, 27052, 27053,\n",
       "       27054, 27055, 27056, 27057, 27058, 27059, 27060, 27061, 27062,\n",
       "       27063, 27064, 27065, 27066, 27067, 27068, 27069, 27070, 27071,\n",
       "       27072, 27073, 27074, 27075, 27076, 27077, 27078, 27079, 27080,\n",
       "       27081, 27082, 27083, 27084, 27085, 27086, 27087, 27088, 27089,\n",
       "       27090, 27091, 27092, 27093, 27094, 27095, 27096, 27097, 27098,\n",
       "       27099, 27100, 27101, 27102, 27103, 27104, 27105, 27106, 27107,\n",
       "       27108, 27109, 27110, 27111, 27112, 27113, 27114, 27115, 27116,\n",
       "       27117, 27118, 27119, 27120, 27121, 27122, 27123, 27124, 27125,\n",
       "       27126, 27127, 27128, 27129, 27130, 27131, 27132, 27133, 27134,\n",
       "       27135, 27136, 27137, 27138, 27139, 27140, 27141, 27142, 27143,\n",
       "       27144, 27145, 27146, 27147, 27148, 27149, 27150, 27151, 27152,\n",
       "       27153, 27154, 27155, 27156, 27157, 27158, 27159, 27160, 27161,\n",
       "       27162, 27163, 27164, 27165, 27166, 27167, 27168, 27169, 27170,\n",
       "       27171, 27172, 27173, 27174, 27175, 27176, 27177, 27178, 27179,\n",
       "       27180, 27181, 27182, 27183, 27184, 27185, 27186, 27187, 27188,\n",
       "       27189, 27190, 27191, 27192, 27193, 27194, 27195, 27196, 27197,\n",
       "       27198, 27199, 27200, 27201, 27202, 27203, 27204, 27205, 27206,\n",
       "       27207, 27208, 27209, 27210, 27211, 27212, 27213, 27214, 27215,\n",
       "       27216, 27217, 27218, 27219, 27220, 27221, 27222, 27223, 27224,\n",
       "       27225, 27226, 27227, 27228, 27229, 27230, 27231, 27232, 27233,\n",
       "       27234, 27235, 27236, 27237, 27238, 27239, 27240, 27241, 27242,\n",
       "       27243, 27244, 27245, 27246, 27247, 27248, 27249, 27250, 27251,\n",
       "       27252, 27253, 27254, 27255, 27256, 27257, 27258, 27259, 27260,\n",
       "       27261, 27262, 27263, 27264, 27265, 27266, 27267, 27268, 27269,\n",
       "       27270, 27271, 27272, 27273, 27274, 27275, 27276, 27277, 27278,\n",
       "       27279, 27280, 27281, 27282, 27283, 27284, 27285, 27286, 27287,\n",
       "       27288, 27289, 27290, 27291, 27292, 27293, 27294, 27295, 27296,\n",
       "       27297, 27298, 27299, 27300, 27301, 27302, 27303, 27304, 27305,\n",
       "       27306, 27307, 27308, 27309, 27310, 27311, 27312, 27313, 27314,\n",
       "       27315, 27316, 27317, 27318, 27319, 27320, 27321, 27322, 27323,\n",
       "       27324, 27325, 27326, 27327, 27328, 27329, 27330, 27331, 27332,\n",
       "       27333, 27334, 27335, 27336, 27337, 27338, 27339, 27340, 27341,\n",
       "       27342, 27343, 27344, 27345, 27346, 27347, 27348, 27349, 27350,\n",
       "       27351, 27352, 27353, 27354, 27355, 27356, 27357, 27358, 27359,\n",
       "       27360, 27361, 27362, 27363, 27364, 27365, 27366, 27367, 27368,\n",
       "       27369, 27370, 27371, 27372, 27373, 27374, 27375, 27376, 27377,\n",
       "       27378, 27379, 27380, 27381, 27382, 27383, 27384, 27385, 27386,\n",
       "       27387, 27388, 27389, 27390, 27391, 27392, 27393, 27394, 27395,\n",
       "       27396, 27397, 27398, 27399, 27400, 27401, 27402, 27403, 27404,\n",
       "       27405, 27406, 27407, 27408, 27409, 27410, 27411, 27412, 27413,\n",
       "       27414, 27415, 27416, 27417, 27418, 27419, 27420, 27421, 27422,\n",
       "       27423, 27424, 27425, 27426, 27427, 27428, 27429, 27430, 27431,\n",
       "       27432, 27433, 27434, 27435, 27436, 27437, 27438, 27439, 27440,\n",
       "       27441, 27442, 27443, 27444, 27445, 27446, 27447, 27448, 27449,\n",
       "       27450, 27451, 27452, 27453, 27454, 27455, 27456, 27457, 27458,\n",
       "       27459, 27460, 27461, 27462, 27463, 27464, 27465, 27466, 27467,\n",
       "       27468, 27469, 27470, 27471, 27472, 27473, 27474, 27475, 27476,\n",
       "       27477, 27478, 27479, 27480, 27481, 27482, 27483, 27484, 27485,\n",
       "       27486, 27487, 27488, 27489, 27490, 27491, 27492, 27493, 27494,\n",
       "       27495, 27496, 27497, 27498, 27499, 27500, 27501, 27502, 27503,\n",
       "       27504, 27505, 27506, 27507, 27508, 27509, 27510, 27511, 27512,\n",
       "       27513, 27514, 27515, 27516, 27517, 27518, 27519, 27520, 27521,\n",
       "       27522, 27523, 27524, 27525, 27526, 27527, 27528, 27529, 27530,\n",
       "       27531, 27532, 27533, 27534, 27535, 27536, 27537, 27538, 27539,\n",
       "       27540, 27541, 27542, 27543, 27544, 27545, 27546, 27547, 27548,\n",
       "       27549, 27550, 27551, 27552, 27553, 27554, 27555, 27556, 27557,\n",
       "       27558, 27559, 27560, 27561, 27562, 27563, 27564, 27565, 27566,\n",
       "       27567, 27568, 27569, 27570, 27571, 27572, 27573, 27574, 27575,\n",
       "       27576, 27577, 27578, 27579, 27580, 27581, 27582, 27583, 27584,\n",
       "       27585, 27586, 27587, 27588, 27589, 27590, 27591, 27592, 27593,\n",
       "       27594, 27595, 27596, 27597, 27598, 27599, 27600, 27601, 27602,\n",
       "       27603, 27604, 27605, 27606, 27607, 27608, 27609, 27610, 27611,\n",
       "       27612, 27613, 27614, 27615, 27616, 27617, 27618, 27619, 27620,\n",
       "       27621, 27622, 27623, 27624, 27625, 27626, 27627, 27628, 27629,\n",
       "       27630, 27631, 27632, 27633, 27634, 27635, 27636, 27637, 27638,\n",
       "       27639, 27640, 27641, 27642, 27643, 27644, 27645, 27646, 27647,\n",
       "       27648, 27649, 27650, 27651, 27652, 27653, 27654, 27655, 27656,\n",
       "       27657, 27658, 27659, 27660, 27661, 27662, 27663, 27664, 27665,\n",
       "       27666, 27667, 27668, 27669, 27670, 27671, 27672, 27673, 27674,\n",
       "       27675, 27676, 27677, 27678, 27679, 27680, 27681, 27682, 27683,\n",
       "       27684, 27685, 27686, 27687, 27688, 27689, 27690, 27691, 27692,\n",
       "       27693, 27694, 27695, 27696, 27697, 27698, 27699, 27700, 27701,\n",
       "       27702, 27703, 27704, 27705, 27706, 27707, 27708, 27709, 27710,\n",
       "       27711, 27712, 27713, 27714, 27715, 27716, 27717, 27718, 27719,\n",
       "       27720, 27721, 27722, 27723, 27724, 27725, 27726, 27727, 27728,\n",
       "       27729, 27730, 27731, 27732, 27733, 27734, 27735, 27736, 27737,\n",
       "       27738, 27739, 27740, 27741, 27742, 27743, 27744, 27745, 27746,\n",
       "       27747, 27748, 27749, 27750, 27751, 27752, 27753, 27754, 27755,\n",
       "       27756, 27757, 27758, 27759, 27760, 27761, 27762, 27763, 27764,\n",
       "       27765, 27766, 27767, 27768, 27769, 27770, 27771, 27772, 27773,\n",
       "       27774, 27775, 27776, 27777, 27778, 27779, 27780, 27781, 27782,\n",
       "       27783, 27784, 27785, 27786, 27787, 27788, 27789, 27790, 27791,\n",
       "       27792, 27793, 27794, 27795, 27796, 27797, 27798, 27799, 27800,\n",
       "       27801, 27802, 27803, 27804, 27805, 27806, 27807, 27808, 27809,\n",
       "       27810, 27811, 27812, 27813, 27814, 27815, 27816, 27817, 27818,\n",
       "       27819, 27820, 27821, 27822, 27823, 27824, 27825, 27826, 27827,\n",
       "       27828, 27829, 27830, 27831, 27832, 27833, 27834, 27835, 27836,\n",
       "       27837, 27838, 27839, 27840, 27841, 27842, 27843, 27844, 27845,\n",
       "       27846, 27847, 27848, 27849, 27850, 27851, 27852, 27853, 27854,\n",
       "       27855, 27856, 27857, 27858, 27859, 27860, 27861, 27862, 27863,\n",
       "       27864, 27865, 27866, 27867, 27868, 27869, 27870, 27871, 27872,\n",
       "       27873, 27874, 27875, 27876, 27877, 27878, 27879, 27880, 27881,\n",
       "       27882, 27883, 27884, 27885, 27886, 27887, 27888, 27889, 27890,\n",
       "       27891, 27892, 27893, 27894, 27895, 27896, 27897, 27898, 27899,\n",
       "       27900, 27901, 27902, 27903, 27904, 27905, 27906, 27907, 27908,\n",
       "       27909, 27910, 27911, 27912, 27913, 27914, 27915, 27916, 27917,\n",
       "       27918, 27919, 27920, 27921, 27922, 27923, 27924, 27925, 27926,\n",
       "       27927, 27928, 27929, 27930, 27931, 27932, 27933, 27934, 27935,\n",
       "       27936, 27937, 27938, 27939, 27940, 27941, 27942, 27943, 27944,\n",
       "       27945, 27946, 27947, 27948, 27949, 27950, 27951, 27952, 27953,\n",
       "       27954, 27955, 27956, 27957, 27958, 27959, 27960, 27961, 27962,\n",
       "       27963, 27964, 27965, 27966, 27967, 27968, 27969, 27970, 27971,\n",
       "       27972, 27973, 27974, 27975, 27976, 27977, 27978, 27979, 27980,\n",
       "       27981, 27982, 27983, 27984, 27985, 27986, 27987, 27988, 27989,\n",
       "       27990, 27991, 27992, 27993, 27994, 27995, 27996, 27997, 27998,\n",
       "       27999, 28000, 28001, 28002, 28003, 28004, 28005, 28006, 28007,\n",
       "       28008, 28009, 28010, 28011, 28012, 28013, 28014, 28015, 28016,\n",
       "       28017, 28018, 28019, 28020, 28021, 28022, 28023, 28024, 28025,\n",
       "       28026, 28027, 28028, 28029, 28030, 28031, 28032, 28033, 28034,\n",
       "       28035, 28036, 28037, 28038, 28039, 28040, 28041, 28042, 28043,\n",
       "       28044, 28045, 28046, 28047, 28048, 28049, 28050, 28051, 28052,\n",
       "       28053, 28054, 28055, 28056, 28057, 28058, 28059, 28060, 28061,\n",
       "       28062, 28063, 28064, 28065, 28066, 28067, 28068, 28069, 28070,\n",
       "       28071, 28072, 28073, 28074, 28075, 28076, 28077, 28078, 28079,\n",
       "       28080, 28081, 28082, 28083, 28084, 28085, 28086, 28087, 28088,\n",
       "       28089, 28090, 28091, 28092, 28093, 28094, 28095, 28096, 28097,\n",
       "       28098, 28099, 28100, 28101, 28102, 28103, 28104, 28105, 28106,\n",
       "       28107, 28108, 28109, 28110, 28111, 28112, 28113, 28114, 28115,\n",
       "       28116, 28117, 28118, 28119, 28120, 28121, 28122, 28123, 28124,\n",
       "       28125, 28126, 28127, 28128, 28129, 28130, 28131, 28132, 28133,\n",
       "       28134, 28135, 28136, 28137, 28138, 28139, 28140, 28141, 28142,\n",
       "       28143, 28144, 28145, 28146, 28147, 28148, 28149, 28150, 28151,\n",
       "       28152, 28153, 28154, 28155, 28156, 28157, 28158, 28159, 28160,\n",
       "       28161, 28162, 28163, 28164, 28165, 28166, 28167, 28168, 28169,\n",
       "       28170, 28171, 28172, 28173, 28174, 28175, 28176, 28177, 28178,\n",
       "       28179, 28180, 28181, 28182, 28183, 28184, 28185, 28186, 28187,\n",
       "       28188, 28189, 28190, 28191, 28192, 28193, 28194, 28195, 28196,\n",
       "       28197, 28198, 28199, 28200, 28201, 28202, 28203, 28204, 28205,\n",
       "       28206, 28207, 28208, 28209, 28210, 28211, 28212, 28213, 28214,\n",
       "       28215, 28216, 28217, 28218, 28219, 28220, 28221, 28222, 28223,\n",
       "       28224, 28225, 28226, 28227, 28228, 28229, 28230, 28231, 28232,\n",
       "       28233, 28234, 28235, 28236, 28237, 28238, 28239, 28240, 28241,\n",
       "       28242, 28243, 28244, 28245, 28246, 28247, 28248, 28249, 28250,\n",
       "       28251, 28252, 28253, 28254, 28255, 28256, 28257, 28258, 28259,\n",
       "       28260, 28261, 28262, 28263, 28264, 28265, 28266, 28267, 28268,\n",
       "       28269, 28270, 28271, 28272, 28273, 28274, 28275, 28276, 28277,\n",
       "       28278, 28279, 28280, 28281, 28282, 28283, 28284, 28285, 28286,\n",
       "       28287, 28288, 28289, 28290, 28291, 28292, 28293, 28294, 28295,\n",
       "       28296, 28297, 28298, 28299, 28300, 28301, 28302, 28303, 28304,\n",
       "       28305, 28306, 28307, 28308, 28309, 28310, 28311, 28312, 28313,\n",
       "       28314, 28315, 28316, 28317, 28318, 28319, 28320, 28321, 28322,\n",
       "       28323, 28324, 28325, 28326, 28327, 28328, 28329, 28330, 28331,\n",
       "       28332, 28333, 28334, 28335, 28336, 28337, 28338, 28339, 28340,\n",
       "       28341, 28342, 28343, 28344, 28345, 28346, 28347, 28348, 28349,\n",
       "       28350, 28351, 28352, 28353, 28354, 28355, 28356, 28357, 28358,\n",
       "       28359, 28360, 28361, 28362, 28363, 28364, 28365, 28366, 28367,\n",
       "       28368, 28369, 28370, 28371, 28372, 28373, 28374, 28375, 28376,\n",
       "       28377, 28378, 28379, 28380, 28381, 28382, 28383, 28384, 28385,\n",
       "       28386, 28387, 28388, 28389, 28390, 28391, 28392, 28393, 28394,\n",
       "       28395, 28396, 28397, 28398, 28399, 28400, 28401, 28402, 28403,\n",
       "       28404, 28405, 28406, 28407, 28408, 28409, 28410, 28411, 28412,\n",
       "       28413, 28414, 28415, 28416, 28417, 28418, 28419, 28420, 28421,\n",
       "       28422, 28423, 28424, 28425, 28426, 28427, 28428, 28429, 28430,\n",
       "       28431, 28432, 28433, 28434, 28435, 28436, 28437, 28438, 28439,\n",
       "       28440, 28441, 28442, 28443, 28444, 28445, 28446, 28447, 28448,\n",
       "       28449, 28450, 28451, 28452, 28453, 28454, 28455, 28456, 28457,\n",
       "       28458, 28459, 28460, 28461, 28462, 28463, 28464, 28465, 28466,\n",
       "       28467, 28468, 28469, 28470, 28471, 28472, 28473, 28474, 28475,\n",
       "       28476, 28477, 28478, 28479, 28480, 28481, 28482, 28483, 28484,\n",
       "       28485, 28486, 28487, 28488, 28489, 28490, 28491, 28492, 28493,\n",
       "       28494, 28495, 28496, 28497, 28498, 28499, 28500, 28501, 28502,\n",
       "       28503, 28504, 28505, 28506, 28507, 28508, 28509, 28510, 28511,\n",
       "       28512, 28513, 28514, 28515, 28516, 28517, 28518, 28519, 28520,\n",
       "       28521, 28522, 28523, 28524, 28525, 28526, 28527, 28528, 28529,\n",
       "       28530, 28531, 28532, 28533, 28534, 28535, 28536, 28537, 28538,\n",
       "       28539, 28540, 28541, 28542, 28543, 28544, 28545, 28546, 28547,\n",
       "       28548, 28549, 28550, 28551, 28552, 28553, 28554, 28555, 28556,\n",
       "       28557, 28558, 28559, 28560, 28561, 28562, 28563, 28564, 28565,\n",
       "       28566, 28567, 28568, 28569, 28570, 28571, 28572, 28573, 28574,\n",
       "       28575, 28576, 28577, 28578, 28579, 28580, 28581, 28582, 28583,\n",
       "       28584, 28585, 28586, 28587, 28588, 28589, 28590, 28591, 28592,\n",
       "       28593, 28594, 28595, 28596, 28597, 28598, 28599, 28600, 28601,\n",
       "       28602, 28603, 28604, 28605, 28606, 28607, 28608, 28609, 28610,\n",
       "       28611, 28612, 28613, 28614, 28615, 28616, 28617, 28618, 28619,\n",
       "       28620, 28621, 28622, 28623, 28624, 28625, 28626, 28627, 28628,\n",
       "       28629, 28630, 28631, 28632, 28633, 28634, 28635, 28636, 28637,\n",
       "       28638, 28639, 28640, 28641, 28642, 28643, 28644, 28645, 28646,\n",
       "       28647, 28648, 28649, 28650, 28651, 28652, 28653, 28654, 28655,\n",
       "       28656, 28657, 28658, 28659, 28660, 28661, 28662, 28663, 28664,\n",
       "       28665, 28666, 28667, 28668, 28669, 28670, 28671, 28672, 28673,\n",
       "       28674, 28675, 28676, 28677, 28678, 28679, 28680, 28681, 28682,\n",
       "       28683, 28684, 28685, 28686, 28687, 28688, 28689, 28690, 28691,\n",
       "       28692, 28693, 28694, 28695, 28696, 28697, 28698, 28699, 28700,\n",
       "       28701, 28702, 28703, 28704, 28705, 28706, 28707, 28708, 28709,\n",
       "       28710, 28711, 28712, 28713, 28714, 28715, 28716, 28717, 28718,\n",
       "       28719, 28720, 28721, 28722, 28723, 28724, 28725, 28726, 28727,\n",
       "       28728, 28729, 28730, 28731, 28732, 28733, 28734, 28735, 28736,\n",
       "       28737, 28738, 28739, 28740, 28741, 28742, 28743, 28744, 28745,\n",
       "       28746, 28747, 28748, 28749, 28750, 28751, 28752, 28753, 28754,\n",
       "       28755, 28756, 28757, 28758, 28759, 28760, 28761, 28762, 28763,\n",
       "       28764, 28765, 28766, 28767, 28768, 28769, 28770, 28771, 28772,\n",
       "       28773, 28774, 28775, 28776, 28777, 28778, 28779, 28780, 28781,\n",
       "       28782, 28783, 28784, 28785, 28786, 28787, 28788, 28789, 28790,\n",
       "       28791, 28792, 28793, 28794, 28795, 28796, 28797, 28798, 28799,\n",
       "       28800, 28801, 28802, 28803, 28804, 28805, 28806, 28807, 28808,\n",
       "       28809, 28810, 28811, 28812, 28813, 28814, 28815, 28816, 28817,\n",
       "       28818, 28819, 28820, 28821, 28822, 28823, 28824, 28825, 28826,\n",
       "       28827, 28828, 28829, 28830, 28831, 28832, 28833, 28834, 28835,\n",
       "       28836, 28837, 28838, 28839, 28840, 28841, 28842, 28843, 28844,\n",
       "       28845, 28846, 28847, 28848, 28849, 28850, 28851, 28852, 28853,\n",
       "       28854, 28855, 28856, 28857, 28858, 28859, 28860, 28861, 28862,\n",
       "       28863, 28864, 28865, 28866, 28867, 28868, 28869, 28870, 28871,\n",
       "       28872, 28873, 28874, 28875, 28876, 28877, 28878, 28879, 28880,\n",
       "       28881, 28882, 28883, 28884, 28885, 28886, 28887, 28888, 28889,\n",
       "       28890, 28891, 28892, 28893, 28894, 28895, 28896, 28897, 28898,\n",
       "       28899, 28900, 28901, 28902, 28903, 28904, 28905, 28906, 28907,\n",
       "       28908, 28909, 28910, 28911, 28912, 28913, 28914, 28915, 28916,\n",
       "       28917, 28918, 28919, 28920, 28921, 28922, 28923, 28924, 28925,\n",
       "       28926, 28927, 28928, 28929, 28930, 28931, 28932, 28933, 28934,\n",
       "       28935, 28936, 28937, 28938, 28939, 28940, 28941, 28942, 28943,\n",
       "       28944, 28945, 28946, 28947, 28948, 28949, 28950, 28951, 28952,\n",
       "       28953, 28954, 28955, 28956, 28957, 28958, 28959, 28960, 28961,\n",
       "       28962, 28963, 28964, 28965, 28966, 28967, 28968, 28969, 28970,\n",
       "       28971, 28972, 28973, 28974, 28975, 28976, 28977, 28978, 28979,\n",
       "       28980, 28981, 28982, 28983, 28984, 28985, 28986, 28987, 28988,\n",
       "       28989, 28990, 28991, 28992, 28993, 28994, 28995, 28996, 28997,\n",
       "       28998, 28999, 29000, 29001, 29002, 29003, 29004, 29005, 29006,\n",
       "       29007, 29008, 29009, 29010, 29011, 29012, 29013, 29014, 29015,\n",
       "       29016, 29017, 29018, 29019, 29020, 29021, 29022, 29023, 29024,\n",
       "       29025, 29026, 29027, 29028, 29029, 29030, 29031, 29032, 29033,\n",
       "       29034, 29035, 29036, 29037, 29038, 29039, 29040, 29041, 29042,\n",
       "       29043, 29044, 29045, 29046, 29047, 29048, 29049, 29050, 29051,\n",
       "       29052, 29053, 29054, 29055, 29056, 29057, 29058, 29059, 29060,\n",
       "       29061, 29062, 29063, 29064, 29065, 29066, 29067, 29068, 29069,\n",
       "       29070, 29071, 29072, 29073, 29074, 29075, 29076, 29077, 29078,\n",
       "       29079, 29080, 29081, 29082, 29083, 29084, 29085, 29086, 29087,\n",
       "       29088, 29089, 29090, 29091, 29092, 29093, 29094, 29095, 29096,\n",
       "       29097, 29098, 29099, 29100, 29101, 29102, 29103, 29104, 29105,\n",
       "       29106, 29107, 29108, 29109, 29110, 29111, 29112, 29113, 29114,\n",
       "       29115, 29116, 29117, 29118, 29119, 29120, 29121, 29122, 29123,\n",
       "       29124, 29125, 29126, 29127, 29128, 29129, 29130, 29131, 29132,\n",
       "       29133, 29134, 29135, 29136, 29137, 29138, 29139, 29140, 29141,\n",
       "       29142, 29143, 29144, 29145, 29146, 29147, 29148, 29149, 29150,\n",
       "       29151, 29152, 29153, 29154, 29155, 29156, 29157, 29158, 29159,\n",
       "       29160, 29161, 29162, 29163, 29164, 29165, 29166, 29167, 29168,\n",
       "       29169, 29170, 29171, 29172, 29173, 29174, 29175, 29176, 29177,\n",
       "       29178, 29179, 29180, 29181, 29182, 29183, 29184, 29185, 29186,\n",
       "       29187, 29188, 29189, 29190, 29191, 29192, 29193, 29194, 29195,\n",
       "       29196, 29197, 29198, 29199, 29200, 29201, 29202, 29203, 29204,\n",
       "       29205, 29206, 29207, 29208, 29209, 29210, 29211, 29212, 29213,\n",
       "       29214, 29215, 29216, 29217, 29218, 29219, 29220, 29221, 29222,\n",
       "       29223, 29224, 29225, 29226, 29227, 29228, 29229, 29230, 29231,\n",
       "       29232, 29233, 29234, 29235, 29236, 29237, 29238, 29239, 29240,\n",
       "       29241, 29242, 29243, 29244, 29245, 29246, 29247, 29248, 29249,\n",
       "       29250, 29251, 29252, 29253, 29254, 29255, 29256, 29257, 29258,\n",
       "       29259, 29260, 29261, 29262, 29263, 29264, 29265, 29266, 29267,\n",
       "       29268, 29269, 29270, 29271, 29272, 29273, 29274, 29275, 29276,\n",
       "       29277, 29278, 29279, 29280, 29281, 29282, 29283, 29284, 29285,\n",
       "       29286, 29287, 29288, 29289, 29290, 29291, 29292, 29293, 29294,\n",
       "       29295, 29296, 29297, 29298, 29299, 29300, 29301, 29302, 29303,\n",
       "       29304, 29305, 29306, 29307, 29308, 29309, 29310, 29311, 29312,\n",
       "       29313, 29314, 29315, 29316, 29317, 29318, 29319, 29320, 29321,\n",
       "       29322, 29323, 29324, 29325, 29326, 29327, 29328, 29329, 29330,\n",
       "       29331, 29332, 29333, 29334, 29335, 29336, 29337, 29338, 29339,\n",
       "       29340, 29341, 29342, 29343, 29344, 29345, 29346, 29347, 29348,\n",
       "       29349, 29350, 29351, 29352, 29353, 29354, 29355, 29356, 29357,\n",
       "       29358, 29359, 29360, 29361, 29362, 29363, 29364, 29365, 29366,\n",
       "       29367, 29368, 29369, 29370, 29371, 29372, 29373, 29374, 29375,\n",
       "       29376, 29377, 29378, 29379, 29380, 29381, 29382, 29383, 29384,\n",
       "       29385, 29386, 29387, 29388, 29389, 29390, 29391, 29392, 29393,\n",
       "       29394, 29395, 29396, 29397, 29398, 29399, 29400, 29401, 29402,\n",
       "       29403, 29404, 29405, 29406, 29407, 29408, 29409, 29410, 29411,\n",
       "       29412, 29413, 29414, 29415, 29416, 29417, 29418, 29419, 29420,\n",
       "       29421, 29422, 29423, 29424, 29425, 29426, 29427, 29428, 29429,\n",
       "       29430, 29431, 29432, 29433, 29434, 29435, 29436, 29437, 29438,\n",
       "       29439, 29440, 29441, 29442, 29443, 29444, 29445, 29446, 29447,\n",
       "       29448, 29449, 29450, 29451, 29452, 29453, 29454, 29455, 29456,\n",
       "       29457, 29458, 29459, 29460, 29461, 29462, 29463, 29464, 29465,\n",
       "       29466, 29467, 29468, 29469, 29470, 29471, 29472, 29473, 29474,\n",
       "       29475, 29476, 29477, 29478, 29479, 29480, 29481, 29482, 29483,\n",
       "       29484, 29485, 29486, 29487, 29488, 29489, 29490, 29491, 29492,\n",
       "       29493, 29494, 29495, 29496, 29497, 29498, 29499, 29500, 29501,\n",
       "       29502, 29503, 29504, 29505, 29506, 29507, 29508, 29509, 29510,\n",
       "       29511, 29512, 29513, 29514, 29515, 29516, 29517, 29518, 29519,\n",
       "       29520, 29521, 29522, 29523, 29524, 29525, 29526, 29527, 29528,\n",
       "       29529, 29530, 29531, 29532, 29533, 29534, 29535, 29536, 29537,\n",
       "       29538, 29539, 29540, 29541, 29542, 29543, 29544, 29545, 29546,\n",
       "       29547, 29548, 29549, 29550, 29551, 29552, 29553, 29554, 29555,\n",
       "       29556, 29557, 29558, 29559, 29560, 29561, 29562, 29563, 29564,\n",
       "       29565, 29566, 29567, 29568, 29569, 29570, 29571, 29572, 29573,\n",
       "       29574, 29575, 29576, 29577, 29578, 29579, 29580, 29581, 29582,\n",
       "       29583, 29584, 29585, 29586, 29587, 29588, 29589, 29590, 29591,\n",
       "       29592, 29593, 29594, 29595, 29596, 29597, 29598, 29599, 29600,\n",
       "       29601, 29602, 29603, 29604, 29605, 29606, 29607, 29608, 29609,\n",
       "       29610, 29611, 29612, 29613, 29614, 29615, 29616, 29617, 29618,\n",
       "       29619, 29620, 29621, 29622, 29623, 29624, 29625, 29626, 29627,\n",
       "       29628, 29629, 29630, 29631, 29632, 29633, 29634, 29635, 29636,\n",
       "       29637, 29638, 29639, 29640, 29641, 29642, 29643, 29644, 29645,\n",
       "       29646, 29647, 29648, 29649, 29650, 29651, 29652, 29653, 29654,\n",
       "       29655, 29656, 29657, 29658, 29659, 29660, 29661, 29662, 29663,\n",
       "       29664, 29665, 29666, 29667, 29668, 29669, 29670, 29671, 29672,\n",
       "       29673, 29674, 29675, 29676, 29677, 29678, 29679, 29680, 29681,\n",
       "       29682, 29683, 29684, 29685, 29686, 29687, 29688, 29689, 29690,\n",
       "       29691, 29692, 29693, 29694, 29695, 29696, 29697, 29698, 29699,\n",
       "       29700, 29701, 29702, 29703, 29704, 29705, 29706, 29707, 29708,\n",
       "       29709, 29710, 29711, 29712, 29713, 29714, 29715, 29716, 29717,\n",
       "       29718, 29719, 29720, 29721, 29722, 29723, 29724, 29725, 29726,\n",
       "       29727, 29728, 29729, 29730, 29731, 29732, 29733, 29734, 29735,\n",
       "       29736, 29737, 29738, 29739, 29740, 29741, 29742, 29743, 29744,\n",
       "       29745, 29746, 29747, 29748, 29749, 29750, 29751, 29752, 29753,\n",
       "       29754, 29755, 29756, 29757, 29758, 29759, 29760, 29761, 29762,\n",
       "       29763, 29764, 29765, 29766, 29767, 29768, 29769, 29770, 29771,\n",
       "       29772, 29773, 29774, 29775, 29776, 29777, 29778, 29779, 29780,\n",
       "       29781, 29782, 29783, 29784, 29785, 29786, 29787, 29788, 29789,\n",
       "       29790, 29791, 29792, 29793, 29794, 29795, 29796, 29797, 29798,\n",
       "       29799, 29800, 29801, 29802, 29803, 29804, 29805, 29806, 29807,\n",
       "       29808, 29809, 29810, 29811, 29812, 29813, 29814, 29815, 29816,\n",
       "       29817, 29818, 29819, 29820, 29821, 29822, 29823, 29824, 29825,\n",
       "       29826, 29827, 29828, 29829, 29830, 29831, 29832, 29833, 29834,\n",
       "       29835, 29836, 29837, 29838, 29839, 29840, 29841, 29842, 29843,\n",
       "       29844, 29845, 29846, 29847, 29848, 29849, 29850, 29851, 29852,\n",
       "       29853, 29854, 29855, 29856, 29857, 29858, 29859, 29860, 29861,\n",
       "       29862, 29863, 29864, 29865, 29866, 29867, 29868, 29869, 29870,\n",
       "       29871, 29872, 29873, 29874, 29875, 29876, 29877, 29878, 29879,\n",
       "       29880, 29881, 29882, 29883, 29884, 29885, 29886, 29887, 29888,\n",
       "       29889, 29890, 29891, 29892, 29893, 29894, 29895, 29896, 29897,\n",
       "       29898, 29899, 29900, 29901, 29902, 29903, 29904, 29905, 29906,\n",
       "       29907, 29908, 29909, 29910, 29911, 29912, 29913, 29914, 29915,\n",
       "       29916, 29917, 29918, 29919, 29920, 29921, 29922, 29923, 29924,\n",
       "       29925, 29926, 29927, 29928, 29929, 29930, 29931, 29932, 29933,\n",
       "       29934, 29935, 29936, 29937, 29938, 29939, 29940, 29941, 29942,\n",
       "       29943, 29944, 29945, 29946, 29947, 29948, 29949, 29950, 29951,\n",
       "       29952, 29953, 29954, 29955, 29956, 29957, 29958, 29959, 29960,\n",
       "       29961, 29962, 29963, 29964, 29965, 29966, 29967, 29968, 29969,\n",
       "       29970, 29971, 29972, 29973, 29974, 29975, 29976, 29977, 29978,\n",
       "       29979, 29980, 29981, 29982, 29983, 29984, 29985, 29986, 29987,\n",
       "       29988, 29989, 29990, 29991, 29992, 29993, 29994, 29995, 29996,\n",
       "       29997, 29998, 29999, 30000, 30001, 30002, 30003, 30004, 30005,\n",
       "       30006, 30007, 30008, 30009, 30010, 30011, 30012, 30013, 30014,\n",
       "       30015, 30016, 30017, 30018, 30019, 30020, 30021, 30022, 30023,\n",
       "       30024, 30025, 30026, 30027, 30028, 30029, 30030, 30031, 30032,\n",
       "       30033, 30034, 30035, 30036, 30037, 30038, 30039, 30040, 30041,\n",
       "       30042, 30043, 30044, 30045, 30046, 30047, 30048, 30049, 30050,\n",
       "       30051, 30052, 30053, 30054, 30055, 30056, 30057, 30058, 30059,\n",
       "       30060, 30061, 30062, 30063, 30064, 30065, 30066, 30067, 30068,\n",
       "       30069, 30070, 30071, 30072, 30073, 30074, 30075, 30076, 30077,\n",
       "       30078, 30079, 30080, 30081, 30082, 30083, 30084, 30085, 30086,\n",
       "       30087, 30088, 30089, 30090, 30091, 30092, 30093, 30094, 30095,\n",
       "       30096, 30097, 30098, 30099, 30100, 30101, 30102, 30103, 30104,\n",
       "       30105, 30106, 30107, 30108, 30109, 30110, 30111, 30112, 30113,\n",
       "       30114, 30115, 30116, 30117, 30118, 30119, 30120, 30121, 30122,\n",
       "       30123, 30124, 30125, 30126, 30127, 30128, 30129, 30130, 30131,\n",
       "       30132, 30133, 30134, 30135, 30136, 30137, 30138, 30139, 30140,\n",
       "       30141, 30142, 30143, 30144, 30145, 30146, 30147, 30148, 30149,\n",
       "       30150, 30151, 30152, 30153, 30154, 30155, 30156, 30157, 30158,\n",
       "       30159, 30160, 30161, 30162, 30163, 30164, 30165, 30166, 30167,\n",
       "       30168, 30169, 30170, 30171, 30172, 30173, 30174, 30175, 30176,\n",
       "       30177, 30178, 30179, 30180, 30181, 30182, 30183, 30184, 30185,\n",
       "       30186, 30187, 30188, 30189, 30190, 30191, 30192, 30193, 30194,\n",
       "       30195, 30196, 30197, 30198, 30199, 30200, 30201, 30202, 30203,\n",
       "       30204, 30205, 30206, 30207, 30208, 30209, 30210, 30211, 30212,\n",
       "       30213, 30214, 30215, 30216, 30217, 30218, 30219, 30220, 30221,\n",
       "       30222, 30223, 30224, 30225, 30226, 30227, 30228, 30229, 30230,\n",
       "       30231, 30232, 30233, 30234, 30235, 30236, 30237, 30238, 30239,\n",
       "       30240, 30241, 30242, 30243, 30244, 30245, 30246, 30247, 30248,\n",
       "       30249, 30250, 30251, 30252, 30253, 30254, 30255, 30256, 30257,\n",
       "       30258, 30259, 30260, 30261, 30262, 30263, 30264, 30265, 30266,\n",
       "       30267, 30268, 30269, 30270, 30271, 30272, 30273, 30274, 30275,\n",
       "       30276, 30277, 30278, 30279, 30280, 30281, 30282, 30283, 30284,\n",
       "       30285, 30286, 30287, 30288, 30289, 30290, 30291, 30292, 30293,\n",
       "       30294, 30295, 30296, 30297, 30298, 30299, 30300, 30301, 30302,\n",
       "       30303, 30304, 30305, 30306, 30307, 30308, 30309, 30310, 30311,\n",
       "       30312, 30313, 30314, 30315, 30316, 30317, 30318, 30319, 30320,\n",
       "       30321, 30322, 30323, 30324, 30325, 30326, 30327, 30328, 30329,\n",
       "       30330, 30331, 30332, 30333, 30334, 30335, 30336, 30337, 30338,\n",
       "       30339, 30340, 30341, 30342, 30343, 30344, 30345, 30346, 30347,\n",
       "       30348, 30349, 30350, 30351, 30352, 30353, 30354, 30355, 30356,\n",
       "       30357, 30358, 30359, 30360, 30361, 30362, 30363, 30364, 30365,\n",
       "       30366, 30367, 30368, 30369, 30370, 30371, 30372, 30373, 30374,\n",
       "       30375, 30376, 30377, 30378, 30379, 30380, 30381, 30382, 30383,\n",
       "       30384, 30385, 30386, 30387, 30388, 30389, 30390, 30391, 30392,\n",
       "       30393, 30394, 30395, 30396, 30397, 30398, 30399, 30400, 30401,\n",
       "       30402, 30403, 30404, 30405, 30406, 30407, 30408, 30409, 30410,\n",
       "       30411, 30412, 30413, 30414, 30415, 30416, 30417, 30418, 30419,\n",
       "       30420, 30421, 30422, 30423, 30424, 30425, 30426, 30427, 30428,\n",
       "       30429, 30430, 30431, 30432, 30433, 30434, 30435, 30436, 30437,\n",
       "       30438, 30439, 30440, 30441, 30442, 30443, 30444, 30445, 30446,\n",
       "       30447, 30448, 30449, 30450, 30451, 30452, 30453, 30454, 30455,\n",
       "       30456, 30457, 30458, 30459, 30460, 30461, 30462, 30463, 30464,\n",
       "       30465, 30466, 30467, 30468, 30469, 30470, 30471, 30472, 30473,\n",
       "       30474, 30475, 30476, 30477, 30478, 30479, 30480, 30481, 30482,\n",
       "       30483, 30484, 30485, 30486, 30487, 30488, 30489, 30490, 30491,\n",
       "       30492, 30493, 30494, 30495, 30496, 30497, 30498, 30499, 30500,\n",
       "       30501, 30502, 30503, 30504, 30505, 30506, 30507, 30508, 30509,\n",
       "       30510, 30511, 30512, 30513, 30514, 30515, 30516, 30517, 30518,\n",
       "       30519, 30520, 30521, 30522, 30523, 30524, 30525, 30526, 30527,\n",
       "       30528, 30529, 30530, 30531, 30532, 30533, 30534, 30535, 30536,\n",
       "       30537, 30538, 30539, 30540, 30541, 30542, 30543, 30544, 30545,\n",
       "       30546, 30547, 30548, 30549, 30550, 30551, 30552, 30553, 30554,\n",
       "       30555, 30556, 30557, 30558, 30559, 30560, 30561, 30562, 30563,\n",
       "       30564, 30565, 30566, 30567, 30568, 30569, 30570, 30571, 30572,\n",
       "       30573, 30574, 30575, 30576, 30577, 30578, 30579, 30580, 30581,\n",
       "       30582, 30583, 30584, 30585, 30586, 30587, 30588, 30589, 30590,\n",
       "       30591, 30592, 30593, 30594, 30595, 30596, 30597, 30598, 30599,\n",
       "       30600, 30601, 30602, 30603, 30604, 30605, 30606, 30607, 30608,\n",
       "       30609, 30610, 30611, 30612, 30613, 30614, 30615, 30616, 30617,\n",
       "       30618, 30619, 30620, 30621, 30622, 30623, 30624, 30625, 30626,\n",
       "       30627, 30628, 30629, 30630, 30631, 30632, 30633, 30634, 30635,\n",
       "       30636, 30637, 30638, 30639, 30640, 30641, 30642, 30643, 30644,\n",
       "       30645, 30646, 30647, 30648, 30649, 30650, 30651, 30652, 30653,\n",
       "       30654, 30655, 30656, 30657, 30658, 30659, 30660, 30661, 30662,\n",
       "       30663, 30664, 30665, 30666, 30667, 30668, 30669, 30670, 30671,\n",
       "       30672, 30673, 30674, 30675, 30676, 30677, 30678, 30679, 30680,\n",
       "       30681, 30682, 30683, 30684, 30685, 30686, 30687, 30688, 30689,\n",
       "       30690, 30691, 30692, 30693, 30694, 30695, 30696, 30697, 30698,\n",
       "       30699, 30700, 30701, 30702, 30703, 30704, 30705, 30706, 30707,\n",
       "       30708, 30709, 30710, 30711, 30712, 30713, 30714, 30715, 30716,\n",
       "       30717, 30718, 30719, 30720, 30721, 30722, 30723, 30724, 30725,\n",
       "       30726, 30727, 30728, 30729, 30730, 30731, 30732, 30733, 30734,\n",
       "       30735, 30736, 30737, 30738, 30739, 30740, 30741, 30742, 30743,\n",
       "       30744, 30745, 30746, 30747, 30748, 30749, 30750, 30751, 30752,\n",
       "       30753, 30754, 30755, 30756, 30757, 30758, 30759, 30760, 30761,\n",
       "       30762, 30763, 30764, 30765, 30766, 30767, 30768, 30769, 30770,\n",
       "       30771, 30772, 30773, 30774, 30775, 30776, 30777, 30778, 30779,\n",
       "       30780, 30781, 30782, 30783, 30784, 30785, 30786, 30787, 30788,\n",
       "       30789, 30790, 30791, 30792, 30793, 30794, 30795, 30796, 30797,\n",
       "       30798, 30799, 30800, 30801, 30802, 30803, 30804, 30805, 30806,\n",
       "       30807, 30808, 30809, 30810, 30811, 30812, 30813, 30814, 30815,\n",
       "       30816, 30817, 30818, 30819, 30820, 30821, 30822, 30823, 30824,\n",
       "       30825, 30826, 30827, 30828, 30829, 30830, 30831, 30832, 30833,\n",
       "       30834, 30835, 30836, 30837, 30838, 30839, 30840, 30841, 30842,\n",
       "       30843, 30844, 30845, 30846, 30847, 30848, 30849, 30850, 30851,\n",
       "       30852, 30853, 30854, 30855, 30856, 30857, 30858, 30859, 30860,\n",
       "       30861, 30862, 30863, 30864, 30865, 30866, 30867, 30868, 30869,\n",
       "       30870, 30871, 30872, 30873, 30874, 30875, 30876, 30877, 30878,\n",
       "       30879, 30880, 30881, 30882, 30883, 30884, 30885, 30886, 30887,\n",
       "       30888, 30889, 30890, 30891, 30892, 30893, 30894, 30895, 30896,\n",
       "       30897, 30898, 30899, 30900, 30901, 30902, 30903, 30904, 30905,\n",
       "       30906, 30907, 30908, 30909, 30910, 30911, 30912, 30913, 30914,\n",
       "       30915, 30916, 30917, 30918, 30919, 30920, 30921, 30922, 30923,\n",
       "       30924, 30925, 30926, 30927, 30928, 30929, 30930, 30931, 30932,\n",
       "       30933, 30934, 30935, 30936, 30937, 30938, 30939, 30940, 30941,\n",
       "       30942, 30943, 30944, 30945, 30946, 30947, 30948, 30949, 30950,\n",
       "       30951, 30952, 30953, 30954, 30955, 30956, 30957, 30958, 30959,\n",
       "       30960, 30961, 30962, 30963, 30964, 30965, 30966, 30967, 30968,\n",
       "       30969, 30970, 30971, 30972, 30973, 30974, 30975, 30976, 30977,\n",
       "       30978, 30979, 30980, 30981, 30982, 30983, 30984, 30985, 30986,\n",
       "       30987, 30988, 30989, 30990, 30991, 30992, 30993, 30994, 30995,\n",
       "       30996, 30997, 30998, 30999, 31000, 31001, 31002, 31003, 31004,\n",
       "       31005, 31006, 31007, 31008, 31009, 31010, 31011, 31012, 31013,\n",
       "       31014, 31015, 31016, 31017, 31018, 31019, 31020, 31021, 31022,\n",
       "       31023, 31024, 31025, 31026, 31027, 31028, 31029, 31030, 31031,\n",
       "       31032, 31033, 31034, 31035, 31036, 31037, 31038, 31039, 31040,\n",
       "       31041, 31042, 31043, 31044, 31045, 31046, 31047, 31048, 31049,\n",
       "       31050, 31051, 31052, 31053, 31054, 31055, 31056, 31057, 31058,\n",
       "       31059, 31060, 31061, 31062, 31063, 31064, 31065, 31066, 31067,\n",
       "       31068, 31069, 31070, 31071, 31072, 31073, 31074, 31075, 31076,\n",
       "       31077, 31078, 31079, 31080, 31081, 31082, 31083, 31084, 31085,\n",
       "       31086, 31087, 31088, 31089, 31090, 31091, 31092, 31093, 31094,\n",
       "       31095, 31096, 31097, 31098, 31099, 31100, 31101, 31102, 31103,\n",
       "       31104, 31105, 31106, 31107, 31108, 31109, 31110, 31111, 31112,\n",
       "       31113, 31114, 31115, 31116, 31117, 31118, 31119, 31120, 31121,\n",
       "       31122, 31123, 31124, 31125, 31126, 31127, 31128, 31129, 31130,\n",
       "       31131, 31132, 31133, 31134, 31135, 31136, 31137, 31138, 31139,\n",
       "       31140, 31141, 31142, 31143, 31144, 31145, 31146, 31147, 31148,\n",
       "       31149, 31150, 31151, 31152, 31153, 31154, 31155, 31156, 31157,\n",
       "       31158, 31159, 31160, 31161, 31162, 31163, 31164, 31165, 31166,\n",
       "       31167, 31168, 31169, 31170, 31171, 31172, 31173, 31174, 31175,\n",
       "       31176, 31177, 31178, 31179, 31180, 31181, 31182, 31183, 31184,\n",
       "       31185, 31186, 31187, 31188, 31189, 31190, 31191, 31192, 31193,\n",
       "       31194, 31195, 31196, 31197, 31198, 31199, 31200, 31201, 31202,\n",
       "       31203, 31204, 31205, 31206, 31207, 31208, 31209, 31210, 31211,\n",
       "       31212, 31213, 31214, 31215, 31216, 31217, 31218, 31219, 31220,\n",
       "       31221, 31222, 31223, 31224, 31225, 31226, 31227, 31228, 31229,\n",
       "       31230, 31231, 31232, 31233, 31234, 31235, 31236, 31237, 31238,\n",
       "       31239, 31240, 31241, 31242, 31243, 31244, 31245, 31246, 31247,\n",
       "       31248, 31249, 31250, 31251, 31252, 31253, 31254, 31255, 31256,\n",
       "       31257, 31258, 31259, 31260, 31261, 31262, 31263, 31264, 31265,\n",
       "       31266, 31267, 31268, 31269, 31270, 31271, 31272, 31273, 31274,\n",
       "       31275, 31276, 31277, 31278, 31279, 31280, 31281, 31282, 31283,\n",
       "       31284, 31285, 31286, 31287, 31288, 31289, 31290, 31291, 31292,\n",
       "       31293, 31294, 31295, 31296, 31297, 31298, 31299, 31300, 31301,\n",
       "       31302, 31303, 31304, 31305, 31306, 31307, 31308, 31309, 31310,\n",
       "       31311, 31312, 31313, 31314, 31315, 31316, 31317, 31318, 31319,\n",
       "       31320, 31321, 31322, 31323, 31324, 31325, 31326, 31327, 31328,\n",
       "       31329, 31330, 31331, 31332, 31333, 31334, 31335, 31336, 31337,\n",
       "       31338, 31339, 31340, 31341, 31342, 31343, 31344, 31345, 31346,\n",
       "       31347, 31348, 31349, 31350, 31351, 31352, 31353, 31354, 31355,\n",
       "       31356, 31357, 31358, 31359, 31360, 31361, 31362, 31363, 31364,\n",
       "       31365, 31366, 31367, 31368, 31369, 31370, 31371, 31372, 31373,\n",
       "       31374, 31375, 31376, 31377, 31378, 31379, 31380, 31381, 31382,\n",
       "       31383, 31384, 31385, 31386, 31387, 31388, 31389, 31390, 31391,\n",
       "       31392, 31393, 31394, 31395, 31396, 31397, 31398, 31399, 31400,\n",
       "       31401, 31402, 31403, 31404, 31405, 31406, 31407, 31408, 31409,\n",
       "       31410, 31411, 31412, 31413, 31414, 31415, 31416, 31417, 31418,\n",
       "       31419, 31420, 31421, 31422, 31423, 31424, 31425, 31426, 31427,\n",
       "       31428, 31429, 31430, 31431, 31432, 31433, 31434, 31435, 31436,\n",
       "       31437, 31438, 31439, 31440, 31441, 31442, 31443, 31444, 31445,\n",
       "       31446, 31447, 31448, 31449, 31450, 31451, 31452, 31453, 31454,\n",
       "       31455, 31456, 31457, 31458, 31459, 31460, 31461, 31462, 31463,\n",
       "       31464, 31465, 31466, 31467, 31468, 31469, 31470, 31471, 31472,\n",
       "       31473, 31474, 31475, 31476, 31477, 31478, 31479, 31480, 31481,\n",
       "       31482, 31483, 31484, 31485, 31486, 31487, 31488, 31489, 31490,\n",
       "       31491, 31492, 31493, 31494, 31495, 31496, 31497, 31498, 31499,\n",
       "       31500, 31501, 31502, 31503, 31504, 31505, 31506, 31507, 31508,\n",
       "       31509, 31510, 31511, 31512, 31513, 31514, 31515, 31516, 31517,\n",
       "       31518, 31519, 31520, 31521, 31522, 31523, 31524, 31525, 31526,\n",
       "       31527, 31528, 31529, 31530, 31531, 31532, 31533, 31534, 31535,\n",
       "       31536, 31537, 31538, 31539, 31540, 31541, 31542, 31543, 31544,\n",
       "       31545, 31546, 31547, 31548, 31549, 31550, 31551, 31552, 31553,\n",
       "       31554, 31555, 31556, 31557, 31558, 31559, 31560, 31561, 31562,\n",
       "       31563, 31564, 31565, 31566, 31567, 31568, 31569, 31570, 31571,\n",
       "       31572, 31573, 31574, 31575, 31576, 31577, 31578, 31579, 31580,\n",
       "       31581, 31582, 31583, 31584, 31585, 31586, 31587, 31588, 31589,\n",
       "       31590, 31591, 31592, 31593, 31594, 31595, 31596, 31597, 31598,\n",
       "       31599, 31600, 31601, 31602, 31603, 31604, 31605, 31606, 31607,\n",
       "       31608, 31609, 31610, 31611, 31612, 31613, 31614, 31615, 31616,\n",
       "       31617, 31618, 31619, 31620, 31621, 31622, 31623, 31624, 31625,\n",
       "       31626, 31627, 31628, 31629, 31630, 31631, 31632, 31633, 31634,\n",
       "       31635, 31636, 31637, 31638, 31639, 31640, 31641, 31642, 31643,\n",
       "       31644, 31645, 31646, 31647, 31648, 31649, 31650, 31651, 31652,\n",
       "       31653, 31654, 31655, 31656, 31657, 31658, 31659, 31660, 31661,\n",
       "       31662, 31663, 31664, 31665, 31666, 31667, 31668, 31669, 31670,\n",
       "       31671, 31672, 31673, 31674, 31675, 31676, 31677, 31678, 31679,\n",
       "       31680, 31681, 31682, 31683, 31684, 31685, 31686, 31687, 31688,\n",
       "       31689, 31690, 31691, 31692, 31693, 31694, 31695, 31696, 31697,\n",
       "       31698, 31699, 31700, 31701, 31702, 31703, 31704, 31705, 31706,\n",
       "       31707, 31708, 31709, 31710, 31711, 31712, 31713, 31714, 31715,\n",
       "       31716, 31717, 31718, 31719, 31720, 31721, 31722, 31723, 31724,\n",
       "       31725, 31726, 31727, 31728, 31729, 31730, 31731, 31732, 31733,\n",
       "       31734, 31735, 31736, 31737, 31738, 31739, 31740, 31741, 31742,\n",
       "       31743, 31744, 31745, 31746, 31747, 31748, 31749, 31750, 31751,\n",
       "       31752, 31753, 31754, 31755, 31756, 31757, 31758, 31759, 31760,\n",
       "       31761, 31762, 31763, 31764, 31765, 31766, 31767, 31768, 31769,\n",
       "       31770, 31771, 31772, 31773, 31774, 31775, 31776, 31777, 31778,\n",
       "       31779, 31780, 31781, 31782, 31783, 31784, 31785, 31786, 31787,\n",
       "       31788, 31789, 31790, 31791, 31792, 31793, 31794, 31795, 31796,\n",
       "       31797, 31798, 31799, 31800, 31801, 31802, 31803, 31804, 31805,\n",
       "       31806, 31807, 31808, 31809, 31810, 31811, 31812, 31813, 31814,\n",
       "       31815, 31816, 31817, 31818, 31819, 31820, 31821, 31822, 31823,\n",
       "       31824, 31825, 31826, 31827, 31828, 31829, 31830, 31831, 31832,\n",
       "       31833, 31834, 31835, 31836, 31837, 31838, 31839, 31840, 31841,\n",
       "       31842, 31843, 31844, 31845, 31846, 31847, 31848, 31849, 31850,\n",
       "       31851, 31852, 31853, 31854, 31855, 31856, 31857, 31858, 31859,\n",
       "       31860, 31861, 31862, 31863, 31864, 31865, 31866, 31867, 31868,\n",
       "       31869, 31870, 31871, 31872, 31873, 31874, 31875, 31876, 31877,\n",
       "       31878, 31879, 31880, 31881, 31882, 31883, 31884, 31885, 31886,\n",
       "       31887, 31888, 31889, 31890, 31891, 31892, 31893, 31894, 31895,\n",
       "       31896, 31897, 31898, 31899, 31900, 31901, 31902, 31903, 31904,\n",
       "       31905, 31906, 31907, 31908, 31909, 31910, 31911, 31912, 31913,\n",
       "       31914, 31915, 31916, 31917, 31918, 31919, 31920, 31921, 31922,\n",
       "       31923, 31924, 31925, 31926, 31927, 31928, 31929, 31930, 31931,\n",
       "       31932, 31933, 31934, 31935, 31936, 31937, 31938, 31939, 31940,\n",
       "       31941, 31942, 31943, 31944, 31945, 31946, 31947, 31948, 31949,\n",
       "       31950, 31951, 31952, 31953, 31954, 31955, 31956, 31957, 31958,\n",
       "       31959, 31960, 31961, 31962, 31963, 31964, 31965, 31966, 31967,\n",
       "       31968, 31969, 31970, 31971, 31972, 31973, 31974, 31975, 31976,\n",
       "       31977, 31978, 31979, 31980, 31981, 31982, 31983, 31984, 31985,\n",
       "       31986, 31987, 31988, 31989, 31990, 31991, 31992, 31993, 31994,\n",
       "       31995, 31996, 31997, 31998, 31999, 32000, 32001, 32002, 32003,\n",
       "       32004, 32005, 32006, 32007, 32008, 32009, 32010, 32011, 32012,\n",
       "       32013, 32014, 32015, 32016, 32017, 32018, 32019, 32020, 32021,\n",
       "       32022, 32023, 32024, 32025, 32026, 32027, 32028, 32029, 32030,\n",
       "       32031, 32032, 32033, 32034, 32035, 32036, 32037, 32038, 32039,\n",
       "       32040, 32041, 32042, 32043, 32044, 32045, 32046, 32047, 32048,\n",
       "       32049, 32050, 32051, 32052, 32053, 32054, 32055, 32056, 32057,\n",
       "       32058, 32059, 32060, 32061, 32062, 32063, 32064, 32065, 32066,\n",
       "       32067, 32068, 32069, 32070, 32071, 32072, 32073, 32074, 32075,\n",
       "       32076, 32077, 32078, 32079, 32080, 32081, 32082, 32083, 32084,\n",
       "       32085, 32086, 32087, 32088, 32089, 32090, 32091, 32092, 32093,\n",
       "       32094, 32095, 32096, 32097, 32098, 32099, 32100, 32101, 32102,\n",
       "       32103, 32104, 32105, 32106, 32107, 32108, 32109, 32110, 32111,\n",
       "       32112, 32113, 32114, 32115, 32116, 32117, 32118, 32119, 32120,\n",
       "       32121, 32122, 32123, 32124, 32125, 32126, 32127, 32128, 32129,\n",
       "       32130, 32131, 32132, 32133, 32134, 32135, 32136, 32137, 32138,\n",
       "       32139, 32140, 32141, 32142, 32143, 32144, 32145, 32146, 32147,\n",
       "       32148, 32149, 32150, 32151, 32152, 32153, 32154, 32155, 32156,\n",
       "       32157, 32158, 32159, 32160, 32161, 32162, 32163, 32164, 32165,\n",
       "       32166, 32167, 32168, 32169, 32170, 32171, 32172, 32173, 32174,\n",
       "       32175, 32176, 32177, 32178, 32179, 32180, 32181, 32182, 32183,\n",
       "       32184, 32185, 32186, 32187, 32188, 32189, 32190, 32191, 32192,\n",
       "       32193, 32194, 32195, 32196, 32197, 32198, 32199, 32200, 32201,\n",
       "       32202, 32203, 32204, 32205, 32206, 32207, 32208, 32209, 32210,\n",
       "       32211, 32212, 32213, 32214, 32215, 32216, 32217, 32218, 32219,\n",
       "       32220, 32221, 32222, 32223, 32224, 32225, 32226, 32227, 32228,\n",
       "       32229, 32230, 32231, 32232, 32233, 32234, 32235, 32236, 32237,\n",
       "       32238, 32239, 32240, 32241, 32242, 32243, 32244, 32245, 32246,\n",
       "       32247, 32248, 32249, 32250, 32251, 32252, 32253, 32254, 32255,\n",
       "       32256, 32257, 32258, 32259, 32260, 32261, 32262, 32263, 32264,\n",
       "       32265, 32266, 32267, 32268, 32269, 32270, 32271, 32272, 32273,\n",
       "       32274, 32275, 32276, 32277, 32278, 32279, 32280, 32281, 32282,\n",
       "       32283, 32284, 32285, 32286, 32287, 32288, 32289, 32290, 32291,\n",
       "       32292, 32293, 32294, 32295, 32296, 32297, 32298, 32299, 32300,\n",
       "       32301, 32302, 32303, 32304, 32305, 32306, 32307, 32308, 32309,\n",
       "       32310, 32311, 32312, 32313, 32314, 32315, 32316, 32317, 32318,\n",
       "       32319, 32320, 32321, 32322, 32323, 32324, 32325, 32326, 32327,\n",
       "       32328, 32329, 32330, 32331, 32332, 32333, 32334, 32335, 32336,\n",
       "       32337, 32338, 32339, 32340, 32341, 32342, 32343, 32344, 32345,\n",
       "       32346, 32347, 32348, 32349, 32350, 32351, 32352, 32353, 32354,\n",
       "       32355, 32356, 32357, 32358, 32359, 32360, 32361, 32362, 32363,\n",
       "       32364, 32365, 32366, 32367, 32368, 32369, 32370, 32371, 32372,\n",
       "       32373, 32374, 32375, 32376, 32377, 32378, 32379, 32380, 32381,\n",
       "       32382, 32383, 32384, 32385, 32386, 32387, 32388, 32389, 32390,\n",
       "       32391, 32392, 32393, 32394, 32395, 32396, 32397, 32398, 32399,\n",
       "       32400, 32401, 32402, 32403, 32404, 32405, 32406, 32407, 32408,\n",
       "       32409, 32410, 32411, 32412, 32413, 32414, 32415, 32416, 32417,\n",
       "       32418, 32419, 32420, 32421, 32422, 32423, 32424, 32425, 32426,\n",
       "       32427, 32428, 32429, 32430, 32431, 32432, 32433, 32434, 32435,\n",
       "       32436, 32437, 32438, 32439, 32440, 32441, 32442, 32443, 32444,\n",
       "       32445, 32446, 32447, 32448, 32449, 32450, 32451, 32452, 32453,\n",
       "       32454, 32455, 32456, 32457, 32458, 32459, 32460, 32461, 32462,\n",
       "       32463, 32464, 32465, 32466, 32467, 32468, 32469, 32470, 32471,\n",
       "       32472, 32473, 32474, 32475, 32476, 32477, 32478, 32479, 32480,\n",
       "       32481, 32482, 32483, 32484, 32485, 32486, 32487, 32488, 32489,\n",
       "       32490, 32491, 32492, 32493, 32494, 32495, 32496, 32497, 32498,\n",
       "       32499, 32500, 32501, 32502, 32503, 32504, 32505, 32506, 32507,\n",
       "       32508, 32509, 32510, 32511, 32512, 32513, 32514, 32515, 32516,\n",
       "       32517, 32518, 32519, 32520, 32521, 32522, 32523, 32524, 32525,\n",
       "       32526, 32527, 32528, 32529, 32530, 32531, 32532, 32533, 32534,\n",
       "       32535, 32536, 32537, 32538, 32539, 32540, 32541, 32542, 32543,\n",
       "       32544, 32545, 32546, 32547, 32548, 32549, 32550, 32551, 32552,\n",
       "       32553, 32554, 32555, 32556, 32557, 32558, 32559, 32560, 32561,\n",
       "       32562, 32563, 32564, 32565, 32566, 32567, 32568, 32569, 32570,\n",
       "       32571, 32572, 32573, 32574, 32575, 32576, 32577, 32578, 32579,\n",
       "       32580, 32581, 32582, 32583, 32584, 32585, 32586, 32587, 32588,\n",
       "       32589, 32590, 32591, 32592, 32593, 32594, 32595, 32596, 32597,\n",
       "       32598, 32599, 32600, 32601, 32602, 32603, 32604, 32605, 32606,\n",
       "       32607, 32608, 32609, 32610, 32611, 32612, 32613, 32614, 32615,\n",
       "       32616, 32617, 32618, 32619, 32620, 32621, 32622, 32623, 32624,\n",
       "       32625, 32626, 32627, 32628, 32629, 32630, 32631, 32632, 32633,\n",
       "       32634, 32635, 32636, 32637, 32638, 32639, 32640, 32641, 32642,\n",
       "       32643, 32644, 32645, 32646, 32647, 32648, 32649, 32650, 32651,\n",
       "       32652, 32653, 32654, 32655, 32656, 32657, 32658, 32659, 32660,\n",
       "       32661, 32662, 32663, 32664, 32665, 32666, 32667, 32668, 32669,\n",
       "       32670, 32671, 32672, 32673, 32674, 32675, 32676, 32677, 32678,\n",
       "       32679, 32680, 32681, 32682, 32683, 32684, 32685, 32686, 32687,\n",
       "       32688, 32689, 32690, 32691, 32692, 32693, 32694, 32695, 32696,\n",
       "       32697, 32698, 32699, 32700, 32701, 32702, 32703, 32704, 32705,\n",
       "       32706, 32707, 32708, 32709, 32710, 32711, 32712, 32713, 32714,\n",
       "       32715, 32716, 32717, 32718, 32719, 32720, 32721, 32722, 32723,\n",
       "       32724, 32725, 32726, 32727, 32728, 32729, 32730, 32731, 32732,\n",
       "       32733, 32734, 32735, 32736, 32737, 32738, 32739, 32740, 32741,\n",
       "       32742, 32743, 32744, 32745, 32746, 32747, 32748, 32749, 32750,\n",
       "       32751, 32752, 32753, 32754, 32755, 32756, 32757, 32758, 32759,\n",
       "       32760, 32761, 32762, 32763, 32764, 32765, 32766, 32767, 32768,\n",
       "       32769, 32770, 32771, 32772, 32773, 32774, 32775, 32776, 32777,\n",
       "       32778, 32779, 32780, 32781, 32782, 32783, 32784, 32785, 32786,\n",
       "       32787, 32788, 32789, 32790, 32791, 32792, 32793, 32794, 32795,\n",
       "       32796, 32797, 32798, 32799, 32800, 32801, 32802, 32803, 32804,\n",
       "       32805, 32806, 32807, 32808, 32809, 32810, 32811, 32812, 32813,\n",
       "       32814, 32815, 32816, 32817, 32818, 32819, 32820, 32821, 32822,\n",
       "       32823, 32824, 32825, 32826, 32827, 32828, 32829, 32830, 32831,\n",
       "       32832, 32833, 32834, 32835, 32836, 32837, 32838, 32839, 32840,\n",
       "       32841, 32842, 32843, 32844, 32845, 32846, 32847, 32848, 32849,\n",
       "       32850, 32851, 32852, 32853, 32854, 32855, 32856, 32857, 32858,\n",
       "       32859, 32860, 32861, 32862, 32863, 32864, 32865, 32866, 32867,\n",
       "       32868, 32869, 32870, 32871, 32872, 32873, 32874, 32875, 32876,\n",
       "       32877, 32878, 32879, 32880, 32881, 32882, 32883, 32884, 32885,\n",
       "       32886, 32887, 32888, 32889, 32890, 32891, 32892, 32893, 32894,\n",
       "       32895, 32896, 32897, 32898, 32899, 32900, 32901, 32902, 32903,\n",
       "       32904, 32905, 32906, 32907, 32908, 32909, 32910, 32911, 32912,\n",
       "       32913, 32914, 32915, 32916, 32917, 32918, 32919, 32920, 32921,\n",
       "       32922, 32923, 32924, 32925, 32926, 32927, 32928, 32929, 32930,\n",
       "       32931, 32932, 32933, 32934, 32935, 32936, 32937, 32938, 32939,\n",
       "       32940, 32941, 32942, 32943, 32944, 32945, 32946, 32947, 32948,\n",
       "       32949, 32950, 32951, 32952, 32953, 32954, 32955, 32956, 32957,\n",
       "       32958, 32959, 32960, 32961, 32962, 32963, 32964, 32965, 32966,\n",
       "       32967, 32968, 32969, 32970, 32971, 32972, 32973, 32974, 32975,\n",
       "       32976, 32977, 32978, 32979, 32980, 32981, 32982, 32983, 32984,\n",
       "       32985, 32986, 32987, 32988, 32989, 32990, 32991, 32992, 32993,\n",
       "       32994, 32995, 32996, 32997, 32998, 32999, 33000, 33001, 33002,\n",
       "       33003, 33004, 33005, 33006, 33007, 33008, 33009, 33010, 33011,\n",
       "       33012, 33013, 33014, 33015, 33016, 33017, 33018, 33019, 33020,\n",
       "       33021, 33022, 33023, 33024, 33025, 33026, 33027, 33028, 33029,\n",
       "       33030, 33031, 33032, 33033, 33034, 33035, 33036, 33037, 33038,\n",
       "       33039, 33040, 33041, 33042, 33043, 33044, 33045, 33046, 33047,\n",
       "       33048, 33049, 33050, 33051, 33052, 33053, 33054, 33055, 33056,\n",
       "       33057, 33058, 33059, 33060, 33061, 33062, 33063, 33064, 33065,\n",
       "       33066, 33067, 33068, 33069, 33070, 33071, 33072, 33073, 33074,\n",
       "       33075, 33076, 33077, 33078, 33079, 33080, 33081, 33082, 33083,\n",
       "       33084, 33085, 33086, 33087, 33088, 33089, 33090, 33091, 33092,\n",
       "       33093, 33094, 33095, 33096, 33097, 33098, 33099, 33100, 33101,\n",
       "       33102, 33103, 33104, 33105, 33106, 33107, 33108, 33109, 33110,\n",
       "       33111, 33112, 33113, 33114, 33115, 33116, 33117, 33118, 33119,\n",
       "       33120, 33121, 33122, 33123, 33124, 33125, 33126, 33127, 33128,\n",
       "       33129, 33130, 33131, 33132, 33133, 33134, 33135, 33136, 33137,\n",
       "       33138, 33139, 33140, 33141, 33142, 33143, 33144, 33145, 33146,\n",
       "       33147, 33148, 33149, 33150, 33151, 33152, 33153, 33154, 33155,\n",
       "       33156, 33157, 33158, 33159, 33160, 33161, 33162, 33163, 33164,\n",
       "       33165, 33166, 33167, 33168, 33169, 33170, 33171, 33172, 33173,\n",
       "       33174, 33175, 33176, 33177, 33178, 33179, 33180, 33181, 33182,\n",
       "       33183, 33184, 33185, 33186, 33187, 33188, 33189, 33190, 33191,\n",
       "       33192, 33193, 33194, 33195, 33196, 33197, 33198, 33199, 33200,\n",
       "       33201, 33202, 33203, 33204, 33205, 33206, 33207, 33208, 33209,\n",
       "       33210, 33211, 33212, 33213, 33214, 33215, 33216, 33217, 33218,\n",
       "       33219, 33220, 33221, 33222, 33223, 33224, 33225, 33226, 33227,\n",
       "       33228, 33229, 33230, 33231, 33232, 33233, 33234, 33235, 33236,\n",
       "       33237, 33238, 33239, 33240, 33241, 33242, 33243, 33244, 33245,\n",
       "       33246, 33247, 33248, 33249, 33250, 33251, 33252, 33253, 33254,\n",
       "       33255, 33256, 33257, 33258, 33259, 33260, 33261, 33262, 33263,\n",
       "       33264, 33265, 33266, 33267, 33268, 33269, 33270, 33271, 33272,\n",
       "       33273, 33274, 33275, 33276, 33277, 33278, 33279, 33280, 33281,\n",
       "       33282, 33283, 33284, 33285, 33286, 33287, 33288, 33289, 33290,\n",
       "       33291, 33292, 33293, 33294, 33295, 33296, 33297, 33298, 33299,\n",
       "       33300, 33301, 33302, 33303, 33304, 33305, 33306, 33307, 33308,\n",
       "       33309, 33310, 33311, 33312, 33313, 33314, 33315, 33316, 33317,\n",
       "       33318, 33319, 33320, 33321, 33322, 33323, 33324, 33325, 33326,\n",
       "       33327, 33328, 33329, 33330, 33331, 33332, 33333, 33334, 33335,\n",
       "       33336, 33337, 33338, 33339, 33340, 33341, 33342, 33343, 33344,\n",
       "       33345, 33346, 33347, 33348, 33349, 33350, 33351, 33352, 33353,\n",
       "       33354, 33355, 33356, 33357, 33358, 33359, 33360, 33361, 33362,\n",
       "       33363, 33364, 33365, 33366, 33367, 33368, 33369, 33370, 33371,\n",
       "       33372, 33373, 33374, 33375, 33376, 33377, 33378, 33379, 33380,\n",
       "       33381, 33382, 33383, 33384, 33385, 33386, 33387, 33388, 33389,\n",
       "       33390, 33391, 33392, 33393, 33394, 33395, 33396, 33397, 33398,\n",
       "       33399, 33400, 33401, 33402, 33403, 33404, 33405, 33406, 33407,\n",
       "       33408, 33409, 33410, 33411, 33412, 33413, 33414, 33415, 33416,\n",
       "       33417, 33418, 33419, 33420, 33421, 33422, 33423, 33424, 33425,\n",
       "       33426, 33427, 33428, 33429, 33430, 33431, 33432, 33433, 33434,\n",
       "       33435, 33436, 33437, 33438, 33439, 33440, 33441, 33442, 33443,\n",
       "       33444, 33445, 33446, 33447, 33448, 33449, 33450, 33451, 33452,\n",
       "       33453, 33454, 33455, 33456, 33457, 33458, 33459, 33460, 33461,\n",
       "       33462, 33463, 33464, 33465, 33466, 33467, 33468, 33469, 33470,\n",
       "       33471, 33472, 33473, 33474, 33475, 33476, 33477, 33478, 33479,\n",
       "       33480, 33481, 33482, 33483, 33484, 33485, 33486, 33487, 33488,\n",
       "       33489, 33490, 33491, 33492, 33493, 33494, 33495, 33496, 33497,\n",
       "       33498, 33499, 33500, 33501, 33502, 33503, 33504, 33505, 33506,\n",
       "       33507, 33508, 33509, 33510, 33511, 33512, 33513, 33514, 33515,\n",
       "       33516, 33517, 33518, 33519, 33520, 33521, 33522, 33523, 33524,\n",
       "       33525, 33526, 33527, 33528, 33529, 33530, 33531, 33532, 33533,\n",
       "       33534, 33535, 33536, 33537, 33538, 33539, 33540, 33541, 33542,\n",
       "       33543, 33544, 33545, 33546, 33547, 33548, 33549, 33550, 33551,\n",
       "       33552, 33553, 33554, 33555, 33556, 33557, 33558, 33559, 33560,\n",
       "       33561, 33562, 33563, 33564, 33565, 33566, 33567, 33568, 33569,\n",
       "       33570, 33571, 33572, 33573, 33574, 33575, 33576, 33577, 33578,\n",
       "       33579, 33580, 33581, 33582, 33583, 33584, 33585, 33586, 33587,\n",
       "       33588, 33589, 33590, 33591, 33592, 33593, 33594, 33595, 33596,\n",
       "       33597, 33598, 33599, 33600, 33601, 33602, 33603, 33604, 33605,\n",
       "       33606, 33607, 33608, 33609, 33610, 33611, 33612, 33613, 33614,\n",
       "       33615, 33616, 33617, 33618, 33619, 33620, 33621, 33622, 33623,\n",
       "       33624, 33625, 33626, 33627, 33628, 33629, 33630, 33631, 33632,\n",
       "       33633, 33634, 33635, 33636, 33637, 33638, 33639, 33640, 33641,\n",
       "       33642, 33643, 33644, 33645, 33646, 33647, 33648, 33649, 33650,\n",
       "       33651, 33652, 33653, 33654, 33655, 33656, 33657, 33658, 33659,\n",
       "       33660, 33661, 33662, 33663, 33664, 33665, 33666, 33667, 33668,\n",
       "       33669, 33670, 33671, 33672, 33673, 33674, 33675, 33676, 33677,\n",
       "       33678, 33679, 33680, 33681, 33682, 33683, 33684, 33685, 33686,\n",
       "       33687, 33688, 33689, 33690, 33691, 33692, 33693, 33694, 33695,\n",
       "       33696, 33697, 33698, 33699, 33700, 33701, 33702, 33703, 33704,\n",
       "       33705, 33706, 33707, 33708, 33709, 33710, 33711, 33712, 33713,\n",
       "       33714, 33715, 33716, 33717, 33718, 33719, 33720, 33721, 33722,\n",
       "       33723, 33724, 33725, 33726, 33727, 33728, 33729, 33730, 33731,\n",
       "       33732, 33733, 33734, 33735, 33736, 33737, 33738, 33739, 33740,\n",
       "       33741, 33742, 33743, 33744, 33745, 33746, 33747, 33748, 33749,\n",
       "       33750, 33751, 33752, 33753, 33754, 33755, 33756, 33757, 33758,\n",
       "       33759, 33760, 33761, 33762, 33763, 33764, 33765, 33766, 33767,\n",
       "       33768, 33769, 33770, 33771, 33772, 33773, 33774, 33775, 33776,\n",
       "       33777, 33778, 33779, 33780, 33781, 33782, 33783, 33784, 33785,\n",
       "       33786, 33787, 33788, 33789, 33790, 33791, 33792, 33793, 33794,\n",
       "       33795, 33796, 33797, 33798, 33799, 33800, 33801, 33802, 33803,\n",
       "       33804, 33805, 33806, 33807, 33808, 33809, 33810, 33811, 33812,\n",
       "       33813, 33814, 33815, 33816, 33817, 33818, 33819, 33820, 33821,\n",
       "       33822, 33823, 33824, 33825, 33826, 33827, 33828, 33829, 33830,\n",
       "       33831, 33832, 33833, 33834, 33835, 33836, 33837, 33838, 33839,\n",
       "       33840, 33841, 33842, 33843, 33844, 33845, 33846, 33847, 33848,\n",
       "       33849, 33850, 33851, 33852, 33853, 33854, 33855, 33856, 33857,\n",
       "       33858, 33859, 33860, 33861, 33862, 33863, 33864, 33865, 33866,\n",
       "       33867, 33868, 33869, 33870, 33871, 33872, 33873, 33874, 33875,\n",
       "       33876, 33877, 33878, 33879, 33880, 33881, 33882, 33883, 33884,\n",
       "       33885, 33886, 33887, 33888, 33889, 33890, 33891, 33892, 33893,\n",
       "       33894, 33895, 33896, 33897, 33898, 33899, 33900, 33901, 33902,\n",
       "       33903, 33904, 33905, 33906, 33907, 33908, 33909, 33910, 33911,\n",
       "       33912, 33913, 33914, 33915, 33916, 33917, 33918, 33919, 33920,\n",
       "       33921, 33922, 33923, 33924, 33925, 33926, 33927, 33928, 33929,\n",
       "       33930, 33931, 33932, 33933, 33934, 33935, 33936, 33937, 33938,\n",
       "       33939, 33940, 33941, 33942, 33943, 33944, 33945, 33946, 33947,\n",
       "       33948, 33949, 33950, 33951, 33952, 33953, 33954, 33955, 33956,\n",
       "       33957, 33958, 33959, 33960, 33961, 33962, 33963, 33964, 33965,\n",
       "       33966, 33967, 33968, 33969, 33970, 33971, 33972, 33973, 33974,\n",
       "       33975, 33976, 33977, 33978, 33979, 33980, 33981, 33982, 33983,\n",
       "       33984, 33985, 33986, 33987, 33988, 33989, 33990, 33991, 33992,\n",
       "       33993, 33994, 33995, 33996, 33997, 33998, 33999, 34000, 34001,\n",
       "       34002, 34003, 34004, 34005, 34006, 34007, 34008, 34009, 34010,\n",
       "       34011, 34012, 34013, 34014, 34015, 34016, 34017, 34018, 34019,\n",
       "       34020, 34021, 34022, 34023, 34024, 34025, 34026, 34027, 34028,\n",
       "       34029, 34030, 34031, 34032, 34033, 34034, 34035, 34036, 34037,\n",
       "       34038, 34039, 34040, 34041, 34042, 34043, 34044, 34045, 34046,\n",
       "       34047, 34048, 34049, 34050, 34051, 34052, 34053, 34054, 34055,\n",
       "       34056, 34057, 34058, 34059, 34060, 34061, 34062, 34063, 34064,\n",
       "       34065, 34066, 34067, 34068, 34069, 34070, 34071, 34072, 34073,\n",
       "       34074, 34075, 34076, 34077, 34078, 34079, 34080, 34081, 34082,\n",
       "       34083, 34084, 34085, 34086, 34087, 34088, 34089, 34090, 34091,\n",
       "       34092, 34093, 34094, 34095, 34096, 34097, 34098, 34099, 34100,\n",
       "       34101, 34102, 34103, 34104, 34105, 34106, 34107, 34108, 34109,\n",
       "       34110, 34111, 34112, 34113, 34114, 34115, 34116, 34117, 34118,\n",
       "       34119, 34120, 34121, 34122, 34123, 34124, 34125, 34126, 34127,\n",
       "       34128, 34129, 34130, 34131, 34132, 34133, 34134, 34135, 34136,\n",
       "       34137, 34138, 34139, 34140, 34141, 34142, 34143, 34144, 34145,\n",
       "       34146, 34147, 34148, 34149, 34150, 34151, 34152, 34153, 34154,\n",
       "       34155, 34156, 34157, 34158, 34159, 34160, 34161, 34162, 34163,\n",
       "       34164, 34165, 34166, 34167, 34168, 34169, 34170, 34171, 34172,\n",
       "       34173, 34174, 34175, 34176, 34177, 34178, 34179, 34180, 34181,\n",
       "       34182, 34183, 34184, 34185, 34186, 34187, 34188, 34189, 34190,\n",
       "       34191, 34192, 34193, 34194, 34195, 34196, 34197, 34198, 34199,\n",
       "       34200, 34201, 34202, 34203, 34204, 34205, 34206, 34207, 34208,\n",
       "       34209, 34210, 34211, 34212, 34213, 34214, 34215, 34216, 34217,\n",
       "       34218, 34219, 34220, 34221, 34222, 34223, 34224, 34225, 34226,\n",
       "       34227, 34228, 34229, 34230, 34231, 34232, 34233, 34234, 34235,\n",
       "       34236, 34237, 34238, 34239, 34240, 34241, 34242, 34243, 34244,\n",
       "       34245, 34246, 34247, 34248, 34249, 34250, 34251, 34252, 34253,\n",
       "       34254, 34255, 34256, 34257, 34258, 34259, 34260, 34261, 34262,\n",
       "       34263, 34264, 34265, 34266, 34267, 34268, 34269, 34270, 34271,\n",
       "       34272, 34273, 34274, 34275, 34276, 34277, 34278, 34279, 34280,\n",
       "       34281, 34282, 34283, 34284, 34285, 34286, 34287, 34288, 34289,\n",
       "       34290, 34291, 34292, 34293, 34294, 34295, 34296, 34297, 34298,\n",
       "       34299, 34300, 34301, 34302, 34303, 34304, 34305, 34306, 34307,\n",
       "       34308, 34309, 34310, 34311, 34312, 34313, 34314, 34315, 34316,\n",
       "       34317, 34318, 34319, 34320, 34321, 34322, 34323, 34324, 34325,\n",
       "       34326, 34327, 34328, 34329, 34330, 34331, 34332, 34333, 34334,\n",
       "       34335, 34336, 34337, 34338, 34339, 34340, 34341, 34342, 34343,\n",
       "       34344, 34345, 34346, 34347, 34348, 34349, 34350, 34351, 34352,\n",
       "       34353, 34354, 34355, 34356, 34357, 34358, 34359, 34360, 34361,\n",
       "       34362, 34363, 34364, 34365, 34366, 34367, 34368, 34369, 34370,\n",
       "       34371, 34372, 34373, 34374, 34375, 34376, 34377, 34378, 34379,\n",
       "       34380, 34381, 34382, 34383, 34384, 34385, 34386, 34387, 34388,\n",
       "       34389, 34390, 34391, 34392, 34393, 34394, 34395, 34396, 34397,\n",
       "       34398, 34399, 34400, 34401, 34402, 34403, 34404, 34405, 34406,\n",
       "       34407, 34408, 34409, 34410, 34411, 34412, 34413, 34414, 34415,\n",
       "       34416, 34417, 34418, 34419, 34420, 34421, 34422, 34423, 34424,\n",
       "       34425, 34426, 34427, 34428, 34429, 34430, 34431, 34432, 34433,\n",
       "       34434, 34435, 34436, 34437, 34438, 34439, 34440, 34441, 34442,\n",
       "       34443, 34444, 34445, 34446, 34447, 34448, 34449, 34450, 34451,\n",
       "       34452, 34453, 34454, 34455, 34456, 34457, 34458, 34459, 34460,\n",
       "       34461, 34462, 34463, 34464, 34465, 34466, 34467, 34468, 34469,\n",
       "       34470, 34471, 34472, 34473, 34474, 34475, 34476, 34477, 34478,\n",
       "       34479, 34480, 34481, 34482, 34483, 34484, 34485, 34486, 34487,\n",
       "       34488, 34489, 34490, 34491, 34492, 34493, 34494, 34495, 34496,\n",
       "       34497, 34498, 34499, 34500, 34501, 34502, 34503, 34504, 34505,\n",
       "       34506, 34507, 34508, 34509, 34510, 34511, 34512, 34513, 34514,\n",
       "       34515, 34516, 34517, 34518, 34519, 34520, 34521, 34522, 34523,\n",
       "       34524, 34525, 34526, 34527, 34528, 34529, 34530, 34531, 34532,\n",
       "       34533, 34534, 34535, 34536, 34537, 34538, 34539, 34540, 34541,\n",
       "       34542, 34543, 34544, 34545, 34546, 34547, 34548, 34549, 34550,\n",
       "       34551, 34552, 34553, 34554, 34555, 34556, 34557, 34558, 34559,\n",
       "       34560, 34561, 34562, 34563, 34564, 34565, 34566, 34567, 34568,\n",
       "       34569, 34570, 34571, 34572, 34573, 34574, 34575, 34576, 34577,\n",
       "       34578, 34579, 34580, 34581, 34582, 34583, 34584, 34585, 34586,\n",
       "       34587, 34588, 34589, 34590, 34591, 34592, 34593, 34594, 34595,\n",
       "       34596, 34597, 34598, 34599, 34600, 34601, 34602, 34603, 34604,\n",
       "       34605, 34606, 34607, 34608, 34609, 34610, 34611, 34612, 34613,\n",
       "       34614, 34615, 34616, 34617, 34618, 34619, 34620, 34621, 34622,\n",
       "       34623, 34624, 34625, 34626, 34627, 34628, 34629, 34630, 34631,\n",
       "       34632, 34633, 34634, 34635, 34636, 34637, 34638, 34639, 34640,\n",
       "       34641, 34642, 34643, 34644, 34645, 34646, 34647, 34648, 34649,\n",
       "       34650, 34651, 34652, 34653, 34654, 34655, 34656, 34657, 34658,\n",
       "       34659, 34660, 34661, 34662, 34663, 34664, 34665, 34666, 34667,\n",
       "       34668, 34669, 34670, 34671, 34672, 34673, 34674, 34675, 34676,\n",
       "       34677, 34678, 34679, 34680, 34681, 34682, 34683, 34684, 34685,\n",
       "       34686, 34687, 34688, 34689, 34690, 34691, 34692, 34693, 34694,\n",
       "       34695, 34696, 34697, 34698, 34699, 34700, 34701, 34702, 34703,\n",
       "       34704, 34705, 34706, 34707, 34708, 34709, 34710, 34711, 34712,\n",
       "       34713, 34714, 34715, 34716, 34717, 34718, 34719, 34720, 34721,\n",
       "       34722, 34723, 34724, 34725, 34726, 34727, 34728, 34729, 34730,\n",
       "       34731, 34732, 34733, 34734, 34735, 34736, 34737, 34738, 34739,\n",
       "       34740, 34741, 34742, 34743, 34744, 34745, 34746, 34747, 34748,\n",
       "       34749, 34750, 34751, 34752, 34753, 34754, 34755, 34756, 34757,\n",
       "       34758, 34759, 34760, 34761, 34762, 34763, 34764, 34765, 34766,\n",
       "       34767, 34768, 34769, 34770, 34771, 34772, 34773, 34774, 34775,\n",
       "       34776, 34777, 34778, 34779, 34780, 34781, 34782, 34783, 34784,\n",
       "       34785, 34786, 34787, 34788, 34789, 34790, 34791, 34792, 34793,\n",
       "       34794, 34795, 34796, 34797, 34798, 34799, 34800, 34801, 34802,\n",
       "       34803, 34804, 34805, 34806, 34807, 34808, 34809, 34810, 34811,\n",
       "       34812, 34813, 34814, 34815, 34816, 34817, 34818, 34819, 34820,\n",
       "       34821, 34822, 34823, 34824, 34825, 34826, 34827, 34828, 34829,\n",
       "       34830, 34831, 34832, 34833, 34834, 34835, 34836, 34837, 34838,\n",
       "       34839, 34840, 34841, 34842, 34843, 34844, 34845, 34846, 34847,\n",
       "       34848, 34849, 34850, 34851, 34852, 34853, 34854, 34855, 34856,\n",
       "       34857, 34858, 34859, 34860, 34861, 34862, 34863, 34864, 34865,\n",
       "       34866, 34867, 34868, 34869, 34870, 34871, 34872, 34873, 34874,\n",
       "       34875, 34876, 34877, 34878, 34879, 34880, 34881, 34882, 34883,\n",
       "       34884, 34885, 34886, 34887, 34888, 34889, 34890, 34891, 34892,\n",
       "       34893, 34894, 34895, 34896, 34897, 34898, 34899, 34900, 34901,\n",
       "       34902, 34903, 34904, 34905, 34906, 34907, 34908, 34909, 34910,\n",
       "       34911, 34912, 34913, 34914, 34915, 34916, 34917, 34918, 34919,\n",
       "       34920, 34921, 34922, 34923, 34924, 34925, 34926, 34927, 34928,\n",
       "       34929, 34930, 34931, 34932, 34933, 34934, 34935, 34936, 34937,\n",
       "       34938, 34939, 34940, 34941, 34942, 34943, 34944, 34945, 34946,\n",
       "       34947, 34948, 34949, 34950, 34951, 34952, 34953, 34954, 34955,\n",
       "       34956, 34957, 34958, 34959, 34960, 34961, 34962, 34963, 34964,\n",
       "       34965, 34966, 34967, 34968, 34969, 34970, 34971, 34972, 34973,\n",
       "       34974, 34975, 34976, 34977, 34978, 34979, 34980, 34981, 34982,\n",
       "       34983, 34984, 34985, 34986, 34987, 34988, 34989, 34990, 34991,\n",
       "       34992, 34993, 34994, 34995, 34996, 34997, 34998, 34999, 35000,\n",
       "       35001, 35002, 35003, 35004, 35005, 35006, 35007, 35008, 35009,\n",
       "       35010, 35011, 35012, 35013, 35014, 35015, 35016, 35017, 35018,\n",
       "       35019, 35020, 35021, 35022, 35023, 35024, 35025, 35026, 35027,\n",
       "       35028, 35029, 35030, 35031, 35032, 35033, 35034, 35035, 35036,\n",
       "       35037, 35038, 35039, 35040, 35041, 35042, 35043, 35044, 35045,\n",
       "       35046, 35047, 35048, 35049, 35050, 35051, 35052, 35053, 35054,\n",
       "       35055, 35056, 35057, 35058, 35059, 35060, 35061, 35062, 35063,\n",
       "       35064, 35065, 35066, 35067, 35068, 35069, 35070, 35071, 35072,\n",
       "       35073, 35074, 35075, 35076, 35077, 35078, 35079, 35080, 35081,\n",
       "       35082, 35083, 35084, 35085, 35086, 35087, 35088, 35089, 35090,\n",
       "       35091, 35092, 35093, 35094, 35095, 35096, 35097, 35098, 35099,\n",
       "       35100, 35101, 35102, 35103, 35104, 35105, 35106, 35107, 35108,\n",
       "       35109, 35110, 35111, 35112, 35113, 35114, 35115, 35116, 35117,\n",
       "       35118, 35119, 35120, 35121, 35122, 35123, 35124, 35125, 35126,\n",
       "       35127, 35128, 35129, 35130, 35131, 35132, 35133, 35134, 35135,\n",
       "       35136, 35137, 35138, 35139, 35140, 35141, 35142, 35143, 35144,\n",
       "       35145, 35146, 35147, 35148, 35149, 35150, 35151, 35152, 35153,\n",
       "       35154, 35155, 35156, 35157, 35158, 35159, 35160, 35161, 35162,\n",
       "       35163, 35164, 35165, 35166, 35167, 35168, 35169, 35170, 35171,\n",
       "       35172, 35173, 35174, 35175, 35176, 35177, 35178, 35179, 35180,\n",
       "       35181, 35182, 35183, 35184, 35185, 35186, 35187, 35188, 35189,\n",
       "       35190, 35191, 35192, 35193, 35194, 35195, 35196, 35197, 35198,\n",
       "       35199, 35200, 35201, 35202, 35203, 35204, 35205, 35206, 35207,\n",
       "       35208, 35209, 35210, 35211, 35212, 35213, 35214, 35215, 35216,\n",
       "       35217, 35218, 35219, 35220, 35221, 35222, 35223, 35224, 35225,\n",
       "       35226, 35227, 35228, 35229, 35230, 35231, 35232, 35233, 35234,\n",
       "       35235, 35236, 35237, 35238, 35239, 35240, 35241, 35242, 35243,\n",
       "       35244, 35245, 35246, 35247, 35248, 35249, 35250, 35251, 35252,\n",
       "       35253, 35254, 35255, 35256, 35257, 35258, 35259, 35260, 35261,\n",
       "       35262, 35263, 35264, 35265, 35266, 35267, 35268, 35269, 35270,\n",
       "       35271, 35272, 35273, 35274, 35275, 35276, 35277, 35278, 35279,\n",
       "       35280, 35281, 35282, 35283, 35284, 35285, 35286, 35287, 35288,\n",
       "       35289, 35290, 35291, 35292, 35293, 35294, 35295, 35296, 35297,\n",
       "       35298, 35299, 35300, 35301, 35302, 35303, 35304, 35305, 35306,\n",
       "       35307, 35308, 35309, 35310, 35311, 35312, 35313, 35314, 35315,\n",
       "       35316, 35317, 35318, 35319, 35320, 35321, 35322, 35323, 35324,\n",
       "       35325, 35326, 35327, 35328, 35329, 35330, 35331, 35332, 35333,\n",
       "       35334, 35335, 35336, 35337, 35338, 35339, 35340, 35341, 35342,\n",
       "       35343, 35344, 35345, 35346, 35347, 35348, 35349, 35350, 35351,\n",
       "       35352, 35353, 35354, 35355, 35356, 35357, 35358, 35359, 35360,\n",
       "       35361, 35362, 35363, 35364, 35365, 35366, 35367, 35368, 35369,\n",
       "       35370, 35371, 35372, 35373, 35374, 35375, 35376, 35377, 35378,\n",
       "       35379, 35380, 35381, 35382, 35383, 35384, 35385, 35386, 35387,\n",
       "       35388, 35389, 35390, 35391, 35392, 35393, 35394, 35395, 35396,\n",
       "       35397, 35398, 35399, 35400, 35401, 35402, 35403, 35404, 35405,\n",
       "       35406, 35407, 35408, 35409, 35410, 35411, 35412, 35413, 35414,\n",
       "       35415, 35416, 35417, 35418, 35419, 35420, 35421, 35422, 35423,\n",
       "       35424, 35425, 35426, 35427, 35428, 35429, 35430, 35431, 35432,\n",
       "       35433, 35434, 35435, 35436, 35437, 35438, 35439, 35440, 35441,\n",
       "       35442, 35443, 35444, 35445, 35446, 35447, 35448, 35449, 35450,\n",
       "       35451, 35452, 35453, 35454, 35455, 35456, 35457, 35458, 35459,\n",
       "       35460, 35461, 35462, 35463, 35464, 35465, 35466, 35467, 35468,\n",
       "       35469, 35470, 35471, 35472, 35473, 35474, 35475, 35476, 35477,\n",
       "       35478, 35479, 35480, 35481, 35482, 35483, 35484, 35485, 35486,\n",
       "       35487, 35488, 35489, 35490, 35491, 35492, 35493, 35494, 35495,\n",
       "       35496, 35497, 35498, 35499, 35500, 35501, 35502, 35503, 35504,\n",
       "       35505, 35506, 35507, 35508, 35509, 35510, 35511, 35512, 35513,\n",
       "       35514, 35515, 35516, 35517, 35518, 35519, 35520, 35521, 35522,\n",
       "       35523, 35524, 35525, 35526, 35527, 35528, 35529, 35530, 35531,\n",
       "       35532, 35533, 35534, 35535, 35536, 35537, 35538, 35539, 35540,\n",
       "       35541, 35542, 35543, 35544, 35545, 35546, 35547, 35548, 35549,\n",
       "       35550, 35551, 35552, 35553, 35554, 35555, 35556, 35557, 35558,\n",
       "       35559, 35560, 35561, 35562, 35563, 35564, 35565, 35566, 35567,\n",
       "       35568, 35569, 35570, 35571, 35572, 35573, 35574, 35575, 35576,\n",
       "       35577, 35578, 35579, 35580, 35581, 35582, 35583, 35584, 35585,\n",
       "       35586, 35587, 35588, 35589, 35590, 35591, 35592, 35593, 35594,\n",
       "       35595, 35596, 35597, 35598, 35599, 35600, 35601, 35602, 35603,\n",
       "       35604, 35605, 35606, 35607, 35608, 35609, 35610, 35611, 35612,\n",
       "       35613, 35614, 35615, 35616, 35617, 35618, 35619, 35620, 35621,\n",
       "       35622, 35623, 35624, 35625, 35626, 35627, 35628, 35629, 35630,\n",
       "       35631, 35632, 35633, 35634, 35635, 35636, 35637, 35638, 35639,\n",
       "       35640, 35641, 35642, 35643, 35644, 35645, 35646, 35647, 35648,\n",
       "       35649, 35650, 35651, 35652, 35653, 35654, 35655, 35656, 35657,\n",
       "       35658, 35659, 35660, 35661, 35662, 35663, 35664, 35665, 35666,\n",
       "       35667, 35668, 35669, 35670, 35671, 35672, 35673, 35674, 35675,\n",
       "       35676, 35677, 35678, 35679, 35680, 35681, 35682, 35683, 35684,\n",
       "       35685, 35686, 35687, 35688, 35689, 35690, 35691, 35692, 35693,\n",
       "       35694, 35695, 35696, 35697, 35698, 35699, 35700, 35701, 35702,\n",
       "       35703, 35704, 35705, 35706, 35707, 35708, 35709, 35710, 35711,\n",
       "       35712, 35713, 35714, 35715, 35716, 35717, 35718, 35719, 35720,\n",
       "       35721, 35722, 35723, 35724, 35725, 35726, 35727, 35728, 35729,\n",
       "       35730, 35731, 35732, 35733, 35734, 35735, 35736, 35737, 35738,\n",
       "       35739, 35740, 35741, 35742, 35743, 35744, 35745, 35746, 35747,\n",
       "       35748, 35749, 35750, 35751, 35752, 35753, 35754, 35755, 35756,\n",
       "       35757, 35758, 35759, 35760, 35761, 35762, 35763, 35764, 35765,\n",
       "       35766, 35767, 35768, 35769, 35770, 35771, 35772, 35773, 35774,\n",
       "       35775, 35776, 35777, 35778, 35779, 35780, 35781, 35782, 35783,\n",
       "       35784, 35785, 35786, 35787, 35788, 35789, 35790, 35791, 35792,\n",
       "       35793, 35794, 35795, 35796, 35797, 35798, 35799, 35800, 35801,\n",
       "       35802, 35803, 35804, 35805, 35806, 35807, 35808, 35809, 35810,\n",
       "       35811, 35812, 35813, 35814, 35815, 35816, 35817, 35818, 35819,\n",
       "       35820, 35821, 35822, 35823, 35824, 35825, 35826, 35827, 35828,\n",
       "       35829, 35830, 35831, 35832, 35833, 35834, 35835, 35836, 35837,\n",
       "       35838, 35839, 35840, 35841, 35842, 35843, 35844, 35845, 35846,\n",
       "       35847, 35848, 35849, 35850, 35851, 35852, 35853, 35854, 35855,\n",
       "       35856, 35857, 35858, 35859, 35860, 35861, 35862, 35863, 35864,\n",
       "       35865, 35866, 35867, 35868, 35869, 35870, 35871, 35872, 35873,\n",
       "       35874, 35875, 35876, 35877, 35878, 35879, 35880, 35881, 35882,\n",
       "       35883, 35884, 35885, 35886, 35887, 35888, 35889, 35890, 35891,\n",
       "       35892, 35893, 35894, 35895, 35896, 35897, 35898, 35899, 35900,\n",
       "       35901, 35902, 35903, 35904, 35905, 35906, 35907, 35908, 35909,\n",
       "       35910, 35911, 35912, 35913, 35914, 35915, 35916, 35917, 35918,\n",
       "       35919, 35920, 35921, 35922, 35923, 35924, 35925, 35926, 35927,\n",
       "       35928, 35929, 35930, 35931, 35932, 35933, 35934, 35935, 35936,\n",
       "       35937, 35938, 35939, 35940, 35941, 35942, 35943, 35944, 35945,\n",
       "       35946, 35947, 35948, 35949, 35950, 35951, 35952, 35953, 35954,\n",
       "       35955, 35956, 35957, 35958, 35959, 35960, 35961, 35962, 35963,\n",
       "       35964, 35965, 35966, 35967, 35968, 35969, 35970, 35971, 35972,\n",
       "       35973, 35974, 35975, 35976, 35977, 35978, 35979, 35980, 35981,\n",
       "       35982, 35983, 35984, 35985, 35986, 35987, 35988, 35989, 35990,\n",
       "       35991, 35992, 35993, 35994, 35995, 35996, 35997, 35998, 35999,\n",
       "       36000, 36001, 36002, 36003, 36004, 36005, 36006, 36007, 36008,\n",
       "       36009, 36010, 36011, 36012, 36013, 36014, 36015, 36016, 36017,\n",
       "       36018, 36019, 36020, 36021, 36022, 36023, 36024, 36025, 36026,\n",
       "       36027, 36028, 36029, 36030, 36031, 36032, 36033, 36034, 36035,\n",
       "       36036, 36037, 36038, 36039, 36040, 36041, 36042, 36043, 36044,\n",
       "       36045, 36046, 36047, 36048, 36049, 36050, 36051, 36052, 36053,\n",
       "       36054, 36055, 36056, 36057, 36058, 36059, 36060, 36061, 36062,\n",
       "       36063, 36064, 36065, 36066, 36067, 36068, 36069, 36070, 36071,\n",
       "       36072, 36073, 36074, 36075, 36076, 36077, 36078, 36079, 36080,\n",
       "       36081, 36082, 36083, 36084, 36085, 36086, 36087, 36088, 36089,\n",
       "       36090, 36091, 36092, 36093, 36094, 36095, 36096, 36097, 36098,\n",
       "       36099, 36100, 36101, 36102, 36103, 36104, 36105, 36106, 36107,\n",
       "       36108, 36109, 36110, 36111, 36112, 36113, 36114, 36115, 36116,\n",
       "       36117, 36118, 36119, 36120, 36121, 36122, 36123, 36124, 36125,\n",
       "       36126, 36127, 36128, 36129, 36130, 36131, 36132, 36133, 36134,\n",
       "       36135, 36136, 36137, 36138, 36139, 36140, 36141, 36142, 36143,\n",
       "       36144, 36145, 36146, 36147, 36148, 36149, 36150, 36151, 36152,\n",
       "       36153, 36154, 36155, 36156, 36157, 36158, 36159, 36160, 36161,\n",
       "       36162, 36163, 36164, 36165, 36166, 36167, 36168, 36169, 36170,\n",
       "       36171, 36172, 36173, 36174, 36175, 36176, 36177, 36178, 36179,\n",
       "       36180, 36181, 36182, 36183, 36184, 36185, 36186, 36187, 36188,\n",
       "       36189, 36190, 36191, 36192, 36193, 36194, 36195, 36196, 36197,\n",
       "       36198, 36199, 36200, 36201, 36202, 36203, 36204, 36205, 36206,\n",
       "       36207, 36208, 36209, 36210, 36211, 36212, 36213, 36214, 36215,\n",
       "       36216, 36217, 36218, 36219, 36220, 36221, 36222, 36223, 36224,\n",
       "       36225, 36226, 36227, 36228, 36229, 36230, 36231, 36232, 36233,\n",
       "       36234, 36235, 36236, 36237, 36238, 36239, 36240, 36241, 36242,\n",
       "       36243, 36244, 36245, 36246, 36247, 36248, 36249, 36250, 36251,\n",
       "       36252, 36253, 36254, 36255, 36256, 36257, 36258, 36259, 36260,\n",
       "       36261, 36262, 36263, 36264, 36265, 36266, 36267, 36268, 36269,\n",
       "       36270, 36271, 36272, 36273, 36274, 36275, 36276, 36277, 36278,\n",
       "       36279, 36280, 36281, 36282, 36283, 36284, 36285, 36286, 36287,\n",
       "       36288, 36289, 36290, 36291, 36292, 36293, 36294, 36295, 36296,\n",
       "       36297, 36298, 36299, 36300, 36301, 36302, 36303, 36304, 36305,\n",
       "       36306, 36307, 36308, 36309, 36310, 36311, 36312, 36313, 36314,\n",
       "       36315, 36316, 36317, 36318, 36319, 36320, 36321, 36322, 36323,\n",
       "       36324, 36325, 36326, 36327, 36328, 36329, 36330, 36331, 36332,\n",
       "       36333, 36334, 36335, 36336, 36337, 36338, 36339, 36340, 36341,\n",
       "       36342, 36343, 36344, 36345, 36346, 36347, 36348, 36349, 36350,\n",
       "       36351, 36352, 36353, 36354, 36355, 36356, 36357, 36358, 36359,\n",
       "       36360, 36361, 36362, 36363, 36364, 36365, 36366, 36367, 36368,\n",
       "       36369, 36370, 36371, 36372, 36373, 36374, 36375, 36376, 36377,\n",
       "       36378, 36379, 36380, 36381, 36382, 36383, 36384, 36385, 36386,\n",
       "       36387, 36388, 36389, 36390, 36391, 36392, 36393, 36394, 36395,\n",
       "       36396, 36397, 36398, 36399, 36400, 36401, 36402, 36403, 36404,\n",
       "       36405, 36406, 36407, 36408, 36409, 36410, 36411, 36412, 36413,\n",
       "       36414, 36415, 36416, 36417, 36418, 36419, 36420, 36421, 36422,\n",
       "       36423, 36424, 36425, 36426, 36427, 36428, 36429, 36430, 36431,\n",
       "       36432, 36433, 36434, 36435, 36436, 36437, 36438, 36439, 36440,\n",
       "       36441, 36442, 36443, 36444, 36445, 36446, 36447, 36448, 36449,\n",
       "       36450, 36451, 36452, 36453, 36454, 36455, 36456, 36457, 36458,\n",
       "       36459, 36460, 36461, 36462, 36463, 36464, 36465, 36466, 36467,\n",
       "       36468, 36469, 36470, 36471, 36472, 36473, 36474, 36475, 36476,\n",
       "       36477, 36478, 36479, 36480, 36481, 36482, 36483, 36484, 36485,\n",
       "       36486, 36487, 36488, 36489, 36490, 36491, 36492, 36493, 36494,\n",
       "       36495, 36496, 36497, 36498, 36499, 36500, 36501, 36502, 36503,\n",
       "       36504, 36505, 36506, 36507, 36508, 36509, 36510, 36511, 36512,\n",
       "       36513, 36514, 36515, 36516, 36517, 36518, 36519, 36520, 36521,\n",
       "       36522, 36523, 36524, 36525, 36526, 36527, 36528, 36529, 36530,\n",
       "       36531, 36532, 36533, 36534, 36535, 36536, 36537, 36538, 36539,\n",
       "       36540, 36541, 36542, 36543, 36544, 36545, 36546, 36547, 36548,\n",
       "       36549, 36550, 36551, 36552, 36553, 36554, 36555, 36556, 36557,\n",
       "       36558, 36559, 36560, 36561, 36562, 36563, 36564, 36565, 36566,\n",
       "       36567, 36568, 36569, 36570, 36571, 36572, 36573, 36574, 36575,\n",
       "       36576, 36577, 36578, 36579, 36580, 36581, 36582, 36583, 36584,\n",
       "       36585, 36586, 36587, 36588, 36589, 36590, 36591, 36592, 36593,\n",
       "       36594, 36595, 36596, 36597, 36598, 36599, 36600, 36601, 36602,\n",
       "       36603, 36604, 36605, 36606, 36607, 36608, 36609, 36610, 36611,\n",
       "       36612, 36613, 36614, 36615, 36616, 36617, 36618, 36619, 36620,\n",
       "       36621, 36622, 36623, 36624, 36625, 36626, 36627, 36628, 36629,\n",
       "       36630, 36631, 36632, 36633, 36634, 36635, 36636, 36637, 36638,\n",
       "       36639, 36640, 36641, 36642, 36643, 36644, 36645, 36646, 36647,\n",
       "       36648, 36649, 36650, 36651, 36652, 36653, 36654, 36655, 36656,\n",
       "       36657, 36658, 36659, 36660, 36661, 36662, 36663, 36664, 36665,\n",
       "       36666, 36667, 36668, 36669, 36670, 36671, 36672, 36673, 36674,\n",
       "       36675, 36676, 36677, 36678, 36679, 36680, 36681, 36682, 36683,\n",
       "       36684, 36685, 36686, 36687, 36688, 36689, 36690, 36691, 36692,\n",
       "       36693, 36694, 36695, 36696, 36697, 36698, 36699, 36700, 36701,\n",
       "       36702, 36703, 36704, 36705, 36706, 36707, 36708, 36709, 36710,\n",
       "       36711, 36712, 36713, 36714, 36715, 36716, 36717, 36718, 36719,\n",
       "       36720, 36721, 36722, 36723, 36724, 36725, 36726, 36727, 36728,\n",
       "       36729, 36730, 36731, 36732, 36733, 36734, 36735, 36736, 36737,\n",
       "       36738, 36739, 36740, 36741, 36742, 36743, 36744, 36745, 36746,\n",
       "       36747, 36748, 36749, 36750, 36751, 36752, 36753, 36754, 36755,\n",
       "       36756, 36757, 36758, 36759, 36760, 36761, 36762, 36763, 36764,\n",
       "       36765, 36766, 36767, 36768, 36769, 36770, 36771, 36772, 36773,\n",
       "       36774, 36775, 36776, 36777, 36778, 36779, 36780, 36781, 36782,\n",
       "       36783, 36784, 36785, 36786, 36787, 36788, 36789, 36790, 36791,\n",
       "       36792, 36793, 36794, 36795, 36796, 36797, 36798, 36799, 36800,\n",
       "       36801, 36802, 36803, 36804, 36805, 36806, 36807, 36808, 36809,\n",
       "       36810, 36811, 36812, 36813, 36814, 36815, 36816, 36817, 36818,\n",
       "       36819, 36820, 36821, 36822, 36823, 36824, 36825, 36826, 36827,\n",
       "       36828, 36829, 36830, 36831, 36832, 36833, 36834, 36835, 36836,\n",
       "       36837, 36838, 36839, 36840, 36841, 36842, 36843, 36844, 36845,\n",
       "       36846, 36847, 36848, 36849, 36850, 36851, 36852, 36853, 36854,\n",
       "       36855, 36856, 36857, 36858, 36859, 36860, 36861, 36862, 36863,\n",
       "       36864, 36865, 36866, 36867, 36868, 36869, 36870, 36871, 36872,\n",
       "       36873, 36874, 36875, 36876, 36877, 36878, 36879, 36880, 36881,\n",
       "       36882, 36883, 36884, 36885, 36886, 36887, 36888, 36889, 36890,\n",
       "       36891, 36892, 36893, 36894, 36895, 36896, 36897, 36898, 36899,\n",
       "       36900, 36901, 36902, 36903, 36904, 36905, 36906, 36907, 36908,\n",
       "       36909, 36910, 36911, 36912, 36913, 36914, 36915, 36916, 36917,\n",
       "       36918, 36919, 36920, 36921, 36922, 36923, 36924, 36925, 36926,\n",
       "       36927, 36928, 36929, 36930, 36931, 36932, 36933, 36934, 36935,\n",
       "       36936, 36937, 36938, 36939, 36940, 36941, 36942, 36943, 36944,\n",
       "       36945, 36946, 36947, 36948, 36949, 36950, 36951, 36952, 36953,\n",
       "       36954, 36955, 36956, 36957, 36958, 36959, 36960, 36961, 36962,\n",
       "       36963, 36964, 36965, 36966, 36967, 36968, 36969, 36970, 36971,\n",
       "       36972, 36973, 36974, 36975, 36976, 36977, 36978, 36979, 36980,\n",
       "       36981, 36982, 36983, 36984, 36985, 36986, 36987, 36988, 36989,\n",
       "       36990, 36991, 36992, 36993, 36994, 36995, 36996, 36997, 36998,\n",
       "       36999, 37000, 37001, 37002, 37003, 37004, 37005, 37006, 37007,\n",
       "       37008, 37009, 37010, 37011, 37012, 37013, 37014, 37015, 37016,\n",
       "       37017, 37018, 37019, 37020, 37021, 37022, 37023, 37024, 37025,\n",
       "       37026, 37027, 37028, 37029, 37030, 37031, 37032, 37033, 37034,\n",
       "       37035, 37036, 37037, 37038, 37039, 37040, 37041, 37042, 37043,\n",
       "       37044, 37045, 37046, 37047, 37048, 37049, 37050, 37051, 37052,\n",
       "       37053, 37054, 37055, 37056, 37057, 37058, 37059, 37060, 37061,\n",
       "       37062, 37063, 37064, 37065, 37066, 37067, 37068, 37069, 37070,\n",
       "       37071, 37072, 37073, 37074, 37075, 37076, 37077, 37078, 37079,\n",
       "       37080, 37081, 37082, 37083, 37084, 37085, 37086, 37087, 37088,\n",
       "       37089, 37090, 37091, 37092, 37093, 37094, 37095, 37096, 37097,\n",
       "       37098, 37099, 37100, 37101, 37102, 37103, 37104, 37105, 37106,\n",
       "       37107, 37108, 37109, 37110, 37111, 37112, 37113, 37114, 37115,\n",
       "       37116, 37117, 37118, 37119, 37120, 37121, 37122, 37123, 37124,\n",
       "       37125, 37126, 37127, 37128, 37129, 37130, 37131, 37132, 37133,\n",
       "       37134, 37135, 37136, 37137, 37138, 37139, 37140, 37141, 37142,\n",
       "       37143, 37144, 37145, 37146, 37147, 37148, 37149, 37150, 37151,\n",
       "       37152, 37153, 37154, 37155, 37156, 37157, 37158, 37159, 37160,\n",
       "       37161, 37162, 37163, 37164, 37165, 37166, 37167, 37168, 37169,\n",
       "       37170, 37171, 37172, 37173, 37174, 37175, 37176, 37177, 37178,\n",
       "       37179, 37180, 37181, 37182, 37183, 37184, 37185, 37186, 37187,\n",
       "       37188, 37189, 37190, 37191, 37192, 37193, 37194, 37195, 37196,\n",
       "       37197, 37198, 37199, 37200, 37201, 37202, 37203, 37204, 37205,\n",
       "       37206, 37207, 37208, 37209, 37210, 37211, 37212, 37213, 37214,\n",
       "       37215, 37216, 37217, 37218, 37219, 37220, 37221, 37222, 37223,\n",
       "       37224, 37225, 37226, 37227, 37228, 37229, 37230, 37231, 37232,\n",
       "       37233, 37234, 37235, 37236, 37237, 37238, 37239, 37240, 37241,\n",
       "       37242, 37243, 37244, 37245, 37246, 37247, 37248, 37249, 37250,\n",
       "       37251, 37252, 37253, 37254, 37255, 37256, 37257, 37258, 37259,\n",
       "       37260, 37261, 37262, 37263, 37264, 37265, 37266, 37267, 37268,\n",
       "       37269, 37270, 37271, 37272, 37273, 37274, 37275, 37276, 37277,\n",
       "       37278, 37279, 37280, 37281, 37282, 37283, 37284, 37285, 37286,\n",
       "       37287, 37288, 37289, 37290, 37291, 37292, 37293, 37294, 37295,\n",
       "       37296, 37297, 37298, 37299, 37300, 37301, 37302, 37303, 37304,\n",
       "       37305, 37306, 37307, 37308, 37309, 37310, 37311, 37312, 37313,\n",
       "       37314, 37315, 37316, 37317, 37318, 37319, 37320, 37321, 37322,\n",
       "       37323, 37324, 37325, 37326, 37327, 37328, 37329, 37330, 37331,\n",
       "       37332, 37333, 37334, 37335, 37336, 37337, 37338, 37339, 37340,\n",
       "       37341, 37342, 37343, 37344, 37345, 37346, 37347, 37348, 37349,\n",
       "       37350, 37351, 37352, 37353, 37354, 37355, 37356, 37357, 37358,\n",
       "       37359, 37360, 37361, 37362, 37363, 37364, 37365, 37366, 37367,\n",
       "       37368, 37369, 37370, 37371, 37372, 37373, 37374, 37375, 37376,\n",
       "       37377, 37378, 37379, 37380, 37381, 37382, 37383, 37384, 37385,\n",
       "       37386, 37387, 37388, 37389, 37390, 37391, 37392, 37393, 37394,\n",
       "       37395, 37396, 37397, 37398, 37399, 37400, 37401, 37402, 37403,\n",
       "       37404, 37405, 37406, 37407, 37408, 37409, 37410, 37411, 37412,\n",
       "       37413, 37414, 37415, 37416, 37417, 37418, 37419, 37420, 37421,\n",
       "       37422, 37423, 37424, 37425, 37426, 37427, 37428, 37429, 37430,\n",
       "       37431, 37432, 37433, 37434, 37435, 37436, 37437, 37438, 37439,\n",
       "       37440, 37441, 37442, 37443, 37444, 37445, 37446, 37447, 37448,\n",
       "       37449, 37450, 37451, 37452, 37453, 37454, 37455, 37456, 37457,\n",
       "       37458, 37459, 37460, 37461, 37462, 37463, 37464, 37465, 37466,\n",
       "       37467, 37468, 37469, 37470, 37471, 37472, 37473, 37474, 37475,\n",
       "       37476, 37477, 37478, 37479, 37480, 37481, 37482, 37483, 37484,\n",
       "       37485, 37486, 37487, 37488, 37489, 37490, 37491, 37492, 37493,\n",
       "       37494, 37495, 37496, 37497, 37498, 37499, 37500, 37501, 37502,\n",
       "       37503, 37504, 37505, 37506, 37507, 37508, 37509, 37510, 37511,\n",
       "       37512, 37513, 37514, 37515, 37516, 37517, 37518, 37519, 37520,\n",
       "       37521, 37522, 37523, 37524, 37525, 37526, 37527, 37528, 37529,\n",
       "       37530, 37531, 37532, 37533, 37534, 37535, 37536, 37537, 37538,\n",
       "       37539, 37540, 37541, 37542, 37543, 37544, 37545, 37546, 37547,\n",
       "       37548, 37549, 37550, 37551, 37552, 37553, 37554, 37555, 37556,\n",
       "       37557, 37558, 37559, 37560, 37561, 37562, 37563, 37564, 37565,\n",
       "       37566, 37567, 37568, 37569, 37570, 37571, 37572, 37573, 37574,\n",
       "       37575, 37576, 37577, 37578, 37579, 37580, 37581, 37582, 37583,\n",
       "       37584, 37585, 37586, 37587, 37588, 37589, 37590, 37591, 37592,\n",
       "       37593, 37594, 37595, 37596, 37597, 37598, 37599, 37600, 37601,\n",
       "       37602, 37603, 37604, 37605, 37606, 37607, 37608, 37609, 37610,\n",
       "       37611, 37612, 37613, 37614, 37615, 37616, 37617, 37618, 37619,\n",
       "       37620, 37621, 37622, 37623, 37624, 37625, 37626, 37627, 37628,\n",
       "       37629, 37630, 37631, 37632, 37633, 37634, 37635, 37636, 37637,\n",
       "       37638, 37639, 37640, 37641, 37642, 37643, 37644, 37645, 37646,\n",
       "       37647, 37648, 37649, 37650, 37651, 37652, 37653, 37654, 37655,\n",
       "       37656, 37657, 37658, 37659, 37660, 37661, 37662, 37663, 37664,\n",
       "       37665, 37666, 37667, 37668, 37669, 37670, 37671, 37672, 37673,\n",
       "       37674, 37675, 37676, 37677, 37678, 37679, 37680, 37681, 37682,\n",
       "       37683, 37684, 37685, 37686, 37687, 37688, 37689, 37690, 37691,\n",
       "       37692, 37693, 37694, 37695, 37696, 37697, 37698, 37699, 37700,\n",
       "       37701, 37702, 37703, 37704, 37705, 37706, 37707, 37708, 37709,\n",
       "       37710, 37711, 37712, 37713, 37714, 37715, 37716, 37717, 37718,\n",
       "       37719, 37720, 37721, 37722, 37723, 37724, 37725, 37726, 37727,\n",
       "       37728, 37729, 37730, 37731, 37732, 37733, 37734, 37735, 37736,\n",
       "       37737, 37738, 37739, 37740, 37741, 37742, 37743, 37744, 37745,\n",
       "       37746, 37747, 37748, 37749, 37750, 37751, 37752, 37753, 37754,\n",
       "       37755, 37756, 37757, 37758, 37759, 37760, 37761, 37762, 37763,\n",
       "       37764, 37765, 37766, 37767, 37768, 37769, 37770, 37771, 37772,\n",
       "       37773, 37774, 37775, 37776, 37777, 37778, 37779, 37780, 37781,\n",
       "       37782, 37783, 37784, 37785, 37786, 37787, 37788, 37789, 37790,\n",
       "       37791, 37792, 37793, 37794, 37795, 37796, 37797, 37798, 37799,\n",
       "       37800, 37801, 37802, 37803, 37804, 37805, 37806, 37807, 37808,\n",
       "       37809, 37810, 37811, 37812, 37813, 37814, 37815, 37816, 37817,\n",
       "       37818, 37819, 37820, 37821, 37822, 37823, 37824, 37825, 37826,\n",
       "       37827, 37828, 37829, 37830, 37831, 37832, 37833, 37834, 37835,\n",
       "       37836, 37837, 37838, 37839, 37840, 37841, 37842, 37843, 37844,\n",
       "       37845, 37846, 37847, 37848, 37849, 37850, 37851, 37852, 37853,\n",
       "       37854, 37855, 37856, 37857, 37858, 37859, 37860, 37861, 37862,\n",
       "       37863, 37864, 37865, 37866, 37867, 37868, 37869, 37870, 37871,\n",
       "       37872, 37873, 37874, 37875, 37876, 37877, 37878, 37879, 37880,\n",
       "       37881, 37882, 37883, 37884, 37885, 37886, 37887, 37888, 37889,\n",
       "       37890, 37891, 37892, 37893, 37894, 37895, 37896, 37897, 37898,\n",
       "       37899, 37900, 37901, 37902, 37903, 37904, 37905, 37906, 37907,\n",
       "       37908, 37909, 37910, 37911, 37912, 37913, 37914, 37915, 37916,\n",
       "       37917, 37918, 37919, 37920, 37921, 37922, 37923, 37924, 37925,\n",
       "       37926, 37927, 37928, 37929, 37930, 37931, 37932, 37933, 37934,\n",
       "       37935, 37936, 37937, 37938, 37939, 37940, 37941, 37942, 37943,\n",
       "       37944, 37945, 37946, 37947, 37948, 37949, 37950, 37951, 37952,\n",
       "       37953, 37954, 37955, 37956, 37957, 37958, 37959, 37960, 37961,\n",
       "       37962, 37963, 37964, 37965, 37966, 37967, 37968, 37969, 37970,\n",
       "       37971, 37972, 37973, 37974, 37975, 37976, 37977, 37978, 37979,\n",
       "       37980, 37981, 37982, 37983, 37984, 37985, 37986, 37987, 37988,\n",
       "       37989, 37990, 37991, 37992, 37993, 37994, 37995, 37996, 37997,\n",
       "       37998, 37999, 38000, 38001, 38002, 38003, 38004, 38005, 38006,\n",
       "       38007, 38008, 38009, 38010, 38011, 38012, 38013, 38014, 38015,\n",
       "       38016, 38017, 38018, 38019, 38020, 38021, 38022, 38023, 38024,\n",
       "       38025, 38026, 38027, 38028, 38029, 38030, 38031, 38032, 38033,\n",
       "       38034, 38035, 38036, 38037, 38038, 38039, 38040, 38041, 38042,\n",
       "       38043, 38044, 38045, 38046, 38047, 38048, 38049, 38050, 38051,\n",
       "       38052, 38053, 38054, 38055, 38056, 38057, 38058, 38059, 38060,\n",
       "       38061, 38062, 38063, 38064, 38065, 38066, 38067, 38068, 38069,\n",
       "       38070, 38071, 38072, 38073, 38074, 38075, 38076, 38077, 38078,\n",
       "       38079, 38080, 38081, 38082, 38083, 38084, 38085, 38086, 38087,\n",
       "       38088, 38089, 38090, 38091, 38092, 38093, 38094, 38095, 38096,\n",
       "       38097, 38098, 38099, 38100, 38101, 38102, 38103, 38104, 38105,\n",
       "       38106, 38107, 38108, 38109, 38110, 38111, 38112, 38113, 38114,\n",
       "       38115, 38116, 38117, 38118, 38119, 38120, 38121, 38122, 38123,\n",
       "       38124, 38125, 38126, 38127, 38128, 38129, 38130, 38131, 38132,\n",
       "       38133, 38134, 38135, 38136, 38137, 38138, 38139, 38140, 38141,\n",
       "       38142, 38143, 38144, 38145, 38146, 38147, 38148, 38149, 38150,\n",
       "       38151, 38152, 38153, 38154, 38155, 38156, 38157, 38158, 38159,\n",
       "       38160, 38161, 38162, 38163, 38164, 38165, 38166, 38167, 38168,\n",
       "       38169, 38170, 38171, 38172, 38173, 38174, 38175, 38176, 38177,\n",
       "       38178, 38179, 38180, 38181, 38182, 38183, 38184, 38185, 38186,\n",
       "       38187, 38188, 38189, 38190, 38191, 38192, 38193, 38194, 38195,\n",
       "       38196, 38197, 38198, 38199, 38200, 38201, 38202, 38203, 38204,\n",
       "       38205, 38206, 38207, 38208, 38209, 38210, 38211, 38212, 38213,\n",
       "       38214, 38215, 38216, 38217, 38218, 38219, 38220, 38221, 38222,\n",
       "       38223, 38224, 38225, 38226, 38227, 38228, 38229, 38230, 38231,\n",
       "       38232, 38233, 38234, 38235, 38236, 38237, 38238, 38239, 38240,\n",
       "       38241, 38242, 38243, 38244, 38245, 38246, 38247, 38248, 38249,\n",
       "       38250, 38251, 38252, 38253, 38254, 38255, 38256, 38257, 38258,\n",
       "       38259, 38260, 38261, 38262, 38263, 38264, 38265, 38266, 38267,\n",
       "       38268, 38269, 38270, 38271, 38272, 38273, 38274, 38275, 38276,\n",
       "       38277, 38278, 38279, 38280, 38281, 38282, 38283, 38284, 38285,\n",
       "       38286, 38287, 38288, 38289, 38290, 38291, 38292, 38293, 38294,\n",
       "       38295, 38296, 38297, 38298, 38299, 38300, 38301, 38302, 38303,\n",
       "       38304, 38305, 38306, 38307, 38308, 38309, 38310, 38311, 38312,\n",
       "       38313, 38314, 38315, 38316, 38317, 38318, 38319, 38320, 38321,\n",
       "       38322, 38323, 38324, 38325, 38326, 38327, 38328, 38329, 38330,\n",
       "       38331, 38332, 38333, 38334, 38335, 38336, 38337, 38338, 38339,\n",
       "       38340, 38341, 38342, 38343, 38344, 38345, 38346, 38347, 38348,\n",
       "       38349, 38350, 38351, 38352, 38353, 38354, 38355, 38356, 38357,\n",
       "       38358, 38359, 38360, 38361, 38362, 38363, 38364, 38365, 38366,\n",
       "       38367, 38368, 38369, 38370, 38371, 38372, 38373, 38374, 38375,\n",
       "       38376, 38377, 38378, 38379, 38380, 38381, 38382, 38383, 38384,\n",
       "       38385, 38386, 38387, 38388, 38389, 38390, 38391, 38392, 38393,\n",
       "       38394, 38395, 38396, 38397, 38398, 38399, 38400, 38401, 38402,\n",
       "       38403, 38404, 38405, 38406, 38407, 38408, 38409, 38410, 38411,\n",
       "       38412, 38413, 38414, 38415, 38416, 38417, 38418, 38419, 38420,\n",
       "       38421, 38422, 38423, 38424, 38425, 38426, 38427, 38428, 38429,\n",
       "       38430, 38431, 38432, 38433, 38434, 38435, 38436, 38437, 38438,\n",
       "       38439, 38440, 38441, 38442, 38443, 38444, 38445, 38446, 38447,\n",
       "       38448, 38449, 38450, 38451, 38452, 38453, 38454, 38455, 38456,\n",
       "       38457, 38458, 38459, 38460, 38461, 38462, 38463, 38464, 38465,\n",
       "       38466, 38467, 38468, 38469, 38470, 38471, 38472, 38473, 38474,\n",
       "       38475, 38476, 38477, 38478, 38479, 38480, 38481, 38482, 38483,\n",
       "       38484, 38485, 38486, 38487, 38488, 38489, 38490, 38491, 38492,\n",
       "       38493, 38494, 38495, 38496, 38497, 38498, 38499, 38500, 38501,\n",
       "       38502, 38503, 38504, 38505, 38506, 38507, 38508, 38509, 38510,\n",
       "       38511, 38512, 38513, 38514, 38515, 38516, 38517, 38518, 38519,\n",
       "       38520, 38521, 38522, 38523, 38524, 38525, 38526, 38527, 38528,\n",
       "       38529, 38530, 38531, 38532, 38533, 38534, 38535, 38536, 38537,\n",
       "       38538, 38539, 38540, 38541, 38542, 38543, 38544, 38545, 38546,\n",
       "       38547, 38548, 38549, 38550, 38551, 38552, 38553, 38554, 38555,\n",
       "       38556, 38557, 38558, 38559, 38560, 38561, 38562, 38563, 38564,\n",
       "       38565, 38566, 38567, 38568, 38569, 38570, 38571, 38572, 38573,\n",
       "       38574, 38575, 38576, 38577, 38578, 38579, 38580, 38581, 38582,\n",
       "       38583, 38584, 38585, 38586, 38587, 38588, 38589, 38590, 38591,\n",
       "       38592, 38593, 38594, 38595, 38596, 38597, 38598, 38599, 38600,\n",
       "       38601, 38602, 38603, 38604, 38605, 38606, 38607, 38608, 38609,\n",
       "       38610, 38611, 38612, 38613, 38614, 38615, 38616, 38617, 38618,\n",
       "       38619, 38620, 38621, 38622, 38623, 38624, 38625, 38626, 38627,\n",
       "       38628, 38629, 38630, 38631, 38632, 38633, 38634, 38635, 38636,\n",
       "       38637, 38638, 38639, 38640, 38641, 38642, 38643, 38644, 38645,\n",
       "       38646, 38647, 38648, 38649, 38650, 38651, 38652, 38653, 38654,\n",
       "       38655, 38656, 38657, 38658, 38659, 38660, 38661, 38662, 38663,\n",
       "       38664, 38665, 38666, 38667, 38668, 38669, 38670, 38671, 38672,\n",
       "       38673, 38674, 38675, 38676, 38677, 38678, 38679, 38680, 38681,\n",
       "       38682, 38683, 38684, 38685, 38686, 38687, 38688, 38689, 38690,\n",
       "       38691, 38692, 38693, 38694, 38695, 38696, 38697, 38698, 38699,\n",
       "       38700, 38701, 38702, 38703, 38704, 38705, 38706, 38707, 38708,\n",
       "       38709, 38710, 38711, 38712, 38713, 38714, 38715, 38716, 38717,\n",
       "       38718, 38719, 38720, 38721, 38722, 38723, 38724, 38725, 38726,\n",
       "       38727, 38728, 38729, 38730, 38731, 38732, 38733, 38734, 38735,\n",
       "       38736, 38737, 38738, 38739, 38740, 38741, 38742, 38743, 38744,\n",
       "       38745, 38746, 38747, 38748, 38749, 38750, 38751, 38752, 38753,\n",
       "       38754, 38755, 38756, 38757, 38758, 38759, 38760, 38761, 38762,\n",
       "       38763, 38764, 38765, 38766, 38767, 38768, 38769, 38770, 38771,\n",
       "       38772, 38773, 38774, 38775, 38776, 38777, 38778, 38779, 38780,\n",
       "       38781, 38782, 38783, 38784, 38785, 38786, 38787, 38788, 38789,\n",
       "       38790, 38791, 38792, 38793, 38794, 38795, 38796, 38797, 38798,\n",
       "       38799, 38800, 38801, 38802, 38803, 38804, 38805, 38806, 38807,\n",
       "       38808, 38809, 38810, 38811, 38812, 38813, 38814, 38815, 38816,\n",
       "       38817, 38818, 38819, 38820, 38821, 38822, 38823, 38824, 38825,\n",
       "       38826, 38827, 38828, 38829, 38830, 38831, 38832, 38833, 38834,\n",
       "       38835, 38836, 38837, 38838, 38839, 38840, 38841, 38842, 38843,\n",
       "       38844, 38845, 38846, 38847, 38848, 38849, 38850, 38851, 38852,\n",
       "       38853, 38854, 38855, 38856, 38857, 38858, 38859, 38860, 38861,\n",
       "       38862, 38863, 38864, 38865, 38866, 38867, 38868, 38869, 38870,\n",
       "       38871, 38872, 38873, 38874, 38875, 38876, 38877, 38878, 38879,\n",
       "       38880, 38881, 38882, 38883, 38884, 38885, 38886, 38887, 38888,\n",
       "       38889, 38890, 38891, 38892, 38893, 38894, 38895, 38896, 38897,\n",
       "       38898, 38899, 38900, 38901, 38902, 38903, 38904, 38905, 38906,\n",
       "       38907, 38908, 38909, 38910, 38911, 38912, 38913, 38914, 38915,\n",
       "       38916, 38917, 38918, 38919, 38920, 38921, 38922, 38923, 38924,\n",
       "       38925, 38926, 38927, 38928, 38929, 38930, 38931, 38932, 38933,\n",
       "       38934, 38935, 38936, 38937, 38938, 38939, 38940, 38941, 38942,\n",
       "       38943, 38944, 38945, 38946, 38947, 38948, 38949, 38950, 38951,\n",
       "       38952, 38953, 38954, 38955, 38956, 38957, 38958, 38959, 38960,\n",
       "       38961, 38962, 38963, 38964, 38965, 38966, 38967, 38968, 38969,\n",
       "       38970, 38971, 38972, 38973, 38974, 38975, 38976, 38977, 38978,\n",
       "       38979, 38980, 38981, 38982, 38983, 38984, 38985, 38986, 38987,\n",
       "       38988, 38989, 38990, 38991, 38992, 38993, 38994, 38995, 38996,\n",
       "       38997, 38998, 38999, 39000, 39001, 39002, 39003, 39004, 39005,\n",
       "       39006, 39007, 39008, 39009, 39010, 39011, 39012, 39013, 39014,\n",
       "       39015, 39016, 39017, 39018, 39019, 39020, 39021, 39022, 39023,\n",
       "       39024, 39025, 39026, 39027, 39028, 39029, 39030, 39031, 39032,\n",
       "       39033, 39034, 39035, 39036, 39037, 39038, 39039, 39040, 39041,\n",
       "       39042, 39043, 39044, 39045, 39046, 39047, 39048, 39049, 39050,\n",
       "       39051, 39052, 39053, 39054, 39055, 39056, 39057, 39058, 39059,\n",
       "       39060, 39061, 39062, 39063, 39064, 39065, 39066, 39067, 39068,\n",
       "       39069, 39070, 39071, 39072, 39073, 39074, 39075, 39076, 39077,\n",
       "       39078, 39079, 39080, 39081, 39082, 39083, 39084, 39085, 39086,\n",
       "       39087, 39088, 39089, 39090, 39091, 39092, 39093, 39094, 39095,\n",
       "       39096, 39097, 39098, 39099, 39100, 39101, 39102, 39103, 39104,\n",
       "       39105, 39106, 39107, 39108, 39109, 39110, 39111, 39112, 39113,\n",
       "       39114, 39115, 39116, 39117, 39118, 39119, 39120, 39121, 39122,\n",
       "       39123, 39124, 39125, 39126, 39127, 39128, 39129, 39130, 39131,\n",
       "       39132, 39133, 39134, 39135, 39136, 39137, 39138, 39139, 39140,\n",
       "       39141, 39142, 39143, 39144, 39145, 39146, 39147, 39148, 39149,\n",
       "       39150, 39151, 39152, 39153, 39154, 39155, 39156, 39157, 39158,\n",
       "       39159, 39160, 39161, 39162, 39163, 39164, 39165, 39166, 39167,\n",
       "       39168, 39169, 39170, 39171, 39172, 39173, 39174, 39175, 39176,\n",
       "       39177, 39178, 39179, 39180, 39181, 39182, 39183, 39184, 39185,\n",
       "       39186, 39187, 39188, 39189, 39190, 39191, 39192, 39193, 39194,\n",
       "       39195, 39196, 39197, 39198, 39199, 39200, 39201, 39202, 39203,\n",
       "       39204, 39205, 39206, 39207, 39208, 39209, 39210, 39211, 39212,\n",
       "       39213, 39214, 39215, 39216, 39217, 39218, 39219, 39220, 39221,\n",
       "       39222, 39223, 39224, 39225, 39226, 39227, 39228, 39229, 39230,\n",
       "       39231, 39232, 39233, 39234, 39235, 39236, 39237, 39238, 39239,\n",
       "       39240, 39241, 39242, 39243, 39244, 39245, 39246, 39247, 39248,\n",
       "       39249, 39250, 39251, 39252, 39253, 39254, 39255, 39256, 39257,\n",
       "       39258, 39259, 39260, 39261, 39262, 39263, 39264, 39265, 39266,\n",
       "       39267, 39268, 39269, 39270, 39271, 39272, 39273, 39274, 39275,\n",
       "       39276, 39277, 39278, 39279, 39280, 39281, 39282, 39283, 39284,\n",
       "       39285, 39286, 39287, 39288, 39289, 39290, 39291, 39292, 39293,\n",
       "       39294, 39295, 39296, 39297, 39298, 39299, 39300, 39301, 39302,\n",
       "       39303, 39304, 39305, 39306, 39307, 39308, 39309, 39310, 39311,\n",
       "       39312, 39313, 39314, 39315, 39316, 39317, 39318, 39319, 39320,\n",
       "       39321, 39322, 39323, 39324, 39325, 39326, 39327, 39328, 39329,\n",
       "       39330, 39331, 39332, 39333, 39334, 39335, 39336, 39337, 39338,\n",
       "       39339, 39340, 39341, 39342, 39343, 39344, 39345, 39346, 39347,\n",
       "       39348, 39349, 39350, 39351, 39352, 39353, 39354, 39355, 39356,\n",
       "       39357, 39358, 39359, 39360, 39361, 39362, 39363, 39364, 39365,\n",
       "       39366, 39367, 39368, 39369, 39370, 39371, 39372, 39373, 39374,\n",
       "       39375, 39376, 39377, 39378, 39379, 39380, 39381, 39382, 39383,\n",
       "       39384, 39385, 39386, 39387, 39388, 39389, 39390, 39391, 39392,\n",
       "       39393, 39394, 39395, 39396, 39397, 39398, 39399, 39400, 39401,\n",
       "       39402, 39403, 39404, 39405, 39406, 39407, 39408, 39409, 39410,\n",
       "       39411, 39412, 39413, 39414, 39415, 39416, 39417, 39418, 39419,\n",
       "       39420, 39421, 39422, 39423, 39424, 39425, 39426, 39427, 39428,\n",
       "       39429, 39430, 39431, 39432, 39433, 39434, 39435, 39436, 39437,\n",
       "       39438, 39439, 39440, 39441, 39442, 39443, 39444, 39445, 39446,\n",
       "       39447, 39448, 39449, 39450, 39451, 39452, 39453, 39454, 39455,\n",
       "       39456, 39457, 39458, 39459, 39460, 39461, 39462, 39463, 39464,\n",
       "       39465, 39466, 39467, 39468, 39469, 39470, 39471, 39472, 39473,\n",
       "       39474, 39475, 39476, 39477, 39478, 39479, 39480, 39481, 39482,\n",
       "       39483, 39484, 39485, 39486, 39487, 39488, 39489, 39490, 39491,\n",
       "       39492, 39493, 39494, 39495, 39496, 39497, 39498, 39499, 39500,\n",
       "       39501, 39502, 39503, 39504, 39505, 39506, 39507, 39508, 39509,\n",
       "       39510, 39511, 39512, 39513, 39514, 39515, 39516, 39517, 39518,\n",
       "       39519, 39520, 39521, 39522, 39523, 39524, 39525, 39526, 39527,\n",
       "       39528, 39529, 39530, 39531, 39532, 39533, 39534, 39535, 39536,\n",
       "       39537, 39538, 39539, 39540, 39541, 39542, 39543, 39544, 39545,\n",
       "       39546, 39547, 39548, 39549, 39550, 39551, 39552, 39553, 39554,\n",
       "       39555, 39556, 39557, 39558, 39559, 39560, 39561, 39562, 39563,\n",
       "       39564, 39565, 39566, 39567, 39568, 39569, 39570, 39571, 39572,\n",
       "       39573, 39574, 39575, 39576, 39577, 39578, 39579, 39580, 39581,\n",
       "       39582, 39583, 39584, 39585, 39586, 39587, 39588, 39589, 39590,\n",
       "       39591, 39592, 39593, 39594, 39595, 39596, 39597, 39598, 39599,\n",
       "       39600, 39601, 39602, 39603, 39604, 39605, 39606, 39607, 39608,\n",
       "       39609, 39610, 39611, 39612, 39613, 39614, 39615, 39616, 39617,\n",
       "       39618, 39619, 39620, 39621, 39622, 39623, 39624, 39625, 39626,\n",
       "       39627, 39628, 39629, 39630, 39631, 39632, 39633, 39634, 39635,\n",
       "       39636, 39637, 39638, 39639, 39640, 39641, 39642, 39643, 39644,\n",
       "       39645, 39646, 39647, 39648, 39649, 39650, 39651, 39652, 39653,\n",
       "       39654, 39655, 39656, 39657, 39658, 39659, 39660, 39661, 39662,\n",
       "       39663, 39664, 39665, 39666, 39667, 39668, 39669, 39670, 39671,\n",
       "       39672, 39673, 39674, 39675, 39676, 39677, 39678, 39679, 39680,\n",
       "       39681, 39682, 39683, 39684, 39685, 39686, 39687, 39688, 39689,\n",
       "       39690, 39691, 39692, 39693, 39694, 39695, 39696, 39697, 39698,\n",
       "       39699, 39700, 39701, 39702, 39703, 39704, 39705, 39706, 39707,\n",
       "       39708, 39709, 39710, 39711, 39712, 39713, 39714, 39715, 39716,\n",
       "       39717, 39718, 39719, 39720, 39721, 39722, 39723, 39724, 39725,\n",
       "       39726, 39727, 39728, 39729, 39730, 39731, 39732, 39733, 39734,\n",
       "       39735, 39736, 39737, 39738, 39739, 39740, 39741, 39742, 39743,\n",
       "       39744, 39745, 39746, 39747, 39748, 39749, 39750, 39751, 39752,\n",
       "       39753, 39754, 39755, 39756, 39757, 39758, 39759, 39760, 39761,\n",
       "       39762, 39763, 39764, 39765, 39766, 39767, 39768, 39769, 39770,\n",
       "       39771, 39772, 39773, 39774, 39775, 39776, 39777, 39778, 39779,\n",
       "       39780, 39781, 39782, 39783, 39784, 39785, 39786, 39787, 39788,\n",
       "       39789, 39790, 39791, 39792, 39793, 39794, 39795, 39796, 39797,\n",
       "       39798, 39799, 39800, 39801, 39802, 39803, 39804, 39805, 39806,\n",
       "       39807, 39808, 39809, 39810, 39811, 39812, 39813, 39814, 39815,\n",
       "       39816, 39817, 39818, 39819, 39820, 39821, 39822, 39823, 39824,\n",
       "       39825, 39826, 39827, 39828, 39829, 39830, 39831, 39832, 39833,\n",
       "       39834, 39835, 39836, 39837, 39838, 39839, 39840, 39841, 39842,\n",
       "       39843, 39844, 39845, 39846, 39847, 39848, 39849, 39850, 39851,\n",
       "       39852, 39853, 39854, 39855, 39856, 39857, 39858, 39859, 39860,\n",
       "       39861, 39862, 39863, 39864, 39865, 39866, 39867, 39868, 39869,\n",
       "       39870, 39871, 39872, 39873, 39874, 39875, 39876, 39877, 39878,\n",
       "       39879, 39880, 39881, 39882, 39883, 39884, 39885, 39886, 39887,\n",
       "       39888, 39889, 39890, 39891, 39892, 39893, 39894, 39895, 39896,\n",
       "       39897, 39898, 39899, 39900, 39901, 39902, 39903, 39904, 39905,\n",
       "       39906, 39907, 39908, 39909, 39910, 39911, 39912, 39913, 39914,\n",
       "       39915, 39916, 39917, 39918, 39919, 39920, 39921, 39922, 39923,\n",
       "       39924, 39925, 39926, 39927, 39928, 39929, 39930, 39931, 39932,\n",
       "       39933, 39934, 39935, 39936, 39937, 39938, 39939, 39940, 39941,\n",
       "       39942, 39943, 39944, 39945, 39946, 39947, 39948, 39949, 39950,\n",
       "       39951, 39952, 39953, 39954, 39955, 39956, 39957, 39958, 39959,\n",
       "       39960, 39961, 39962, 39963, 39964, 39965, 39966, 39967, 39968,\n",
       "       39969, 39970, 39971, 39972, 39973, 39974, 39975, 39976, 39977,\n",
       "       39978, 39979, 39980, 39981, 39982, 39983, 39984, 39985, 39986,\n",
       "       39987, 39988, 39989, 39990, 39991, 39992, 39993, 39994, 39995,\n",
       "       39996, 39997, 39998, 39999, 40000, 40001, 40002, 40003, 40004,\n",
       "       40005, 40006, 40007, 40008, 40009, 40010, 40011, 40012, 40013,\n",
       "       40014, 40015, 40016, 40017, 40018, 40019, 40020, 40021, 40022,\n",
       "       40023, 40024, 40025, 40026, 40027, 40028, 40029, 40030, 40031,\n",
       "       40032, 40033, 40034, 40035, 40036, 40037, 40038, 40039, 40040,\n",
       "       40041, 40042, 40043, 40044, 40045, 40046, 40047, 40048, 40049,\n",
       "       40050, 40051, 40052, 40053, 40054, 40055, 40056, 40057, 40058,\n",
       "       40059, 40060, 40061, 40062, 40063, 40064, 40065, 40066, 40067,\n",
       "       40068, 40069, 40070, 40071, 40072, 40073, 40074, 40075, 40076,\n",
       "       40077, 40078, 40079, 40080, 40081, 40082, 40083, 40084, 40085,\n",
       "       40086, 40087, 40088, 40089, 40090, 40091, 40092, 40093, 40094,\n",
       "       40095, 40096, 40097, 40098, 40099, 40100, 40101, 40102, 40103,\n",
       "       40104, 40105, 40106, 40107, 40108, 40109, 40110, 40111, 40112,\n",
       "       40113, 40114, 40115, 40116, 40117, 40118, 40119, 40120, 40121,\n",
       "       40122, 40123, 40124, 40125, 40126, 40127, 40128, 40129, 40130,\n",
       "       40131, 40132, 40133, 40134, 40135, 40136, 40137, 40138, 40139,\n",
       "       40140, 40141, 40142, 40143, 40144, 40145, 40146, 40147, 40148,\n",
       "       40149, 40150, 40151, 40152, 40153, 40154, 40155, 40156, 40157,\n",
       "       40158, 40159, 40160, 40161, 40162, 40163, 40164, 40165, 40166,\n",
       "       40167, 40168, 40169, 40170, 40171, 40172, 40173, 40174, 40175,\n",
       "       40176, 40177, 40178, 40179, 40180, 40181, 40182, 40183, 40184,\n",
       "       40185, 40186, 40187, 40188, 40189, 40190, 40191, 40192, 40193,\n",
       "       40194, 40195, 40196, 40197, 40198, 40199, 40200, 40201, 40202,\n",
       "       40203, 40204, 40205, 40206, 40207, 40208, 40209, 40210, 40211,\n",
       "       40212, 40213, 40214, 40215, 40216, 40217, 40218, 40219, 40220,\n",
       "       40221, 40222, 40223, 40224, 40225, 40226, 40227, 40228, 40229,\n",
       "       40230, 40231, 40232, 40233, 40234, 40235, 40236, 40237, 40238,\n",
       "       40239, 40240, 40241, 40242, 40243, 40244, 40245, 40246, 40247,\n",
       "       40248, 40249, 40250, 40251, 40252, 40253, 40254, 40255, 40256,\n",
       "       40257, 40258, 40259, 40260, 40261, 40262, 40263, 40264, 40265,\n",
       "       40266, 40267, 40268, 40269, 40270, 40271, 40272, 40273, 40274,\n",
       "       40275, 40276, 40277, 40278, 40279, 40280, 40281, 40282, 40283,\n",
       "       40284, 40285, 40286, 40287, 40288, 40289, 40290, 40291, 40292,\n",
       "       40293, 40294, 40295, 40296, 40297, 40298, 40299, 40300, 40301,\n",
       "       40302, 40303, 40304, 40305, 40306, 40307, 40308, 40309, 40310,\n",
       "       40311, 40312, 40313, 40314, 40315, 40316, 40317, 40318, 40319,\n",
       "       40320, 40321, 40322, 40323, 40324, 40325, 40326, 40327, 40328,\n",
       "       40329, 40330, 40331, 40332, 40333, 40334, 40335, 40336, 40337,\n",
       "       40338, 40339, 40340, 40341, 40342, 40343, 40344, 40345, 40346,\n",
       "       40347, 40348, 40349, 40350, 40351, 40352, 40353, 40354, 40355,\n",
       "       40356, 40357, 40358, 40359, 40360, 40361, 40362, 40363, 40364,\n",
       "       40365, 40366, 40367, 40368, 40369, 40370, 40371, 40372, 40373,\n",
       "       40374, 40375, 40376, 40377, 40378, 40379, 40380, 40381, 40382,\n",
       "       40383, 40384, 40385, 40386, 40387, 40388, 40389, 40390, 40391,\n",
       "       40392, 40393, 40394, 40395, 40396, 40397, 40398, 40399, 40400,\n",
       "       40401, 40402, 40403, 40404, 40405, 40406, 40407, 40408, 40409,\n",
       "       40410, 40411, 40412, 40413, 40414, 40415, 40416, 40417, 40418,\n",
       "       40419, 40420, 40421, 40422, 40423, 40424, 40425, 40426, 40427,\n",
       "       40428, 40429, 40430, 40431, 40432, 40433, 40434, 40435, 40436,\n",
       "       40437, 40438, 40439, 40440, 40441, 40442, 40443, 40444, 40445,\n",
       "       40446, 40447, 40448, 40449, 40450, 40451, 40452, 40453, 40454,\n",
       "       40455, 40456, 40457, 40458, 40459, 40460, 40461, 40462, 40463,\n",
       "       40464, 40465, 40466, 40467, 40468, 40469, 40470, 40471, 40472,\n",
       "       40473, 40474, 40475, 40476, 40477, 40478, 40479, 40480, 40481,\n",
       "       40482, 40483, 40484, 40485, 40486, 40487, 40488, 40489, 40490,\n",
       "       40491, 40492, 40493, 40494, 40495, 40496, 40497, 40498, 40499,\n",
       "       40500, 40501, 40502, 40503, 40504, 40505, 40506, 40507, 40508,\n",
       "       40509, 40510, 40511, 40512, 40513, 40514, 40515, 40516, 40517,\n",
       "       40518, 40519, 40520, 40521, 40522, 40523, 40524, 40525, 40526,\n",
       "       40527, 40528, 40529, 40530, 40531, 40532, 40533, 40534, 40535,\n",
       "       40536, 40537, 40538, 40539, 40540, 40541, 40542, 40543, 40544,\n",
       "       40545, 40546, 40547, 40548, 40549, 40550, 40551, 40552, 40553,\n",
       "       40554, 40555, 40556, 40557, 40558, 40559, 40560, 40561, 40562,\n",
       "       40563, 40564, 40565, 40566, 40567, 40568, 40569, 40570, 40571,\n",
       "       40572, 40573, 40574, 40575, 40576, 40577, 40578, 40579, 40580,\n",
       "       40581, 40582, 40583, 40584, 40585, 40586, 40587, 40588, 40589,\n",
       "       40590, 40591, 40592, 40593, 40594, 40595, 40596, 40597, 40598,\n",
       "       40599, 40600, 40601, 40602, 40603, 40604, 40605, 40606, 40607,\n",
       "       40608, 40609, 40610, 40611, 40612, 40613, 40614, 40615, 40616,\n",
       "       40617, 40618, 40619, 40620, 40621, 40622, 40623, 40624, 40625,\n",
       "       40626, 40627, 40628, 40629, 40630, 40631, 40632, 40633, 40634,\n",
       "       40635, 40636, 40637, 40638, 40639, 40640, 40641, 40642, 40643,\n",
       "       40644, 40645, 40646, 40647, 40648, 40649, 40650, 40651, 40652,\n",
       "       40653, 40654, 40655, 40656, 40657, 40658, 40659, 40660, 40661,\n",
       "       40662, 40663, 40664, 40665, 40666, 40667, 40668, 40669, 40670,\n",
       "       40671, 40672, 40673, 40674, 40675, 40676, 40677, 40678, 40679,\n",
       "       40680, 40681, 40682, 40683, 40684, 40685, 40686, 40687, 40688,\n",
       "       40689, 40690, 40691, 40692, 40693, 40694, 40695, 40696, 40697,\n",
       "       40698, 40699, 40700, 40701, 40702, 40703, 40704, 40705, 40706,\n",
       "       40707, 40708, 40709, 40710, 40711, 40712, 40713, 40714, 40715,\n",
       "       40716, 40717, 40718, 40719, 40720, 40721, 40722, 40723, 40724,\n",
       "       40725, 40726, 40727, 40728, 40729, 40730, 40731, 40732, 40733,\n",
       "       40734, 40735, 40736, 40737, 40738, 40739, 40740, 40741, 40742,\n",
       "       40743, 40744, 40745, 40746, 40747, 40748, 40749, 40750, 40751,\n",
       "       40752, 40753, 40754, 40755, 40756, 40757, 40758, 40759, 40760,\n",
       "       40761, 40762, 40763, 40764, 40765, 40766, 40767, 40768, 40769,\n",
       "       40770, 40771, 40772, 40773, 40774, 40775, 40776, 40777, 40778,\n",
       "       40779, 40780, 40781, 40782, 40783, 40784, 40785, 40786, 40787,\n",
       "       40788, 40789, 40790, 40791, 40792, 40793, 40794, 40795, 40796,\n",
       "       40797, 40798, 40799, 40800, 40801, 40802, 40803, 40804, 40805,\n",
       "       40806, 40807, 40808, 40809, 40810, 40811, 40812, 40813, 40814,\n",
       "       40815, 40816, 40817, 40818, 40819, 40820, 40821, 40822, 40823,\n",
       "       40824, 40825, 40826, 40827, 40828, 40829, 40830, 40831, 40832,\n",
       "       40833, 40834, 40835, 40836, 40837, 40838, 40839, 40840, 40841,\n",
       "       40842, 40843, 40844, 40845, 40846, 40847, 40848, 40849, 40850,\n",
       "       40851, 40852, 40853, 40854, 40855, 40856, 40857, 40858, 40859,\n",
       "       40860, 40861, 40862, 40863, 40864, 40865, 40866, 40867, 40868,\n",
       "       40869, 40870, 40871, 40872, 40873, 40874, 40875, 40876, 40877,\n",
       "       40878, 40879, 40880, 40881, 40882, 40883, 40884, 40885, 40886,\n",
       "       40887, 40888, 40889, 40890, 40891, 40892, 40893, 40894, 40895,\n",
       "       40896, 40897, 40898, 40899, 40900, 40901, 40902, 40903, 40904,\n",
       "       40905, 40906, 40907, 40908, 40909, 40910, 40911, 40912, 40913,\n",
       "       40914, 40915, 40916, 40917, 40918, 40919, 40920, 40921, 40922,\n",
       "       40923, 40924, 40925, 40926, 40927, 40928, 40929, 40930, 40931,\n",
       "       40932, 40933, 40934, 40935, 40936, 40937, 40938, 40939, 40940,\n",
       "       40941, 40942, 40943, 40944, 40945, 40946, 40947, 40948, 40949,\n",
       "       40950, 40951, 40952, 40953, 40954, 40955, 40956, 40957, 40958,\n",
       "       40959, 40960, 40961, 40962, 40963, 40964, 40965, 40966, 40967,\n",
       "       40968, 40969, 40970, 40971, 40972, 40973, 40974, 40975, 40976,\n",
       "       40977, 40978, 40979, 40980, 40981, 40982, 40983, 40984, 40985,\n",
       "       40986, 40987, 40988, 40989, 40990, 40991, 40992, 40993, 40994,\n",
       "       40995, 40996, 40997, 40998, 40999, 41000, 41001, 41002, 41003,\n",
       "       41004, 41005, 41006, 41007, 41008, 41009, 41010, 41011, 41012,\n",
       "       41013, 41014, 41015, 41016, 41017, 41018, 41019, 41020, 41021,\n",
       "       41022, 41023, 41024, 41025, 41026, 41027, 41028, 41029, 41030,\n",
       "       41031, 41032, 41033, 41034, 41035, 41036, 41037, 41038, 41039,\n",
       "       41040, 41041, 41042, 41043, 41044, 41045, 41046, 41047, 41048,\n",
       "       41049, 41050, 41051, 41052, 41053, 41054, 41055, 41056, 41057,\n",
       "       41058, 41059, 41060, 41061, 41062, 41063, 41064, 41065, 41066,\n",
       "       41067, 41068, 41069, 41070, 41071, 41072, 41073, 41074, 41075,\n",
       "       41076, 41077, 41078, 41079, 41080, 41081, 41082, 41083, 41084,\n",
       "       41085, 41086, 41087, 41088, 41089, 41090, 41091, 41092, 41093,\n",
       "       41094, 41095, 41096, 41097, 41098, 41099, 41100, 41101, 41102,\n",
       "       41103, 41104, 41105, 41106, 41107, 41108, 41109, 41110, 41111,\n",
       "       41112, 41113, 41114, 41115, 41116, 41117, 41118, 41119, 41120,\n",
       "       41121, 41122, 41123, 41124, 41125, 41126, 41127, 41128, 41129,\n",
       "       41130, 41131, 41132, 41133, 41134, 41135, 41136, 41137, 41138,\n",
       "       41139, 41140, 41141, 41142, 41143, 41144, 41145, 41146, 41147,\n",
       "       41148, 41149, 41150, 41151, 41152, 41153, 41154, 41155, 41156,\n",
       "       41157, 41158, 41159, 41160, 41161, 41162, 41163, 41164, 41165,\n",
       "       41166, 41167, 41168, 41169, 41170, 41171, 41172, 41173, 41174,\n",
       "       41175, 41176, 41177, 41178, 41179, 41180, 41181, 41182, 41183,\n",
       "       41184, 41185, 41186, 41187, 41188, 41189, 41190, 41191, 41192,\n",
       "       41193, 41194, 41195, 41196, 41197, 41198, 41199, 41200, 41201,\n",
       "       41202, 41203, 41204, 41205, 41206, 41207, 41208, 41209, 41210,\n",
       "       41211, 41212, 41213, 41214, 41215, 41216, 41217, 41218, 41219,\n",
       "       41220, 41221, 41222, 41223, 41224, 41225, 41226, 41227, 41228,\n",
       "       41229, 41230, 41231, 41232, 41233, 41234, 41235, 41236, 41237,\n",
       "       41238, 41239, 41240, 41241, 41242, 41243, 41244, 41245, 41246,\n",
       "       41247, 41248, 41249, 41250, 41251, 41252, 41253, 41254, 41255,\n",
       "       41256, 41257, 41258, 41259, 41260, 41261, 41262, 41263, 41264,\n",
       "       41265, 41266, 41267, 41268, 41269, 41270, 41271, 41272, 41273,\n",
       "       41274, 41275, 41276, 41277, 41278, 41279, 41280, 41281, 41282,\n",
       "       41283, 41284, 41285, 41286, 41287, 41288, 41289, 41290, 41291,\n",
       "       41292, 41293, 41294, 41295, 41296, 41297, 41298, 41299, 41300,\n",
       "       41301, 41302, 41303, 41304, 41305, 41306, 41307, 41308, 41309,\n",
       "       41310, 41311, 41312, 41313, 41314, 41315, 41316, 41317, 41318,\n",
       "       41319, 41320, 41321, 41322, 41323, 41324, 41325, 41326, 41327,\n",
       "       41328, 41329, 41330, 41331, 41332, 41333, 41334, 41335, 41336,\n",
       "       41337, 41338, 41339, 41340, 41341, 41342, 41343, 41344, 41345,\n",
       "       41346, 41347, 41348, 41349, 41350, 41351, 41352, 41353, 41354,\n",
       "       41355, 41356, 41357, 41358, 41359, 41360, 41361, 41362, 41363,\n",
       "       41364, 41365, 41366, 41367, 41368, 41369, 41370, 41371, 41372,\n",
       "       41373, 41374, 41375, 41376, 41377, 41378, 41379, 41380, 41381,\n",
       "       41382, 41383, 41384, 41385, 41386, 41387, 41388, 41389, 41390,\n",
       "       41391, 41392, 41393, 41394, 41395, 41396, 41397, 41398, 41399,\n",
       "       41400, 41401, 41402, 41403, 41404, 41405, 41406, 41407, 41408,\n",
       "       41409, 41410, 41411, 41412, 41413, 41414, 41415, 41416, 41417,\n",
       "       41418, 41419, 41420, 41421, 41422, 41423, 41424, 41425, 41426,\n",
       "       41427, 41428, 41429, 41430, 41431, 41432, 41433, 41434, 41435,\n",
       "       41436, 41437, 41438, 41439, 41440, 41441, 41442, 41443, 41444,\n",
       "       41445, 41446, 41447, 41448, 41449, 41450, 41451, 41452, 41453,\n",
       "       41454, 41455, 41456, 41457, 41458, 41459, 41460, 41461, 41462,\n",
       "       41463, 41464, 41465, 41466, 41467, 41468, 41469, 41470, 41471,\n",
       "       41472, 41473, 41474, 41475, 41476, 41477, 41478, 41479, 41480,\n",
       "       41481, 41482, 41483, 41484, 41485, 41486, 41487, 41488, 41489,\n",
       "       41490, 41491, 41492, 41493, 41494, 41495, 41496, 41497, 41498,\n",
       "       41499, 41500, 41501, 41502, 41503, 41504, 41505, 41506, 41507,\n",
       "       41508, 41509, 41510, 41511, 41512, 41513, 41514, 41515, 41516,\n",
       "       41517, 41518, 41519, 41520, 41521, 41522, 41523, 41524, 41525,\n",
       "       41526, 41527, 41528, 41529, 41530, 41531, 41532, 41533, 41534,\n",
       "       41535, 41536, 41537, 41538, 41539, 41540, 41541, 41542, 41543,\n",
       "       41544, 41545, 41546, 41547, 41548, 41549, 41550, 41551, 41552,\n",
       "       41553, 41554, 41555, 41556, 41557, 41558, 41559, 41560, 41561,\n",
       "       41562, 41563, 41564, 41565, 41566, 41567, 41568, 41569, 41570,\n",
       "       41571, 41572, 41573, 41574, 41575, 41576, 41577, 41578, 41579,\n",
       "       41580, 41581, 41582, 41583, 41584, 41585, 41586, 41587, 41588,\n",
       "       41589, 41590, 41591, 41592, 41593, 41594, 41595, 41596, 41597,\n",
       "       41598, 41599, 41600, 41601, 41602, 41603, 41604, 41605, 41606,\n",
       "       41607, 41608, 41609, 41610, 41611, 41612, 41613, 41614, 41615,\n",
       "       41616, 41617, 41618, 41619, 41620, 41621, 41622, 41623, 41624,\n",
       "       41625, 41626, 41627, 41628, 41629, 41630, 41631, 41632, 41633,\n",
       "       41634, 41635, 41636, 41637, 41638, 41639, 41640, 41641, 41642,\n",
       "       41643, 41644, 41645, 41646, 41647, 41648, 41649, 41650, 41651,\n",
       "       41652, 41653, 41654, 41655, 41656, 41657, 41658, 41659, 41660,\n",
       "       41661, 41662, 41663, 41664, 41665, 41666, 41667, 41668, 41669,\n",
       "       41670, 41671, 41672, 41673, 41674, 41675, 41676, 41677, 41678,\n",
       "       41679, 41680, 41681, 41682, 41683, 41684, 41685, 41686, 41687,\n",
       "       41688, 41689, 41690, 41691, 41692, 41693, 41694, 41695, 41696,\n",
       "       41697, 41698, 41699, 41700, 41701, 41702, 41703, 41704, 41705,\n",
       "       41706, 41707, 41708, 41709, 41710, 41711, 41712, 41713, 41714,\n",
       "       41715, 41716, 41717, 41718, 41719, 41720, 41721, 41722, 41723,\n",
       "       41724, 41725, 41726, 41727, 41728, 41729, 41730, 41731, 41732,\n",
       "       41733, 41734, 41735, 41736, 41737, 41738, 41739, 41740, 41741,\n",
       "       41742, 41743, 41744, 41745, 41746, 41747, 41748, 41749, 41750,\n",
       "       41751, 41752, 41753, 41754, 41755, 41756, 41757, 41758, 41759,\n",
       "       41760, 41761, 41762, 41763, 41764, 41765, 41766, 41767, 41768,\n",
       "       41769, 41770, 41771, 41772, 41773, 41774, 41775, 41776, 41777,\n",
       "       41778, 41779, 41780, 41781, 41782, 41783, 41784, 41785, 41786,\n",
       "       41787, 41788, 41789, 41790, 41791, 41792, 41793, 41794, 41795,\n",
       "       41796, 41797, 41798, 41799, 41800, 41801, 41802, 41803, 41804,\n",
       "       41805, 41806, 41807, 41808, 41809, 41810, 41811, 41812, 41813,\n",
       "       41814, 41815, 41816, 41817, 41818, 41819, 41820, 41821, 41822,\n",
       "       41823, 41824, 41825, 41826, 41827, 41828, 41829, 41830, 41831,\n",
       "       41832, 41833, 41834, 41835, 41836, 41837, 41838, 41839, 41840,\n",
       "       41841, 41842, 41843, 41844, 41845, 41846, 41847, 41848, 41849,\n",
       "       41850, 41851, 41852, 41853, 41854, 41855, 41856, 41857, 41858,\n",
       "       41859, 41860, 41861, 41862, 41863, 41864, 41865, 41866, 41867,\n",
       "       41868, 41869, 41870, 41871, 41872, 41873, 41874, 41875, 41876,\n",
       "       41877, 41878, 41879, 41880, 41881, 41882, 41883, 41884, 41885,\n",
       "       41886, 41887, 41888, 41889, 41890, 41891, 41892, 41893, 41894,\n",
       "       41895, 41896, 41897, 41898, 41899, 41900, 41901, 41902, 41903,\n",
       "       41904, 41905, 41906, 41907, 41908, 41909, 41910, 41911, 41912,\n",
       "       41913, 41914, 41915, 41916, 41917, 41918, 41919, 41920, 41921,\n",
       "       41922, 41923, 41924, 41925, 41926, 41927, 41928, 41929, 41930,\n",
       "       41931, 41932, 41933, 41934, 41935, 41936, 41937, 41938, 41939,\n",
       "       41940, 41941, 41942, 41943, 41944, 41945, 41946, 41947, 41948,\n",
       "       41949, 41950, 41951, 41952, 41953, 41954, 41955, 41956, 41957,\n",
       "       41958, 41959, 41960, 41961, 41962, 41963, 41964, 41965, 41966,\n",
       "       41967, 41968, 41969, 41970, 41971, 41972, 41973, 41974, 41975,\n",
       "       41976, 41977, 41978, 41979, 41980, 41981, 41982, 41983, 41984,\n",
       "       41985, 41986, 41987, 41988, 41989, 41990, 41991, 41992, 41993,\n",
       "       41994, 41995, 41996, 41997, 41998, 41999, 42000, 42001, 42002,\n",
       "       42003, 42004, 42005, 42006, 42007, 42008, 42009, 42010, 42011,\n",
       "       42012, 42013, 42014, 42015, 42016, 42017, 42018, 42019, 42020,\n",
       "       42021, 42022, 42023, 42024, 42025, 42026, 42027, 42028, 42029,\n",
       "       42030, 42031, 42032, 42033, 42034, 42035, 42036, 42037, 42038,\n",
       "       42039, 42040, 42041, 42042, 42043, 42044, 42045, 42046, 42047,\n",
       "       42048, 42049, 42050, 42051, 42052, 42053, 42054, 42055, 42056,\n",
       "       42057, 42058, 42059, 42060, 42061, 42062, 42063, 42064, 42065,\n",
       "       42066, 42067, 42068, 42069, 42070, 42071, 42072, 42073, 42074,\n",
       "       42075, 42076, 42077, 42078, 42079, 42080, 42081, 42082, 42083,\n",
       "       42084, 42085, 42086, 42087, 42088, 42089, 42090, 42091, 42092,\n",
       "       42093, 42094, 42095, 42096, 42097, 42098, 42099, 42100, 42101,\n",
       "       42102, 42103, 42104, 42105, 42106, 42107, 42108, 42109, 42110,\n",
       "       42111, 42112, 42113, 42114, 42115, 42116, 42117, 42118, 42119,\n",
       "       42120, 42121, 42122, 42123, 42124, 42125, 42126, 42127, 42128,\n",
       "       42129, 42130, 42131, 42132, 42133, 42134, 42135, 42136, 42137,\n",
       "       42138, 42139, 42140, 42141, 42142, 42143, 42144, 42145, 42146,\n",
       "       42147, 42148, 42149, 42150, 42151, 42152, 42153, 42154, 42155,\n",
       "       42156, 42157, 42158, 42159, 42160, 42161, 42162, 42163, 42164,\n",
       "       42165, 42166, 42167, 42168, 42169, 42170, 42171, 42172, 42173,\n",
       "       42174, 42175, 42176, 42177, 42178, 42179, 42180, 42181, 42182,\n",
       "       42183, 42184, 42185, 42186, 42187, 42188, 42189, 42190, 42191,\n",
       "       42192, 42193, 42194, 42195, 42196, 42197, 42198, 42199, 42200,\n",
       "       42201, 42202, 42203, 42204, 42205, 42206, 42207, 42208, 42209,\n",
       "       42210, 42211, 42212, 42213, 42214, 42215, 42216, 42217, 42218,\n",
       "       42219, 42220, 42221, 42222, 42223, 42224, 42225, 42226, 42227,\n",
       "       42228, 42229, 42230, 42231, 42232, 42233, 42234, 42235, 42236,\n",
       "       42237, 42238, 42239, 42240, 42241, 42242, 42243, 42244, 42245,\n",
       "       42246, 42247, 42248, 42249, 42250, 42251, 42252, 42253, 42254,\n",
       "       42255, 42256, 42257, 42258, 42259, 42260, 42261, 42262, 42263,\n",
       "       42264, 42265, 42266, 42267, 42268, 42269, 42270, 42271, 42272,\n",
       "       42273, 42274, 42275, 42276, 42277, 42278, 42279, 42280, 42281,\n",
       "       42282, 42283, 42284, 42285, 42286, 42287, 42288, 42289, 42290,\n",
       "       42291, 42292, 42293, 42294, 42295, 42296, 42297, 42298, 42299,\n",
       "       42300, 42301, 42302, 42303, 42304, 42305, 42306, 42307, 42308,\n",
       "       42309, 42310, 42311, 42312, 42313, 42314, 42315, 42316, 42317,\n",
       "       42318, 42319, 42320, 42321, 42322, 42323, 42324, 42325, 42326,\n",
       "       42327, 42328, 42329, 42330, 42331, 42332, 42333, 42334, 42335,\n",
       "       42336, 42337, 42338, 42339, 42340, 42341, 42342, 42343, 42344,\n",
       "       42345, 42346, 42347, 42348, 42349, 42350, 42351, 42352, 42353,\n",
       "       42354, 42355, 42356, 42357, 42358, 42359, 42360, 42361, 42362,\n",
       "       42363, 42364, 42365, 42366, 42367, 42368, 42369, 42370, 42371,\n",
       "       42372, 42373, 42374, 42375, 42376, 42377, 42378, 42379, 42380,\n",
       "       42381, 42382, 42383, 42384, 42385, 42386, 42387, 42388, 42389,\n",
       "       42390, 42391, 42392, 42393, 42394, 42395, 42396, 42397, 42398,\n",
       "       42399, 42400, 42401, 42402, 42403, 42404, 42405, 42406, 42407,\n",
       "       42408, 42409, 42410, 42411, 42412, 42413, 42414, 42415, 42416,\n",
       "       42417, 42418, 42419, 42420, 42421, 42422, 42423, 42424, 42425,\n",
       "       42426, 42427, 42428, 42429, 42430, 42431, 42432, 42433, 42434,\n",
       "       42435, 42436, 42437, 42438, 42439, 42440, 42441, 42442, 42443,\n",
       "       42444, 42445, 42446, 42447, 42448, 42449, 42450, 42451, 42452,\n",
       "       42453, 42454, 42455, 42456, 42457, 42458, 42459, 42460, 42461,\n",
       "       42462, 42463, 42464, 42465, 42466, 42467, 42468, 42469, 42470,\n",
       "       42471, 42472, 42473, 42474, 42475, 42476, 42477, 42478, 42479,\n",
       "       42480, 42481, 42482, 42483, 42484, 42485, 42486, 42487, 42488,\n",
       "       42489, 42490, 42491, 42492, 42493, 42494, 42495, 42496, 42497,\n",
       "       42498, 42499, 42500, 42501, 42502, 42503, 42504, 42505, 42506,\n",
       "       42507, 42508, 42509, 42510, 42511, 42512, 42513, 42514, 42515,\n",
       "       42516, 42517, 42518, 42519, 42520, 42521, 42522, 42523, 42524,\n",
       "       42525, 42526, 42527, 42528, 42529, 42530, 42531, 42532, 42533,\n",
       "       42534, 42535, 42536, 42537, 42538, 42539, 42540, 42541, 42542,\n",
       "       42543, 42544, 42545, 42546, 42547, 42548, 42549, 42550, 42551,\n",
       "       42552, 42553, 42554, 42555, 42556, 42557, 42558, 42559, 42560,\n",
       "       42561, 42562, 42563, 42564, 42565, 42566, 42567, 42568, 42569,\n",
       "       42570, 42571, 42572, 42573, 42574, 42575, 42576, 42577, 42578,\n",
       "       42579, 42580, 42581, 42582, 42583, 42584, 42585, 42586, 42587,\n",
       "       42588, 42589, 42590, 42591, 42592, 42593, 42594, 42595, 42596,\n",
       "       42597, 42598, 42599, 42600, 42601, 42602, 42603, 42604, 42605,\n",
       "       42606, 42607, 42608, 42609, 42610, 42611, 42612, 42613, 42614,\n",
       "       42615, 42616, 42617, 42618, 42619, 42620, 42621, 42622, 42623,\n",
       "       42624, 42625, 42626, 42627, 42628, 42629, 42630, 42631, 42632,\n",
       "       42633, 42634, 42635, 42636, 42637, 42638, 42639, 42640, 42641,\n",
       "       42642, 42643, 42644, 42645, 42646, 42647, 42648, 42649, 42650,\n",
       "       42651, 42652, 42653, 42654, 42655, 42656, 42657, 42658, 42659,\n",
       "       42660, 42661, 42662, 42663, 42664, 42665, 42666, 42667, 42668,\n",
       "       42669, 42670, 42671, 42672, 42673, 42674, 42675, 42676, 42677,\n",
       "       42678, 42679, 42680, 42681, 42682, 42683, 42684, 42685, 42686,\n",
       "       42687, 42688, 42689, 42690, 42691, 42692, 42693, 42694, 42695,\n",
       "       42696, 42697, 42698, 42699, 42700, 42701, 42702, 42703, 42704,\n",
       "       42705, 42706, 42707, 42708, 42709, 42710, 42711, 42712, 42713,\n",
       "       42714, 42715, 42716, 42717, 42718, 42719, 42720, 42721, 42722,\n",
       "       42723, 42724, 42725, 42726, 42727, 42728, 42729, 42730, 42731,\n",
       "       42732, 42733, 42734, 42735, 42736, 42737, 42738, 42739, 42740,\n",
       "       42741, 42742, 42743, 42744, 42745, 42746, 42747, 42748, 42749,\n",
       "       42750, 42751, 42752, 42753, 42754, 42755, 42756, 42757, 42758,\n",
       "       42759, 42760, 42761, 42762, 42763, 42764, 42765, 42766, 42767,\n",
       "       42768, 42769, 42770, 42771, 42772, 42773, 42774, 42775, 42776,\n",
       "       42777, 42778, 42779, 42780, 42781, 42782, 42783, 42784, 42785,\n",
       "       42786, 42787, 42788, 42789, 42790, 42791, 42792, 42793, 42794,\n",
       "       42795, 42796, 42797, 42798, 42799, 42800, 42801, 42802, 42803,\n",
       "       42804, 42805, 42806, 42807, 42808, 42809, 42810, 42811, 42812,\n",
       "       42813, 42814, 42815, 42816, 42817, 42818, 42819, 42820, 42821,\n",
       "       42822, 42823, 42824, 42825, 42826, 42827, 42828, 42829, 42830,\n",
       "       42831, 42832, 42833, 42834, 42835, 42836, 42837, 42838, 42839,\n",
       "       42840, 42841, 42842, 42843, 42844, 42845, 42846, 42847, 42848,\n",
       "       42849, 42850, 42851, 42852, 42853, 42854, 42855, 42856, 42857,\n",
       "       42858, 42859, 42860, 42861, 42862, 42863, 42864, 42865, 42866,\n",
       "       42867, 42868, 42869, 42870, 42871, 42872, 42873, 42874, 42875,\n",
       "       42876, 42877, 42878, 42879, 42880, 42881, 42882, 42883, 42884,\n",
       "       42885, 42886, 42887, 42888, 42889, 42890, 42891, 42892, 42893,\n",
       "       42894, 42895, 42896, 42897, 42898, 42899, 42900, 42901, 42902,\n",
       "       42903, 42904, 42905, 42906, 42907, 42908, 42909, 42910, 42911,\n",
       "       42912, 42913, 42914, 42915, 42916, 42917, 42918, 42919, 42920,\n",
       "       42921, 42922, 42923, 42924, 42925, 42926, 42927, 42928, 42929,\n",
       "       42930, 42931, 42932, 42933, 42934, 42935, 42936, 42937, 42938,\n",
       "       42939, 42940, 42941, 42942, 42943, 42944, 42945, 42946, 42947,\n",
       "       42948, 42949, 42950, 42951, 42952, 42953, 42954, 42955, 42956,\n",
       "       42957, 42958, 42959, 42960, 42961, 42962, 42963, 42964, 42965,\n",
       "       42966, 42967, 42968, 42969, 42970, 42971, 42972, 42973, 42974,\n",
       "       42975, 42976, 42977, 42978, 42979, 42980, 42981, 42982, 42983,\n",
       "       42984, 42985, 42986, 42987, 42988, 42989, 42990, 42991, 42992,\n",
       "       42993, 42994, 42995, 42996, 42997, 42998, 42999, 43000, 43001,\n",
       "       43002, 43003, 43004, 43005, 43006, 43007, 43008, 43009, 43010,\n",
       "       43011, 43012, 43013, 43014, 43015, 43016, 43017, 43018, 43019,\n",
       "       43020, 43021, 43022, 43023, 43024, 43025, 43026, 43027, 43028,\n",
       "       43029, 43030, 43031, 43032, 43033, 43034, 43035, 43036, 43037,\n",
       "       43038, 43039, 43040, 43041, 43042, 43043, 43044, 43045, 43046,\n",
       "       43047, 43048, 43049, 43050, 43051, 43052, 43053, 43054, 43055,\n",
       "       43056, 43057, 43058, 43059, 43060, 43061, 43062, 43063, 43064,\n",
       "       43065, 43066, 43067, 43068, 43069, 43070, 43071, 43072, 43073,\n",
       "       43074, 43075, 43076, 43077, 43078, 43079, 43080, 43081, 43082,\n",
       "       43083, 43084, 43085, 43086, 43087, 43088, 43089, 43090, 43091,\n",
       "       43092, 43093, 43094, 43095, 43096, 43097, 43098, 43099, 43100,\n",
       "       43101, 43102, 43103, 43104, 43105, 43106, 43107, 43108, 43109,\n",
       "       43110, 43111, 43112, 43113, 43114, 43115, 43116, 43117, 43118,\n",
       "       43119, 43120, 43121, 43122, 43123, 43124, 43125, 43126, 43127,\n",
       "       43128, 43129, 43130, 43131, 43132, 43133, 43134, 43135, 43136,\n",
       "       43137, 43138, 43139, 43140, 43141, 43142, 43143, 43144, 43145,\n",
       "       43146, 43147, 43148, 43149, 43150, 43151, 43152, 43153, 43154,\n",
       "       43155, 43156, 43157, 43158, 43159, 43160, 43161, 43162, 43163,\n",
       "       43164, 43165, 43166, 43167, 43168, 43169, 43170, 43171, 43172,\n",
       "       43173, 43174, 43175, 43176, 43177, 43178, 43179, 43180, 43181,\n",
       "       43182, 43183, 43184, 43185, 43186, 43187, 43188, 43189, 43190,\n",
       "       43191, 43192, 43193, 43194, 43195, 43196, 43197, 43198, 43199,\n",
       "       43200, 43201, 43202, 43203, 43204, 43205, 43206, 43207, 43208,\n",
       "       43209, 43210, 43211, 43212, 43213, 43214, 43215, 43216, 43217,\n",
       "       43218, 43219, 43220, 43221, 43222, 43223, 43224, 43225, 43226,\n",
       "       43227, 43228, 43229, 43230, 43231, 43232, 43233, 43234, 43235,\n",
       "       43236, 43237, 43238, 43239, 43240, 43241, 43242, 43243, 43244,\n",
       "       43245, 43246, 43247, 43248, 43249, 43250, 43251, 43252, 43253,\n",
       "       43254, 43255, 43256, 43257, 43258, 43259, 43260, 43261, 43262,\n",
       "       43263, 43264, 43265, 43266, 43267, 43268, 43269, 43270, 43271,\n",
       "       43272, 43273, 43274, 43275, 43276, 43277, 43278, 43279, 43280,\n",
       "       43281, 43282, 43283, 43284, 43285, 43286, 43287, 43288, 43289,\n",
       "       43290, 43291, 43292, 43293, 43294, 43295, 43296, 43297, 43298,\n",
       "       43299, 43300, 43301, 43302, 43303, 43304, 43305, 43306, 43307,\n",
       "       43308, 43309, 43310, 43311, 43312, 43313, 43314, 43315, 43316,\n",
       "       43317, 43318, 43319, 43320, 43321, 43322, 43323, 43324, 43325,\n",
       "       43326, 43327, 43328, 43329, 43330, 43331, 43332, 43333, 43334,\n",
       "       43335, 43336, 43337, 43338, 43339, 43340, 43341, 43342, 43343,\n",
       "       43344, 43345, 43346, 43347, 43348, 43349, 43350, 43351, 43352,\n",
       "       43353, 43354, 43355, 43356, 43357, 43358, 43359, 43360, 43361,\n",
       "       43362, 43363, 43364, 43365, 43366, 43367, 43368, 43369, 43370,\n",
       "       43371, 43372, 43373, 43374, 43375, 43376, 43377, 43378, 43379,\n",
       "       43380, 43381, 43382, 43383, 43384, 43385, 43386, 43387, 43388,\n",
       "       43389, 43390, 43391, 43392, 43393, 43394, 43395, 43396, 43397,\n",
       "       43398, 43399, 43400, 43401, 43402, 43403, 43404, 43405, 43406,\n",
       "       43407, 43408, 43409, 43410, 43411, 43412, 43413, 43414, 43415,\n",
       "       43416, 43417, 43418, 43419, 43420, 43421, 43422, 43423, 43424,\n",
       "       43425, 43426, 43427, 43428, 43429, 43430, 43431, 43432, 43433,\n",
       "       43434, 43435, 43436, 43437, 43438, 43439, 43440, 43441, 43442,\n",
       "       43443, 43444, 43445, 43446, 43447, 43448, 43449, 43450, 43451,\n",
       "       43452, 43453, 43454, 43455, 43456, 43457, 43458, 43459, 43460,\n",
       "       43461, 43462, 43463, 43464, 43465, 43466, 43467, 43468, 43469,\n",
       "       43470, 43471, 43472, 43473, 43474, 43475, 43476, 43477, 43478,\n",
       "       43479, 43480, 43481, 43482, 43483, 43484, 43485, 43486, 43487,\n",
       "       43488, 43489, 43490, 43491, 43492, 43493, 43494, 43495, 43496,\n",
       "       43497, 43498, 43499, 43500, 43501, 43502, 43503, 43504, 43505,\n",
       "       43506, 43507, 43508, 43509, 43510, 43511, 43512, 43513, 43514,\n",
       "       43515, 43516, 43517, 43518, 43519, 43520, 43521, 43522, 43523,\n",
       "       43524, 43525, 43526, 43527, 43528, 43529, 43530, 43531, 43532,\n",
       "       43533, 43534, 43535, 43536, 43537, 43538, 43539, 43540, 43541,\n",
       "       43542, 43543, 43544, 43545, 43546, 43547, 43548, 43549, 43550,\n",
       "       43551, 43552, 43553, 43554, 43555, 43556, 43557, 43558, 43559,\n",
       "       43560, 43561, 43562, 43563, 43564, 43565, 43566, 43567, 43568,\n",
       "       43569, 43570, 43571, 43572, 43573, 43574, 43575, 43576, 43577,\n",
       "       43578, 43579, 43580, 43581, 43582, 43583, 43584, 43585, 43586,\n",
       "       43587, 43588, 43589, 43590, 43591, 43592, 43593, 43594, 43595,\n",
       "       43596, 43597, 43598, 43599, 43600, 43601, 43602, 43603, 43604,\n",
       "       43605, 43606, 43607, 43608, 43609, 43610, 43611, 43612, 43613,\n",
       "       43614, 43615, 43616, 43617, 43618, 43619, 43620, 43621, 43622,\n",
       "       43623, 43624, 43625, 43626, 43627, 43628, 43629, 43630, 43631,\n",
       "       43632, 43633, 43634, 43635, 43636, 43637, 43638, 43639, 43640,\n",
       "       43641, 43642, 43643, 43644, 43645, 43646, 43647, 43648, 43649,\n",
       "       43650, 43651, 43652, 43653, 43654, 43655, 43656, 43657, 43658,\n",
       "       43659, 43660, 43661, 43662, 43663, 43664, 43665, 43666, 43667,\n",
       "       43668, 43669, 43670, 43671, 43672, 43673, 43674, 43675, 43676,\n",
       "       43677, 43678, 43679, 43680, 43681, 43682, 43683, 43684, 43685,\n",
       "       43686, 43687, 43688, 43689, 43690, 43691, 43692, 43693, 43694,\n",
       "       43695, 43696, 43697, 43698, 43699, 43700, 43701, 43702, 43703,\n",
       "       43704, 43705, 43706, 43707, 43708, 43709, 43710, 43711, 43712,\n",
       "       43713, 43714, 43715, 43716, 43717, 43718, 43719, 43720, 43721,\n",
       "       43722, 43723, 43724, 43725, 43726, 43727, 43728, 43729, 43730,\n",
       "       43731, 43732, 43733, 43734, 43735, 43736, 43737, 43738, 43739,\n",
       "       43740, 43741, 43742, 43743, 43744, 43745, 43746, 43747, 43748,\n",
       "       43749, 43750, 43751, 43752, 43753, 43754, 43755, 43756, 43757,\n",
       "       43758, 43759, 43760, 43761, 43762, 43763, 43764, 43765, 43766,\n",
       "       43767, 43768, 43769, 43770, 43771, 43772, 43773, 43774, 43775,\n",
       "       43776, 43777, 43778, 43779, 43780, 43781, 43782, 43783, 43784,\n",
       "       43785, 43786, 43787, 43788, 43789, 43790, 43791, 43792, 43793,\n",
       "       43794, 43795, 43796, 43797, 43798, 43799, 43800, 43801, 43802,\n",
       "       43803, 43804, 43805, 43806, 43807, 43808, 43809, 43810, 43811,\n",
       "       43812, 43813, 43814, 43815, 43816, 43817, 43818, 43819, 43820,\n",
       "       43821, 43822, 43823, 43824, 43825, 43826, 43827, 43828, 43829,\n",
       "       43830, 43831, 43832, 43833, 43834, 43835, 43836, 43837, 43838,\n",
       "       43839, 43840, 43841, 43842, 43843, 43844, 43845, 43846, 43847,\n",
       "       43848, 43849, 43850, 43851, 43852, 43853, 43854, 43855, 43856,\n",
       "       43857, 43858, 43859, 43860, 43861, 43862, 43863, 43864, 43865,\n",
       "       43866, 43867, 43868, 43869, 43870, 43871, 43872, 43873, 43874,\n",
       "       43875, 43876, 43877, 43878, 43879, 43880, 43881, 43882, 43883,\n",
       "       43884, 43885, 43886, 43887, 43888, 43889, 43890, 43891, 43892,\n",
       "       43893, 43894, 43895, 43896, 43897, 43898, 43899, 43900, 43901,\n",
       "       43902, 43903, 43904, 43905, 43906, 43907, 43908, 43909, 43910,\n",
       "       43911, 43912, 43913, 43914, 43915, 43916, 43917, 43918, 43919,\n",
       "       43920, 43921, 43922, 43923, 43924, 43925, 43926, 43927, 43928,\n",
       "       43929, 43930, 43931, 43932, 43933, 43934, 43935, 43936, 43937,\n",
       "       43938, 43939, 43940, 43941, 43942, 43943, 43944, 43945, 43946,\n",
       "       43947, 43948, 43949, 43950, 43951, 43952, 43953, 43954, 43955,\n",
       "       43956, 43957, 43958, 43959, 43960, 43961, 43962, 43963, 43964,\n",
       "       43965, 43966, 43967, 43968, 43969, 43970, 43971, 43972, 43973,\n",
       "       43974, 43975, 43976, 43977, 43978, 43979, 43980, 43981, 43982,\n",
       "       43983, 43984, 43985, 43986, 43987, 43988, 43989, 43990, 43991,\n",
       "       43992, 43993, 43994, 43995, 43996, 43997, 43998, 43999, 44000,\n",
       "       44001, 44002, 44003, 44004, 44005, 44006, 44007, 44008, 44009,\n",
       "       44010, 44011, 44012, 44013, 44014, 44015, 44016, 44017, 44018,\n",
       "       44019, 44020, 44021, 44022, 44023, 44024, 44025, 44026, 44027,\n",
       "       44028, 44029, 44030, 44031, 44032, 44033, 44034, 44035, 44036,\n",
       "       44037, 44038, 44039, 44040, 44041, 44042, 44043, 44044, 44045,\n",
       "       44046, 44047, 44048, 44049, 44050, 44051, 44052, 44053, 44054,\n",
       "       44055, 44056, 44057, 44058, 44059, 44060, 44061, 44062, 44063,\n",
       "       44064, 44065, 44066, 44067, 44068, 44069, 44070, 44071, 44072,\n",
       "       44073, 44074, 44075, 44076, 44077, 44078, 44079, 44080, 44081,\n",
       "       44082, 44083, 44084, 44085, 44086, 44087, 44088, 44089, 44090,\n",
       "       44091, 44092, 44093, 44094, 44095, 44096, 44097, 44098, 44099,\n",
       "       44100, 44101, 44102, 44103, 44104, 44105, 44106, 44107, 44108,\n",
       "       44109, 44110, 44111, 44112, 44113, 44114, 44115, 44116, 44117,\n",
       "       44118, 44119, 44120, 44121, 44122, 44123, 44124, 44125, 44126,\n",
       "       44127, 44128, 44129, 44130, 44131, 44132, 44133, 44134, 44135,\n",
       "       44136, 44137, 44138, 44139, 44140, 44141, 44142, 44143, 44144,\n",
       "       44145, 44146, 44147, 44148, 44149, 44150, 44151, 44152, 44153,\n",
       "       44154, 44155, 44156, 44157, 44158, 44159, 44160, 44161, 44162,\n",
       "       44163, 44164, 44165, 44166, 44167, 44168, 44169, 44170, 44171,\n",
       "       44172, 44173, 44174, 44175, 44176, 44177, 44178, 44179, 44180,\n",
       "       44181, 44182, 44183, 44184, 44185, 44186, 44187, 44188, 44189,\n",
       "       44190, 44191, 44192, 44193, 44194, 44195, 44196, 44197, 44198,\n",
       "       44199, 44200, 44201, 44202, 44203, 44204, 44205, 44206, 44207,\n",
       "       44208, 44209, 44210, 44211, 44212, 44213, 44214, 44215, 44216,\n",
       "       44217, 44218, 44219, 44220, 44221, 44222, 44223, 44224, 44225,\n",
       "       44226, 44227, 44228, 44229, 44230, 44231, 44232, 44233, 44234,\n",
       "       44235, 44236, 44237, 44238, 44239, 44240, 44241, 44242, 44243,\n",
       "       44244, 44245, 44246, 44247, 44248, 44249, 44250, 44251, 44252,\n",
       "       44253, 44254, 44255, 44256, 44257, 44258, 44259, 44260, 44261,\n",
       "       44262, 44263, 44264, 44265, 44266, 44267, 44268, 44269, 44270,\n",
       "       44271, 44272, 44273, 44274, 44275, 44276, 44277, 44278, 44279,\n",
       "       44280, 44281, 44282, 44283, 44284, 44285, 44286, 44287, 44288,\n",
       "       44289, 44290, 44291, 44292, 44293, 44294, 44295, 44296, 44297,\n",
       "       44298, 44299, 44300, 44301, 44302, 44303, 44304, 44305, 44306,\n",
       "       44307, 44308, 44309, 44310, 44311, 44312, 44313, 44314, 44315,\n",
       "       44316, 44317, 44318, 44319, 44320, 44321, 44322, 44323, 44324,\n",
       "       44325, 44326, 44327, 44328, 44329, 44330, 44331, 44332, 44333,\n",
       "       44334, 44335, 44336, 44337, 44338, 44339, 44340, 44341, 44342,\n",
       "       44343, 44344, 44345, 44346, 44347, 44348, 44349, 44350, 44351,\n",
       "       44352, 44353, 44354, 44355, 44356, 44357, 44358, 44359, 44360,\n",
       "       44361, 44362, 44363, 44364, 44365, 44366, 44367, 44368, 44369,\n",
       "       44370, 44371, 44372, 44373, 44374, 44375, 44376, 44377, 44378,\n",
       "       44379, 44380, 44381, 44382, 44383, 44384, 44385, 44386, 44387,\n",
       "       44388, 44389, 44390, 44391, 44392, 44393, 44394, 44395, 44396,\n",
       "       44397, 44398, 44399, 44400, 44401, 44402, 44403, 44404, 44405,\n",
       "       44406, 44407, 44408, 44409, 44410, 44411, 44412, 44413, 44414,\n",
       "       44415, 44416, 44417, 44418, 44419, 44420, 44421, 44422, 44423,\n",
       "       44424, 44425, 44426, 44427, 44428, 44429, 44430, 44431, 44432,\n",
       "       44433, 44434, 44435, 44436, 44437, 44438, 44439, 44440, 44441,\n",
       "       44442, 44443, 44444, 44445, 44446, 44447, 44448, 44449, 44450,\n",
       "       44451, 44452, 44453, 44454, 44455, 44456, 44457, 44458, 44459,\n",
       "       44460, 44461, 44462, 44463, 44464, 44465, 44466, 44467, 44468,\n",
       "       44469, 44470, 44471, 44472, 44473, 44474, 44475, 44476, 44477,\n",
       "       44478, 44479, 44480, 44481, 44482, 44483, 44484, 44485, 44486,\n",
       "       44487, 44488, 44489, 44490, 44491, 44492, 44493, 44494, 44495,\n",
       "       44496, 44497, 44498, 44499, 44500, 44501, 44502, 44503, 44504,\n",
       "       44505, 44506, 44507, 44508, 44509, 44510, 44511, 44512, 44513,\n",
       "       44514, 44515, 44516, 44517, 44518, 44519, 44520, 44521, 44522,\n",
       "       44523, 44524, 44525, 44526, 44527, 44528, 44529, 44530, 44531,\n",
       "       44532, 44533, 44534, 44535, 44536, 44537, 44538, 44539, 44540,\n",
       "       44541, 44542, 44543, 44544, 44545, 44546, 44547, 44548, 44549,\n",
       "       44550, 44551, 44552, 44553, 44554, 44555, 44556, 44557, 44558,\n",
       "       44559, 44560, 44561, 44562, 44563, 44564, 44565, 44566, 44567,\n",
       "       44568, 44569, 44570, 44571, 44572, 44573, 44574, 44575, 44576,\n",
       "       44577, 44578, 44579, 44580, 44581, 44582, 44583, 44584, 44585,\n",
       "       44586, 44587, 44588, 44589, 44590, 44591, 44592, 44593, 44594,\n",
       "       44595, 44596, 44597, 44598, 44599, 44600, 44601, 44602, 44603,\n",
       "       44604, 44605, 44606, 44607, 44608, 44609, 44610, 44611, 44612,\n",
       "       44613, 44614, 44615, 44616, 44617, 44618, 44619, 44620, 44621,\n",
       "       44622, 44623, 44624, 44625, 44626, 44627, 44628, 44629, 44630,\n",
       "       44631, 44632, 44633, 44634, 44635, 44636, 44637, 44638, 44639,\n",
       "       44640, 44641, 44642, 44643, 44644, 44645, 44646, 44647, 44648,\n",
       "       44649, 44650, 44651, 44652, 44653, 44654, 44655, 44656, 44657,\n",
       "       44658, 44659, 44660, 44661, 44662, 44663, 44664, 44665, 44666,\n",
       "       44667, 44668, 44669, 44670, 44671, 44672, 44673, 44674, 44675,\n",
       "       44676, 44677, 44678, 44679, 44680, 44681, 44682, 44683, 44684,\n",
       "       44685, 44686, 44687, 44688, 44689, 44690, 44691, 44692, 44693,\n",
       "       44694, 44695, 44696, 44697, 44698, 44699, 44700, 44701, 44702,\n",
       "       44703, 44704, 44705, 44706, 44707, 44708, 44709, 44710, 44711,\n",
       "       44712, 44713, 44714, 44715, 44716, 44717, 44718, 44719, 44720,\n",
       "       44721, 44722, 44723, 44724, 44725, 44726, 44727, 44728, 44729,\n",
       "       44730, 44731, 44732, 44733, 44734, 44735, 44736, 44737, 44738,\n",
       "       44739, 44740, 44741, 44742, 44743, 44744, 44745, 44746, 44747,\n",
       "       44748, 44749, 44750, 44751, 44752, 44753, 44754, 44755, 44756,\n",
       "       44757, 44758, 44759, 44760, 44761, 44762, 44763, 44764, 44765,\n",
       "       44766, 44767, 44768, 44769, 44770, 44771, 44772, 44773, 44774,\n",
       "       44775, 44776, 44777, 44778, 44779, 44780, 44781, 44782, 44783,\n",
       "       44784, 44785, 44786, 44787, 44788, 44789, 44790, 44791, 44792,\n",
       "       44793, 44794, 44795, 44796, 44797, 44798, 44799, 44800, 44801,\n",
       "       44802, 44803, 44804, 44805, 44806, 44807, 44808, 44809, 44810,\n",
       "       44811, 44812, 44813, 44814, 44815, 44816, 44817, 44818, 44819,\n",
       "       44820, 44821, 44822, 44823, 44824, 44825, 44826, 44827, 44828,\n",
       "       44829, 44830, 44831, 44832, 44833, 44834, 44835, 44836, 44837,\n",
       "       44838, 44839, 44840, 44841, 44842, 44843, 44844, 44845, 44846,\n",
       "       44847, 44848, 44849, 44850, 44851, 44852, 44853, 44854, 44855,\n",
       "       44856, 44857, 44858, 44859, 44860, 44861, 44862, 44863, 44864,\n",
       "       44865, 44866, 44867, 44868, 44869, 44870, 44871, 44872, 44873,\n",
       "       44874, 44875, 44876, 44877, 44878, 44879, 44880, 44881, 44882,\n",
       "       44883, 44884, 44885, 44886, 44887, 44888, 44889, 44890, 44891,\n",
       "       44892, 44893, 44894, 44895, 44896, 44897, 44898, 44899, 44900,\n",
       "       44901, 44902, 44903, 44904, 44905, 44906, 44907, 44908, 44909,\n",
       "       44910, 44911, 44912, 44913, 44914, 44915, 44916, 44917, 44918,\n",
       "       44919, 44920, 44921, 44922, 44923, 44924, 44925, 44926, 44927,\n",
       "       44928, 44929, 44930, 44931, 44932, 44933, 44934, 44935, 44936,\n",
       "       44937, 44938, 44939, 44940, 44941, 44942, 44943, 44944, 44945,\n",
       "       44946, 44947, 44948, 44949, 44950, 44951, 44952, 44953, 44954,\n",
       "       44955, 44956, 44957, 44958, 44959, 44960, 44961, 44962, 44963,\n",
       "       44964, 44965, 44966, 44967, 44968, 44969, 44970, 44971, 44972,\n",
       "       44973, 44974, 44975, 44976, 44977, 44978, 44979, 44980, 44981,\n",
       "       44982, 44983, 44984, 44985, 44986, 44987, 44988, 44989, 44990,\n",
       "       44991, 44992, 44993, 44994, 44995, 44996, 44997, 44998, 44999,\n",
       "       45000, 45001, 45002, 45003, 45004, 45005, 45006, 45007, 45008,\n",
       "       45009, 45010, 45011, 45012, 45013, 45014, 45015, 45016, 45017,\n",
       "       45018, 45019, 45020, 45021, 45022, 45023, 45024, 45025, 45026,\n",
       "       45027, 45028, 45029, 45030, 45031, 45032, 45033, 45034, 45035,\n",
       "       45036, 45037, 45038, 45039, 45040, 45041, 45042, 45043, 45044,\n",
       "       45045, 45046, 45047, 45048, 45049, 45050, 45051, 45052, 45053,\n",
       "       45054, 45055, 45056, 45057, 45058, 45059, 45060, 45061, 45062,\n",
       "       45063, 45064, 45065, 45066, 45067, 45068, 45069, 45070, 45071,\n",
       "       45072, 45073, 45074, 45075, 45076, 45077, 45078, 45079, 45080,\n",
       "       45081, 45082, 45083, 45084, 45085, 45086, 45087, 45088, 45089,\n",
       "       45090, 45091, 45092, 45093, 45094, 45095, 45096, 45097, 45098,\n",
       "       45099, 45100, 45101, 45102, 45103, 45104, 45105, 45106, 45107,\n",
       "       45108, 45109, 45110, 45111, 45112, 45113, 45114, 45115, 45116,\n",
       "       45117, 45118, 45119, 45120, 45121, 45122, 45123, 45124, 45125,\n",
       "       45126, 45127, 45128, 45129, 45130, 45131, 45132, 45133, 45134,\n",
       "       45135, 45136, 45137, 45138, 45139, 45140, 45141, 45142, 45143,\n",
       "       45144, 45145, 45146, 45147, 45148, 45149, 45150, 45151, 45152,\n",
       "       45153, 45154, 45155, 45156, 45157, 45158, 45159, 45160, 45161,\n",
       "       45162, 45163, 45164, 45165, 45166, 45167, 45168, 45169, 45170,\n",
       "       45171, 45172, 45173, 45174, 45175, 45176, 45177, 45178, 45179,\n",
       "       45180, 45181, 45182, 45183, 45184, 45185, 45186, 45187, 45188,\n",
       "       45189, 45190, 45191, 45192, 45193, 45194, 45195, 45196, 45197,\n",
       "       45198, 45199, 45200, 45201, 45202, 45203, 45204, 45205, 45206,\n",
       "       45207, 45208, 45209, 45210, 45211, 45212, 45213, 45214, 45215,\n",
       "       45216, 45217, 45218, 45219, 45220, 45221, 45222, 45223, 45224,\n",
       "       45225, 45226, 45227, 45228, 45229, 45230, 45231, 45232, 45233,\n",
       "       45234, 45235, 45236, 45237, 45238, 45239, 45240, 45241, 45242,\n",
       "       45243, 45244, 45245, 45246, 45247, 45248, 45249, 45250, 45251,\n",
       "       45252, 45253, 45254, 45255, 45256, 45257, 45258, 45259, 45260,\n",
       "       45261, 45262, 45263, 45264, 45265, 45266, 45267, 45268, 45269,\n",
       "       45270, 45271, 45272, 45273, 45274, 45275, 45276, 45277, 45278,\n",
       "       45279, 45280, 45281, 45282, 45283, 45284, 45285, 45286, 45287,\n",
       "       45288, 45289, 45290, 45291, 45292, 45293, 45294, 45295, 45296,\n",
       "       45297, 45298, 45299, 45300, 45301, 45302, 45303, 45304, 45305,\n",
       "       45306, 45307, 45308, 45309, 45310, 45311, 45312, 45313, 45314,\n",
       "       45315, 45316, 45317, 45318, 45319, 45320, 45321, 45322, 45323,\n",
       "       45324, 45325, 45326, 45327, 45328, 45329, 45330, 45331, 45332,\n",
       "       45333, 45334, 45335, 45336, 45337, 45338, 45339, 45340, 45341,\n",
       "       45342, 45343, 45344, 45345, 45346, 45347, 45348, 45349, 45350,\n",
       "       45351, 45352, 45353, 45354, 45355, 45356, 45357, 45358, 45359,\n",
       "       45360, 45361, 45362, 45363, 45364, 45365, 45366, 45367, 45368,\n",
       "       45369, 45370, 45371, 45372, 45373, 45374, 45375, 45376, 45377,\n",
       "       45378, 45379, 45380, 45381, 45382, 45383, 45384, 45385, 45386,\n",
       "       45387, 45388, 45389, 45390, 45391, 45392, 45393, 45394, 45395,\n",
       "       45396, 45397, 45398, 45399, 45400, 45401, 45402, 45403, 45404,\n",
       "       45405, 45406, 45407, 45408, 45409, 45410, 45411, 45412, 45413,\n",
       "       45414, 45415, 45416, 45417, 45418, 45419, 45420, 45421, 45422,\n",
       "       45423, 45424, 45425, 45426, 45427, 45428, 45429, 45430, 45431,\n",
       "       45432, 45433, 45434, 45435, 45436, 45437, 45438, 45439, 45440,\n",
       "       45441, 45442, 45443, 45444, 45445, 45446, 45447, 45448, 45449,\n",
       "       45450, 45451, 45452, 45453, 45454, 45455, 45456, 45457, 45458,\n",
       "       45459, 45460, 45461, 45462, 45463, 45464, 45465, 45466, 45467,\n",
       "       45468, 45469, 45470, 45471, 45472, 45473, 45474, 45475, 45476,\n",
       "       45477, 45478, 45479, 45480, 45481, 45482, 45483, 45484, 45485,\n",
       "       45486, 45487, 45488, 45489, 45490, 45491, 45492, 45493, 45494,\n",
       "       45495, 45496, 45497, 45498, 45499, 45500, 45501, 45502, 45503,\n",
       "       45504, 45505, 45506, 45507, 45508, 45509, 45510, 45511, 45512,\n",
       "       45513, 45514, 45515, 45516, 45517, 45518, 45519, 45520, 45521,\n",
       "       45522, 45523, 45524, 45525, 45526, 45527, 45528, 45529, 45530,\n",
       "       45531, 45532, 45533, 45534, 45535, 45536, 45537, 45538, 45539,\n",
       "       45540, 45541, 45542, 45543, 45544, 45545, 45546, 45547, 45548,\n",
       "       45549, 45550, 45551, 45552, 45553, 45554, 45555, 45556, 45557,\n",
       "       45558, 45559, 45560, 45561, 45562, 45563, 45564, 45565, 45566,\n",
       "       45567, 45568, 45569, 45570, 45571, 45572, 45573, 45574, 45575,\n",
       "       45576, 45577, 45578, 45579, 45580, 45581, 45582, 45583, 45584,\n",
       "       45585, 45586, 45587, 45588, 45589, 45590, 45591, 45592, 45593,\n",
       "       45594, 45595, 45596, 45597, 45598, 45599, 45600, 45601, 45602,\n",
       "       45603, 45604, 45605, 45606, 45607, 45608, 45609, 45610, 45611,\n",
       "       45612, 45613, 45614, 45615, 45616, 45617, 45618, 45619, 45620,\n",
       "       45621, 45622, 45623, 45624, 45625, 45626, 45627, 45628, 45629,\n",
       "       45630, 45631, 45632, 45633, 45634, 45635, 45636, 45637, 45638,\n",
       "       45639, 45640, 45641, 45642, 45643, 45644, 45645, 45646, 45647,\n",
       "       45648, 45649, 45650, 45651, 45652, 45653, 45654, 45655, 45656,\n",
       "       45657, 45658, 45659, 45660, 45661, 45662, 45663, 45664, 45665,\n",
       "       45666, 45667, 45668, 45669, 45670, 45671, 45672, 45673, 45674,\n",
       "       45675, 45676, 45677, 45678, 45679, 45680, 45681, 45682, 45683,\n",
       "       45684, 45685, 45686, 45687, 45688, 45689, 45690, 45691, 45692,\n",
       "       45693, 45694, 45695, 45696, 45697, 45698, 45699, 45700, 45701,\n",
       "       45702, 45703, 45704, 45705, 45706, 45707, 45708, 45709, 45710,\n",
       "       45711, 45712, 45713, 45714, 45715, 45716, 45717, 45718, 45719,\n",
       "       45720, 45721, 45722, 45723, 45724, 45725, 45726, 45727, 45728,\n",
       "       45729, 45730, 45731, 45732, 45733, 45734, 45735, 45736, 45737,\n",
       "       45738, 45739, 45740, 45741, 45742, 45743, 45744, 45745, 45746,\n",
       "       45747, 45748, 45749, 45750, 45751, 45752, 45753, 45754, 45755,\n",
       "       45756, 45757, 45758, 45759, 45760, 45761, 45762, 45763, 45764,\n",
       "       45765, 45766, 45767, 45768, 45769, 45770, 45771, 45772, 45773,\n",
       "       45774, 45775, 45776, 45777, 45778, 45779, 45780, 45781, 45782,\n",
       "       45783, 45784, 45785, 45786, 45787, 45788, 45789, 45790, 45791,\n",
       "       45792, 45793, 45794, 45795, 45796, 45797, 45798, 45799, 45800,\n",
       "       45801, 45802, 45803, 45804, 45805, 45806, 45807, 45808, 45809,\n",
       "       45810, 45811, 45812, 45813, 45814, 45815, 45816, 45817, 45818,\n",
       "       45819, 45820, 45821, 45822, 45823, 45824, 45825, 45826, 45827,\n",
       "       45828, 45829, 45830, 45831, 45832, 45833, 45834, 45835, 45836,\n",
       "       45837, 45838, 45839, 45840, 45841, 45842, 45843, 45844, 45845,\n",
       "       45846, 45847, 45848, 45849, 45850, 45851, 45852, 45853, 45854,\n",
       "       45855, 45856, 45857, 45858, 45859, 45860, 45861, 45862, 45863,\n",
       "       45864, 45865, 45866, 45867, 45868, 45869, 45870, 45871, 45872,\n",
       "       45873, 45874, 45875, 45876, 45877, 45878, 45879, 45880, 45881,\n",
       "       45882, 45883, 45884, 45885, 45886, 45887, 45888, 45889, 45890,\n",
       "       45891, 45892, 45893, 45894, 45895, 45896, 45897, 45898, 45899,\n",
       "       45900, 45901, 45902, 45903, 45904, 45905, 45906, 45907, 45908,\n",
       "       45909, 45910, 45911, 45912, 45913, 45914, 45915, 45916, 45917,\n",
       "       45918, 45919, 45920, 45921, 45922, 45923, 45924, 45925, 45926,\n",
       "       45927, 45928, 45929, 45930, 45931, 45932, 45933, 45934, 45935,\n",
       "       45936, 45937, 45938, 45939, 45940, 45941, 45942, 45943, 45944,\n",
       "       45945, 45946, 45947, 45948, 45949, 45950, 45951, 45952, 45953,\n",
       "       45954, 45955, 45956, 45957, 45958, 45959, 45960, 45961, 45962,\n",
       "       45963, 45964, 45965, 45966, 45967, 45968, 45969, 45970, 45971,\n",
       "       45972, 45973, 45974, 45975, 45976, 45977, 45978, 45979, 45980,\n",
       "       45981, 45982, 45983, 45984, 45985, 45986, 45987, 45988, 45989,\n",
       "       45990, 45991, 45992, 45993, 45994, 45995, 45996, 45997, 45998,\n",
       "       45999, 46000, 46001, 46002, 46003, 46004, 46005, 46006, 46007,\n",
       "       46008, 46009, 46010, 46011, 46012, 46013, 46014, 46015, 46016,\n",
       "       46017, 46018, 46019, 46020, 46021, 46022, 46023, 46024, 46025,\n",
       "       46026, 46027, 46028, 46029, 46030, 46031, 46032, 46033, 46034,\n",
       "       46035, 46036, 46037, 46038, 46039, 46040, 46041, 46042, 46043,\n",
       "       46044, 46045, 46046, 46047, 46048, 46049, 46050, 46051, 46052,\n",
       "       46053, 46054, 46055, 46056, 46057, 46058, 46059, 46060, 46061,\n",
       "       46062, 46063, 46064, 46065, 46066, 46067, 46068, 46069, 46070,\n",
       "       46071, 46072, 46073, 46074, 46075, 46076, 46077, 46078, 46079,\n",
       "       46080, 46081, 46082, 46083, 46084, 46085, 46086, 46087, 46088,\n",
       "       46089, 46090, 46091, 46092, 46093, 46094, 46095, 46096, 46097,\n",
       "       46098, 46099, 46100, 46101, 46102, 46103, 46104, 46105, 46106,\n",
       "       46107, 46108, 46109, 46110, 46111, 46112, 46113, 46114, 46115,\n",
       "       46116, 46117, 46118, 46119, 46120, 46121, 46122, 46123, 46124,\n",
       "       46125, 46126, 46127, 46128, 46129, 46130, 46131, 46132, 46133,\n",
       "       46134, 46135, 46136, 46137, 46138, 46139, 46140, 46141, 46142,\n",
       "       46143, 46144, 46145, 46146, 46147, 46148, 46149, 46150, 46151,\n",
       "       46152, 46153, 46154, 46155, 46156, 46157, 46158, 46159, 46160,\n",
       "       46161, 46162, 46163, 46164, 46165, 46166, 46167, 46168, 46169,\n",
       "       46170, 46171, 46172, 46173, 46174, 46175, 46176, 46177, 46178,\n",
       "       46179, 46180, 46181, 46182, 46183, 46184, 46185, 46186, 46187,\n",
       "       46188, 46189, 46190, 46191, 46192, 46193, 46194, 46195, 46196,\n",
       "       46197, 46198, 46199, 46200, 46201, 46202, 46203, 46204, 46205,\n",
       "       46206, 46207, 46208, 46209, 46210, 46211, 46212, 46213, 46214,\n",
       "       46215, 46216, 46217, 46218, 46219, 46220, 46221, 46222, 46223,\n",
       "       46224, 46225, 46226, 46227, 46228, 46229, 46230, 46231, 46232,\n",
       "       46233, 46234, 46235, 46236, 46237, 46238, 46239, 46240, 46241,\n",
       "       46242, 46243, 46244, 46245, 46246, 46247, 46248, 46249, 46250,\n",
       "       46251, 46252, 46253, 46254, 46255, 46256, 46257, 46258, 46259,\n",
       "       46260, 46261, 46262, 46263, 46264, 46265, 46266, 46267, 46268,\n",
       "       46269, 46270, 46271, 46272, 46273, 46274, 46275, 46276, 46277,\n",
       "       46278, 46279, 46280, 46281, 46282, 46283, 46284, 46285, 46286,\n",
       "       46287, 46288, 46289, 46290, 46291, 46292, 46293, 46294, 46295,\n",
       "       46296, 46297, 46298, 46299, 46300, 46301, 46302, 46303, 46304,\n",
       "       46305, 46306, 46307, 46308, 46309, 46310, 46311, 46312, 46313,\n",
       "       46314, 46315, 46316, 46317, 46318, 46319, 46320, 46321, 46322,\n",
       "       46323, 46324, 46325, 46326, 46327, 46328, 46329, 46330, 46331,\n",
       "       46332, 46333, 46334, 46335, 46336, 46337, 46338, 46339, 46340,\n",
       "       46341, 46342, 46343, 46344, 46345, 46346, 46347, 46348, 46349,\n",
       "       46350, 46351, 46352, 46353, 46354, 46355, 46356, 46357, 46358,\n",
       "       46359, 46360, 46361, 46362, 46363, 46364, 46365, 46366, 46367,\n",
       "       46368, 46369, 46370, 46371, 46372, 46373, 46374, 46375, 46376,\n",
       "       46377, 46378, 46379, 46380, 46381, 46382, 46383, 46384, 46385,\n",
       "       46386, 46387, 46388, 46389, 46390, 46391, 46392, 46393, 46394,\n",
       "       46395, 46396, 46397, 46398, 46399, 46400, 46401, 46402, 46403,\n",
       "       46404, 46405, 46406, 46407, 46408, 46409, 46410, 46411, 46412,\n",
       "       46413, 46414, 46415, 46416, 46417, 46418, 46419, 46420, 46421,\n",
       "       46422, 46423, 46424, 46425, 46426, 46427, 46428, 46429, 46430,\n",
       "       46431, 46432, 46433, 46434, 46435, 46436, 46437, 46438, 46439,\n",
       "       46440, 46441, 46442, 46443, 46444, 46445, 46446, 46447, 46448,\n",
       "       46449, 46450, 46451, 46452, 46453, 46454, 46455, 46456, 46457,\n",
       "       46458, 46459, 46460, 46461, 46462, 46463, 46464, 46465, 46466,\n",
       "       46467, 46468, 46469, 46470, 46471, 46472, 46473, 46474, 46475,\n",
       "       46476, 46477, 46478, 46479, 46480, 46481, 46482, 46483, 46484,\n",
       "       46485, 46486, 46487, 46488, 46489, 46490, 46491, 46492, 46493,\n",
       "       46494, 46495, 46496, 46497, 46498, 46499, 46500, 46501, 46502,\n",
       "       46503, 46504, 46505, 46506, 46507, 46508, 46509, 46510, 46511,\n",
       "       46512, 46513, 46514, 46515, 46516, 46517, 46518, 46519, 46520,\n",
       "       46521, 46522, 46523, 46524, 46525, 46526, 46527, 46528, 46529,\n",
       "       46530, 46531, 46532, 46533, 46534, 46535, 46536, 46537, 46538,\n",
       "       46539, 46540, 46541, 46542, 46543, 46544, 46545, 46546, 46547,\n",
       "       46548, 46549, 46550, 46551, 46552, 46553, 46554, 46555, 46556,\n",
       "       46557, 46558, 46559, 46560, 46561, 46562, 46563, 46564, 46565,\n",
       "       46566, 46567, 46568, 46569, 46570, 46571, 46572, 46573, 46574,\n",
       "       46575, 46576, 46577, 46578, 46579, 46580, 46581, 46582, 46583,\n",
       "       46584, 46585, 46586, 46587, 46588, 46589, 46590, 46591, 46592,\n",
       "       46593, 46594, 46595, 46596, 46597, 46598, 46599, 46600, 46601,\n",
       "       46602, 46603, 46604, 46605, 46606, 46607, 46608, 46609, 46610,\n",
       "       46611, 46612, 46613, 46614, 46615, 46616, 46617, 46618, 46619,\n",
       "       46620, 46621, 46622, 46623, 46624, 46625, 46626, 46627, 46628,\n",
       "       46629, 46630, 46631, 46632, 46633, 46634, 46635, 46636, 46637,\n",
       "       46638, 46639, 46640, 46641, 46642, 46643, 46644, 46645, 46646,\n",
       "       46647, 46648, 46649, 46650, 46651, 46652, 46653, 46654, 46655,\n",
       "       46656, 46657, 46658, 46659, 46660, 46661, 46662, 46663, 46664,\n",
       "       46665, 46666, 46667, 46668, 46669, 46670, 46671, 46672, 46673,\n",
       "       46674, 46675, 46676, 46677, 46678, 46679, 46680, 46681, 46682,\n",
       "       46683, 46684, 46685, 46686, 46687, 46688, 46689, 46690, 46691,\n",
       "       46692, 46693, 46694, 46695, 46696, 46697, 46698, 46699, 46700,\n",
       "       46701, 46702, 46703, 46704, 46705, 46706, 46707, 46708, 46709,\n",
       "       46710, 46711, 46712, 46713, 46714, 46715, 46716, 46717, 46718,\n",
       "       46719, 46720, 46721, 46722, 46723, 46724, 46725, 46726, 46727,\n",
       "       46728, 46729, 46730, 46731, 46732, 46733, 46734, 46735, 46736,\n",
       "       46737, 46738, 46739, 46740, 46741, 46742, 46743, 46744, 46745,\n",
       "       46746, 46747, 46748, 46749, 46750, 46751, 46752, 46753, 46754,\n",
       "       46755, 46756, 46757, 46758, 46759, 46760, 46761, 46762, 46763,\n",
       "       46764, 46765, 46766, 46767, 46768, 46769, 46770, 46771, 46772,\n",
       "       46773, 46774, 46775, 46776, 46777, 46778, 46779, 46780, 46781,\n",
       "       46782, 46783, 46784, 46785, 46786, 46787, 46788, 46789, 46790,\n",
       "       46791, 46792, 46793, 46794, 46795, 46796, 46797, 46798, 46799,\n",
       "       46800, 46801, 46802, 46803, 46804, 46805, 46806, 46807, 46808,\n",
       "       46809, 46810, 46811, 46812, 46813, 46814, 46815, 46816, 46817,\n",
       "       46818, 46819, 46820, 46821, 46822, 46823, 46824, 46825, 46826,\n",
       "       46827, 46828, 46829, 46830, 46831, 46832, 46833, 46834, 46835,\n",
       "       46836, 46837, 46838, 46839, 46840, 46841, 46842, 46843, 46844,\n",
       "       46845, 46846, 46847, 46848, 46849, 46850, 46851, 46852, 46853,\n",
       "       46854, 46855, 46856, 46857, 46858, 46859, 46860, 46861, 46862,\n",
       "       46863, 46864, 46865, 46866, 46867, 46868, 46869, 46870, 46871,\n",
       "       46872, 46873, 46874, 46875, 46876, 46877, 46878, 46879, 46880,\n",
       "       46881, 46882, 46883, 46884, 46885, 46886, 46887, 46888, 46889,\n",
       "       46890, 46891, 46892, 46893, 46894, 46895, 46896, 46897, 46898,\n",
       "       46899, 46900, 46901, 46902, 46903, 46904, 46905, 46906, 46907,\n",
       "       46908, 46909, 46910, 46911, 46912, 46913, 46914, 46915, 46916,\n",
       "       46917, 46918, 46919, 46920, 46921, 46922, 46923, 46924, 46925,\n",
       "       46926, 46927, 46928, 46929, 46930, 46931, 46932, 46933, 46934,\n",
       "       46935, 46936, 46937, 46938, 46939, 46940, 46941, 46942, 46943,\n",
       "       46944, 46945, 46946, 46947, 46948, 46949, 46950, 46951, 46952,\n",
       "       46953, 46954, 46955, 46956, 46957, 46958, 46959, 46960, 46961,\n",
       "       46962, 46963, 46964, 46965, 46966, 46967, 46968, 46969, 46970,\n",
       "       46971, 46972, 46973, 46974, 46975, 46976, 46977, 46978, 46979,\n",
       "       46980, 46981, 46982, 46983, 46984, 46985, 46986, 46987, 46988,\n",
       "       46989, 46990, 46991, 46992, 46993, 46994, 46995, 46996, 46997,\n",
       "       46998, 46999, 47000, 47001, 47002, 47003, 47004, 47005, 47006,\n",
       "       47007, 47008, 47009, 47010, 47011, 47012, 47013, 47014, 47015,\n",
       "       47016, 47017, 47018, 47019, 47020, 47021, 47022, 47023, 47024,\n",
       "       47025, 47026, 47027, 47028, 47029, 47030, 47031, 47032, 47033,\n",
       "       47034, 47035, 47036, 47037, 47038, 47039, 47040, 47041, 47042,\n",
       "       47043, 47044, 47045, 47046, 47047, 47048, 47049, 47050, 47051,\n",
       "       47052, 47053, 47054, 47055, 47056, 47057, 47058, 47059, 47060,\n",
       "       47061, 47062, 47063, 47064, 47065, 47066, 47067, 47068, 47069,\n",
       "       47070, 47071, 47072, 47073, 47074, 47075, 47076, 47077, 47078,\n",
       "       47079, 47080, 47081, 47082, 47083, 47084, 47085, 47086, 47087,\n",
       "       47088, 47089, 47090, 47091, 47092, 47093, 47094, 47095, 47096,\n",
       "       47097, 47098, 47099, 47100, 47101, 47102, 47103, 47104, 47105,\n",
       "       47106, 47107, 47108, 47109, 47110, 47111, 47112, 47113, 47114,\n",
       "       47115, 47116, 47117, 47118, 47119, 47120, 47121, 47122, 47123,\n",
       "       47124, 47125, 47126, 47127, 47128, 47129, 47130, 47131, 47132,\n",
       "       47133, 47134, 47135, 47136, 47137, 47138, 47139, 47140, 47141,\n",
       "       47142, 47143, 47144, 47145, 47146, 47147, 47148, 47149, 47150,\n",
       "       47151, 47152, 47153, 47154, 47155, 47156, 47157, 47158, 47159,\n",
       "       47160, 47161, 47162, 47163, 47164, 47165, 47166, 47167, 47168,\n",
       "       47169, 47170, 47171, 47172, 47173, 47174, 47175, 47176, 47177,\n",
       "       47178, 47179, 47180, 47181, 47182, 47183, 47184, 47185, 47186,\n",
       "       47187, 47188, 47189, 47190, 47191, 47192, 47193, 47194, 47195,\n",
       "       47196, 47197, 47198, 47199, 47200, 47201, 47202, 47203, 47204,\n",
       "       47205, 47206, 47207, 47208, 47209, 47210, 47211, 47212, 47213,\n",
       "       47214, 47215, 47216, 47217, 47218, 47219, 47220, 47221, 47222,\n",
       "       47223, 47224, 47225, 47226, 47227, 47228, 47229, 47230, 47231,\n",
       "       47232, 47233, 47234, 47235, 47236, 47237, 47238, 47239, 47240,\n",
       "       47241, 47242, 47243, 47244, 47245, 47246, 47247, 47248, 47249,\n",
       "       47250, 47251, 47252, 47253, 47254, 47255, 47256, 47257, 47258,\n",
       "       47259, 47260, 47261, 47262, 47263, 47264, 47265, 47266, 47267,\n",
       "       47268, 47269, 47270, 47271, 47272, 47273, 47274, 47275, 47276,\n",
       "       47277, 47278, 47279, 47280, 47281, 47282, 47283, 47284, 47285,\n",
       "       47286, 47287, 47288, 47289, 47290, 47291, 47292, 47293, 47294,\n",
       "       47295, 47296, 47297, 47298, 47299, 47300, 47301, 47302, 47303,\n",
       "       47304, 47305, 47306, 47307, 47308, 47309, 47310, 47311, 47312,\n",
       "       47313, 47314, 47315, 47316, 47317, 47318, 47319, 47320, 47321,\n",
       "       47322, 47323, 47324, 47325, 47326, 47327, 47328, 47329, 47330,\n",
       "       47331, 47332, 47333, 47334, 47335, 47336, 47337, 47338, 47339,\n",
       "       47340, 47341, 47342, 47343, 47344, 47345, 47346, 47347, 47348,\n",
       "       47349, 47350, 47351, 47352, 47353, 47354, 47355, 47356, 47357,\n",
       "       47358, 47359, 47360, 47361, 47362, 47363, 47364, 47365, 47366,\n",
       "       47367, 47368, 47369, 47370, 47371, 47372, 47373, 47374, 47375,\n",
       "       47376, 47377, 47378, 47379, 47380, 47381, 47382, 47383, 47384,\n",
       "       47385, 47386, 47387, 47388, 47389, 47390, 47391, 47392, 47393,\n",
       "       47394, 47395, 47396, 47397, 47398, 47399, 47400, 47401, 47402,\n",
       "       47403, 47404, 47405, 47406, 47407, 47408, 47409, 47410, 47411,\n",
       "       47412, 47413, 47414, 47415, 47416, 47417, 47418, 47419, 47420,\n",
       "       47421, 47422, 47423, 47424, 47425, 47426, 47427, 47428, 47429,\n",
       "       47430, 47431, 47432, 47433, 47434, 47435, 47436, 47437, 47438,\n",
       "       47439, 47440, 47441, 47442, 47443, 47444, 47445, 47446, 47447,\n",
       "       47448, 47449, 47450, 47451, 47452, 47453, 47454, 47455, 47456,\n",
       "       47457, 47458, 47459, 47460, 47461, 47462, 47463, 47464, 47465,\n",
       "       47466, 47467, 47468, 47469, 47470, 47471, 47472, 47473, 47474,\n",
       "       47475, 47476, 47477, 47478, 47479, 47480, 47481, 47482, 47483,\n",
       "       47484, 47485, 47486, 47487, 47488, 47489, 47490, 47491, 47492,\n",
       "       47493, 47494, 47495, 47496, 47497, 47498, 47499, 47500, 47501,\n",
       "       47502, 47503, 47504, 47505, 47506, 47507, 47508, 47509, 47510,\n",
       "       47511, 47512, 47513, 47514, 47515, 47516, 47517, 47518, 47519,\n",
       "       47520, 47521, 47522, 47523, 47524, 47525, 47526, 47527, 47528,\n",
       "       47529, 47530, 47531, 47532, 47533, 47534, 47535, 47536, 47537,\n",
       "       47538, 47539, 47540, 47541, 47542, 47543, 47544, 47545, 47546,\n",
       "       47547, 47548, 47549, 47550, 47551, 47552, 47553, 47554, 47555,\n",
       "       47556, 47557, 47558, 47559, 47560, 47561, 47562, 47563, 47564,\n",
       "       47565, 47566, 47567, 47568, 47569, 47570, 47571, 47572, 47573,\n",
       "       47574, 47575, 47576, 47577, 47578, 47579, 47580, 47581, 47582,\n",
       "       47583, 47584, 47585, 47586, 47587, 47588, 47589, 47590, 47591,\n",
       "       47592, 47593, 47594, 47595, 47596, 47597, 47598, 47599, 47600,\n",
       "       47601, 47602, 47603, 47604, 47605, 47606, 47607, 47608, 47609,\n",
       "       47610, 47611, 47612, 47613, 47614, 47615, 47616, 47617, 47618,\n",
       "       47619, 47620, 47621, 47622, 47623, 47624, 47625, 47626, 47627,\n",
       "       47628, 47629, 47630, 47631, 47632, 47633, 47634, 47635, 47636,\n",
       "       47637, 47638, 47639, 47640, 47641, 47642, 47643, 47644, 47645,\n",
       "       47646, 47647, 47648, 47649, 47650, 47651, 47652, 47653, 47654,\n",
       "       47655, 47656, 47657, 47658, 47659, 47660, 47661, 47662, 47663,\n",
       "       47664, 47665, 47666, 47667, 47668, 47669, 47670, 47671, 47672,\n",
       "       47673, 47674, 47675, 47676, 47677, 47678, 47679, 47680, 47681,\n",
       "       47682, 47683, 47684, 47685, 47686, 47687, 47688, 47689, 47690,\n",
       "       47691, 47692, 47693, 47694, 47695, 47696, 47697, 47698, 47699,\n",
       "       47700, 47701, 47702, 47703, 47704, 47705, 47706, 47707, 47708,\n",
       "       47709, 47710, 47711, 47712, 47713, 47714, 47715, 47716, 47717,\n",
       "       47718, 47719, 47720, 47721, 47722, 47723, 47724, 47725, 47726,\n",
       "       47727, 47728, 47729, 47730, 47731, 47732, 47733, 47734, 47735,\n",
       "       47736, 47737, 47738, 47739, 47740, 47741, 47742, 47743, 47744,\n",
       "       47745, 47746, 47747, 47748, 47749, 47750, 47751, 47752, 47753,\n",
       "       47754, 47755, 47756, 47757, 47758, 47759, 47760, 47761, 47762,\n",
       "       47763, 47764, 47765, 47766, 47767, 47768, 47769, 47770, 47771,\n",
       "       47772, 47773, 47774, 47775, 47776, 47777, 47778, 47779, 47780,\n",
       "       47781, 47782, 47783, 47784, 47785, 47786, 47787, 47788, 47789,\n",
       "       47790, 47791, 47792, 47793, 47794, 47795, 47796, 47797, 47798,\n",
       "       47799, 47800, 47801, 47802, 47803, 47804, 47805, 47806, 47807,\n",
       "       47808, 47809, 47810, 47811, 47812, 47813, 47814, 47815, 47816,\n",
       "       47817, 47818, 47819, 47820, 47821, 47822, 47823, 47824, 47825,\n",
       "       47826, 47827, 47828, 47829, 47830, 47831, 47832, 47833, 47834,\n",
       "       47835, 47836, 47837, 47838, 47839, 47840, 47841, 47842, 47843,\n",
       "       47844, 47845, 47846, 47847, 47848, 47849, 47850, 47851, 47852,\n",
       "       47853, 47854, 47855, 47856, 47857, 47858, 47859, 47860, 47861,\n",
       "       47862, 47863, 47864, 47865, 47866, 47867, 47868, 47869, 47870,\n",
       "       47871, 47872, 47873, 47874, 47875, 47876, 47877, 47878, 47879,\n",
       "       47880, 47881, 47882, 47883, 47884, 47885, 47886, 47887, 47888,\n",
       "       47889, 47890, 47891, 47892, 47893, 47894, 47895, 47896, 47897,\n",
       "       47898, 47899, 47900, 47901, 47902, 47903, 47904, 47905, 47906,\n",
       "       47907, 47908, 47909, 47910, 47911, 47912, 47913, 47914, 47915,\n",
       "       47916, 47917, 47918, 47919, 47920, 47921, 47922, 47923, 47924,\n",
       "       47925, 47926, 47927, 47928, 47929, 47930, 47931, 47932, 47933,\n",
       "       47934, 47935, 47936, 47937, 47938, 47939, 47940, 47941, 47942,\n",
       "       47943, 47944, 47945, 47946, 47947, 47948, 47949, 47950, 47951,\n",
       "       47952, 47953, 47954, 47955, 47956, 47957, 47958, 47959, 47960,\n",
       "       47961, 47962, 47963, 47964, 47965, 47966, 47967, 47968, 47969,\n",
       "       47970, 47971, 47972, 47973, 47974, 47975, 47976, 47977, 47978,\n",
       "       47979, 47980, 47981, 47982, 47983, 47984, 47985, 47986, 47987,\n",
       "       47988, 47989, 47990, 47991, 47992, 47993, 47994, 47995, 47996,\n",
       "       47997, 47998, 47999, 48000, 48001, 48002, 48003, 48004, 48005,\n",
       "       48006, 48007, 48008, 48009, 48010, 48011, 48012, 48013, 48014,\n",
       "       48015, 48016, 48017, 48018, 48019, 48020, 48021, 48022, 48023,\n",
       "       48024, 48025, 48026, 48027, 48028, 48029, 48030, 48031, 48032,\n",
       "       48033, 48034, 48035, 48036, 48037, 48038, 48039, 48040, 48041,\n",
       "       48042, 48043, 48044, 48045, 48046, 48047, 48048, 48049, 48050,\n",
       "       48051, 48052, 48053, 48054, 48055, 48056, 48057, 48058, 48059,\n",
       "       48060, 48061, 48062, 48063, 48064, 48065, 48066, 48067, 48068,\n",
       "       48069, 48070, 48071, 48072, 48073, 48074, 48075, 48076, 48077,\n",
       "       48078, 48079, 48080, 48081, 48082, 48083, 48084, 48085, 48086,\n",
       "       48087, 48088, 48089, 48090, 48091, 48092, 48093, 48094, 48095,\n",
       "       48096, 48097, 48098, 48099, 48100, 48101, 48102, 48103, 48104,\n",
       "       48105, 48106, 48107, 48108, 48109, 48110, 48111, 48112, 48113,\n",
       "       48114, 48115, 48116, 48117, 48118, 48119, 48120, 48121, 48122,\n",
       "       48123, 48124, 48125, 48126, 48127, 48128, 48129, 48130, 48131,\n",
       "       48132, 48133, 48134, 48135, 48136, 48137, 48138, 48139, 48140,\n",
       "       48141, 48142, 48143, 48144, 48145, 48146, 48147, 48148, 48149,\n",
       "       48150, 48151, 48152, 48153, 48154, 48155, 48156, 48157, 48158,\n",
       "       48159, 48160, 48161, 48162, 48163, 48164, 48165, 48166, 48167,\n",
       "       48168, 48169, 48170, 48171, 48172, 48173, 48174, 48175, 48176,\n",
       "       48177, 48178, 48179, 48180, 48181, 48182, 48183, 48184, 48185,\n",
       "       48186, 48187, 48188, 48189, 48190, 48191, 48192, 48193, 48194,\n",
       "       48195, 48196, 48197, 48198, 48199, 48200, 48201, 48202, 48203,\n",
       "       48204, 48205, 48206, 48207, 48208, 48209, 48210, 48211, 48212,\n",
       "       48213, 48214, 48215, 48216, 48217, 48218, 48219, 48220, 48221,\n",
       "       48222, 48223, 48224, 48225, 48226, 48227, 48228, 48229, 48230,\n",
       "       48231, 48232, 48233, 48234, 48235, 48236, 48237, 48238, 48239,\n",
       "       48240, 48241, 48242, 48243, 48244, 48245, 48246, 48247, 48248,\n",
       "       48249, 48250, 48251, 48252, 48253, 48254, 48255, 48256, 48257,\n",
       "       48258, 48259, 48260, 48261, 48262, 48263, 48264, 48265, 48266,\n",
       "       48267, 48268, 48269, 48270, 48271, 48272, 48273, 48274, 48275,\n",
       "       48276, 48277, 48278, 48279, 48280, 48281, 48282, 48283, 48284,\n",
       "       48285, 48286, 48287, 48288, 48289, 48290, 48291, 48292, 48293,\n",
       "       48294, 48295, 48296, 48297, 48298, 48299, 48300, 48301, 48302,\n",
       "       48303, 48304, 48305, 48306, 48307, 48308, 48309, 48310, 48311,\n",
       "       48312, 48313, 48314, 48315, 48316, 48317, 48318, 48319, 48320,\n",
       "       48321, 48322, 48323, 48324, 48325, 48326, 48327, 48328, 48329,\n",
       "       48330, 48331, 48332, 48333, 48334, 48335, 48336, 48337, 48338,\n",
       "       48339, 48340, 48341, 48342, 48343, 48344, 48345, 48346, 48347,\n",
       "       48348, 48349, 48350, 48351, 48352, 48353, 48354, 48355, 48356,\n",
       "       48357, 48358, 48359, 48360, 48361, 48362, 48363, 48364, 48365,\n",
       "       48366, 48367, 48368, 48369, 48370, 48371, 48372, 48373, 48374,\n",
       "       48375, 48376, 48377, 48378, 48379, 48380, 48381, 48382, 48383,\n",
       "       48384, 48385, 48386, 48387, 48388, 48389, 48390, 48391, 48392,\n",
       "       48393, 48394, 48395, 48396, 48397, 48398, 48399, 48400, 48401,\n",
       "       48402, 48403, 48404, 48405, 48406, 48407, 48408, 48409, 48410,\n",
       "       48411, 48412, 48413, 48414, 48415, 48416, 48417, 48418, 48419,\n",
       "       48420, 48421, 48422, 48423, 48424, 48425, 48426, 48427, 48428,\n",
       "       48429, 48430, 48431, 48432, 48433, 48434, 48435, 48436, 48437,\n",
       "       48438, 48439, 48440, 48441, 48442, 48443, 48444, 48445, 48446,\n",
       "       48447, 48448, 48449, 48450, 48451, 48452, 48453, 48454, 48455,\n",
       "       48456, 48457, 48458, 48459, 48460, 48461, 48462, 48463, 48464,\n",
       "       48465, 48466, 48467, 48468, 48469, 48470, 48471, 48472, 48473,\n",
       "       48474, 48475, 48476, 48477, 48478, 48479, 48480, 48481, 48482,\n",
       "       48483, 48484, 48485, 48486, 48487, 48488, 48489, 48490, 48491,\n",
       "       48492, 48493, 48494, 48495, 48496, 48497, 48498, 48499, 48500,\n",
       "       48501, 48502, 48503, 48504, 48505, 48506, 48507, 48508, 48509,\n",
       "       48510, 48511, 48512, 48513, 48514, 48515, 48516, 48517, 48518,\n",
       "       48519, 48520, 48521, 48522, 48523, 48524, 48525, 48526, 48527,\n",
       "       48528, 48529, 48530, 48531, 48532, 48533, 48534, 48535, 48536,\n",
       "       48537, 48538, 48539, 48540, 48541, 48542, 48543, 48544, 48545,\n",
       "       48546, 48547, 48548, 48549, 48550, 48551, 48552, 48553, 48554,\n",
       "       48555, 48556, 48557, 48558, 48559, 48560, 48561, 48562, 48563,\n",
       "       48564, 48565, 48566, 48567, 48568, 48569, 48570, 48571, 48572,\n",
       "       48573, 48574, 48575, 48576, 48577, 48578, 48579, 48580, 48581,\n",
       "       48582, 48583, 48584, 48585, 48586, 48587, 48588, 48589, 48590,\n",
       "       48591, 48592, 48593, 48594, 48595, 48596, 48597, 48598, 48599,\n",
       "       48600, 48601, 48602, 48603, 48604, 48605, 48606, 48607, 48608,\n",
       "       48609, 48610, 48611, 48612, 48613, 48614, 48615, 48616, 48617,\n",
       "       48618, 48619, 48620, 48621, 48622, 48623, 48624, 48625, 48626,\n",
       "       48627, 48628, 48629, 48630, 48631, 48632, 48633, 48634, 48635,\n",
       "       48636, 48637, 48638, 48639, 48640, 48641, 48642, 48643, 48644,\n",
       "       48645, 48646, 48647, 48648, 48649, 48650, 48651, 48652, 48653,\n",
       "       48654, 48655, 48656, 48657, 48658, 48659, 48660, 48661, 48662,\n",
       "       48663, 48664, 48665, 48666, 48667, 48668, 48669, 48670, 48671,\n",
       "       48672, 48673, 48674, 48675, 48676, 48677, 48678, 48679, 48680,\n",
       "       48681, 48682, 48683, 48684, 48685, 48686, 48687, 48688, 48689,\n",
       "       48690, 48691, 48692, 48693, 48694, 48695, 48696, 48697, 48698,\n",
       "       48699, 48700, 48701, 48702, 48703, 48704, 48705, 48706, 48707,\n",
       "       48708, 48709, 48710, 48711, 48712, 48713, 48714, 48715, 48716,\n",
       "       48717, 48718, 48719, 48720, 48721, 48722, 48723, 48724, 48725,\n",
       "       48726, 48727, 48728, 48729, 48730, 48731, 48732, 48733, 48734,\n",
       "       48735, 48736, 48737, 48738, 48739, 48740, 48741, 48742, 48743,\n",
       "       48744, 48745, 48746, 48747, 48748, 48749, 48750, 48751, 48752,\n",
       "       48753, 48754, 48755, 48756, 48757, 48758, 48759, 48760, 48761,\n",
       "       48762, 48763, 48764, 48765, 48766, 48767, 48768, 48769, 48770,\n",
       "       48771, 48772, 48773, 48774, 48775, 48776, 48777, 48778, 48779,\n",
       "       48780, 48781, 48782, 48783, 48784, 48785, 48786, 48787, 48788,\n",
       "       48789, 48790, 48791, 48792, 48793, 48794, 48795, 48796, 48797,\n",
       "       48798, 48799, 48800, 48801, 48802, 48803, 48804, 48805, 48806,\n",
       "       48807, 48808, 48809, 48810, 48811, 48812, 48813, 48814, 48815,\n",
       "       48816, 48817, 48818, 48819, 48820, 48821, 48822, 48823, 48824,\n",
       "       48825, 48826, 48827, 48828, 48829, 48830, 48831, 48832, 48833,\n",
       "       48834, 48835, 48836, 48837, 48838, 48839, 48840, 48841, 48842,\n",
       "       48843, 48844, 48845, 48846, 48847, 48848, 48849, 48850, 48851,\n",
       "       48852, 48853, 48854, 48855, 48856, 48857, 48858, 48859, 48860,\n",
       "       48861, 48862, 48863, 48864, 48865, 48866, 48867, 48868, 48869,\n",
       "       48870, 48871, 48872, 48873, 48874, 48875, 48876, 48877, 48878,\n",
       "       48879, 48880, 48881, 48882, 48883, 48884, 48885, 48886, 48887,\n",
       "       48888, 48889, 48890, 48891, 48892, 48893, 48894, 48895, 48896,\n",
       "       48897, 48898, 48899, 48900, 48901, 48902, 48903, 48904, 48905,\n",
       "       48906, 48907, 48908, 48909, 48910, 48911, 48912, 48913, 48914,\n",
       "       48915, 48916, 48917, 48918, 48919, 48920, 48921, 48922, 48923,\n",
       "       48924, 48925, 48926, 48927, 48928, 48929, 48930, 48931, 48932,\n",
       "       48933, 48934, 48935, 48936, 48937, 48938, 48939, 48940, 48941,\n",
       "       48942, 48943, 48944, 48945, 48946, 48947, 48948, 48949, 48950,\n",
       "       48951, 48952, 48953, 48954, 48955, 48956, 48957, 48958, 48959,\n",
       "       48960, 48961, 48962, 48963, 48964, 48965, 48966, 48967, 48968,\n",
       "       48969, 48970, 48971, 48972, 48973, 48974, 48975, 48976, 48977,\n",
       "       48978, 48979, 48980, 48981, 48982, 48983, 48984, 48985, 48986,\n",
       "       48987, 48988, 48989, 48990, 48991, 48992, 48993, 48994, 48995,\n",
       "       48996, 48997, 48998, 48999, 49000, 49001, 49002, 49003, 49004,\n",
       "       49005, 49006, 49007, 49008, 49009, 49010, 49011, 49012, 49013,\n",
       "       49014, 49015, 49016, 49017, 49018, 49019, 49020, 49021, 49022,\n",
       "       49023, 49024, 49025, 49026, 49027, 49028, 49029, 49030, 49031,\n",
       "       49032, 49033, 49034, 49035, 49036, 49037, 49038, 49039, 49040,\n",
       "       49041, 49042, 49043, 49044, 49045, 49046, 49047, 49048, 49049,\n",
       "       49050, 49051, 49052, 49053, 49054, 49055, 49056, 49057, 49058,\n",
       "       49059, 49060, 49061, 49062, 49063, 49064, 49065, 49066, 49067,\n",
       "       49068, 49069, 49070, 49071, 49072, 49073, 49074, 49075, 49076,\n",
       "       49077, 49078, 49079, 49080, 49081, 49082, 49083, 49084, 49085,\n",
       "       49086, 49087, 49088, 49089, 49090, 49091, 49092, 49093, 49094,\n",
       "       49095, 49096, 49097, 49098, 49099, 49100, 49101, 49102, 49103,\n",
       "       49104, 49105, 49106, 49107, 49108, 49109, 49110, 49111, 49112,\n",
       "       49113, 49114, 49115, 49116, 49117, 49118, 49119, 49120, 49121,\n",
       "       49122, 49123, 49124, 49125, 49126, 49127, 49128, 49129, 49130,\n",
       "       49131, 49132, 49133, 49134, 49135, 49136, 49137, 49138, 49139,\n",
       "       49140, 49141, 49142, 49143, 49144, 49145, 49146, 49147, 49148,\n",
       "       49149, 49150, 49151, 49152, 49153, 49154, 49155, 49156, 49157,\n",
       "       49158, 49159, 49160, 49161, 49162, 49163, 49164, 49165, 49166,\n",
       "       49167, 49168, 49169, 49170, 49171, 49172, 49173, 49174, 49175,\n",
       "       49176, 49177, 49178, 49179, 49180, 49181, 49182, 49183, 49184,\n",
       "       49185, 49186, 49187, 49188, 49189, 49190, 49191, 49192, 49193,\n",
       "       49194, 49195, 49196, 49197, 49198, 49199, 49200, 49201, 49202,\n",
       "       49203, 49204, 49205, 49206, 49207, 49208, 49209, 49210, 49211,\n",
       "       49212, 49213, 49214, 49215, 49216, 49217, 49218, 49219, 49220,\n",
       "       49221, 49222, 49223, 49224, 49225, 49226, 49227, 49228, 49229,\n",
       "       49230, 49231, 49232, 49233, 49234, 49235, 49236, 49237, 49238,\n",
       "       49239, 49240, 49241, 49242, 49243, 49244, 49245, 49246, 49247,\n",
       "       49248, 49249, 49250, 49251, 49252, 49253, 49254, 49255, 49256,\n",
       "       49257, 49258, 49259, 49260, 49261, 49262, 49263, 49264, 49265,\n",
       "       49266, 49267, 49268, 49269, 49270, 49271, 49272, 49273, 49274,\n",
       "       49275, 49276, 49277, 49278, 49279, 49280, 49281, 49282, 49283,\n",
       "       49284, 49285, 49286, 49287, 49288, 49289, 49290, 49291, 49292,\n",
       "       49293, 49294, 49295, 49296, 49297, 49298, 49299, 49300, 49301,\n",
       "       49302, 49303, 49304, 49305, 49306, 49307, 49308, 49309, 49310,\n",
       "       49311, 49312, 49313, 49314, 49315, 49316, 49317, 49318, 49319,\n",
       "       49320, 49321, 49322, 49323, 49324, 49325, 49326, 49327, 49328,\n",
       "       49329, 49330, 49331, 49332, 49333, 49334, 49335, 49336, 49337,\n",
       "       49338, 49339, 49340, 49341, 49342, 49343, 49344, 49345, 49346,\n",
       "       49347, 49348, 49349, 49350, 49351, 49352, 49353, 49354, 49355,\n",
       "       49356, 49357, 49358, 49359, 49360, 49361, 49362, 49363, 49364,\n",
       "       49365, 49366, 49367, 49368, 49369, 49370, 49371, 49372, 49373,\n",
       "       49374, 49375, 49376, 49377, 49378, 49379, 49380, 49381, 49382,\n",
       "       49383, 49384, 49385, 49386, 49387, 49388, 49389, 49390, 49391,\n",
       "       49392, 49393, 49394, 49395, 49396, 49397, 49398, 49399, 49400,\n",
       "       49401, 49402, 49403, 49404, 49405, 49406, 49407, 49408, 49409,\n",
       "       49410, 49411, 49412, 49413, 49414, 49415, 49416, 49417, 49418,\n",
       "       49419, 49420, 49421, 49422, 49423, 49424, 49425, 49426, 49427,\n",
       "       49428, 49429, 49430, 49431, 49432, 49433, 49434, 49435, 49436,\n",
       "       49437, 49438, 49439, 49440, 49441, 49442, 49443, 49444, 49445,\n",
       "       49446, 49447, 49448, 49449, 49450, 49451, 49452, 49453, 49454,\n",
       "       49455, 49456, 49457, 49458, 49459, 49460, 49461, 49462, 49463,\n",
       "       49464, 49465, 49466, 49467, 49468, 49469, 49470, 49471, 49472,\n",
       "       49473, 49474, 49475, 49476, 49477, 49478, 49479, 49480, 49481,\n",
       "       49482, 49483, 49484, 49485, 49486, 49487, 49488, 49489, 49490,\n",
       "       49491, 49492, 49493, 49494, 49495, 49496, 49497, 49498, 49499,\n",
       "       49500, 49501, 49502, 49503, 49504, 49505, 49506, 49507, 49508,\n",
       "       49509, 49510, 49511, 49512, 49513, 49514, 49515, 49516, 49517,\n",
       "       49518, 49519, 49520, 49521, 49522, 49523, 49524, 49525, 49526,\n",
       "       49527, 49528, 49529, 49530, 49531, 49532, 49533, 49534, 49535,\n",
       "       49536, 49537, 49538, 49539, 49540, 49541, 49542, 49543, 49544,\n",
       "       49545, 49546, 49547, 49548, 49549, 49550, 49551, 49552, 49553,\n",
       "       49554, 49555, 49556, 49557, 49558, 49559, 49560, 49561, 49562,\n",
       "       49563, 49564, 49565, 49566, 49567, 49568, 49569, 49570, 49571,\n",
       "       49572, 49573, 49574, 49575, 49576, 49577, 49578, 49579, 49580,\n",
       "       49581, 49582, 49583, 49584, 49585, 49586, 49587, 49588, 49589,\n",
       "       49590, 49591, 49592, 49593, 49594, 49595, 49596, 49597, 49598,\n",
       "       49599, 49600, 49601, 49602, 49603, 49604, 49605, 49606, 49607,\n",
       "       49608, 49609, 49610, 49611, 49612, 49613, 49614, 49615, 49616,\n",
       "       49617, 49618, 49619, 49620, 49621, 49622, 49623, 49624, 49625,\n",
       "       49626, 49627, 49628, 49629, 49630, 49631, 49632, 49633, 49634,\n",
       "       49635, 49636, 49637, 49638, 49639, 49640, 49641, 49642, 49643,\n",
       "       49644, 49645, 49646, 49647, 49648, 49649, 49650, 49651, 49652,\n",
       "       49653, 49654, 49655, 49656, 49657, 49658, 49659, 49660, 49661,\n",
       "       49662, 49663, 49664, 49665, 49666, 49667, 49668, 49669, 49670,\n",
       "       49671, 49672, 49673, 49674, 49675, 49676, 49677, 49678, 49679,\n",
       "       49680, 49681, 49682, 49683, 49684, 49685, 49686, 49687, 49688,\n",
       "       49689, 49690, 49691, 49692, 49693, 49694, 49695, 49696, 49697,\n",
       "       49698, 49699, 49700, 49701, 49702, 49703, 49704, 49705, 49706,\n",
       "       49707, 49708, 49709, 49710, 49711, 49712, 49713, 49714, 49715,\n",
       "       49716, 49717, 49718, 49719, 49720, 49721, 49722, 49723, 49724,\n",
       "       49725, 49726, 49727, 49728, 49729, 49730, 49731, 49732, 49733,\n",
       "       49734, 49735, 49736, 49737, 49738, 49739, 49740, 49741, 49742,\n",
       "       49743, 49744, 49745, 49746, 49747, 49748, 49749, 49750, 49751,\n",
       "       49752, 49753, 49754, 49755, 49756, 49757, 49758, 49759, 49760,\n",
       "       49761, 49762, 49763, 49764, 49765, 49766, 49767, 49768, 49769,\n",
       "       49770, 49771, 49772, 49773, 49774, 49775, 49776, 49777, 49778,\n",
       "       49779, 49780, 49781, 49782, 49783, 49784, 49785, 49786, 49787,\n",
       "       49788, 49789, 49790, 49791, 49792, 49793, 49794, 49795, 49796,\n",
       "       49797, 49798, 49799, 49800, 49801, 49802, 49803, 49804, 49805,\n",
       "       49806, 49807, 49808, 49809, 49810, 49811, 49812, 49813, 49814,\n",
       "       49815, 49816, 49817, 49818, 49819, 49820, 49821, 49822, 49823,\n",
       "       49824, 49825, 49826, 49827, 49828, 49829, 49830, 49831, 49832,\n",
       "       49833, 49834, 49835, 49836, 49837, 49838, 49839, 49840, 49841,\n",
       "       49842, 49843, 49844, 49845, 49846, 49847, 49848, 49849, 49850,\n",
       "       49851, 49852, 49853, 49854, 49855, 49856, 49857, 49858, 49859,\n",
       "       49860, 49861, 49862, 49863, 49864, 49865, 49866, 49867, 49868,\n",
       "       49869, 49870, 49871, 49872, 49873, 49874, 49875, 49876, 49877,\n",
       "       49878, 49879, 49880, 49881, 49882, 49883, 49884, 49885, 49886,\n",
       "       49887, 49888, 49889, 49890, 49891, 49892, 49893, 49894, 49895,\n",
       "       49896, 49897, 49898, 49899, 49900, 49901, 49902, 49903, 49904,\n",
       "       49905, 49906, 49907, 49908, 49909, 49910, 49911, 49912, 49913,\n",
       "       49914, 49915, 49916, 49917, 49918, 49919, 49920, 49921, 49922,\n",
       "       49923, 49924, 49925, 49926, 49927, 49928, 49929, 49930, 49931,\n",
       "       49932, 49933, 49934, 49935, 49936, 49937, 49938, 49939, 49940,\n",
       "       49941, 49942, 49943, 49944, 49945, 49946, 49947, 49948, 49949,\n",
       "       49950, 49951, 49952, 49953, 49954, 49955, 49956, 49957, 49958,\n",
       "       49959, 49960, 49961, 49962, 49963, 49964, 49965, 49966, 49967,\n",
       "       49968, 49969, 49970, 49971, 49972, 49973, 49974, 49975, 49976,\n",
       "       49977, 49978, 49979, 49980, 49981, 49982, 49983, 49984, 49985,\n",
       "       49986, 49987, 49988, 49989, 49990, 49991, 49992, 49993, 49994,\n",
       "       49995, 49996, 49997, 49998, 49999])"
      ]
     },
     "execution_count": 772,
     "metadata": {},
     "output_type": "execute_result"
    }
   ],
   "source": [
    "a=np.arange(50000)\n",
    "a"
   ]
  },
  {
   "cell_type": "code",
   "execution_count": 770,
   "id": "014e3f71",
   "metadata": {},
   "outputs": [],
   "source": [
    "import sys"
   ]
  },
  {
   "cell_type": "code",
   "execution_count": 771,
   "id": "2448af79",
   "metadata": {},
   "outputs": [],
   "source": [
    "np.set_printoptions(threshold=sys.maxsize)"
   ]
  },
  {
   "cell_type": "code",
   "execution_count": 768,
   "id": "5ee26478",
   "metadata": {},
   "outputs": [
    {
     "data": {
      "text/plain": [
       "array([   0,    1,    2,    3,    4,    5,    6,    7,    8,    9,   10,\n",
       "         11,   12,   13,   14,   15,   16,   17,   18,   19,   20,   21,\n",
       "         22,   23,   24,   25,   26,   27,   28,   29,   30,   31,   32,\n",
       "         33,   34,   35,   36,   37,   38,   39,   40,   41,   42,   43,\n",
       "         44,   45,   46,   47,   48,   49,   50,   51,   52,   53,   54,\n",
       "         55,   56,   57,   58,   59,   60,   61,   62,   63,   64,   65,\n",
       "         66,   67,   68,   69,   70,   71,   72,   73,   74,   75,   76,\n",
       "         77,   78,   79,   80,   81,   82,   83,   84,   85,   86,   87,\n",
       "         88,   89,   90,   91,   92,   93,   94,   95,   96,   97,   98,\n",
       "         99,  100,  101,  102,  103,  104,  105,  106,  107,  108,  109,\n",
       "        110,  111,  112,  113,  114,  115,  116,  117,  118,  119,  120,\n",
       "        121,  122,  123,  124,  125,  126,  127,  128,  129,  130,  131,\n",
       "        132,  133,  134,  135,  136,  137,  138,  139,  140,  141,  142,\n",
       "        143,  144,  145,  146,  147,  148,  149,  150,  151,  152,  153,\n",
       "        154,  155,  156,  157,  158,  159,  160,  161,  162,  163,  164,\n",
       "        165,  166,  167,  168,  169,  170,  171,  172,  173,  174,  175,\n",
       "        176,  177,  178,  179,  180,  181,  182,  183,  184,  185,  186,\n",
       "        187,  188,  189,  190,  191,  192,  193,  194,  195,  196,  197,\n",
       "        198,  199,  200,  201,  202,  203,  204,  205,  206,  207,  208,\n",
       "        209,  210,  211,  212,  213,  214,  215,  216,  217,  218,  219,\n",
       "        220,  221,  222,  223,  224,  225,  226,  227,  228,  229,  230,\n",
       "        231,  232,  233,  234,  235,  236,  237,  238,  239,  240,  241,\n",
       "        242,  243,  244,  245,  246,  247,  248,  249,  250,  251,  252,\n",
       "        253,  254,  255,  256,  257,  258,  259,  260,  261,  262,  263,\n",
       "        264,  265,  266,  267,  268,  269,  270,  271,  272,  273,  274,\n",
       "        275,  276,  277,  278,  279,  280,  281,  282,  283,  284,  285,\n",
       "        286,  287,  288,  289,  290,  291,  292,  293,  294,  295,  296,\n",
       "        297,  298,  299,  300,  301,  302,  303,  304,  305,  306,  307,\n",
       "        308,  309,  310,  311,  312,  313,  314,  315,  316,  317,  318,\n",
       "        319,  320,  321,  322,  323,  324,  325,  326,  327,  328,  329,\n",
       "        330,  331,  332,  333,  334,  335,  336,  337,  338,  339,  340,\n",
       "        341,  342,  343,  344,  345,  346,  347,  348,  349,  350,  351,\n",
       "        352,  353,  354,  355,  356,  357,  358,  359,  360,  361,  362,\n",
       "        363,  364,  365,  366,  367,  368,  369,  370,  371,  372,  373,\n",
       "        374,  375,  376,  377,  378,  379,  380,  381,  382,  383,  384,\n",
       "        385,  386,  387,  388,  389,  390,  391,  392,  393,  394,  395,\n",
       "        396,  397,  398,  399,  400,  401,  402,  403,  404,  405,  406,\n",
       "        407,  408,  409,  410,  411,  412,  413,  414,  415,  416,  417,\n",
       "        418,  419,  420,  421,  422,  423,  424,  425,  426,  427,  428,\n",
       "        429,  430,  431,  432,  433,  434,  435,  436,  437,  438,  439,\n",
       "        440,  441,  442,  443,  444,  445,  446,  447,  448,  449,  450,\n",
       "        451,  452,  453,  454,  455,  456,  457,  458,  459,  460,  461,\n",
       "        462,  463,  464,  465,  466,  467,  468,  469,  470,  471,  472,\n",
       "        473,  474,  475,  476,  477,  478,  479,  480,  481,  482,  483,\n",
       "        484,  485,  486,  487,  488,  489,  490,  491,  492,  493,  494,\n",
       "        495,  496,  497,  498,  499,  500,  501,  502,  503,  504,  505,\n",
       "        506,  507,  508,  509,  510,  511,  512,  513,  514,  515,  516,\n",
       "        517,  518,  519,  520,  521,  522,  523,  524,  525,  526,  527,\n",
       "        528,  529,  530,  531,  532,  533,  534,  535,  536,  537,  538,\n",
       "        539,  540,  541,  542,  543,  544,  545,  546,  547,  548,  549,\n",
       "        550,  551,  552,  553,  554,  555,  556,  557,  558,  559,  560,\n",
       "        561,  562,  563,  564,  565,  566,  567,  568,  569,  570,  571,\n",
       "        572,  573,  574,  575,  576,  577,  578,  579,  580,  581,  582,\n",
       "        583,  584,  585,  586,  587,  588,  589,  590,  591,  592,  593,\n",
       "        594,  595,  596,  597,  598,  599,  600,  601,  602,  603,  604,\n",
       "        605,  606,  607,  608,  609,  610,  611,  612,  613,  614,  615,\n",
       "        616,  617,  618,  619,  620,  621,  622,  623,  624,  625,  626,\n",
       "        627,  628,  629,  630,  631,  632,  633,  634,  635,  636,  637,\n",
       "        638,  639,  640,  641,  642,  643,  644,  645,  646,  647,  648,\n",
       "        649,  650,  651,  652,  653,  654,  655,  656,  657,  658,  659,\n",
       "        660,  661,  662,  663,  664,  665,  666,  667,  668,  669,  670,\n",
       "        671,  672,  673,  674,  675,  676,  677,  678,  679,  680,  681,\n",
       "        682,  683,  684,  685,  686,  687,  688,  689,  690,  691,  692,\n",
       "        693,  694,  695,  696,  697,  698,  699,  700,  701,  702,  703,\n",
       "        704,  705,  706,  707,  708,  709,  710,  711,  712,  713,  714,\n",
       "        715,  716,  717,  718,  719,  720,  721,  722,  723,  724,  725,\n",
       "        726,  727,  728,  729,  730,  731,  732,  733,  734,  735,  736,\n",
       "        737,  738,  739,  740,  741,  742,  743,  744,  745,  746,  747,\n",
       "        748,  749,  750,  751,  752,  753,  754,  755,  756,  757,  758,\n",
       "        759,  760,  761,  762,  763,  764,  765,  766,  767,  768,  769,\n",
       "        770,  771,  772,  773,  774,  775,  776,  777,  778,  779,  780,\n",
       "        781,  782,  783,  784,  785,  786,  787,  788,  789,  790,  791,\n",
       "        792,  793,  794,  795,  796,  797,  798,  799,  800,  801,  802,\n",
       "        803,  804,  805,  806,  807,  808,  809,  810,  811,  812,  813,\n",
       "        814,  815,  816,  817,  818,  819,  820,  821,  822,  823,  824,\n",
       "        825,  826,  827,  828,  829,  830,  831,  832,  833,  834,  835,\n",
       "        836,  837,  838,  839,  840,  841,  842,  843,  844,  845,  846,\n",
       "        847,  848,  849,  850,  851,  852,  853,  854,  855,  856,  857,\n",
       "        858,  859,  860,  861,  862,  863,  864,  865,  866,  867,  868,\n",
       "        869,  870,  871,  872,  873,  874,  875,  876,  877,  878,  879,\n",
       "        880,  881,  882,  883,  884,  885,  886,  887,  888,  889,  890,\n",
       "        891,  892,  893,  894,  895,  896,  897,  898,  899,  900,  901,\n",
       "        902,  903,  904,  905,  906,  907,  908,  909,  910,  911,  912,\n",
       "        913,  914,  915,  916,  917,  918,  919,  920,  921,  922,  923,\n",
       "        924,  925,  926,  927,  928,  929,  930,  931,  932,  933,  934,\n",
       "        935,  936,  937,  938,  939,  940,  941,  942,  943,  944,  945,\n",
       "        946,  947,  948,  949,  950,  951,  952,  953,  954,  955,  956,\n",
       "        957,  958,  959,  960,  961,  962,  963,  964,  965,  966,  967,\n",
       "        968,  969,  970,  971,  972,  973,  974,  975,  976,  977,  978,\n",
       "        979,  980,  981,  982,  983,  984,  985,  986,  987,  988,  989,\n",
       "        990,  991,  992,  993,  994,  995,  996,  997,  998,  999, 1000,\n",
       "       1001, 1002, 1003, 1004, 1005, 1006, 1007, 1008, 1009, 1010, 1011,\n",
       "       1012, 1013, 1014, 1015, 1016, 1017, 1018, 1019, 1020, 1021, 1022,\n",
       "       1023, 1024, 1025, 1026, 1027, 1028, 1029, 1030, 1031, 1032, 1033,\n",
       "       1034, 1035, 1036, 1037, 1038, 1039, 1040, 1041, 1042, 1043, 1044,\n",
       "       1045, 1046, 1047, 1048, 1049, 1050, 1051, 1052, 1053, 1054, 1055,\n",
       "       1056, 1057, 1058, 1059, 1060, 1061, 1062, 1063, 1064, 1065, 1066,\n",
       "       1067, 1068, 1069, 1070, 1071, 1072, 1073, 1074, 1075, 1076, 1077,\n",
       "       1078, 1079, 1080, 1081, 1082, 1083, 1084, 1085, 1086, 1087, 1088,\n",
       "       1089, 1090, 1091, 1092, 1093, 1094, 1095, 1096, 1097, 1098, 1099,\n",
       "       1100, 1101, 1102, 1103, 1104, 1105, 1106, 1107, 1108, 1109, 1110,\n",
       "       1111, 1112, 1113, 1114, 1115, 1116, 1117, 1118, 1119, 1120, 1121,\n",
       "       1122, 1123, 1124, 1125, 1126, 1127, 1128, 1129, 1130, 1131, 1132,\n",
       "       1133, 1134, 1135, 1136, 1137, 1138, 1139, 1140, 1141, 1142, 1143,\n",
       "       1144, 1145, 1146, 1147, 1148, 1149, 1150, 1151, 1152, 1153, 1154,\n",
       "       1155, 1156, 1157, 1158, 1159, 1160, 1161, 1162, 1163, 1164, 1165,\n",
       "       1166, 1167, 1168, 1169, 1170, 1171, 1172, 1173, 1174, 1175, 1176,\n",
       "       1177, 1178, 1179, 1180, 1181, 1182, 1183, 1184, 1185, 1186, 1187,\n",
       "       1188, 1189, 1190, 1191, 1192, 1193, 1194, 1195, 1196, 1197, 1198,\n",
       "       1199, 1200, 1201, 1202, 1203, 1204, 1205, 1206, 1207, 1208, 1209,\n",
       "       1210, 1211, 1212, 1213, 1214, 1215, 1216, 1217, 1218, 1219, 1220,\n",
       "       1221, 1222, 1223, 1224, 1225, 1226, 1227, 1228, 1229, 1230, 1231,\n",
       "       1232, 1233, 1234, 1235, 1236, 1237, 1238, 1239, 1240, 1241, 1242,\n",
       "       1243, 1244, 1245, 1246, 1247, 1248, 1249, 1250, 1251, 1252, 1253,\n",
       "       1254, 1255, 1256, 1257, 1258, 1259, 1260, 1261, 1262, 1263, 1264,\n",
       "       1265, 1266, 1267, 1268, 1269, 1270, 1271, 1272, 1273, 1274, 1275,\n",
       "       1276, 1277, 1278, 1279, 1280, 1281, 1282, 1283, 1284, 1285, 1286,\n",
       "       1287, 1288, 1289, 1290, 1291, 1292, 1293, 1294, 1295, 1296, 1297,\n",
       "       1298, 1299, 1300, 1301, 1302, 1303, 1304, 1305, 1306, 1307, 1308,\n",
       "       1309, 1310, 1311, 1312, 1313, 1314, 1315, 1316, 1317, 1318, 1319,\n",
       "       1320, 1321, 1322, 1323, 1324, 1325, 1326, 1327, 1328, 1329, 1330,\n",
       "       1331, 1332, 1333, 1334, 1335, 1336, 1337, 1338, 1339, 1340, 1341,\n",
       "       1342, 1343, 1344, 1345, 1346, 1347, 1348, 1349, 1350, 1351, 1352,\n",
       "       1353, 1354, 1355, 1356, 1357, 1358, 1359, 1360, 1361, 1362, 1363,\n",
       "       1364, 1365, 1366, 1367, 1368, 1369, 1370, 1371, 1372, 1373, 1374,\n",
       "       1375, 1376, 1377, 1378, 1379, 1380, 1381, 1382, 1383, 1384, 1385,\n",
       "       1386, 1387, 1388, 1389, 1390, 1391, 1392, 1393, 1394, 1395, 1396,\n",
       "       1397, 1398, 1399, 1400, 1401, 1402, 1403, 1404, 1405, 1406, 1407,\n",
       "       1408, 1409, 1410, 1411, 1412, 1413, 1414, 1415, 1416, 1417, 1418,\n",
       "       1419, 1420, 1421, 1422, 1423, 1424, 1425, 1426, 1427, 1428, 1429,\n",
       "       1430, 1431, 1432, 1433, 1434, 1435, 1436, 1437, 1438, 1439, 1440,\n",
       "       1441, 1442, 1443, 1444, 1445, 1446, 1447, 1448, 1449, 1450, 1451,\n",
       "       1452, 1453, 1454, 1455, 1456, 1457, 1458, 1459, 1460, 1461, 1462,\n",
       "       1463, 1464, 1465, 1466, 1467, 1468, 1469, 1470, 1471, 1472, 1473,\n",
       "       1474, 1475, 1476, 1477, 1478, 1479, 1480, 1481, 1482, 1483, 1484,\n",
       "       1485, 1486, 1487, 1488, 1489, 1490, 1491, 1492, 1493, 1494, 1495,\n",
       "       1496, 1497, 1498, 1499, 1500, 1501, 1502, 1503, 1504, 1505, 1506,\n",
       "       1507, 1508, 1509, 1510, 1511, 1512, 1513, 1514, 1515, 1516, 1517,\n",
       "       1518, 1519, 1520, 1521, 1522, 1523, 1524, 1525, 1526, 1527, 1528,\n",
       "       1529, 1530, 1531, 1532, 1533, 1534, 1535, 1536, 1537, 1538, 1539,\n",
       "       1540, 1541, 1542, 1543, 1544, 1545, 1546, 1547, 1548, 1549, 1550,\n",
       "       1551, 1552, 1553, 1554, 1555, 1556, 1557, 1558, 1559, 1560, 1561,\n",
       "       1562, 1563, 1564, 1565, 1566, 1567, 1568, 1569, 1570, 1571, 1572,\n",
       "       1573, 1574, 1575, 1576, 1577, 1578, 1579, 1580, 1581, 1582, 1583,\n",
       "       1584, 1585, 1586, 1587, 1588, 1589, 1590, 1591, 1592, 1593, 1594,\n",
       "       1595, 1596, 1597, 1598, 1599, 1600, 1601, 1602, 1603, 1604, 1605,\n",
       "       1606, 1607, 1608, 1609, 1610, 1611, 1612, 1613, 1614, 1615, 1616,\n",
       "       1617, 1618, 1619, 1620, 1621, 1622, 1623, 1624, 1625, 1626, 1627,\n",
       "       1628, 1629, 1630, 1631, 1632, 1633, 1634, 1635, 1636, 1637, 1638,\n",
       "       1639, 1640, 1641, 1642, 1643, 1644, 1645, 1646, 1647, 1648, 1649,\n",
       "       1650, 1651, 1652, 1653, 1654, 1655, 1656, 1657, 1658, 1659, 1660,\n",
       "       1661, 1662, 1663, 1664, 1665, 1666, 1667, 1668, 1669, 1670, 1671,\n",
       "       1672, 1673, 1674, 1675, 1676, 1677, 1678, 1679, 1680, 1681, 1682,\n",
       "       1683, 1684, 1685, 1686, 1687, 1688, 1689, 1690, 1691, 1692, 1693,\n",
       "       1694, 1695, 1696, 1697, 1698, 1699, 1700, 1701, 1702, 1703, 1704,\n",
       "       1705, 1706, 1707, 1708, 1709, 1710, 1711, 1712, 1713, 1714, 1715,\n",
       "       1716, 1717, 1718, 1719, 1720, 1721, 1722, 1723, 1724, 1725, 1726,\n",
       "       1727, 1728, 1729, 1730, 1731, 1732, 1733, 1734, 1735, 1736, 1737,\n",
       "       1738, 1739, 1740, 1741, 1742, 1743, 1744, 1745, 1746, 1747, 1748,\n",
       "       1749, 1750, 1751, 1752, 1753, 1754, 1755, 1756, 1757, 1758, 1759,\n",
       "       1760, 1761, 1762, 1763, 1764, 1765, 1766, 1767, 1768, 1769, 1770,\n",
       "       1771, 1772, 1773, 1774, 1775, 1776, 1777, 1778, 1779, 1780, 1781,\n",
       "       1782, 1783, 1784, 1785, 1786, 1787, 1788, 1789, 1790, 1791, 1792,\n",
       "       1793, 1794, 1795, 1796, 1797, 1798, 1799, 1800, 1801, 1802, 1803,\n",
       "       1804, 1805, 1806, 1807, 1808, 1809, 1810, 1811, 1812, 1813, 1814,\n",
       "       1815, 1816, 1817, 1818, 1819, 1820, 1821, 1822, 1823, 1824, 1825,\n",
       "       1826, 1827, 1828, 1829, 1830, 1831, 1832, 1833, 1834, 1835, 1836,\n",
       "       1837, 1838, 1839, 1840, 1841, 1842, 1843, 1844, 1845, 1846, 1847,\n",
       "       1848, 1849, 1850, 1851, 1852, 1853, 1854, 1855, 1856, 1857, 1858,\n",
       "       1859, 1860, 1861, 1862, 1863, 1864, 1865, 1866, 1867, 1868, 1869,\n",
       "       1870, 1871, 1872, 1873, 1874, 1875, 1876, 1877, 1878, 1879, 1880,\n",
       "       1881, 1882, 1883, 1884, 1885, 1886, 1887, 1888, 1889, 1890, 1891,\n",
       "       1892, 1893, 1894, 1895, 1896, 1897, 1898, 1899, 1900, 1901, 1902,\n",
       "       1903, 1904, 1905, 1906, 1907, 1908, 1909, 1910, 1911, 1912, 1913,\n",
       "       1914, 1915, 1916, 1917, 1918, 1919, 1920, 1921, 1922, 1923, 1924,\n",
       "       1925, 1926, 1927, 1928, 1929, 1930, 1931, 1932, 1933, 1934, 1935,\n",
       "       1936, 1937, 1938, 1939, 1940, 1941, 1942, 1943, 1944, 1945, 1946,\n",
       "       1947, 1948, 1949, 1950, 1951, 1952, 1953, 1954, 1955, 1956, 1957,\n",
       "       1958, 1959, 1960, 1961, 1962, 1963, 1964, 1965, 1966, 1967, 1968,\n",
       "       1969, 1970, 1971, 1972, 1973, 1974, 1975, 1976, 1977, 1978, 1979,\n",
       "       1980, 1981, 1982, 1983, 1984, 1985, 1986, 1987, 1988, 1989, 1990,\n",
       "       1991, 1992, 1993, 1994, 1995, 1996, 1997, 1998, 1999, 2000, 2001,\n",
       "       2002, 2003, 2004, 2005, 2006, 2007, 2008, 2009, 2010, 2011, 2012,\n",
       "       2013, 2014, 2015, 2016, 2017, 2018, 2019, 2020, 2021, 2022, 2023,\n",
       "       2024, 2025, 2026, 2027, 2028, 2029, 2030, 2031, 2032, 2033, 2034,\n",
       "       2035, 2036, 2037, 2038, 2039, 2040, 2041, 2042, 2043, 2044, 2045,\n",
       "       2046, 2047, 2048, 2049, 2050, 2051, 2052, 2053, 2054, 2055, 2056,\n",
       "       2057, 2058, 2059, 2060, 2061, 2062, 2063, 2064, 2065, 2066, 2067,\n",
       "       2068, 2069, 2070, 2071, 2072, 2073, 2074, 2075, 2076, 2077, 2078,\n",
       "       2079, 2080, 2081, 2082, 2083, 2084, 2085, 2086, 2087, 2088, 2089,\n",
       "       2090, 2091, 2092, 2093, 2094, 2095, 2096, 2097, 2098, 2099, 2100,\n",
       "       2101, 2102, 2103, 2104, 2105, 2106, 2107, 2108, 2109, 2110, 2111,\n",
       "       2112, 2113, 2114, 2115, 2116, 2117, 2118, 2119, 2120, 2121, 2122,\n",
       "       2123, 2124, 2125, 2126, 2127, 2128, 2129, 2130, 2131, 2132, 2133,\n",
       "       2134, 2135, 2136, 2137, 2138, 2139, 2140, 2141, 2142, 2143, 2144,\n",
       "       2145, 2146, 2147, 2148, 2149, 2150, 2151, 2152, 2153, 2154, 2155,\n",
       "       2156, 2157, 2158, 2159, 2160, 2161, 2162, 2163, 2164, 2165, 2166,\n",
       "       2167, 2168, 2169, 2170, 2171, 2172, 2173, 2174, 2175, 2176, 2177,\n",
       "       2178, 2179, 2180, 2181, 2182, 2183, 2184, 2185, 2186, 2187, 2188,\n",
       "       2189, 2190, 2191, 2192, 2193, 2194, 2195, 2196, 2197, 2198, 2199,\n",
       "       2200, 2201, 2202, 2203, 2204, 2205, 2206, 2207, 2208, 2209, 2210,\n",
       "       2211, 2212, 2213, 2214, 2215, 2216, 2217, 2218, 2219, 2220, 2221,\n",
       "       2222, 2223, 2224, 2225, 2226, 2227, 2228, 2229, 2230, 2231, 2232,\n",
       "       2233, 2234, 2235, 2236, 2237, 2238, 2239, 2240, 2241, 2242, 2243,\n",
       "       2244, 2245, 2246, 2247, 2248, 2249, 2250, 2251, 2252, 2253, 2254,\n",
       "       2255, 2256, 2257, 2258, 2259, 2260, 2261, 2262, 2263, 2264, 2265,\n",
       "       2266, 2267, 2268, 2269, 2270, 2271, 2272, 2273, 2274, 2275, 2276,\n",
       "       2277, 2278, 2279, 2280, 2281, 2282, 2283, 2284, 2285, 2286, 2287,\n",
       "       2288, 2289, 2290, 2291, 2292, 2293, 2294, 2295, 2296, 2297, 2298,\n",
       "       2299, 2300, 2301, 2302, 2303, 2304, 2305, 2306, 2307, 2308, 2309,\n",
       "       2310, 2311, 2312, 2313, 2314, 2315, 2316, 2317, 2318, 2319, 2320,\n",
       "       2321, 2322, 2323, 2324, 2325, 2326, 2327, 2328, 2329, 2330, 2331,\n",
       "       2332, 2333, 2334, 2335, 2336, 2337, 2338, 2339, 2340, 2341, 2342,\n",
       "       2343, 2344, 2345, 2346, 2347, 2348, 2349, 2350, 2351, 2352, 2353,\n",
       "       2354, 2355, 2356, 2357, 2358, 2359, 2360, 2361, 2362, 2363, 2364,\n",
       "       2365, 2366, 2367, 2368, 2369, 2370, 2371, 2372, 2373, 2374, 2375,\n",
       "       2376, 2377, 2378, 2379, 2380, 2381, 2382, 2383, 2384, 2385, 2386,\n",
       "       2387, 2388, 2389, 2390, 2391, 2392, 2393, 2394, 2395, 2396, 2397,\n",
       "       2398, 2399, 2400, 2401, 2402, 2403, 2404, 2405, 2406, 2407, 2408,\n",
       "       2409, 2410, 2411, 2412, 2413, 2414, 2415, 2416, 2417, 2418, 2419,\n",
       "       2420, 2421, 2422, 2423, 2424, 2425, 2426, 2427, 2428, 2429, 2430,\n",
       "       2431, 2432, 2433, 2434, 2435, 2436, 2437, 2438, 2439, 2440, 2441,\n",
       "       2442, 2443, 2444, 2445, 2446, 2447, 2448, 2449, 2450, 2451, 2452,\n",
       "       2453, 2454, 2455, 2456, 2457, 2458, 2459, 2460, 2461, 2462, 2463,\n",
       "       2464, 2465, 2466, 2467, 2468, 2469, 2470, 2471, 2472, 2473, 2474,\n",
       "       2475, 2476, 2477, 2478, 2479, 2480, 2481, 2482, 2483, 2484, 2485,\n",
       "       2486, 2487, 2488, 2489, 2490, 2491, 2492, 2493, 2494, 2495, 2496,\n",
       "       2497, 2498, 2499, 2500, 2501, 2502, 2503, 2504, 2505, 2506, 2507,\n",
       "       2508, 2509, 2510, 2511, 2512, 2513, 2514, 2515, 2516, 2517, 2518,\n",
       "       2519, 2520, 2521, 2522, 2523, 2524, 2525, 2526, 2527, 2528, 2529,\n",
       "       2530, 2531, 2532, 2533, 2534, 2535, 2536, 2537, 2538, 2539, 2540,\n",
       "       2541, 2542, 2543, 2544, 2545, 2546, 2547, 2548, 2549, 2550, 2551,\n",
       "       2552, 2553, 2554, 2555, 2556, 2557, 2558, 2559, 2560, 2561, 2562,\n",
       "       2563, 2564, 2565, 2566, 2567, 2568, 2569, 2570, 2571, 2572, 2573,\n",
       "       2574, 2575, 2576, 2577, 2578, 2579, 2580, 2581, 2582, 2583, 2584,\n",
       "       2585, 2586, 2587, 2588, 2589, 2590, 2591, 2592, 2593, 2594, 2595,\n",
       "       2596, 2597, 2598, 2599, 2600, 2601, 2602, 2603, 2604, 2605, 2606,\n",
       "       2607, 2608, 2609, 2610, 2611, 2612, 2613, 2614, 2615, 2616, 2617,\n",
       "       2618, 2619, 2620, 2621, 2622, 2623, 2624, 2625, 2626, 2627, 2628,\n",
       "       2629, 2630, 2631, 2632, 2633, 2634, 2635, 2636, 2637, 2638, 2639,\n",
       "       2640, 2641, 2642, 2643, 2644, 2645, 2646, 2647, 2648, 2649, 2650,\n",
       "       2651, 2652, 2653, 2654, 2655, 2656, 2657, 2658, 2659, 2660, 2661,\n",
       "       2662, 2663, 2664, 2665, 2666, 2667, 2668, 2669, 2670, 2671, 2672,\n",
       "       2673, 2674, 2675, 2676, 2677, 2678, 2679, 2680, 2681, 2682, 2683,\n",
       "       2684, 2685, 2686, 2687, 2688, 2689, 2690, 2691, 2692, 2693, 2694,\n",
       "       2695, 2696, 2697, 2698, 2699, 2700, 2701, 2702, 2703, 2704, 2705,\n",
       "       2706, 2707, 2708, 2709, 2710, 2711, 2712, 2713, 2714, 2715, 2716,\n",
       "       2717, 2718, 2719, 2720, 2721, 2722, 2723, 2724, 2725, 2726, 2727,\n",
       "       2728, 2729, 2730, 2731, 2732, 2733, 2734, 2735, 2736, 2737, 2738,\n",
       "       2739, 2740, 2741, 2742, 2743, 2744, 2745, 2746, 2747, 2748, 2749,\n",
       "       2750, 2751, 2752, 2753, 2754, 2755, 2756, 2757, 2758, 2759, 2760,\n",
       "       2761, 2762, 2763, 2764, 2765, 2766, 2767, 2768, 2769, 2770, 2771,\n",
       "       2772, 2773, 2774, 2775, 2776, 2777, 2778, 2779, 2780, 2781, 2782,\n",
       "       2783, 2784, 2785, 2786, 2787, 2788, 2789, 2790, 2791, 2792, 2793,\n",
       "       2794, 2795, 2796, 2797, 2798, 2799, 2800, 2801, 2802, 2803, 2804,\n",
       "       2805, 2806, 2807, 2808, 2809, 2810, 2811, 2812, 2813, 2814, 2815,\n",
       "       2816, 2817, 2818, 2819, 2820, 2821, 2822, 2823, 2824, 2825, 2826,\n",
       "       2827, 2828, 2829, 2830, 2831, 2832, 2833, 2834, 2835, 2836, 2837,\n",
       "       2838, 2839, 2840, 2841, 2842, 2843, 2844, 2845, 2846, 2847, 2848,\n",
       "       2849, 2850, 2851, 2852, 2853, 2854, 2855, 2856, 2857, 2858, 2859,\n",
       "       2860, 2861, 2862, 2863, 2864, 2865, 2866, 2867, 2868, 2869, 2870,\n",
       "       2871, 2872, 2873, 2874, 2875, 2876, 2877, 2878, 2879, 2880, 2881,\n",
       "       2882, 2883, 2884, 2885, 2886, 2887, 2888, 2889, 2890, 2891, 2892,\n",
       "       2893, 2894, 2895, 2896, 2897, 2898, 2899, 2900, 2901, 2902, 2903,\n",
       "       2904, 2905, 2906, 2907, 2908, 2909, 2910, 2911, 2912, 2913, 2914,\n",
       "       2915, 2916, 2917, 2918, 2919, 2920, 2921, 2922, 2923, 2924, 2925,\n",
       "       2926, 2927, 2928, 2929, 2930, 2931, 2932, 2933, 2934, 2935, 2936,\n",
       "       2937, 2938, 2939, 2940, 2941, 2942, 2943, 2944, 2945, 2946, 2947,\n",
       "       2948, 2949, 2950, 2951, 2952, 2953, 2954, 2955, 2956, 2957, 2958,\n",
       "       2959, 2960, 2961, 2962, 2963, 2964, 2965, 2966, 2967, 2968, 2969,\n",
       "       2970, 2971, 2972, 2973, 2974, 2975, 2976, 2977, 2978, 2979, 2980,\n",
       "       2981, 2982, 2983, 2984, 2985, 2986, 2987, 2988, 2989, 2990, 2991,\n",
       "       2992, 2993, 2994, 2995, 2996, 2997, 2998, 2999, 3000, 3001, 3002,\n",
       "       3003, 3004, 3005, 3006, 3007, 3008, 3009, 3010, 3011, 3012, 3013,\n",
       "       3014, 3015, 3016, 3017, 3018, 3019, 3020, 3021, 3022, 3023, 3024,\n",
       "       3025, 3026, 3027, 3028, 3029, 3030, 3031, 3032, 3033, 3034, 3035,\n",
       "       3036, 3037, 3038, 3039, 3040, 3041, 3042, 3043, 3044, 3045, 3046,\n",
       "       3047, 3048, 3049, 3050, 3051, 3052, 3053, 3054, 3055, 3056, 3057,\n",
       "       3058, 3059, 3060, 3061, 3062, 3063, 3064, 3065, 3066, 3067, 3068,\n",
       "       3069, 3070, 3071, 3072, 3073, 3074, 3075, 3076, 3077, 3078, 3079,\n",
       "       3080, 3081, 3082, 3083, 3084, 3085, 3086, 3087, 3088, 3089, 3090,\n",
       "       3091, 3092, 3093, 3094, 3095, 3096, 3097, 3098, 3099, 3100, 3101,\n",
       "       3102, 3103, 3104, 3105, 3106, 3107, 3108, 3109, 3110, 3111, 3112,\n",
       "       3113, 3114, 3115, 3116, 3117, 3118, 3119, 3120, 3121, 3122, 3123,\n",
       "       3124, 3125, 3126, 3127, 3128, 3129, 3130, 3131, 3132, 3133, 3134,\n",
       "       3135, 3136, 3137, 3138, 3139, 3140, 3141, 3142, 3143, 3144, 3145,\n",
       "       3146, 3147, 3148, 3149, 3150, 3151, 3152, 3153, 3154, 3155, 3156,\n",
       "       3157, 3158, 3159, 3160, 3161, 3162, 3163, 3164, 3165, 3166, 3167,\n",
       "       3168, 3169, 3170, 3171, 3172, 3173, 3174, 3175, 3176, 3177, 3178,\n",
       "       3179, 3180, 3181, 3182, 3183, 3184, 3185, 3186, 3187, 3188, 3189,\n",
       "       3190, 3191, 3192, 3193, 3194, 3195, 3196, 3197, 3198, 3199, 3200,\n",
       "       3201, 3202, 3203, 3204, 3205, 3206, 3207, 3208, 3209, 3210, 3211,\n",
       "       3212, 3213, 3214, 3215, 3216, 3217, 3218, 3219, 3220, 3221, 3222,\n",
       "       3223, 3224, 3225, 3226, 3227, 3228, 3229, 3230, 3231, 3232, 3233,\n",
       "       3234, 3235, 3236, 3237, 3238, 3239, 3240, 3241, 3242, 3243, 3244,\n",
       "       3245, 3246, 3247, 3248, 3249, 3250, 3251, 3252, 3253, 3254, 3255,\n",
       "       3256, 3257, 3258, 3259, 3260, 3261, 3262, 3263, 3264, 3265, 3266,\n",
       "       3267, 3268, 3269, 3270, 3271, 3272, 3273, 3274, 3275, 3276, 3277,\n",
       "       3278, 3279, 3280, 3281, 3282, 3283, 3284, 3285, 3286, 3287, 3288,\n",
       "       3289, 3290, 3291, 3292, 3293, 3294, 3295, 3296, 3297, 3298, 3299,\n",
       "       3300, 3301, 3302, 3303, 3304, 3305, 3306, 3307, 3308, 3309, 3310,\n",
       "       3311, 3312, 3313, 3314, 3315, 3316, 3317, 3318, 3319, 3320, 3321,\n",
       "       3322, 3323, 3324, 3325, 3326, 3327, 3328, 3329, 3330, 3331, 3332,\n",
       "       3333, 3334, 3335, 3336, 3337, 3338, 3339, 3340, 3341, 3342, 3343,\n",
       "       3344, 3345, 3346, 3347, 3348, 3349, 3350, 3351, 3352, 3353, 3354,\n",
       "       3355, 3356, 3357, 3358, 3359, 3360, 3361, 3362, 3363, 3364, 3365,\n",
       "       3366, 3367, 3368, 3369, 3370, 3371, 3372, 3373, 3374, 3375, 3376,\n",
       "       3377, 3378, 3379, 3380, 3381, 3382, 3383, 3384, 3385, 3386, 3387,\n",
       "       3388, 3389, 3390, 3391, 3392, 3393, 3394, 3395, 3396, 3397, 3398,\n",
       "       3399, 3400, 3401, 3402, 3403, 3404, 3405, 3406, 3407, 3408, 3409,\n",
       "       3410, 3411, 3412, 3413, 3414, 3415, 3416, 3417, 3418, 3419, 3420,\n",
       "       3421, 3422, 3423, 3424, 3425, 3426, 3427, 3428, 3429, 3430, 3431,\n",
       "       3432, 3433, 3434, 3435, 3436, 3437, 3438, 3439, 3440, 3441, 3442,\n",
       "       3443, 3444, 3445, 3446, 3447, 3448, 3449, 3450, 3451, 3452, 3453,\n",
       "       3454, 3455, 3456, 3457, 3458, 3459, 3460, 3461, 3462, 3463, 3464,\n",
       "       3465, 3466, 3467, 3468, 3469, 3470, 3471, 3472, 3473, 3474, 3475,\n",
       "       3476, 3477, 3478, 3479, 3480, 3481, 3482, 3483, 3484, 3485, 3486,\n",
       "       3487, 3488, 3489, 3490, 3491, 3492, 3493, 3494, 3495, 3496, 3497,\n",
       "       3498, 3499, 3500, 3501, 3502, 3503, 3504, 3505, 3506, 3507, 3508,\n",
       "       3509, 3510, 3511, 3512, 3513, 3514, 3515, 3516, 3517, 3518, 3519,\n",
       "       3520, 3521, 3522, 3523, 3524, 3525, 3526, 3527, 3528, 3529, 3530,\n",
       "       3531, 3532, 3533, 3534, 3535, 3536, 3537, 3538, 3539, 3540, 3541,\n",
       "       3542, 3543, 3544, 3545, 3546, 3547, 3548, 3549, 3550, 3551, 3552,\n",
       "       3553, 3554, 3555, 3556, 3557, 3558, 3559, 3560, 3561, 3562, 3563,\n",
       "       3564, 3565, 3566, 3567, 3568, 3569, 3570, 3571, 3572, 3573, 3574,\n",
       "       3575, 3576, 3577, 3578, 3579, 3580, 3581, 3582, 3583, 3584, 3585,\n",
       "       3586, 3587, 3588, 3589, 3590, 3591, 3592, 3593, 3594, 3595, 3596,\n",
       "       3597, 3598, 3599, 3600, 3601, 3602, 3603, 3604, 3605, 3606, 3607,\n",
       "       3608, 3609, 3610, 3611, 3612, 3613, 3614, 3615, 3616, 3617, 3618,\n",
       "       3619, 3620, 3621, 3622, 3623, 3624, 3625, 3626, 3627, 3628, 3629,\n",
       "       3630, 3631, 3632, 3633, 3634, 3635, 3636, 3637, 3638, 3639, 3640,\n",
       "       3641, 3642, 3643, 3644, 3645, 3646, 3647, 3648, 3649, 3650, 3651,\n",
       "       3652, 3653, 3654, 3655, 3656, 3657, 3658, 3659, 3660, 3661, 3662,\n",
       "       3663, 3664, 3665, 3666, 3667, 3668, 3669, 3670, 3671, 3672, 3673,\n",
       "       3674, 3675, 3676, 3677, 3678, 3679, 3680, 3681, 3682, 3683, 3684,\n",
       "       3685, 3686, 3687, 3688, 3689, 3690, 3691, 3692, 3693, 3694, 3695,\n",
       "       3696, 3697, 3698, 3699, 3700, 3701, 3702, 3703, 3704, 3705, 3706,\n",
       "       3707, 3708, 3709, 3710, 3711, 3712, 3713, 3714, 3715, 3716, 3717,\n",
       "       3718, 3719, 3720, 3721, 3722, 3723, 3724, 3725, 3726, 3727, 3728,\n",
       "       3729, 3730, 3731, 3732, 3733, 3734, 3735, 3736, 3737, 3738, 3739,\n",
       "       3740, 3741, 3742, 3743, 3744, 3745, 3746, 3747, 3748, 3749, 3750,\n",
       "       3751, 3752, 3753, 3754, 3755, 3756, 3757, 3758, 3759, 3760, 3761,\n",
       "       3762, 3763, 3764, 3765, 3766, 3767, 3768, 3769, 3770, 3771, 3772,\n",
       "       3773, 3774, 3775, 3776, 3777, 3778, 3779, 3780, 3781, 3782, 3783,\n",
       "       3784, 3785, 3786, 3787, 3788, 3789, 3790, 3791, 3792, 3793, 3794,\n",
       "       3795, 3796, 3797, 3798, 3799, 3800, 3801, 3802, 3803, 3804, 3805,\n",
       "       3806, 3807, 3808, 3809, 3810, 3811, 3812, 3813, 3814, 3815, 3816,\n",
       "       3817, 3818, 3819, 3820, 3821, 3822, 3823, 3824, 3825, 3826, 3827,\n",
       "       3828, 3829, 3830, 3831, 3832, 3833, 3834, 3835, 3836, 3837, 3838,\n",
       "       3839, 3840, 3841, 3842, 3843, 3844, 3845, 3846, 3847, 3848, 3849,\n",
       "       3850, 3851, 3852, 3853, 3854, 3855, 3856, 3857, 3858, 3859, 3860,\n",
       "       3861, 3862, 3863, 3864, 3865, 3866, 3867, 3868, 3869, 3870, 3871,\n",
       "       3872, 3873, 3874, 3875, 3876, 3877, 3878, 3879, 3880, 3881, 3882,\n",
       "       3883, 3884, 3885, 3886, 3887, 3888, 3889, 3890, 3891, 3892, 3893,\n",
       "       3894, 3895, 3896, 3897, 3898, 3899, 3900, 3901, 3902, 3903, 3904,\n",
       "       3905, 3906, 3907, 3908, 3909, 3910, 3911, 3912, 3913, 3914, 3915,\n",
       "       3916, 3917, 3918, 3919, 3920, 3921, 3922, 3923, 3924, 3925, 3926,\n",
       "       3927, 3928, 3929, 3930, 3931, 3932, 3933, 3934, 3935, 3936, 3937,\n",
       "       3938, 3939, 3940, 3941, 3942, 3943, 3944, 3945, 3946, 3947, 3948,\n",
       "       3949, 3950, 3951, 3952, 3953, 3954, 3955, 3956, 3957, 3958, 3959,\n",
       "       3960, 3961, 3962, 3963, 3964, 3965, 3966, 3967, 3968, 3969, 3970,\n",
       "       3971, 3972, 3973, 3974, 3975, 3976, 3977, 3978, 3979, 3980, 3981,\n",
       "       3982, 3983, 3984, 3985, 3986, 3987, 3988, 3989, 3990, 3991, 3992,\n",
       "       3993, 3994, 3995, 3996, 3997, 3998, 3999, 4000, 4001, 4002, 4003,\n",
       "       4004, 4005, 4006, 4007, 4008, 4009, 4010, 4011, 4012, 4013, 4014,\n",
       "       4015, 4016, 4017, 4018, 4019, 4020, 4021, 4022, 4023, 4024, 4025,\n",
       "       4026, 4027, 4028, 4029, 4030, 4031, 4032, 4033, 4034, 4035, 4036,\n",
       "       4037, 4038, 4039, 4040, 4041, 4042, 4043, 4044, 4045, 4046, 4047,\n",
       "       4048, 4049, 4050, 4051, 4052, 4053, 4054, 4055, 4056, 4057, 4058,\n",
       "       4059, 4060, 4061, 4062, 4063, 4064, 4065, 4066, 4067, 4068, 4069,\n",
       "       4070, 4071, 4072, 4073, 4074, 4075, 4076, 4077, 4078, 4079, 4080,\n",
       "       4081, 4082, 4083, 4084, 4085, 4086, 4087, 4088, 4089, 4090, 4091,\n",
       "       4092, 4093, 4094, 4095, 4096, 4097, 4098, 4099, 4100, 4101, 4102,\n",
       "       4103, 4104, 4105, 4106, 4107, 4108, 4109, 4110, 4111, 4112, 4113,\n",
       "       4114, 4115, 4116, 4117, 4118, 4119, 4120, 4121, 4122, 4123, 4124,\n",
       "       4125, 4126, 4127, 4128, 4129, 4130, 4131, 4132, 4133, 4134, 4135,\n",
       "       4136, 4137, 4138, 4139, 4140, 4141, 4142, 4143, 4144, 4145, 4146,\n",
       "       4147, 4148, 4149, 4150, 4151, 4152, 4153, 4154, 4155, 4156, 4157,\n",
       "       4158, 4159, 4160, 4161, 4162, 4163, 4164, 4165, 4166, 4167, 4168,\n",
       "       4169, 4170, 4171, 4172, 4173, 4174, 4175, 4176, 4177, 4178, 4179,\n",
       "       4180, 4181, 4182, 4183, 4184, 4185, 4186, 4187, 4188, 4189, 4190,\n",
       "       4191, 4192, 4193, 4194, 4195, 4196, 4197, 4198, 4199, 4200, 4201,\n",
       "       4202, 4203, 4204, 4205, 4206, 4207, 4208, 4209, 4210, 4211, 4212,\n",
       "       4213, 4214, 4215, 4216, 4217, 4218, 4219, 4220, 4221, 4222, 4223,\n",
       "       4224, 4225, 4226, 4227, 4228, 4229, 4230, 4231, 4232, 4233, 4234,\n",
       "       4235, 4236, 4237, 4238, 4239, 4240, 4241, 4242, 4243, 4244, 4245,\n",
       "       4246, 4247, 4248, 4249, 4250, 4251, 4252, 4253, 4254, 4255, 4256,\n",
       "       4257, 4258, 4259, 4260, 4261, 4262, 4263, 4264, 4265, 4266, 4267,\n",
       "       4268, 4269, 4270, 4271, 4272, 4273, 4274, 4275, 4276, 4277, 4278,\n",
       "       4279, 4280, 4281, 4282, 4283, 4284, 4285, 4286, 4287, 4288, 4289,\n",
       "       4290, 4291, 4292, 4293, 4294, 4295, 4296, 4297, 4298, 4299, 4300,\n",
       "       4301, 4302, 4303, 4304, 4305, 4306, 4307, 4308, 4309, 4310, 4311,\n",
       "       4312, 4313, 4314, 4315, 4316, 4317, 4318, 4319, 4320, 4321, 4322,\n",
       "       4323, 4324, 4325, 4326, 4327, 4328, 4329, 4330, 4331, 4332, 4333,\n",
       "       4334, 4335, 4336, 4337, 4338, 4339, 4340, 4341, 4342, 4343, 4344,\n",
       "       4345, 4346, 4347, 4348, 4349, 4350, 4351, 4352, 4353, 4354, 4355,\n",
       "       4356, 4357, 4358, 4359, 4360, 4361, 4362, 4363, 4364, 4365, 4366,\n",
       "       4367, 4368, 4369, 4370, 4371, 4372, 4373, 4374, 4375, 4376, 4377,\n",
       "       4378, 4379, 4380, 4381, 4382, 4383, 4384, 4385, 4386, 4387, 4388,\n",
       "       4389, 4390, 4391, 4392, 4393, 4394, 4395, 4396, 4397, 4398, 4399,\n",
       "       4400, 4401, 4402, 4403, 4404, 4405, 4406, 4407, 4408, 4409, 4410,\n",
       "       4411, 4412, 4413, 4414, 4415, 4416, 4417, 4418, 4419, 4420, 4421,\n",
       "       4422, 4423, 4424, 4425, 4426, 4427, 4428, 4429, 4430, 4431, 4432,\n",
       "       4433, 4434, 4435, 4436, 4437, 4438, 4439, 4440, 4441, 4442, 4443,\n",
       "       4444, 4445, 4446, 4447, 4448, 4449, 4450, 4451, 4452, 4453, 4454,\n",
       "       4455, 4456, 4457, 4458, 4459, 4460, 4461, 4462, 4463, 4464, 4465,\n",
       "       4466, 4467, 4468, 4469, 4470, 4471, 4472, 4473, 4474, 4475, 4476,\n",
       "       4477, 4478, 4479, 4480, 4481, 4482, 4483, 4484, 4485, 4486, 4487,\n",
       "       4488, 4489, 4490, 4491, 4492, 4493, 4494, 4495, 4496, 4497, 4498,\n",
       "       4499, 4500, 4501, 4502, 4503, 4504, 4505, 4506, 4507, 4508, 4509,\n",
       "       4510, 4511, 4512, 4513, 4514, 4515, 4516, 4517, 4518, 4519, 4520,\n",
       "       4521, 4522, 4523, 4524, 4525, 4526, 4527, 4528, 4529, 4530, 4531,\n",
       "       4532, 4533, 4534, 4535, 4536, 4537, 4538, 4539, 4540, 4541, 4542,\n",
       "       4543, 4544, 4545, 4546, 4547, 4548, 4549, 4550, 4551, 4552, 4553,\n",
       "       4554, 4555, 4556, 4557, 4558, 4559, 4560, 4561, 4562, 4563, 4564,\n",
       "       4565, 4566, 4567, 4568, 4569, 4570, 4571, 4572, 4573, 4574, 4575,\n",
       "       4576, 4577, 4578, 4579, 4580, 4581, 4582, 4583, 4584, 4585, 4586,\n",
       "       4587, 4588, 4589, 4590, 4591, 4592, 4593, 4594, 4595, 4596, 4597,\n",
       "       4598, 4599, 4600, 4601, 4602, 4603, 4604, 4605, 4606, 4607, 4608,\n",
       "       4609, 4610, 4611, 4612, 4613, 4614, 4615, 4616, 4617, 4618, 4619,\n",
       "       4620, 4621, 4622, 4623, 4624, 4625, 4626, 4627, 4628, 4629, 4630,\n",
       "       4631, 4632, 4633, 4634, 4635, 4636, 4637, 4638, 4639, 4640, 4641,\n",
       "       4642, 4643, 4644, 4645, 4646, 4647, 4648, 4649, 4650, 4651, 4652,\n",
       "       4653, 4654, 4655, 4656, 4657, 4658, 4659, 4660, 4661, 4662, 4663,\n",
       "       4664, 4665, 4666, 4667, 4668, 4669, 4670, 4671, 4672, 4673, 4674,\n",
       "       4675, 4676, 4677, 4678, 4679, 4680, 4681, 4682, 4683, 4684, 4685,\n",
       "       4686, 4687, 4688, 4689, 4690, 4691, 4692, 4693, 4694, 4695, 4696,\n",
       "       4697, 4698, 4699, 4700, 4701, 4702, 4703, 4704, 4705, 4706, 4707,\n",
       "       4708, 4709, 4710, 4711, 4712, 4713, 4714, 4715, 4716, 4717, 4718,\n",
       "       4719, 4720, 4721, 4722, 4723, 4724, 4725, 4726, 4727, 4728, 4729,\n",
       "       4730, 4731, 4732, 4733, 4734, 4735, 4736, 4737, 4738, 4739, 4740,\n",
       "       4741, 4742, 4743, 4744, 4745, 4746, 4747, 4748, 4749, 4750, 4751,\n",
       "       4752, 4753, 4754, 4755, 4756, 4757, 4758, 4759, 4760, 4761, 4762,\n",
       "       4763, 4764, 4765, 4766, 4767, 4768, 4769, 4770, 4771, 4772, 4773,\n",
       "       4774, 4775, 4776, 4777, 4778, 4779, 4780, 4781, 4782, 4783, 4784,\n",
       "       4785, 4786, 4787, 4788, 4789, 4790, 4791, 4792, 4793, 4794, 4795,\n",
       "       4796, 4797, 4798, 4799, 4800, 4801, 4802, 4803, 4804, 4805, 4806,\n",
       "       4807, 4808, 4809, 4810, 4811, 4812, 4813, 4814, 4815, 4816, 4817,\n",
       "       4818, 4819, 4820, 4821, 4822, 4823, 4824, 4825, 4826, 4827, 4828,\n",
       "       4829, 4830, 4831, 4832, 4833, 4834, 4835, 4836, 4837, 4838, 4839,\n",
       "       4840, 4841, 4842, 4843, 4844, 4845, 4846, 4847, 4848, 4849, 4850,\n",
       "       4851, 4852, 4853, 4854, 4855, 4856, 4857, 4858, 4859, 4860, 4861,\n",
       "       4862, 4863, 4864, 4865, 4866, 4867, 4868, 4869, 4870, 4871, 4872,\n",
       "       4873, 4874, 4875, 4876, 4877, 4878, 4879, 4880, 4881, 4882, 4883,\n",
       "       4884, 4885, 4886, 4887, 4888, 4889, 4890, 4891, 4892, 4893, 4894,\n",
       "       4895, 4896, 4897, 4898, 4899, 4900, 4901, 4902, 4903, 4904, 4905,\n",
       "       4906, 4907, 4908, 4909, 4910, 4911, 4912, 4913, 4914, 4915, 4916,\n",
       "       4917, 4918, 4919, 4920, 4921, 4922, 4923, 4924, 4925, 4926, 4927,\n",
       "       4928, 4929, 4930, 4931, 4932, 4933, 4934, 4935, 4936, 4937, 4938,\n",
       "       4939, 4940, 4941, 4942, 4943, 4944, 4945, 4946, 4947, 4948, 4949,\n",
       "       4950, 4951, 4952, 4953, 4954, 4955, 4956, 4957, 4958, 4959, 4960,\n",
       "       4961, 4962, 4963, 4964, 4965, 4966, 4967, 4968, 4969, 4970, 4971,\n",
       "       4972, 4973, 4974, 4975, 4976, 4977, 4978, 4979, 4980, 4981, 4982,\n",
       "       4983, 4984, 4985, 4986, 4987, 4988, 4989, 4990, 4991, 4992, 4993,\n",
       "       4994, 4995, 4996, 4997, 4998, 4999, 5000, 5001, 5002, 5003, 5004,\n",
       "       5005, 5006, 5007, 5008, 5009, 5010, 5011, 5012, 5013, 5014, 5015,\n",
       "       5016, 5017, 5018, 5019, 5020, 5021, 5022, 5023, 5024, 5025, 5026,\n",
       "       5027, 5028, 5029, 5030, 5031, 5032, 5033, 5034, 5035, 5036, 5037,\n",
       "       5038, 5039, 5040, 5041, 5042, 5043, 5044, 5045, 5046, 5047, 5048,\n",
       "       5049, 5050, 5051, 5052, 5053, 5054, 5055, 5056, 5057, 5058, 5059,\n",
       "       5060, 5061, 5062, 5063, 5064, 5065, 5066, 5067, 5068, 5069, 5070,\n",
       "       5071, 5072, 5073, 5074, 5075, 5076, 5077, 5078, 5079, 5080, 5081,\n",
       "       5082, 5083, 5084, 5085, 5086, 5087, 5088, 5089, 5090, 5091, 5092,\n",
       "       5093, 5094, 5095, 5096, 5097, 5098, 5099, 5100, 5101, 5102, 5103,\n",
       "       5104, 5105, 5106, 5107, 5108, 5109, 5110, 5111, 5112, 5113, 5114,\n",
       "       5115, 5116, 5117, 5118, 5119, 5120, 5121, 5122, 5123, 5124, 5125,\n",
       "       5126, 5127, 5128, 5129, 5130, 5131, 5132, 5133, 5134, 5135, 5136,\n",
       "       5137, 5138, 5139, 5140, 5141, 5142, 5143, 5144, 5145, 5146, 5147,\n",
       "       5148, 5149, 5150, 5151, 5152, 5153, 5154, 5155, 5156, 5157, 5158,\n",
       "       5159, 5160, 5161, 5162, 5163, 5164, 5165, 5166, 5167, 5168, 5169,\n",
       "       5170, 5171, 5172, 5173, 5174, 5175, 5176, 5177, 5178, 5179, 5180,\n",
       "       5181, 5182, 5183, 5184, 5185, 5186, 5187, 5188, 5189, 5190, 5191,\n",
       "       5192, 5193, 5194, 5195, 5196, 5197, 5198, 5199, 5200, 5201, 5202,\n",
       "       5203, 5204, 5205, 5206, 5207, 5208, 5209, 5210, 5211, 5212, 5213,\n",
       "       5214, 5215, 5216, 5217, 5218, 5219, 5220, 5221, 5222, 5223, 5224,\n",
       "       5225, 5226, 5227, 5228, 5229, 5230, 5231, 5232, 5233, 5234, 5235,\n",
       "       5236, 5237, 5238, 5239, 5240, 5241, 5242, 5243, 5244, 5245, 5246,\n",
       "       5247, 5248, 5249, 5250, 5251, 5252, 5253, 5254, 5255, 5256, 5257,\n",
       "       5258, 5259, 5260, 5261, 5262, 5263, 5264, 5265, 5266, 5267, 5268,\n",
       "       5269, 5270, 5271, 5272, 5273, 5274, 5275, 5276, 5277, 5278, 5279,\n",
       "       5280, 5281, 5282, 5283, 5284, 5285, 5286, 5287, 5288, 5289, 5290,\n",
       "       5291, 5292, 5293, 5294, 5295, 5296, 5297, 5298, 5299, 5300, 5301,\n",
       "       5302, 5303, 5304, 5305, 5306, 5307, 5308, 5309, 5310, 5311, 5312,\n",
       "       5313, 5314, 5315, 5316, 5317, 5318, 5319, 5320, 5321, 5322, 5323,\n",
       "       5324, 5325, 5326, 5327, 5328, 5329, 5330, 5331, 5332, 5333, 5334,\n",
       "       5335, 5336, 5337, 5338, 5339, 5340, 5341, 5342, 5343, 5344, 5345,\n",
       "       5346, 5347, 5348, 5349, 5350, 5351, 5352, 5353, 5354, 5355, 5356,\n",
       "       5357, 5358, 5359, 5360, 5361, 5362, 5363, 5364, 5365, 5366, 5367,\n",
       "       5368, 5369, 5370, 5371, 5372, 5373, 5374, 5375, 5376, 5377, 5378,\n",
       "       5379, 5380, 5381, 5382, 5383, 5384, 5385, 5386, 5387, 5388, 5389,\n",
       "       5390, 5391, 5392, 5393, 5394, 5395, 5396, 5397, 5398, 5399, 5400,\n",
       "       5401, 5402, 5403, 5404, 5405, 5406, 5407, 5408, 5409, 5410, 5411,\n",
       "       5412, 5413, 5414, 5415, 5416, 5417, 5418, 5419, 5420, 5421, 5422,\n",
       "       5423, 5424, 5425, 5426, 5427, 5428, 5429, 5430, 5431, 5432, 5433,\n",
       "       5434, 5435, 5436, 5437, 5438, 5439, 5440, 5441, 5442, 5443, 5444,\n",
       "       5445, 5446, 5447, 5448, 5449, 5450, 5451, 5452, 5453, 5454, 5455,\n",
       "       5456, 5457, 5458, 5459, 5460, 5461, 5462, 5463, 5464, 5465, 5466,\n",
       "       5467, 5468, 5469, 5470, 5471, 5472, 5473, 5474, 5475, 5476, 5477,\n",
       "       5478, 5479, 5480, 5481, 5482, 5483, 5484, 5485, 5486, 5487, 5488,\n",
       "       5489, 5490, 5491, 5492, 5493, 5494, 5495, 5496, 5497, 5498, 5499,\n",
       "       5500, 5501, 5502, 5503, 5504, 5505, 5506, 5507, 5508, 5509, 5510,\n",
       "       5511, 5512, 5513, 5514, 5515, 5516, 5517, 5518, 5519, 5520, 5521,\n",
       "       5522, 5523, 5524, 5525, 5526, 5527, 5528, 5529, 5530, 5531, 5532,\n",
       "       5533, 5534, 5535, 5536, 5537, 5538, 5539, 5540, 5541, 5542, 5543,\n",
       "       5544, 5545, 5546, 5547, 5548, 5549, 5550, 5551, 5552, 5553, 5554,\n",
       "       5555, 5556, 5557, 5558, 5559, 5560, 5561, 5562, 5563, 5564, 5565,\n",
       "       5566, 5567, 5568, 5569, 5570, 5571, 5572, 5573, 5574, 5575, 5576,\n",
       "       5577, 5578, 5579, 5580, 5581, 5582, 5583, 5584, 5585, 5586, 5587,\n",
       "       5588, 5589, 5590, 5591, 5592, 5593, 5594, 5595, 5596, 5597, 5598,\n",
       "       5599, 5600, 5601, 5602, 5603, 5604, 5605, 5606, 5607, 5608, 5609,\n",
       "       5610, 5611, 5612, 5613, 5614, 5615, 5616, 5617, 5618, 5619, 5620,\n",
       "       5621, 5622, 5623, 5624, 5625, 5626, 5627, 5628, 5629, 5630, 5631,\n",
       "       5632, 5633, 5634, 5635, 5636, 5637, 5638, 5639, 5640, 5641, 5642,\n",
       "       5643, 5644, 5645, 5646, 5647, 5648, 5649, 5650, 5651, 5652, 5653,\n",
       "       5654, 5655, 5656, 5657, 5658, 5659, 5660, 5661, 5662, 5663, 5664,\n",
       "       5665, 5666, 5667, 5668, 5669, 5670, 5671, 5672, 5673, 5674, 5675,\n",
       "       5676, 5677, 5678, 5679, 5680, 5681, 5682, 5683, 5684, 5685, 5686,\n",
       "       5687, 5688, 5689, 5690, 5691, 5692, 5693, 5694, 5695, 5696, 5697,\n",
       "       5698, 5699, 5700, 5701, 5702, 5703, 5704, 5705, 5706, 5707, 5708,\n",
       "       5709, 5710, 5711, 5712, 5713, 5714, 5715, 5716, 5717, 5718, 5719,\n",
       "       5720, 5721, 5722, 5723, 5724, 5725, 5726, 5727, 5728, 5729, 5730,\n",
       "       5731, 5732, 5733, 5734, 5735, 5736, 5737, 5738, 5739, 5740, 5741,\n",
       "       5742, 5743, 5744, 5745, 5746, 5747, 5748, 5749, 5750, 5751, 5752,\n",
       "       5753, 5754, 5755, 5756, 5757, 5758, 5759, 5760, 5761, 5762, 5763,\n",
       "       5764, 5765, 5766, 5767, 5768, 5769, 5770, 5771, 5772, 5773, 5774,\n",
       "       5775, 5776, 5777, 5778, 5779, 5780, 5781, 5782, 5783, 5784, 5785,\n",
       "       5786, 5787, 5788, 5789, 5790, 5791, 5792, 5793, 5794, 5795, 5796,\n",
       "       5797, 5798, 5799, 5800, 5801, 5802, 5803, 5804, 5805, 5806, 5807,\n",
       "       5808, 5809, 5810, 5811, 5812, 5813, 5814, 5815, 5816, 5817, 5818,\n",
       "       5819, 5820, 5821, 5822, 5823, 5824, 5825, 5826, 5827, 5828, 5829,\n",
       "       5830, 5831, 5832, 5833, 5834, 5835, 5836, 5837, 5838, 5839, 5840,\n",
       "       5841, 5842, 5843, 5844, 5845, 5846, 5847, 5848, 5849, 5850, 5851,\n",
       "       5852, 5853, 5854, 5855, 5856, 5857, 5858, 5859, 5860, 5861, 5862,\n",
       "       5863, 5864, 5865, 5866, 5867, 5868, 5869, 5870, 5871, 5872, 5873,\n",
       "       5874, 5875, 5876, 5877, 5878, 5879, 5880, 5881, 5882, 5883, 5884,\n",
       "       5885, 5886, 5887, 5888, 5889, 5890, 5891, 5892, 5893, 5894, 5895,\n",
       "       5896, 5897, 5898, 5899, 5900, 5901, 5902, 5903, 5904, 5905, 5906,\n",
       "       5907, 5908, 5909, 5910, 5911, 5912, 5913, 5914, 5915, 5916, 5917,\n",
       "       5918, 5919, 5920, 5921, 5922, 5923, 5924, 5925, 5926, 5927, 5928,\n",
       "       5929, 5930, 5931, 5932, 5933, 5934, 5935, 5936, 5937, 5938, 5939,\n",
       "       5940, 5941, 5942, 5943, 5944, 5945, 5946, 5947, 5948, 5949, 5950,\n",
       "       5951, 5952, 5953, 5954, 5955, 5956, 5957, 5958, 5959, 5960, 5961,\n",
       "       5962, 5963, 5964, 5965, 5966, 5967, 5968, 5969, 5970, 5971, 5972,\n",
       "       5973, 5974, 5975, 5976, 5977, 5978, 5979, 5980, 5981, 5982, 5983,\n",
       "       5984, 5985, 5986, 5987, 5988, 5989, 5990, 5991, 5992, 5993, 5994,\n",
       "       5995, 5996, 5997, 5998, 5999, 6000, 6001, 6002, 6003, 6004, 6005,\n",
       "       6006, 6007, 6008, 6009, 6010, 6011, 6012, 6013, 6014, 6015, 6016,\n",
       "       6017, 6018, 6019, 6020, 6021, 6022, 6023, 6024, 6025, 6026, 6027,\n",
       "       6028, 6029, 6030, 6031, 6032, 6033, 6034, 6035, 6036, 6037, 6038,\n",
       "       6039, 6040, 6041, 6042, 6043, 6044, 6045, 6046, 6047, 6048, 6049,\n",
       "       6050, 6051, 6052, 6053, 6054, 6055, 6056, 6057, 6058, 6059, 6060,\n",
       "       6061, 6062, 6063, 6064, 6065, 6066, 6067, 6068, 6069, 6070, 6071,\n",
       "       6072, 6073, 6074, 6075, 6076, 6077, 6078, 6079, 6080, 6081, 6082,\n",
       "       6083, 6084, 6085, 6086, 6087, 6088, 6089, 6090, 6091, 6092, 6093,\n",
       "       6094, 6095, 6096, 6097, 6098, 6099, 6100, 6101, 6102, 6103, 6104,\n",
       "       6105, 6106, 6107, 6108, 6109, 6110, 6111, 6112, 6113, 6114, 6115,\n",
       "       6116, 6117, 6118, 6119, 6120, 6121, 6122, 6123, 6124, 6125, 6126,\n",
       "       6127, 6128, 6129, 6130, 6131, 6132, 6133, 6134, 6135, 6136, 6137,\n",
       "       6138, 6139, 6140, 6141, 6142, 6143, 6144, 6145, 6146, 6147, 6148,\n",
       "       6149, 6150, 6151, 6152, 6153, 6154, 6155, 6156, 6157, 6158, 6159,\n",
       "       6160, 6161, 6162, 6163, 6164, 6165, 6166, 6167, 6168, 6169, 6170,\n",
       "       6171, 6172, 6173, 6174, 6175, 6176, 6177, 6178, 6179, 6180, 6181,\n",
       "       6182, 6183, 6184, 6185, 6186, 6187, 6188, 6189, 6190, 6191, 6192,\n",
       "       6193, 6194, 6195, 6196, 6197, 6198, 6199, 6200, 6201, 6202, 6203,\n",
       "       6204, 6205, 6206, 6207, 6208, 6209, 6210, 6211, 6212, 6213, 6214,\n",
       "       6215, 6216, 6217, 6218, 6219, 6220, 6221, 6222, 6223, 6224, 6225,\n",
       "       6226, 6227, 6228, 6229, 6230, 6231, 6232, 6233, 6234, 6235, 6236,\n",
       "       6237, 6238, 6239, 6240, 6241, 6242, 6243, 6244, 6245, 6246, 6247,\n",
       "       6248, 6249, 6250, 6251, 6252, 6253, 6254, 6255, 6256, 6257, 6258,\n",
       "       6259, 6260, 6261, 6262, 6263, 6264, 6265, 6266, 6267, 6268, 6269,\n",
       "       6270, 6271, 6272, 6273, 6274, 6275, 6276, 6277, 6278, 6279, 6280,\n",
       "       6281, 6282, 6283, 6284, 6285, 6286, 6287, 6288, 6289, 6290, 6291,\n",
       "       6292, 6293, 6294, 6295, 6296, 6297, 6298, 6299, 6300, 6301, 6302,\n",
       "       6303, 6304, 6305, 6306, 6307, 6308, 6309, 6310, 6311, 6312, 6313,\n",
       "       6314, 6315, 6316, 6317, 6318, 6319, 6320, 6321, 6322, 6323, 6324,\n",
       "       6325, 6326, 6327, 6328, 6329, 6330, 6331, 6332, 6333, 6334, 6335,\n",
       "       6336, 6337, 6338, 6339, 6340, 6341, 6342, 6343, 6344, 6345, 6346,\n",
       "       6347, 6348, 6349, 6350, 6351, 6352, 6353, 6354, 6355, 6356, 6357,\n",
       "       6358, 6359, 6360, 6361, 6362, 6363, 6364, 6365, 6366, 6367, 6368,\n",
       "       6369, 6370, 6371, 6372, 6373, 6374, 6375, 6376, 6377, 6378, 6379,\n",
       "       6380, 6381, 6382, 6383, 6384, 6385, 6386, 6387, 6388, 6389, 6390,\n",
       "       6391, 6392, 6393, 6394, 6395, 6396, 6397, 6398, 6399, 6400, 6401,\n",
       "       6402, 6403, 6404, 6405, 6406, 6407, 6408, 6409, 6410, 6411, 6412,\n",
       "       6413, 6414, 6415, 6416, 6417, 6418, 6419, 6420, 6421, 6422, 6423,\n",
       "       6424, 6425, 6426, 6427, 6428, 6429, 6430, 6431, 6432, 6433, 6434,\n",
       "       6435, 6436, 6437, 6438, 6439, 6440, 6441, 6442, 6443, 6444, 6445,\n",
       "       6446, 6447, 6448, 6449, 6450, 6451, 6452, 6453, 6454, 6455, 6456,\n",
       "       6457, 6458, 6459, 6460, 6461, 6462, 6463, 6464, 6465, 6466, 6467,\n",
       "       6468, 6469, 6470, 6471, 6472, 6473, 6474, 6475, 6476, 6477, 6478,\n",
       "       6479, 6480, 6481, 6482, 6483, 6484, 6485, 6486, 6487, 6488, 6489,\n",
       "       6490, 6491, 6492, 6493, 6494, 6495, 6496, 6497, 6498, 6499, 6500,\n",
       "       6501, 6502, 6503, 6504, 6505, 6506, 6507, 6508, 6509, 6510, 6511,\n",
       "       6512, 6513, 6514, 6515, 6516, 6517, 6518, 6519, 6520, 6521, 6522,\n",
       "       6523, 6524, 6525, 6526, 6527, 6528, 6529, 6530, 6531, 6532, 6533,\n",
       "       6534, 6535, 6536, 6537, 6538, 6539, 6540, 6541, 6542, 6543, 6544,\n",
       "       6545, 6546, 6547, 6548, 6549, 6550, 6551, 6552, 6553, 6554, 6555,\n",
       "       6556, 6557, 6558, 6559, 6560, 6561, 6562, 6563, 6564, 6565, 6566,\n",
       "       6567, 6568, 6569, 6570, 6571, 6572, 6573, 6574, 6575, 6576, 6577,\n",
       "       6578, 6579, 6580, 6581, 6582, 6583, 6584, 6585, 6586, 6587, 6588,\n",
       "       6589, 6590, 6591, 6592, 6593, 6594, 6595, 6596, 6597, 6598, 6599,\n",
       "       6600, 6601, 6602, 6603, 6604, 6605, 6606, 6607, 6608, 6609, 6610,\n",
       "       6611, 6612, 6613, 6614, 6615, 6616, 6617, 6618, 6619, 6620, 6621,\n",
       "       6622, 6623, 6624, 6625, 6626, 6627, 6628, 6629, 6630, 6631, 6632,\n",
       "       6633, 6634, 6635, 6636, 6637, 6638, 6639, 6640, 6641, 6642, 6643,\n",
       "       6644, 6645, 6646, 6647, 6648, 6649, 6650, 6651, 6652, 6653, 6654,\n",
       "       6655, 6656, 6657, 6658, 6659, 6660, 6661, 6662, 6663, 6664, 6665,\n",
       "       6666, 6667, 6668, 6669, 6670, 6671, 6672, 6673, 6674, 6675, 6676,\n",
       "       6677, 6678, 6679, 6680, 6681, 6682, 6683, 6684, 6685, 6686, 6687,\n",
       "       6688, 6689, 6690, 6691, 6692, 6693, 6694, 6695, 6696, 6697, 6698,\n",
       "       6699, 6700, 6701, 6702, 6703, 6704, 6705, 6706, 6707, 6708, 6709,\n",
       "       6710, 6711, 6712, 6713, 6714, 6715, 6716, 6717, 6718, 6719, 6720,\n",
       "       6721, 6722, 6723, 6724, 6725, 6726, 6727, 6728, 6729, 6730, 6731,\n",
       "       6732, 6733, 6734, 6735, 6736, 6737, 6738, 6739, 6740, 6741, 6742,\n",
       "       6743, 6744, 6745, 6746, 6747, 6748, 6749, 6750, 6751, 6752, 6753,\n",
       "       6754, 6755, 6756, 6757, 6758, 6759, 6760, 6761, 6762, 6763, 6764,\n",
       "       6765, 6766, 6767, 6768, 6769, 6770, 6771, 6772, 6773, 6774, 6775,\n",
       "       6776, 6777, 6778, 6779, 6780, 6781, 6782, 6783, 6784, 6785, 6786,\n",
       "       6787, 6788, 6789, 6790, 6791, 6792, 6793, 6794, 6795, 6796, 6797,\n",
       "       6798, 6799, 6800, 6801, 6802, 6803, 6804, 6805, 6806, 6807, 6808,\n",
       "       6809, 6810, 6811, 6812, 6813, 6814, 6815, 6816, 6817, 6818, 6819,\n",
       "       6820, 6821, 6822, 6823, 6824, 6825, 6826, 6827, 6828, 6829, 6830,\n",
       "       6831, 6832, 6833, 6834, 6835, 6836, 6837, 6838, 6839, 6840, 6841,\n",
       "       6842, 6843, 6844, 6845, 6846, 6847, 6848, 6849, 6850, 6851, 6852,\n",
       "       6853, 6854, 6855, 6856, 6857, 6858, 6859, 6860, 6861, 6862, 6863,\n",
       "       6864, 6865, 6866, 6867, 6868, 6869, 6870, 6871, 6872, 6873, 6874,\n",
       "       6875, 6876, 6877, 6878, 6879, 6880, 6881, 6882, 6883, 6884, 6885,\n",
       "       6886, 6887, 6888, 6889, 6890, 6891, 6892, 6893, 6894, 6895, 6896,\n",
       "       6897, 6898, 6899, 6900, 6901, 6902, 6903, 6904, 6905, 6906, 6907,\n",
       "       6908, 6909, 6910, 6911, 6912, 6913, 6914, 6915, 6916, 6917, 6918,\n",
       "       6919, 6920, 6921, 6922, 6923, 6924, 6925, 6926, 6927, 6928, 6929,\n",
       "       6930, 6931, 6932, 6933, 6934, 6935, 6936, 6937, 6938, 6939, 6940,\n",
       "       6941, 6942, 6943, 6944, 6945, 6946, 6947, 6948, 6949, 6950, 6951,\n",
       "       6952, 6953, 6954, 6955, 6956, 6957, 6958, 6959, 6960, 6961, 6962,\n",
       "       6963, 6964, 6965, 6966, 6967, 6968, 6969, 6970, 6971, 6972, 6973,\n",
       "       6974, 6975, 6976, 6977, 6978, 6979, 6980, 6981, 6982, 6983, 6984,\n",
       "       6985, 6986, 6987, 6988, 6989, 6990, 6991, 6992, 6993, 6994, 6995,\n",
       "       6996, 6997, 6998, 6999, 7000, 7001, 7002, 7003, 7004, 7005, 7006,\n",
       "       7007, 7008, 7009, 7010, 7011, 7012, 7013, 7014, 7015, 7016, 7017,\n",
       "       7018, 7019, 7020, 7021, 7022, 7023, 7024, 7025, 7026, 7027, 7028,\n",
       "       7029, 7030, 7031, 7032, 7033, 7034, 7035, 7036, 7037, 7038, 7039,\n",
       "       7040, 7041, 7042, 7043, 7044, 7045, 7046, 7047, 7048, 7049, 7050,\n",
       "       7051, 7052, 7053, 7054, 7055, 7056, 7057, 7058, 7059, 7060, 7061,\n",
       "       7062, 7063, 7064, 7065, 7066, 7067, 7068, 7069, 7070, 7071, 7072,\n",
       "       7073, 7074, 7075, 7076, 7077, 7078, 7079, 7080, 7081, 7082, 7083,\n",
       "       7084, 7085, 7086, 7087, 7088, 7089, 7090, 7091, 7092, 7093, 7094,\n",
       "       7095, 7096, 7097, 7098, 7099, 7100, 7101, 7102, 7103, 7104, 7105,\n",
       "       7106, 7107, 7108, 7109, 7110, 7111, 7112, 7113, 7114, 7115, 7116,\n",
       "       7117, 7118, 7119, 7120, 7121, 7122, 7123, 7124, 7125, 7126, 7127,\n",
       "       7128, 7129, 7130, 7131, 7132, 7133, 7134, 7135, 7136, 7137, 7138,\n",
       "       7139, 7140, 7141, 7142, 7143, 7144, 7145, 7146, 7147, 7148, 7149,\n",
       "       7150, 7151, 7152, 7153, 7154, 7155, 7156, 7157, 7158, 7159, 7160,\n",
       "       7161, 7162, 7163, 7164, 7165, 7166, 7167, 7168, 7169, 7170, 7171,\n",
       "       7172, 7173, 7174, 7175, 7176, 7177, 7178, 7179, 7180, 7181, 7182,\n",
       "       7183, 7184, 7185, 7186, 7187, 7188, 7189, 7190, 7191, 7192, 7193,\n",
       "       7194, 7195, 7196, 7197, 7198, 7199, 7200, 7201, 7202, 7203, 7204,\n",
       "       7205, 7206, 7207, 7208, 7209, 7210, 7211, 7212, 7213, 7214, 7215,\n",
       "       7216, 7217, 7218, 7219, 7220, 7221, 7222, 7223, 7224, 7225, 7226,\n",
       "       7227, 7228, 7229, 7230, 7231, 7232, 7233, 7234, 7235, 7236, 7237,\n",
       "       7238, 7239, 7240, 7241, 7242, 7243, 7244, 7245, 7246, 7247, 7248,\n",
       "       7249, 7250, 7251, 7252, 7253, 7254, 7255, 7256, 7257, 7258, 7259,\n",
       "       7260, 7261, 7262, 7263, 7264, 7265, 7266, 7267, 7268, 7269, 7270,\n",
       "       7271, 7272, 7273, 7274, 7275, 7276, 7277, 7278, 7279, 7280, 7281,\n",
       "       7282, 7283, 7284, 7285, 7286, 7287, 7288, 7289, 7290, 7291, 7292,\n",
       "       7293, 7294, 7295, 7296, 7297, 7298, 7299, 7300, 7301, 7302, 7303,\n",
       "       7304, 7305, 7306, 7307, 7308, 7309, 7310, 7311, 7312, 7313, 7314,\n",
       "       7315, 7316, 7317, 7318, 7319, 7320, 7321, 7322, 7323, 7324, 7325,\n",
       "       7326, 7327, 7328, 7329, 7330, 7331, 7332, 7333, 7334, 7335, 7336,\n",
       "       7337, 7338, 7339, 7340, 7341, 7342, 7343, 7344, 7345, 7346, 7347,\n",
       "       7348, 7349, 7350, 7351, 7352, 7353, 7354, 7355, 7356, 7357, 7358,\n",
       "       7359, 7360, 7361, 7362, 7363, 7364, 7365, 7366, 7367, 7368, 7369,\n",
       "       7370, 7371, 7372, 7373, 7374, 7375, 7376, 7377, 7378, 7379, 7380,\n",
       "       7381, 7382, 7383, 7384, 7385, 7386, 7387, 7388, 7389, 7390, 7391,\n",
       "       7392, 7393, 7394, 7395, 7396, 7397, 7398, 7399, 7400, 7401, 7402,\n",
       "       7403, 7404, 7405, 7406, 7407, 7408, 7409, 7410, 7411, 7412, 7413,\n",
       "       7414, 7415, 7416, 7417, 7418, 7419, 7420, 7421, 7422, 7423, 7424,\n",
       "       7425, 7426, 7427, 7428, 7429, 7430, 7431, 7432, 7433, 7434, 7435,\n",
       "       7436, 7437, 7438, 7439, 7440, 7441, 7442, 7443, 7444, 7445, 7446,\n",
       "       7447, 7448, 7449, 7450, 7451, 7452, 7453, 7454, 7455, 7456, 7457,\n",
       "       7458, 7459, 7460, 7461, 7462, 7463, 7464, 7465, 7466, 7467, 7468,\n",
       "       7469, 7470, 7471, 7472, 7473, 7474, 7475, 7476, 7477, 7478, 7479,\n",
       "       7480, 7481, 7482, 7483, 7484, 7485, 7486, 7487, 7488, 7489, 7490,\n",
       "       7491, 7492, 7493, 7494, 7495, 7496, 7497, 7498, 7499, 7500, 7501,\n",
       "       7502, 7503, 7504, 7505, 7506, 7507, 7508, 7509, 7510, 7511, 7512,\n",
       "       7513, 7514, 7515, 7516, 7517, 7518, 7519, 7520, 7521, 7522, 7523,\n",
       "       7524, 7525, 7526, 7527, 7528, 7529, 7530, 7531, 7532, 7533, 7534,\n",
       "       7535, 7536, 7537, 7538, 7539, 7540, 7541, 7542, 7543, 7544, 7545,\n",
       "       7546, 7547, 7548, 7549, 7550, 7551, 7552, 7553, 7554, 7555, 7556,\n",
       "       7557, 7558, 7559, 7560, 7561, 7562, 7563, 7564, 7565, 7566, 7567,\n",
       "       7568, 7569, 7570, 7571, 7572, 7573, 7574, 7575, 7576, 7577, 7578,\n",
       "       7579, 7580, 7581, 7582, 7583, 7584, 7585, 7586, 7587, 7588, 7589,\n",
       "       7590, 7591, 7592, 7593, 7594, 7595, 7596, 7597, 7598, 7599, 7600,\n",
       "       7601, 7602, 7603, 7604, 7605, 7606, 7607, 7608, 7609, 7610, 7611,\n",
       "       7612, 7613, 7614, 7615, 7616, 7617, 7618, 7619, 7620, 7621, 7622,\n",
       "       7623, 7624, 7625, 7626, 7627, 7628, 7629, 7630, 7631, 7632, 7633,\n",
       "       7634, 7635, 7636, 7637, 7638, 7639, 7640, 7641, 7642, 7643, 7644,\n",
       "       7645, 7646, 7647, 7648, 7649, 7650, 7651, 7652, 7653, 7654, 7655,\n",
       "       7656, 7657, 7658, 7659, 7660, 7661, 7662, 7663, 7664, 7665, 7666,\n",
       "       7667, 7668, 7669, 7670, 7671, 7672, 7673, 7674, 7675, 7676, 7677,\n",
       "       7678, 7679, 7680, 7681, 7682, 7683, 7684, 7685, 7686, 7687, 7688,\n",
       "       7689, 7690, 7691, 7692, 7693, 7694, 7695, 7696, 7697, 7698, 7699,\n",
       "       7700, 7701, 7702, 7703, 7704, 7705, 7706, 7707, 7708, 7709, 7710,\n",
       "       7711, 7712, 7713, 7714, 7715, 7716, 7717, 7718, 7719, 7720, 7721,\n",
       "       7722, 7723, 7724, 7725, 7726, 7727, 7728, 7729, 7730, 7731, 7732,\n",
       "       7733, 7734, 7735, 7736, 7737, 7738, 7739, 7740, 7741, 7742, 7743,\n",
       "       7744, 7745, 7746, 7747, 7748, 7749, 7750, 7751, 7752, 7753, 7754,\n",
       "       7755, 7756, 7757, 7758, 7759, 7760, 7761, 7762, 7763, 7764, 7765,\n",
       "       7766, 7767, 7768, 7769, 7770, 7771, 7772, 7773, 7774, 7775, 7776,\n",
       "       7777, 7778, 7779, 7780, 7781, 7782, 7783, 7784, 7785, 7786, 7787,\n",
       "       7788, 7789, 7790, 7791, 7792, 7793, 7794, 7795, 7796, 7797, 7798,\n",
       "       7799, 7800, 7801, 7802, 7803, 7804, 7805, 7806, 7807, 7808, 7809,\n",
       "       7810, 7811, 7812, 7813, 7814, 7815, 7816, 7817, 7818, 7819, 7820,\n",
       "       7821, 7822, 7823, 7824, 7825, 7826, 7827, 7828, 7829, 7830, 7831,\n",
       "       7832, 7833, 7834, 7835, 7836, 7837, 7838, 7839, 7840, 7841, 7842,\n",
       "       7843, 7844, 7845, 7846, 7847, 7848, 7849, 7850, 7851, 7852, 7853,\n",
       "       7854, 7855, 7856, 7857, 7858, 7859, 7860, 7861, 7862, 7863, 7864,\n",
       "       7865, 7866, 7867, 7868, 7869, 7870, 7871, 7872, 7873, 7874, 7875,\n",
       "       7876, 7877, 7878, 7879, 7880, 7881, 7882, 7883, 7884, 7885, 7886,\n",
       "       7887, 7888, 7889, 7890, 7891, 7892, 7893, 7894, 7895, 7896, 7897,\n",
       "       7898, 7899, 7900, 7901, 7902, 7903, 7904, 7905, 7906, 7907, 7908,\n",
       "       7909, 7910, 7911, 7912, 7913, 7914, 7915, 7916, 7917, 7918, 7919,\n",
       "       7920, 7921, 7922, 7923, 7924, 7925, 7926, 7927, 7928, 7929, 7930,\n",
       "       7931, 7932, 7933, 7934, 7935, 7936, 7937, 7938, 7939, 7940, 7941,\n",
       "       7942, 7943, 7944, 7945, 7946, 7947, 7948, 7949, 7950, 7951, 7952,\n",
       "       7953, 7954, 7955, 7956, 7957, 7958, 7959, 7960, 7961, 7962, 7963,\n",
       "       7964, 7965, 7966, 7967, 7968, 7969, 7970, 7971, 7972, 7973, 7974,\n",
       "       7975, 7976, 7977, 7978, 7979, 7980, 7981, 7982, 7983, 7984, 7985,\n",
       "       7986, 7987, 7988, 7989, 7990, 7991, 7992, 7993, 7994, 7995, 7996,\n",
       "       7997, 7998, 7999, 8000, 8001, 8002, 8003, 8004, 8005, 8006, 8007,\n",
       "       8008, 8009, 8010, 8011, 8012, 8013, 8014, 8015, 8016, 8017, 8018,\n",
       "       8019, 8020, 8021, 8022, 8023, 8024, 8025, 8026, 8027, 8028, 8029,\n",
       "       8030, 8031, 8032, 8033, 8034, 8035, 8036, 8037, 8038, 8039, 8040,\n",
       "       8041, 8042, 8043, 8044, 8045, 8046, 8047, 8048, 8049, 8050, 8051,\n",
       "       8052, 8053, 8054, 8055, 8056, 8057, 8058, 8059, 8060, 8061, 8062,\n",
       "       8063, 8064, 8065, 8066, 8067, 8068, 8069, 8070, 8071, 8072, 8073,\n",
       "       8074, 8075, 8076, 8077, 8078, 8079, 8080, 8081, 8082, 8083, 8084,\n",
       "       8085, 8086, 8087, 8088, 8089, 8090, 8091, 8092, 8093, 8094, 8095,\n",
       "       8096, 8097, 8098, 8099, 8100, 8101, 8102, 8103, 8104, 8105, 8106,\n",
       "       8107, 8108, 8109, 8110, 8111, 8112, 8113, 8114, 8115, 8116, 8117,\n",
       "       8118, 8119, 8120, 8121, 8122, 8123, 8124, 8125, 8126, 8127, 8128,\n",
       "       8129, 8130, 8131, 8132, 8133, 8134, 8135, 8136, 8137, 8138, 8139,\n",
       "       8140, 8141, 8142, 8143, 8144, 8145, 8146, 8147, 8148, 8149, 8150,\n",
       "       8151, 8152, 8153, 8154, 8155, 8156, 8157, 8158, 8159, 8160, 8161,\n",
       "       8162, 8163, 8164, 8165, 8166, 8167, 8168, 8169, 8170, 8171, 8172,\n",
       "       8173, 8174, 8175, 8176, 8177, 8178, 8179, 8180, 8181, 8182, 8183,\n",
       "       8184, 8185, 8186, 8187, 8188, 8189, 8190, 8191, 8192, 8193, 8194,\n",
       "       8195, 8196, 8197, 8198, 8199, 8200, 8201, 8202, 8203, 8204, 8205,\n",
       "       8206, 8207, 8208, 8209, 8210, 8211, 8212, 8213, 8214, 8215, 8216,\n",
       "       8217, 8218, 8219, 8220, 8221, 8222, 8223, 8224, 8225, 8226, 8227,\n",
       "       8228, 8229, 8230, 8231, 8232, 8233, 8234, 8235, 8236, 8237, 8238,\n",
       "       8239, 8240, 8241, 8242, 8243, 8244, 8245, 8246, 8247, 8248, 8249,\n",
       "       8250, 8251, 8252, 8253, 8254, 8255, 8256, 8257, 8258, 8259, 8260,\n",
       "       8261, 8262, 8263, 8264, 8265, 8266, 8267, 8268, 8269, 8270, 8271,\n",
       "       8272, 8273, 8274, 8275, 8276, 8277, 8278, 8279, 8280, 8281, 8282,\n",
       "       8283, 8284, 8285, 8286, 8287, 8288, 8289, 8290, 8291, 8292, 8293,\n",
       "       8294, 8295, 8296, 8297, 8298, 8299, 8300, 8301, 8302, 8303, 8304,\n",
       "       8305, 8306, 8307, 8308, 8309, 8310, 8311, 8312, 8313, 8314, 8315,\n",
       "       8316, 8317, 8318, 8319, 8320, 8321, 8322, 8323, 8324, 8325, 8326,\n",
       "       8327, 8328, 8329, 8330, 8331, 8332, 8333, 8334, 8335, 8336, 8337,\n",
       "       8338, 8339, 8340, 8341, 8342, 8343, 8344, 8345, 8346, 8347, 8348,\n",
       "       8349, 8350, 8351, 8352, 8353, 8354, 8355, 8356, 8357, 8358, 8359,\n",
       "       8360, 8361, 8362, 8363, 8364, 8365, 8366, 8367, 8368, 8369, 8370,\n",
       "       8371, 8372, 8373, 8374, 8375, 8376, 8377, 8378, 8379, 8380, 8381,\n",
       "       8382, 8383, 8384, 8385, 8386, 8387, 8388, 8389, 8390, 8391, 8392,\n",
       "       8393, 8394, 8395, 8396, 8397, 8398, 8399, 8400, 8401, 8402, 8403,\n",
       "       8404, 8405, 8406, 8407, 8408, 8409, 8410, 8411, 8412, 8413, 8414,\n",
       "       8415, 8416, 8417, 8418, 8419, 8420, 8421, 8422, 8423, 8424, 8425,\n",
       "       8426, 8427, 8428, 8429, 8430, 8431, 8432, 8433, 8434, 8435, 8436,\n",
       "       8437, 8438, 8439, 8440, 8441, 8442, 8443, 8444, 8445, 8446, 8447,\n",
       "       8448, 8449, 8450, 8451, 8452, 8453, 8454, 8455, 8456, 8457, 8458,\n",
       "       8459, 8460, 8461, 8462, 8463, 8464, 8465, 8466, 8467, 8468, 8469,\n",
       "       8470, 8471, 8472, 8473, 8474, 8475, 8476, 8477, 8478, 8479, 8480,\n",
       "       8481, 8482, 8483, 8484, 8485, 8486, 8487, 8488, 8489, 8490, 8491,\n",
       "       8492, 8493, 8494, 8495, 8496, 8497, 8498, 8499, 8500, 8501, 8502,\n",
       "       8503, 8504, 8505, 8506, 8507, 8508, 8509, 8510, 8511, 8512, 8513,\n",
       "       8514, 8515, 8516, 8517, 8518, 8519, 8520, 8521, 8522, 8523, 8524,\n",
       "       8525, 8526, 8527, 8528, 8529, 8530, 8531, 8532, 8533, 8534, 8535,\n",
       "       8536, 8537, 8538, 8539, 8540, 8541, 8542, 8543, 8544, 8545, 8546,\n",
       "       8547, 8548, 8549, 8550, 8551, 8552, 8553, 8554, 8555, 8556, 8557,\n",
       "       8558, 8559, 8560, 8561, 8562, 8563, 8564, 8565, 8566, 8567, 8568,\n",
       "       8569, 8570, 8571, 8572, 8573, 8574, 8575, 8576, 8577, 8578, 8579,\n",
       "       8580, 8581, 8582, 8583, 8584, 8585, 8586, 8587, 8588, 8589, 8590,\n",
       "       8591, 8592, 8593, 8594, 8595, 8596, 8597, 8598, 8599, 8600, 8601,\n",
       "       8602, 8603, 8604, 8605, 8606, 8607, 8608, 8609, 8610, 8611, 8612,\n",
       "       8613, 8614, 8615, 8616, 8617, 8618, 8619, 8620, 8621, 8622, 8623,\n",
       "       8624, 8625, 8626, 8627, 8628, 8629, 8630, 8631, 8632, 8633, 8634,\n",
       "       8635, 8636, 8637, 8638, 8639, 8640, 8641, 8642, 8643, 8644, 8645,\n",
       "       8646, 8647, 8648, 8649, 8650, 8651, 8652, 8653, 8654, 8655, 8656,\n",
       "       8657, 8658, 8659, 8660, 8661, 8662, 8663, 8664, 8665, 8666, 8667,\n",
       "       8668, 8669, 8670, 8671, 8672, 8673, 8674, 8675, 8676, 8677, 8678,\n",
       "       8679, 8680, 8681, 8682, 8683, 8684, 8685, 8686, 8687, 8688, 8689,\n",
       "       8690, 8691, 8692, 8693, 8694, 8695, 8696, 8697, 8698, 8699, 8700,\n",
       "       8701, 8702, 8703, 8704, 8705, 8706, 8707, 8708, 8709, 8710, 8711,\n",
       "       8712, 8713, 8714, 8715, 8716, 8717, 8718, 8719, 8720, 8721, 8722,\n",
       "       8723, 8724, 8725, 8726, 8727, 8728, 8729, 8730, 8731, 8732, 8733,\n",
       "       8734, 8735, 8736, 8737, 8738, 8739, 8740, 8741, 8742, 8743, 8744,\n",
       "       8745, 8746, 8747, 8748, 8749, 8750, 8751, 8752, 8753, 8754, 8755,\n",
       "       8756, 8757, 8758, 8759, 8760, 8761, 8762, 8763, 8764, 8765, 8766,\n",
       "       8767, 8768, 8769, 8770, 8771, 8772, 8773, 8774, 8775, 8776, 8777,\n",
       "       8778, 8779, 8780, 8781, 8782, 8783, 8784, 8785, 8786, 8787, 8788,\n",
       "       8789, 8790, 8791, 8792, 8793, 8794, 8795, 8796, 8797, 8798, 8799,\n",
       "       8800, 8801, 8802, 8803, 8804, 8805, 8806, 8807, 8808, 8809, 8810,\n",
       "       8811, 8812, 8813, 8814, 8815, 8816, 8817, 8818, 8819, 8820, 8821,\n",
       "       8822, 8823, 8824, 8825, 8826, 8827, 8828, 8829, 8830, 8831, 8832,\n",
       "       8833, 8834, 8835, 8836, 8837, 8838, 8839, 8840, 8841, 8842, 8843,\n",
       "       8844, 8845, 8846, 8847, 8848, 8849, 8850, 8851, 8852, 8853, 8854,\n",
       "       8855, 8856, 8857, 8858, 8859, 8860, 8861, 8862, 8863, 8864, 8865,\n",
       "       8866, 8867, 8868, 8869, 8870, 8871, 8872, 8873, 8874, 8875, 8876,\n",
       "       8877, 8878, 8879, 8880, 8881, 8882, 8883, 8884, 8885, 8886, 8887,\n",
       "       8888, 8889, 8890, 8891, 8892, 8893, 8894, 8895, 8896, 8897, 8898,\n",
       "       8899, 8900, 8901, 8902, 8903, 8904, 8905, 8906, 8907, 8908, 8909,\n",
       "       8910, 8911, 8912, 8913, 8914, 8915, 8916, 8917, 8918, 8919, 8920,\n",
       "       8921, 8922, 8923, 8924, 8925, 8926, 8927, 8928, 8929, 8930, 8931,\n",
       "       8932, 8933, 8934, 8935, 8936, 8937, 8938, 8939, 8940, 8941, 8942,\n",
       "       8943, 8944, 8945, 8946, 8947, 8948, 8949, 8950, 8951, 8952, 8953,\n",
       "       8954, 8955, 8956, 8957, 8958, 8959, 8960, 8961, 8962, 8963, 8964,\n",
       "       8965, 8966, 8967, 8968, 8969, 8970, 8971, 8972, 8973, 8974, 8975,\n",
       "       8976, 8977, 8978, 8979, 8980, 8981, 8982, 8983, 8984, 8985, 8986,\n",
       "       8987, 8988, 8989, 8990, 8991, 8992, 8993, 8994, 8995, 8996, 8997,\n",
       "       8998, 8999, 9000, 9001, 9002, 9003, 9004, 9005, 9006, 9007, 9008,\n",
       "       9009, 9010, 9011, 9012, 9013, 9014, 9015, 9016, 9017, 9018, 9019,\n",
       "       9020, 9021, 9022, 9023, 9024, 9025, 9026, 9027, 9028, 9029, 9030,\n",
       "       9031, 9032, 9033, 9034, 9035, 9036, 9037, 9038, 9039, 9040, 9041,\n",
       "       9042, 9043, 9044, 9045, 9046, 9047, 9048, 9049, 9050, 9051, 9052,\n",
       "       9053, 9054, 9055, 9056, 9057, 9058, 9059, 9060, 9061, 9062, 9063,\n",
       "       9064, 9065, 9066, 9067, 9068, 9069, 9070, 9071, 9072, 9073, 9074,\n",
       "       9075, 9076, 9077, 9078, 9079, 9080, 9081, 9082, 9083, 9084, 9085,\n",
       "       9086, 9087, 9088, 9089, 9090, 9091, 9092, 9093, 9094, 9095, 9096,\n",
       "       9097, 9098, 9099, 9100, 9101, 9102, 9103, 9104, 9105, 9106, 9107,\n",
       "       9108, 9109, 9110, 9111, 9112, 9113, 9114, 9115, 9116, 9117, 9118,\n",
       "       9119, 9120, 9121, 9122, 9123, 9124, 9125, 9126, 9127, 9128, 9129,\n",
       "       9130, 9131, 9132, 9133, 9134, 9135, 9136, 9137, 9138, 9139, 9140,\n",
       "       9141, 9142, 9143, 9144, 9145, 9146, 9147, 9148, 9149, 9150, 9151,\n",
       "       9152, 9153, 9154, 9155, 9156, 9157, 9158, 9159, 9160, 9161, 9162,\n",
       "       9163, 9164, 9165, 9166, 9167, 9168, 9169, 9170, 9171, 9172, 9173,\n",
       "       9174, 9175, 9176, 9177, 9178, 9179, 9180, 9181, 9182, 9183, 9184,\n",
       "       9185, 9186, 9187, 9188, 9189, 9190, 9191, 9192, 9193, 9194, 9195,\n",
       "       9196, 9197, 9198, 9199, 9200, 9201, 9202, 9203, 9204, 9205, 9206,\n",
       "       9207, 9208, 9209, 9210, 9211, 9212, 9213, 9214, 9215, 9216, 9217,\n",
       "       9218, 9219, 9220, 9221, 9222, 9223, 9224, 9225, 9226, 9227, 9228,\n",
       "       9229, 9230, 9231, 9232, 9233, 9234, 9235, 9236, 9237, 9238, 9239,\n",
       "       9240, 9241, 9242, 9243, 9244, 9245, 9246, 9247, 9248, 9249, 9250,\n",
       "       9251, 9252, 9253, 9254, 9255, 9256, 9257, 9258, 9259, 9260, 9261,\n",
       "       9262, 9263, 9264, 9265, 9266, 9267, 9268, 9269, 9270, 9271, 9272,\n",
       "       9273, 9274, 9275, 9276, 9277, 9278, 9279, 9280, 9281, 9282, 9283,\n",
       "       9284, 9285, 9286, 9287, 9288, 9289, 9290, 9291, 9292, 9293, 9294,\n",
       "       9295, 9296, 9297, 9298, 9299, 9300, 9301, 9302, 9303, 9304, 9305,\n",
       "       9306, 9307, 9308, 9309, 9310, 9311, 9312, 9313, 9314, 9315, 9316,\n",
       "       9317, 9318, 9319, 9320, 9321, 9322, 9323, 9324, 9325, 9326, 9327,\n",
       "       9328, 9329, 9330, 9331, 9332, 9333, 9334, 9335, 9336, 9337, 9338,\n",
       "       9339, 9340, 9341, 9342, 9343, 9344, 9345, 9346, 9347, 9348, 9349,\n",
       "       9350, 9351, 9352, 9353, 9354, 9355, 9356, 9357, 9358, 9359, 9360,\n",
       "       9361, 9362, 9363, 9364, 9365, 9366, 9367, 9368, 9369, 9370, 9371,\n",
       "       9372, 9373, 9374, 9375, 9376, 9377, 9378, 9379, 9380, 9381, 9382,\n",
       "       9383, 9384, 9385, 9386, 9387, 9388, 9389, 9390, 9391, 9392, 9393,\n",
       "       9394, 9395, 9396, 9397, 9398, 9399, 9400, 9401, 9402, 9403, 9404,\n",
       "       9405, 9406, 9407, 9408, 9409, 9410, 9411, 9412, 9413, 9414, 9415,\n",
       "       9416, 9417, 9418, 9419, 9420, 9421, 9422, 9423, 9424, 9425, 9426,\n",
       "       9427, 9428, 9429, 9430, 9431, 9432, 9433, 9434, 9435, 9436, 9437,\n",
       "       9438, 9439, 9440, 9441, 9442, 9443, 9444, 9445, 9446, 9447, 9448,\n",
       "       9449, 9450, 9451, 9452, 9453, 9454, 9455, 9456, 9457, 9458, 9459,\n",
       "       9460, 9461, 9462, 9463, 9464, 9465, 9466, 9467, 9468, 9469, 9470,\n",
       "       9471, 9472, 9473, 9474, 9475, 9476, 9477, 9478, 9479, 9480, 9481,\n",
       "       9482, 9483, 9484, 9485, 9486, 9487, 9488, 9489, 9490, 9491, 9492,\n",
       "       9493, 9494, 9495, 9496, 9497, 9498, 9499, 9500, 9501, 9502, 9503,\n",
       "       9504, 9505, 9506, 9507, 9508, 9509, 9510, 9511, 9512, 9513, 9514,\n",
       "       9515, 9516, 9517, 9518, 9519, 9520, 9521, 9522, 9523, 9524, 9525,\n",
       "       9526, 9527, 9528, 9529, 9530, 9531, 9532, 9533, 9534, 9535, 9536,\n",
       "       9537, 9538, 9539, 9540, 9541, 9542, 9543, 9544, 9545, 9546, 9547,\n",
       "       9548, 9549, 9550, 9551, 9552, 9553, 9554, 9555, 9556, 9557, 9558,\n",
       "       9559, 9560, 9561, 9562, 9563, 9564, 9565, 9566, 9567, 9568, 9569,\n",
       "       9570, 9571, 9572, 9573, 9574, 9575, 9576, 9577, 9578, 9579, 9580,\n",
       "       9581, 9582, 9583, 9584, 9585, 9586, 9587, 9588, 9589, 9590, 9591,\n",
       "       9592, 9593, 9594, 9595, 9596, 9597, 9598, 9599, 9600, 9601, 9602,\n",
       "       9603, 9604, 9605, 9606, 9607, 9608, 9609, 9610, 9611, 9612, 9613,\n",
       "       9614, 9615, 9616, 9617, 9618, 9619, 9620, 9621, 9622, 9623, 9624,\n",
       "       9625, 9626, 9627, 9628, 9629, 9630, 9631, 9632, 9633, 9634, 9635,\n",
       "       9636, 9637, 9638, 9639, 9640, 9641, 9642, 9643, 9644, 9645, 9646,\n",
       "       9647, 9648, 9649, 9650, 9651, 9652, 9653, 9654, 9655, 9656, 9657,\n",
       "       9658, 9659, 9660, 9661, 9662, 9663, 9664, 9665, 9666, 9667, 9668,\n",
       "       9669, 9670, 9671, 9672, 9673, 9674, 9675, 9676, 9677, 9678, 9679,\n",
       "       9680, 9681, 9682, 9683, 9684, 9685, 9686, 9687, 9688, 9689, 9690,\n",
       "       9691, 9692, 9693, 9694, 9695, 9696, 9697, 9698, 9699, 9700, 9701,\n",
       "       9702, 9703, 9704, 9705, 9706, 9707, 9708, 9709, 9710, 9711, 9712,\n",
       "       9713, 9714, 9715, 9716, 9717, 9718, 9719, 9720, 9721, 9722, 9723,\n",
       "       9724, 9725, 9726, 9727, 9728, 9729, 9730, 9731, 9732, 9733, 9734,\n",
       "       9735, 9736, 9737, 9738, 9739, 9740, 9741, 9742, 9743, 9744, 9745,\n",
       "       9746, 9747, 9748, 9749, 9750, 9751, 9752, 9753, 9754, 9755, 9756,\n",
       "       9757, 9758, 9759, 9760, 9761, 9762, 9763, 9764, 9765, 9766, 9767,\n",
       "       9768, 9769, 9770, 9771, 9772, 9773, 9774, 9775, 9776, 9777, 9778,\n",
       "       9779, 9780, 9781, 9782, 9783, 9784, 9785, 9786, 9787, 9788, 9789,\n",
       "       9790, 9791, 9792, 9793, 9794, 9795, 9796, 9797, 9798, 9799, 9800,\n",
       "       9801, 9802, 9803, 9804, 9805, 9806, 9807, 9808, 9809, 9810, 9811,\n",
       "       9812, 9813, 9814, 9815, 9816, 9817, 9818, 9819, 9820, 9821, 9822,\n",
       "       9823, 9824, 9825, 9826, 9827, 9828, 9829, 9830, 9831, 9832, 9833,\n",
       "       9834, 9835, 9836, 9837, 9838, 9839, 9840, 9841, 9842, 9843, 9844,\n",
       "       9845, 9846, 9847, 9848, 9849, 9850, 9851, 9852, 9853, 9854, 9855,\n",
       "       9856, 9857, 9858, 9859, 9860, 9861, 9862, 9863, 9864, 9865, 9866,\n",
       "       9867, 9868, 9869, 9870, 9871, 9872, 9873, 9874, 9875, 9876, 9877,\n",
       "       9878, 9879, 9880, 9881, 9882, 9883, 9884, 9885, 9886, 9887, 9888,\n",
       "       9889, 9890, 9891, 9892, 9893, 9894, 9895, 9896, 9897, 9898, 9899,\n",
       "       9900, 9901, 9902, 9903, 9904, 9905, 9906, 9907, 9908, 9909, 9910,\n",
       "       9911, 9912, 9913, 9914, 9915, 9916, 9917, 9918, 9919, 9920, 9921,\n",
       "       9922, 9923, 9924, 9925, 9926, 9927, 9928, 9929, 9930, 9931, 9932,\n",
       "       9933, 9934, 9935, 9936, 9937, 9938, 9939, 9940, 9941, 9942, 9943,\n",
       "       9944, 9945, 9946, 9947, 9948, 9949, 9950, 9951, 9952, 9953, 9954,\n",
       "       9955, 9956, 9957, 9958, 9959, 9960, 9961, 9962, 9963, 9964, 9965,\n",
       "       9966, 9967, 9968, 9969, 9970, 9971, 9972, 9973, 9974, 9975, 9976,\n",
       "       9977, 9978, 9979, 9980, 9981, 9982, 9983, 9984, 9985, 9986, 9987,\n",
       "       9988, 9989, 9990, 9991, 9992, 9993, 9994, 9995, 9996, 9997, 9998,\n",
       "       9999])"
      ]
     },
     "execution_count": 768,
     "metadata": {},
     "output_type": "execute_result"
    }
   ],
   "source": [
    "a"
   ]
  },
  {
   "cell_type": "code",
   "execution_count": 779,
   "id": "3739567e",
   "metadata": {},
   "outputs": [],
   "source": [
    "a=np.arange(36).reshape(6,-1)"
   ]
  },
  {
   "cell_type": "code",
   "execution_count": 780,
   "id": "816353ee",
   "metadata": {},
   "outputs": [
    {
     "data": {
      "text/plain": [
       "array([[ 0,  1,  2,  3,  4,  5],\n",
       "       [ 6,  7,  8,  9, 10, 11],\n",
       "       [12, 13, 14, 15, 16, 17],\n",
       "       [18, 19, 20, 21, 22, 23],\n",
       "       [24, 25, 26, 27, 28, 29],\n",
       "       [30, 31, 32, 33, 34, 35]])"
      ]
     },
     "execution_count": 780,
     "metadata": {},
     "output_type": "execute_result"
    }
   ],
   "source": [
    "a"
   ]
  },
  {
   "cell_type": "code",
   "execution_count": 51,
   "id": "54691d41",
   "metadata": {},
   "outputs": [],
   "source": [
    "import datetime"
   ]
  },
  {
   "cell_type": "code",
   "execution_count": 52,
   "id": "4c4a2b2c",
   "metadata": {},
   "outputs": [
    {
     "data": {
      "text/plain": [
       "datetime.datetime(2025, 2, 19, 16, 4, 54, 9726)"
      ]
     },
     "execution_count": 52,
     "metadata": {},
     "output_type": "execute_result"
    }
   ],
   "source": [
    "datetime.datetime.now()"
   ]
  },
  {
   "cell_type": "code",
   "execution_count": 785,
   "id": "308eab27",
   "metadata": {},
   "outputs": [
    {
     "data": {
      "text/plain": [
       "numpy.datetime64('2024-10-09')"
      ]
     },
     "execution_count": 785,
     "metadata": {},
     "output_type": "execute_result"
    }
   ],
   "source": [
    "np.datetime64('today')"
   ]
  },
  {
   "cell_type": "code",
   "execution_count": 54,
   "id": "989b674d",
   "metadata": {},
   "outputs": [
    {
     "data": {
      "text/plain": [
       "numpy.datetime64('2025-03-26')"
      ]
     },
     "execution_count": 54,
     "metadata": {},
     "output_type": "execute_result"
    }
   ],
   "source": [
    "np.datetime64(\"today\",\"D\")+np.timedelta64(5,'W')"
   ]
  },
  {
   "cell_type": "code",
   "execution_count": 55,
   "id": "c16d6915",
   "metadata": {},
   "outputs": [
    {
     "data": {
      "text/plain": [
       "numpy.datetime64('2025-02-14')"
      ]
     },
     "execution_count": 55,
     "metadata": {},
     "output_type": "execute_result"
    }
   ],
   "source": [
    "np.datetime64(\"today\",\"D\")-np.timedelta64(5,'D')"
   ]
  },
  {
   "cell_type": "code",
   "execution_count": 791,
   "id": "18909d3b",
   "metadata": {},
   "outputs": [
    {
     "data": {
      "text/plain": [
       "array(['2024-10-01', '2024-10-02', '2024-10-03', '2024-10-04',\n",
       "       '2024-10-05', '2024-10-06', '2024-10-07', '2024-10-08',\n",
       "       '2024-10-09', '2024-10-10', '2024-10-11', '2024-10-12',\n",
       "       '2024-10-13', '2024-10-14', '2024-10-15', '2024-10-16',\n",
       "       '2024-10-17', '2024-10-18', '2024-10-19', '2024-10-20',\n",
       "       '2024-10-21', '2024-10-22', '2024-10-23', '2024-10-24',\n",
       "       '2024-10-25', '2024-10-26', '2024-10-27', '2024-10-28',\n",
       "       '2024-10-29', '2024-10-30', '2024-10-31'], dtype='datetime64[D]')"
      ]
     },
     "execution_count": 791,
     "metadata": {},
     "output_type": "execute_result"
    }
   ],
   "source": [
    "np.arange('2024-10-01','2024-11-01',dtype=\"datetime64[D]\")"
   ]
  },
  {
   "cell_type": "code",
   "execution_count": 792,
   "id": "ecbf296e",
   "metadata": {},
   "outputs": [
    {
     "data": {
      "text/plain": [
       "array(['2024-01-01', '2024-01-02', '2024-01-03', '2024-01-04',\n",
       "       '2024-01-05', '2024-01-06', '2024-01-07', '2024-01-08',\n",
       "       '2024-01-09', '2024-01-10', '2024-01-11', '2024-01-12',\n",
       "       '2024-01-13', '2024-01-14', '2024-01-15', '2024-01-16',\n",
       "       '2024-01-17', '2024-01-18', '2024-01-19', '2024-01-20',\n",
       "       '2024-01-21', '2024-01-22', '2024-01-23', '2024-01-24',\n",
       "       '2024-01-25', '2024-01-26', '2024-01-27', '2024-01-28',\n",
       "       '2024-01-29', '2024-01-30', '2024-01-31', '2024-02-01',\n",
       "       '2024-02-02', '2024-02-03', '2024-02-04', '2024-02-05',\n",
       "       '2024-02-06', '2024-02-07', '2024-02-08', '2024-02-09',\n",
       "       '2024-02-10', '2024-02-11', '2024-02-12', '2024-02-13',\n",
       "       '2024-02-14', '2024-02-15', '2024-02-16', '2024-02-17',\n",
       "       '2024-02-18', '2024-02-19', '2024-02-20', '2024-02-21',\n",
       "       '2024-02-22', '2024-02-23', '2024-02-24', '2024-02-25',\n",
       "       '2024-02-26', '2024-02-27', '2024-02-28', '2024-02-29',\n",
       "       '2024-03-01', '2024-03-02', '2024-03-03', '2024-03-04',\n",
       "       '2024-03-05', '2024-03-06', '2024-03-07', '2024-03-08',\n",
       "       '2024-03-09', '2024-03-10', '2024-03-11', '2024-03-12',\n",
       "       '2024-03-13', '2024-03-14', '2024-03-15', '2024-03-16',\n",
       "       '2024-03-17', '2024-03-18', '2024-03-19', '2024-03-20',\n",
       "       '2024-03-21', '2024-03-22', '2024-03-23', '2024-03-24',\n",
       "       '2024-03-25', '2024-03-26', '2024-03-27', '2024-03-28',\n",
       "       '2024-03-29', '2024-03-30', '2024-03-31', '2024-04-01',\n",
       "       '2024-04-02', '2024-04-03', '2024-04-04', '2024-04-05',\n",
       "       '2024-04-06', '2024-04-07', '2024-04-08', '2024-04-09',\n",
       "       '2024-04-10', '2024-04-11', '2024-04-12', '2024-04-13',\n",
       "       '2024-04-14', '2024-04-15', '2024-04-16', '2024-04-17',\n",
       "       '2024-04-18', '2024-04-19', '2024-04-20', '2024-04-21',\n",
       "       '2024-04-22', '2024-04-23', '2024-04-24', '2024-04-25',\n",
       "       '2024-04-26', '2024-04-27', '2024-04-28', '2024-04-29',\n",
       "       '2024-04-30', '2024-05-01', '2024-05-02', '2024-05-03',\n",
       "       '2024-05-04', '2024-05-05', '2024-05-06', '2024-05-07',\n",
       "       '2024-05-08', '2024-05-09', '2024-05-10', '2024-05-11',\n",
       "       '2024-05-12', '2024-05-13', '2024-05-14', '2024-05-15',\n",
       "       '2024-05-16', '2024-05-17', '2024-05-18', '2024-05-19',\n",
       "       '2024-05-20', '2024-05-21', '2024-05-22', '2024-05-23',\n",
       "       '2024-05-24', '2024-05-25', '2024-05-26', '2024-05-27',\n",
       "       '2024-05-28', '2024-05-29', '2024-05-30', '2024-05-31',\n",
       "       '2024-06-01', '2024-06-02', '2024-06-03', '2024-06-04',\n",
       "       '2024-06-05', '2024-06-06', '2024-06-07', '2024-06-08',\n",
       "       '2024-06-09', '2024-06-10', '2024-06-11', '2024-06-12',\n",
       "       '2024-06-13', '2024-06-14', '2024-06-15', '2024-06-16',\n",
       "       '2024-06-17', '2024-06-18', '2024-06-19', '2024-06-20',\n",
       "       '2024-06-21', '2024-06-22', '2024-06-23', '2024-06-24',\n",
       "       '2024-06-25', '2024-06-26', '2024-06-27', '2024-06-28',\n",
       "       '2024-06-29', '2024-06-30', '2024-07-01', '2024-07-02',\n",
       "       '2024-07-03', '2024-07-04', '2024-07-05', '2024-07-06',\n",
       "       '2024-07-07', '2024-07-08', '2024-07-09', '2024-07-10',\n",
       "       '2024-07-11', '2024-07-12', '2024-07-13', '2024-07-14',\n",
       "       '2024-07-15', '2024-07-16', '2024-07-17', '2024-07-18',\n",
       "       '2024-07-19', '2024-07-20', '2024-07-21', '2024-07-22',\n",
       "       '2024-07-23', '2024-07-24', '2024-07-25', '2024-07-26',\n",
       "       '2024-07-27', '2024-07-28', '2024-07-29', '2024-07-30',\n",
       "       '2024-07-31', '2024-08-01', '2024-08-02', '2024-08-03',\n",
       "       '2024-08-04', '2024-08-05', '2024-08-06', '2024-08-07',\n",
       "       '2024-08-08', '2024-08-09', '2024-08-10', '2024-08-11',\n",
       "       '2024-08-12', '2024-08-13', '2024-08-14', '2024-08-15',\n",
       "       '2024-08-16', '2024-08-17', '2024-08-18', '2024-08-19',\n",
       "       '2024-08-20', '2024-08-21', '2024-08-22', '2024-08-23',\n",
       "       '2024-08-24', '2024-08-25', '2024-08-26', '2024-08-27',\n",
       "       '2024-08-28', '2024-08-29', '2024-08-30', '2024-08-31',\n",
       "       '2024-09-01', '2024-09-02', '2024-09-03', '2024-09-04',\n",
       "       '2024-09-05', '2024-09-06', '2024-09-07', '2024-09-08',\n",
       "       '2024-09-09', '2024-09-10', '2024-09-11', '2024-09-12',\n",
       "       '2024-09-13', '2024-09-14', '2024-09-15', '2024-09-16',\n",
       "       '2024-09-17', '2024-09-18', '2024-09-19', '2024-09-20',\n",
       "       '2024-09-21', '2024-09-22', '2024-09-23', '2024-09-24',\n",
       "       '2024-09-25', '2024-09-26', '2024-09-27', '2024-09-28',\n",
       "       '2024-09-29', '2024-09-30', '2024-10-01', '2024-10-02',\n",
       "       '2024-10-03', '2024-10-04', '2024-10-05', '2024-10-06',\n",
       "       '2024-10-07', '2024-10-08', '2024-10-09', '2024-10-10',\n",
       "       '2024-10-11', '2024-10-12', '2024-10-13', '2024-10-14',\n",
       "       '2024-10-15', '2024-10-16', '2024-10-17', '2024-10-18',\n",
       "       '2024-10-19', '2024-10-20', '2024-10-21', '2024-10-22',\n",
       "       '2024-10-23', '2024-10-24', '2024-10-25', '2024-10-26',\n",
       "       '2024-10-27', '2024-10-28', '2024-10-29', '2024-10-30',\n",
       "       '2024-10-31', '2024-11-01', '2024-11-02', '2024-11-03',\n",
       "       '2024-11-04', '2024-11-05', '2024-11-06', '2024-11-07',\n",
       "       '2024-11-08', '2024-11-09', '2024-11-10', '2024-11-11',\n",
       "       '2024-11-12', '2024-11-13', '2024-11-14', '2024-11-15',\n",
       "       '2024-11-16', '2024-11-17', '2024-11-18', '2024-11-19',\n",
       "       '2024-11-20', '2024-11-21', '2024-11-22', '2024-11-23',\n",
       "       '2024-11-24', '2024-11-25', '2024-11-26', '2024-11-27',\n",
       "       '2024-11-28', '2024-11-29', '2024-11-30', '2024-12-01',\n",
       "       '2024-12-02', '2024-12-03', '2024-12-04', '2024-12-05',\n",
       "       '2024-12-06', '2024-12-07', '2024-12-08', '2024-12-09',\n",
       "       '2024-12-10', '2024-12-11', '2024-12-12', '2024-12-13',\n",
       "       '2024-12-14', '2024-12-15', '2024-12-16', '2024-12-17',\n",
       "       '2024-12-18', '2024-12-19', '2024-12-20', '2024-12-21',\n",
       "       '2024-12-22', '2024-12-23', '2024-12-24', '2024-12-25',\n",
       "       '2024-12-26', '2024-12-27', '2024-12-28', '2024-12-29',\n",
       "       '2024-12-30', '2024-12-31'], dtype='datetime64[D]')"
      ]
     },
     "execution_count": 792,
     "metadata": {},
     "output_type": "execute_result"
    }
   ],
   "source": [
    "np.arange('2024-01-01','2025-01-01',dtype=\"datetime64[D]\")"
   ]
  },
  {
   "cell_type": "code",
   "execution_count": 793,
   "id": "06b53a06",
   "metadata": {},
   "outputs": [
    {
     "data": {
      "text/plain": [
       "array([0, 1, 2, 3, 4, 5, 6, 7, 8, 9])"
      ]
     },
     "execution_count": 793,
     "metadata": {},
     "output_type": "execute_result"
    }
   ],
   "source": [
    "arr=np.arange(10)\n",
    "arr"
   ]
  },
  {
   "cell_type": "code",
   "execution_count": 794,
   "id": "f3a6567a",
   "metadata": {},
   "outputs": [],
   "source": [
    "np.random.shuffle(arr)"
   ]
  },
  {
   "cell_type": "code",
   "execution_count": 795,
   "id": "21ae1004",
   "metadata": {},
   "outputs": [
    {
     "data": {
      "text/plain": [
       "array([5, 1, 9, 6, 0, 8, 4, 7, 2, 3])"
      ]
     },
     "execution_count": 795,
     "metadata": {},
     "output_type": "execute_result"
    }
   ],
   "source": [
    "arr"
   ]
  },
  {
   "cell_type": "code",
   "execution_count": 796,
   "id": "77b9e04c",
   "metadata": {},
   "outputs": [
    {
     "data": {
      "text/plain": [
       "array([1, 2, 3, 4, 5])"
      ]
     },
     "execution_count": 796,
     "metadata": {},
     "output_type": "execute_result"
    }
   ],
   "source": [
    "a=np.array([1,2,3,4,5])\n",
    "a"
   ]
  },
  {
   "cell_type": "code",
   "execution_count": 799,
   "id": "c6fedf8c",
   "metadata": {},
   "outputs": [
    {
     "data": {
      "text/plain": [
       "2.0"
      ]
     },
     "execution_count": 799,
     "metadata": {},
     "output_type": "execute_result"
    }
   ],
   "source": [
    "np.percentile(a,25)"
   ]
  },
  {
   "cell_type": "code",
   "execution_count": 800,
   "id": "2f9604d6",
   "metadata": {},
   "outputs": [
    {
     "data": {
      "text/plain": [
       "array([[2, 3],\n",
       "       [4, 5]])"
      ]
     },
     "execution_count": 800,
     "metadata": {},
     "output_type": "execute_result"
    }
   ],
   "source": [
    "arr1=np.array([[2,3],[4,5]])\n",
    "arr1"
   ]
  },
  {
   "cell_type": "code",
   "execution_count": 802,
   "id": "35f29767",
   "metadata": {},
   "outputs": [
    {
     "data": {
      "text/plain": [
       "array([3., 4.])"
      ]
     },
     "execution_count": 802,
     "metadata": {},
     "output_type": "execute_result"
    }
   ],
   "source": [
    "np.percentile(arr1,50,axis=0)"
   ]
  },
  {
   "cell_type": "code",
   "execution_count": 803,
   "id": "7282779c",
   "metadata": {},
   "outputs": [
    {
     "data": {
      "text/plain": [
       "array([2.5, 4.5])"
      ]
     },
     "execution_count": 803,
     "metadata": {},
     "output_type": "execute_result"
    }
   ],
   "source": [
    "np.percentile(arr1,50,axis=1)"
   ]
  },
  {
   "cell_type": "code",
   "execution_count": 804,
   "id": "8bf65ca7",
   "metadata": {},
   "outputs": [
    {
     "data": {
      "text/plain": [
       "array([3.8, 4.8])"
      ]
     },
     "execution_count": 804,
     "metadata": {},
     "output_type": "execute_result"
    }
   ],
   "source": [
    "np.percentile(arr1,90,axis=0)"
   ]
  },
  {
   "cell_type": "code",
   "execution_count": 805,
   "id": "c5aaa417",
   "metadata": {},
   "outputs": [
    {
     "data": {
      "text/plain": [
       "array([2.9, 4.9])"
      ]
     },
     "execution_count": 805,
     "metadata": {},
     "output_type": "execute_result"
    }
   ],
   "source": [
    "np.percentile(arr1,90,axis=1)"
   ]
  },
  {
   "cell_type": "code",
   "execution_count": 56,
   "id": "620ada54",
   "metadata": {},
   "outputs": [
    {
     "data": {
      "text/plain": [
       "array([  1,   2,   3,   4,   6,   6,   7,   8,   1,   9,  15,  20,  10,\n",
       "       100])"
      ]
     },
     "execution_count": 56,
     "metadata": {},
     "output_type": "execute_result"
    }
   ],
   "source": [
    "a=np.array([1,2,3,4,6,6,7,8,1,9,15,20,10,100])\n",
    "a"
   ]
  },
  {
   "cell_type": "code",
   "execution_count": 57,
   "id": "cbc4a4f1",
   "metadata": {},
   "outputs": [
    {
     "data": {
      "text/plain": [
       "array([0, 2, 1, 1, 1, 0, 2, 1, 1, 1, 1, 0, 0, 0, 0, 1, 0, 0, 0, 0, 1, 0,\n",
       "       0, 0, 0, 0, 0, 0, 0, 0, 0, 0, 0, 0, 0, 0, 0, 0, 0, 0, 0, 0, 0, 0,\n",
       "       0, 0, 0, 0, 0, 0, 0, 0, 0, 0, 0, 0, 0, 0, 0, 0, 0, 0, 0, 0, 0, 0,\n",
       "       0, 0, 0, 0, 0, 0, 0, 0, 0, 0, 0, 0, 0, 0, 0, 0, 0, 0, 0, 0, 0, 0,\n",
       "       0, 0, 0, 0, 0, 0, 0, 0, 0, 0, 0, 0, 1], dtype=int64)"
      ]
     },
     "execution_count": 57,
     "metadata": {},
     "output_type": "execute_result"
    }
   ],
   "source": [
    "np.bincount(a)"
   ]
  },
  {
   "cell_type": "code",
   "execution_count": 814,
   "id": "c2a04501",
   "metadata": {},
   "outputs": [],
   "source": [
    "import pickle"
   ]
  },
  {
   "cell_type": "code",
   "execution_count": null,
   "id": "0f7a6448",
   "metadata": {},
   "outputs": [],
   "source": [
    "Protocol version 4 was added in Python 3.4. It adds support for very large objects, \n",
    "pickling more kinds of objects, and some data format optimizations. It is the default protocol starting with Python 3.8. \n",
    "Refer to PEP 3154 for information about improvements brought by protocol 4."
   ]
  },
  {
   "cell_type": "code",
   "execution_count": 815,
   "id": "27f498b7",
   "metadata": {},
   "outputs": [
    {
     "data": {
      "text/plain": [
       "array([100, 200, 300])"
      ]
     },
     "execution_count": 815,
     "metadata": {},
     "output_type": "execute_result"
    }
   ],
   "source": [
    "a=np.array([100,200,300])\n",
    "a"
   ]
  },
  {
   "cell_type": "code",
   "execution_count": 823,
   "id": "a50fc9bf",
   "metadata": {},
   "outputs": [
    {
     "data": {
      "text/plain": [
       "b'\\x80\\x04\\x95\\x94\\x00\\x00\\x00\\x00\\x00\\x00\\x00\\x8c\\x15numpy.core.multiarray\\x94\\x8c\\x0c_reconstruct\\x94\\x93\\x94\\x8c\\x05numpy\\x94\\x8c\\x07ndarray\\x94\\x93\\x94K\\x00\\x85\\x94C\\x01b\\x94\\x87\\x94R\\x94(K\\x01K\\x03\\x85\\x94h\\x03\\x8c\\x05dtype\\x94\\x93\\x94\\x8c\\x02i4\\x94\\x89\\x88\\x87\\x94R\\x94(K\\x03\\x8c\\x01<\\x94NNNJ\\xff\\xff\\xff\\xffJ\\xff\\xff\\xff\\xffK\\x00t\\x94b\\x89C\\x0cd\\x00\\x00\\x00\\xc8\\x00\\x00\\x00,\\x01\\x00\\x00\\x94t\\x94b.'"
      ]
     },
     "execution_count": 823,
     "metadata": {},
     "output_type": "execute_result"
    }
   ],
   "source": [
    "aa=pickle.dumps(a,protocol=4)\n",
    "aa"
   ]
  },
  {
   "cell_type": "code",
   "execution_count": 825,
   "id": "e2f2eb41",
   "metadata": {},
   "outputs": [
    {
     "data": {
      "text/plain": [
       "array([100, 200, 300])"
      ]
     },
     "execution_count": 825,
     "metadata": {},
     "output_type": "execute_result"
    }
   ],
   "source": [
    "pickle.loads(aa)"
   ]
  },
  {
   "cell_type": "code",
   "execution_count": 828,
   "id": "e9da65c0",
   "metadata": {},
   "outputs": [
    {
     "data": {
      "text/plain": [
       "262"
      ]
     },
     "execution_count": 828,
     "metadata": {},
     "output_type": "execute_result"
    }
   ],
   "source": [
    "np.busday_count(\"2024-01-01\",\"2025-01-01\")"
   ]
  },
  {
   "cell_type": "code",
   "execution_count": null,
   "id": "f6c528bb",
   "metadata": {},
   "outputs": [],
   "source": []
  }
 ],
 "metadata": {
  "kernelspec": {
   "display_name": "Python 3 (ipykernel)",
   "language": "python",
   "name": "python3"
  },
  "language_info": {
   "codemirror_mode": {
    "name": "ipython",
    "version": 3
   },
   "file_extension": ".py",
   "mimetype": "text/x-python",
   "name": "python",
   "nbconvert_exporter": "python",
   "pygments_lexer": "ipython3",
   "version": "3.12.4"
  }
 },
 "nbformat": 4,
 "nbformat_minor": 5
}
