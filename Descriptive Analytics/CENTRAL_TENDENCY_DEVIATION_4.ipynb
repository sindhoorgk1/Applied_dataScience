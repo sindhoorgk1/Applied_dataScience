{
 "cells": [
  {
   "cell_type": "code",
   "execution_count": 1,
   "metadata": {},
   "outputs": [
    {
     "name": "stdout",
     "output_type": "stream",
     "text": [
      "   S.No.  MTE (25)  Mini Project (25)  Total (50)  ETE (50)  Total\n",
      "0      1      5.00                 20       25.00      12.0  37.00\n",
      "1      2     11.05                 20       31.05      26.0  57.05\n",
      "2      3      8.10                 20       28.10      14.0  42.10\n",
      "3      4      6.00                 10       16.00      13.0  29.00\n",
      "4      5     11.35                 20       31.35      17.0  48.35\n"
     ]
    }
   ],
   "source": [
    "import pandas as pd\n",
    "import numpy as np\n",
    "df=pd.read_excel('IBM-313 Marks.xlsx')\n",
    "print(df.head())"
   ]
  },
  {
   "cell_type": "code",
   "execution_count": 2,
   "metadata": {},
   "outputs": [
    {
     "data": {
      "text/plain": [
       "(79, 6)"
      ]
     },
     "execution_count": 2,
     "metadata": {},
     "output_type": "execute_result"
    }
   ],
   "source": [
    "df.shape"
   ]
  },
  {
   "cell_type": "code",
   "execution_count": null,
   "metadata": {},
   "outputs": [],
   "source": []
  },
  {
   "cell_type": "code",
   "execution_count": 2,
   "metadata": {},
   "outputs": [
    {
     "name": "stdout",
     "output_type": "stream",
     "text": [
      "Index(['S.No.', 'MTE (25)', 'Mini Project (25)', 'Total (50)', 'ETE (50)',\n",
      "       'Total'],\n",
      "      dtype='object')\n"
     ]
    }
   ],
   "source": [
    "print(df.columns)"
   ]
  },
  {
   "cell_type": "code",
   "execution_count": 3,
   "metadata": {},
   "outputs": [
    {
     "name": "stdout",
     "output_type": "stream",
     "text": [
      "MEAN =  46.90632911392405\n",
      "MEDIAN =  45.0\n"
     ]
    }
   ],
   "source": [
    "print('MEAN = ',np.mean(df['Total']))\n",
    "print('MEDIAN = ',np.median(df['Total']))\n"
   ]
  },
  {
   "cell_type": "code",
   "execution_count": 3,
   "metadata": {},
   "outputs": [
    {
     "name": "stdout",
     "output_type": "stream",
     "text": [
      "MODE =  ModeResult(mode=array([0.]), count=array([2]))\n",
      "Percentile =  39.87\n"
     ]
    }
   ],
   "source": [
    "from scipy import stats\n",
    "x=df['Total']\n",
    "y=np.array(x)\n",
    "print('MODE = ',stats.mode(y))\n",
    "print('Percentile = ',np.percentile(y,30))"
   ]
  },
  {
   "cell_type": "code",
   "execution_count": 5,
   "metadata": {},
   "outputs": [
    {
     "name": "stdout",
     "output_type": "stream",
     "text": [
      "RANGE =  94.5\n"
     ]
    }
   ],
   "source": [
    "range=max(y)-min(y)\n",
    "print(\"RANGE = \",range)"
   ]
  },
  {
   "cell_type": "code",
   "execution_count": 6,
   "metadata": {},
   "outputs": [
    {
     "name": "stdout",
     "output_type": "stream",
     "text": [
      "IQR =  17.375\n",
      "VARIANCE =  262.7814789296587\n"
     ]
    }
   ],
   "source": [
    "Q1 = np.percentile(y,25)\n",
    "Q3 = np.percentile(y,75)\n",
    "print(\"IQR = \",Q3-Q1)\n",
    "print(\"VARIANCE = \",np.var(y))\n"
   ]
  },
  {
   "cell_type": "code",
   "execution_count": 30,
   "metadata": {},
   "outputs": [
    {
     "name": "stdout",
     "output_type": "stream",
     "text": [
      "POPULATION STANDARD DEVIATION =  16.210536046955966\n",
      "SAMPLE STANDARD DEVIATION =  16.31411880088133\n"
     ]
    }
   ],
   "source": [
    "import statistics\n",
    "print(\"POPULATION STANDARD DEVIATION = \",statistics.pstdev(y))\n",
    "print(\"SAMPLE STANDARD DEVIATION = \",statistics.stdev(y))\n"
   ]
  },
  {
   "cell_type": "code",
   "execution_count": 31,
   "metadata": {},
   "outputs": [
    {
     "name": "stdout",
     "output_type": "stream",
     "text": [
      "0.10226407464884266\n"
     ]
    }
   ],
   "source": [
    "from scipy.stats import skew\n",
    "print(skew(y))"
   ]
  },
  {
   "cell_type": "code",
   "execution_count": 34,
   "metadata": {},
   "outputs": [
    {
     "data": {
      "image/png": "[encoded data removed]",
      "text/plain": [
       "<Figure size 432x288 with 1 Axes>"
      ]
     },
     "metadata": {},
     "output_type": "display_data"
    }
   ],
   "source": [
    "from matplotlib import pyplot as plt\n",
    "plt.boxplot(y,sym='*')\n",
    "plt.show()"
   ]
  }
 ],
 "metadata": {
  "kernelspec": {
   "display_name": "Python 3",
   "language": "python",
   "name": "python3"
  },
  "language_info": {
   "codemirror_mode": {
    "name": "ipython",
    "version": 3
   },
   "file_extension": ".py",
   "mimetype": "text/x-python",
   "name": "python",
   "nbconvert_exporter": "python",
   "pygments_lexer": "ipython3",
   "version": "3.8.8"
  }
 },
 "nbformat": 4,
 "nbformat_minor": 2
}
